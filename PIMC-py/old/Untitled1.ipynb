{
 "cells": [
  {
   "cell_type": "markdown",
   "id": "4949bc85",
   "metadata": {},
   "source": [
    "$$\\langle O(x(t_1),...,x(t_n))\\rangle=\\int D[x(t)]\\frac{\\exp\\left(-S[x(t)]\\right)}{Z} O(x(t_1),...,x(t_n))\\approx$$\n",
    "$$\\approx \\int d^Nx P(x) O(x) \\approx \\frac{1}{M}\\sum_{k=1}^M O(X_k)$$\n",
    "\\\\\n",
    "\\\\\n",
    "\\\\\n",
    "\n",
    "$$X_k\\sim P(x) \\qquad P(x)= \\frac{\\exp\\left(-S(x)\\right)}{Z}$$\n",
    "\n",
    "\\\\\n",
    "\\\\\n",
    "$$z\\sim \\mathbb{N}^N(0,1) \\qquad x=g(z) \\qquad x \\sim P(x) $$\n",
    "$$g=A_n\\circ...\\circ A_1$$\n",
    "$$z=u+v$$\n",
    "$$A(u)=u \\qquad [A(v)]_k=e^{-\\theta_{1k}(u)}\\left(v_k-\\theta_{2k}(u)\\right)$$\n",
    "$$\\theta: \\mathbb{R}^{N/2} \\to \\mathbb{R}^N$$\n",
    "\\\\\n",
    "\\\\\n",
    "\n",
    "$$P_g(x)=r(z)\\left|det\\frac{\\partial g}{\\partial z}\\right|^{-1} \\qquad z=g^{-1}(x) \\qquad r(z)=\\frac{1}{(2\\pi)^{N/2}}\\exp\\left(-\\frac12 z^2\\right)$$\n",
    "$$L[w]=D_{KL}(P_g|P)-\\ln Z=\\int dx P_g(x)\\left(\\ln P_g(x)+S(x)\\right)=\\frac{1}{M}\\sum_{i=1}^{M} \\left(S(x_i)+\\ln P_g(x_i)\\right)$$\n",
    "$$L[w]=\\frac{1}{M}\\sum_{i=1}^{M} \\left(S(g(z_i))-\\ln \\left|\\det\\frac{\\partial g}{\\partial z}\\right|\\right)+const$$\n",
    "\n",
    "\n",
    "\n",
    "\n",
    "$$G(s)=\\frac{1}{N}\\sum_{i=1}^N\\langle x_{i}x_{i+s}\\rangle$$\n",
    "\n",
    "\n",
    "$$H=\\frac{p^2}{2}+V(x)$$\n",
    "$$S(x)=\\sum_{k=1}^{N} \\frac{(x_{k+1}-x_k)^2}{2a}+aV(x_k)$$\n",
    "$$V(x)=\\frac{x^2}{2} \\qquad S(x)=\\frac{1}{2a}\\sum_{k=1}^N \\left( (2+a^2)x_{k}^2-2x_kx_{k+1} \\right)=\\frac{1}{2}(Ax,x) $$\n",
    "$$L(w)=\\frac12<(Awz,wz)>-\\ln\\det w=\\frac12tr\\left(w^TAw\\right)-\\ln|\\det w|$$\n",
    "$$DL[w]=O(N^3)$$\n",
    "$$g(z)=wz \\qquad \\nabla_w L=Aw-(w^T)^{-1} \\qquad w=On$$\n",
    "\n",
    "\\\\\n",
    "\n",
    "\n",
    "$$H=\\sqrt{p^2+m^2}+\\frac{m\\omega^2x^2}{2}$$\n",
    "$$S(x)=\\sum_{i=1}^N \\left\\{ \\ln \\left( \\frac{y_i}{K_1(ma y_i)} \\right) + a\\frac{m\\omega^2 x_i^2}{2} \\right\\}, \\qquad  y_i=\\sqrt{1+\\frac{(x_{i+1}-x_i)^2}{a^2}}$$\n",
    "$$H=|p|+\\frac{x^2}{2}$$\n",
    "$$S(x)=\\sum_{i=1}^N \\left\\{ \\ln \\left( 1+\\frac{(x_{i+1}-x_i)^2}{a^2} \\right) + a\\frac{x_i^2}{2} \\right\\}$$\n",
    "\n",
    "\\\\"
   ]
  },
  {
   "cell_type": "markdown",
   "id": "eb126306",
   "metadata": {},
   "source": [
    "$$\\theta(u)$$"
   ]
  },
  {
   "cell_type": "markdown",
   "id": "b44fb9ab",
   "metadata": {},
   "source": [
    "$$[A(v)]_k=e^{\\theta_{1k}(u)}v_k+\\theta_{2k}(u)$$\n",
    "$$  $$\n",
    "$$z\\sim\\mathcal{N}^{N}(0,1)$$\n",
    "$$  $$\n",
    "$$  $$\n",
    "$$x\\sim P(x)$$"
   ]
  },
  {
   "cell_type": "markdown",
   "id": "34e7aa49",
   "metadata": {},
   "source": [
    "$$v$$\n",
    "$$  $$\n",
    "$$  $$\n",
    "$$u$$\n",
    "$$z$$\n",
    "$$x$$"
   ]
  },
  {
   "cell_type": "markdown",
   "id": "28ee1ae5",
   "metadata": {},
   "source": [
    "$$y=g(z)$$\n",
    "$$x=Oy$$"
   ]
  },
  {
   "cell_type": "markdown",
   "id": "9fb0a589",
   "metadata": {},
   "source": [
    "$${ x\\sim P_g(x)\\approx P(x)}$$"
   ]
  },
  {
   "cell_type": "markdown",
   "id": "a5148d9b",
   "metadata": {},
   "source": [
    "$$x=g(z)$$"
   ]
  },
  {
   "cell_type": "markdown",
   "id": "3362f6a0",
   "metadata": {},
   "source": [
    "$$z=g^{-1}(x)$$"
   ]
  },
  {
   "cell_type": "markdown",
   "id": "d0ba13a2",
   "metadata": {},
   "source": [
    "$$\\mathcal{A}^{(1)}(z,\\theta)$$\n",
    "\n",
    "\n",
    "\n",
    "\n",
    "\n",
    "$$\\mathcal{A}^{(i)}(z,\\theta^{(i)})$$\n",
    "\n",
    "\n",
    "\n",
    "$$\\mathcal{A}^{(i+1)}(z,\\theta^{(i+1)})$$\n",
    "\n",
    "\n",
    "\n",
    "$$\\mathcal{A}^{(n)}(z,\\theta^{(n)})$$"
   ]
  },
  {
   "cell_type": "code",
   "execution_count": null,
   "id": "30f75b14",
   "metadata": {},
   "outputs": [],
   "source": []
  }
 ],
 "metadata": {
  "kernelspec": {
   "display_name": "Python 3 (ipykernel)",
   "language": "python",
   "name": "python3"
  },
  "language_info": {
   "codemirror_mode": {
    "name": "ipython",
    "version": 3
   },
   "file_extension": ".py",
   "mimetype": "text/x-python",
   "name": "python",
   "nbconvert_exporter": "python",
   "pygments_lexer": "ipython3",
   "version": "3.11.5"
  }
 },
 "nbformat": 4,
 "nbformat_minor": 5
}
