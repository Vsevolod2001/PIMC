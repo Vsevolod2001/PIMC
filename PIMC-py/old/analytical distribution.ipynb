{
 "cells": [
  {
   "cell_type": "code",
   "execution_count": 14,
   "metadata": {},
   "outputs": [
    {
     "name": "stdout",
     "output_type": "stream",
     "text": [
      "[-0.09137666  1.42318661  1.20800507  0.71809139  0.17649006  0.53973231\n",
      "  0.1879568  -0.49045273 -1.0547295  -0.65858642  0.62059186  0.10900059\n",
      "  0.04316483 -0.31660735 -1.14435718 -0.8346845   0.00185136 -0.92786133\n",
      " -0.61160825 -0.52873357  0.17680064  0.84832197 -0.07549123 -0.21238856\n",
      " -0.44319591 -0.35314604  0.14692653  0.22867844 -0.02773837 -0.7104891\n",
      " -0.26843456  0.10148368  0.88536313  1.37264699  0.51988412 -0.48687896\n",
      " -0.93663714 -0.72972766 -0.36191673 -0.21198455 -0.224151    0.33154164\n",
      "  0.45590345 -0.14304122 -0.85046276 -0.06709191  0.07063856 -0.20003305\n",
      "  0.27037479 -0.38411883]\n"
     ]
    }
   ],
   "source": [
    "import numpy as np\n",
    "from constants import N_nod,a\n",
    "\n",
    "N=N_nod\n",
    "O=np.zeros((N,N))\n",
    "for k in range(N):\n",
    "    O[k][0]=1\n",
    "Smax=(N-1-int(N%2==0))//2    \n",
    "for s in range(1,Smax+1):\n",
    "    for k in range(N):\n",
    "        O[k][2*s-1]=(2**0.5)*np.cos(2*np.pi*s*k/N)\n",
    "        O[k][2*s]=(2**0.5)*np.sin(2*np.pi*s*k/N)\n",
    "if N%2==0:\n",
    "    for k in range(N):\n",
    "        O[k][N-1]=(-1)**k\n",
    "O=O / (N ** 0.5)\n",
    "\n",
    "n=[0]*N\n",
    "n[0]=(1/a)**0.5\n",
    "for s in range(1,Smax+1):\n",
    "    ev=4 * np.sin(np.pi*s/N) ** 2+a**2\n",
    "    f=(a/ev)**0.5\n",
    "    n[2*s-1]=f\n",
    "    n[2*s]=f\n",
    "\n",
    "if N%2==0:\n",
    "    n[N-1]=(a/(4+a**2))**0.5\n",
    "diag_mat=np.diag(n)\n",
    "            \n",
    "y=np.random.normal(size=(N_nod))\n",
    "y1=np.dot(diag_mat,y)\n",
    "x=np.dot(O,y1)\n",
    "print(x)\n",
    "\n"
   ]
  },
  {
   "cell_type": "code",
   "execution_count": 21,
   "metadata": {},
   "outputs": [
    {
     "name": "stdout",
     "output_type": "stream",
     "text": [
      "0.5000453994912311\n",
      "1.0000907989824621\n"
     ]
    }
   ],
   "source": [
    "import numpy as np\n",
    "def M(beta,N):\n",
    "    M=0\n",
    "    for k in range(N):\n",
    "        M+=(beta+(4 * N**2 / beta) * (np.sin(np.pi*k/N)) ** 2 ) ** (-1)\n",
    "    return M    \n",
    "def D(beta,N):\n",
    "    D=0\n",
    "    for k in range(N):\n",
    "        D+=(beta+(4 * N**2 / beta) * (np.sin(np.pi*k/N)) ** 2 ) ** (-1)\n",
    "    return 2*D\n",
    "print(M(10,50000))\n",
    "print(D(10,50000))\n",
    "                "
   ]
  },
  {
   "cell_type": "code",
   "execution_count": null,
   "metadata": {
    "collapsed": true
   },
   "outputs": [],
   "source": []
  }
 ],
 "metadata": {
  "kernelspec": {
   "display_name": "Python 3",
   "language": "python",
   "name": "python3"
  },
  "language_info": {
   "codemirror_mode": {
    "name": "ipython",
    "version": 3
   },
   "file_extension": ".py",
   "mimetype": "text/x-python",
   "name": "python",
   "nbconvert_exporter": "python",
   "pygments_lexer": "ipython3",
   "version": "3.6.2"
  }
 },
 "nbformat": 4,
 "nbformat_minor": 2
}
