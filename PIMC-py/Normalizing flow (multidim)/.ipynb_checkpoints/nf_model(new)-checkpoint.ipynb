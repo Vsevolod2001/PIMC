{
 "cells": [
  {
   "cell_type": "code",
   "execution_count": 2,
   "id": "dbee9da4",
   "metadata": {
    "execution": {
     "iopub.execute_input": "2024-03-11T19:21:17.735841Z",
     "iopub.status.busy": "2024-03-11T19:21:17.734936Z",
     "iopub.status.idle": "2024-03-11T19:21:17.755190Z",
     "shell.execute_reply": "2024-03-11T19:21:17.753947Z",
     "shell.execute_reply.started": "2024-03-11T19:21:17.735788Z"
    },
    "tags": []
   },
   "outputs": [],
   "source": [
    "from typing import Callable, List, Tuple\n",
    "\n",
    "import pytorch_lightning as pl\n",
    "import torch\n",
    "import torch.nn.functional as F\n",
    "from torch import nn\n",
    "from torch.distributions.distribution import Distribution\n",
    "from pytorch_lightning.loggers import TensorBoardLogger\n",
    "device = torch.device(\"cuda\" if torch.cuda.is_available() else \"cpu\")"
   ]
  },
  {
   "cell_type": "code",
   "execution_count": 3,
   "id": "c93eb4f7",
   "metadata": {
    "execution": {
     "iopub.execute_input": "2024-03-11T19:21:17.758915Z",
     "iopub.status.busy": "2024-03-11T19:21:17.758104Z",
     "iopub.status.idle": "2024-03-11T19:21:18.379295Z",
     "shell.execute_reply": "2024-03-11T19:21:18.377975Z",
     "shell.execute_reply.started": "2024-03-11T19:21:17.758843Z"
    },
    "tags": []
   },
   "outputs": [
    {
     "name": "stdout",
     "output_type": "stream",
     "text": [
      "False\n"
     ]
    }
   ],
   "source": [
    "from NFconstants import N_nod, beta, N_latent, a\n",
    "from NFandist import get_O\n",
    "from NFandist import get_diag\n",
    "from NFandist import get_C\n",
    "\n",
    "def set_random_seed(seed):\n",
    "    torch.manual_seed(seed)\n",
    "O=(torch.tensor(get_O(N_nod)).float()).to(device)\n",
    "Ot=(torch.t(O)).to(device)\n",
    "print(Ot.requires_grad)\n",
    "\n",
    "\n",
    "C=(torch.tensor(get_C(N_nod,beta)).float()).to(device)\n",
    "Ct=(torch.t(C)).to(device)\n",
    "\n",
    "\n"
   ]
  },
  {
   "cell_type": "code",
   "execution_count": 4,
   "id": "b66bc606",
   "metadata": {
    "execution": {
     "iopub.execute_input": "2024-03-11T19:21:18.382851Z",
     "iopub.status.busy": "2024-03-11T19:21:18.381173Z",
     "iopub.status.idle": "2024-03-11T19:21:18.408180Z",
     "shell.execute_reply": "2024-03-11T19:21:18.406815Z",
     "shell.execute_reply.started": "2024-03-11T19:21:18.382792Z"
    },
    "tags": []
   },
   "outputs": [],
   "source": [
    "class AffineCouplingLayer(nn.Module):\n",
    "    def __init__(\n",
    "        self,\n",
    "        theta: nn.Module,\n",
    "        split: Callable[[torch.Tensor], Tuple[torch.Tensor, torch.Tensor]],\n",
    "        swap: int\n",
    "    ):\n",
    "        super().__init__()\n",
    "        self.theta = theta\n",
    "        self.split = split\n",
    "        self.swap=swap\n",
    "\n",
    "    def g(self, z: torch.Tensor) -> torch.Tensor:\n",
    "        \"\"\"g : z -> x. The inverse of f.\"\"\"\n",
    "        z1, z2 = self.split(z,self.swap)\n",
    "        t, s = self.theta(z1)\n",
    "        x1, x2 = z1, z2 * torch.exp(s) + t\n",
    "        log_det = s.sum(-1) \n",
    "        return torch.cat((x2, x1), dim=-1), log_det\n",
    "    \n",
    "    def f(self, x: torch.Tensor) -> torch.Tensor:\n",
    "        \"\"\"f : x -> z. The inverse of g.\"\"\"\n",
    "        x2, x1 = self.split(x,self.swap)\n",
    "        t, s = self.theta(x1)\n",
    "        z1, z2 = x1, x2 * torch.exp(s) + t \n",
    "        log_det = s.sum(-1) \n",
    "        return torch.cat((z1, z2), dim=-1), log_det"
   ]
  },
  {
   "cell_type": "code",
   "execution_count": 11,
   "id": "b1cd446d-335e-4ccd-9953-e90b514502f0",
   "metadata": {
    "execution": {
     "iopub.execute_input": "2024-03-11T19:23:43.288418Z",
     "iopub.status.busy": "2024-03-11T19:23:43.287389Z",
     "iopub.status.idle": "2024-03-11T19:23:43.306146Z",
     "shell.execute_reply": "2024-03-11T19:23:43.305186Z",
     "shell.execute_reply.started": "2024-03-11T19:23:43.288377Z"
    },
    "tags": []
   },
   "outputs": [
    {
     "name": "stdout",
     "output_type": "stream",
     "text": [
      "[0, 1, 4, 5, 8, 9, 12, 13, 16, 17, 20, 21, 24, 25, 28, 29, 32, 33, 36, 37, 40, 41, 44, 45, 48, 49, 52, 53, 56, 57, 60, 61] [4, 5, 8, 9, 12, 13, 2, 3] [2, 3, 6, 7, 10, 11, 14, 15, 18, 19, 22, 23, 26, 27, 30, 31, 34, 35, 38, 39, 42, 43, 46, 47, 50, 51, 54, 55, 58, 59, 62, 63]\n"
     ]
    }
   ],
   "source": [
    "IND1=[]\n",
    "IND2=[]\n",
    "for i in range(N_nod):\n",
    "    if i%4<2:\n",
    "        IND1.append(i)\n",
    "    else:\n",
    "        IND2.append(i)\n",
    "ind1=[]\n",
    "ind2=[]\n",
    "ind3=[]\n",
    "ind4=[]\n",
    "for i in range(8):\n",
    "    if i%4<2:\n",
    "        ind1.append(IND1[i])\n",
    "    else:\n",
    "        ind2.append(IND1[i])\n",
    "for i in range(8):\n",
    "    if i%4<2:\n",
    "        ind3.append(IND2[i])\n",
    "    else:\n",
    "        ind4.append(IND2[i])        \n",
    "\n",
    "Mask1=IND1\n",
    "Mask2=ind2+ind3\n",
    "Mask3=IND2\n",
    "print(Mask1,Mask2,Mask3)"
   ]
  },
  {
   "cell_type": "code",
   "execution_count": 6,
   "id": "f17f095c",
   "metadata": {
    "execution": {
     "iopub.execute_input": "2024-03-11T19:21:18.456294Z",
     "iopub.status.busy": "2024-03-11T19:21:18.455380Z",
     "iopub.status.idle": "2024-03-11T19:21:18.480967Z",
     "shell.execute_reply": "2024-03-11T19:21:18.480068Z",
     "shell.execute_reply.started": "2024-03-11T19:21:18.456221Z"
    },
    "tags": []
   },
   "outputs": [
    {
     "data": {
      "text/plain": [
       "'\\n    def g_steps(self, z: torch.Tensor) -> List[torch.Tensor]:\\n        Maps latent variable z to observation x\\n        and stores intermediate results.\\n        \\n        xs = [z]\\n        for flow in reversed(self.flows):\\n            xs.append(flow.g(xs[-1]))\\n        return xs\\n\\n    \\n    def latent_log_prob(self, z: torch.Tensor) -> torch.Tensor:\\n        llp=self.latent.log_prob(z)\\n        sum_llp= torch.sum(llp,axis=-1)\\n        return sum_llp\\n \\n    \\n    def f(self, x: torch.Tensor) -> Tuple[torch.Tensor, torch.Tensor]:  #forward\\n        Maps observation x to latent variable z.\\n        Additionally, computes the log determinant\\n        of the Jacobian for this transformation.\\n        Inveres of g.\\n        \\n        z, sum_log_abs_det = x, torch.ones(x.size(0)).to(x.device)\\n        for flow in self.flows:\\n            z, log_abs_det = flow.f(z)\\n            sum_log_abs_det += log_abs_det\\n\\n        return z, sum_log_abs_det\\n'"
      ]
     },
     "execution_count": 6,
     "metadata": {},
     "output_type": "execute_result"
    }
   ],
   "source": [
    "class NormalizingFlow(nn.Module):\n",
    "    \n",
    "    def __init__(self, latent: Distribution, flows: List[nn.Module], ort=False):\n",
    "        super().__init__()\n",
    "        self.latent = latent\n",
    "        self.flows = flows\n",
    "        self.ort = ort\n",
    "\n",
    "    def latent_sample(self, num_samples: int = 1) -> torch.Tensor:\n",
    "        z=self.latent.sample((num_samples,))\n",
    "        return z        \n",
    "\n",
    "    def sample(self, num_samples: int = 1) -> torch.Tensor:\n",
    "        \"\"\"Sample a new observation x by sampling z from\n",
    "        the latent distribution and pass through g.\"\"\"\n",
    "        z=(self.latent_sample(num_samples))\n",
    "        with torch.no_grad():\n",
    "            x, _ = self.g(z)\n",
    "        return x \n",
    "    \n",
    "\n",
    "    def g(self, z: torch.Tensor) -> torch.Tensor:\n",
    "        \n",
    "        #x, sum_log_abs_det = z, torch.ones(z.size(0)).to(z.device)\n",
    "        x, sum_log_abs_det = z, torch.zeros(z.size(0)).to(z.device)\n",
    "        n_flows=len(self.flows)\n",
    "        y=(x[:,Mask1])\n",
    "        for flow in self.flows[:n_flows//3]:\n",
    "            y, log_abs_det = flow.g(y)\n",
    "            sum_log_abs_det += log_abs_det\n",
    "        x[:,Mask1]=y\n",
    "        y=(x[:,Mask2])\n",
    "        for flow in self.flows[n_flows//3:2*n_flows//3]:\n",
    "            y, log_abs_det = flow.g(y)\n",
    "            sum_log_abs_det += log_abs_det   \n",
    "        x[:,Mask2]=y\n",
    "        y=(x[:,Mask3])    \n",
    "        for flow in self.flows[2*n_flows//3:]:\n",
    "            y, log_abs_det = flow.g(y)\n",
    "            sum_log_abs_det += log_abs_det\n",
    "        x[:,Mask3]=y    \n",
    "        x=torch.matmul(x,Ot.to(x.device))\n",
    "         \n",
    "        return x, sum_log_abs_det\n",
    "    \n",
    "        \n",
    "    def __len__(self) -> int:\n",
    "        return len(self.flows)\n",
    "    \n",
    " \n",
    "\"\"\"\n",
    "    def g_steps(self, z: torch.Tensor) -> List[torch.Tensor]:\n",
    "        Maps latent variable z to observation x\n",
    "        and stores intermediate results.\n",
    "        \n",
    "        xs = [z]\n",
    "        for flow in reversed(self.flows):\n",
    "            xs.append(flow.g(xs[-1]))\n",
    "        return xs\n",
    "\n",
    "    \n",
    "    def latent_log_prob(self, z: torch.Tensor) -> torch.Tensor:\n",
    "        llp=self.latent.log_prob(z)\n",
    "        sum_llp= torch.sum(llp,axis=-1)\n",
    "        return sum_llp\n",
    " \n",
    "    \n",
    "    def f(self, x: torch.Tensor) -> Tuple[torch.Tensor, torch.Tensor]:  #forward\n",
    "        Maps observation x to latent variable z.\n",
    "        Additionally, computes the log determinant\n",
    "        of the Jacobian for this transformation.\n",
    "        Inveres of g.\n",
    "        \n",
    "        z, sum_log_abs_det = x, torch.ones(x.size(0)).to(x.device)\n",
    "        for flow in self.flows:\n",
    "            z, log_abs_det = flow.f(z)\n",
    "            sum_log_abs_det += log_abs_det\n",
    "\n",
    "        return z, sum_log_abs_det\n",
    "\"\"\"\n",
    "    "
   ]
  },
  {
   "cell_type": "code",
   "execution_count": 7,
   "id": "8b1ec3b4",
   "metadata": {
    "execution": {
     "iopub.execute_input": "2024-03-11T16:52:56.501177Z",
     "iopub.status.busy": "2024-03-11T16:52:56.500272Z",
     "iopub.status.idle": "2024-03-11T16:52:56.519229Z",
     "shell.execute_reply": "2024-03-11T16:52:56.518253Z",
     "shell.execute_reply.started": "2024-03-11T16:52:56.501118Z"
    },
    "tags": []
   },
   "outputs": [],
   "source": [
    "class ThetaNetwork(nn.Module):\n",
    "    def __init__(\n",
    "        self,\n",
    "        in_dim: int,\n",
    "        out_dim: int,\n",
    "        num_hidden: int,\n",
    "        hidden_dim: int,\n",
    "        num_params: int,\n",
    "        p_drop: float,\n",
    "    ):\n",
    "        super().__init__()\n",
    "        self.input = nn.Linear(in_dim, hidden_dim)\n",
    "        self.hidden = nn.ModuleList(\n",
    "            [nn.Sequential(\n",
    "                nn.Linear(hidden_dim, hidden_dim),\n",
    "                nn.Dropout(p=p_drop),\n",
    "                nn.LayerNorm(hidden_dim)\n",
    "            ) for _ in range(num_hidden)]\n",
    "        )\n",
    "\n",
    "        self.num_params = num_params\n",
    "        self.out_dim = out_dim\n",
    "        self.dims = nn.Linear(hidden_dim, out_dim * num_params)\n",
    "\n",
    "    def forward(self, x: torch.Tensor) -> torch.Tensor:\n",
    "        x = F.leaky_relu(self.input(x),negative_slope=0.01)\n",
    "        for h in self.hidden:\n",
    "            x = F.leaky_relu(h(x),negative_slope=0.01)\n",
    "\n",
    "        batch_params = self.dims(x).reshape(x.size(0), self.out_dim, -1) \n",
    "        params = batch_params.chunk(self.num_params, dim=-1) \n",
    "        return [p.squeeze(-1) for p in params]\n",
    "    "
   ]
  },
  {
   "cell_type": "code",
   "execution_count": 8,
   "id": "dc7f0bed",
   "metadata": {
    "execution": {
     "iopub.execute_input": "2024-03-11T16:52:56.522630Z",
     "iopub.status.busy": "2024-03-11T16:52:56.521757Z",
     "iopub.status.idle": "2024-03-11T16:52:56.537805Z",
     "shell.execute_reply": "2024-03-11T16:52:56.536723Z",
     "shell.execute_reply.started": "2024-03-11T16:52:56.522574Z"
    },
    "tags": []
   },
   "outputs": [],
   "source": [
    "def SplitFunc(x: torch.Tensor,swap: int) -> Tuple[torch.Tensor, torch.Tensor]:\n",
    "    if swap==0:\n",
    "        return x[:,::2], x[:,1::2]\n",
    "    else: \n",
    "        return x[:,1::2], x[:,::2] "
   ]
  },
  {
   "cell_type": "code",
   "execution_count": 9,
   "id": "7f71825a-6aed-44d3-8d61-b49b3c9cff11",
   "metadata": {
    "execution": {
     "iopub.execute_input": "2024-03-11T16:52:56.539966Z",
     "iopub.status.busy": "2024-03-11T16:52:56.539258Z",
     "iopub.status.idle": "2024-03-11T16:52:56.593038Z",
     "shell.execute_reply": "2024-03-11T16:52:56.591938Z",
     "shell.execute_reply.started": "2024-03-11T16:52:56.539912Z"
    },
    "tags": []
   },
   "outputs": [],
   "source": [
    "I=torch.arange(8)\n",
    "i0=I[::4]\n",
    "i1=I[1::4]\n",
    "i2=I[2::4]\n",
    "i3=I[3::4]\n",
    "mask1=torch.cat((i0,i1))\n",
    "mask2=torch.cat((i2,i3))\n",
    "\n",
    "def pair_SplitFunc(x: torch.Tensor,swap: int) -> Tuple[torch.Tensor, torch.Tensor]:\n",
    "    if swap==0:\n",
    "        return x[:,mask1], x[:,mask2]\n",
    "    else: \n",
    "        return x[:,mask2], x[:,mask1] "
   ]
  },
  {
   "cell_type": "code",
   "execution_count": 19,
   "id": "9586f025",
   "metadata": {
    "execution": {
     "iopub.execute_input": "2024-03-11T16:55:32.395651Z",
     "iopub.status.busy": "2024-03-11T16:55:32.394540Z",
     "iopub.status.idle": "2024-03-11T16:55:32.412127Z",
     "shell.execute_reply": "2024-03-11T16:55:32.410987Z",
     "shell.execute_reply.started": "2024-03-11T16:55:32.395577Z"
    },
    "tags": []
   },
   "outputs": [
    {
     "name": "stdout",
     "output_type": "stream",
     "text": [
      "start\n",
      "Normal(loc: torch.Size([16]), scale: torch.Size([16]))\n"
     ]
    }
   ],
   "source": [
    "print(\"start\")\n",
    "from Data import normal_dist\n",
    "\n",
    "def configure_theta():\n",
    "    theta=ThetaNetwork(\n",
    "                in_dim = 4,\n",
    "                out_dim = 4,\n",
    "                num_hidden = 12,  #2 to 6\n",
    "                hidden_dim = 100 , #100-1024\n",
    "                num_params = 2,\n",
    "                p_drop=0.0,\n",
    "    )\n",
    "    return theta\n",
    "\n",
    "def configure_flows(n_flows):  # n_flows=8,...,12\n",
    "    flows=[]\n",
    "    \n",
    "    for k in range(n_flows):\n",
    "        flows.append(AffineCouplingLayer(configure_theta(),split=pair_SplitFunc,swap=k%2))\n",
    "    \n",
    "    flows = nn.ModuleList(flows)\n",
    "    return flows \n",
    "\n",
    "print(normal_dist)\n",
    "\n",
    "                  "
   ]
  },
  {
   "cell_type": "code",
   "execution_count": 20,
   "id": "5401fb59",
   "metadata": {
    "execution": {
     "iopub.execute_input": "2024-03-11T16:55:33.284796Z",
     "iopub.status.busy": "2024-03-11T16:55:33.283890Z",
     "iopub.status.idle": "2024-03-11T16:55:33.300968Z",
     "shell.execute_reply": "2024-03-11T16:55:33.299833Z",
     "shell.execute_reply.started": "2024-03-11T16:55:33.284745Z"
    },
    "tags": []
   },
   "outputs": [],
   "source": [
    "class Pipeline(pl.LightningModule):\n",
    "    def __init__(\n",
    "        self,\n",
    "        model,\n",
    "        criterion,\n",
    "        optimizer_class=torch.optim.Adam,\n",
    "        optimizer_kwargs={\"lr\": 0.001,\"weight_decay\": 0}\n",
    "    ) -> None:\n",
    "        super().__init__()\n",
    "        self.model = model\n",
    "        self.loss = criterion\n",
    "        self.optimizer_class = optimizer_class\n",
    "        self.optimizer_kwargs = optimizer_kwargs\n",
    "\n",
    "\n",
    "    def configure_optimizers(self):\n",
    "        optimizer = self.optimizer_class(\n",
    "            self.model.parameters(), **self.optimizer_kwargs\n",
    "        )\n",
    "        return optimizer\n",
    "\n",
    "    def training_step(self, batch, batch_idx):\n",
    "        z = batch\n",
    "        x, log_abs_det = self.model.g(z)\n",
    "        loss = self.loss(x,log_abs_det)\n",
    "        self.log('train_loss', loss, prog_bar=True)\n",
    "        return loss\n",
    "\n",
    "\n",
    "    def on_train_epoch_end(self):\n",
    "        #print(\"---------------------------end epoch---------------------------------\")\n",
    "        pass\n",
    "    \n",
    "    def on_validation_end(self) -> None:\n",
    "        if not self.automatic_optimization:\n",
    "            # Save a checkpoint of the model\n",
    "            ckpt_path = os.path.join(self.trainer.log_dir, 'checkpoints', 'ckpt.pt')\n",
    "            self.trainer.save_checkpoint(ckpt_path, weights_only=True)\n",
    "        return super().on_validation_end()\n",
    "    \n",
    "    "
   ]
  },
  {
   "cell_type": "code",
   "execution_count": 21,
   "id": "3857c540-6428-46f4-ac0a-31aa76f83ad2",
   "metadata": {
    "execution": {
     "iopub.execute_input": "2024-03-11T16:55:34.133693Z",
     "iopub.status.busy": "2024-03-11T16:55:34.132796Z",
     "iopub.status.idle": "2024-03-11T16:55:34.150049Z",
     "shell.execute_reply": "2024-03-11T16:55:34.148744Z",
     "shell.execute_reply.started": "2024-03-11T16:55:34.133650Z"
    },
    "tags": []
   },
   "outputs": [],
   "source": [
    "from NFoscillator import Oscillator\n",
    "from NFrel_oscillator import Rel_Oscillator\n",
    "from NFur_oscillator import Ur_Oscillator\n",
    "osc=Oscillator()\n",
    "KL_osc=osc.get_KL()\n",
    "KL_mat_osc=osc.get_mat_KL()\n",
    "KL_rel001=Rel_Oscillator.make_KL(Rel_Oscillator,sigma=0.01)\n",
    "KL_rel01=Rel_Oscillator.make_KL(Rel_Oscillator,sigma=0.1)\n",
    "KL_rel1=Rel_Oscillator.make_KL(Rel_Oscillator,sigma=1)\n",
    "KL_ur=Ur_Oscillator.make_KL(Ur_Oscillator)\n"
   ]
  },
  {
   "cell_type": "code",
   "execution_count": 22,
   "id": "d1693e23-2c19-43b6-b2d9-5ebf786889df",
   "metadata": {
    "execution": {
     "iopub.execute_input": "2024-03-11T16:55:34.901562Z",
     "iopub.status.busy": "2024-03-11T16:55:34.900593Z",
     "iopub.status.idle": "2024-03-11T16:55:36.050271Z",
     "shell.execute_reply": "2024-03-11T16:55:36.048836Z",
     "shell.execute_reply.started": "2024-03-11T16:55:34.901508Z"
    },
    "tags": []
   },
   "outputs": [
    {
     "name": "stdout",
     "output_type": "stream",
     "text": [
      "(tensor([[-2.6993,  0.2716, -2.9270,  ...,  0.7314, -0.2780,  0.9773],\n",
      "        [-0.4254, -0.7636, -1.9717,  ..., -3.0003, -3.3819,  0.7877],\n",
      "        [ 0.4572, -0.5079, -2.2551,  ...,  2.1104, -1.2192,  0.4178],\n",
      "        ...,\n",
      "        [-1.2103,  0.1873,  0.0581,  ..., -0.4748, -2.7739, -3.4081],\n",
      "        [-2.2472, -0.3288,  0.7097,  ...,  0.0610,  1.5305,  2.4570],\n",
      "        [ 1.5979, -0.9304, -2.2038,  ..., -0.3809, -2.6966,  0.5666]],\n",
      "       grad_fn=<MmBackward0>), tensor([0.8512, 1.4610, 0.7561,  ..., 0.8672, 1.8678, 0.4395],\n",
      "       grad_fn=<AddBackward0>))\n"
     ]
    }
   ],
   "source": [
    "from Data import train_loader\n",
    "batch=next(iter(train_loader))\n",
    "set_random_seed(42)\n",
    "\n",
    "nf=NormalizingFlow(latent=normal_dist,flows=configure_flows(18),ort=True)\n",
    "x=nf.g(batch)\n",
    "print(x)"
   ]
  },
  {
   "cell_type": "code",
   "execution_count": 23,
   "id": "558e4bef",
   "metadata": {
    "execution": {
     "iopub.execute_input": "2024-03-11T16:55:36.843299Z",
     "iopub.status.busy": "2024-03-11T16:55:36.842398Z",
     "iopub.status.idle": "2024-03-11T16:56:38.747047Z",
     "shell.execute_reply": "2024-03-11T16:56:38.745183Z",
     "shell.execute_reply.started": "2024-03-11T16:55:36.843222Z"
    },
    "tags": []
   },
   "outputs": [
    {
     "name": "stderr",
     "output_type": "stream",
     "text": [
      "GPU available: True (cuda), used: True\n",
      "TPU available: False, using: 0 TPU cores\n",
      "IPU available: False, using: 0 IPUs\n",
      "HPU available: False, using: 0 HPUs\n",
      "LOCAL_RANK: 0 - CUDA_VISIBLE_DEVICES: [0]\n",
      "\n",
      "  | Name  | Type            | Params\n",
      "------------------------------------------\n",
      "0 | model | NormalizingFlow | 3.0 M \n",
      "1 | loss  | KL_with_S       | 0     \n",
      "------------------------------------------\n",
      "3.0 M     Trainable params\n",
      "0         Non-trainable params\n",
      "3.0 M     Total params\n",
      "11.991    Total estimated model params size (MB)\n"
     ]
    },
    {
     "data": {
      "application/vnd.jupyter.widget-view+json": {
       "model_id": "27d75294bfd14ab7bb5f0b2fc87b5cee",
       "version_major": 2,
       "version_minor": 0
      },
      "text/plain": [
       "Training: |          | 0/? [00:00<?, ?it/s]"
      ]
     },
     "metadata": {},
     "output_type": "display_data"
    },
    {
     "name": "stderr",
     "output_type": "stream",
     "text": [
      "/home/jupyter/.local/lib/python3.10/site-packages/pytorch_lightning/trainer/call.py:54: Detected KeyboardInterrupt, attempting graceful shutdown...\n"
     ]
    }
   ],
   "source": [
    "from Data import train_loader\n",
    "\n",
    "set_random_seed(42)\n",
    "\n",
    "nf=NormalizingFlow(latent=normal_dist,flows=configure_flows(24),ort=True)\n",
    "pipeline=Pipeline(model=nf, criterion=KL_ur, optimizer_class=torch.optim.Adam, optimizer_kwargs={\"lr\": 0.001,\"weight_decay\":0.01})\n",
    "\n",
    "trainer = pl.Trainer(\n",
    "    max_epochs=50,\n",
    "    logger=TensorBoardLogger(save_dir=f\"logs/nf\"),\n",
    "    num_sanity_val_steps=0,\n",
    "    log_every_n_steps=1,\n",
    "    accumulate_grad_batches=4\n",
    ")\n",
    "\n",
    "trainer.fit(model=pipeline, train_dataloaders=train_loader)\n",
    "torch.save(nf.state_dict(), \"model_weights1.pth\")"
   ]
  },
  {
   "cell_type": "code",
   "execution_count": 17,
   "id": "bf52257c",
   "metadata": {
    "execution": {
     "iopub.execute_input": "2024-03-11T16:54:00.522264Z",
     "iopub.status.busy": "2024-03-11T16:54:00.521309Z",
     "iopub.status.idle": "2024-03-11T16:54:21.027394Z",
     "shell.execute_reply": "2024-03-11T16:54:21.026003Z",
     "shell.execute_reply.started": "2024-03-11T16:54:00.522211Z"
    },
    "tags": []
   },
   "outputs": [
    {
     "name": "stderr",
     "output_type": "stream",
     "text": [
      "GPU available: True (cuda), used: True\n",
      "TPU available: False, using: 0 TPU cores\n",
      "IPU available: False, using: 0 IPUs\n",
      "HPU available: False, using: 0 HPUs\n",
      "2024-03-11 16:54:00.843049: I tensorflow/core/platform/cpu_feature_guard.cc:182] This TensorFlow binary is optimized to use available CPU instructions in performance-critical operations.\n",
      "To enable the following instructions: AVX2 FMA, in other operations, rebuild TensorFlow with the appropriate compiler flags.\n",
      "2024-03-11 16:54:05.133841: W tensorflow/compiler/tf2tensorrt/utils/py_utils.cc:38] TF-TRT Warning: Could not find TensorRT\n",
      "LOCAL_RANK: 0 - CUDA_VISIBLE_DEVICES: [0]\n",
      "\n",
      "  | Name  | Type            | Params\n",
      "------------------------------------------\n",
      "0 | model | NormalizingFlow | 1.3 M \n",
      "1 | loss  | KL_with_S       | 0     \n",
      "------------------------------------------\n",
      "1.3 M     Trainable params\n",
      "0         Non-trainable params\n",
      "1.3 M     Total params\n",
      "5.020     Total estimated model params size (MB)\n"
     ]
    },
    {
     "data": {
      "application/vnd.jupyter.widget-view+json": {
       "model_id": "52279c7ccd4d44f5af1ea927a6104757",
       "version_major": 2,
       "version_minor": 0
      },
      "text/plain": [
       "Training: |          | 0/? [00:00<?, ?it/s]"
      ]
     },
     "metadata": {},
     "output_type": "display_data"
    },
    {
     "name": "stderr",
     "output_type": "stream",
     "text": [
      "/home/jupyter/.local/lib/python3.10/site-packages/pytorch_lightning/trainer/call.py:54: Detected KeyboardInterrupt, attempting graceful shutdown...\n"
     ]
    }
   ],
   "source": [
    "from Data import train_loader\n",
    "\n",
    "set_random_seed(42)\n",
    "nf=NormalizingFlow(latent=normal_dist,flows=configure_flows(24),ort=True)\n",
    "nf.load_state_dict(torch.load('model_weights1.pth'))\n",
    "pipeline=Pipeline(model=nf,criterion=KL_rel1,optimizer_class=torch.optim.Adam,optimizer_kwargs={\"lr\": 0.0001})\n",
    "\n",
    "trainer = pl.Trainer(\n",
    "    max_epochs=20,\n",
    "    logger=TensorBoardLogger(save_dir=f\"logs/nf\"),\n",
    "    num_sanity_val_steps=0,\n",
    "    log_every_n_steps=1,\n",
    "    enable_checkpointing=False,\n",
    "    accumulate_grad_batches=16\n",
    ")\n",
    "\n",
    "trainer.fit(model=pipeline, train_dataloaders=train_loader)\n",
    "torch.save(nf.state_dict(), \"model_weights3.pth\")"
   ]
  },
  {
   "cell_type": "code",
   "execution_count": 24,
   "id": "a808807a",
   "metadata": {
    "execution": {
     "iopub.execute_input": "2024-03-11T16:56:46.950365Z",
     "iopub.status.busy": "2024-03-11T16:56:46.949689Z",
     "iopub.status.idle": "2024-03-11T16:56:47.523599Z",
     "shell.execute_reply": "2024-03-11T16:56:47.522439Z",
     "shell.execute_reply.started": "2024-03-11T16:56:46.950312Z"
    },
    "tags": []
   },
   "outputs": [
    {
     "name": "stdout",
     "output_type": "stream",
     "text": [
      "True\n"
     ]
    }
   ],
   "source": [
    "from Data import normal_dist\n",
    "import numpy as np\n",
    "from NFconstants import N_traj\n",
    "NF_trained=NormalizingFlow(latent=normal_dist,flows=configure_flows(24),ort=True)\n",
    "NF_trained.load_state_dict(torch.load('model_weights1.pth'))\n",
    "NF_trained.eval()\n",
    "print(NF_trained.ort)\n",
    "trajs=NF_trained.sample(N_traj)\n",
    "#trajs=trajs.numpy()\n",
    "#np.savetxt(\"nf_ensemble.txt\",trajs,delimiter=\",\")"
   ]
  },
  {
   "cell_type": "code",
   "execution_count": 25,
   "id": "fe644a5e-8e4a-4536-bec1-78a391b60f97",
   "metadata": {
    "execution": {
     "iopub.execute_input": "2024-03-11T16:56:48.475913Z",
     "iopub.status.busy": "2024-03-11T16:56:48.475138Z",
     "iopub.status.idle": "2024-03-11T16:56:48.511801Z",
     "shell.execute_reply": "2024-03-11T16:56:48.510668Z",
     "shell.execute_reply.started": "2024-03-11T16:56:48.475859Z"
    },
    "tags": []
   },
   "outputs": [],
   "source": [
    "from NFandist import get_T\n",
    "T=torch.tensor(get_T(N_nod)).float()\n",
    "def G(X,n_p=N_nod):\n",
    "    G=np.zeros((n_p))\n",
    "    Y=X.clone()\n",
    "    Xt=torch.t(X)\n",
    "    for s in range(n_p):\n",
    "        G[s]=torch.trace(torch.matmul(Y,Xt))\n",
    "        Y=torch.matmul(Y,T)\n",
    "    return G/(N_traj*N_nod)\n",
    "g_nf=G(trajs)"
   ]
  },
  {
   "cell_type": "code",
   "execution_count": 38,
   "id": "78c9ffdf-7d11-49a0-8304-3228e4cd69b5",
   "metadata": {
    "execution": {
     "iopub.execute_input": "2024-03-11T16:21:36.027870Z",
     "iopub.status.busy": "2024-03-11T16:21:36.027234Z",
     "iopub.status.idle": "2024-03-11T16:21:36.044667Z",
     "shell.execute_reply": "2024-03-11T16:21:36.043400Z",
     "shell.execute_reply.started": "2024-03-11T16:21:36.027838Z"
    },
    "tags": []
   },
   "outputs": [],
   "source": [
    "from NFandist import calc_G\n",
    "from NFconstants import N_nod, N_traj, NG_points,beta\n",
    "g_osc=calc_G(N_nod,beta,N_nod)\n"
   ]
  },
  {
   "cell_type": "code",
   "execution_count": 26,
   "id": "d40ea38c-5c07-4349-9872-6f8026d990d1",
   "metadata": {
    "execution": {
     "iopub.execute_input": "2024-03-11T16:56:54.359016Z",
     "iopub.status.busy": "2024-03-11T16:56:54.358071Z",
     "iopub.status.idle": "2024-03-11T16:56:54.371754Z",
     "shell.execute_reply": "2024-03-11T16:56:54.370516Z",
     "shell.execute_reply.started": "2024-03-11T16:56:54.358958Z"
    },
    "tags": []
   },
   "outputs": [],
   "source": [
    "g_ur = [0.476546, 0.148654, 0.060357, 0.0232596, -0.00447499, -0.00224423, -0.00447499, 0.0232596, 0.060357, 0.148654]"
   ]
  },
  {
   "cell_type": "code",
   "execution_count": 29,
   "id": "423d9be1-411c-4004-929e-ddd280cb3a77",
   "metadata": {
    "execution": {
     "iopub.execute_input": "2024-03-10T20:14:41.583727Z",
     "iopub.status.busy": "2024-03-10T20:14:41.582469Z",
     "iopub.status.idle": "2024-03-10T20:14:41.628093Z",
     "shell.execute_reply": "2024-03-10T20:14:41.626920Z",
     "shell.execute_reply.started": "2024-03-10T20:14:41.583680Z"
    },
    "tags": []
   },
   "outputs": [],
   "source": [
    "\n",
    "g_ur = [0.555858, 0.497988, 0.446597, 0.401115, 0.360415, 0.324316, 0.29138, 0.261791, 0.235658, 0.211969, 0.190536, 0.171994, 0.155133, 0.140335, 0.126598, 0.114471, 0.103514, 0.0941716, 0.0852865, 0.0767528, 0.0691313, 0.0619047, 0.0550745, 0.0490998, 0.0443236, 0.0396256, 0.0358628, 0.0324961, 0.0302019, 0.0276177, 0.0251373, 0.0226234, 0.0203086, 0.0179717, 0.0164385, 0.0152739, 0.0143051, 0.0136778, 0.0127566, 0.0118486, 0.0111658, 0.0111462, 0.011026, 0.0110081, 0.0109681, 0.0106729, 0.0101027, 0.010377, 0.010866, 0.0114044, 0.0119873, 0.0114044, 0.010866, 0.010377, 0.0101027, 0.0106729, 0.0109681, 0.0110081, 0.011026, 0.0111462, 0.0111658, 0.0118486, 0.0127566, 0.0136778, 0.0143051, 0.0152739, 0.0164385, 0.0179717, 0.0203086, 0.0226234, 0.0251373, 0.0276177, 0.0302019, 0.0324961, 0.0358628, 0.0396256, 0.0443236, 0.0490998, 0.0550745, 0.0619047, 0.0691313, 0.0767528, 0.0852865, 0.0941716, 0.103514, 0.114471, 0.126598, 0.140335, 0.155133, 0.171994, 0.190536, 0.211969, 0.235658, 0.261791, 0.29138, 0.324316, 0.360415, 0.401115, 0.446597, 0.497988]\n"
   ]
  },
  {
   "cell_type": "code",
   "execution_count": 29,
   "id": "761d4f40-3376-4f0e-9177-6ff5ff928fa4",
   "metadata": {
    "execution": {
     "iopub.execute_input": "2024-03-11T13:08:02.438822Z",
     "iopub.status.busy": "2024-03-11T13:08:02.437924Z",
     "iopub.status.idle": "2024-03-11T13:08:02.452208Z",
     "shell.execute_reply": "2024-03-11T13:08:02.451027Z",
     "shell.execute_reply.started": "2024-03-11T13:08:02.438776Z"
    },
    "tags": []
   },
   "outputs": [],
   "source": [
    "g_rel = [0.389004, 0.174591, 0.0750764, 0.0320855, 0.0235634, 0.0204869, 0.0235634, 0.0320855, 0.0750764, 0.174591]"
   ]
  },
  {
   "cell_type": "code",
   "execution_count": 51,
   "id": "f0639e9e-3fa3-412f-8833-8af468af9fa8",
   "metadata": {
    "execution": {
     "iopub.execute_input": "2024-03-11T16:37:08.088460Z",
     "iopub.status.busy": "2024-03-11T16:37:08.087799Z",
     "iopub.status.idle": "2024-03-11T16:37:08.112964Z",
     "shell.execute_reply": "2024-03-11T16:37:08.111908Z",
     "shell.execute_reply.started": "2024-03-11T16:37:08.088429Z"
    },
    "tags": []
   },
   "outputs": [],
   "source": [
    "g_rel = [0.392501, 0.361773, 0.333519, 0.307446, 0.283335, 0.261201, 0.240658, 0.221871, 0.204776, 0.188963, 0.174495, 0.161116, 0.148541, 0.136946, 0.126175, 0.116168, 0.106934, 0.0985733, 0.090693, 0.0836987, 0.0773237, 0.0713712, 0.0662134, 0.0611666, 0.0567049, 0.0525145, 0.0489322, 0.045775, 0.043085, 0.0407685, 0.0383386, 0.0365845, 0.0353032, 0.0339074, 0.0324167, 0.0308972, 0.0295226, 0.0285374, 0.0276133, 0.026899, 0.0265193, 0.0267518, 0.027023, 0.0272673, 0.0275789, 0.0277296, 0.0281657, 0.0286108, 0.0289897, 0.0292072, 0.0292838, 0.0292072, 0.0289897, 0.0286108, 0.0281657, 0.0277296, 0.0275789, 0.0272673, 0.027023, 0.0267518, 0.0265193, 0.026899, 0.0276133, 0.0285374, 0.0295226, 0.0308972, 0.0324167, 0.0339074, 0.0353032, 0.0365845, 0.0383386, 0.0407685, 0.043085, 0.045775, 0.0489322, 0.0525145, 0.0567049, 0.0611666, 0.0662134, 0.0713712, 0.0773237, 0.0836987, 0.090693, 0.0985733, 0.106934, 0.116168, 0.126175, 0.136946, 0.148541, 0.161116, 0.174495, 0.188963, 0.204776, 0.221871, 0.240658, 0.261201, 0.283335, 0.307446, 0.333519, 0.361773]\n"
   ]
  },
  {
   "cell_type": "code",
   "execution_count": 91,
   "id": "65e2959c-aa9d-47a0-971a-68fd6575b32e",
   "metadata": {
    "execution": {
     "iopub.execute_input": "2024-03-09T13:22:56.600736Z",
     "iopub.status.busy": "2024-03-09T13:22:56.599626Z",
     "iopub.status.idle": "2024-03-09T13:22:56.630766Z",
     "shell.execute_reply": "2024-03-09T13:22:56.629607Z",
     "shell.execute_reply.started": "2024-03-09T13:22:56.600650Z"
    },
    "tags": []
   },
   "outputs": [],
   "source": [
    "\n",
    "import numpy as np\n",
    "corr = [0.0049279, 0.00445719, 0.0040318, 0.00364688, 0.00329375, 0.00297512, 0.00268571, 0.00242197, 0.00217813, 0.00195686, 0.00176504, 0.001597, 0.0014406, 0.00130362, 0.00117932, 0.00107197, 0.000971531, 0.000873839, 0.000783014, 0.000698531, 0.000622945, 0.000554938, 0.000497423, 0.000446639, 0.000400234, 0.000360026, 0.000325092, 0.00028936, 0.000252744, 0.000222755, 0.00019756, 0.000178826, 0.000169581, 0.000165766, 0.000161208, 0.000158499, 0.000157808, 0.000156267, 0.000155463, 0.000151827, 0.000137475, 0.000124214, 0.000113485, 0.000104859, 9.63436e-05, 8.8317e-05, 8.17296e-05, 7.9884e-05, 7.83747e-05, 8.01024e-05, 8.44507e-05, 8.01024e-05, 7.83747e-05, 7.9884e-05, 8.17296e-05, 8.8317e-05, 9.63436e-05, 0.000104859, 0.000113485, 0.000124214, 0.000137475, 0.000151827, 0.000155463, 0.000156267, 0.000157808, 0.000158499, 0.000161208, 0.000165766, 0.000169581, 0.000178826, 0.00019756, 0.000222755, 0.000252744, 0.00028936, 0.000325092, 0.000360026, 0.000400234, 0.000446639, 0.000497423, 0.000554938, 0.000622945, 0.000698531, 0.000783014, 0.000873839, 0.000971531, 0.00107197, 0.00117932, 0.00130362, 0.0014406, 0.001597, 0.00176504, 0.00195686, 0.00217813, 0.00242197, 0.00268571, 0.00297512, 0.00329375, 0.00364688, 0.0040318, 0.00445719, 0.0049279]\n",
    "g_rel_001=(100*np.array(corr))[:-1]\n",
    "\n"
   ]
  },
  {
   "cell_type": "code",
   "execution_count": 56,
   "id": "1cd1e02d-0324-466a-b37e-a60554908a29",
   "metadata": {
    "execution": {
     "iopub.execute_input": "2024-03-11T16:39:58.175446Z",
     "iopub.status.busy": "2024-03-11T16:39:58.174688Z",
     "iopub.status.idle": "2024-03-11T16:39:58.190438Z",
     "shell.execute_reply": "2024-03-11T16:39:58.189416Z",
     "shell.execute_reply.started": "2024-03-11T16:39:58.175414Z"
    },
    "tags": []
   },
   "outputs": [],
   "source": [
    "import numpy as np\n",
    "corr = [0.0482165, 0.0437875, 0.0397512, 0.0361339, 0.0328051, 0.0297607, 0.0270138, 0.0244825, 0.0222039, 0.0201489, 0.0183026, 0.0166458, 0.0151002, 0.0137192, 0.012421, 0.0112716, 0.0102497, 0.00931179, 0.0084281, 0.00763501, 0.00697282, 0.00637519, 0.00579578, 0.00524782, 0.00469027, 0.00419239, 0.00376016, 0.00335117, 0.00299975, 0.00265075, 0.00236496, 0.00215769, 0.00196452, 0.00178665, 0.00162977, 0.00148276, 0.00135563, 0.00127519, 0.00120796, 0.00115448, 0.0011155, 0.00109623, 0.00112555, 0.00113097, 0.00108849, 0.00108302, 0.00112726, 0.00115736, 0.00118966, 0.00124266, 0.00121678, 0.00124266, 0.00118966, 0.00115736, 0.00112726, 0.00108302, 0.00108849, 0.00113097, 0.00112555, 0.00109623, 0.0011155, 0.00115448, 0.00120796, 0.00127519, 0.00135563, 0.00148276, 0.00162977, 0.00178665, 0.00196452, 0.00215769, 0.00236496, 0.00265075, 0.00299975, 0.00335117, 0.00376016, 0.00419239, 0.00469027, 0.00524782, 0.00579578, 0.00637519, 0.00697282, 0.00763501, 0.0084281, 0.00931179, 0.0102497, 0.0112716, 0.012421, 0.0137192, 0.0151002, 0.0166458, 0.0183026, 0.0201489, 0.0222039, 0.0244825, 0.0270138, 0.0297607, 0.0328051, 0.0361339, 0.0397512, 0.0437875, 0.0482165]\n",
    "g_rel_01=(10*np.array(corr))[:-1]\n"
   ]
  },
  {
   "cell_type": "code",
   "execution_count": 28,
   "id": "34a5ead7-10a1-445f-abbd-4f8c2478ccd1",
   "metadata": {
    "execution": {
     "iopub.execute_input": "2024-03-11T16:57:02.468992Z",
     "iopub.status.busy": "2024-03-11T16:57:02.467131Z",
     "iopub.status.idle": "2024-03-11T16:57:02.741Z",
     "shell.execute_reply": "2024-03-11T16:57:02.739802Z",
     "shell.execute_reply.started": "2024-03-11T16:57:02.468934Z"
    },
    "tags": []
   },
   "outputs": [
    {
     "name": "stdout",
     "output_type": "stream",
     "text": [
      "0.4560513000488281\n"
     ]
    },
    {
     "data": {
      "image/png": "[encoded data removed]",
      "text/plain": [
       "<Figure size 432x288 with 1 Axes>"
      ]
     },
     "metadata": {
      "needs_background": "light"
     },
     "output_type": "display_data"
    }
   ],
   "source": [
    "#import sys\n",
    "#sys.path.append('../')\n",
    "import numpy as np\n",
    "import matplotlib.pyplot as plt\n",
    "from NFconstants import N_nod, N_traj, NG_points,beta\n",
    "#from Value import G\n",
    "#import ensemble\n",
    "#from NFoscillator import basic_oscillator\n",
    "#from time import time\n",
    "#from NFandist import calc_G\n",
    "\n",
    "\"\"\"\n",
    "ens_nf=ensemble.ensemble.load(\"nf_ensemble.txt\",basic_oscillator)\n",
    "g_nf=np.vstack(ensemble.ensemble.Vaverage_and_sigma(ens_nf,G))\n",
    "g_nf=g_nf.transpose()[0]\n",
    "\"\"\"\n",
    "\n",
    "g=g_ur\n",
    "print(g_nf[0])\n",
    "fig=plt.figure()\n",
    "MCMC_list=np.arange(len(g))/len(g)\n",
    "NF_list=np.arange(len(g_nf))/len(g_nf)\n",
    "plt.scatter(MCMC_list,g)\n",
    "plt.scatter(NF_list,g_nf)\n",
    "plt.legend([\"MCMC\",\"normalizing flow\"])\n",
    "plt.grid(True)\n",
    "plt.show()\n"
   ]
  },
  {
   "cell_type": "code",
   "execution_count": 1,
   "id": "5537b59a",
   "metadata": {
    "execution": {
     "iopub.execute_input": "2024-03-04T01:13:45.448783Z",
     "iopub.status.busy": "2024-03-04T01:13:45.448099Z",
     "iopub.status.idle": "2024-03-04T01:13:45.746460Z",
     "shell.execute_reply": "2024-03-04T01:13:45.745700Z",
     "shell.execute_reply.started": "2024-03-04T01:13:45.448743Z"
    },
    "tags": []
   },
   "outputs": [
    {
     "name": "stdout",
     "output_type": "stream",
     "text": [
      "11G\tlogs\n"
     ]
    }
   ],
   "source": [
    "\n",
    "\n",
    "! du -sh logs\n",
    "\n",
    "\n",
    "\n",
    "\n"
   ]
  },
  {
   "cell_type": "code",
   "execution_count": null,
   "id": "96e1f7e3-4121-49e9-95f1-06ecbf041f59",
   "metadata": {},
   "outputs": [],
   "source": [
    "! rm -rf logs\n"
   ]
  },
  {
   "cell_type": "code",
   "execution_count": null,
   "id": "0937a257-cdff-4635-801c-dad1eb61f3e9",
   "metadata": {},
   "outputs": [],
   "source": [
    "def configure_flows(level_size,level_step=1):  # n_flows=8,...,12\n",
    "    flows=[]\n",
    "    n_levels=(N_latent-N_nod)//level_step\n",
    "    \n",
    "    if N_nod==N_latent:\n",
    "        level_step=0\n",
    "    \n",
    "    dim=N_latent//2\n",
    "    \n",
    "    for i in range(n_levels):\n",
    "        for k in range(level_size):\n",
    "            flows.append(AffineCouplingLayer(configure_theta(dim,dim),split=pair_SplitFunc,swap=k%2))\n",
    "        flows.append(nn.Linear(dim,dim-level_step//2))    \n",
    "        dim-=level_step//2    \n",
    "    \n",
    "    if dim!=N_nod//2:\n",
    "        print(\"smth wrong\")\n",
    "        \n",
    "    for k in range(level_size):\n",
    "        flows.append(AffineCouplingLayer(configure_theta(dim,dim),split=pair_SplitFunc,swap=k%2))\n",
    "    flows = nn.ModuleList(flows)\n",
    "    \n",
    "    return flows "
   ]
  },
  {
   "cell_type": "code",
   "execution_count": 11,
   "id": "67003bd9-b5df-4b89-bf8c-3fe1962ea74f",
   "metadata": {
    "execution": {
     "iopub.execute_input": "2024-03-08T22:17:57.203882Z",
     "iopub.status.busy": "2024-03-08T22:17:57.203532Z",
     "iopub.status.idle": "2024-03-08T22:18:00.912289Z",
     "shell.execute_reply": "2024-03-08T22:18:00.911495Z",
     "shell.execute_reply.started": "2024-03-08T22:17:57.203853Z"
    },
    "tags": []
   },
   "outputs": [
    {
     "name": "stdout",
     "output_type": "stream",
     "text": [
      "start\n",
      "Normal(loc: torch.Size([100]), scale: torch.Size([100]))\n"
     ]
    }
   ],
   "source": [
    "print(\"start\")\n",
    "from Data import normal_dist\n",
    "\n",
    "def configure_theta():\n",
    "    theta=ThetaNetwork(\n",
    "                in_dim = N_nod//2,\n",
    "                out_dim = N_nod//2,\n",
    "                num_hidden = 16,  #2 to 6\n",
    "                hidden_dim = 2*N_nod , #100-1024\n",
    "                num_params = 2,\n",
    "                p_drop=0.4,\n",
    "    )\n",
    "    return theta\n",
    "\n",
    "def configure_flows(n_flows):  # n_flows=8,...,12\n",
    "    flows=[]\n",
    "    \n",
    "    flows.append(D(N_nod))\n",
    "    \n",
    "    for k in range(n_flows//4):\n",
    "        flows.append(AffineCouplingLayer(configure_theta(),split=pair_SplitFunc,swap=k%2))\n",
    "        flows.append(L1(N_nod))\n",
    "    \n",
    "    for k in range(3 * n_flows//4):\n",
    "        flows.append(AffineCouplingLayer(configure_theta(),split=pair_SplitFunc,swap=k%2))\n",
    "    \n",
    "    flows.append(D(N_nod))    \n",
    "    flows = nn.ModuleList(flows)\n",
    "    return flows \n",
    "\n",
    "def configure_conv_flows(n_conv,kernel_size=3):\n",
    "    conv_flows=[]\n",
    "    for i in range(n_conv):\n",
    "        conv_flows.append(AffineCouplingLayer(Conv_NN(N_nod//2,2,kernel_size),split=pair_SplitFunc,swap=i%2))\n",
    "    conv_flows = nn.ModuleList(conv_flows)\n",
    "    return conv_flows\n",
    "\n",
    "print(normal_dist)\n",
    "\n",
    "                  "
   ]
  },
  {
   "cell_type": "code",
   "execution_count": null,
   "id": "c53c7260",
   "metadata": {},
   "outputs": [],
   "source": [
    "k=7\n",
    "N=2 ** k\n",
    "X=list(range(N))\n",
    "for i in range(k):\n",
    "    "
   ]
  }
 ],
 "metadata": {
  "kernelspec": {
   "display_name": "Python 3 (ipykernel)",
   "language": "python",
   "name": "python3"
  },
  "language_info": {
   "codemirror_mode": {
    "name": "ipython",
    "version": 3
   },
   "file_extension": ".py",
   "mimetype": "text/x-python",
   "name": "python",
   "nbconvert_exporter": "python",
   "pygments_lexer": "ipython3",
   "version": "3.11.5"
  }
 },
 "nbformat": 4,
 "nbformat_minor": 5
}
