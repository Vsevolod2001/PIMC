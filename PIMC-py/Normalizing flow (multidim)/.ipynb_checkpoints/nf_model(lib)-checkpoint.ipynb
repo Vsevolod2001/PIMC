{
 "cells": [
  {
   "cell_type": "code",
   "execution_count": null,
   "id": "dbee9da4",
   "metadata": {
    "execution": {
     "iopub.execute_input": "2024-04-11T20:33:53.825317Z",
     "iopub.status.busy": "2024-04-11T20:33:53.824685Z",
     "iopub.status.idle": "2024-04-11T20:33:53.835597Z",
     "shell.execute_reply": "2024-04-11T20:33:53.835059Z",
     "shell.execute_reply.started": "2024-04-11T20:33:53.825272Z"
    },
    "tags": []
   },
   "outputs": [],
   "source": [
    "from typing import Callable, List, Tuple\n",
    "\n",
    "import pytorch_lightning as pl\n",
    "import torch\n",
    "import torch.nn.functional as F\n",
    "from torch import nn\n",
    "from torch.distributions.distribution import Distribution\n",
    "from pytorch_lightning.loggers import TensorBoardLogger\n",
    "from nflows.flows.base import Flow\n",
    "from nflows.distributions.normal import StandardNormal\n",
    "from nflows.transforms.base import CompositeTransform\n",
    "from nflows.transforms.autoregressive import MaskedAffineAutoregressiveTransform\n",
    "from nflows.transforms.permutations import ReversePermutation\n",
    "\n",
    "device = torch.device(\"cuda\" if torch.cuda.is_available() else \"cpu\")"
   ]
  },
  {
   "cell_type": "code",
   "execution_count": null,
   "id": "c93eb4f7",
   "metadata": {
    "execution": {
     "iopub.execute_input": "2024-04-11T20:33:54.240613Z",
     "iopub.status.busy": "2024-04-11T20:33:54.239882Z",
     "iopub.status.idle": "2024-04-11T20:33:54.261446Z",
     "shell.execute_reply": "2024-04-11T20:33:54.260847Z",
     "shell.execute_reply.started": "2024-04-11T20:33:54.240582Z"
    },
    "tags": []
   },
   "outputs": [],
   "source": [
    "from NFconstants import N_nod, Beta, a\n",
    "from NFandist import get_O\n",
    "from NFandist import get_diag\n",
    "from NFandist import get_C\n",
    "\n",
    "def set_random_seed(seed):\n",
    "    torch.manual_seed(seed)\n",
    "    \n",
    "O=(torch.tensor(get_O(N_nod)).float()).to(device)\n",
    "Ot=(torch.t(O)).to(device)\n",
    "print(Ot.requires_grad)\n",
    "print(N_nod)\n",
    "\n",
    "#C=(torch.tensor(get_C(N_nod,Beta)).float()).to(device)\n",
    "#Ct=(torch.t(C)).to(device)\n",
    "\n",
    "\n"
   ]
  },
  {
   "cell_type": "code",
   "execution_count": null,
   "id": "7244cea9",
   "metadata": {},
   "outputs": [],
   "source": [
    "num_layers = 2\n",
    "base_dist = StandardNormal(shape=[N_nod])\n",
    "\n",
    "transforms = []\n",
    "for _ in range(num_layers):\n",
    "    transforms.append(ReversePermutation(features=N_nod))\n",
    "    transforms.append(MaskedAffineAutoregressiveTransform(features=N_nod, \n",
    "                                                          hidden_features=2*N_nod,use_batch_norm=True))\n",
    "transform = CompositeTransform(transforms)\n",
    "flow = Flow(transform, base_dist)"
   ]
  },
  {
   "cell_type": "code",
   "execution_count": null,
   "id": "e4304ea8",
   "metadata": {},
   "outputs": [],
   "source": [
    "print(flow.sample_and_log_prob(3))"
   ]
  },
  {
   "cell_type": "code",
   "execution_count": null,
   "id": "7801adb5-e54a-4a08-88c7-f90214bbbc56",
   "metadata": {
    "execution": {
     "iopub.execute_input": "2024-04-11T20:40:59.121609Z",
     "iopub.status.busy": "2024-04-11T20:40:59.120956Z",
     "iopub.status.idle": "2024-04-11T20:40:59.132708Z",
     "shell.execute_reply": "2024-04-11T20:40:59.132164Z",
     "shell.execute_reply.started": "2024-04-11T20:40:59.121573Z"
    },
    "tags": []
   },
   "outputs": [],
   "source": [
    "class Pipeline_lib(pl.LightningModule):\n",
    "    def __init__(\n",
    "        self,\n",
    "        model,\n",
    "        criterion,\n",
    "        optimizer_class=torch.optim.Adam,\n",
    "        optimizer_kwargs={\"lr\": 0.001,\"weight_decay\": 0}\n",
    "    ) -> None:\n",
    "        super().__init__()\n",
    "        self.model = model\n",
    "        self.loss = criterion\n",
    "        self.optimizer_class = optimizer_class\n",
    "        self.optimizer_kwargs = optimizer_kwargs\n",
    "\n",
    "\n",
    "    def configure_optimizers(self):\n",
    "        optimizer = self.optimizer_class(\n",
    "            self.model.parameters(), **self.optimizer_kwargs\n",
    "        )\n",
    "        return optimizer\n",
    "\n",
    "    def training_step(self, batch, batch_idx):\n",
    "        x, log_abs_det = self.model.sample_and_log_prob(2**6)\n",
    "        x = torch.matmul(x,Ot.to(x.device))\n",
    "        loss = self.loss(x,-log_abs_det)\n",
    "        self.log('train_loss', loss, prog_bar=True)\n",
    "        return loss\n",
    "\n",
    "\n",
    "    def on_train_epoch_end(self):\n",
    "        #print(\"---------------------------end epoch---------------------------------\")\n",
    "        pass\n",
    "    \n",
    "    def on_validation_end(self) -> None:\n",
    "        if not self.automatic_optimization:\n",
    "            # Save a checkpoint of the model\n",
    "            ckpt_path = os.path.join(self.trainer.log_dir, 'checkpoints', 'ckpt.pt')\n",
    "            self.trainer.save_checkpoint(ckpt_path, weights_only=True)\n",
    "        return super().on_validation_end()\n",
    "    "
   ]
  },
  {
   "cell_type": "code",
   "execution_count": null,
   "id": "3857c540-6428-46f4-ac0a-31aa76f83ad2",
   "metadata": {
    "execution": {
     "iopub.execute_input": "2024-04-11T20:41:00.179493Z",
     "iopub.status.busy": "2024-04-11T20:41:00.178706Z",
     "iopub.status.idle": "2024-04-11T20:41:00.279522Z",
     "shell.execute_reply": "2024-04-11T20:41:00.278890Z",
     "shell.execute_reply.started": "2024-04-11T20:41:00.179457Z"
    },
    "tags": []
   },
   "outputs": [],
   "source": [
    "from NFoscillator import Oscillator\n",
    "from NFrel_oscillator import Rel_Oscillator\n",
    "from NFur_oscillator import Ur_Oscillator\n",
    "from NFx4 import X4\n",
    "from NFMorse import Morse\n",
    "from NFrel_Morse import Rel_Morse\n",
    "from NFrel_Columb import Rel_Columb\n",
    "osc=Oscillator(N_nod,Beta)\n",
    "KL_osc=osc.get_KL()\n",
    "KL_mat_osc=osc.get_mat_KL()\n",
    "KL_rel001=Rel_Oscillator.make_KL(Rel_Oscillator,N_nod,Beta,sigma=0.01)\n",
    "KL_rel01=Rel_Oscillator.make_KL(Rel_Oscillator,N_nod,Beta,sigma=0.1)\n",
    "KL_rel1=Rel_Oscillator.make_KL(Rel_Oscillator,N_nod,Beta,sigma=1)\n",
    "KL_rel10=Rel_Oscillator.make_KL(Rel_Oscillator,N_nod,Beta,sigma=10)\n",
    "KL_ur=Ur_Oscillator.make_KL(Ur_Oscillator,N_nod,Beta)\n",
    "\n",
    "KL_rel29=Rel_Oscillator.make_KL(Rel_Oscillator,N_nod,Beta,sigma = 2 ** 9)\n",
    "\n",
    "KL_X4=X4.make_KL(X4,N_nod,Beta,g=0.05)\n",
    "KL_morse=Morse.make_KL(Morse,N_nod,Beta,alpha=1)\n",
    "KL_rel_morse=Rel_Morse(N_nod,Beta,alpha=1,m=1000).get_KL()\n",
    "\n",
    "KL_rel_columb=Rel_Columb(N_nod,Beta,alpha=1,R=1).get_KL()"
   ]
  },
  {
   "cell_type": "code",
   "execution_count": null,
   "id": "558e4bef",
   "metadata": {
    "execution": {
     "iopub.execute_input": "2024-04-11T20:41:15.828327Z",
     "iopub.status.busy": "2024-04-11T20:41:15.827726Z",
     "iopub.status.idle": "2024-04-11T20:51:17.160176Z",
     "shell.execute_reply": "2024-04-11T20:51:17.159284Z",
     "shell.execute_reply.started": "2024-04-11T20:41:15.828289Z"
    },
    "tags": []
   },
   "outputs": [],
   "source": [
    "from Data import train_loader\n",
    "\n",
    "set_random_seed(42)\n",
    "pipeline = Pipeline_lib(model=flow, criterion=KL_ur, optimizer_class=torch.optim.Adam, optimizer_kwargs={\"lr\": 0.0001,\"weight_decay\":0.0})\n",
    "\n",
    "trainer = pl.Trainer(\n",
    "    max_epochs=50,\n",
    "    logger=TensorBoardLogger(save_dir = f\"logs/nf\"),\n",
    "    num_sanity_val_steps=0,\n",
    "    log_every_n_steps=1,\n",
    "    accumulate_grad_batches=1\n",
    ")\n",
    "\n",
    "trainer.fit(model=pipeline, train_dataloaders=train_loader)\n",
    "torch.save(flow.state_dict(), \"model_weights1.pth\")"
   ]
  },
  {
   "cell_type": "code",
   "execution_count": 20,
   "id": "a808807a",
   "metadata": {
    "execution": {
     "iopub.execute_input": "2024-04-11T20:51:20.493483Z",
     "iopub.status.busy": "2024-04-11T20:51:20.492658Z",
     "iopub.status.idle": "2024-04-11T20:51:21.804840Z",
     "shell.execute_reply": "2024-04-11T20:51:21.804096Z",
     "shell.execute_reply.started": "2024-04-11T20:51:20.493440Z"
    },
    "tags": []
   },
   "outputs": [],
   "source": [
    "from Data import normal_dist\n",
    "import numpy as np\n",
    "from NFconstants import N_traj\n",
    "set_random_seed(42)\n",
    "NF_trained = flow\n",
    "NF_trained.load_state_dict(torch.load('model_weights1.pth'))\n",
    "NF_trained.eval()\n",
    "trajs = NF_trained.sample(N_traj)\n",
    "trajs=torch.matmul(trajs,Ot.to(trajs.device))"
   ]
  },
  {
   "cell_type": "code",
   "execution_count": 21,
   "id": "fe644a5e-8e4a-4536-bec1-78a391b60f97",
   "metadata": {
    "execution": {
     "iopub.execute_input": "2024-04-11T20:51:23.032016Z",
     "iopub.status.busy": "2024-04-11T20:51:23.031418Z",
     "iopub.status.idle": "2024-04-11T20:51:23.105747Z",
     "shell.execute_reply": "2024-04-11T20:51:23.105149Z",
     "shell.execute_reply.started": "2024-04-11T20:51:23.031989Z"
    },
    "tags": []
   },
   "outputs": [],
   "source": [
    "from NFandist import get_T\n",
    "def G(X,n_p=N_nod):\n",
    "    n_nod=(X.shape)[1]\n",
    "    T=torch.tensor(get_T(n_nod)).float()\n",
    "    G=np.zeros((n_p))\n",
    "    Y=X.clone()\n",
    "    Xt=torch.t(X)\n",
    "    for s in range(n_p):\n",
    "        G[s]=torch.trace(torch.matmul(Y,Xt))\n",
    "        Y=torch.matmul(Y,T)\n",
    "    return G/(N_traj*n_nod)\n",
    "g_nf=G(trajs)"
   ]
  },
  {
   "cell_type": "code",
   "execution_count": 2,
   "id": "78c9ffdf-7d11-49a0-8304-3228e4cd69b5",
   "metadata": {
    "execution": {
     "iopub.status.busy": "2024-04-11T20:21:08.797080Z",
     "iopub.status.idle": "2024-04-11T20:21:08.797782Z",
     "shell.execute_reply": "2024-04-11T20:21:08.797623Z"
    },
    "tags": []
   },
   "outputs": [],
   "source": [
    "from NFandist import calc_G\n",
    "from NFconstants import N_nod, N_traj, NG_points,Beta\n",
    "g_osc=calc_G(N_nod,Beta,N_nod)\n"
   ]
  },
  {
   "cell_type": "code",
   "execution_count": null,
   "id": "d40ea38c-5c07-4349-9872-6f8026d990d1",
   "metadata": {
    "execution": {
     "iopub.status.busy": "2024-04-11T20:21:08.798482Z",
     "iopub.status.idle": "2024-04-11T20:21:08.798823Z",
     "shell.execute_reply": "2024-04-11T20:21:08.798705Z"
    },
    "tags": []
   },
   "outputs": [],
   "source": [
    "g_ur = [0.476546, 0.148654, 0.060357, 0.0232596, -0.00447499, -0.00224423, -0.00447499, 0.0232596, 0.060357, 0.148654]"
   ]
  },
  {
   "cell_type": "code",
   "execution_count": 23,
   "id": "423d9be1-411c-4004-929e-ddd280cb3a77",
   "metadata": {
    "execution": {
     "iopub.status.busy": "2024-04-11T20:21:08.799720Z",
     "iopub.status.idle": "2024-04-11T20:21:08.800155Z",
     "shell.execute_reply": "2024-04-11T20:21:08.800010Z"
    },
    "tags": []
   },
   "outputs": [],
   "source": [
    "\n",
    "g_ur = [0.555858, 0.497988, 0.446597, 0.401115, 0.360415, 0.324316, 0.29138, 0.261791, 0.235658, 0.211969, 0.190536, 0.171994, 0.155133, 0.140335, 0.126598, 0.114471, 0.103514, 0.0941716, 0.0852865, 0.0767528, 0.0691313, 0.0619047, 0.0550745, 0.0490998, 0.0443236, 0.0396256, 0.0358628, 0.0324961, 0.0302019, 0.0276177, 0.0251373, 0.0226234, 0.0203086, 0.0179717, 0.0164385, 0.0152739, 0.0143051, 0.0136778, 0.0127566, 0.0118486, 0.0111658, 0.0111462, 0.011026, 0.0110081, 0.0109681, 0.0106729, 0.0101027, 0.010377, 0.010866, 0.0114044, 0.0119873, 0.0114044, 0.010866, 0.010377, 0.0101027, 0.0106729, 0.0109681, 0.0110081, 0.011026, 0.0111462, 0.0111658, 0.0118486, 0.0127566, 0.0136778, 0.0143051, 0.0152739, 0.0164385, 0.0179717, 0.0203086, 0.0226234, 0.0251373, 0.0276177, 0.0302019, 0.0324961, 0.0358628, 0.0396256, 0.0443236, 0.0490998, 0.0550745, 0.0619047, 0.0691313, 0.0767528, 0.0852865, 0.0941716, 0.103514, 0.114471, 0.126598, 0.140335, 0.155133, 0.171994, 0.190536, 0.211969, 0.235658, 0.261791, 0.29138, 0.324316, 0.360415, 0.401115, 0.446597, 0.497988]\n"
   ]
  },
  {
   "cell_type": "code",
   "execution_count": 27,
   "id": "12b3423f",
   "metadata": {},
   "outputs": [],
   "source": [
    "g_ur = np.genfromtxt(\"g_ur N=256 Beta=16\")"
   ]
  },
  {
   "cell_type": "code",
   "execution_count": null,
   "id": "761d4f40-3376-4f0e-9177-6ff5ff928fa4",
   "metadata": {
    "execution": {
     "iopub.status.busy": "2024-04-11T20:21:08.800809Z",
     "iopub.status.idle": "2024-04-11T20:21:08.801196Z",
     "shell.execute_reply": "2024-04-11T20:21:08.801056Z"
    },
    "tags": []
   },
   "outputs": [],
   "source": [
    "g_rel = [0.389004, 0.174591, 0.0750764, 0.0320855, 0.0235634, 0.0204869, 0.0235634, 0.0320855, 0.0750764, 0.174591]"
   ]
  },
  {
   "cell_type": "code",
   "execution_count": 15,
   "id": "f0639e9e-3fa3-412f-8833-8af468af9fa8",
   "metadata": {
    "execution": {
     "iopub.execute_input": "2024-04-11T20:27:51.385902Z",
     "iopub.status.busy": "2024-04-11T20:27:51.385317Z",
     "iopub.status.idle": "2024-04-11T20:27:51.396413Z",
     "shell.execute_reply": "2024-04-11T20:27:51.395846Z",
     "shell.execute_reply.started": "2024-04-11T20:27:51.385877Z"
    },
    "tags": []
   },
   "outputs": [],
   "source": [
    "g_rel = [0.392501, 0.361773, 0.333519, 0.307446, 0.283335, 0.261201, 0.240658, 0.221871, 0.204776, 0.188963, 0.174495, 0.161116, 0.148541, 0.136946, 0.126175, 0.116168, 0.106934, 0.0985733, 0.090693, 0.0836987, 0.0773237, 0.0713712, 0.0662134, 0.0611666, 0.0567049, 0.0525145, 0.0489322, 0.045775, 0.043085, 0.0407685, 0.0383386, 0.0365845, 0.0353032, 0.0339074, 0.0324167, 0.0308972, 0.0295226, 0.0285374, 0.0276133, 0.026899, 0.0265193, 0.0267518, 0.027023, 0.0272673, 0.0275789, 0.0277296, 0.0281657, 0.0286108, 0.0289897, 0.0292072, 0.0292838, 0.0292072, 0.0289897, 0.0286108, 0.0281657, 0.0277296, 0.0275789, 0.0272673, 0.027023, 0.0267518, 0.0265193, 0.026899, 0.0276133, 0.0285374, 0.0295226, 0.0308972, 0.0324167, 0.0339074, 0.0353032, 0.0365845, 0.0383386, 0.0407685, 0.043085, 0.045775, 0.0489322, 0.0525145, 0.0567049, 0.0611666, 0.0662134, 0.0713712, 0.0773237, 0.0836987, 0.090693, 0.0985733, 0.106934, 0.116168, 0.126175, 0.136946, 0.148541, 0.161116, 0.174495, 0.188963, 0.204776, 0.221871, 0.240658, 0.261201, 0.283335, 0.307446, 0.333519, 0.361773]\n"
   ]
  },
  {
   "cell_type": "code",
   "execution_count": null,
   "id": "65e2959c-aa9d-47a0-971a-68fd6575b32e",
   "metadata": {
    "execution": {
     "iopub.status.busy": "2024-04-11T20:21:08.803066Z",
     "iopub.status.idle": "2024-04-11T20:21:08.803472Z",
     "shell.execute_reply": "2024-04-11T20:21:08.803331Z"
    },
    "tags": []
   },
   "outputs": [],
   "source": [
    "\n",
    "import numpy as np\n",
    "corr = [0.0049279, 0.00445719, 0.0040318, 0.00364688, 0.00329375, 0.00297512, 0.00268571, 0.00242197, 0.00217813, 0.00195686, 0.00176504, 0.001597, 0.0014406, 0.00130362, 0.00117932, 0.00107197, 0.000971531, 0.000873839, 0.000783014, 0.000698531, 0.000622945, 0.000554938, 0.000497423, 0.000446639, 0.000400234, 0.000360026, 0.000325092, 0.00028936, 0.000252744, 0.000222755, 0.00019756, 0.000178826, 0.000169581, 0.000165766, 0.000161208, 0.000158499, 0.000157808, 0.000156267, 0.000155463, 0.000151827, 0.000137475, 0.000124214, 0.000113485, 0.000104859, 9.63436e-05, 8.8317e-05, 8.17296e-05, 7.9884e-05, 7.83747e-05, 8.01024e-05, 8.44507e-05, 8.01024e-05, 7.83747e-05, 7.9884e-05, 8.17296e-05, 8.8317e-05, 9.63436e-05, 0.000104859, 0.000113485, 0.000124214, 0.000137475, 0.000151827, 0.000155463, 0.000156267, 0.000157808, 0.000158499, 0.000161208, 0.000165766, 0.000169581, 0.000178826, 0.00019756, 0.000222755, 0.000252744, 0.00028936, 0.000325092, 0.000360026, 0.000400234, 0.000446639, 0.000497423, 0.000554938, 0.000622945, 0.000698531, 0.000783014, 0.000873839, 0.000971531, 0.00107197, 0.00117932, 0.00130362, 0.0014406, 0.001597, 0.00176504, 0.00195686, 0.00217813, 0.00242197, 0.00268571, 0.00297512, 0.00329375, 0.00364688, 0.0040318, 0.00445719, 0.0049279]\n",
    "g_rel_001=(100*np.array(corr))[:-1]\n",
    "\n"
   ]
  },
  {
   "cell_type": "code",
   "execution_count": null,
   "id": "1cd1e02d-0324-466a-b37e-a60554908a29",
   "metadata": {
    "execution": {
     "iopub.status.busy": "2024-04-11T20:21:08.804087Z",
     "iopub.status.idle": "2024-04-11T20:21:08.804476Z",
     "shell.execute_reply": "2024-04-11T20:21:08.804335Z"
    },
    "tags": []
   },
   "outputs": [],
   "source": [
    "import numpy as np\n",
    "corr = [0.0482165, 0.0437875, 0.0397512, 0.0361339, 0.0328051, 0.0297607, 0.0270138, 0.0244825, 0.0222039, 0.0201489, 0.0183026, 0.0166458, 0.0151002, 0.0137192, 0.012421, 0.0112716, 0.0102497, 0.00931179, 0.0084281, 0.00763501, 0.00697282, 0.00637519, 0.00579578, 0.00524782, 0.00469027, 0.00419239, 0.00376016, 0.00335117, 0.00299975, 0.00265075, 0.00236496, 0.00215769, 0.00196452, 0.00178665, 0.00162977, 0.00148276, 0.00135563, 0.00127519, 0.00120796, 0.00115448, 0.0011155, 0.00109623, 0.00112555, 0.00113097, 0.00108849, 0.00108302, 0.00112726, 0.00115736, 0.00118966, 0.00124266, 0.00121678, 0.00124266, 0.00118966, 0.00115736, 0.00112726, 0.00108302, 0.00108849, 0.00113097, 0.00112555, 0.00109623, 0.0011155, 0.00115448, 0.00120796, 0.00127519, 0.00135563, 0.00148276, 0.00162977, 0.00178665, 0.00196452, 0.00215769, 0.00236496, 0.00265075, 0.00299975, 0.00335117, 0.00376016, 0.00419239, 0.00469027, 0.00524782, 0.00579578, 0.00637519, 0.00697282, 0.00763501, 0.0084281, 0.00931179, 0.0102497, 0.0112716, 0.012421, 0.0137192, 0.0151002, 0.0166458, 0.0183026, 0.0201489, 0.0222039, 0.0244825, 0.0270138, 0.0297607, 0.0328051, 0.0361339, 0.0397512, 0.0437875, 0.0482165]\n",
    "g_rel_01=(10*np.array(corr))[:-1]\n"
   ]
  },
  {
   "cell_type": "code",
   "execution_count": 29,
   "id": "34a5ead7-10a1-445f-abbd-4f8c2478ccd1",
   "metadata": {
    "execution": {
     "iopub.execute_input": "2024-04-11T20:51:29.133165Z",
     "iopub.status.busy": "2024-04-11T20:51:29.132531Z",
     "iopub.status.idle": "2024-04-11T20:51:29.325527Z",
     "shell.execute_reply": "2024-04-11T20:51:29.324982Z",
     "shell.execute_reply.started": "2024-04-11T20:51:29.133129Z"
    },
    "tags": []
   },
   "outputs": [
    {
     "name": "stdout",
     "output_type": "stream",
     "text": [
      "0.5564119873046875 0.543052001953125\n"
     ]
    },
    {
     "data": {
      "image/png": "[encoded data removed]",
      "text/plain": [
       "<Figure size 640x480 with 1 Axes>"
      ]
     },
     "metadata": {},
     "output_type": "display_data"
    }
   ],
   "source": [
    "#import sys\n",
    "#sys.path.append('../')\n",
    "import numpy as np\n",
    "import matplotlib.pyplot as plt\n",
    "from NFconstants import N_nod, N_traj, NG_points,Beta\n",
    "\n",
    "\n",
    "\n",
    "g=g_ur\n",
    "print(g_nf[0],g_ur[0])\n",
    "fig=plt.figure()\n",
    "MCMC_list=np.arange(len(g))/len(g)\n",
    "NF_list=np.arange(len(g_nf))/len(g_nf)\n",
    "plt.scatter(MCMC_list,g_ur,s=10)\n",
    "plt.scatter(NF_list,g_nf,s=10)\n",
    "plt.xlabel(r\"s/N\",fontsize=17)\n",
    "plt.ylabel(r\"$G_s$\",fontsize=17)\n",
    "plt.legend([\"MCMC\",\"normalizing flow\"])\n",
    "plt.grid(True)\n",
    "plt.show()\n"
   ]
  },
  {
   "cell_type": "code",
   "execution_count": 26,
   "id": "c4f7df99-f8b8-42cc-88e7-41acb8257b39",
   "metadata": {
    "execution": {
     "iopub.execute_input": "2024-03-24T16:41:15.229850Z",
     "iopub.status.busy": "2024-03-24T16:41:15.229036Z",
     "iopub.status.idle": "2024-03-24T16:41:15.256799Z",
     "shell.execute_reply": "2024-03-24T16:41:15.255862Z",
     "shell.execute_reply.started": "2024-03-24T16:41:15.229805Z"
    },
    "tags": []
   },
   "outputs": [
    {
     "name": "stdout",
     "output_type": "stream",
     "text": [
      "0.16764257812500105\n",
      "0.6877026062011735\n"
     ]
    }
   ],
   "source": [
    "K = (1 - 2 * (g_nf[0]-g_nf[1]) / a) / (2 * a)\n",
    "print(K)\n",
    "V2=g_nf[0]/2\n",
    "print((3/2)*K+(1/2)*V2)"
   ]
  },
  {
   "cell_type": "code",
   "execution_count": 2,
   "id": "5537b59a",
   "metadata": {
    "execution": {
     "iopub.execute_input": "2024-03-28T19:50:58.364309Z",
     "iopub.status.busy": "2024-03-28T19:50:58.363404Z",
     "iopub.status.idle": "2024-03-28T19:50:58.388718Z",
     "shell.execute_reply": "2024-03-28T19:50:58.388027Z",
     "shell.execute_reply.started": "2024-03-28T19:50:58.364268Z"
    },
    "tags": []
   },
   "outputs": [
    {
     "name": "stdout",
     "output_type": "stream",
     "text": [
      "1.6G\tlogs\n"
     ]
    }
   ],
   "source": [
    "\n",
    "\n",
    "! du -sh logs\n",
    "\n",
    "\n",
    "\n",
    "\n"
   ]
  },
  {
   "cell_type": "code",
   "execution_count": 3,
   "id": "96e1f7e3-4121-49e9-95f1-06ecbf041f59",
   "metadata": {
    "execution": {
     "iopub.execute_input": "2024-03-28T19:50:59.702533Z",
     "iopub.status.busy": "2024-03-28T19:50:59.701883Z",
     "iopub.status.idle": "2024-03-28T19:50:59.743230Z",
     "shell.execute_reply": "2024-03-28T19:50:59.742480Z",
     "shell.execute_reply.started": "2024-03-28T19:50:59.702494Z"
    },
    "tags": []
   },
   "outputs": [],
   "source": [
    "! rm -rf logs\n"
   ]
  },
  {
   "cell_type": "code",
   "execution_count": null,
   "id": "0937a257-cdff-4635-801c-dad1eb61f3e9",
   "metadata": {},
   "outputs": [],
   "source": [
    "def configure_flows(level_size,level_step=1):  # n_flows=8,...,12\n",
    "    flows=[]\n",
    "    n_levels=(N_latent-N_nod)//level_step\n",
    "    \n",
    "    if N_nod==N_latent:\n",
    "        level_step=0\n",
    "    \n",
    "    dim=N_latent//2\n",
    "    \n",
    "    for i in range(n_levels):\n",
    "        for k in range(level_size):\n",
    "            flows.append(AffineCouplingLayer(configure_theta(dim,dim),split=pair_SplitFunc,swap=k%2))\n",
    "        flows.append(nn.Linear(dim,dim-level_step//2))    \n",
    "        dim-=level_step//2    \n",
    "    \n",
    "    if dim!=N_nod//2:\n",
    "        print(\"smth wrong\")\n",
    "        \n",
    "    for k in range(level_size):\n",
    "        flows.append(AffineCouplingLayer(configure_theta(dim,dim),split=pair_SplitFunc,swap=k%2))\n",
    "    flows = nn.ModuleList(flows)\n",
    "    \n",
    "    return flows "
   ]
  },
  {
   "cell_type": "code",
   "execution_count": 11,
   "id": "67003bd9-b5df-4b89-bf8c-3fe1962ea74f",
   "metadata": {
    "execution": {
     "iopub.execute_input": "2024-03-08T22:17:57.203882Z",
     "iopub.status.busy": "2024-03-08T22:17:57.203532Z",
     "iopub.status.idle": "2024-03-08T22:18:00.912289Z",
     "shell.execute_reply": "2024-03-08T22:18:00.911495Z",
     "shell.execute_reply.started": "2024-03-08T22:17:57.203853Z"
    },
    "tags": []
   },
   "outputs": [
    {
     "name": "stdout",
     "output_type": "stream",
     "text": [
      "start\n",
      "Normal(loc: torch.Size([100]), scale: torch.Size([100]))\n"
     ]
    }
   ],
   "source": [
    "print(\"start\")\n",
    "from Data import normal_dist\n",
    "\n",
    "def configure_theta():\n",
    "    theta=ThetaNetwork(\n",
    "                in_dim = N_nod//2,\n",
    "                out_dim = N_nod//2,\n",
    "                num_hidden = 16,  #2 to 6\n",
    "                hidden_dim = 2*N_nod , #100-1024\n",
    "                num_params = 2,\n",
    "                p_drop=0.4,\n",
    "    )\n",
    "    return theta\n",
    "\n",
    "def configure_flows(n_flows):  # n_flows=8,...,12\n",
    "    flows=[]\n",
    "    \n",
    "    flows.append(D(N_nod))\n",
    "    \n",
    "    for k in range(n_flows//4):\n",
    "        flows.append(AffineCouplingLayer(configure_theta(),split=pair_SplitFunc,swap=k%2))\n",
    "        flows.append(L1(N_nod))\n",
    "    \n",
    "    for k in range(3 * n_flows//4):\n",
    "        flows.append(AffineCouplingLayer(configure_theta(),split=pair_SplitFunc,swap=k%2))\n",
    "    \n",
    "    flows.append(D(N_nod))    \n",
    "    flows = nn.ModuleList(flows)\n",
    "    return flows \n",
    "\n",
    "def configure_conv_flows(n_conv,kernel_size=3):\n",
    "    conv_flows=[]\n",
    "    for i in range(n_conv):\n",
    "        conv_flows.append(AffineCouplingLayer(Conv_NN(N_nod//2,2,kernel_size),split=pair_SplitFunc,swap=i%2))\n",
    "    conv_flows = nn.ModuleList(conv_flows)\n",
    "    return conv_flows\n",
    "\n",
    "print(normal_dist)\n",
    "\n",
    "                  "
   ]
  },
  {
   "cell_type": "code",
   "execution_count": null,
   "id": "b1f49475-3e4d-420b-b1fe-4cfd53099e62",
   "metadata": {},
   "outputs": [],
   "source": [
    "from Data import normal_dist\n",
    "\n",
    "def configure_theta():\n",
    "    theta=ThetaNetwork(\n",
    "                in_dim = N_nod//2,\n",
    "                out_dim = N_nod//2,\n",
    "                num_hidden = 16,  #2 to 6\n",
    "                hidden_dim = 2 * N_nod , #100-1024\n",
    "                num_params = 2,\n",
    "                p_drop=0.0,\n",
    "    )\n",
    "    return theta\n",
    "\n",
    "def configure_flows(n_flows):  # n_flows=8,...,12\n",
    "    flows=[]\n",
    "    \n",
    "    flows.append(CubicCouplingLayer(configure_theta(),split=pair_SplitFunc,swap=0))\n",
    "    flows.append(CubicCouplingLayer(configure_theta(),split=pair_SplitFunc,swap=1))\n",
    "    \n",
    "    flows.append(D(N_nod))\n",
    "\n",
    "    for k in range(n_flows):\n",
    "        flows.append(AffineCouplingLayer(configure_theta(),split=pair_SplitFunc,swap=k%2))\n",
    "            \n",
    "    \n",
    "    flows = nn.ModuleList(flows)\n",
    "    return flows "
   ]
  }
 ],
 "metadata": {
  "kernelspec": {
   "display_name": "Python 3 (ipykernel)",
   "language": "python",
   "name": "python3"
  },
  "language_info": {
   "codemirror_mode": {
    "name": "ipython",
    "version": 3
   },
   "file_extension": ".py",
   "mimetype": "text/x-python",
   "name": "python",
   "nbconvert_exporter": "python",
   "pygments_lexer": "ipython3",
   "version": "3.11.5"
  }
 },
 "nbformat": 4,
 "nbformat_minor": 5
}
