{
 "cells": [
  {
   "cell_type": "code",
   "execution_count": 2,
   "id": "dbee9da4",
   "metadata": {
    "execution": {
     "iopub.execute_input": "2024-06-25T23:22:40.982787Z",
     "iopub.status.busy": "2024-06-25T23:22:40.982277Z",
     "iopub.status.idle": "2024-06-25T23:22:44.711544Z",
     "shell.execute_reply": "2024-06-25T23:22:44.710770Z",
     "shell.execute_reply.started": "2024-06-25T23:22:40.982749Z"
    },
    "tags": []
   },
   "outputs": [],
   "source": [
    "from typing import Callable, List, Tuple\n",
    "\n",
    "import pytorch_lightning as pl\n",
    "import torch\n",
    "import torch.nn.functional as F\n",
    "from torch import nn\n",
    "from torch.distributions.distribution import Distribution\n",
    "from pytorch_lightning.loggers import TensorBoardLogger\n",
    "import matplotlib.pyplot as plt\n",
    "import numpy as np\n",
    "device = torch.device(\"cuda\" if torch.cuda.is_available() else \"cpu\")"
   ]
  },
  {
   "cell_type": "code",
   "execution_count": 3,
   "id": "86d6f61a",
   "metadata": {},
   "outputs": [
    {
     "data": {
      "image/png": "[encoded data removed]",
      "text/plain": [
       "<Figure size 640x480 with 1 Axes>"
      ]
     },
     "metadata": {},
     "output_type": "display_data"
    }
   ],
   "source": [
    "import numpy as np\n",
    "import matplotlib.pyplot as plt\n",
    "x=np.arange(0,1,0.1)\n",
    "plt.figure()\n",
    "plt.plot(x,x)\n",
    "plt.show()"
   ]
  },
  {
   "cell_type": "code",
   "execution_count": 4,
   "id": "c93eb4f7",
   "metadata": {
    "execution": {
     "iopub.execute_input": "2024-06-25T23:22:45.820517Z",
     "iopub.status.busy": "2024-06-25T23:22:45.819424Z",
     "iopub.status.idle": "2024-06-25T23:22:45.961046Z",
     "shell.execute_reply": "2024-06-25T23:22:45.960126Z",
     "shell.execute_reply.started": "2024-06-25T23:22:45.820457Z"
    },
    "tags": []
   },
   "outputs": [
    {
     "name": "stdout",
     "output_type": "stream",
     "text": [
      "False\n"
     ]
    }
   ],
   "source": [
    "from NFconstants import N_nod, Beta, a, K_nod\n",
    "from NFandist import get_O\n",
    "from NFandist import get_diag\n",
    "from NFandist import get_C\n",
    "from Data import normal_dist\n",
    "\n",
    "def set_random_seed(seed):\n",
    "    torch.manual_seed(seed)\n",
    "O=(torch.tensor(get_O(N_nod)).float()).to(device)\n",
    "Ot=(torch.t(O)).to(device)\n",
    "print(Ot.requires_grad)\n",
    "\n",
    "\n",
    "#C=(torch.tensor(get_C(N_nod,Beta)).float()).to(device)\n",
    "#Ct=(torch.t(C)).to(device)\n",
    "\n",
    "\n"
   ]
  },
  {
   "cell_type": "code",
   "execution_count": 87,
   "id": "b66bc606",
   "metadata": {
    "execution": {
     "iopub.execute_input": "2024-06-25T23:22:46.006851Z",
     "iopub.status.busy": "2024-06-25T23:22:46.005860Z",
     "iopub.status.idle": "2024-06-25T23:22:46.029401Z",
     "shell.execute_reply": "2024-06-25T23:22:46.028495Z",
     "shell.execute_reply.started": "2024-06-25T23:22:46.006811Z"
    },
    "tags": []
   },
   "outputs": [],
   "source": [
    "class AffineCouplingLayer(nn.Module):\n",
    "    def __init__(\n",
    "        self,\n",
    "        theta: nn.Module,\n",
    "        split,\n",
    "        swap: int\n",
    "    ):\n",
    "        super().__init__()\n",
    "        self.theta = theta\n",
    "        self.split = split\n",
    "        self.swap = swap\n",
    "\n",
    "    def g(self, z: torch.Tensor,params=torch.tensor([])) -> torch.Tensor:\n",
    "        \"\"\"g : z -> x. The inverse of f.\"\"\"\n",
    "        mask1=self.split[self.swap]\n",
    "        mask2=self.split[(self.swap+1)%2]\n",
    "        z1, z2 = z[:,mask1], z[:,mask2]\n",
    "        z1=torch.cat((z1,params),dim=-1)\n",
    "        t, s = self.theta(z1)\n",
    "        x2 = z2 * torch.exp(s) + t\n",
    "        log_det = s.sum(-1) \n",
    "        z[:,mask2]=x2\n",
    "        return z, log_det\n",
    "\n",
    "    def f(self, x: torch.Tensor,params=torch.tensor([])) -> torch.Tensor:\n",
    "        mask1=self.split[self.swap]\n",
    "        mask2=self.split[(self.swap+1)%2]\n",
    "        x1, x2 = x[:,mask1], x[:,mask2]\n",
    "        x1 = torch.cat((x1,params),dim=-1)\n",
    "        t, s = self.theta(x1)\n",
    "        z1, z2 = x1, torch.exp(-s)*(x2-t) \n",
    "        log_det = s.sum(-1) \n",
    "        x[:,mask2] = z2\n",
    "        return x, log_det    "
   ]
  },
  {
   "cell_type": "code",
   "execution_count": 88,
   "id": "537e92e8-6658-4cd1-a7fa-a6f9cbf3747f",
   "metadata": {
    "execution": {
     "iopub.execute_input": "2024-06-25T23:22:46.276507Z",
     "iopub.status.busy": "2024-06-25T23:22:46.275322Z",
     "iopub.status.idle": "2024-06-25T23:22:46.290869Z",
     "shell.execute_reply": "2024-06-25T23:22:46.290153Z",
     "shell.execute_reply.started": "2024-06-25T23:22:46.276453Z"
    },
    "tags": []
   },
   "outputs": [],
   "source": [
    "class D(nn.Linear):\n",
    "    def __init__(self,n):\n",
    "        super().__init__(n,1,bias=False)\n",
    "        self.n=n\n",
    "        self.d_ind=[(n+1)*k for k in range(n)]\n",
    "    \n",
    "    def anti_flatten(self):\n",
    "        n=self.n\n",
    "        D=torch.zeros((n**2)).to(device)\n",
    "        D[self.d_ind]=self.weight.to(device)\n",
    "        D=torch.reshape(D,(n,n)).to(device)\n",
    "        return D        \n",
    "            \n",
    "    def log_abs_det(self):\n",
    "        ABS=torch.abs(self.weight)\n",
    "        l=torch.log(ABS)\n",
    "        lad=torch.sum(l)\n",
    "        return lad\n",
    "    \n",
    "    def forward(self,x):\n",
    "        D=(self.anti_flatten()).to(x.device)\n",
    "        return torch.matmul(x,D)\n",
    "    \n",
    "    def g(self,z,params):\n",
    "        lad=self.log_abs_det()\n",
    "        return self.forward(z),  lad * torch.ones((z.shape[0])).to(z.device)\n",
    "        \n",
    "    def adj(self,mat):\n",
    "        Lw=self.anti_flatten()\n",
    "        Lwt=torch.t(Lw)\n",
    "        D=torch.matmul(Lwt,torch.matmul(mat,Lw))\n",
    "        return D\n",
    "    "
   ]
  },
  {
   "cell_type": "code",
   "execution_count": 89,
   "id": "eee87ce1-a3ea-4a0b-9e0b-4b00779eb17c",
   "metadata": {
    "execution": {
     "iopub.execute_input": "2024-06-25T23:22:46.376025Z",
     "iopub.status.busy": "2024-06-25T23:22:46.374943Z",
     "iopub.status.idle": "2024-06-25T23:22:46.399553Z",
     "shell.execute_reply": "2024-06-25T23:22:46.398893Z",
     "shell.execute_reply.started": "2024-06-25T23:22:46.375991Z"
    },
    "tags": []
   },
   "outputs": [],
   "source": [
    "class CubicCouplingLayer(nn.Module):\n",
    "    def __init__(\n",
    "        self,\n",
    "        theta,\n",
    "        split,\n",
    "        swap: int,\n",
    "        reg=1\n",
    "    ):\n",
    "        super().__init__()\n",
    "        self.theta = theta\n",
    "        self.split = split\n",
    "        self.swap = swap\n",
    "        self.reg=reg\n",
    "        \n",
    "    def g(self, z: torch.Tensor,params=torch.tensor([])) -> torch.Tensor:\n",
    "        \"\"\"g : z -> x. The inverse of f.\"\"\"\n",
    "        mask1=self.split[self.swap]\n",
    "        mask2=self.split[(self.swap+1)%2]\n",
    "        z1, z2 = z[:,mask1], z[:,mask2]\n",
    "        z1=torch.cat((z1,params),dim=-1)\n",
    "        t, s = self.theta(z1)\n",
    "        x2 = z2 + torch.exp(s-self.reg) * (z2) ** 3 + t\n",
    "        log_det = (torch.log(1+3 * torch.exp(s-self.reg) * (z2) ** 2)).sum(-1)\n",
    "        z[:,mask2]=x2\n",
    "        return z, log_det    \n",
    "\n"
   ]
  },
  {
   "cell_type": "code",
   "execution_count": 90,
   "id": "f446e228",
   "metadata": {
    "execution": {
     "iopub.execute_input": "2024-06-25T23:22:46.465683Z",
     "iopub.status.busy": "2024-06-25T23:22:46.464860Z",
     "iopub.status.idle": "2024-06-25T23:22:46.480740Z",
     "shell.execute_reply": "2024-06-25T23:22:46.479948Z",
     "shell.execute_reply.started": "2024-06-25T23:22:46.465643Z"
    },
    "tags": []
   },
   "outputs": [],
   "source": [
    "def get_split_masks(dim=N_nod):\n",
    "    mask1=list(range(0,dim,2))\n",
    "    mask2=list(range(1,dim,2))\n",
    "    split_masks=[mask1,mask2]\n",
    "    return split_masks\n",
    "    "
   ]
  },
  {
   "cell_type": "code",
   "execution_count": 91,
   "id": "7df6bec4-7cc4-43bd-b701-0b10d9341203",
   "metadata": {
    "execution": {
     "iopub.execute_input": "2024-06-25T23:22:47.148092Z",
     "iopub.status.busy": "2024-06-25T23:22:47.147094Z",
     "iopub.status.idle": "2024-06-25T23:22:47.160191Z",
     "shell.execute_reply": "2024-06-25T23:22:47.159484Z",
     "shell.execute_reply.started": "2024-06-25T23:22:47.148039Z"
    },
    "tags": []
   },
   "outputs": [],
   "source": [
    "def get_pair_split_masks(dim=N_nod):\n",
    "    mask1=list(range(0,dim,4))\n",
    "    mask2=list(range(2,dim,4))\n",
    "    mask1=(mask1+list(map(lambda x:x+1,mask1)))\n",
    "    mask2=(mask2+list(map(lambda x:x+1,mask2)))\n",
    "    mask1.sort()\n",
    "    mask2.sort()\n",
    "    split_masks=[mask1,mask2]\n",
    "    return split_masks"
   ]
  },
  {
   "cell_type": "code",
   "execution_count": 92,
   "id": "89e2e80d-b8ae-4511-972d-8c966b1803f6",
   "metadata": {
    "execution": {
     "iopub.execute_input": "2024-06-25T23:22:47.184323Z",
     "iopub.status.busy": "2024-06-25T23:22:47.183467Z",
     "iopub.status.idle": "2024-06-25T23:22:47.218214Z",
     "shell.execute_reply": "2024-06-25T23:22:47.217498Z",
     "shell.execute_reply.started": "2024-06-25T23:22:47.184286Z"
    },
    "tags": []
   },
   "outputs": [],
   "source": [
    "class ThetaNetwork(nn.Module):\n",
    "    def __init__(\n",
    "        self,\n",
    "        in_dim: int,\n",
    "        out_dim: int,\n",
    "        num_hidden: int,\n",
    "        hidden_dim: int,\n",
    "        num_params: int,\n",
    "        p_drop: float,\n",
    "    ):\n",
    "        super().__init__()\n",
    "        self.input = nn.Linear(in_dim, hidden_dim)\n",
    "        self.hidden = nn.ModuleList(\n",
    "            [nn.Sequential(\n",
    "                nn.Linear(hidden_dim, hidden_dim),\n",
    "                nn.Dropout(p=p_drop),\n",
    "                nn.LayerNorm(hidden_dim)\n",
    "            ) for _ in range(num_hidden)]\n",
    "        )\n",
    "\n",
    "        self.num_params = num_params\n",
    "        self.out_dim = out_dim\n",
    "        self.dims = nn.Linear(hidden_dim, out_dim * num_params)\n",
    "        \n",
    "    def configure_theta(num_hidden,hidden_dim,p_drop,in_dim=N_nod//2,out_dim=N_nod//2):\n",
    "        theta=ThetaNetwork(\n",
    "                in_dim = in_dim,\n",
    "                out_dim = out_dim,\n",
    "                num_hidden = num_hidden,  #2 to 6\n",
    "                hidden_dim = hidden_dim , #100-1024\n",
    "                num_params = 2,\n",
    "                p_drop=p_drop,\n",
    "        )\n",
    "        return theta    \n",
    "\n",
    "    def forward(self, x: torch.Tensor) -> torch.Tensor:\n",
    "        x = F.leaky_relu(self.input(x),negative_slope=0.01)\n",
    "        for h in self.hidden:\n",
    "            x = F.leaky_relu(h(x),negative_slope=0.01)\n",
    "\n",
    "        batch_params = self.dims(x).reshape(x.size(0), self.out_dim, -1) \n",
    "        params = batch_params.chunk(self.num_params, dim=-1) \n",
    "        return [p.squeeze(-1) for p in params]"
   ]
  },
  {
   "cell_type": "code",
   "execution_count": 107,
   "id": "f17f095c",
   "metadata": {
    "execution": {
     "iopub.execute_input": "2024-06-25T23:22:47.403729Z",
     "iopub.status.busy": "2024-06-25T23:22:47.402668Z",
     "iopub.status.idle": "2024-06-25T23:22:47.425221Z",
     "shell.execute_reply": "2024-06-25T23:22:47.424322Z",
     "shell.execute_reply.started": "2024-06-25T23:22:47.403673Z"
    },
    "tags": []
   },
   "outputs": [
    {
     "data": {
      "text/plain": [
       "'\\n    def g_steps(self, z: torch.Tensor) -> List[torch.Tensor]:\\n        Maps latent variable z to observation x\\n        and stores intermediate results.\\n        \\n        xs = [z]\\n        for flow in reversed(self.flows):\\n            xs.append(flow.g(xs[-1]))\\n        return xs\\n\\n    \\n    def latent_log_prob(self, z: torch.Tensor) -> torch.Tensor:\\n        llp=self.latent.log_prob(z)\\n        sum_llp= torch.sum(llp,axis=-1)\\n        return sum_llp\\n \\n    \\n'"
      ]
     },
     "execution_count": 107,
     "metadata": {},
     "output_type": "execute_result"
    }
   ],
   "source": [
    "class NormalizingFlow(nn.Module):\n",
    "    \n",
    "    def __init__(self, latent: Distribution, flows: List[nn.Module], conv_flows = [], ort=False):\n",
    "        super().__init__()\n",
    "        self.latent = latent\n",
    "        self.flows = flows\n",
    "        self.ort = ort\n",
    "        self.conv_flows = conv_flows\n",
    "        \n",
    "    def configure_flows(n_flows,num_hidden,hidden_dim,p_drop,dim=N_nod,param_dim=0):  # n_flows=8,...,12\n",
    "        flows = []\n",
    "        split_masks_d = get_pair_split_masks(dim)\n",
    "        #split_masks_d = get_split_masks(dim)\n",
    "    \n",
    "        for k in range(n_flows):\n",
    "            theta = ThetaNetwork.configure_theta( num_hidden = num_hidden, hidden_dim = hidden_dim, p_drop=p_drop ,in_dim = dim//2+param_dim,out_dim = dim//2)\n",
    "            flows.append(AffineCouplingLayer(theta,split=split_masks_d,swap=k%2))\n",
    "   \n",
    "        flows = nn.ModuleList(flows)\n",
    "        return flows     \n",
    "\n",
    "    def latent_sample(self, num_samples: int = 1) -> torch.Tensor:\n",
    "        z=self.latent.sample((num_samples,))\n",
    "        return z        \n",
    "\n",
    "    def sample(self, num_samples: int = 1) -> torch.Tensor:\n",
    "        \"\"\"Sample a new observation x by sampling z from\n",
    "        the latent distribution and pass through g.\"\"\"\n",
    "        z=(self.latent_sample(num_samples))\n",
    "        with torch.no_grad():\n",
    "            x, _ = self.g(z)\n",
    "        return x \n",
    "    \n",
    "\n",
    "    def g(self, z: torch.Tensor,params=torch.tensor([])) -> torch.Tensor:\n",
    "        \n",
    "        x, sum_log_abs_det = z, torch.zeros(z.size(0)).to(z.device)\n",
    "        for flow in reversed(self.flows):\n",
    "            x, log_abs_det = flow.g(x,params)\n",
    "            sum_log_abs_det += log_abs_det\n",
    "        \n",
    "        if self.ort:\n",
    "            x=torch.matmul(x,Ot.to(x.device))\n",
    "          \n",
    "        \n",
    "        for flow in reversed(self.conv_flows):\n",
    "            x, log_abs_det = flow.g(x)\n",
    "            sum_log_abs_det += log_abs_det\n",
    "        return x, sum_log_abs_det\n",
    "    \n",
    "        \n",
    "    def __len__(self) -> int:\n",
    "        return len(self.flows)\n",
    "    \n",
    "    def f(self, x: torch.Tensor,params=torch.tensor([])) -> Tuple[torch.Tensor, torch.Tensor]:\n",
    "        \n",
    "        with torch.no_grad():\n",
    "            if self.ort:\n",
    "                x=torch.matmul(x,O.to(x.device))\n",
    "        \n",
    "            z, sum_log_abs_det = x, torch.zeros(x.size(0)).to(x.device)\n",
    "        \n",
    "            for flow in self.flows:\n",
    "                z, log_abs_det = flow.f(z,params)\n",
    "                sum_log_abs_det += log_abs_det\n",
    "        \n",
    "        return z, sum_log_abs_det\n",
    "    \n",
    " \n",
    "\"\"\"\n",
    "    def g_steps(self, z: torch.Tensor) -> List[torch.Tensor]:\n",
    "        Maps latent variable z to observation x\n",
    "        and stores intermediate results.\n",
    "        \n",
    "        xs = [z]\n",
    "        for flow in reversed(self.flows):\n",
    "            xs.append(flow.g(xs[-1]))\n",
    "        return xs\n",
    "\n",
    "    \n",
    "    def latent_log_prob(self, z: torch.Tensor) -> torch.Tensor:\n",
    "        llp=self.latent.log_prob(z)\n",
    "        sum_llp= torch.sum(llp,axis=-1)\n",
    "        return sum_llp\n",
    " \n",
    "    \n",
    "\"\"\"\n",
    "    "
   ]
  },
  {
   "cell_type": "code",
   "execution_count": 115,
   "id": "0708d093",
   "metadata": {},
   "outputs": [],
   "source": [
    "flows = NormalizingFlow.configure_flows(12,4,N_nod//2,0)\n",
    "nf = NormalizingFlow(normal_dist, flows)"
   ]
  },
  {
   "cell_type": "code",
   "execution_count": 116,
   "id": "ffe0bebb",
   "metadata": {},
   "outputs": [
    {
     "name": "stdout",
     "output_type": "stream",
     "text": [
      "tensor(2.0307e-16, grad_fn=<PowBackward0>)\n"
     ]
    }
   ],
   "source": [
    "z=normal_dist.sample((100,))\n",
    "t=z.clone()\n",
    "x,_=nf.g(z)\n",
    "y,_=nf.f(x)\n",
    "print(torch.mean(y-t)**2)"
   ]
  },
  {
   "cell_type": "code",
   "execution_count": 94,
   "id": "757ed556",
   "metadata": {},
   "outputs": [],
   "source": [
    "theta = ThetaNetwork.configure_theta(num_hidden = 4, \n",
    "                                     hidden_dim = N_nod//2, \n",
    "                                     p_drop=0 ,\n",
    "                                     in_dim = N_nod//2,\n",
    "                                     out_dim = N_nod//2)\n",
    "aff=AffineCouplingLayer(theta,split=get_pair_split_masks(),swap=0)\n"
   ]
  },
  {
   "cell_type": "code",
   "execution_count": 95,
   "id": "68945873",
   "metadata": {},
   "outputs": [
    {
     "name": "stdout",
     "output_type": "stream",
     "text": [
      "tensor(2.0986e-18, grad_fn=<PowBackward0>)\n"
     ]
    }
   ],
   "source": [
    "z=normal_dist.sample((10,))\n",
    "t=z.clone()\n",
    "x,_=aff.g(z)\n",
    "y,_=aff.f(x)\n",
    "print(torch.mean(y-t)**2)"
   ]
  },
  {
   "cell_type": "code",
   "execution_count": 96,
   "id": "a44c02b7",
   "metadata": {},
   "outputs": [],
   "source": [
    "def get_points(start,stop,step):\n",
    "    if step == 0:\n",
    "        print(\"step = 0 error\")\n",
    "        return 1\n",
    "    x=start\n",
    "    Y=[]\n",
    "    while x < stop:\n",
    "        Y.append(x)\n",
    "        Y.append(x+1)\n",
    "        x += step\n",
    "    return Y\n",
    "\n",
    "\n",
    "def config_RG_masks(m,n_nod):\n",
    "    masks = []\n",
    "    start = 0\n",
    "    step = n_nod // (2 ** (m-1))\n",
    "    tmp = get_points(start,n_nod,step)\n",
    "    masks.append(tmp)\n",
    "    if n_nod == 2 ** m:\n",
    "        return masks\n",
    "    start = step//2\n",
    "    masks.append(get_points(start,n_nod,step))\n",
    "    while step > 4:\n",
    "        step //= 2\n",
    "        start = step//2\n",
    "        masks.append(get_points(start,n_nod,step))\n",
    "    return masks\n",
    "    "
   ]
  },
  {
   "cell_type": "code",
   "execution_count": 97,
   "id": "c5015dc6",
   "metadata": {},
   "outputs": [],
   "source": [
    "def get_multiO(m,N):\n",
    "    omasks = config_RG_masks(m,N)\n",
    "    mO=np.zeros((N,N))\n",
    "    for i in range(len(omasks)):\n",
    "        dim=len(omasks[i])\n",
    "        Pt=np.zeros((N,dim))\n",
    "        Pt[omasks[i]] = np.eye(dim)\n",
    "        P=np.transpose(Pt)\n",
    "        O=get_O(dim)\n",
    "        mO+=np.dot(Pt,np.dot(O,P))\n",
    "    return mO\n",
    "mO=get_multiO(3,N_nod)\n",
    "mOt=O=(torch.tensor(np.transpose(mO)).float()).to(device)"
   ]
  },
  {
   "cell_type": "code",
   "execution_count": 98,
   "id": "2cd6d778",
   "metadata": {},
   "outputs": [],
   "source": [
    "def getproj(mask,N=N_nod):\n",
    "    dim = len(mask)\n",
    "    Pt=torch.zeros((N,dim))\n",
    "    Pt[mask] = torch.eye(dim)\n",
    "    return Pt"
   ]
  },
  {
   "cell_type": "code",
   "execution_count": 99,
   "id": "daa2897f",
   "metadata": {
    "execution": {
     "iopub.execute_input": "2024-06-25T23:22:47.450155Z",
     "iopub.status.busy": "2024-06-25T23:22:47.449080Z",
     "iopub.status.idle": "2024-06-25T23:22:47.489045Z",
     "shell.execute_reply": "2024-06-25T23:22:47.488120Z",
     "shell.execute_reply.started": "2024-06-25T23:22:47.450110Z"
    },
    "tags": []
   },
   "outputs": [],
   "source": [
    "class RGflows(nn.Module):\n",
    "    \n",
    "    def __init__(self,latent: Distribution ,nflist, masks, n_flows_dict,num_hidden_dict,hidden_dim_dict):\n",
    "        super().__init__()\n",
    "        self.latent = latent\n",
    "        self.nflist = nflist\n",
    "        self.masks = masks\n",
    "        self.n_flows_dict = n_flows_dict\n",
    "        self.num_hidden_dict = num_hidden_dict\n",
    "        self.hidden_dim_dict = hidden_dim_dict\n",
    "        #self.Projt = [getproj(self.masks[i]) for i in range(len(self.masks)) ]\n",
    "        #self.Proj = [torch.transpose(getproj(self.masks[i]),0,1) for i in range(len(self.masks)) ]\n",
    "        \n",
    "    def configure_RG_flows(masks,n_flows_dict,num_hidden_dict,hidden_dim_dict,p_drop=0):  \n",
    "        nflist=[]\n",
    "        dim = len(masks[0])\n",
    "        param_dim = 0\n",
    "        for k in range(len(masks)):\n",
    "            flows =  NormalizingFlow.configure_flows(n_flows = n_flows_dict[dim] , num_hidden = num_hidden_dict[dim] , hidden_dim = hidden_dim_dict[dim], dim = dim , param_dim = param_dim, p_drop = p_drop)\n",
    "            nflist.append(NormalizingFlow(latent=normal_dist,flows=flows,ort=False))\n",
    "            param_dim += dim \n",
    "            if k!=0: dim *= 2 \n",
    "        nflist = nn.ModuleList(nflist)        \n",
    "        return nflist    \n",
    "        \n",
    "    def configure_RG_model(latent,masks,n_flows_dict, num_hidden_dict,hidden_dim_dict,p_drop=0):\n",
    "        flows=RGflows.configure_RG_flows(masks,n_flows_dict,num_hidden_dict,hidden_dim_dict,p_drop=p_drop)\n",
    "        return RGflows(latent,flows,RGmasks,n_flows_dict,num_hidden_dict,hidden_dim_dict)\n",
    "    \n",
    "    def save(self,filename):\n",
    "        state_dict = self.state_dict()\n",
    "        model_dict={\"state_dict\":state_dict,\n",
    "                    \"n_flows_dict\":self.n_flows_dict,\n",
    "                    \"num_hidden_dict\":self.num_hidden_dict,\n",
    "                    \"hidden_dim_dict\":self.hidden_dim_dict,\n",
    "                    \"masks\":self.masks}\n",
    "        torch.save(model_dict,filename)\n",
    "    \n",
    "    def load_model(filename):   \n",
    "        model_dict = torch.load(filename,map_location = device)\n",
    "        model=RGflows.configure_RG_model(normal_dist,\n",
    "                                  model_dict[\"masks\"],\n",
    "                                  model_dict[\"n_flows_dict\"], \n",
    "                                  model_dict[\"num_hidden_dict\"],\n",
    "                                  model_dict[\"hidden_dim_dict\"],\n",
    "                                  p_drop=0)\n",
    "        model.load_state_dict(model_dict[\"state_dict\"])\n",
    "        return model\n",
    "        \n",
    "\n",
    "    def latent_sample(self, num_samples: int = 1) -> torch.Tensor:\n",
    "        z=self.latent.sample((num_samples,))\n",
    "        return z        \n",
    "\n",
    "    def sample(self, num_samples: int = 1) -> torch.Tensor:\n",
    "        \"\"\"Sample a new observation x by sampling z from\n",
    "        the latent distribution and pass through g.\"\"\"\n",
    "        z=(self.latent_sample(num_samples))\n",
    "        with torch.no_grad():\n",
    "            x, _ = self.g(z)\n",
    "        return x \n",
    "    \n",
    "\n",
    "    def g(self, z: torch.Tensor,params=torch.tensor([])) -> torch.Tensor:\n",
    "        \n",
    "        sum_log_abs_det = torch.zeros(z.size(0)).to(z.device)\n",
    "        params=torch.tensor([]).to(z.device)\n",
    "        \n",
    "        for i in range(len(self.nflist)):\n",
    "            x=z[:,self.masks[i]]\n",
    "            x, log_abs_det = ((self.nflist)[i]).g(x,params)\n",
    "            sum_log_abs_det += log_abs_det\n",
    "            params=torch.cat((params,x.detach()),dim=-1)\n",
    "            z[:,self.masks[i]] = x\n",
    "        z = torch.matmul(z,Ot.to(z.device))    \n",
    "        return z, sum_log_abs_det\n",
    "    \n",
    "    def f(self, z: torch.Tensor,params=torch.tensor([])) -> torch.Tensor:\n",
    "        \n",
    "        sum_log_abs_det = torch.zeros(z.size(0)).to(z.device)\n",
    "        params=torch.tensor([]).to(z.device)\n",
    "        \n",
    "        for i in range(len(self.nflist)):\n",
    "            x=z[:,self.masks[i]]\n",
    "            x, log_abs_det = ((self.nflist)[i]).g(x,params)\n",
    "            sum_log_abs_det += log_abs_det\n",
    "            params=torch.cat((params,x.detach()),dim=-1)\n",
    "            z[:,self.masks[i]] = x\n",
    "        z = torch.matmul(z,Ot.to(z.device))    \n",
    "        return z, sum_log_abs_det\n",
    "    \n",
    "    \n",
    "    def g_samp(self, z: torch.Tensor,params=torch.tensor([])) -> torch.Tensor:\n",
    "        \n",
    "        sum_log_abs_det = torch.zeros(z.size(0)).to(z.device)\n",
    "        params = torch.tensor([]).to(z.device)\n",
    "        res = torch.zeros((z.shape[0],z.shape[1]))\n",
    "        \n",
    "        for i in range(len(self.nflist)):\n",
    "            x=z[:,self.masks[i]]\n",
    "            res1, log_abs_det = ((self.nflist)[i]).g(x,params)\n",
    "            sum_log_abs_det += log_abs_det\n",
    "            params = torch.cat((params,x),dim=-1)\n",
    "            res[:,self.masks[i]] = res1\n",
    "        res = torch.matmul(res,Ot.to(z.device))    \n",
    "        return res, sum_log_abs_det\n",
    "    \n",
    "        \n",
    "    def __len__(self) -> int:\n",
    "        return len(self.flows)\n",
    "    \n",
    "    def forward(self,z,grads=False):\n",
    "        t=z.clone()\n",
    "        with torch.no_grad():\n",
    "            x, log_abs_det=self.g(t)\n",
    "\n",
    "\n",
    "        return x, log_abs_det\n",
    "    \n",
    " \n",
    "\n",
    "    "
   ]
  },
  {
   "cell_type": "code",
   "execution_count": 100,
   "id": "dfda85d4-e4b8-4687-94fc-cfeb66265c79",
   "metadata": {
    "execution": {
     "iopub.execute_input": "2024-06-25T23:22:47.557287Z",
     "iopub.status.busy": "2024-06-25T23:22:47.556285Z",
     "iopub.status.idle": "2024-06-25T23:22:47.570205Z",
     "shell.execute_reply": "2024-06-25T23:22:47.569575Z",
     "shell.execute_reply.started": "2024-06-25T23:22:47.557251Z"
    },
    "tags": []
   },
   "outputs": [],
   "source": [
    "RGmasks = config_RG_masks(3,N_nod)"
   ]
  },
  {
   "cell_type": "code",
   "execution_count": 101,
   "id": "e8056833-22ec-4f32-bd8e-09c30cdb01af",
   "metadata": {
    "execution": {
     "iopub.execute_input": "2024-06-25T23:22:47.594256Z",
     "iopub.status.busy": "2024-06-25T23:22:47.593436Z",
     "iopub.status.idle": "2024-06-25T23:22:47.645448Z",
     "shell.execute_reply": "2024-06-25T23:22:47.644570Z",
     "shell.execute_reply.started": "2024-06-25T23:22:47.594220Z"
    },
    "tags": []
   },
   "outputs": [
    {
     "name": "stdout",
     "output_type": "stream",
     "text": [
      "[[0, 1, 32, 33, 64, 65, 96, 97], [16, 17, 48, 49, 80, 81, 112, 113], [8, 9, 24, 25, 40, 41, 56, 57, 72, 73, 88, 89, 104, 105, 120, 121], [4, 5, 12, 13, 20, 21, 28, 29, 36, 37, 44, 45, 52, 53, 60, 61, 68, 69, 76, 77, 84, 85, 92, 93, 100, 101, 108, 109, 116, 117, 124, 125], [2, 3, 6, 7, 10, 11, 14, 15, 18, 19, 22, 23, 26, 27, 30, 31, 34, 35, 38, 39, 42, 43, 46, 47, 50, 51, 54, 55, 58, 59, 62, 63, 66, 67, 70, 71, 74, 75, 78, 79, 82, 83, 86, 87, 90, 91, 94, 95, 98, 99, 102, 103, 106, 107, 110, 111, 114, 115, 118, 119, 122, 123, 126, 127]]\n"
     ]
    }
   ],
   "source": [
    "print(RGmasks)"
   ]
  },
  {
   "cell_type": "code",
   "execution_count": 102,
   "id": "5401fb59",
   "metadata": {
    "execution": {
     "iopub.execute_input": "2024-06-25T23:22:48.052007Z",
     "iopub.status.busy": "2024-06-25T23:22:48.051167Z",
     "iopub.status.idle": "2024-06-25T23:22:48.082311Z",
     "shell.execute_reply": "2024-06-25T23:22:48.081575Z",
     "shell.execute_reply.started": "2024-06-25T23:22:48.051969Z"
    },
    "tags": []
   },
   "outputs": [],
   "source": [
    "class Pipeline(pl.LightningModule):\n",
    "    def __init__(\n",
    "        self,\n",
    "        model,\n",
    "        criterion,\n",
    "        optimizer_class=torch.optim.Adam,\n",
    "        optimizer_kwargs={\"lr\": 0.001,\"weight_decay\": 0}\n",
    "    ) -> None:\n",
    "        super().__init__()\n",
    "        self.model = model\n",
    "        self.loss = criterion\n",
    "        self.optimizer_class = optimizer_class\n",
    "        self.optimizer_kwargs = optimizer_kwargs\n",
    "\n",
    "    \"\"\"\n",
    "    def configure_optimizers(self):\n",
    "        optimizer = self.optimizer_class(\n",
    "            self.model.parameters(), **self.optimizer_kwargs\n",
    "        )\n",
    "        return optimizer\n",
    "    \"\"\"\n",
    "    \n",
    "    def configure_optimizers(self):\n",
    "        optimizer = self.optimizer_class(\n",
    "            self.model.parameters(), **self.optimizer_kwargs\n",
    "        )\n",
    "        \n",
    "        \n",
    "        scheduler = torch.optim.lr_scheduler.ReduceLROnPlateau(\n",
    "            optimizer=optimizer,\n",
    "            min_lr=1e-9,\n",
    "            factor=0.5,\n",
    "            mode=\"min\",\n",
    "            threshold=0.1,\n",
    "            patience = 1,\n",
    "            verbose=True,\n",
    "        )\n",
    "\n",
    "        lr_scheduler = {\n",
    "            \"scheduler\": scheduler,\n",
    "            \"interval\": \"epoch\",\n",
    "            \"monitor\": \"train_loss\",\n",
    "        }\n",
    "        return [optimizer], [lr_scheduler]\n",
    "\n",
    "    def training_step(self, batch, batch_idx):\n",
    "        z = batch\n",
    "        x, log_abs_det = self.model.g(z)\n",
    "        loss = self.loss(x,log_abs_det)\n",
    "        self.log('train_loss', loss, prog_bar=True)\n",
    "        return loss\n",
    "\n",
    "\n",
    "    def on_train_epoch_end(self):\n",
    "        #print(\"---------------------------end epoch---------------------------------\")\n",
    "        pass\n",
    "    \n",
    "    def on_validation_end(self) -> None:\n",
    "        if not self.automatic_optimization:\n",
    "            # Save a checkpoint of the model\n",
    "            ckpt_path = os.path.join(self.trainer.log_dir, 'checkpoints', 'ckpt.pt')\n",
    "            self.trainer.save_checkpoint(ckpt_path, weights_only=True)\n",
    "        return super().on_validation_end()\n",
    "    \n",
    "    "
   ]
  },
  {
   "cell_type": "code",
   "execution_count": 103,
   "id": "3857c540-6428-46f4-ac0a-31aa76f83ad2",
   "metadata": {
    "execution": {
     "iopub.execute_input": "2024-06-25T23:22:48.428882Z",
     "iopub.status.busy": "2024-06-25T23:22:48.427853Z",
     "iopub.status.idle": "2024-06-25T23:22:48.544010Z",
     "shell.execute_reply": "2024-06-25T23:22:48.543243Z",
     "shell.execute_reply.started": "2024-06-25T23:22:48.428842Z"
    },
    "tags": []
   },
   "outputs": [],
   "source": [
    "from NFoscillator import Oscillator\n",
    "from NFrel_oscillator import Rel_Oscillator\n",
    "from NFur_oscillator import Ur_Oscillator\n",
    "from NFx4 import X4\n",
    "from NFMorse import Morse\n",
    "from NFrel_Morse import Rel_Morse\n",
    "from NFrel_Columb import Rel_Columb\n",
    "from NFnonrel_Columb import NonRel_Columb\n",
    "from NFbadur_oscillator import BadUr_Oscillator\n",
    "from NFtwowells import Two_wells\n",
    "from NFcircle import Circle\n",
    "from NFrel_twowells import Rel_two_wells \n",
    "\n",
    "osc=Oscillator(N_nod,Beta)\n",
    "KL_osc=osc.get_KL()\n",
    "\n",
    "rel1=Rel_Oscillator(N_nod,Beta,sigma=1)\n",
    "KL_rel1=rel1.get_KL()\n",
    "\n",
    "ur=Ur_Oscillator(N_nod,Beta)\n",
    "KL_ur=ur.get_KL()\n",
    "\n",
    "rel_columb=Rel_Columb(N_nod,Beta,alpha=1,R=1)\n",
    "KL_rel_columb=rel_columb.get_KL()\n",
    "\n",
    "tw = Two_wells(N_nod,Beta,g=1,x0=1.41)\n",
    "KL_tw = tw.get_KL()\n",
    "\n",
    "\n",
    "morse = Morse(N_nod,Beta,alpha=1)\n",
    "KL_morse = morse.get_KL()\n",
    "\n",
    "circ = Circle(N_nod,Beta,g=1,x0=4)\n",
    "KL_circ = circ.get_KL()\n",
    "\n",
    "rel_morse = Rel_Morse(N_nod,Beta,m=1,alpha=1)\n",
    "KL_rel_morse = rel_morse.get_KL()\n",
    "\n",
    "rel_tw = Rel_two_wells(N_nod,Beta,m=1,g=1,x0=1.41)\n",
    "KL_rel_tw = rel_tw.get_KL()\n",
    "\n",
    "KL_rel001=Rel_Oscillator(N_nod,Beta,sigma=0.01).get_KL()\n",
    "KL_rel01=Rel_Oscillator(N_nod,Beta,sigma=0.1).get_KL()\n",
    "KL_rel10=Rel_Oscillator(N_nod,Beta,sigma=10).get_KL()\n",
    "KL_rel29=Rel_Oscillator(N_nod,Beta,sigma = 2 ** 9).get_KL()\n",
    "KL_X4=X4(N_nod,Beta,g=0.05).get_KL()\n",
    "KL_rel_morse=Rel_Morse(N_nod,Beta,alpha=1,m=1000).get_KL()\n",
    "KL_nonrel_columb=NonRel_Columb(N_nod,Beta,alpha=1,R=1).get_KL()\n"
   ]
  },
  {
   "cell_type": "code",
   "execution_count": 35,
   "id": "648fcf72-c0d1-4949-8b40-ef14fec703fc",
   "metadata": {
    "execution": {
     "iopub.execute_input": "2024-06-25T23:22:48.709545Z",
     "iopub.status.busy": "2024-06-25T23:22:48.708524Z",
     "iopub.status.idle": "2024-06-25T23:22:48.738119Z",
     "shell.execute_reply": "2024-06-25T23:22:48.737327Z",
     "shell.execute_reply.started": "2024-06-25T23:22:48.709507Z"
    },
    "tags": []
   },
   "outputs": [],
   "source": [
    "class KL_mix(nn.Module):\n",
    "    \n",
    "    def __init__(self,KL1,KL2,alpha=0.5):\n",
    "        super().__init__()\n",
    "        self.KL1 = KL1\n",
    "        self.KL2 = KL2\n",
    "        self.alpha = alpha\n",
    "    \n",
    "    def forward(self,x,log_abs_det):\n",
    "        n_nod = x.shape[1]\n",
    "        N2 = self.KL2.n_nod\n",
    "        step = n_nod//N2\n",
    "        x1 = x[:,::step]\n",
    "        loss = (1-self.alpha) * self.KL1(x,log_abs_det) + self.alpha * self.KL2(x1,log_abs_det) \n",
    "        return loss"
   ]
  },
  {
   "cell_type": "code",
   "execution_count": 47,
   "id": "eae42727-7687-48fe-841a-c2e24320095f",
   "metadata": {
    "execution": {
     "iopub.execute_input": "2024-06-25T23:22:50.856742Z",
     "iopub.status.busy": "2024-06-25T23:22:50.855458Z",
     "iopub.status.idle": "2024-06-25T23:22:50.878104Z",
     "shell.execute_reply": "2024-06-25T23:22:50.877355Z",
     "shell.execute_reply.started": "2024-06-25T23:22:50.856695Z"
    },
    "tags": []
   },
   "outputs": [],
   "source": [
    "hidden_dim_dict1={8:4,16:8,32:8,64:16}\n",
    "n_flows_dict1={8:4,16:4,32:6,64:6}\n",
    "num_hidden_dict1={8:4,16:4,32:4,64:4}"
   ]
  },
  {
   "cell_type": "code",
   "execution_count": 37,
   "id": "337b378e-d6ef-4e8a-bf39-afc666a4549a",
   "metadata": {
    "execution": {
     "iopub.execute_input": "2024-06-25T23:22:51.706144Z",
     "iopub.status.busy": "2024-06-25T23:22:51.704978Z",
     "iopub.status.idle": "2024-06-25T23:22:51.737489Z",
     "shell.execute_reply": "2024-06-25T23:22:51.736791Z",
     "shell.execute_reply.started": "2024-06-25T23:22:51.706098Z"
    },
    "tags": []
   },
   "outputs": [],
   "source": [
    "hidden_dim_dict2={8:8,16:16,32:16}\n",
    "n_flows_dict2={8:16,16:16,32:16}\n",
    "num_hidden_dict2={8:16,16:16,32:16}"
   ]
  },
  {
   "cell_type": "code",
   "execution_count": 38,
   "id": "cce733be-2ff0-424e-b95e-e9447d4c2293",
   "metadata": {
    "execution": {
     "iopub.execute_input": "2024-06-25T23:22:52.766463Z",
     "iopub.status.busy": "2024-06-25T23:22:52.765484Z",
     "iopub.status.idle": "2024-06-25T23:22:52.779407Z",
     "shell.execute_reply": "2024-06-25T23:22:52.778616Z",
     "shell.execute_reply.started": "2024-06-25T23:22:52.766425Z"
    },
    "tags": []
   },
   "outputs": [],
   "source": [
    "hidden_dim_dict3 = {2:8}\n",
    "n_flows_dict3 = {2:4}\n",
    "num_hidden_dict3 = {2:8}"
   ]
  },
  {
   "cell_type": "code",
   "execution_count": 48,
   "id": "558e4bef",
   "metadata": {
    "execution": {
     "iopub.execute_input": "2024-06-18T23:12:15.010968Z",
     "iopub.status.busy": "2024-06-18T23:12:15.009951Z",
     "iopub.status.idle": "2024-06-18T23:13:39.148332Z",
     "shell.execute_reply": "2024-06-18T23:13:39.147205Z",
     "shell.execute_reply.started": "2024-06-18T23:12:15.010920Z"
    },
    "tags": []
   },
   "outputs": [
    {
     "name": "stderr",
     "output_type": "stream",
     "text": [
      "GPU available: False, used: False\n",
      "TPU available: False, using: 0 TPU cores\n",
      "IPU available: False, using: 0 IPUs\n",
      "HPU available: False, using: 0 HPUs\n",
      "C:\\ProgramData\\anaconda3\\Lib\\site-packages\\torch\\optim\\lr_scheduler.py:28: UserWarning: The verbose parameter is deprecated. Please use get_last_lr() to access the learning rate.\n",
      "  warnings.warn(\"The verbose parameter is deprecated. Please use get_last_lr() \"\n",
      "\n",
      "  | Name  | Type      | Params\n",
      "------------------------------------\n",
      "0 | model | RGflows   | 33.6 K\n",
      "1 | loss  | KL_with_S | 0     \n",
      "------------------------------------\n",
      "33.6 K    Trainable params\n",
      "0         Non-trainable params\n",
      "33.6 K    Total params\n",
      "0.134     Total estimated model params size (MB)\n",
      "C:\\ProgramData\\anaconda3\\Lib\\site-packages\\pytorch_lightning\\trainer\\connectors\\data_connector.py:441: The 'train_dataloader' does not have many workers which may be a bottleneck. Consider increasing the value of the `num_workers` argument` to `num_workers=3` in the `DataLoader` to improve performance.\n"
     ]
    },
    {
     "data": {
      "application/vnd.jupyter.widget-view+json": {
       "model_id": "877a9831d5c1433986647b8820f74541",
       "version_major": 2,
       "version_minor": 0
      },
      "text/plain": [
       "Training: |                                                                                      | 0/? [00:00<…"
      ]
     },
     "metadata": {},
     "output_type": "display_data"
    },
    {
     "name": "stderr",
     "output_type": "stream",
     "text": [
      "C:\\ProgramData\\anaconda3\\Lib\\site-packages\\pytorch_lightning\\trainer\\call.py:54: Detected KeyboardInterrupt, attempting graceful shutdown...\n"
     ]
    }
   ],
   "source": [
    "from Data import train_loader\n",
    "\n",
    "set_random_seed(42)\n",
    "rg = RGflows.configure_RG_model(normal_dist,RGmasks,n_flows_dict1,num_hidden_dict1,hidden_dim_dict1)\n",
    "pipeline=Pipeline(model=rg, criterion=KL_ur, optimizer_class=torch.optim.Adam, optimizer_kwargs={\"lr\": 0.001,\"weight_decay\":0})\n",
    "\n",
    "\n",
    "\n",
    "trainer = pl.Trainer(\n",
    "    max_epochs=1000,\n",
    "    logger=TensorBoardLogger(save_dir=f\"logs/nf\"),\n",
    "    num_sanity_val_steps=0,\n",
    "    log_every_n_steps=1,\n",
    "    enable_checkpointing=False,\n",
    "    accumulate_grad_batches=1\n",
    ")\n",
    "\n",
    "trainer.fit(model=pipeline, train_dataloaders=train_loader)\n",
    "rg.save(\"model_weights1.pth\")"
   ]
  },
  {
   "cell_type": "code",
   "execution_count": 42,
   "id": "2ce344b1-fbaa-4a3b-bb4d-bf1d9a78ae1a",
   "metadata": {
    "execution": {
     "iopub.execute_input": "2024-06-25T23:25:03.824941Z",
     "iopub.status.busy": "2024-06-25T23:25:03.823929Z",
     "iopub.status.idle": "2024-06-25T23:41:53.469580Z",
     "shell.execute_reply": "2024-06-25T23:41:53.468523Z",
     "shell.execute_reply.started": "2024-06-25T23:25:03.824898Z"
    },
    "tags": []
   },
   "outputs": [
    {
     "ename": "FileNotFoundError",
     "evalue": "[Errno 2] No such file or directory: 'model_weights_rel_N=256_Beta=16.pth'",
     "output_type": "error",
     "traceback": [
      "\u001b[1;31m---------------------------------------------------------------------------\u001b[0m",
      "\u001b[1;31mFileNotFoundError\u001b[0m                         Traceback (most recent call last)",
      "Cell \u001b[1;32mIn[42], line 4\u001b[0m\n\u001b[0;32m      1\u001b[0m \u001b[38;5;28;01mfrom\u001b[39;00m \u001b[38;5;21;01mData\u001b[39;00m \u001b[38;5;28;01mimport\u001b[39;00m train_loader\n\u001b[0;32m      3\u001b[0m set_random_seed(\u001b[38;5;241m42\u001b[39m)\n\u001b[1;32m----> 4\u001b[0m rg \u001b[38;5;241m=\u001b[39m RGflows\u001b[38;5;241m.\u001b[39mload_model(\u001b[38;5;124m\"\u001b[39m\u001b[38;5;124mmodel_weights_rel_N=256_Beta=16.pth\u001b[39m\u001b[38;5;124m\"\u001b[39m)\n\u001b[0;32m      5\u001b[0m pipeline\u001b[38;5;241m=\u001b[39mPipeline(model\u001b[38;5;241m=\u001b[39mrg,criterion\u001b[38;5;241m=\u001b[39mKL_ur, optimizer_class\u001b[38;5;241m=\u001b[39mtorch\u001b[38;5;241m.\u001b[39moptim\u001b[38;5;241m.\u001b[39mAdam,optimizer_kwargs\u001b[38;5;241m=\u001b[39m{\u001b[38;5;124m\"\u001b[39m\u001b[38;5;124mlr\u001b[39m\u001b[38;5;124m\"\u001b[39m: \u001b[38;5;241m0.0001\u001b[39m})\n\u001b[0;32m      7\u001b[0m trainer \u001b[38;5;241m=\u001b[39m pl\u001b[38;5;241m.\u001b[39mTrainer(\n\u001b[0;32m      8\u001b[0m     max_epochs\u001b[38;5;241m=\u001b[39m\u001b[38;5;241m200\u001b[39m,\n\u001b[0;32m      9\u001b[0m     logger\u001b[38;5;241m=\u001b[39mTensorBoardLogger(save_dir\u001b[38;5;241m=\u001b[39m\u001b[38;5;124mf\u001b[39m\u001b[38;5;124m\"\u001b[39m\u001b[38;5;124mlogs/nf\u001b[39m\u001b[38;5;124m\"\u001b[39m),\n\u001b[1;32m   (...)\u001b[0m\n\u001b[0;32m     13\u001b[0m     accumulate_grad_batches\u001b[38;5;241m=\u001b[39m\u001b[38;5;241m8\u001b[39m\n\u001b[0;32m     14\u001b[0m )\n",
      "Cell \u001b[1;32mIn[11], line 38\u001b[0m, in \u001b[0;36mRGflows.load_model\u001b[1;34m(filename)\u001b[0m\n\u001b[0;32m     37\u001b[0m \u001b[38;5;28;01mdef\u001b[39;00m \u001b[38;5;21mload_model\u001b[39m(filename):   \n\u001b[1;32m---> 38\u001b[0m     model_dict \u001b[38;5;241m=\u001b[39m torch\u001b[38;5;241m.\u001b[39mload(filename,map_location \u001b[38;5;241m=\u001b[39m device)\n\u001b[0;32m     39\u001b[0m     model\u001b[38;5;241m=\u001b[39mRGflows\u001b[38;5;241m.\u001b[39mconfigure_RG_model(normal_dist,\n\u001b[0;32m     40\u001b[0m                               model_dict[\u001b[38;5;124m\"\u001b[39m\u001b[38;5;124mmasks\u001b[39m\u001b[38;5;124m\"\u001b[39m],\n\u001b[0;32m     41\u001b[0m                               model_dict[\u001b[38;5;124m\"\u001b[39m\u001b[38;5;124mn_flows_dict\u001b[39m\u001b[38;5;124m\"\u001b[39m], \n\u001b[0;32m     42\u001b[0m                               model_dict[\u001b[38;5;124m\"\u001b[39m\u001b[38;5;124mnum_hidden_dict\u001b[39m\u001b[38;5;124m\"\u001b[39m],\n\u001b[0;32m     43\u001b[0m                               model_dict[\u001b[38;5;124m\"\u001b[39m\u001b[38;5;124mhidden_dim_dict\u001b[39m\u001b[38;5;124m\"\u001b[39m],\n\u001b[0;32m     44\u001b[0m                               p_drop\u001b[38;5;241m=\u001b[39m\u001b[38;5;241m0\u001b[39m)\n\u001b[0;32m     45\u001b[0m     model\u001b[38;5;241m.\u001b[39mload_state_dict(model_dict[\u001b[38;5;124m\"\u001b[39m\u001b[38;5;124mstate_dict\u001b[39m\u001b[38;5;124m\"\u001b[39m])\n",
      "File \u001b[1;32mC:\\ProgramData\\anaconda3\\Lib\\site-packages\\torch\\serialization.py:998\u001b[0m, in \u001b[0;36mload\u001b[1;34m(f, map_location, pickle_module, weights_only, mmap, **pickle_load_args)\u001b[0m\n\u001b[0;32m    995\u001b[0m \u001b[38;5;28;01mif\u001b[39;00m \u001b[38;5;124m'\u001b[39m\u001b[38;5;124mencoding\u001b[39m\u001b[38;5;124m'\u001b[39m \u001b[38;5;129;01mnot\u001b[39;00m \u001b[38;5;129;01min\u001b[39;00m pickle_load_args\u001b[38;5;241m.\u001b[39mkeys():\n\u001b[0;32m    996\u001b[0m     pickle_load_args[\u001b[38;5;124m'\u001b[39m\u001b[38;5;124mencoding\u001b[39m\u001b[38;5;124m'\u001b[39m] \u001b[38;5;241m=\u001b[39m \u001b[38;5;124m'\u001b[39m\u001b[38;5;124mutf-8\u001b[39m\u001b[38;5;124m'\u001b[39m\n\u001b[1;32m--> 998\u001b[0m \u001b[38;5;28;01mwith\u001b[39;00m _open_file_like(f, \u001b[38;5;124m'\u001b[39m\u001b[38;5;124mrb\u001b[39m\u001b[38;5;124m'\u001b[39m) \u001b[38;5;28;01mas\u001b[39;00m opened_file:\n\u001b[0;32m    999\u001b[0m     \u001b[38;5;28;01mif\u001b[39;00m _is_zipfile(opened_file):\n\u001b[0;32m   1000\u001b[0m         \u001b[38;5;66;03m# The zipfile reader is going to advance the current file position.\u001b[39;00m\n\u001b[0;32m   1001\u001b[0m         \u001b[38;5;66;03m# If we want to actually tail call to torch.jit.load, we need to\u001b[39;00m\n\u001b[0;32m   1002\u001b[0m         \u001b[38;5;66;03m# reset back to the original position.\u001b[39;00m\n\u001b[0;32m   1003\u001b[0m         orig_position \u001b[38;5;241m=\u001b[39m opened_file\u001b[38;5;241m.\u001b[39mtell()\n",
      "File \u001b[1;32mC:\\ProgramData\\anaconda3\\Lib\\site-packages\\torch\\serialization.py:445\u001b[0m, in \u001b[0;36m_open_file_like\u001b[1;34m(name_or_buffer, mode)\u001b[0m\n\u001b[0;32m    443\u001b[0m \u001b[38;5;28;01mdef\u001b[39;00m \u001b[38;5;21m_open_file_like\u001b[39m(name_or_buffer, mode):\n\u001b[0;32m    444\u001b[0m     \u001b[38;5;28;01mif\u001b[39;00m _is_path(name_or_buffer):\n\u001b[1;32m--> 445\u001b[0m         \u001b[38;5;28;01mreturn\u001b[39;00m _open_file(name_or_buffer, mode)\n\u001b[0;32m    446\u001b[0m     \u001b[38;5;28;01melse\u001b[39;00m:\n\u001b[0;32m    447\u001b[0m         \u001b[38;5;28;01mif\u001b[39;00m \u001b[38;5;124m'\u001b[39m\u001b[38;5;124mw\u001b[39m\u001b[38;5;124m'\u001b[39m \u001b[38;5;129;01min\u001b[39;00m mode:\n",
      "File \u001b[1;32mC:\\ProgramData\\anaconda3\\Lib\\site-packages\\torch\\serialization.py:426\u001b[0m, in \u001b[0;36m_open_file.__init__\u001b[1;34m(self, name, mode)\u001b[0m\n\u001b[0;32m    425\u001b[0m \u001b[38;5;28;01mdef\u001b[39;00m \u001b[38;5;21m__init__\u001b[39m(\u001b[38;5;28mself\u001b[39m, name, mode):\n\u001b[1;32m--> 426\u001b[0m     \u001b[38;5;28msuper\u001b[39m()\u001b[38;5;241m.\u001b[39m\u001b[38;5;21m__init__\u001b[39m(\u001b[38;5;28mopen\u001b[39m(name, mode))\n",
      "\u001b[1;31mFileNotFoundError\u001b[0m: [Errno 2] No such file or directory: 'model_weights_rel_N=256_Beta=16.pth'"
     ]
    }
   ],
   "source": [
    "from Data import train_loader\n",
    "\n",
    "set_random_seed(42)\n",
    "rg = RGflows.load_model(\"model_weights_rel_N=256_Beta=16.pth\")\n",
    "pipeline=Pipeline(model=rg,criterion=KL_ur, optimizer_class=torch.optim.Adam,optimizer_kwargs={\"lr\": 0.0001})\n",
    "\n",
    "trainer = pl.Trainer(\n",
    "    max_epochs=200,\n",
    "    logger=TensorBoardLogger(save_dir=f\"logs/nf\"),\n",
    "    num_sanity_val_steps=0,\n",
    "    log_every_n_steps=1,\n",
    "    enable_checkpointing=False,\n",
    "    accumulate_grad_batches=8\n",
    ")\n",
    "\n",
    "trainer.fit(model=pipeline, train_dataloaders=train_loader)\n",
    "rg.save(\"model_weights3.pth\")"
   ]
  },
  {
   "cell_type": "code",
   "execution_count": 49,
   "id": "8169e1d2-102b-4d79-92e8-03905afd556d",
   "metadata": {
    "execution": {
     "iopub.execute_input": "2024-06-25T23:43:20.664874Z",
     "iopub.status.busy": "2024-06-25T23:43:20.663726Z",
     "iopub.status.idle": "2024-06-25T23:43:21.691790Z",
     "shell.execute_reply": "2024-06-25T23:43:21.690906Z",
     "shell.execute_reply.started": "2024-06-25T23:43:20.664828Z"
    },
    "tags": []
   },
   "outputs": [],
   "source": [
    "from Data import normal_dist\n",
    "import numpy as np\n",
    "from NFconstants import N_traj\n",
    "RG_trained = RGflows.load_model(\"model_weights1.pth\")\n",
    "RG_trained.eval()\n",
    "N_traj=1000\n",
    "z = RG_trained.sample(N_traj)\n"
   ]
  },
  {
   "cell_type": "code",
   "execution_count": 50,
   "id": "fe644a5e-8e4a-4536-bec1-78a391b60f97",
   "metadata": {
    "execution": {
     "iopub.execute_input": "2024-06-25T23:43:32.822551Z",
     "iopub.status.busy": "2024-06-25T23:43:32.821630Z",
     "iopub.status.idle": "2024-06-25T23:43:33.566677Z",
     "shell.execute_reply": "2024-06-25T23:43:33.565674Z",
     "shell.execute_reply.started": "2024-06-25T23:43:32.822512Z"
    },
    "tags": []
   },
   "outputs": [
    {
     "name": "stderr",
     "output_type": "stream",
     "text": [
      "\n",
      "  0%|                                                                                          | 0/128 [00:00<?, ?it/s]\u001b[A\n",
      "  7%|█████▊                                                                            | 9/128 [00:00<00:01, 89.30it/s]\u001b[A\n",
      " 14%|███████████▍                                                                     | 18/128 [00:00<00:01, 86.48it/s]\u001b[A\n",
      " 21%|█████████████████                                                                | 27/128 [00:00<00:01, 86.66it/s]\u001b[A\n",
      " 32%|█████████████████████████▋                                                      | 41/128 [00:00<00:00, 105.32it/s]\u001b[A\n",
      " 41%|████████████████████████████████▌                                               | 52/128 [00:00<00:00, 102.15it/s]\u001b[A\n",
      " 49%|███████████████████████████████████████▍                                        | 63/128 [00:00<00:00, 104.30it/s]\u001b[A\n",
      " 58%|██████████████████████████████████████████████▎                                 | 74/128 [00:00<00:00, 104.41it/s]\u001b[A\n",
      " 68%|██████████████████████████████████████████████████████▍                         | 87/128 [00:00<00:00, 111.27it/s]\u001b[A\n",
      " 79%|██████████████████████████████████████████████████████████████▎                | 101/128 [00:00<00:00, 117.67it/s]\u001b[A\n",
      "100%|███████████████████████████████████████████████████████████████████████████████| 128/128 [00:01<00:00, 111.65it/s]\u001b[A\n"
     ]
    }
   ],
   "source": [
    "from NFandist import get_T\n",
    "from tqdm import tqdm\n",
    "#T=torch.tensor(get_T(N_nod)).float()\n",
    "def G(X,n_p=N_nod):\n",
    "    n_traj=X.shape[0]\n",
    "    n_nod=X.shape[1]\n",
    "    G=np.zeros((n_p))\n",
    "    Y=X.clone()\n",
    "    Xt=torch.t(X)\n",
    "    for s in tqdm(range(n_p)):\n",
    "        G[s]=torch.trace(torch.matmul(Y,Xt))\n",
    "        Y=torch.roll(Y,-1,1)\n",
    "        #Y=torch.roll(Y,-1,1)\n",
    "    return G/(n_traj*n_nod)\n",
    "g_nf=G(z)\n"
   ]
  },
  {
   "cell_type": "code",
   "execution_count": 32,
   "id": "78c9ffdf-7d11-49a0-8304-3228e4cd69b5",
   "metadata": {
    "execution": {
     "iopub.execute_input": "2024-06-05T09:56:52.955037Z",
     "iopub.status.busy": "2024-06-05T09:56:52.953855Z",
     "iopub.status.idle": "2024-06-05T09:56:53.196457Z",
     "shell.execute_reply": "2024-06-05T09:56:53.195400Z",
     "shell.execute_reply.started": "2024-06-05T09:56:52.954992Z"
    },
    "tags": []
   },
   "outputs": [],
   "source": [
    "from NFandist import calc_G\n",
    "from NFconstants import N_nod, N_traj, NG_points,Beta\n",
    "g_osc=calc_G(N_nod,Beta,N_nod)\n"
   ]
  },
  {
   "cell_type": "code",
   "execution_count": 33,
   "id": "d40ea38c-5c07-4349-9872-6f8026d990d1",
   "metadata": {
    "execution": {
     "iopub.execute_input": "2024-05-09T13:53:35.170538Z",
     "iopub.status.busy": "2024-05-09T13:53:35.169712Z",
     "iopub.status.idle": "2024-05-09T13:53:35.188356Z",
     "shell.execute_reply": "2024-05-09T13:53:35.187543Z",
     "shell.execute_reply.started": "2024-05-09T13:53:35.170492Z"
    },
    "tags": []
   },
   "outputs": [],
   "source": [
    "g_ur = [0.476546, 0.148654, 0.060357, 0.0232596, -0.00447499, -0.00224423, -0.00447499, 0.0232596, 0.060357, 0.148654]"
   ]
  },
  {
   "cell_type": "code",
   "execution_count": 51,
   "id": "423d9be1-411c-4004-929e-ddd280cb3a77",
   "metadata": {
    "execution": {
     "iopub.execute_input": "2024-06-07T15:58:39.121995Z",
     "iopub.status.busy": "2024-06-07T15:58:39.121456Z",
     "iopub.status.idle": "2024-06-07T15:58:39.146655Z",
     "shell.execute_reply": "2024-06-07T15:58:39.145783Z",
     "shell.execute_reply.started": "2024-06-07T15:58:39.121957Z"
    },
    "tags": []
   },
   "outputs": [],
   "source": [
    "\n",
    "g_ur = [0.555858, 0.497988, 0.446597, 0.401115, 0.360415, 0.324316, 0.29138, 0.261791, 0.235658, 0.211969, 0.190536, 0.171994, 0.155133, 0.140335, 0.126598, 0.114471, 0.103514, 0.0941716, 0.0852865, 0.0767528, 0.0691313, 0.0619047, 0.0550745, 0.0490998, 0.0443236, 0.0396256, 0.0358628, 0.0324961, 0.0302019, 0.0276177, 0.0251373, 0.0226234, 0.0203086, 0.0179717, 0.0164385, 0.0152739, 0.0143051, 0.0136778, 0.0127566, 0.0118486, 0.0111658, 0.0111462, 0.011026, 0.0110081, 0.0109681, 0.0106729, 0.0101027, 0.010377, 0.010866, 0.0114044, 0.0119873, 0.0114044, 0.010866, 0.010377, 0.0101027, 0.0106729, 0.0109681, 0.0110081, 0.011026, 0.0111462, 0.0111658, 0.0118486, 0.0127566, 0.0136778, 0.0143051, 0.0152739, 0.0164385, 0.0179717, 0.0203086, 0.0226234, 0.0251373, 0.0276177, 0.0302019, 0.0324961, 0.0358628, 0.0396256, 0.0443236, 0.0490998, 0.0550745, 0.0619047, 0.0691313, 0.0767528, 0.0852865, 0.0941716, 0.103514, 0.114471, 0.126598, 0.140335, 0.155133, 0.171994, 0.190536, 0.211969, 0.235658, 0.261791, 0.29138, 0.324316, 0.360415, 0.401115, 0.446597, 0.497988]\n"
   ]
  },
  {
   "cell_type": "code",
   "execution_count": 28,
   "id": "761d4f40-3376-4f0e-9177-6ff5ff928fa4",
   "metadata": {
    "execution": {
     "iopub.execute_input": "2024-05-21T10:25:14.168551Z",
     "iopub.status.busy": "2024-05-21T10:25:14.167519Z",
     "iopub.status.idle": "2024-05-21T10:25:14.181801Z",
     "shell.execute_reply": "2024-05-21T10:25:14.180763Z",
     "shell.execute_reply.started": "2024-05-21T10:25:14.168483Z"
    },
    "tags": []
   },
   "outputs": [],
   "source": [
    "g_rel = [0.389004, 0.174591, 0.0750764, 0.0320855, 0.0235634, 0.0204869, 0.0235634, 0.0320855, 0.0750764, 0.174591]"
   ]
  },
  {
   "cell_type": "code",
   "execution_count": 28,
   "id": "f0639e9e-3fa3-412f-8833-8af468af9fa8",
   "metadata": {
    "execution": {
     "iopub.execute_input": "2024-06-25T23:23:10.526613Z",
     "iopub.status.busy": "2024-06-25T23:23:10.525646Z",
     "iopub.status.idle": "2024-06-25T23:23:10.541619Z",
     "shell.execute_reply": "2024-06-25T23:23:10.540772Z",
     "shell.execute_reply.started": "2024-06-25T23:23:10.526571Z"
    },
    "tags": []
   },
   "outputs": [],
   "source": [
    "g_rel = [0.392501, 0.361773, 0.333519, 0.307446, 0.283335, 0.261201, 0.240658, 0.221871, 0.204776, 0.188963, 0.174495, 0.161116, 0.148541, 0.136946, 0.126175, 0.116168, 0.106934, 0.0985733, 0.090693, 0.0836987, 0.0773237, 0.0713712, 0.0662134, 0.0611666, 0.0567049, 0.0525145, 0.0489322, 0.045775, 0.043085, 0.0407685, 0.0383386, 0.0365845, 0.0353032, 0.0339074, 0.0324167, 0.0308972, 0.0295226, 0.0285374, 0.0276133, 0.026899, 0.0265193, 0.0267518, 0.027023, 0.0272673, 0.0275789, 0.0277296, 0.0281657, 0.0286108, 0.0289897, 0.0292072, 0.0292838, 0.0292072, 0.0289897, 0.0286108, 0.0281657, 0.0277296, 0.0275789, 0.0272673, 0.027023, 0.0267518, 0.0265193, 0.026899, 0.0276133, 0.0285374, 0.0295226, 0.0308972, 0.0324167, 0.0339074, 0.0353032, 0.0365845, 0.0383386, 0.0407685, 0.043085, 0.045775, 0.0489322, 0.0525145, 0.0567049, 0.0611666, 0.0662134, 0.0713712, 0.0773237, 0.0836987, 0.090693, 0.0985733, 0.106934, 0.116168, 0.126175, 0.136946, 0.148541, 0.161116, 0.174495, 0.188963, 0.204776, 0.221871, 0.240658, 0.261201, 0.283335, 0.307446, 0.333519, 0.361773]\n"
   ]
  },
  {
   "cell_type": "code",
   "execution_count": 30,
   "id": "65e2959c-aa9d-47a0-971a-68fd6575b32e",
   "metadata": {
    "execution": {
     "iopub.execute_input": "2024-04-26T16:57:08.404772Z",
     "iopub.status.busy": "2024-04-26T16:57:08.403986Z",
     "iopub.status.idle": "2024-04-26T16:57:08.419094Z",
     "shell.execute_reply": "2024-04-26T16:57:08.418111Z",
     "shell.execute_reply.started": "2024-04-26T16:57:08.404730Z"
    },
    "tags": []
   },
   "outputs": [],
   "source": [
    "\n",
    "import numpy as np\n",
    "corr = [0.0049279, 0.00445719, 0.0040318, 0.00364688, 0.00329375, 0.00297512, 0.00268571, 0.00242197, 0.00217813, 0.00195686, 0.00176504, 0.001597, 0.0014406, 0.00130362, 0.00117932, 0.00107197, 0.000971531, 0.000873839, 0.000783014, 0.000698531, 0.000622945, 0.000554938, 0.000497423, 0.000446639, 0.000400234, 0.000360026, 0.000325092, 0.00028936, 0.000252744, 0.000222755, 0.00019756, 0.000178826, 0.000169581, 0.000165766, 0.000161208, 0.000158499, 0.000157808, 0.000156267, 0.000155463, 0.000151827, 0.000137475, 0.000124214, 0.000113485, 0.000104859, 9.63436e-05, 8.8317e-05, 8.17296e-05, 7.9884e-05, 7.83747e-05, 8.01024e-05, 8.44507e-05, 8.01024e-05, 7.83747e-05, 7.9884e-05, 8.17296e-05, 8.8317e-05, 9.63436e-05, 0.000104859, 0.000113485, 0.000124214, 0.000137475, 0.000151827, 0.000155463, 0.000156267, 0.000157808, 0.000158499, 0.000161208, 0.000165766, 0.000169581, 0.000178826, 0.00019756, 0.000222755, 0.000252744, 0.00028936, 0.000325092, 0.000360026, 0.000400234, 0.000446639, 0.000497423, 0.000554938, 0.000622945, 0.000698531, 0.000783014, 0.000873839, 0.000971531, 0.00107197, 0.00117932, 0.00130362, 0.0014406, 0.001597, 0.00176504, 0.00195686, 0.00217813, 0.00242197, 0.00268571, 0.00297512, 0.00329375, 0.00364688, 0.0040318, 0.00445719, 0.0049279]\n",
    "g_rel_001=(100*np.array(corr))[:-1]\n",
    "\n"
   ]
  },
  {
   "cell_type": "code",
   "execution_count": 31,
   "id": "1cd1e02d-0324-466a-b37e-a60554908a29",
   "metadata": {
    "execution": {
     "iopub.execute_input": "2024-04-25T13:55:19.035541Z",
     "iopub.status.busy": "2024-04-25T13:55:19.034575Z",
     "iopub.status.idle": "2024-04-25T13:55:19.058166Z",
     "shell.execute_reply": "2024-04-25T13:55:19.057280Z",
     "shell.execute_reply.started": "2024-04-25T13:55:19.035477Z"
    },
    "tags": []
   },
   "outputs": [],
   "source": [
    "import numpy as np\n",
    "corr = [0.0482165, 0.0437875, 0.0397512, 0.0361339, 0.0328051, 0.0297607, 0.0270138, 0.0244825, 0.0222039, 0.0201489, 0.0183026, 0.0166458, 0.0151002, 0.0137192, 0.012421, 0.0112716, 0.0102497, 0.00931179, 0.0084281, 0.00763501, 0.00697282, 0.00637519, 0.00579578, 0.00524782, 0.00469027, 0.00419239, 0.00376016, 0.00335117, 0.00299975, 0.00265075, 0.00236496, 0.00215769, 0.00196452, 0.00178665, 0.00162977, 0.00148276, 0.00135563, 0.00127519, 0.00120796, 0.00115448, 0.0011155, 0.00109623, 0.00112555, 0.00113097, 0.00108849, 0.00108302, 0.00112726, 0.00115736, 0.00118966, 0.00124266, 0.00121678, 0.00124266, 0.00118966, 0.00115736, 0.00112726, 0.00108302, 0.00108849, 0.00113097, 0.00112555, 0.00109623, 0.0011155, 0.00115448, 0.00120796, 0.00127519, 0.00135563, 0.00148276, 0.00162977, 0.00178665, 0.00196452, 0.00215769, 0.00236496, 0.00265075, 0.00299975, 0.00335117, 0.00376016, 0.00419239, 0.00469027, 0.00524782, 0.00579578, 0.00637519, 0.00697282, 0.00763501, 0.0084281, 0.00931179, 0.0102497, 0.0112716, 0.012421, 0.0137192, 0.0151002, 0.0166458, 0.0183026, 0.0201489, 0.0222039, 0.0244825, 0.0270138, 0.0297607, 0.0328051, 0.0361339, 0.0397512, 0.0437875, 0.0482165]\n",
    "g_rel_01=(10*np.array(corr))[:-1]\n"
   ]
  },
  {
   "cell_type": "code",
   "execution_count": 52,
   "id": "34a5ead7-10a1-445f-abbd-4f8c2478ccd1",
   "metadata": {
    "execution": {
     "iopub.execute_input": "2024-06-25T23:43:37.304680Z",
     "iopub.status.busy": "2024-06-25T23:43:37.303565Z",
     "iopub.status.idle": "2024-06-25T23:43:37.571723Z",
     "shell.execute_reply": "2024-06-25T23:43:37.570955Z",
     "shell.execute_reply.started": "2024-06-25T23:43:37.304640Z"
    },
    "tags": []
   },
   "outputs": [
    {
     "name": "stdout",
     "output_type": "stream",
     "text": [
      "0.2924051208496094\n"
     ]
    },
    {
     "data": {
      "image/png": "[encoded data removed]",
      "text/plain": [
       "<Figure size 640x480 with 1 Axes>"
      ]
     },
     "metadata": {},
     "output_type": "display_data"
    }
   ],
   "source": [
    "#import sys\n",
    "#sys.path.append('../')\n",
    "import numpy as np\n",
    "import matplotlib.pyplot as plt\n",
    "from NFconstants import N_nod, N_traj, NG_points,Beta\n",
    "#from Value import G\n",
    "#import ensemble\n",
    "#from NFoscillator import basic_oscillator\n",
    "#from time import time\n",
    "#from NFandist import calc_G\n",
    "\n",
    "\n",
    "\n",
    "g=g_ur\n",
    "print(g_nf[0])\n",
    "fig=plt.figure()\n",
    "MCMC_list=np.arange(len(g))/len(g)\n",
    "NF_list=np.arange(len(g_nf))/len(g_nf)\n",
    "\n",
    "\n",
    "\n",
    "plt.scatter(MCMC_list,g,s=10)\n",
    "plt.scatter(NF_list,g_nf,s=10)\n",
    "plt.legend([\"Метрополис\",\"Нормализующий поток\"])\n",
    "plt.title(r\"$N=$\"+str(N_nod)+\"       \"r\"$\\beta=$\"+str(Beta)+\"     Ультраелятивистский осциллятор\")\n",
    "plt.ylabel(r\"$G_s$\",fontsize=17)\n",
    "plt.xlabel(r\"$s/N$\",fontsize=17)\n",
    "#plt.yscale(\"log\")\n",
    "plt.grid(True)\n",
    "plt.show()\n"
   ]
  },
  {
   "cell_type": "code",
   "execution_count": 84,
   "id": "2c4f5479",
   "metadata": {},
   "outputs": [
    {
     "data": {
      "image/png": "[encoded data removed]",
      "text/plain": [
       "<Figure size 640x480 with 1 Axes>"
      ]
     },
     "metadata": {},
     "output_type": "display_data"
    }
   ],
   "source": [
    "import numpy as np\n",
    "import matplotlib.pyplot as plt\n",
    "x=np.arange(0,1,0.1)\n",
    "plt.figure()\n",
    "plt.plot(x,x)\n",
    "plt.show()"
   ]
  },
  {
   "cell_type": "code",
   "execution_count": 36,
   "id": "010eb12d-cfdd-4afd-ad73-8a6134c4b38e",
   "metadata": {
    "execution": {
     "iopub.execute_input": "2024-06-10T16:21:03.549804Z",
     "iopub.status.busy": "2024-06-10T16:21:03.548798Z",
     "iopub.status.idle": "2024-06-10T16:21:03.560033Z",
     "shell.execute_reply": "2024-06-10T16:21:03.559340Z",
     "shell.execute_reply.started": "2024-06-10T16:21:03.549762Z"
    },
    "tags": []
   },
   "outputs": [],
   "source": [
    "K = (1 - 2 * (g_nf[0]-g_nf[1]) / a) / (2 * a)"
   ]
  },
  {
   "cell_type": "code",
   "execution_count": 37,
   "id": "8686f53f-0273-4acf-a6c2-ca4cffae99ea",
   "metadata": {
    "execution": {
     "iopub.execute_input": "2024-06-10T16:21:06.821501Z",
     "iopub.status.busy": "2024-06-10T16:21:06.820458Z",
     "iopub.status.idle": "2024-06-10T16:21:06.843085Z",
     "shell.execute_reply": "2024-06-10T16:21:06.842302Z",
     "shell.execute_reply.started": "2024-06-10T16:21:06.821459Z"
    },
    "tags": []
   },
   "outputs": [
    {
     "name": "stdout",
     "output_type": "stream",
     "text": [
      "0.6169781249999993\n"
     ]
    }
   ],
   "source": [
    "print(K)"
   ]
  },
  {
   "cell_type": "code",
   "execution_count": 71,
   "id": "0ac5e515-24f6-4c41-ac98-d3a104ac26ef",
   "metadata": {
    "execution": {
     "iopub.execute_input": "2024-06-03T19:35:48.694224Z",
     "iopub.status.busy": "2024-06-03T19:35:48.693196Z",
     "iopub.status.idle": "2024-06-03T19:35:48.722143Z",
     "shell.execute_reply": "2024-06-03T19:35:48.721326Z",
     "shell.execute_reply.started": "2024-06-03T19:35:48.694181Z"
    },
    "tags": []
   },
   "outputs": [
    {
     "name": "stdout",
     "output_type": "stream",
     "text": [
      "5.18225859375\n"
     ]
    }
   ],
   "source": [
    "print(g_nf[0])"
   ]
  },
  {
   "cell_type": "code",
   "execution_count": 3,
   "id": "5537b59a",
   "metadata": {
    "execution": {
     "iopub.execute_input": "2024-07-14T12:10:20.567763Z",
     "iopub.status.busy": "2024-07-14T12:10:20.566583Z",
     "iopub.status.idle": "2024-07-14T12:10:20.602663Z",
     "shell.execute_reply": "2024-07-14T12:10:20.601840Z",
     "shell.execute_reply.started": "2024-07-14T12:10:20.567711Z"
    },
    "tags": []
   },
   "outputs": [
    {
     "name": "stdout",
     "output_type": "stream",
     "text": [
      "20K\tlogs\n"
     ]
    }
   ],
   "source": [
    "\n",
    "\n",
    "! du -sh logs\n",
    "\n",
    "\n",
    "\n",
    "\n"
   ]
  },
  {
   "cell_type": "code",
   "execution_count": 4,
   "id": "96e1f7e3-4121-49e9-95f1-06ecbf041f59",
   "metadata": {
    "execution": {
     "iopub.execute_input": "2024-06-25T17:50:47.838027Z",
     "iopub.status.busy": "2024-06-25T17:50:47.836805Z",
     "iopub.status.idle": "2024-06-25T17:50:48.431014Z",
     "shell.execute_reply": "2024-06-25T17:50:48.430087Z",
     "shell.execute_reply.started": "2024-06-25T17:50:47.837983Z"
    }
   },
   "outputs": [],
   "source": [
    "! rm -rf logs\n"
   ]
  },
  {
   "cell_type": "code",
   "execution_count": 41,
   "id": "e9a37694-c075-403e-91dd-b1fd72fcd472",
   "metadata": {
    "execution": {
     "iopub.execute_input": "2024-06-18T23:34:54.685548Z",
     "iopub.status.busy": "2024-06-18T23:34:54.684276Z",
     "iopub.status.idle": "2024-06-18T23:34:54.730227Z",
     "shell.execute_reply": "2024-06-18T23:34:54.729318Z",
     "shell.execute_reply.started": "2024-06-18T23:34:54.685485Z"
    },
    "tags": []
   },
   "outputs": [],
   "source": [
    "import time\n",
    "class MCMC:\n",
    "    def __init__(self,system,model=\"none\",d=(a/N_nod)**0.5,N_sweep=100,log_per=1000):\n",
    "        \n",
    "        self.system = system\n",
    "        self.S = 0\n",
    "        self.model = model\n",
    "        self.d = d\n",
    "        self.N_sweep = N_sweep\n",
    "        self.log_per = log_per\n",
    "        self.ar = 0\n",
    "        self.shift_dist = torch.distributions.Uniform(torch.zeros(N_nod), torch.ones(N_nod))\n",
    "        self.un = torch.distributions.Uniform(0, 1)\n",
    "        self.res=[]\n",
    "        self.times=[]\n",
    "        \n",
    "    def sweep(self,z):\n",
    "        shift = self.shift_dist.sample((N_samp,)).to(z.device)\n",
    "        y = z+self.d*(2*shift-1)\n",
    "    \n",
    "        S_new=self.calc_S(y)\n",
    "    \n",
    "        dS=S_new-self.S\n",
    "        prob = torch.exp(-dS)\n",
    "        #prob=torch.zeros((N_samp))\n",
    "        ind = self.un.sample((N_samp,)).to(z.device)<prob\n",
    "    \n",
    "        mask=ind.nonzero()\n",
    "        if len(mask)>1:\n",
    "            mask=mask.squeeze()\n",
    "    \n",
    "        if  len(mask)>0:\n",
    "            self.S[mask]=S_new[mask]\n",
    "            z[mask,:]=y[mask,:]  \n",
    "        self.ar = torch.mean(ind.type('torch.FloatTensor'))           \n",
    "    \n",
    "    \n",
    "    def log(self,z):\n",
    "        if self.model==\"none\":\n",
    "            x1=z\n",
    "        else:    \n",
    "            x1,_=self.model(z)\n",
    "        print(torch.mean(x1**2),self.ar)\n",
    "        self.res.append(torch.mean(x1**2).cpu())\n",
    "        self.Times.append(time.time()-self.start)\n",
    "    \n",
    "    def calc_S(self,z):\n",
    "        if self.model==\"none\":\n",
    "            S=self.system.Full_S(z).to(z.device)\n",
    "        else:\n",
    "            x , lad = self.model(z)\n",
    "            S=self.system.Full_S(x).to(z.device)-lad   \n",
    "        return S\n",
    "    \n",
    "    def init_state(self,z):\n",
    "        self.start=time.time()\n",
    "        self.S=self.calc_S(z)\n",
    "        self.res=[]\n",
    "        self.Times=[]\n",
    "        \n",
    "    \n",
    "    def run(self,z):\n",
    "        \n",
    "        self.init_state(z)\n",
    "    \n",
    "        for i in range(self.N_sweep):\n",
    "            if i%self.log_per==0:\n",
    "                self.log(z)\n",
    "            self.sweep(z)\n",
    "        \n",
    "        return z    \n",
    "    \n",
    "    \n",
    "        "
   ]
  },
  {
   "cell_type": "code",
   "execution_count": 42,
   "id": "653c3be4-affb-4e88-ab7a-29893cca4c59",
   "metadata": {
    "execution": {
     "iopub.execute_input": "2024-06-18T23:42:04.694967Z",
     "iopub.status.busy": "2024-06-18T23:42:04.693793Z",
     "iopub.status.idle": "2024-06-18T23:42:33.999532Z",
     "shell.execute_reply": "2024-06-18T23:42:33.998207Z",
     "shell.execute_reply.started": "2024-06-18T23:42:04.694924Z"
    },
    "tags": []
   },
   "outputs": [
    {
     "name": "stdout",
     "output_type": "stream",
     "text": [
      "tensor(0.2936) 0\n",
      "tensor(0.3064) tensor(0.3690)\n"
     ]
    },
    {
     "ename": "KeyboardInterrupt",
     "evalue": "",
     "output_type": "error",
     "traceback": [
      "\u001b[1;31m---------------------------------------------------------------------------\u001b[0m",
      "\u001b[1;31mKeyboardInterrupt\u001b[0m                         Traceback (most recent call last)",
      "Cell \u001b[1;32mIn[42], line 7\u001b[0m\n\u001b[0;32m      5\u001b[0m z2,_\u001b[38;5;241m=\u001b[39mmodel1(z2)\n\u001b[0;32m      6\u001b[0m Metropolis_b \u001b[38;5;241m=\u001b[39m MCMC(ur,N_sweep\u001b[38;5;241m=\u001b[39m\u001b[38;5;241m1000000\u001b[39m,log_per\u001b[38;5;241m=\u001b[39m\u001b[38;5;241m1000\u001b[39m,d\u001b[38;5;241m=\u001b[39m(a\u001b[38;5;241m/\u001b[39mN_nod)\u001b[38;5;241m*\u001b[39m\u001b[38;5;241m*\u001b[39m\u001b[38;5;241m0.5\u001b[39m)\n\u001b[1;32m----> 7\u001b[0m z2 \u001b[38;5;241m=\u001b[39m Metropolis_b\u001b[38;5;241m.\u001b[39mrun(z2)\n",
      "Cell \u001b[1;32mIn[41], line 69\u001b[0m, in \u001b[0;36mMCMC.run\u001b[1;34m(self, z)\u001b[0m\n\u001b[0;32m     67\u001b[0m     \u001b[38;5;28;01mif\u001b[39;00m i\u001b[38;5;241m%\u001b[39m\u001b[38;5;28mself\u001b[39m\u001b[38;5;241m.\u001b[39mlog_per\u001b[38;5;241m==\u001b[39m\u001b[38;5;241m0\u001b[39m:\n\u001b[0;32m     68\u001b[0m         \u001b[38;5;28mself\u001b[39m\u001b[38;5;241m.\u001b[39mlog(z)\n\u001b[1;32m---> 69\u001b[0m     \u001b[38;5;28mself\u001b[39m\u001b[38;5;241m.\u001b[39msweep(z)\n\u001b[0;32m     71\u001b[0m \u001b[38;5;28;01mreturn\u001b[39;00m z\n",
      "Cell \u001b[1;32mIn[41], line 21\u001b[0m, in \u001b[0;36mMCMC.sweep\u001b[1;34m(self, z)\u001b[0m\n\u001b[0;32m     18\u001b[0m shift \u001b[38;5;241m=\u001b[39m \u001b[38;5;28mself\u001b[39m\u001b[38;5;241m.\u001b[39mshift_dist\u001b[38;5;241m.\u001b[39msample((N_samp,))\u001b[38;5;241m.\u001b[39mto(z\u001b[38;5;241m.\u001b[39mdevice)\n\u001b[0;32m     19\u001b[0m y \u001b[38;5;241m=\u001b[39m z\u001b[38;5;241m+\u001b[39m\u001b[38;5;28mself\u001b[39m\u001b[38;5;241m.\u001b[39md\u001b[38;5;241m*\u001b[39m(\u001b[38;5;241m2\u001b[39m\u001b[38;5;241m*\u001b[39mshift\u001b[38;5;241m-\u001b[39m\u001b[38;5;241m1\u001b[39m)\n\u001b[1;32m---> 21\u001b[0m S_new\u001b[38;5;241m=\u001b[39m\u001b[38;5;28mself\u001b[39m\u001b[38;5;241m.\u001b[39mcalc_S(y)\n\u001b[0;32m     23\u001b[0m dS\u001b[38;5;241m=\u001b[39mS_new\u001b[38;5;241m-\u001b[39m\u001b[38;5;28mself\u001b[39m\u001b[38;5;241m.\u001b[39mS\n\u001b[0;32m     24\u001b[0m prob \u001b[38;5;241m=\u001b[39m torch\u001b[38;5;241m.\u001b[39mexp(\u001b[38;5;241m-\u001b[39mdS)\n",
      "Cell \u001b[1;32mIn[41], line 49\u001b[0m, in \u001b[0;36mMCMC.calc_S\u001b[1;34m(self, z)\u001b[0m\n\u001b[0;32m     47\u001b[0m \u001b[38;5;28;01mdef\u001b[39;00m \u001b[38;5;21mcalc_S\u001b[39m(\u001b[38;5;28mself\u001b[39m,z):\n\u001b[0;32m     48\u001b[0m     \u001b[38;5;28;01mif\u001b[39;00m \u001b[38;5;28mself\u001b[39m\u001b[38;5;241m.\u001b[39mmodel\u001b[38;5;241m==\u001b[39m\u001b[38;5;124m\"\u001b[39m\u001b[38;5;124mnone\u001b[39m\u001b[38;5;124m\"\u001b[39m:\n\u001b[1;32m---> 49\u001b[0m         S\u001b[38;5;241m=\u001b[39m\u001b[38;5;28mself\u001b[39m\u001b[38;5;241m.\u001b[39msystem\u001b[38;5;241m.\u001b[39mFull_S(z)\u001b[38;5;241m.\u001b[39mto(z\u001b[38;5;241m.\u001b[39mdevice)\n\u001b[0;32m     50\u001b[0m     \u001b[38;5;28;01melse\u001b[39;00m:\n\u001b[0;32m     51\u001b[0m         x , lad \u001b[38;5;241m=\u001b[39m \u001b[38;5;28mself\u001b[39m\u001b[38;5;241m.\u001b[39mmodel(z)\n",
      "File \u001b[1;32m~\\Path Integral Monte-Carlo\\Normalizing flow\\System.py:22\u001b[0m, in \u001b[0;36mSystem.Full_S\u001b[1;34m(self, x)\u001b[0m\n\u001b[0;32m     20\u001b[0m x_next\u001b[38;5;241m=\u001b[39mtorch\u001b[38;5;241m.\u001b[39mroll(x,\u001b[38;5;241m-\u001b[39m\u001b[38;5;241m1\u001b[39m,\u001b[38;5;241m1\u001b[39m)\n\u001b[0;32m     21\u001b[0m diff\u001b[38;5;241m=\u001b[39mx_next\u001b[38;5;241m-\u001b[39mx\n\u001b[1;32m---> 22\u001b[0m Full_T\u001b[38;5;241m=\u001b[39mtorch\u001b[38;5;241m.\u001b[39msum(\u001b[38;5;28mself\u001b[39m\u001b[38;5;241m.\u001b[39mT(diff),axis\u001b[38;5;241m=\u001b[39m\u001b[38;5;241m1\u001b[39m)\n\u001b[0;32m     23\u001b[0m Full_V\u001b[38;5;241m=\u001b[39mtorch\u001b[38;5;241m.\u001b[39msum(\u001b[38;5;28mself\u001b[39m\u001b[38;5;241m.\u001b[39mV(x),axis\u001b[38;5;241m=\u001b[39m\u001b[38;5;241m1\u001b[39m)\n\u001b[0;32m     24\u001b[0m Full_S\u001b[38;5;241m=\u001b[39m\u001b[38;5;28mself\u001b[39m\u001b[38;5;241m.\u001b[39ma\u001b[38;5;241m*\u001b[39m(Full_T\u001b[38;5;241m+\u001b[39mFull_V)\u001b[38;5;241m+\u001b[39m\u001b[38;5;28mself\u001b[39m\u001b[38;5;241m.\u001b[39mn_nod\u001b[38;5;241m*\u001b[39m\u001b[38;5;28mself\u001b[39m\u001b[38;5;241m.\u001b[39mnormalizer\u001b[38;5;241m+\u001b[39m\u001b[38;5;28mself\u001b[39m\u001b[38;5;241m.\u001b[39mLog_Z\n",
      "File \u001b[1;32m~\\Path Integral Monte-Carlo\\Normalizing flow\\NFur_oscillator.py:14\u001b[0m, in \u001b[0;36mUr_Oscillator.T\u001b[1;34m(self, diff)\u001b[0m\n\u001b[0;32m     11\u001b[0m     \u001b[38;5;28msuper\u001b[39m()\u001b[38;5;241m.\u001b[39m\u001b[38;5;21m__init__\u001b[39m(n_nod,beta)\n\u001b[0;32m     12\u001b[0m     \u001b[38;5;28mself\u001b[39m\u001b[38;5;241m.\u001b[39mnormalizer \u001b[38;5;241m=\u001b[39m  torch\u001b[38;5;241m.\u001b[39mlog( pi \u001b[38;5;241m*\u001b[39m \u001b[38;5;28mself\u001b[39m\u001b[38;5;241m.\u001b[39ma ) \n\u001b[1;32m---> 14\u001b[0m \u001b[38;5;28;01mdef\u001b[39;00m \u001b[38;5;21mT\u001b[39m(\u001b[38;5;28mself\u001b[39m,diff):\n\u001b[0;32m     15\u001b[0m     a\u001b[38;5;241m=\u001b[39m\u001b[38;5;28mself\u001b[39m\u001b[38;5;241m.\u001b[39ma\n\u001b[0;32m     16\u001b[0m     t\u001b[38;5;241m=\u001b[39m( \u001b[38;5;241m1\u001b[39m \u001b[38;5;241m/\u001b[39m a ) \u001b[38;5;241m*\u001b[39m torch\u001b[38;5;241m.\u001b[39mlog(\u001b[38;5;241m1\u001b[39m \u001b[38;5;241m+\u001b[39m (diff \u001b[38;5;241m/\u001b[39m a) \u001b[38;5;241m*\u001b[39m\u001b[38;5;241m*\u001b[39m \u001b[38;5;241m2\u001b[39m)\n",
      "\u001b[1;31mKeyboardInterrupt\u001b[0m: "
     ]
    }
   ],
   "source": [
    "N_samp = 1000\n",
    "model1 = RG_trained.to(device)\n",
    "set_random_seed(42)\n",
    "z2 = normal_dist.sample((N_samp,)).to(device)\n",
    "z2,_=model1(z2)\n",
    "Metropolis_b = MCMC(ur,N_sweep=1000000,log_per=1000,d=(a/N_nod)**0.5)\n",
    "z2 = Metropolis_b.run(z2)"
   ]
  },
  {
   "cell_type": "code",
   "execution_count": 59,
   "id": "b2c643ea",
   "metadata": {},
   "outputs": [],
   "source": [
    "import time\n",
    "class HMC:\n",
    "    def __init__(self,system,model=\"none\",eps=0.001,n_steps=10,sigma=1,N_sweep=100,log_per=1000,gamma=0,auto=True):\n",
    "        self.system = system\n",
    "        self.S = 0\n",
    "        self.model = model\n",
    "        self.eps = eps\n",
    "        self.n_steps = n_steps\n",
    "        self.N_sweep = N_sweep\n",
    "        self.log_per = log_per\n",
    "        self.ar = 0\n",
    "        self.sigma=sigma\n",
    "        self.shift_dist = torch.distributions.Normal(torch.zeros(N_nod), sigma * torch.ones(N_nod))\n",
    "        self.un = torch.distributions.Uniform(0, 1)\n",
    "        self.auto = auto\n",
    "        if model != \"none\":\n",
    "            self.auto = True\n",
    "        self.res = []\n",
    "        self.times = []\n",
    "    \n",
    "    def leapfrog_step(self,p,x,eps):\n",
    "        if self.auto:\n",
    "            F = self.calc_F(x)\n",
    "        else:\n",
    "            F = self.system.F(x)\n",
    "            \n",
    "        p_half = p + 0.5 * eps * F  # F=-dS/dx\n",
    "        y = x + eps * p_half\n",
    "        q = p_half + 0.5 * eps * F \n",
    "        return q, y\n",
    "\n",
    "    def hmc_new(self,P,X):\n",
    "        for i in range(self.n_steps): \n",
    "            P , X = self.leapfrog_step(P,X,self.eps)\n",
    "        return P,X       \n",
    "\n",
    "\n",
    "    def hmc_sweep(self,x):\n",
    "        p = self.shift_dist.sample((N_samp,)).to(x.device)\n",
    "        K0 = torch.sum(p**2/2,axis=1)\n",
    "        \n",
    "        q , y = self.hmc_new(p.clone(),x.clone())\n",
    "        S_new = self.calc_S(y)\n",
    "        dS = S_new-self.S + torch.sum(q**2/2,axis=1)-K0\n",
    "        \n",
    "        prob = torch.exp(-dS)\n",
    "        ind = self.un.sample((N_samp,)).to(x.device)<prob\n",
    "        mask = ind.nonzero()\n",
    "        \n",
    "        if len(mask)>1:\n",
    "            mask = mask.squeeze()\n",
    "        if  len(mask)>0:\n",
    "            self.S[mask] = S_new[mask]\n",
    "            x[mask,:] = y[mask,:]\n",
    "        \n",
    "        self.ar = torch.mean(ind.type('torch.FloatTensor'))    \n",
    "    \n",
    "    \n",
    "    def log(self,z):\n",
    "        if self.model==\"none\":\n",
    "            x1=z\n",
    "        else:    \n",
    "            x1,_=self.model(z)\n",
    "        print(torch.mean(x1**2),self.ar)\n",
    "        self.res.append(torch.mean(x1**2).cpu())\n",
    "        self.Times.append(time.time()-self.start)\n",
    "    \n",
    "    def calc_S(self,z,grads=False):\n",
    "        \n",
    "        if self.model==\"none\":\n",
    "            S=self.system.Full_S(z).to(z.device) \n",
    "        \n",
    "        else:\n",
    "            if grads :\n",
    "                x , lad = self.model.g_samp(z)\n",
    "            else:\n",
    "                x , lad = self.model(z)\n",
    "            S = self.system.Full_S(x).to(z.device)-lad   \n",
    "        return S\n",
    "    \n",
    "    def calc_F(self,z):\n",
    "        t = z.clone()\n",
    "        t.requires_grad = True\n",
    "        s = torch.sum(self.calc_S(t,grads=True))\n",
    "        s.backward()\n",
    "        F =-(t.grad).detach()\n",
    "        del(t)\n",
    "        return F\n",
    "    \n",
    "    def init_state(self,z):\n",
    "        self.start=time.time()\n",
    "        self.S=self.calc_S(z)\n",
    "        self.res=[]\n",
    "        self.Times=[]\n",
    "\n",
    "    def run(self,x):\n",
    "        self.init_state(x)\n",
    "        for i in range(self.N_sweep):\n",
    "            if i%self.log_per==0:\n",
    "                self.log(x)\n",
    "            self.hmc_sweep(x)\n",
    "        return x        "
   ]
  },
  {
   "cell_type": "code",
   "execution_count": 60,
   "id": "93235a2e-1352-4bba-bb11-0c60030cd35b",
   "metadata": {
    "execution": {
     "iopub.execute_input": "2024-06-07T17:52:11.520268Z",
     "iopub.status.busy": "2024-06-07T17:52:11.519271Z",
     "iopub.status.idle": "2024-06-07T18:19:53.172533Z",
     "shell.execute_reply": "2024-06-07T18:19:53.171800Z",
     "shell.execute_reply.started": "2024-06-07T17:52:11.520224Z"
    },
    "tags": []
   },
   "outputs": [
    {
     "name": "stdout",
     "output_type": "stream",
     "text": [
      "tensor(0.2995) 0\n",
      "tensor(0.3695) tensor(0.7800)\n",
      "tensor(0.4155) tensor(0.7600)\n",
      "tensor(0.4468) tensor(0.6900)\n"
     ]
    },
    {
     "name": "stderr",
     "output_type": "stream",
     "text": [
      "\n",
      "KeyboardInterrupt\n",
      "\n"
     ]
    }
   ],
   "source": [
    "N_samp = 100\n",
    "model1 = RG_trained.to(device)\n",
    "set_random_seed(42)\n",
    "z = normal_dist.sample((N_samp,)).to(device)\n",
    "HMC_NN = HMC(ur,model=model1,N_sweep=100000,n_steps=3000,log_per=1,eps=0.001)\n",
    "z = HMC_NN.run(z)"
   ]
  },
  {
   "cell_type": "code",
   "execution_count": 105,
   "id": "366720d4",
   "metadata": {},
   "outputs": [
    {
     "name": "stdout",
     "output_type": "stream",
     "text": [
      "tensor(0.2936) 0\n",
      "tensor(0.3011) tensor(0.2870)\n",
      "tensor(0.3079) tensor(0.2900)\n",
      "tensor(0.3135) tensor(0.2670)\n",
      "tensor(0.3194) tensor(0.2980)\n",
      "tensor(0.3256) tensor(0.3130)\n",
      "tensor(0.3312) tensor(0.3050)\n",
      "tensor(0.3362) tensor(0.3200)\n",
      "tensor(0.3400) tensor(0.3080)\n",
      "tensor(0.3455) tensor(0.3170)\n",
      "tensor(0.3505) tensor(0.2930)\n",
      "tensor(0.3563) tensor(0.3160)\n",
      "tensor(0.3600) tensor(0.2950)\n",
      "tensor(0.3641) tensor(0.3290)\n",
      "tensor(0.3678) tensor(0.3250)\n",
      "tensor(0.3704) tensor(0.3480)\n",
      "tensor(0.3751) tensor(0.3470)\n",
      "tensor(0.3783) tensor(0.3200)\n",
      "tensor(0.3816) tensor(0.3270)\n",
      "tensor(0.3841) tensor(0.3470)\n",
      "tensor(0.3865) tensor(0.3190)\n",
      "tensor(0.3900) tensor(0.3020)\n",
      "tensor(0.3931) tensor(0.3540)\n",
      "tensor(0.3949) tensor(0.3070)\n",
      "tensor(0.3990) tensor(0.3400)\n",
      "tensor(0.4029) tensor(0.3110)\n",
      "tensor(0.4061) tensor(0.3320)\n",
      "tensor(0.4075) tensor(0.3320)\n",
      "tensor(0.4090) tensor(0.3400)\n",
      "tensor(0.4120) tensor(0.3390)\n",
      "tensor(0.4138) tensor(0.3240)\n",
      "tensor(0.4155) tensor(0.3500)\n",
      "tensor(0.4179) tensor(0.3240)\n",
      "tensor(0.4209) tensor(0.3600)\n",
      "tensor(0.4226) tensor(0.3430)\n",
      "tensor(0.4261) tensor(0.3550)\n",
      "tensor(0.4269) tensor(0.2900)\n",
      "tensor(0.4290) tensor(0.3130)\n",
      "tensor(0.4298) tensor(0.3690)\n",
      "tensor(0.4319) tensor(0.3150)\n",
      "tensor(0.4322) tensor(0.3190)\n",
      "tensor(0.4354) tensor(0.2970)\n",
      "tensor(0.4368) tensor(0.3230)\n",
      "tensor(0.4389) tensor(0.3090)\n",
      "tensor(0.4408) tensor(0.3230)\n",
      "tensor(0.4434) tensor(0.3230)\n",
      "tensor(0.4447) tensor(0.3230)\n",
      "tensor(0.4457) tensor(0.3270)\n",
      "tensor(0.4481) tensor(0.3450)\n",
      "tensor(0.4505) tensor(0.3320)\n",
      "tensor(0.4530) tensor(0.3180)\n",
      "tensor(0.4560) tensor(0.3150)\n",
      "tensor(0.4567) tensor(0.3180)\n",
      "tensor(0.4606) tensor(0.3360)\n",
      "tensor(0.4627) tensor(0.3560)\n",
      "tensor(0.4635) tensor(0.3220)\n",
      "tensor(0.4647) tensor(0.3490)\n",
      "tensor(0.4663) tensor(0.3370)\n",
      "tensor(0.4658) tensor(0.3410)\n",
      "tensor(0.4679) tensor(0.3250)\n",
      "tensor(0.4695) tensor(0.3140)\n",
      "tensor(0.4704) tensor(0.3100)\n",
      "tensor(0.4729) tensor(0.3310)\n",
      "tensor(0.4726) tensor(0.3310)\n",
      "tensor(0.4735) tensor(0.3270)\n",
      "tensor(0.4756) tensor(0.3160)\n",
      "tensor(0.4781) tensor(0.3270)\n",
      "tensor(0.4777) tensor(0.3480)\n",
      "tensor(0.4779) tensor(0.3290)\n",
      "tensor(0.4800) tensor(0.3430)\n",
      "tensor(0.4807) tensor(0.3250)\n",
      "tensor(0.4807) tensor(0.3350)\n",
      "tensor(0.4826) tensor(0.3220)\n",
      "tensor(0.4837) tensor(0.3470)\n",
      "tensor(0.4859) tensor(0.3440)\n",
      "tensor(0.4865) tensor(0.3120)\n",
      "tensor(0.4866) tensor(0.3080)\n",
      "tensor(0.4870) tensor(0.2960)\n",
      "tensor(0.4889) tensor(0.3350)\n",
      "tensor(0.4889) tensor(0.3320)\n",
      "tensor(0.4913) tensor(0.3160)\n",
      "tensor(0.4907) tensor(0.3210)\n",
      "tensor(0.4924) tensor(0.3730)\n",
      "tensor(0.4937) tensor(0.3380)\n",
      "tensor(0.4937) tensor(0.3230)\n",
      "tensor(0.4955) tensor(0.3200)\n",
      "tensor(0.4961) tensor(0.3320)\n",
      "tensor(0.4971) tensor(0.3490)\n",
      "tensor(0.4992) tensor(0.3290)\n",
      "tensor(0.4995) tensor(0.3030)\n",
      "tensor(0.5004) tensor(0.3400)\n",
      "tensor(0.5007) tensor(0.3490)\n",
      "tensor(0.5008) tensor(0.3260)\n",
      "tensor(0.5008) tensor(0.3070)\n",
      "tensor(0.5031) tensor(0.3280)\n",
      "tensor(0.5048) tensor(0.3420)\n",
      "tensor(0.5054) tensor(0.3510)\n",
      "tensor(0.5080) tensor(0.3210)\n",
      "tensor(0.5097) tensor(0.3490)\n",
      "tensor(0.5099) tensor(0.3290)\n",
      "tensor(0.5091) tensor(0.3300)\n",
      "tensor(0.5093) tensor(0.3370)\n",
      "tensor(0.5117) tensor(0.3550)\n",
      "tensor(0.5129) tensor(0.3340)\n",
      "tensor(0.5131) tensor(0.3340)\n",
      "tensor(0.5124) tensor(0.3420)\n",
      "tensor(0.5109) tensor(0.3280)\n",
      "tensor(0.5085) tensor(0.3390)\n",
      "tensor(0.5105) tensor(0.3260)\n",
      "tensor(0.5110) tensor(0.3360)\n",
      "tensor(0.5116) tensor(0.3150)\n",
      "tensor(0.5120) tensor(0.3350)\n",
      "tensor(0.5118) tensor(0.3210)\n",
      "tensor(0.5141) tensor(0.3040)\n",
      "tensor(0.5159) tensor(0.3230)\n",
      "tensor(0.5162) tensor(0.3360)\n",
      "tensor(0.5172) tensor(0.3220)\n",
      "tensor(0.5163) tensor(0.3280)\n",
      "tensor(0.5148) tensor(0.3490)\n",
      "tensor(0.5141) tensor(0.3370)\n",
      "tensor(0.5113) tensor(0.3120)\n",
      "tensor(0.5098) tensor(0.3420)\n",
      "tensor(0.5085) tensor(0.3440)\n",
      "tensor(0.5111) tensor(0.3190)\n",
      "tensor(0.5118) tensor(0.3340)\n",
      "tensor(0.5129) tensor(0.3000)\n",
      "tensor(0.5145) tensor(0.3410)\n",
      "tensor(0.5156) tensor(0.3370)\n",
      "tensor(0.5165) tensor(0.3370)\n",
      "tensor(0.5150) tensor(0.3380)\n",
      "tensor(0.5148) tensor(0.3290)\n",
      "tensor(0.5143) tensor(0.3450)\n",
      "tensor(0.5150) tensor(0.3240)\n",
      "tensor(0.5164) tensor(0.3190)\n",
      "tensor(0.5179) tensor(0.3440)\n",
      "tensor(0.5178) tensor(0.3230)\n",
      "tensor(0.5187) tensor(0.3360)\n",
      "tensor(0.5200) tensor(0.3330)\n",
      "tensor(0.5200) tensor(0.3080)\n",
      "tensor(0.5183) tensor(0.3230)\n",
      "tensor(0.5197) tensor(0.3090)\n",
      "tensor(0.5189) tensor(0.3250)\n",
      "tensor(0.5186) tensor(0.2990)\n",
      "tensor(0.5194) tensor(0.3300)\n",
      "tensor(0.5201) tensor(0.3470)\n",
      "tensor(0.5202) tensor(0.3230)\n",
      "tensor(0.5209) tensor(0.3430)\n",
      "tensor(0.5211) tensor(0.3270)\n",
      "tensor(0.5241) tensor(0.3400)\n",
      "tensor(0.5224) tensor(0.3460)\n",
      "tensor(0.5229) tensor(0.3080)\n",
      "tensor(0.5222) tensor(0.3400)\n",
      "tensor(0.5214) tensor(0.3150)\n",
      "tensor(0.5223) tensor(0.3540)\n",
      "tensor(0.5236) tensor(0.3380)\n",
      "tensor(0.5201) tensor(0.3120)\n",
      "tensor(0.5202) tensor(0.3160)\n",
      "tensor(0.5209) tensor(0.3180)\n",
      "tensor(0.5207) tensor(0.3320)\n",
      "tensor(0.5196) tensor(0.3520)\n",
      "tensor(0.5219) tensor(0.3340)\n",
      "tensor(0.5216) tensor(0.3340)\n",
      "tensor(0.5223) tensor(0.3430)\n",
      "tensor(0.5232) tensor(0.3450)\n",
      "tensor(0.5238) tensor(0.3420)\n",
      "tensor(0.5232) tensor(0.3260)\n",
      "tensor(0.5255) tensor(0.3430)\n",
      "tensor(0.5250) tensor(0.3210)\n",
      "tensor(0.5227) tensor(0.3140)\n",
      "tensor(0.5227) tensor(0.3590)\n",
      "tensor(0.5235) tensor(0.3390)\n",
      "tensor(0.5237) tensor(0.3420)\n",
      "tensor(0.5247) tensor(0.3470)\n",
      "tensor(0.5252) tensor(0.3160)\n",
      "tensor(0.5251) tensor(0.3510)\n",
      "tensor(0.5266) tensor(0.3330)\n",
      "tensor(0.5277) tensor(0.3130)\n",
      "tensor(0.5279) tensor(0.3150)\n",
      "tensor(0.5268) tensor(0.3500)\n",
      "tensor(0.5255) tensor(0.3210)\n",
      "tensor(0.5255) tensor(0.3530)\n",
      "tensor(0.5257) tensor(0.3440)\n",
      "tensor(0.5296) tensor(0.3520)\n",
      "tensor(0.5289) tensor(0.3300)\n",
      "tensor(0.5283) tensor(0.3640)\n",
      "tensor(0.5266) tensor(0.3380)\n",
      "tensor(0.5264) tensor(0.3320)\n",
      "tensor(0.5260) tensor(0.2940)\n",
      "tensor(0.5264) tensor(0.3280)\n",
      "tensor(0.5289) tensor(0.3250)\n",
      "tensor(0.5287) tensor(0.3220)\n",
      "tensor(0.5293) tensor(0.3250)\n",
      "tensor(0.5316) tensor(0.3170)\n",
      "tensor(0.5318) tensor(0.3350)\n",
      "tensor(0.5331) tensor(0.3460)\n",
      "tensor(0.5328) tensor(0.3540)\n",
      "tensor(0.5346) tensor(0.3300)\n",
      "tensor(0.5362) tensor(0.3250)\n",
      "tensor(0.5348) tensor(0.3210)\n",
      "tensor(0.5357) tensor(0.3360)\n",
      "tensor(0.5364) tensor(0.3110)\n",
      "tensor(0.5367) tensor(0.3360)\n",
      "tensor(0.5369) tensor(0.3400)\n",
      "tensor(0.5374) tensor(0.3460)\n",
      "tensor(0.5395) tensor(0.3320)\n",
      "tensor(0.5393) tensor(0.3260)\n",
      "tensor(0.5399) tensor(0.3210)\n",
      "tensor(0.5400) tensor(0.3120)\n",
      "tensor(0.5406) tensor(0.3340)\n",
      "tensor(0.5395) tensor(0.3580)\n",
      "tensor(0.5389) tensor(0.3550)\n",
      "tensor(0.5384) tensor(0.3300)\n",
      "tensor(0.5386) tensor(0.3400)\n",
      "tensor(0.5402) tensor(0.3030)\n",
      "tensor(0.5409) tensor(0.3320)\n",
      "tensor(0.5409) tensor(0.3110)\n",
      "tensor(0.5422) tensor(0.3620)\n",
      "tensor(0.5423) tensor(0.3420)\n",
      "tensor(0.5439) tensor(0.3440)\n",
      "tensor(0.5437) tensor(0.3250)\n",
      "tensor(0.5442) tensor(0.3460)\n",
      "tensor(0.5432) tensor(0.3370)\n",
      "tensor(0.5436) tensor(0.3410)\n",
      "tensor(0.5446) tensor(0.3190)\n",
      "tensor(0.5449) tensor(0.3320)\n",
      "tensor(0.5443) tensor(0.3290)\n",
      "tensor(0.5455) tensor(0.3380)\n",
      "tensor(0.5452) tensor(0.3530)\n",
      "tensor(0.5466) tensor(0.3520)\n",
      "tensor(0.5486) tensor(0.3280)\n",
      "tensor(0.5452) tensor(0.3300)\n",
      "tensor(0.5456) tensor(0.3280)\n",
      "tensor(0.5447) tensor(0.3430)\n",
      "tensor(0.5442) tensor(0.3600)\n",
      "tensor(0.5468) tensor(0.3200)\n",
      "tensor(0.5471) tensor(0.3270)\n",
      "tensor(0.5467) tensor(0.3390)\n",
      "tensor(0.5457) tensor(0.3390)\n",
      "tensor(0.5453) tensor(0.3330)\n",
      "tensor(0.5443) tensor(0.3200)\n",
      "tensor(0.5448) tensor(0.3230)\n",
      "tensor(0.5455) tensor(0.3260)\n",
      "tensor(0.5467) tensor(0.3110)\n",
      "tensor(0.5484) tensor(0.3210)\n",
      "tensor(0.5487) tensor(0.3090)\n",
      "tensor(0.5492) tensor(0.3230)\n",
      "tensor(0.5491) tensor(0.3090)\n",
      "tensor(0.5496) tensor(0.3400)\n",
      "tensor(0.5495) tensor(0.3300)\n",
      "tensor(0.5506) tensor(0.3130)\n",
      "tensor(0.5531) tensor(0.3310)\n",
      "tensor(0.5542) tensor(0.3350)\n",
      "tensor(0.5556) tensor(0.3450)\n",
      "tensor(0.5570) tensor(0.3220)\n",
      "tensor(0.5569) tensor(0.3290)\n",
      "tensor(0.5543) tensor(0.3240)\n",
      "tensor(0.5536) tensor(0.3130)\n",
      "tensor(0.5501) tensor(0.3240)\n",
      "tensor(0.5489) tensor(0.3260)\n",
      "tensor(0.5476) tensor(0.3390)\n",
      "tensor(0.5461) tensor(0.3260)\n",
      "tensor(0.5481) tensor(0.3230)\n",
      "tensor(0.5485) tensor(0.3380)\n",
      "tensor(0.5482) tensor(0.3410)\n",
      "tensor(0.5500) tensor(0.3200)\n",
      "tensor(0.5495) tensor(0.3080)\n",
      "tensor(0.5500) tensor(0.3100)\n",
      "tensor(0.5497) tensor(0.3340)\n",
      "tensor(0.5501) tensor(0.3290)\n",
      "tensor(0.5509) tensor(0.3500)\n",
      "tensor(0.5513) tensor(0.3310)\n",
      "tensor(0.5525) tensor(0.3610)\n",
      "tensor(0.5517) tensor(0.3250)\n",
      "tensor(0.5508) tensor(0.3260)\n"
     ]
    },
    {
     "name": "stdout",
     "output_type": "stream",
     "text": [
      "tensor(0.5492) tensor(0.3180)\n",
      "tensor(0.5487) tensor(0.3290)\n",
      "tensor(0.5479) tensor(0.3220)\n",
      "tensor(0.5487) tensor(0.3260)\n",
      "tensor(0.5486) tensor(0.3440)\n",
      "tensor(0.5497) tensor(0.3470)\n",
      "tensor(0.5501) tensor(0.3040)\n",
      "tensor(0.5517) tensor(0.3150)\n",
      "tensor(0.5525) tensor(0.3350)\n",
      "tensor(0.5533) tensor(0.3280)\n",
      "tensor(0.5543) tensor(0.3110)\n",
      "tensor(0.5529) tensor(0.3320)\n",
      "tensor(0.5524) tensor(0.3280)\n",
      "tensor(0.5537) tensor(0.3210)\n",
      "tensor(0.5545) tensor(0.3200)\n",
      "tensor(0.5549) tensor(0.3330)\n",
      "tensor(0.5552) tensor(0.3360)\n",
      "tensor(0.5559) tensor(0.3650)\n",
      "tensor(0.5546) tensor(0.2990)\n",
      "tensor(0.5537) tensor(0.3390)\n",
      "tensor(0.5545) tensor(0.3070)\n",
      "tensor(0.5563) tensor(0.3440)\n"
     ]
    },
    {
     "ename": "KeyboardInterrupt",
     "evalue": "",
     "output_type": "error",
     "traceback": [
      "\u001b[1;31m---------------------------------------------------------------------------\u001b[0m",
      "\u001b[1;31mKeyboardInterrupt\u001b[0m                         Traceback (most recent call last)",
      "Cell \u001b[1;32mIn[105], line 7\u001b[0m\n\u001b[0;32m      5\u001b[0m z1,_\u001b[38;5;241m=\u001b[39mmodel1(z1)\n\u001b[0;32m      6\u001b[0m HMC_b \u001b[38;5;241m=\u001b[39m HMC(ur,N_sweep\u001b[38;5;241m=\u001b[39m\u001b[38;5;241m100000\u001b[39m,n_steps\u001b[38;5;241m=\u001b[39m\u001b[38;5;241m1000\u001b[39m,log_per\u001b[38;5;241m=\u001b[39m\u001b[38;5;241m1\u001b[39m,eps\u001b[38;5;241m=\u001b[39m\u001b[38;5;241m0.0005\u001b[39m,auto\u001b[38;5;241m=\u001b[39m\u001b[38;5;28;01mFalse\u001b[39;00m)\n\u001b[1;32m----> 7\u001b[0m z1 \u001b[38;5;241m=\u001b[39m HMC_b\u001b[38;5;241m.\u001b[39mrun(z1)\n",
      "Cell \u001b[1;32mIn[96], line 101\u001b[0m, in \u001b[0;36mHMC.run\u001b[1;34m(self, x)\u001b[0m\n\u001b[0;32m     99\u001b[0m     \u001b[38;5;28;01mif\u001b[39;00m i\u001b[38;5;241m%\u001b[39m\u001b[38;5;28mself\u001b[39m\u001b[38;5;241m.\u001b[39mlog_per\u001b[38;5;241m==\u001b[39m\u001b[38;5;241m0\u001b[39m:\n\u001b[0;32m    100\u001b[0m         \u001b[38;5;28mself\u001b[39m\u001b[38;5;241m.\u001b[39mlog(x)\n\u001b[1;32m--> 101\u001b[0m     \u001b[38;5;28mself\u001b[39m\u001b[38;5;241m.\u001b[39mhmc_sweep(x)\n\u001b[0;32m    102\u001b[0m \u001b[38;5;28;01mreturn\u001b[39;00m x\n",
      "Cell \u001b[1;32mIn[96], line 42\u001b[0m, in \u001b[0;36mHMC.hmc_sweep\u001b[1;34m(self, x)\u001b[0m\n\u001b[0;32m     39\u001b[0m p \u001b[38;5;241m=\u001b[39m \u001b[38;5;28mself\u001b[39m\u001b[38;5;241m.\u001b[39mshift_dist\u001b[38;5;241m.\u001b[39msample((N_samp,))\u001b[38;5;241m.\u001b[39mto(x\u001b[38;5;241m.\u001b[39mdevice)\n\u001b[0;32m     40\u001b[0m K0 \u001b[38;5;241m=\u001b[39m torch\u001b[38;5;241m.\u001b[39msum(p\u001b[38;5;241m*\u001b[39m\u001b[38;5;241m*\u001b[39m\u001b[38;5;241m2\u001b[39m\u001b[38;5;241m/\u001b[39m\u001b[38;5;241m2\u001b[39m,axis\u001b[38;5;241m=\u001b[39m\u001b[38;5;241m1\u001b[39m)\n\u001b[1;32m---> 42\u001b[0m q , y \u001b[38;5;241m=\u001b[39m \u001b[38;5;28mself\u001b[39m\u001b[38;5;241m.\u001b[39mhmc_new(p\u001b[38;5;241m.\u001b[39mclone(),x\u001b[38;5;241m.\u001b[39mclone())\n\u001b[0;32m     43\u001b[0m S_new \u001b[38;5;241m=\u001b[39m \u001b[38;5;28mself\u001b[39m\u001b[38;5;241m.\u001b[39mcalc_S(y)\n\u001b[0;32m     44\u001b[0m dS \u001b[38;5;241m=\u001b[39m S_new\u001b[38;5;241m-\u001b[39m\u001b[38;5;28mself\u001b[39m\u001b[38;5;241m.\u001b[39mS \u001b[38;5;241m+\u001b[39m torch\u001b[38;5;241m.\u001b[39msum(q\u001b[38;5;241m*\u001b[39m\u001b[38;5;241m*\u001b[39m\u001b[38;5;241m2\u001b[39m\u001b[38;5;241m/\u001b[39m\u001b[38;5;241m2\u001b[39m,axis\u001b[38;5;241m=\u001b[39m\u001b[38;5;241m1\u001b[39m)\u001b[38;5;241m-\u001b[39mK0\n",
      "Cell \u001b[1;32mIn[96], line 34\u001b[0m, in \u001b[0;36mHMC.hmc_new\u001b[1;34m(self, P, X)\u001b[0m\n\u001b[0;32m     32\u001b[0m \u001b[38;5;28;01mdef\u001b[39;00m \u001b[38;5;21mhmc_new\u001b[39m(\u001b[38;5;28mself\u001b[39m,P,X):\n\u001b[0;32m     33\u001b[0m     \u001b[38;5;28;01mfor\u001b[39;00m i \u001b[38;5;129;01min\u001b[39;00m \u001b[38;5;28mrange\u001b[39m(\u001b[38;5;28mself\u001b[39m\u001b[38;5;241m.\u001b[39mn_steps): \n\u001b[1;32m---> 34\u001b[0m         P , X \u001b[38;5;241m=\u001b[39m \u001b[38;5;28mself\u001b[39m\u001b[38;5;241m.\u001b[39mleapfrog_step(P,X,\u001b[38;5;28mself\u001b[39m\u001b[38;5;241m.\u001b[39meps)\n\u001b[0;32m     35\u001b[0m     \u001b[38;5;28;01mreturn\u001b[39;00m P,X\n",
      "Cell \u001b[1;32mIn[96], line 25\u001b[0m, in \u001b[0;36mHMC.leapfrog_step\u001b[1;34m(self, p, x, eps)\u001b[0m\n\u001b[0;32m     23\u001b[0m     F \u001b[38;5;241m=\u001b[39m \u001b[38;5;28mself\u001b[39m\u001b[38;5;241m.\u001b[39mcalc_F(x)\n\u001b[0;32m     24\u001b[0m \u001b[38;5;28;01melse\u001b[39;00m:\n\u001b[1;32m---> 25\u001b[0m     F \u001b[38;5;241m=\u001b[39m \u001b[38;5;28mself\u001b[39m\u001b[38;5;241m.\u001b[39msystem\u001b[38;5;241m.\u001b[39mF(x)\n\u001b[0;32m     27\u001b[0m p_half \u001b[38;5;241m=\u001b[39m p \u001b[38;5;241m+\u001b[39m \u001b[38;5;241m0.5\u001b[39m \u001b[38;5;241m*\u001b[39m eps \u001b[38;5;241m*\u001b[39m F  \u001b[38;5;66;03m# F=-dS/dx\u001b[39;00m\n\u001b[0;32m     28\u001b[0m y \u001b[38;5;241m=\u001b[39m x \u001b[38;5;241m+\u001b[39m eps \u001b[38;5;241m*\u001b[39m p_half\n",
      "File \u001b[1;32m~\\Path Integral Monte-Carlo\\Normalizing flow\\System.py:56\u001b[0m, in \u001b[0;36mSystem.F\u001b[1;34m(self, x)\u001b[0m\n\u001b[0;32m     53\u001b[0m diff_next \u001b[38;5;241m=\u001b[39m x_next\u001b[38;5;241m-\u001b[39mx\n\u001b[0;32m     54\u001b[0m diff_prev \u001b[38;5;241m=\u001b[39m x\u001b[38;5;241m-\u001b[39mx_prev\n\u001b[1;32m---> 56\u001b[0m F \u001b[38;5;241m=\u001b[39m a \u001b[38;5;241m*\u001b[39m \u001b[38;5;28mself\u001b[39m\u001b[38;5;241m.\u001b[39mU(x) \u001b[38;5;241m+\u001b[39m a \u001b[38;5;241m*\u001b[39m \u001b[38;5;28mself\u001b[39m\u001b[38;5;241m.\u001b[39mY(diff_next) \u001b[38;5;241m-\u001b[39m a \u001b[38;5;241m*\u001b[39m \u001b[38;5;28mself\u001b[39m\u001b[38;5;241m.\u001b[39mY(diff_prev)\n\u001b[0;32m     57\u001b[0m \u001b[38;5;28;01mreturn\u001b[39;00m F\n",
      "File \u001b[1;32m~\\Path Integral Monte-Carlo\\Normalizing flow\\NFur_oscillator.py:22\u001b[0m, in \u001b[0;36mUr_Oscillator.U\u001b[1;34m(self, x)\u001b[0m\n\u001b[0;32m     19\u001b[0m \u001b[38;5;28;01mdef\u001b[39;00m \u001b[38;5;21mV\u001b[39m(\u001b[38;5;28mself\u001b[39m,x):\n\u001b[0;32m     20\u001b[0m     \u001b[38;5;28;01mreturn\u001b[39;00m x \u001b[38;5;241m*\u001b[39m\u001b[38;5;241m*\u001b[39m \u001b[38;5;241m2\u001b[39m \u001b[38;5;241m/\u001b[39m \u001b[38;5;241m2\u001b[39m\n\u001b[1;32m---> 22\u001b[0m \u001b[38;5;28;01mdef\u001b[39;00m \u001b[38;5;21mU\u001b[39m(\u001b[38;5;28mself\u001b[39m,x):\n\u001b[0;32m     23\u001b[0m     \u001b[38;5;28;01mreturn\u001b[39;00m \u001b[38;5;241m-\u001b[39mx\n\u001b[0;32m     25\u001b[0m \u001b[38;5;28;01mdef\u001b[39;00m \u001b[38;5;21mY\u001b[39m(\u001b[38;5;28mself\u001b[39m,diff):\n",
      "\u001b[1;31mKeyboardInterrupt\u001b[0m: "
     ]
    }
   ],
   "source": [
    "N_samp = 1000\n",
    "model1 = RG_trained.to(device)\n",
    "set_random_seed(42)\n",
    "z1 = normal_dist.sample((N_samp,)).to(device)\n",
    "z1,_=model1(z1)\n",
    "HMC_b = HMC(ur,N_sweep=100000,n_steps=1000,log_per=1,eps=0.0005,auto=False)\n",
    "z1 = HMC_b.run(z1)"
   ]
  },
  {
   "cell_type": "code",
   "execution_count": 51,
   "id": "50adc09c",
   "metadata": {},
   "outputs": [],
   "source": [
    "z,_=model1(z)"
   ]
  },
  {
   "cell_type": "code",
   "execution_count": 73,
   "id": "d9f49124-3bc2-45e9-8e75-69f57b172d43",
   "metadata": {
    "execution": {
     "iopub.execute_input": "2024-05-27T23:09:58.806727Z",
     "iopub.status.busy": "2024-05-27T23:09:58.805692Z",
     "iopub.status.idle": "2024-05-27T23:09:58.912158Z",
     "shell.execute_reply": "2024-05-27T23:09:58.911426Z",
     "shell.execute_reply.started": "2024-05-27T23:09:58.806688Z"
    },
    "tags": []
   },
   "outputs": [],
   "source": [
    "from NFandist import calc_G\n",
    "from NFconstants import N_nod, N_traj, NG_points,Beta\n",
    "g_nf=G(z)\n"
   ]
  },
  {
   "cell_type": "code",
   "execution_count": 109,
   "id": "0af2c8ec-017a-437a-8988-486b170e722b",
   "metadata": {
    "execution": {
     "iopub.execute_input": "2024-06-07T18:29:47.892535Z",
     "iopub.status.busy": "2024-06-07T18:29:47.891375Z",
     "iopub.status.idle": "2024-06-07T18:29:48.136713Z",
     "shell.execute_reply": "2024-06-07T18:29:48.135998Z",
     "shell.execute_reply.started": "2024-06-07T18:29:47.892487Z"
    },
    "tags": []
   },
   "outputs": [
    {
     "data": {
      "image/png": "[encoded data removed]",
      "text/plain": [
       "<Figure size 640x480 with 1 Axes>"
      ]
     },
     "metadata": {},
     "output_type": "display_data"
    }
   ],
   "source": [
    "#import sys\n",
    "#sys.path.append('../')\n",
    "import numpy as np\n",
    "import matplotlib.pyplot as plt\n",
    "from NFconstants import N_nod, N_traj, NG_points,Beta\n",
    "#from Value import G\n",
    "#import ensemble\n",
    "#from NFoscillator import basic_oscillator\n",
    "#from time import time\n",
    "#from NFandist import calc_G\n",
    "\n",
    "\n",
    "\n",
    "\n",
    "fig=plt.figure()\n",
    "\n",
    "plt.scatter(Metropolis_b.Times,Metropolis_b.res,s=5)\n",
    "plt.scatter(HMC_b.Times,HMC_b.res,s=5)\n",
    "#plt.scatter(HMC_NN.Times,HMC_NN.res,s=5)\n",
    "\n",
    "#plt.scatter(phTimes,phres,s=1)\n",
    "#plt.xscale(\"log\")\n",
    "plt.xlabel(r\"$N_s$\",fontsize=17)\n",
    "plt.ylabel(r\"$x^2$\",fontsize=17)\n",
    "plt.legend([\"Metropolis\",\"HMC\",\"HMC latent\",\"Normalizing flow+HMC\"])\n",
    "plt.title(\"N=\"+str(N_nod)+\"   \"+r\"$\\beta=$\"+str(Beta)+\"    ультраелятивистский осциллятор\")\n",
    "#plt.scatter(latTimes,l,s=1)\n",
    "plt.grid(True)\n",
    "plt.show()"
   ]
  },
  {
   "cell_type": "code",
   "execution_count": 32,
   "id": "32b03023-c81b-449d-aa2b-45074a6feeb0",
   "metadata": {},
   "outputs": [
    {
     "name": "stdout",
     "output_type": "stream",
     "text": [
      "True\n",
      "True\n",
      "tensor([1., 1., 1., 1., 1., 1., 1., 1., 1., 1.], requires_grad=True)\n",
      "tensor([4., 0., 0., 0., 0., 0., 0., 0., 0., 0.])\n"
     ]
    }
   ],
   "source": [
    "z = torch.ones(10)\n",
    "z.requires_grad=True\n",
    "print(z.requires_grad)\n",
    "x = z\n",
    "x = 2*x**2\n",
    "print(y.requires_grad)\n",
    "x[0].backward()\n",
    "print(z)\n",
    "print(z.grad)"
   ]
  },
  {
   "cell_type": "code",
   "execution_count": 63,
   "id": "f7410f79",
   "metadata": {},
   "outputs": [
    {
     "name": "stdout",
     "output_type": "stream",
     "text": [
      "True\n"
     ]
    }
   ],
   "source": [
    "t=z.clone()\n",
    "print(t.requires_grad)"
   ]
  },
  {
   "cell_type": "code",
   "execution_count": 2,
   "id": "078be2e6",
   "metadata": {},
   "outputs": [],
   "source": [
    "def get_points(start,stop,step):\n",
    "    if step == 0:\n",
    "        print(\"step = 0 error\")\n",
    "        return 1\n",
    "    x=start\n",
    "    Y=[]\n",
    "    while x < stop:\n",
    "        Y.append(x)\n",
    "        Y.append(x+1)\n",
    "        x += step\n",
    "    return Y\n",
    "\n",
    "\n",
    "def config_RG_masks(m,n_nod):\n",
    "    masks = []\n",
    "    start = 0\n",
    "    step = n_nod // (2 ** (m-1))\n",
    "    tmp = get_points(start,n_nod,step)\n",
    "    masks.append(tmp)\n",
    "    if n_nod == 2 ** m:\n",
    "        return masks\n",
    "    start = step//2\n",
    "    masks.append(get_points(start,n_nod,step))\n",
    "    while step > 4:\n",
    "        step //= 2\n",
    "        start = step//2\n",
    "        masks.append(get_points(start,n_nod,step))\n",
    "    return masks"
   ]
  },
  {
   "cell_type": "code",
   "execution_count": 3,
   "id": "d6b13c36",
   "metadata": {},
   "outputs": [
    {
     "name": "stdout",
     "output_type": "stream",
     "text": [
      "[0. 0. 0.]\n"
     ]
    }
   ],
   "source": [
    "import numpy as np\n",
    "from NFandist import get_O\n",
    "O8=get_O(8)\n",
    "O16=get_O(16)\n",
    "omasks = config_RG_masks(3,16)\n",
    "O88 = np.zeros((16,16))\n",
    "print(O88[[1,2,3],[4,5,6]])\n",
    "#print(omasks)"
   ]
  },
  {
   "cell_type": "code",
   "execution_count": 4,
   "id": "ebb4abb0",
   "metadata": {},
   "outputs": [
    {
     "name": "stdout",
     "output_type": "stream",
     "text": [
      "[[ 3.53553391e-01  3.53553391e-01  0.00000000e+00  0.00000000e+00\n",
      "   5.00000000e-01  0.00000000e+00  0.00000000e+00  0.00000000e+00\n",
      "   5.00000000e-01  0.00000000e+00  0.00000000e+00  0.00000000e+00\n",
      "   5.00000000e-01  0.00000000e+00  0.00000000e+00  0.00000000e+00]\n",
      " [ 3.53553391e-01 -3.53553391e-01  0.00000000e+00  0.00000000e+00\n",
      "   3.53553391e-01  3.53553391e-01  0.00000000e+00  0.00000000e+00\n",
      "   3.06161700e-17  5.00000000e-01  0.00000000e+00  0.00000000e+00\n",
      "  -3.53553391e-01  3.53553391e-01  0.00000000e+00  0.00000000e+00]\n",
      " [ 0.00000000e+00  0.00000000e+00  3.53553391e-01  3.53553391e-01\n",
      "   0.00000000e+00  0.00000000e+00  5.00000000e-01  0.00000000e+00\n",
      "   0.00000000e+00  0.00000000e+00  5.00000000e-01  0.00000000e+00\n",
      "   0.00000000e+00  0.00000000e+00  5.00000000e-01  0.00000000e+00]\n",
      " [ 0.00000000e+00  0.00000000e+00  3.53553391e-01 -3.53553391e-01\n",
      "   0.00000000e+00  0.00000000e+00  3.53553391e-01  3.53553391e-01\n",
      "   0.00000000e+00  0.00000000e+00  3.06161700e-17  5.00000000e-01\n",
      "   0.00000000e+00  0.00000000e+00 -3.53553391e-01  3.53553391e-01]\n",
      " [ 3.53553391e-01  3.53553391e-01  0.00000000e+00  0.00000000e+00\n",
      "   3.06161700e-17  5.00000000e-01  0.00000000e+00  0.00000000e+00\n",
      "  -5.00000000e-01  6.12323400e-17  0.00000000e+00  0.00000000e+00\n",
      "  -9.18485099e-17 -5.00000000e-01  0.00000000e+00  0.00000000e+00]\n",
      " [ 3.53553391e-01 -3.53553391e-01  0.00000000e+00  0.00000000e+00\n",
      "  -3.53553391e-01  3.53553391e-01  0.00000000e+00  0.00000000e+00\n",
      "  -9.18485099e-17 -5.00000000e-01  0.00000000e+00  0.00000000e+00\n",
      "   3.53553391e-01  3.53553391e-01  0.00000000e+00  0.00000000e+00]\n",
      " [ 0.00000000e+00  0.00000000e+00  3.53553391e-01  3.53553391e-01\n",
      "   0.00000000e+00  0.00000000e+00  3.06161700e-17  5.00000000e-01\n",
      "   0.00000000e+00  0.00000000e+00 -5.00000000e-01  6.12323400e-17\n",
      "   0.00000000e+00  0.00000000e+00 -9.18485099e-17 -5.00000000e-01]\n",
      " [ 0.00000000e+00  0.00000000e+00  3.53553391e-01 -3.53553391e-01\n",
      "   0.00000000e+00  0.00000000e+00 -3.53553391e-01  3.53553391e-01\n",
      "   0.00000000e+00  0.00000000e+00 -9.18485099e-17 -5.00000000e-01\n",
      "   0.00000000e+00  0.00000000e+00  3.53553391e-01  3.53553391e-01]\n",
      " [ 3.53553391e-01  3.53553391e-01  0.00000000e+00  0.00000000e+00\n",
      "  -5.00000000e-01  6.12323400e-17  0.00000000e+00  0.00000000e+00\n",
      "   5.00000000e-01 -1.22464680e-16  0.00000000e+00  0.00000000e+00\n",
      "  -5.00000000e-01  1.83697020e-16  0.00000000e+00  0.00000000e+00]\n",
      " [ 3.53553391e-01 -3.53553391e-01  0.00000000e+00  0.00000000e+00\n",
      "  -3.53553391e-01 -3.53553391e-01  0.00000000e+00  0.00000000e+00\n",
      "   1.53080850e-16  5.00000000e-01  0.00000000e+00  0.00000000e+00\n",
      "   3.53553391e-01 -3.53553391e-01  0.00000000e+00  0.00000000e+00]\n",
      " [ 0.00000000e+00  0.00000000e+00  3.53553391e-01  3.53553391e-01\n",
      "   0.00000000e+00  0.00000000e+00 -5.00000000e-01  6.12323400e-17\n",
      "   0.00000000e+00  0.00000000e+00  5.00000000e-01 -1.22464680e-16\n",
      "   0.00000000e+00  0.00000000e+00 -5.00000000e-01  1.83697020e-16]\n",
      " [ 0.00000000e+00  0.00000000e+00  3.53553391e-01 -3.53553391e-01\n",
      "   0.00000000e+00  0.00000000e+00 -3.53553391e-01 -3.53553391e-01\n",
      "   0.00000000e+00  0.00000000e+00  1.53080850e-16  5.00000000e-01\n",
      "   0.00000000e+00  0.00000000e+00  3.53553391e-01 -3.53553391e-01]\n",
      " [ 3.53553391e-01  3.53553391e-01  0.00000000e+00  0.00000000e+00\n",
      "  -9.18485099e-17 -5.00000000e-01  0.00000000e+00  0.00000000e+00\n",
      "  -5.00000000e-01  1.83697020e-16  0.00000000e+00  0.00000000e+00\n",
      "   2.75545530e-16  5.00000000e-01  0.00000000e+00  0.00000000e+00]\n",
      " [ 3.53553391e-01 -3.53553391e-01  0.00000000e+00  0.00000000e+00\n",
      "   3.53553391e-01 -3.53553391e-01  0.00000000e+00  0.00000000e+00\n",
      "  -2.14313190e-16 -5.00000000e-01  0.00000000e+00  0.00000000e+00\n",
      "  -3.53553391e-01 -3.53553391e-01  0.00000000e+00  0.00000000e+00]\n",
      " [ 0.00000000e+00  0.00000000e+00  3.53553391e-01  3.53553391e-01\n",
      "   0.00000000e+00  0.00000000e+00 -9.18485099e-17 -5.00000000e-01\n",
      "   0.00000000e+00  0.00000000e+00 -5.00000000e-01  1.83697020e-16\n",
      "   0.00000000e+00  0.00000000e+00  2.75545530e-16  5.00000000e-01]\n",
      " [ 0.00000000e+00  0.00000000e+00  3.53553391e-01 -3.53553391e-01\n",
      "   0.00000000e+00  0.00000000e+00  3.53553391e-01 -3.53553391e-01\n",
      "   0.00000000e+00  0.00000000e+00 -2.14313190e-16 -5.00000000e-01\n",
      "   0.00000000e+00  0.00000000e+00 -3.53553391e-01 -3.53553391e-01]]\n"
     ]
    }
   ],
   "source": [
    "P1t=np.zeros((16,8))\n",
    "P1t[omasks[0]]=np.eye(8)\n",
    "P1=np.transpose(P1t)\n",
    "\n",
    "P2t=np.zeros((16,8))\n",
    "P2t[omasks[1]]=np.eye(8)\n",
    "P2=np.transpose(P2t)\n",
    "#print(P2)\n",
    "\n",
    "I=np.ones((8,8))\n",
    "\n",
    "\n",
    "O88=np.dot(P1t,np.dot(O8,P1))+np.dot(P2t,np.dot(O8,P2))\n",
    "print(O88)"
   ]
  },
  {
   "cell_type": "code",
   "execution_count": 5,
   "id": "9b4ad24a",
   "metadata": {},
   "outputs": [
    {
     "name": "stdout",
     "output_type": "stream",
     "text": [
      "[[ 0.35355339  0.35355339  0.         ...  0.          0.\n",
      "   0.        ]\n",
      " [ 0.35355339 -0.35355339  0.         ...  0.          0.\n",
      "   0.        ]\n",
      " [ 0.          0.          0.1767767  ...  0.          0.25\n",
      "   0.        ]\n",
      " ...\n",
      " [ 0.          0.          0.         ... -0.13529903  0.\n",
      "   0.        ]\n",
      " [ 0.          0.          0.1767767  ...  0.          0.23096988\n",
      "   0.09567086]\n",
      " [ 0.          0.          0.1767767  ...  0.         -0.24519632\n",
      "  -0.04877258]]\n"
     ]
    }
   ],
   "source": [
    "def getproj(,mask):\n",
    "    dim = len(mask)\n",
    "    Pt=torch.zeros((N,dim))\n",
    "    Pt[omasks[i]] = torch.eye(dim)\n",
    "    return Pt\n",
    "\n",
    "\n",
    "def get_multiO(m,N):\n",
    "    omasks = config_RG_masks(m,N)\n",
    "    mO=np.zeros((N,N))\n",
    "    for i in range(len(omasks)):\n",
    "        dim=len(omasks[i])\n",
    "        Pt=np.zeros((N,dim))\n",
    "        Pt[omasks[i]] = np.eye(dim)\n",
    "        P=np.transpose(Pt)\n",
    "        O=get_O(dim)\n",
    "        mO+=np.dot(Pt,np.dot(O,P))\n",
    "    return mO\n",
    "O64=get_multiO(3,64)\n",
    "print(O64)        \n",
    "        \n",
    "    \n",
    "    \n",
    "    "
   ]
  },
  {
   "cell_type": "code",
   "execution_count": null,
   "id": "00b624b3",
   "metadata": {},
   "outputs": [],
   "source": []
  }
 ],
 "metadata": {
  "kernelspec": {
   "display_name": "Python 3 (ipykernel)",
   "language": "python",
   "name": "python3"
  },
  "language_info": {
   "codemirror_mode": {
    "name": "ipython",
    "version": 3
   },
   "file_extension": ".py",
   "mimetype": "text/x-python",
   "name": "python",
   "nbconvert_exporter": "python",
   "pygments_lexer": "ipython3",
   "version": "3.11.5"
  }
 },
 "nbformat": 4,
 "nbformat_minor": 5
}
