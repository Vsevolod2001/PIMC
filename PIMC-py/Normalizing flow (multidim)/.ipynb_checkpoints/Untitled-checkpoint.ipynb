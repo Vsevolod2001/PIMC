{
 "cells": [
  {
   "cell_type": "code",
   "execution_count": 7,
   "id": "78a50fcb",
   "metadata": {},
   "outputs": [
    {
     "name": "stdout",
     "output_type": "stream",
     "text": [
      "0.006738252915294544\n",
      "1.0000833406234217\n"
     ]
    }
   ],
   "source": [
    "from NFandist import calc_Z\n",
    "import numpy as np\n",
    "Z=calc_Z(500,10)\n",
    "Z0=1/(2 * np.sinh(5))\n",
    "print(Z0)\n",
    "print(Z/Z0)"
   ]
  },
  {
   "cell_type": "code",
   "execution_count": 16,
   "id": "0ec38ae4",
   "metadata": {},
   "outputs": [
    {
     "data": {
      "image/png": "[encoded data removed]",
      "text/plain": [
       "<Figure size 640x480 with 1 Axes>"
      ]
     },
     "metadata": {},
     "output_type": "display_data"
    }
   ],
   "source": [
    "from NFandist import calc_Z\n",
    "import numpy as np\n",
    "import matplotlib.pyplot as plt\n",
    "Z0=1/(2 * np.sinh(5))\n",
    "N=np.array(list(range(3,100)))\n",
    "Z=np.array([calc_Z(N[_],10) for _ in range(len(N))])\n",
    "delta=np.log(Z/Z0-1)\n",
    "fig=plt.figure()\n",
    "plt.plot(N,delta)\n",
    "plt.show()"
   ]
  },
  {
   "cell_type": "code",
   "execution_count": 2,
   "id": "3b164fb5",
   "metadata": {},
   "outputs": [
    {
     "name": "stdout",
     "output_type": "stream",
     "text": [
      "[0.49405272 0.36192638]\n"
     ]
    }
   ],
   "source": [
    "from NFandist import calc_G\n",
    "g=calc_G(32,10,2)\n",
    "print(g)"
   ]
  },
  {
   "cell_type": "code",
   "execution_count": 5,
   "id": "59f69a0e",
   "metadata": {},
   "outputs": [
    {
     "name": "stdout",
     "output_type": "stream",
     "text": [
      "0.25001957671517694\n"
     ]
    }
   ],
   "source": [
    "from NFandist import calc_Kin\n",
    "print(calc_Kin(1000,10))"
   ]
  },
  {
   "cell_type": "code",
   "execution_count": 57,
   "id": "0b206f80",
   "metadata": {},
   "outputs": [
    {
     "name": "stdout",
     "output_type": "stream",
     "text": [
      "tensor(0.0062)\n"
     ]
    }
   ],
   "source": [
    "from NFoscillator import Oscillator\n",
    "from NFrel_oscillator import Rel_Oscillator\n",
    "from NFur_oscillator import Ur_Oscillator\n",
    "from Data import train_loader\n",
    "import torch\n",
    "batch=next(iter(train_loader))\n",
    "KL_osc=Oscillator.make_KL(Oscillator)\n",
    "KL_rel=Rel_Oscillator.make_KL(Rel_Oscillator,sigma=0.0001)\n",
    "KL_ur=Ur_Oscillator.make_KL(Ur_Oscillator)\n",
    "osc=Oscillator()\n",
    "rel=Rel_Oscillator(sigma=10000)\n",
    "ur=Ur_Oscillator()\n",
    "#print(torch.mean(rel.T(batch)-ur.T(batch)))\n",
    "#print(rel.normalizer-ur.normalizer)\n",
    "print(KL_osc(batch,0)-KL_rel(batch,0))"
   ]
  },
  {
   "cell_type": "code",
   "execution_count": 16,
   "id": "5e140a2b",
   "metadata": {},
   "outputs": [
    {
     "name": "stdout",
     "output_type": "stream",
     "text": [
      "tensor(-0.0122, dtype=torch.float64)\n"
     ]
    }
   ],
   "source": [
    "import torch\n",
    "import numpy as np \n",
    "from NFconstants import N_nod, beta\n",
    "from NFandist import get_C, calc_Z, get_diag\n",
    "from Data import train_loader\n",
    "from NFoscillator import Oscillator\n",
    "\n",
    "KL_osc=Oscillator.make_KL(Oscillator)\n",
    "C=get_C(N_nod,beta)\n",
    "C=(torch.tensor(C).float())\n",
    "Ct=torch.t(C)\n",
    "x=torch.matmul(batch2,Ct)\n",
    "d=np.array(get_diag(N_nod,beta))\n",
    "det_C=torch.tensor(np.prod(d))\n",
    "Z=torch.tensor(calc_Z(N_nod,beta))\n",
    "print(KL_osc(x,torch.log(det_C))+torch.log(Z))\n"
   ]
  },
  {
   "cell_type": "code",
   "execution_count": 1,
   "id": "b63e16d2",
   "metadata": {},
   "outputs": [
    {
     "name": "stdout",
     "output_type": "stream",
     "text": [
      "[[ 0.31622777  0.04881826  0.37884258 ...  0.          0.06936547\n",
      "   0.        ]\n",
      " [ 0.31622777 -0.04881826  0.37156323 ...  0.02692516 -0.06803264\n",
      "   0.01353253]\n",
      " [ 0.31622777  0.04881826  0.35000491 ... -0.04975121  0.06408534\n",
      "  -0.02654502]\n",
      " ...\n",
      " [ 0.31622777 -0.04881826  0.3149961  ... -0.06500309 -0.05767528\n",
      "  -0.03853739]\n",
      " [ 0.31622777  0.04881826  0.35000491 ...  0.04975121  0.06408534\n",
      "   0.02654502]\n",
      " [ 0.31622777 -0.04881826  0.37156323 ... -0.02692516 -0.06803264\n",
      "  -0.01353253]]\n"
     ]
    }
   ],
   "source": [
    "from NFconstants import N_nod, beta\n",
    "from NFandist import get_C, calc_Z\n",
    "C=get_C(N_nod,beta)\n",
    "print(C)"
   ]
  },
  {
   "cell_type": "code",
   "execution_count": 13,
   "id": "35b26d96",
   "metadata": {},
   "outputs": [],
   "source": [
    "import torch\n",
    "import numpy as np\n",
    "from NFandist import get_T\n",
    "N_traj=2**11\n",
    "N_nod=32\n",
    "T=torch.tensor(get_T(N_nod)).float()\n",
    "def G(X,n_p=N_nod):\n",
    "    G=np.zeros((n_p))\n",
    "    Y=X.clone()\n",
    "    Xt=torch.t(X)\n",
    "    for s in range(n_p):\n",
    "        G[s]=torch.trace(torch.matmul(Y,Xt))\n",
    "        Y=torch.matmul(Y,T)\n",
    "    return G/(N_traj*N_nod)\n",
    "#g_nf=G(trajs)"
   ]
  },
  {
   "cell_type": "code",
   "execution_count": 14,
   "id": "05b46f16",
   "metadata": {},
   "outputs": [],
   "source": [
    "from NFandist import calc_G\n",
    "from NFconstants import N_nod, NG_points,beta\n",
    "g_osc=calc_G(N_nod,10)\n"
   ]
  },
  {
   "cell_type": "code",
   "execution_count": 15,
   "id": "593ecfe1",
   "metadata": {},
   "outputs": [],
   "source": [
    "from NFandist import get_C, calc_Z\n",
    "C=get_C(32,10)"
   ]
  },
  {
   "cell_type": "code",
   "execution_count": 29,
   "id": "7b37d587",
   "metadata": {},
   "outputs": [
    {
     "name": "stdout",
     "output_type": "stream",
     "text": [
      "16\n"
     ]
    }
   ],
   "source": [
    "#import numpy as np\n",
    "from NFoscillator import Oscillator\n",
    "from NFandist import get_O, get_diag, get_C\n",
    "import torch\n",
    "from Data import train_loader\n",
    "\"\"\"\n",
    "mask=np.zeros((32))\n",
    "for i in range(32):\n",
    "    if i%8<2:\n",
    "        mask[i]=1\n",
    "mask1=np.ones((32))\n",
    "mask1=mask1-mask\n",
    "\"\"\"\n",
    "ind=[]\n",
    "ind1=[]\n",
    "for i in range(32):\n",
    "    if i%4<2:\n",
    "        ind.append(i)\n",
    "    else:\n",
    "        ind1.append(i)\n",
    "O=(torch.tensor(get_O(32)).float())\n",
    "Ot=torch.t(O)\n",
    "#C=(torch.tensor(get_C(32,10)).float())\n",
    "#Ct=torch.t(C)\n",
    "\n",
    "Diag=(torch.tensor(get_diag(32,10)).float())\n",
    "diag=(torch.tensor(get_diag(16,10)).float())  #Diag[ind]\n",
    "diag1=Diag[ind1]\n",
    "print(len(diag))\n",
    "#z=torch.ones(32)\n",
    "z=next(iter(train_loader))\n",
    "Z=torch.matmul(z,Ct)\n",
    "z[:,ind]=z[:,ind]*diag\n",
    "z[:,ind1]=z[:,ind1]*diag1\n",
    "z=torch.matmul(z,Ot)\n",
    "\n",
    "#z=next(iter(train_loader))\n",
    "Z=torch.matmul(z,Ct)\n",
    "g_nf=G(z)"
   ]
  },
  {
   "cell_type": "code",
   "execution_count": 30,
   "id": "7c306f0c",
   "metadata": {},
   "outputs": [
    {
     "name": "stdout",
     "output_type": "stream",
     "text": [
      "0.4836491048336029\n"
     ]
    },
    {
     "data": {
      "image/png": "[encoded data removed]",
      "text/plain": [
       "<Figure size 640x480 with 1 Axes>"
      ]
     },
     "metadata": {},
     "output_type": "display_data"
    }
   ],
   "source": [
    "import matplotlib.pyplot as plt\n",
    "g=g_osc\n",
    "print(g_nf[0])\n",
    "fig=plt.figure()\n",
    "MCMC_list=np.arange(len(g))/len(g)\n",
    "NF_list=np.arange(len(g_nf))/len(g_nf)\n",
    "plt.scatter(MCMC_list,g)\n",
    "plt.scatter(NF_list,g_nf)\n",
    "plt.legend([\"MCMC\",\"normalizing flow\"])\n",
    "plt.grid(True)\n",
    "plt.show()"
   ]
  },
  {
   "cell_type": "code",
   "execution_count": 40,
   "id": "1ff217d6",
   "metadata": {},
   "outputs": [
    {
     "name": "stdout",
     "output_type": "stream",
     "text": [
      "[0, 1, 4, 5, 8, 9, 12, 13] [4, 5, 12, 13, 2, 3, 10, 11] [2, 3, 6, 7, 10, 11, 14, 15]\n"
     ]
    }
   ],
   "source": [
    "IND1=[]\n",
    "IND2=[]\n",
    "for i in range(16):\n",
    "    if i%4<2:\n",
    "        IND1.append(i)\n",
    "    else:\n",
    "        IND2.append(i)\n",
    "ind1=[]\n",
    "ind2=[]\n",
    "ind3=[]\n",
    "ind4=[]\n",
    "for i in range(8):\n",
    "    if i%4<2:\n",
    "        ind1.append(IND1[i])\n",
    "    else:\n",
    "        ind2.append(IND1[i])\n",
    "for i in range(8):\n",
    "    if i%4<2:\n",
    "        ind3.append(IND2[i])\n",
    "    else:\n",
    "        ind4.append(IND2[i])        \n",
    "\n",
    "mask1=IND1\n",
    "mask2=ind2+ind3\n",
    "mask3=IND2\n",
    "print(mask1,mask2,mask3)"
   ]
  },
  {
   "cell_type": "code",
   "execution_count": null,
   "id": "aaccf624",
   "metadata": {},
   "outputs": [],
   "source": []
  }
 ],
 "metadata": {
  "kernelspec": {
   "display_name": "Python 3 (ipykernel)",
   "language": "python",
   "name": "python3"
  },
  "language_info": {
   "codemirror_mode": {
    "name": "ipython",
    "version": 3
   },
   "file_extension": ".py",
   "mimetype": "text/x-python",
   "name": "python",
   "nbconvert_exporter": "python",
   "pygments_lexer": "ipython3",
   "version": "3.11.5"
  }
 },
 "nbformat": 4,
 "nbformat_minor": 5
}
