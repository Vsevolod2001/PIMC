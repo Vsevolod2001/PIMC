{
 "cells": [
  {
   "cell_type": "code",
   "execution_count": 1,
   "metadata": {
    "collapsed": true,
    "execution": {
     "iopub.execute_input": "2024-01-20T14:31:30.390784Z",
     "iopub.status.busy": "2024-01-20T14:31:30.390038Z",
     "iopub.status.idle": "2024-01-20T14:31:41.022599Z",
     "shell.execute_reply": "2024-01-20T14:31:41.021958Z",
     "shell.execute_reply.started": "2024-01-20T14:31:30.390748Z"
    },
    "tags": []
   },
   "outputs": [],
   "source": [
    "from typing import Callable, List, Tuple\n",
    "\n",
    "import pytorch_lightning as pl\n",
    "import torch\n",
    "import torch.nn.functional as F\n",
    "from torch import nn\n",
    "from torch.distributions.distribution import Distribution\n",
    "from pytorch_lightning.loggers import TensorBoardLogger\n"
   ]
  },
  {
   "cell_type": "code",
   "execution_count": 2,
   "metadata": {
    "collapsed": true,
    "execution": {
     "iopub.execute_input": "2024-01-20T14:31:41.024337Z",
     "iopub.status.busy": "2024-01-20T14:31:41.023712Z",
     "iopub.status.idle": "2024-01-20T14:31:41.055993Z",
     "shell.execute_reply": "2024-01-20T14:31:41.055208Z",
     "shell.execute_reply.started": "2024-01-20T14:31:41.024298Z"
    }
   },
   "outputs": [],
   "source": [
    "import torch\n",
    "from torch import nn\n",
    "import numpy as np\n",
    "\n",
    "class L(nn.Linear):\n",
    "    def __init__(self,n):\n",
    "        super().__init__(n*(n+1)//2,1,bias=False)\n",
    "        self.n=n\n",
    "        self.diag_mask=torch.tensor([ (k+1) * (k+2) // 2 - 1 for k in range(n)])\n",
    "        self.mask2d=torch.zeros((n*(n+1) // 2),dtype=int)\n",
    "        for i in range(n):\n",
    "            for j in range(i+1):\n",
    "                self.mask2d[i*(i+1)//2+j]=i*n+j\n",
    "    \n",
    "    def anti_flatten(self):\n",
    "        n=self.n\n",
    "        L=torch.zeros((n**2))\n",
    "        L[self.mask2d]=self.weight\n",
    "        L=torch.reshape(L,(n,n))\n",
    "        return L        \n",
    "            \n",
    "    def log_abs_det(self):\n",
    "        diag=self.weight[0][self.diag_mask]\n",
    "        la=torch.log(torch.abs(diag))\n",
    "        lad=torch.sum(la)\n",
    "        return lad\n",
    "    \n",
    "    def forward(self,x):\n",
    "        Lwt=torch.t(self.anti_flatten())\n",
    "        return torch.matmul(x,Lwt)\n",
    "        \n",
    "    def adj(self,mat):\n",
    "        Lw=self.anti_flatten()\n",
    "        Lwt=torch.t(Lw)\n",
    "        D=torch.matmul(Lwt,torch.matmul(mat,Lw))\n",
    "        return D"
   ]
  },
  {
   "cell_type": "code",
   "execution_count": 3,
   "metadata": {
    "execution": {
     "iopub.execute_input": "2024-01-20T14:31:41.057982Z",
     "iopub.status.busy": "2024-01-20T14:31:41.057075Z",
     "iopub.status.idle": "2024-01-20T14:31:41.239170Z",
     "shell.execute_reply": "2024-01-20T14:31:41.238484Z",
     "shell.execute_reply.started": "2024-01-20T14:31:41.057945Z"
    },
    "tags": []
   },
   "outputs": [
    {
     "name": "stdout",
     "output_type": "stream",
     "text": [
      "tensor([[-0.0130,  0.0000,  0.0000,  0.0000,  0.0000,  0.0000,  0.0000,  0.0000,\n",
      "          0.0000,  0.0000],\n",
      "        [-0.0567,  0.0085,  0.0000,  0.0000,  0.0000,  0.0000,  0.0000,  0.0000,\n",
      "          0.0000,  0.0000],\n",
      "        [-0.0800, -0.0843, -0.0185,  0.0000,  0.0000,  0.0000,  0.0000,  0.0000,\n",
      "          0.0000,  0.0000],\n",
      "        [ 0.0374, -0.0562,  0.0279,  0.0439,  0.0000,  0.0000,  0.0000,  0.0000,\n",
      "          0.0000,  0.0000],\n",
      "        [ 0.1248, -0.0698, -0.0303,  0.0636, -0.0598,  0.0000,  0.0000,  0.0000,\n",
      "          0.0000,  0.0000],\n",
      "        [-0.0238, -0.0660, -0.0063,  0.1263,  0.0398,  0.0449,  0.0000,  0.0000,\n",
      "          0.0000,  0.0000],\n",
      "        [ 0.1027, -0.0903, -0.0308, -0.1165, -0.0109,  0.0800,  0.0200,  0.0000,\n",
      "          0.0000,  0.0000],\n",
      "        [ 0.0766, -0.0043,  0.0193, -0.1127,  0.1227, -0.1248, -0.0153,  0.0994,\n",
      "          0.0000,  0.0000],\n",
      "        [ 0.0210,  0.1242, -0.1073,  0.0644,  0.0475, -0.0046, -0.0202,  0.0832,\n",
      "         -0.0859,  0.0000],\n",
      "        [ 0.0778,  0.1009,  0.0081,  0.0529,  0.0854, -0.0093,  0.0466,  0.0132,\n",
      "         -0.0102, -0.0454]], grad_fn=<ReshapeAliasBackward0>)\n"
     ]
    }
   ],
   "source": [
    "model=L(10)\n",
    "print(model.anti_flatten())"
   ]
  },
  {
   "cell_type": "code",
   "execution_count": 4,
   "metadata": {
    "collapsed": true,
    "execution": {
     "iopub.execute_input": "2024-01-20T10:59:27.549918Z",
     "iopub.status.busy": "2024-01-20T10:59:27.548979Z",
     "iopub.status.idle": "2024-01-20T10:59:27.561903Z",
     "shell.execute_reply": "2024-01-20T10:59:27.561136Z",
     "shell.execute_reply.started": "2024-01-20T10:59:27.549882Z"
    },
    "tags": []
   },
   "outputs": [],
   "source": [
    "from NFconstants import N_nod, beta , N_traj\n",
    "from NFandist import get_A, get_C\n",
    "A=torch.tensor(get_A(N_nod,beta)).float()\n",
    "def set_random_seed(seed):\n",
    "    torch.manual_seed(seed)\n",
    "    np.random.seed(seed)\n",
    "\n",
    "def A_I(model):\n",
    "    with torch.no_grad():\n",
    "        A_D=model.adj(A)\n",
    "        I=torch.eye(N_nod)\n",
    "    return torch.linalg.matrix_norm(A_D-I)"
   ]
  },
  {
   "cell_type": "code",
   "execution_count": 5,
   "metadata": {
    "collapsed": true,
    "jupyter": {
     "outputs_hidden": true
    }
   },
   "outputs": [],
   "source": [
    "class Action(nn.Module):\n",
    "    def __init__(self,A):\n",
    "        super().__init__()\n",
    "        self.A=A\n",
    "    \n",
    "    def forward(self,x):\n",
    "        y=torch.matmul(self.A,x)\n",
    "        return 1/2 * torch.dot(y,x) \n",
    "\n",
    "class CustomLoss(nn.Module):\n",
    "    def __init__(self):\n",
    "        super().__init__()\n",
    "\n",
    "    def forward(self, x, act, model):\n",
    "        loss=0\n",
    "        M=len(x)\n",
    "        for i in range(M):\n",
    "            loss+=act(x[i])\n",
    "        loss=loss/M\n",
    "        lad=model.log_abs_det()\n",
    "        loss=loss-lad\n",
    "        return loss\n"
   ]
  },
  {
   "cell_type": "code",
   "execution_count": 6,
   "metadata": {
    "execution": {
     "iopub.execute_input": "2024-01-20T09:59:21.523493Z",
     "iopub.status.busy": "2024-01-20T09:59:21.522619Z",
     "iopub.status.idle": "2024-01-20T10:18:15.416811Z",
     "shell.execute_reply": "2024-01-20T10:18:15.415435Z",
     "shell.execute_reply.started": "2024-01-20T09:59:21.523446Z"
    },
    "tags": []
   },
   "outputs": [
    {
     "name": "stderr",
     "output_type": "stream",
     "text": [
      "100%|███████████████████████████████████████████████████████████████████████████████| 300/300 [00:01<00:00, 152.54it/s]\n"
     ]
    },
    {
     "data": {
      "image/png": "[encoded data removed]",
      "text/plain": [
       "<matplotlib.figure.Figure at 0x163fdfce710>"
      ]
     },
     "metadata": {},
     "output_type": "display_data"
    }
   ],
   "source": [
    "import torch\n",
    "from torch import nn\n",
    "import numpy as np\n",
    "import matplotlib.pyplot as plt\n",
    "from NFconstants import N_nod, beta , N_traj\n",
    "from NFandist import get_A, get_C\n",
    "from tqdm import tqdm\n",
    "import random\n",
    "from Data import train_loader\n",
    "from LOSS import KL_osc\n",
    "\n",
    "\n",
    "set_random_seed(42)    \n",
    "model=L(N_nod)\n",
    "optimizer = torch.optim.Adam(model.parameters(), lr=0.001)\n",
    "loss_fn = KL_osc\n",
    "num_epochs=300\n",
    "metric2=[A_I(model)]\n",
    "\n",
    "\n",
    "for epoch in tqdm(range(num_epochs)):\n",
    "    for x in train_loader:\n",
    "        # Forward pass\n",
    "        outputs = model(x)\n",
    "        loss = loss_fn(outputs,model.log_abs_det())\n",
    "        \n",
    "        # Backward and optimize\n",
    "        optimizer.zero_grad()\n",
    "        loss.backward()\n",
    "        optimizer.step()\n",
    "    metric2.append(A_I(model))\n",
    "\n",
    "\n",
    "fig=plt.figure()\n",
    "plt.plot(list(range(num_epochs+1)),metric2)\n",
    "plt.grid(True)\n",
    "plt.show()\n"
   ]
  },
  {
   "cell_type": "code",
   "execution_count": null,
   "metadata": {
    "collapsed": true,
    "execution": {
     "iopub.execute_input": "2024-01-20T11:00:49.238073Z",
     "iopub.status.busy": "2024-01-20T11:00:49.237264Z",
     "iopub.status.idle": "2024-01-20T11:25:50.412038Z",
     "shell.execute_reply": "2024-01-20T11:25:50.410774Z",
     "shell.execute_reply.started": "2024-01-20T11:00:49.238028Z"
    },
    "tags": []
   },
   "outputs": [],
   "source": [
    "from LOSS import KL_osc\n",
    "from Data import train_loader\n",
    "\n",
    "set_random_seed(42)\n",
    "L_layer=L(N_nod)\n",
    "pipeline=Pipeline(model=L_layer,criterion=KL_osc)\n",
    "trainer = pl.Trainer(\n",
    "    max_epochs=200,\n",
    "    logger=TensorBoardLogger(save_dir=f\"logs/nf\"),\n",
    "    num_sanity_val_steps=0,\n",
    ")\n",
    "\n",
    "trainer.fit(model=pipeline, train_dataloaders=train_loader)\n",
    "torch.save(nf.state_dict(), \"model_weights1.pth\")"
   ]
  },
  {
   "cell_type": "code",
   "execution_count": null,
   "metadata": {
    "collapsed": true
   },
   "outputs": [],
   "source": []
  }
 ],
 "metadata": {
  "kernelspec": {
   "display_name": "Python 3",
   "language": "python",
   "name": "python3"
  },
  "language_info": {
   "codemirror_mode": {
    "name": "ipython",
    "version": 3
   },
   "file_extension": ".py",
   "mimetype": "text/x-python",
   "name": "python",
   "nbconvert_exporter": "python",
   "pygments_lexer": "ipython3",
   "version": "3.6.2"
  }
 },
 "nbformat": 4,
 "nbformat_minor": 4
}
