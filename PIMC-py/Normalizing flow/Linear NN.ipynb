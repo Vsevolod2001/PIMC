{
 "cells": [
  {
   "cell_type": "code",
   "execution_count": null,
   "metadata": {
    "collapsed": true
   },
   "outputs": [],
   "source": [
    "import torch\n",
    "from torch import nn\n",
    "import matplotlib.pyplot as plt\n",
    "\n",
    "# Creating a PyTorch Dataset\n",
    "from torch.utils.data import Dataset\n",
    "from torch.utils.data import DataLoader\n",
    "import numpy as np\n",
    "from Data import train_loader, test_loader\n",
    "\n",
    "\n",
    "\n",
    "num_epochs = 10000\n",
    "\n",
    "learning_rate = 10**(-3)\n",
    "\n",
    "class NeuralNetwork(nn.Module):\n",
    "    def __init__(self):\n",
    "        super().__init__()\n",
    "        self.layers_stack = nn.Sequential(\n",
    "            nn.Linear(N_nod, N_nod)\n",
    "        )\n",
    "\n",
    "    def forward(self, x):\n",
    "        logits = self.layers_stack(x)\n",
    "        return logits\n",
    "    \n",
    "    \n",
    "\n",
    "\n",
    "\n",
    "    \n",
    "    \n",
    "model = NeuralNetwork()\n",
    "\n",
    "\n",
    "criterion = nn.MSELoss()\n",
    "optimizer = torch.optim.SGD(model.parameters(), lr=learning_rate)\n",
    "\n",
    "def train_loop(dataloader, model, criterion, optimizer):\n",
    "    num_batches = len(dataloader)\n",
    "\n",
    "    train_loss = 0\n",
    "\n",
    "    for features, targets in dataloader:\n",
    "        # Compute prediction and loss\n",
    "        pred = model(features)\n",
    "        loss = criterion(pred, targets)\n",
    "\n",
    "        # Optimization\n",
    "        optimizer.zero_grad()\n",
    "        loss.backward()\n",
    "        optimizer.step()\n",
    "\n",
    "        train_loss += loss.item()\n",
    "\n",
    "    train_loss /= num_batches\n",
    "    print(f\"Train loss: {train_loss:>8f}\")\n",
    "\n",
    "    return train_loss\n",
    "\n",
    "\n",
    "def test_loop(dataloader, model, criterion):\n",
    "    size = len(dataloader.dataset)\n",
    "    num_batches = len(dataloader)\n",
    "\n",
    "    test_loss = 0\n",
    "\n",
    "    with torch.no_grad():\n",
    "        for features, targets in dataloader:\n",
    "            # Compute prediction and loss\n",
    "            pred = model(features)\n",
    "            loss = criterion(pred, targets)\n",
    "\n",
    "            test_loss += loss.item()\n",
    "\n",
    "\n",
    "    test_loss /= num_batches\n",
    "    print(f\"Test loss: {test_loss:>8f} \\n\")\n",
    "\n",
    "    return test_loss\n",
    "\n",
    "\n",
    "\n",
    "\n",
    "\n",
    "\n",
    "\n",
    "\n",
    "loss_history = {\"train\": [], \"test\": []}\n",
    "\n",
    "for i in range(num_epochs):\n",
    "    print(f\"Epoch {i+1}\")\n",
    "    train_loss = train_loop(train_loader, model, criterion, optimizer)\n",
    "    test_loss = test_loop(test_loader, model, criterion)\n",
    "\n",
    "    loss_history[\"train\"].append(train_loss)\n",
    "    loss_history[\"test\"].append(test_loss)\n",
    "print(\"Done!\")\n",
    "\n",
    "\n",
    "Epochs=[i for i in range(num_epochs)]\n",
    "plt.figure()\n",
    "plt.title(\"learning_rate=\"+str(learning_rate),fontsize=17)\n",
    "plt.plot(Epochs,loss_history[\"train\"])\n",
    "plt.plot(Epochs,loss_history[\"test\"])\n",
    "plt.legend([\"train\",\"test\"])\n",
    "plt.ylabel(\"MSE\",fontsize=17)\n",
    "plt.xlabel(\"epoch\",fontsize=17)\n",
    "plt.grid(True)\n",
    "plt.show()\n",
    "\n",
    "torch.save(model.state_dict(), \"model_weights1.pth\")"
   ]
  },
  {
   "cell_type": "code",
   "execution_count": null,
   "metadata": {},
   "outputs": [],
   "source": [
    "import torch\n",
    "from torch import nn\n",
    "import matplotlib.pyplot as plt\n",
    "\n",
    "m=torch.nn.Linear(10,10,bias=False)\n",
    "W=m.weight\n",
    "print(W)\n",
    "det=torch.det(W)\n",
    "print(det)\n",
    "\n",
    "class LinearNN(nn.Module):\n",
    "    def __init__(self):\n",
    "        super().__init__()\n",
    "        self.layers_stack = nn.Sequential(\n",
    "            m\n",
    "        )\n",
    "\n",
    "    def forward(self, x):\n",
    "        x_out = self.layers_stack(x)\n",
    "        return x_out\n",
    "    \n",
    "\n",
    "def criterion(x_out):\n",
    "    return mean(p(x_out)-fullS(x_out))\n",
    "\n",
    "#p=det*exp(-(Wx)TWx)\n",
    "#S=sum model.S(x[i-1],x[i])\n"
   ]
  },
  {
   "cell_type": "code",
   "execution_count": 3,
   "metadata": {},
   "outputs": [
    {
     "name": "stderr",
     "output_type": "stream",
     "text": [
      "100%|████████████████████████████████████████████████████████████████████████████████| 600/600 [04:23<00:00,  2.27it/s]\n"
     ]
    },
    {
     "data": {
      "image/png": "[encoded data removed]",
      "text/plain": [
       "<matplotlib.figure.Figure at 0x1e8e00bbc18>"
      ]
     },
     "metadata": {},
     "output_type": "display_data"
    },
    {
     "data": {
      "image/png": "[encoded data removed]",
      "text/plain": [
       "<matplotlib.figure.Figure at 0x1e8e0c38cf8>"
      ]
     },
     "metadata": {},
     "output_type": "display_data"
    }
   ],
   "source": [
    "import torch\n",
    "from torch import nn\n",
    "import numpy as np\n",
    "import matplotlib.pyplot as plt\n",
    "from constants import N_nod,a, N_traj\n",
    "from andist import A, C\n",
    "from tqdm import tqdm\n",
    "import random\n",
    "from Data import train_loader\n",
    "\n",
    "\n",
    "def set_random_seed(seed):\n",
    "    torch.manual_seed(seed)\n",
    "    np.random.seed(seed)\n",
    "    random.seed(seed)\n",
    "\n",
    "\n",
    "\n",
    "A=torch.tensor(A).float()\n",
    "C=torch.tensor(C).float()\n",
    "\n",
    "\n",
    "class Action(nn.Module):\n",
    "    def __init__(self,A):\n",
    "        super().__init__()\n",
    "        self.A=A\n",
    "    \n",
    "    def forward(self,x):\n",
    "        y=torch.matmul(self.A,x)\n",
    "        return 1/2 * torch.dot(y,x) \n",
    "\n",
    "class CustomLoss(nn.Module):\n",
    "    def __init__(self):\n",
    "        super(CustomLoss, self).__init__()\n",
    "\n",
    "    def forward(self, x, act, model):\n",
    "        loss=0\n",
    "        M=len(x)\n",
    "        for i in range(M):\n",
    "            loss+=act(x[i])\n",
    "        loss=loss/M\n",
    "        det=torch.det(model.weight)\n",
    "        Log=torch.log(torch.abs(det))\n",
    "        loss=loss-Log\n",
    "        return loss\n",
    "\n",
    "def w_C(model):\n",
    "    wt=model.weight\n",
    "    w=torch.t(model.weight)\n",
    "    return torch.linalg.matrix_norm(w-C)\n",
    "def A_I(model):\n",
    "    wt=model.weight\n",
    "    w=torch.t(model.weight)\n",
    "    A_D=torch.matmul(wt,torch.matmul(A,w))\n",
    "    I=torch.eye(N_nod)\n",
    "    return torch.linalg.matrix_norm(A_D-I)    \n",
    " \n",
    "set_random_seed(42)    \n",
    "model=nn.Linear(N_nod,N_nod,bias=False)\n",
    "#print(model.weight)\n",
    "optimizer = torch.optim.Adam(model.parameters(), lr=0.0001)\n",
    "\n",
    "act=Action(A)\n",
    "loss_fn = CustomLoss()\n",
    "num_epochs=600\n",
    "metric1=[w_C(model)]\n",
    "metric2=[A_I(model)]\n",
    "\n",
    "\n",
    "for epoch in tqdm(range(num_epochs)):\n",
    "    for x in train_loader:\n",
    "        # Forward pass\n",
    "        outputs = model(x)\n",
    "        loss = loss_fn(outputs,act,model)\n",
    "        \n",
    "\n",
    "        # Backward and optimize\n",
    "        optimizer.zero_grad()\n",
    "        loss.backward()\n",
    "        optimizer.step()\n",
    "    metric1.append(w_C(model))\n",
    "    metric2.append(A_I(model))\n",
    "\n",
    "\n",
    "fig=plt.figure()\n",
    "plt.plot(list(range(num_epochs+1)),metric1)\n",
    "plt.grid(True)\n",
    "plt.show()\n",
    "\n",
    "fig=plt.figure()\n",
    "plt.plot(list(range(num_epochs+1)),metric2)\n",
    "plt.grid(True)\n",
    "plt.show()\n",
    "\n"
   ]
  },
  {
   "cell_type": "code",
   "execution_count": 3,
   "metadata": {},
   "outputs": [
    {
     "name": "stderr",
     "output_type": "stream",
     "text": [
      "  3%|██▊                                                                                | 1/30 [00:46<22:39, 46.87s/it]\n"
     ]
    },
    {
     "ename": "KeyboardInterrupt",
     "evalue": "",
     "output_type": "error",
     "traceback": [
      "\u001b[1;31m---------------------------------------------------------------------------\u001b[0m",
      "\u001b[1;31mKeyboardInterrupt\u001b[0m                         Traceback (most recent call last)",
      "\u001b[1;32m<ipython-input-3-a06022c9f846>\u001b[0m in \u001b[0;36m<module>\u001b[1;34m()\u001b[0m\n\u001b[0;32m     52\u001b[0m         \u001b[0mdet\u001b[0m\u001b[1;33m=\u001b[0m\u001b[0mtorch\u001b[0m\u001b[1;33m.\u001b[0m\u001b[0mdet\u001b[0m\u001b[1;33m(\u001b[0m\u001b[0mmodel\u001b[0m\u001b[1;33m.\u001b[0m\u001b[0mweight\u001b[0m\u001b[1;33m)\u001b[0m\u001b[1;33m\u001b[0m\u001b[0m\n\u001b[0;32m     53\u001b[0m         \u001b[0mlog_prob\u001b[0m\u001b[1;33m=\u001b[0m\u001b[0mtorch\u001b[0m\u001b[1;33m.\u001b[0m\u001b[0mlog\u001b[0m\u001b[1;33m(\u001b[0m\u001b[0mtorch\u001b[0m\u001b[1;33m.\u001b[0m\u001b[0mabs\u001b[0m\u001b[1;33m(\u001b[0m\u001b[0mdet\u001b[0m\u001b[1;33m)\u001b[0m\u001b[1;33m)\u001b[0m\u001b[1;33m\u001b[0m\u001b[0m\n\u001b[1;32m---> 54\u001b[1;33m         \u001b[0mloss\u001b[0m \u001b[1;33m=\u001b[0m \u001b[0mloss_fn\u001b[0m\u001b[1;33m(\u001b[0m\u001b[0moutputs\u001b[0m\u001b[1;33m,\u001b[0m\u001b[0mlog_prob\u001b[0m\u001b[1;33m)\u001b[0m\u001b[1;33m\u001b[0m\u001b[0m\n\u001b[0m\u001b[0;32m     55\u001b[0m \u001b[1;33m\u001b[0m\u001b[0m\n\u001b[0;32m     56\u001b[0m \u001b[1;33m\u001b[0m\u001b[0m\n",
      "\u001b[1;32mC:\\ProgramData\\Anaconda3\\lib\\site-packages\\torch\\nn\\modules\\module.py\u001b[0m in \u001b[0;36m_call_impl\u001b[1;34m(self, *input, **kwargs)\u001b[0m\n\u001b[0;32m   1100\u001b[0m         if not (self._backward_hooks or self._forward_hooks or self._forward_pre_hooks or _global_backward_hooks\n\u001b[0;32m   1101\u001b[0m                 or _global_forward_hooks or _global_forward_pre_hooks):\n\u001b[1;32m-> 1102\u001b[1;33m             \u001b[1;32mreturn\u001b[0m \u001b[0mforward_call\u001b[0m\u001b[1;33m(\u001b[0m\u001b[1;33m*\u001b[0m\u001b[0minput\u001b[0m\u001b[1;33m,\u001b[0m \u001b[1;33m**\u001b[0m\u001b[0mkwargs\u001b[0m\u001b[1;33m)\u001b[0m\u001b[1;33m\u001b[0m\u001b[0m\n\u001b[0m\u001b[0;32m   1103\u001b[0m         \u001b[1;31m# Do not call functions when jit is used\u001b[0m\u001b[1;33m\u001b[0m\u001b[1;33m\u001b[0m\u001b[0m\n\u001b[0;32m   1104\u001b[0m         \u001b[0mfull_backward_hooks\u001b[0m\u001b[1;33m,\u001b[0m \u001b[0mnon_full_backward_hooks\u001b[0m \u001b[1;33m=\u001b[0m \u001b[1;33m[\u001b[0m\u001b[1;33m]\u001b[0m\u001b[1;33m,\u001b[0m \u001b[1;33m[\u001b[0m\u001b[1;33m]\u001b[0m\u001b[1;33m\u001b[0m\u001b[0m\n",
      "\u001b[1;32m~\\Path Integral Monte-Carlo\\Normalizing flow\\LOSS.py\u001b[0m in \u001b[0;36mforward\u001b[1;34m(self, x, log_prob)\u001b[0m\n\u001b[0;32m     11\u001b[0m         \u001b[0mM\u001b[0m\u001b[1;33m=\u001b[0m\u001b[0mlen\u001b[0m\u001b[1;33m(\u001b[0m\u001b[0mx\u001b[0m\u001b[1;33m)\u001b[0m\u001b[1;33m\u001b[0m\u001b[0m\n\u001b[0;32m     12\u001b[0m         \u001b[1;32mfor\u001b[0m \u001b[0mi\u001b[0m \u001b[1;32min\u001b[0m \u001b[0mrange\u001b[0m\u001b[1;33m(\u001b[0m\u001b[0mM\u001b[0m\u001b[1;33m)\u001b[0m\u001b[1;33m:\u001b[0m\u001b[1;33m\u001b[0m\u001b[0m\n\u001b[1;32m---> 13\u001b[1;33m             \u001b[0mloss\u001b[0m\u001b[1;33m+=\u001b[0m\u001b[0mself\u001b[0m\u001b[1;33m.\u001b[0m\u001b[0mS\u001b[0m\u001b[1;33m(\u001b[0m\u001b[0mx\u001b[0m\u001b[1;33m[\u001b[0m\u001b[0mi\u001b[0m\u001b[1;33m]\u001b[0m\u001b[1;33m)\u001b[0m\u001b[1;33m\u001b[0m\u001b[0m\n\u001b[0m\u001b[0;32m     14\u001b[0m         \u001b[0mloss\u001b[0m\u001b[1;33m=\u001b[0m\u001b[0mloss\u001b[0m\u001b[1;33m/\u001b[0m\u001b[0mM\u001b[0m\u001b[1;33m\u001b[0m\u001b[0m\n\u001b[0;32m     15\u001b[0m         \u001b[0mloss\u001b[0m\u001b[1;33m=\u001b[0m\u001b[0mloss\u001b[0m\u001b[1;33m-\u001b[0m\u001b[0mlog_prob\u001b[0m\u001b[1;33m\u001b[0m\u001b[0m\n",
      "\u001b[1;32m~\\Path Integral Monte-Carlo\\Normalizing flow\\Model.py\u001b[0m in \u001b[0;36mS\u001b[1;34m(x)\u001b[0m\n\u001b[0;32m     27\u001b[0m     \u001b[1;32mdef\u001b[0m \u001b[0mget_S\u001b[0m\u001b[1;33m(\u001b[0m\u001b[0mself\u001b[0m\u001b[1;33m)\u001b[0m\u001b[1;33m:\u001b[0m\u001b[1;33m\u001b[0m\u001b[0m\n\u001b[0;32m     28\u001b[0m         \u001b[1;32mdef\u001b[0m \u001b[0mS\u001b[0m\u001b[1;33m(\u001b[0m\u001b[0mx\u001b[0m\u001b[1;33m)\u001b[0m\u001b[1;33m:\u001b[0m\u001b[1;33m\u001b[0m\u001b[0m\n\u001b[1;32m---> 29\u001b[1;33m             \u001b[1;32mreturn\u001b[0m \u001b[0mself\u001b[0m\u001b[1;33m.\u001b[0m\u001b[0mFull_S\u001b[0m\u001b[1;33m(\u001b[0m\u001b[0mx\u001b[0m\u001b[1;33m)\u001b[0m\u001b[1;33m\u001b[0m\u001b[0m\n\u001b[0m\u001b[0;32m     30\u001b[0m         \u001b[1;32mreturn\u001b[0m \u001b[0mS\u001b[0m\u001b[1;33m\u001b[0m\u001b[0m\n\u001b[0;32m     31\u001b[0m \u001b[1;33m\u001b[0m\u001b[0m\n",
      "\u001b[1;32m~\\Path Integral Monte-Carlo\\Normalizing flow\\Model.py\u001b[0m in \u001b[0;36mFull_S\u001b[1;34m(self, x)\u001b[0m\n\u001b[0;32m     21\u001b[0m         \u001b[0mFull_S\u001b[0m\u001b[1;33m=\u001b[0m\u001b[1;36m0\u001b[0m\u001b[1;33m\u001b[0m\u001b[0m\n\u001b[0;32m     22\u001b[0m         \u001b[1;32mfor\u001b[0m \u001b[0mi\u001b[0m \u001b[1;32min\u001b[0m \u001b[0mrange\u001b[0m\u001b[1;33m(\u001b[0m\u001b[0mN_nod\u001b[0m\u001b[1;33m)\u001b[0m\u001b[1;33m:\u001b[0m\u001b[1;33m\u001b[0m\u001b[0m\n\u001b[1;32m---> 23\u001b[1;33m             \u001b[0mFull_S\u001b[0m\u001b[1;33m+=\u001b[0m\u001b[0mself\u001b[0m\u001b[1;33m.\u001b[0m\u001b[0mS\u001b[0m\u001b[1;33m(\u001b[0m\u001b[0mx\u001b[0m\u001b[1;33m[\u001b[0m\u001b[0mi\u001b[0m\u001b[1;33m]\u001b[0m\u001b[1;33m,\u001b[0m\u001b[0mx\u001b[0m\u001b[1;33m[\u001b[0m\u001b[1;33m(\u001b[0m\u001b[0mi\u001b[0m\u001b[1;33m+\u001b[0m\u001b[1;36m1\u001b[0m\u001b[1;33m)\u001b[0m\u001b[1;33m%\u001b[0m\u001b[0mN_nod\u001b[0m\u001b[1;33m]\u001b[0m\u001b[1;33m)\u001b[0m\u001b[1;33m\u001b[0m\u001b[0m\n\u001b[0m\u001b[0;32m     24\u001b[0m         \u001b[1;32mreturn\u001b[0m \u001b[0mFull_S\u001b[0m\u001b[1;33m\u001b[0m\u001b[0m\n\u001b[0;32m     25\u001b[0m \u001b[1;33m\u001b[0m\u001b[0m\n",
      "\u001b[1;32m~\\Path Integral Monte-Carlo\\Normalizing flow\\Model.py\u001b[0m in \u001b[0;36mS\u001b[1;34m(self, currp, nextp)\u001b[0m\n\u001b[0;32m     13\u001b[0m \u001b[1;33m\u001b[0m\u001b[0m\n\u001b[0;32m     14\u001b[0m     \u001b[1;32mdef\u001b[0m \u001b[0mS\u001b[0m\u001b[1;33m(\u001b[0m\u001b[0mself\u001b[0m\u001b[1;33m,\u001b[0m\u001b[0mcurrp\u001b[0m\u001b[1;33m,\u001b[0m\u001b[0mnextp\u001b[0m\u001b[1;33m)\u001b[0m\u001b[1;33m:\u001b[0m\u001b[1;33m\u001b[0m\u001b[0m\n\u001b[1;32m---> 15\u001b[1;33m         \u001b[1;32mreturn\u001b[0m \u001b[0ma\u001b[0m \u001b[1;33m*\u001b[0m \u001b[1;33m(\u001b[0m\u001b[0mself\u001b[0m\u001b[1;33m.\u001b[0m\u001b[0mT\u001b[0m\u001b[1;33m(\u001b[0m\u001b[0mcurrp\u001b[0m\u001b[1;33m,\u001b[0m\u001b[0mnextp\u001b[0m\u001b[1;33m)\u001b[0m \u001b[1;33m+\u001b[0m \u001b[0mself\u001b[0m\u001b[1;33m.\u001b[0m\u001b[0mV\u001b[0m\u001b[1;33m(\u001b[0m\u001b[0mcurrp\u001b[0m\u001b[1;33m)\u001b[0m\u001b[1;33m)\u001b[0m \u001b[1;33m/\u001b[0m \u001b[0mself\u001b[0m\u001b[1;33m.\u001b[0m\u001b[0mhbar\u001b[0m\u001b[1;33m\u001b[0m\u001b[0m\n\u001b[0m\u001b[0;32m     16\u001b[0m \u001b[1;33m\u001b[0m\u001b[0m\n\u001b[0;32m     17\u001b[0m     \u001b[1;32mdef\u001b[0m \u001b[0mdS\u001b[0m\u001b[1;33m(\u001b[0m\u001b[0mself\u001b[0m\u001b[1;33m,\u001b[0m\u001b[0mprevp\u001b[0m\u001b[1;33m,\u001b[0m\u001b[0mcurrp\u001b[0m\u001b[1;33m,\u001b[0m\u001b[0mnextp\u001b[0m\u001b[1;33m,\u001b[0m\u001b[0mnew\u001b[0m\u001b[1;33m)\u001b[0m\u001b[1;33m:\u001b[0m\u001b[1;33m\u001b[0m\u001b[0m\n",
      "\u001b[1;31mKeyboardInterrupt\u001b[0m: "
     ]
    }
   ],
   "source": [
    "import torch\n",
    "from torch import nn\n",
    "import numpy as np\n",
    "import matplotlib.pyplot as plt\n",
    "from constants import N_nod,a, N_traj\n",
    "from andist import A, C\n",
    "from tqdm import tqdm\n",
    "import random\n",
    "from Data import train_loader\n",
    "from LOSS import KL_osc\n",
    "\n",
    "\n",
    "def set_random_seed(seed):\n",
    "    torch.manual_seed(seed)\n",
    "    np.random.seed(seed)\n",
    "    random.seed(seed)\n",
    "\n",
    "set_random_seed(42)\n",
    "\n",
    "A=torch.tensor(A).float()\n",
    "C=torch.tensor(C).float()\n",
    "\n",
    "\n",
    "\n",
    "\n",
    "def w_C(model):\n",
    "    wt=model.weight\n",
    "    w=torch.t(model.weight)\n",
    "    return torch.linalg.matrix_norm(w-C)\n",
    "def A_I(model):\n",
    "    wt=model.weight\n",
    "    w=torch.t(model.weight)\n",
    "    A_D=torch.matmul(wt,torch.matmul(A,w))\n",
    "    I=torch.eye(N_nod)\n",
    "    return torch.linalg.matrix_norm(A_D-I)    \n",
    " \n",
    "    \n",
    "model=nn.Linear(N_nod,N_nod,bias=False)\n",
    "#print(model.weight)\n",
    "optimizer = torch.optim.Adam(model.parameters(), lr=0.001)\n",
    "\n",
    "loss_fn = KL_osc\n",
    "num_epochs=30\n",
    "metric1=[w_C(model)]\n",
    "metric2=[A_I(model)]\n",
    "\n",
    "\n",
    "for epoch in tqdm(range(num_epochs)):\n",
    "    for x in train_loader:\n",
    "        # Forward pass\n",
    "        outputs = model(x)\n",
    "        det=torch.det(model.weight)\n",
    "        log_prob=torch.log(torch.abs(det))\n",
    "        loss = loss_fn(outputs,log_prob)\n",
    "        \n",
    "\n",
    "        # Backward and optimize\n",
    "        optimizer.zero_grad()\n",
    "        loss.backward()\n",
    "        optimizer.step()\n",
    "    metric1.append(w_C(model))\n",
    "    metric2.append(A_I(model))\n",
    "\n",
    "fig=plt.figure()\n",
    "plt.plot(list(range(num_epochs+1)),metric1)\n",
    "plt.grid(True)\n",
    "plt.show()\n",
    "\n",
    "fig=plt.figure()\n",
    "plt.plot(list(range(num_epochs+1)),metric2)\n",
    "plt.grid(True)\n",
    "plt.show()\n"
   ]
  },
  {
   "cell_type": "code",
   "execution_count": 2,
   "metadata": {},
   "outputs": [
    {
     "name": "stdout",
     "output_type": "stream",
     "text": [
      "tensor(4.1289, grad_fn=<CopyBackwards>)\n"
     ]
    }
   ],
   "source": [
    "print(torch.linalg.matrix_norm(A_D-I))"
   ]
  },
  {
   "cell_type": "code",
   "execution_count": 4,
   "metadata": {},
   "outputs": [
    {
     "name": "stdout",
     "output_type": "stream",
     "text": [
      "tensor([[ 0.6269,  0.5066, -2.1181, -1.3762, -0.1641],\n",
      "        [-1.4673, -0.2143,  1.5959, -0.1959,  0.8711],\n",
      "        [-0.8142,  1.5881,  0.5889, -0.2056,  0.6594],\n",
      "        [-0.9880, -3.1961,  1.3557, -0.4746,  0.1106],\n",
      "        [ 1.1299,  0.2695, -0.1797,  0.2063,  0.2828]])\n"
     ]
    }
   ],
   "source": [
    "import torch\n",
    "x=torch.empty((5,5)).normal_(mean=0,std=1)\n",
    "print(x)"
   ]
  },
  {
   "cell_type": "code",
   "execution_count": 31,
   "metadata": {},
   "outputs": [
    {
     "name": "stdout",
     "output_type": "stream",
     "text": [
      "Parameter containing:\n",
      "tensor([[-0.2923,  0.0250, -0.2512],\n",
      "        [ 0.0650,  0.3000, -0.3059],\n",
      "        [-0.3540,  0.3110, -0.2956]], requires_grad=True)\n",
      "tensor(-0.0305, grad_fn=<DetLuBasedHelperBackward0>)\n",
      "tensor([[1.1000, 2.2000, 3.3000],\n",
      "        [1.4000, 2.5000, 3.6000],\n",
      "        [1.3000, 2.3000, 3.3000]])\n"
     ]
    },
    {
     "ename": "TypeError",
     "evalue": "dot() got an unexpected keyword argument 'axis'",
     "output_type": "error",
     "traceback": [
      "\u001b[1;31m---------------------------------------------------------------------------\u001b[0m",
      "\u001b[1;31mTypeError\u001b[0m                                 Traceback (most recent call last)",
      "\u001b[1;32m<ipython-input-31-0b2433a8a091>\u001b[0m in \u001b[0;36m<module>\u001b[1;34m()\u001b[0m\n\u001b[0;32m     10\u001b[0m \u001b[0mprint\u001b[0m\u001b[1;33m(\u001b[0m\u001b[0mx\u001b[0m\u001b[1;33m)\u001b[0m\u001b[1;33m\u001b[0m\u001b[0m\n\u001b[0;32m     11\u001b[0m \u001b[0my\u001b[0m\u001b[1;33m=\u001b[0m\u001b[0mm\u001b[0m\u001b[1;33m(\u001b[0m\u001b[0mx\u001b[0m\u001b[1;33m)\u001b[0m\u001b[1;33m\u001b[0m\u001b[0m\n\u001b[1;32m---> 12\u001b[1;33m \u001b[0mprint\u001b[0m\u001b[1;33m(\u001b[0m\u001b[0mtorch\u001b[0m\u001b[1;33m.\u001b[0m\u001b[0mdot\u001b[0m\u001b[1;33m(\u001b[0m\u001b[0my\u001b[0m\u001b[1;33m,\u001b[0m\u001b[0mx\u001b[0m\u001b[1;33m,\u001b[0m\u001b[0maxis\u001b[0m\u001b[1;33m=\u001b[0m\u001b[1;36m0\u001b[0m\u001b[1;33m)\u001b[0m\u001b[1;33m)\u001b[0m\u001b[1;33m\u001b[0m\u001b[0m\n\u001b[0m\u001b[0;32m     13\u001b[0m \u001b[1;33m\u001b[0m\u001b[0m\n",
      "\u001b[1;31mTypeError\u001b[0m: dot() got an unexpected keyword argument 'axis'"
     ]
    }
   ],
   "source": [
    "import torch\n",
    "from torch import nn\n",
    "\n",
    "m=nn.Linear(3,3,bias=False)\n",
    "W=m.weight\n",
    "print(W)\n",
    "det=torch.det(W)\n",
    "print(det)\n",
    "z = torch.randn(3, 3)\n",
    "print(x)\n",
    "y=m(x)\n",
    "print(torch.dot(y,x))\n",
    "\n"
   ]
  },
  {
   "cell_type": "code",
   "execution_count": 17,
   "metadata": {},
   "outputs": [
    {
     "name": "stdout",
     "output_type": "stream",
     "text": [
      "tensor([[ 0.2469,  0.4728, -0.3868],\n",
      "        [ 0.2693, -0.8485, -1.0047],\n",
      "        [ 0.3464,  0.0428, -0.3292],\n",
      "        [-0.5103, -0.6700, -0.9507],\n",
      "        [-0.8863,  0.2683,  1.6451],\n",
      "        [-1.0197, -0.2413,  0.5959],\n",
      "        [ 0.6121, -2.4313, -0.5840],\n",
      "        [-0.5501,  0.4592, -0.0392],\n",
      "        [-2.0275,  0.5105, -1.3787],\n",
      "        [-1.5137,  0.2372,  0.4769]])\n",
      "torch.Size([10, 3])\n"
     ]
    }
   ],
   "source": [
    "m = nn.Linear(3, 3)\n",
    "input = torch.randn(10, 3)\n",
    "print(input)\n",
    "output = m(input)\n",
    "print(output.size())"
   ]
  },
  {
   "cell_type": "code",
   "execution_count": 2,
   "metadata": {},
   "outputs": [
    {
     "name": "stdout",
     "output_type": "stream",
     "text": [
      "tensor([[ 2.0633,  0.1426,  1.7276,  ..., -1.2586, -0.3507, -1.1229],\n",
      "        [ 0.8302, -0.8798,  0.0640,  ...,  0.5792,  0.1199, -0.6184],\n",
      "        [-0.7187,  0.7230,  0.5051,  ...,  2.2746, -0.3314, -2.0507],\n",
      "        ...,\n",
      "        [ 0.2208,  1.3205,  1.2693,  ..., -0.0271,  0.6390, -1.4495],\n",
      "        [ 1.1972,  0.7524,  0.3565,  ..., -1.8288,  0.8331, -0.5247],\n",
      "        [-0.7469,  2.0256,  0.3498,  ...,  1.4380,  0.1296, -0.0884]])\n"
     ]
    }
   ],
   "source": [
    "from Data import train_loader\n",
    "batch = next(iter(train_loader))\n",
    "print(batch)"
   ]
  },
  {
   "cell_type": "code",
   "execution_count": 1,
   "metadata": {},
   "outputs": [
    {
     "name": "stderr",
     "output_type": "stream",
     "text": [
      "100%|███████████████████████████████████████████████████████████████████████████████| 600/600 [00:02<00:00, 218.37it/s]\n"
     ]
    },
    {
     "data": {
      "image/png": "[encoded data removed]",
      "text/plain": [
       "<matplotlib.figure.Figure at 0x19f807949b0>"
      ]
     },
     "metadata": {},
     "output_type": "display_data"
    },
    {
     "data": {
      "image/png": "[encoded data removed]",
      "text/plain": [
       "<matplotlib.figure.Figure at 0x19f803da668>"
      ]
     },
     "metadata": {},
     "output_type": "display_data"
    },
    {
     "data": {
      "text/plain": [
       "'   \\nwt=model.weight\\nw=torch.t(model.weight)\\n\\nprint(torch.linalg.matrix_norm(w-C))\\nA_D=torch.matmul(wt,torch.matmul(A,w))\\nI=torch.eye(N_nod)\\nprint(torch.linalg.matrix_norm(A_D-I))\\n'"
      ]
     },
     "execution_count": 1,
     "metadata": {},
     "output_type": "execute_result"
    }
   ],
   "source": [
    "import torch\n",
    "from torch import nn\n",
    "import numpy as np\n",
    "import matplotlib.pyplot as plt\n",
    "from constants import N_nod,a, N_traj\n",
    "from andist import A, C\n",
    "from tqdm import tqdm\n",
    "import random\n",
    "from torch.nn.utils.parametrizations import orthogonal\n",
    "\n",
    "\n",
    "\n",
    "def set_random_seed(seed):\n",
    "    torch.manual_seed(seed)\n",
    "    np.random.seed(seed)\n",
    "    random.seed(seed)\n",
    "\n",
    "set_random_seed(42)\n",
    "\n",
    "A=torch.tensor(A).float()\n",
    "C=torch.tensor(C).float()\n",
    "\n",
    "\n",
    "class Action(nn.Module):\n",
    "    def __init__(self,A):\n",
    "        super().__init__()\n",
    "        self.A=A\n",
    "    \n",
    "    def forward(self,x):\n",
    "        y=torch.matmul(self.A,x)\n",
    "        return 1/2 * torch.dot(y,x) \n",
    "\n",
    "\n",
    "class Cheatloss(nn.Module):\n",
    "    def __init__(self):\n",
    "        super(Cheatloss, self).__init__()\n",
    "\n",
    "    def forward(self,act, model):\n",
    "        a=act.A\n",
    "        w=torch.t(model.weight)\n",
    "        wt=torch.t(w)\n",
    "        A_D=torch.matmul(wt,torch.matmul(a,w))\n",
    "        det=torch.det(w)\n",
    "        loss=torch.trace(A_D)-torch.log(torch.abs(det))\n",
    "        return loss\n",
    "\n",
    "def w_C(model):\n",
    "    wt=model.weight\n",
    "    w=torch.t(model.weight)\n",
    "    return torch.linalg.matrix_norm(w-C)\n",
    "def A_I(model):\n",
    "    wt=model.weight\n",
    "    w=torch.t(model.weight)\n",
    "    A_D=torch.matmul(wt,torch.matmul(A,w))\n",
    "    I=torch.eye(N_nod)\n",
    "    return torch.linalg.matrix_norm(A_D-I)\n",
    "    \n",
    "#model=orthogonal(nn.Linear(N_nod,N_nod,bias=False))\n",
    "model=nn.Linear(N_nod,N_nod,bias=False)\n",
    "optimizer = torch.optim.Adam(model.parameters(), lr=0.001)\n",
    "\n",
    "act=Action(A)\n",
    "loss_fn = Cheatloss()\n",
    "num_epochs=600\n",
    "metric1=[w_C(model)]\n",
    "metric2=[A_I(model)]\n",
    "\n",
    "\n",
    "for epoch in tqdm(range(num_epochs)):\n",
    "        # Forward pass\n",
    "    loss = loss_fn(act,model)\n",
    "    \n",
    "        # Backward and optimize\n",
    "    optimizer.zero_grad()\n",
    "    loss.backward()\n",
    "    optimizer.step()\n",
    "    metric1.append(w_C(model))\n",
    "    metric2.append(A_I(model))\n",
    "\n",
    "    \n",
    "fig=plt.figure()\n",
    "plt.plot(list(range(num_epochs+1)),metric1)\n",
    "plt.grid(True)\n",
    "plt.show()\n",
    "\n",
    "fig=plt.figure()\n",
    "plt.plot(list(range(num_epochs+1)),metric2)\n",
    "plt.grid(True)\n",
    "plt.show()\n",
    "    \n",
    "\"\"\"   \n",
    "wt=model.weight\n",
    "w=torch.t(model.weight)\n",
    "\n",
    "print(torch.linalg.matrix_norm(w-C))\n",
    "A_D=torch.matmul(wt,torch.matmul(A,w))\n",
    "I=torch.eye(N_nod)\n",
    "print(torch.linalg.matrix_norm(A_D-I))\n",
    "\"\"\""
   ]
  },
  {
   "cell_type": "code",
   "execution_count": 2,
   "metadata": {},
   "outputs": [
    {
     "name": "stderr",
     "output_type": "stream",
     "text": [
      "100%|██████████████████████████████████████████████████████████████████████████████████| 60/60 [00:24<00:00,  2.49it/s]\n"
     ]
    },
    {
     "data": {
      "image/png": "[encoded data removed]",
      "text/plain": [
       "<matplotlib.figure.Figure at 0x25d51929c50>"
      ]
     },
     "metadata": {},
     "output_type": "display_data"
    },
    {
     "data": {
      "image/png": "[encoded data removed]",
      "text/plain": [
       "<matplotlib.figure.Figure at 0x25d51929c18>"
      ]
     },
     "metadata": {},
     "output_type": "display_data"
    },
    {
     "data": {
      "image/png": "[encoded data removed]",
      "text/plain": [
       "<matplotlib.figure.Figure at 0x25d51dc42e8>"
      ]
     },
     "metadata": {},
     "output_type": "display_data"
    },
    {
     "data": {
      "text/plain": [
       "'\\n#print(hist)\\nprint(torch.linalg.matrix_norm(w-C))\\nA_D=torch.matmul(wt,torch.matmul(A,w))\\nI=torch.eye(N_nod)\\nprint(torch.linalg.matrix_norm(A_D-I))\\nfig=plt.figure()\\nplt.plot(list(range(num_epochs)),hist[::20])\\nplt.show()\\n'"
      ]
     },
     "execution_count": 2,
     "metadata": {},
     "output_type": "execute_result"
    }
   ],
   "source": [
    "import torch\n",
    "from torch import nn\n",
    "import numpy as np\n",
    "import matplotlib.pyplot as plt\n",
    "from constants import N_nod,a, N_traj\n",
    "from andist import A, C\n",
    "from tqdm import tqdm\n",
    "import random\n",
    "from torch.nn.utils.parametrizations import orthogonal\n",
    "\n",
    "\n",
    "\n",
    "def set_random_seed(seed):\n",
    "    torch.manual_seed(seed)\n",
    "    np.random.seed(seed)\n",
    "    random.seed(seed)\n",
    "\n",
    "set_random_seed(42)\n",
    "\n",
    "A=torch.tensor(A).float()\n",
    "C=torch.tensor(C).float()\n",
    "\n",
    "\n",
    "class Action(nn.Module):\n",
    "    def __init__(self,A):\n",
    "        super().__init__()\n",
    "        self.A=A\n",
    "    \n",
    "    def forward(self,x):\n",
    "        y=torch.matmul(self.A,x)\n",
    "        return 1/2 * torch.dot(y,x) \n",
    "\n",
    "\n",
    "class Cheatloss(nn.Module):\n",
    "    def __init__(self):\n",
    "        super(Cheatloss, self).__init__()\n",
    "\n",
    "    def forward(self,act, model):\n",
    "        a=act.A\n",
    "        w=torch.t(model.weight)\n",
    "        wt=torch.t(w)\n",
    "        A_D=torch.matmul(wt,torch.matmul(a,w))\n",
    "        det=torch.det(w)\n",
    "        loss=torch.trace(A_D)-torch.log(torch.abs(det))\n",
    "        return loss    \n",
    "    \n",
    "    \n",
    "def w_C(model):\n",
    "    wt=model.weight\n",
    "    w=torch.t(model.weight)\n",
    "    return torch.linalg.matrix_norm(w-C)\n",
    "def A_I(model):\n",
    "    wt=model.weight\n",
    "    w=torch.t(model.weight)\n",
    "    A_D=torch.matmul(wt,torch.matmul(A,w))\n",
    "    I=torch.eye(N_nod)\n",
    "    return torch.linalg.matrix_norm(A_D-I)        \n",
    "    \n",
    "#model=orthogonal(nn.Linear(N_nod,N_nod,bias=False))\n",
    "model=nn.Linear(N_nod,N_nod,bias=False)\n",
    "optimizer = torch.optim.LBFGS(model.parameters(), lr=0.001)\n",
    "\n",
    "act=Action(A)\n",
    "loss_fn = Cheatloss()\n",
    "num_epochs=60\n",
    "metric1=[w_C(model)]\n",
    "metric2=[A_I(model)]\n",
    "\n",
    "def closure():\n",
    "    loss = loss_fn(act,model)\n",
    "    #hist.append(loss)\n",
    "    optimizer.zero_grad()\n",
    "    loss.backward()\n",
    "    #print(epoch,loss,\"\\n\")\n",
    "    metric1.append(w_C(model))\n",
    "    metric2.append(A_I(model))\n",
    "    return loss\n",
    "    \n",
    "\n",
    "\n",
    "\n",
    "for epoch in tqdm(range(num_epochs)):\n",
    "    optimizer.step(closure)\n",
    "    \n",
    "\n",
    "fig=plt.figure()\n",
    "plt.plot(list(range(num_epochs+1)),metric1[::20])\n",
    "plt.grid(True)\n",
    "plt.show()\n",
    "\n",
    "fig=plt.figure()\n",
    "plt.plot(list(range(num_epochs+1)),metric2[::20])\n",
    "plt.grid(True)\n",
    "plt.show()\n",
    "    \n",
    "\"\"\"\n",
    "#print(hist)\n",
    "print(torch.linalg.matrix_norm(w-C))\n",
    "A_D=torch.matmul(wt,torch.matmul(A,w))\n",
    "I=torch.eye(N_nod)\n",
    "print(torch.linalg.matrix_norm(A_D-I))\n",
    "fig=plt.figure()\n",
    "plt.plot(list(range(num_epochs)),hist[::20])\n",
    "plt.show()\n",
    "\"\"\""
   ]
  },
  {
   "cell_type": "code",
   "execution_count": null,
   "metadata": {
    "collapsed": true
   },
   "outputs": [],
   "source": []
  }
 ],
 "metadata": {
  "kernelspec": {
   "display_name": "Python 3",
   "language": "python",
   "name": "python3"
  },
  "language_info": {
   "codemirror_mode": {
    "name": "ipython",
    "version": 3
   },
   "file_extension": ".py",
   "mimetype": "text/x-python",
   "name": "python",
   "nbconvert_exporter": "python",
   "pygments_lexer": "ipython3",
   "version": "3.6.2"
  }
 },
 "nbformat": 4,
 "nbformat_minor": 2
}
