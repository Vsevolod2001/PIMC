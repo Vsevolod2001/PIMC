{
 "cells": [
  {
   "cell_type": "code",
   "execution_count": 4,
   "id": "dbee9da4",
   "metadata": {
    "execution": {
     "iopub.execute_input": "2024-02-26T17:21:26.272583Z",
     "iopub.status.busy": "2024-02-26T17:21:26.271801Z",
     "iopub.status.idle": "2024-02-26T17:21:26.285391Z",
     "shell.execute_reply": "2024-02-26T17:21:26.284633Z",
     "shell.execute_reply.started": "2024-02-26T17:21:26.272539Z"
    },
    "tags": []
   },
   "outputs": [],
   "source": [
    "from typing import Callable, List, Tuple\n",
    "\n",
    "import pytorch_lightning as pl\n",
    "import torch\n",
    "import torch.nn.functional as F\n",
    "from torch import nn\n",
    "from torch.distributions.distribution import Distribution\n",
    "from pytorch_lightning.loggers import TensorBoardLogger\n",
    "device = torch.device(\"cuda\" if torch.cuda.is_available() else \"cpu\")"
   ]
  },
  {
   "cell_type": "code",
   "execution_count": 5,
   "id": "c93eb4f7",
   "metadata": {
    "execution": {
     "iopub.execute_input": "2024-02-26T17:21:27.176269Z",
     "iopub.status.busy": "2024-02-26T17:21:27.175362Z",
     "iopub.status.idle": "2024-02-26T17:21:27.193962Z",
     "shell.execute_reply": "2024-02-26T17:21:27.193081Z",
     "shell.execute_reply.started": "2024-02-26T17:21:27.176225Z"
    },
    "tags": []
   },
   "outputs": [
    {
     "name": "stdout",
     "output_type": "stream",
     "text": [
      "False\n"
     ]
    }
   ],
   "source": [
    "from NFconstants import N_nod, beta\n",
    "from NFandist import get_O\n",
    "from NFandist import get_diag\n",
    "\n",
    "def set_random_seed(seed):\n",
    "    torch.manual_seed(seed)\n",
    "O=(torch.tensor(get_O(N_nod)).float()).to(device)\n",
    "Ot=(torch.t(O)).to(device)\n",
    "print(Ot.requires_grad)\n",
    "\n",
    "\n"
   ]
  },
  {
   "cell_type": "code",
   "execution_count": 6,
   "id": "b66bc606",
   "metadata": {
    "execution": {
     "iopub.execute_input": "2024-02-26T17:21:28.165583Z",
     "iopub.status.busy": "2024-02-26T17:21:28.164691Z",
     "iopub.status.idle": "2024-02-26T17:21:28.186588Z",
     "shell.execute_reply": "2024-02-26T17:21:28.185820Z",
     "shell.execute_reply.started": "2024-02-26T17:21:28.165539Z"
    },
    "tags": []
   },
   "outputs": [],
   "source": [
    "class AffineCouplingLayer(nn.Module):\n",
    "    def __init__(\n",
    "        self,\n",
    "        theta: nn.Module,\n",
    "        split: Callable[[torch.Tensor], Tuple[torch.Tensor, torch.Tensor]],\n",
    "        swap: int\n",
    "    ):\n",
    "        super().__init__()\n",
    "        self.theta = theta\n",
    "        self.split = split\n",
    "        self.swap=swap\n",
    "\n",
    "    def g(self, z: torch.Tensor) -> torch.Tensor:\n",
    "        \"\"\"g : z -> x. The inverse of f.\"\"\"\n",
    "        z1, z2 = self.split(z,self.swap)\n",
    "        t, s = self.theta(z1)\n",
    "        x1, x2 = z1, (z2 - t) * torch.exp(-s)\n",
    "        log_det = -s.sum(-1) \n",
    "        return torch.cat((x2, x1), dim=-1), log_det\n",
    "    \n",
    "    def f(self, x: torch.Tensor) -> torch.Tensor:\n",
    "        \"\"\"f : x -> z. The inverse of g.\"\"\"\n",
    "        x2, x1 = self.split(x,self.swap)\n",
    "        t, s = self.theta(x1)\n",
    "        z1, z2 = x1, x2 * torch.exp(s) + t \n",
    "        log_det = s.sum(-1) \n",
    "        return torch.cat((z1, z2), dim=-1), log_det"
   ]
  },
  {
   "cell_type": "code",
   "execution_count": 7,
   "id": "f17f095c",
   "metadata": {
    "execution": {
     "iopub.execute_input": "2024-02-26T17:21:29.357254Z",
     "iopub.status.busy": "2024-02-26T17:21:29.356322Z",
     "iopub.status.idle": "2024-02-26T17:21:29.376754Z",
     "shell.execute_reply": "2024-02-26T17:21:29.375998Z",
     "shell.execute_reply.started": "2024-02-26T17:21:29.357193Z"
    },
    "tags": []
   },
   "outputs": [
    {
     "data": {
      "text/plain": [
       "'\\n    def g_steps(self, z: torch.Tensor) -> List[torch.Tensor]:\\n        Maps latent variable z to observation x\\n        and stores intermediate results.\\n        \\n        xs = [z]\\n        for flow in reversed(self.flows):\\n            xs.append(flow.g(xs[-1]))\\n        return xs\\n\\n    \\n    def latent_log_prob(self, z: torch.Tensor) -> torch.Tensor:\\n        llp=self.latent.log_prob(z)\\n        sum_llp= torch.sum(llp,axis=-1)\\n        return sum_llp\\n \\n    \\n    def f(self, x: torch.Tensor) -> Tuple[torch.Tensor, torch.Tensor]:  #forward\\n        Maps observation x to latent variable z.\\n        Additionally, computes the log determinant\\n        of the Jacobian for this transformation.\\n        Inveres of g.\\n        \\n        z, sum_log_abs_det = x, torch.ones(x.size(0)).to(x.device)\\n        for flow in self.flows:\\n            z, log_abs_det = flow.f(z)\\n            sum_log_abs_det += log_abs_det\\n\\n        return z, sum_log_abs_det\\n'"
      ]
     },
     "execution_count": 7,
     "metadata": {},
     "output_type": "execute_result"
    }
   ],
   "source": [
    "class NormalizingFlow(nn.Module):\n",
    "    \n",
    "    def __init__(self, latent: Distribution, flows: List[nn.Module], ort=False):\n",
    "        super().__init__()\n",
    "        self.latent = latent\n",
    "        self.flows = flows\n",
    "        self.ort=ort\n",
    "\n",
    "        \n",
    "    def latent_sample(self, num_samples: int = 1) -> torch.Tensor:\n",
    "        z=self.latent.sample((num_samples,))\n",
    "        return z        \n",
    "\n",
    "    def sample(self, num_samples: int = 1) -> torch.Tensor:\n",
    "        \"\"\"Sample a new observation x by sampling z from\n",
    "        the latent distribution and pass through g.\"\"\"\n",
    "        z=(self.latent_sample(num_samples))\n",
    "        with torch.no_grad():\n",
    "            x, _ = self.g(z)\n",
    "        return x \n",
    "    \n",
    "\n",
    "    def g(self, z: torch.Tensor) -> torch.Tensor:\n",
    "        x, sum_log_abs_det = z, torch.ones(z.size(0)).to(z.device)\n",
    "        for flow in reversed(self.flows):\n",
    "            x, log_abs_det = flow.g(x)\n",
    "            sum_log_abs_det += log_abs_det\n",
    "        \n",
    "        if self.ort:\n",
    "            x=torch.matmul(x,Ot.to(x.device))\n",
    "        return x, sum_log_abs_det\n",
    "    \n",
    "        \n",
    "    def __len__(self) -> int:\n",
    "        return len(self.flows)\n",
    "    \n",
    " \n",
    "\"\"\"\n",
    "    def g_steps(self, z: torch.Tensor) -> List[torch.Tensor]:\n",
    "        Maps latent variable z to observation x\n",
    "        and stores intermediate results.\n",
    "        \n",
    "        xs = [z]\n",
    "        for flow in reversed(self.flows):\n",
    "            xs.append(flow.g(xs[-1]))\n",
    "        return xs\n",
    "\n",
    "    \n",
    "    def latent_log_prob(self, z: torch.Tensor) -> torch.Tensor:\n",
    "        llp=self.latent.log_prob(z)\n",
    "        sum_llp= torch.sum(llp,axis=-1)\n",
    "        return sum_llp\n",
    " \n",
    "    \n",
    "    def f(self, x: torch.Tensor) -> Tuple[torch.Tensor, torch.Tensor]:  #forward\n",
    "        Maps observation x to latent variable z.\n",
    "        Additionally, computes the log determinant\n",
    "        of the Jacobian for this transformation.\n",
    "        Inveres of g.\n",
    "        \n",
    "        z, sum_log_abs_det = x, torch.ones(x.size(0)).to(x.device)\n",
    "        for flow in self.flows:\n",
    "            z, log_abs_det = flow.f(z)\n",
    "            sum_log_abs_det += log_abs_det\n",
    "\n",
    "        return z, sum_log_abs_det\n",
    "\"\"\"\n",
    "    "
   ]
  },
  {
   "cell_type": "code",
   "execution_count": 8,
   "id": "8b1ec3b4",
   "metadata": {
    "execution": {
     "iopub.execute_input": "2024-02-26T17:21:30.428386Z",
     "iopub.status.busy": "2024-02-26T17:21:30.427254Z",
     "iopub.status.idle": "2024-02-26T17:21:30.449211Z",
     "shell.execute_reply": "2024-02-26T17:21:30.448479Z",
     "shell.execute_reply.started": "2024-02-26T17:21:30.428335Z"
    },
    "tags": []
   },
   "outputs": [],
   "source": [
    "class ThetaNetwork(nn.Module):\n",
    "    def __init__(\n",
    "        self,\n",
    "        in_dim: int,\n",
    "        out_dim: int,\n",
    "        num_hidden: int,\n",
    "        hidden_dim: int,\n",
    "        num_params: int,\n",
    "        p_drop: float,\n",
    "    ):\n",
    "        super().__init__()\n",
    "        self.input = nn.Linear(in_dim, hidden_dim)\n",
    "        self.hidden = nn.ModuleList(\n",
    "            [nn.Sequential(\n",
    "                nn.Linear(hidden_dim, hidden_dim),\n",
    "                nn.Dropout(p=p_drop),\n",
    "                nn.LayerNorm(hidden_dim)\n",
    "            ) for _ in range(num_hidden)]\n",
    "        )\n",
    "\n",
    "        self.num_params = num_params\n",
    "        self.out_dim = out_dim\n",
    "        self.dims = nn.Linear(hidden_dim, out_dim * num_params)\n",
    "\n",
    "    def forward(self, x: torch.Tensor) -> torch.Tensor:\n",
    "        x = F.leaky_relu(self.input(x))\n",
    "        for h in self.hidden:\n",
    "            x = F.leaky_relu(h(x))\n",
    "\n",
    "        batch_params = self.dims(x).reshape(x.size(0), self.out_dim, -1) \n",
    "        params = batch_params.chunk(self.num_params, dim=-1) \n",
    "        return [p.squeeze(-1) for p in params]\n",
    "    "
   ]
  },
  {
   "cell_type": "code",
   "execution_count": 9,
   "id": "dc7f0bed",
   "metadata": {
    "execution": {
     "iopub.execute_input": "2024-02-26T17:21:31.421268Z",
     "iopub.status.busy": "2024-02-26T17:21:31.420326Z",
     "iopub.status.idle": "2024-02-26T17:21:31.444214Z",
     "shell.execute_reply": "2024-02-26T17:21:31.443450Z",
     "shell.execute_reply.started": "2024-02-26T17:21:31.421219Z"
    },
    "tags": []
   },
   "outputs": [],
   "source": [
    "def SplitFunc(x: torch.Tensor,swap: int) -> Tuple[torch.Tensor, torch.Tensor]:\n",
    "    if swap==0:\n",
    "        return x[:,::2], x[:,1::2]\n",
    "    else: \n",
    "        return x[:,1::2], x[:,::2] "
   ]
  },
  {
   "cell_type": "code",
   "execution_count": 10,
   "id": "7f71825a-6aed-44d3-8d61-b49b3c9cff11",
   "metadata": {
    "execution": {
     "iopub.execute_input": "2024-02-26T17:21:32.495725Z",
     "iopub.status.busy": "2024-02-26T17:21:32.494862Z",
     "iopub.status.idle": "2024-02-26T17:21:32.569173Z",
     "shell.execute_reply": "2024-02-26T17:21:32.568490Z",
     "shell.execute_reply.started": "2024-02-26T17:21:32.495662Z"
    },
    "tags": []
   },
   "outputs": [],
   "source": [
    "I=torch.arange(N_nod)\n",
    "i0=I[::4]\n",
    "i1=I[1::4]\n",
    "i2=I[2::4]\n",
    "i3=I[3::4]\n",
    "mask1=torch.cat((i0,i1))\n",
    "mask2=torch.cat((i2,i3))\n",
    "\n",
    "def pair_SplitFunc(x: torch.Tensor,swap: int) -> Tuple[torch.Tensor, torch.Tensor]:\n",
    "    if swap==0:\n",
    "        return x[:,mask1], x[:,mask2]\n",
    "    else: \n",
    "        return x[:,mask2], x[:,mask1] "
   ]
  },
  {
   "cell_type": "code",
   "execution_count": 11,
   "id": "9586f025",
   "metadata": {
    "execution": {
     "iopub.execute_input": "2024-02-26T17:21:33.761843Z",
     "iopub.status.busy": "2024-02-26T17:21:33.760914Z",
     "iopub.status.idle": "2024-02-26T17:21:34.536457Z",
     "shell.execute_reply": "2024-02-26T17:21:34.535476Z",
     "shell.execute_reply.started": "2024-02-26T17:21:33.761798Z"
    },
    "tags": []
   },
   "outputs": [
    {
     "name": "stdout",
     "output_type": "stream",
     "text": [
      "start\n",
      "Normal(loc: torch.Size([32]), scale: torch.Size([32]))\n"
     ]
    }
   ],
   "source": [
    "print(\"start\")\n",
    "from Data import normal_dist\n",
    "\n",
    "def configure_theta():\n",
    "    theta=ThetaNetwork(\n",
    "                in_dim = N_nod//2,\n",
    "                out_dim = N_nod//2,\n",
    "                num_hidden = 12,  #2 to 6\n",
    "                hidden_dim =10*N_nod , #100-1024\n",
    "                num_params = 2,\n",
    "                p_drop=0.0,\n",
    "    )\n",
    "    return theta\n",
    "\n",
    "def configure_flows(n_flows):  # n_flows=8,...,12\n",
    "    flows=[]\n",
    "    for i in range(n_flows):\n",
    "        flows.append(AffineCouplingLayer(configure_theta(),split=pair_SplitFunc,swap=i%2))\n",
    "    flows = nn.ModuleList(flows)\n",
    "    return flows \n",
    "\n",
    "print(normal_dist)\n",
    "\n",
    "                  "
   ]
  },
  {
   "cell_type": "code",
   "execution_count": 12,
   "id": "5401fb59",
   "metadata": {
    "execution": {
     "iopub.execute_input": "2024-02-26T17:21:35.747091Z",
     "iopub.status.busy": "2024-02-26T17:21:35.746363Z",
     "iopub.status.idle": "2024-02-26T17:21:35.760794Z",
     "shell.execute_reply": "2024-02-26T17:21:35.759941Z",
     "shell.execute_reply.started": "2024-02-26T17:21:35.747047Z"
    },
    "tags": []
   },
   "outputs": [],
   "source": [
    "class Pipeline(pl.LightningModule):\n",
    "    def __init__(\n",
    "        self,\n",
    "        model,\n",
    "        criterion,\n",
    "        optimizer_class=torch.optim.Adam,\n",
    "        optimizer_kwargs={\"lr\": 0.001,\"weight_decay\": 0}\n",
    "    ) -> None:\n",
    "        super().__init__()\n",
    "        self.model = model\n",
    "        self.loss = criterion\n",
    "        self.optimizer_class = optimizer_class\n",
    "        self.optimizer_kwargs = optimizer_kwargs\n",
    "\n",
    "\n",
    "    def configure_optimizers(self):\n",
    "        optimizer = self.optimizer_class(\n",
    "            self.model.parameters(), **self.optimizer_kwargs\n",
    "        )\n",
    "        return optimizer\n",
    "\n",
    "    def training_step(self, batch, batch_idx):\n",
    "        z = batch\n",
    "        x, log_abs_det = self.model.g(z)\n",
    "        loss = self.loss(x,log_abs_det)\n",
    "        self.log('train_loss', loss, prog_bar=True)\n",
    "        return loss\n",
    "\n",
    "\n",
    "    def on_train_epoch_end(self):\n",
    "        #print(\"---------------------------end epoch---------------------------------\")\n",
    "        pass\n",
    "    \n",
    "    def on_validation_end(self) -> None:\n",
    "        if not self.automatic_optimization:\n",
    "            # Save a checkpoint of the model\n",
    "            ckpt_path = os.path.join(self.trainer.log_dir, 'checkpoints', 'ckpt.pt')\n",
    "            self.trainer.save_checkpoint(ckpt_path, weights_only=True)\n",
    "        return super().on_validation_end()\n",
    "    \n",
    "    "
   ]
  },
  {
   "cell_type": "code",
   "execution_count": null,
   "id": "558e4bef",
   "metadata": {
    "execution": {
     "iopub.execute_input": "2024-02-26T17:44:49.845361Z",
     "iopub.status.busy": "2024-02-26T17:44:49.844671Z"
    },
    "tags": []
   },
   "outputs": [
    {
     "name": "stderr",
     "output_type": "stream",
     "text": [
      "GPU available: True (cuda), used: True\n",
      "TPU available: False, using: 0 TPU cores\n",
      "IPU available: False, using: 0 IPUs\n",
      "HPU available: False, using: 0 HPUs\n",
      "LOCAL_RANK: 0 - CUDA_VISIBLE_DEVICES: [0]\n",
      "\n",
      "  | Name  | Type            | Params\n",
      "------------------------------------------\n",
      "0 | model | NormalizingFlow | 40.2 M\n",
      "1 | loss  | KL_with_S       | 0     \n",
      "------------------------------------------\n",
      "40.2 M    Trainable params\n",
      "0         Non-trainable params\n",
      "40.2 M    Total params\n",
      "160.772   Total estimated model params size (MB)\n"
     ]
    },
    {
     "data": {
      "application/vnd.jupyter.widget-view+json": {
       "model_id": "40a3634d06664520a77123e3affb7033",
       "version_major": 2,
       "version_minor": 0
      },
      "text/plain": [
       "Training: |          | 0/? [00:00<?, ?it/s]"
      ]
     },
     "metadata": {},
     "output_type": "display_data"
    }
   ],
   "source": [
    "from LOSS import KL_osc\n",
    "from LOSS import KL_1rel\n",
    "from LOSS import KL_ur\n",
    "from Data import train_loader\n",
    "\n",
    "set_random_seed(42)\n",
    "\n",
    "nf=NormalizingFlow(latent=normal_dist,flows=configure_flows(32),ort=True)\n",
    "pipeline=Pipeline(model=nf, criterion=KL_ur, optimizer_class=torch.optim.Adam, optimizer_kwargs={\"lr\": 0.001})\n",
    "\n",
    "trainer = pl.Trainer(\n",
    "    max_epochs=20,\n",
    "    logger=TensorBoardLogger(save_dir=f\"logs/nf\"),\n",
    "    num_sanity_val_steps=0,\n",
    "    log_every_n_steps=1,\n",
    "    accumulate_grad_batches=64\n",
    ")\n",
    "\n",
    "trainer.fit(model=pipeline, train_dataloaders=train_loader)\n",
    "torch.save(nf.state_dict(), \"model_weights1.pth\")"
   ]
  },
  {
   "cell_type": "code",
   "execution_count": 53,
   "id": "bf52257c",
   "metadata": {
    "execution": {
     "iopub.execute_input": "2024-02-24T21:30:28.460761Z",
     "iopub.status.busy": "2024-02-24T21:30:28.460276Z",
     "iopub.status.idle": "2024-02-24T21:59:44.899613Z",
     "shell.execute_reply": "2024-02-24T21:59:44.898075Z",
     "shell.execute_reply.started": "2024-02-24T21:30:28.460721Z"
    },
    "tags": []
   },
   "outputs": [
    {
     "name": "stderr",
     "output_type": "stream",
     "text": [
      "GPU available: True (cuda), used: True\n",
      "TPU available: False, using: 0 TPU cores\n",
      "IPU available: False, using: 0 IPUs\n",
      "HPU available: False, using: 0 HPUs\n",
      "LOCAL_RANK: 0 - CUDA_VISIBLE_DEVICES: [0]\n",
      "\n",
      "  | Name  | Type            | Params\n",
      "------------------------------------------\n",
      "0 | model | NormalizingFlow | 30.1 M\n",
      "1 | loss  | KL_with_S       | 0     \n",
      "------------------------------------------\n",
      "30.1 M    Trainable params\n",
      "0         Non-trainable params\n",
      "30.1 M    Total params\n",
      "120.579   Total estimated model params size (MB)\n"
     ]
    },
    {
     "data": {
      "application/vnd.jupyter.widget-view+json": {
       "model_id": "905e90fa7bf5495997815431c2bf7c73",
       "version_major": 2,
       "version_minor": 0
      },
      "text/plain": [
       "Training: |          | 0/? [00:00<?, ?it/s]"
      ]
     },
     "metadata": {},
     "output_type": "display_data"
    },
    {
     "name": "stderr",
     "output_type": "stream",
     "text": [
      "`Trainer.fit` stopped: `max_epochs=10` reached.\n"
     ]
    }
   ],
   "source": [
    "from LOSS import KL_ur\n",
    "from Data import train_loader\n",
    "nf=NormalizingFlow(latent=normal_dist,flows=configure_flows(24),ort=True)\n",
    "nf.load_state_dict(torch.load('model_weights1.pth'))\n",
    "pipeline=Pipeline(model=nf,criterion=KL_ur,optimizer_class=torch.optim.Adam,optimizer_kwargs={\"lr\": 0.00001})\n",
    "\n",
    "trainer = pl.Trainer(\n",
    "    max_epochs=10,\n",
    "    logger=TensorBoardLogger(save_dir=f\"logs/nf\"),\n",
    "    num_sanity_val_steps=0,\n",
    "    log_every_n_steps=10,\n",
    "    enable_checkpointing=False,\n",
    "    accumulate_grad_batches=32\n",
    ")\n",
    "\n",
    "trainer.fit(model=pipeline, train_dataloaders=train_loader)\n",
    "torch.save(nf.state_dict(), \"model_weights3.pth\")"
   ]
  },
  {
   "cell_type": "code",
   "execution_count": 14,
   "id": "a808807a",
   "metadata": {
    "execution": {
     "iopub.execute_input": "2024-02-26T17:43:55.721262Z",
     "iopub.status.busy": "2024-02-26T17:43:55.720446Z",
     "iopub.status.idle": "2024-02-26T17:43:56.992578Z",
     "shell.execute_reply": "2024-02-26T17:43:56.991830Z",
     "shell.execute_reply.started": "2024-02-26T17:43:55.721211Z"
    },
    "tags": []
   },
   "outputs": [
    {
     "name": "stdout",
     "output_type": "stream",
     "text": [
      "True\n"
     ]
    }
   ],
   "source": [
    "from Data import normal_dist\n",
    "import numpy as np\n",
    "from NFconstants import N_traj\n",
    "NF_trained=NormalizingFlow(latent=normal_dist,flows=configure_flows(32),ort=True)\n",
    "NF_trained.load_state_dict(torch.load('model_weights1.pth'))\n",
    "NF_trained.eval()\n",
    "print(NF_trained.ort)\n",
    "trajs=NF_trained.sample(N_traj)\n",
    "#trajs=trajs.numpy()\n",
    "#np.savetxt(\"nf_ensemble.txt\",trajs,delimiter=\",\")"
   ]
  },
  {
   "cell_type": "code",
   "execution_count": 15,
   "id": "fe644a5e-8e4a-4536-bec1-78a391b60f97",
   "metadata": {
    "execution": {
     "iopub.execute_input": "2024-02-26T17:43:56.994815Z",
     "iopub.status.busy": "2024-02-26T17:43:56.993786Z",
     "iopub.status.idle": "2024-02-26T17:43:57.028619Z",
     "shell.execute_reply": "2024-02-26T17:43:57.027832Z",
     "shell.execute_reply.started": "2024-02-26T17:43:56.994778Z"
    },
    "tags": []
   },
   "outputs": [],
   "source": [
    "from NFandist import get_T\n",
    "T=torch.tensor(get_T(N_nod)).float()\n",
    "def G(X,n_p=N_nod):\n",
    "    G=np.zeros((n_p))\n",
    "    Y=X.clone()\n",
    "    Xt=torch.t(X)\n",
    "    for s in range(n_p):\n",
    "        G[s]=torch.trace(torch.matmul(Y,Xt))\n",
    "        Y=torch.matmul(Y,T)\n",
    "    return G/(N_traj*N_nod)\n",
    "g_nf=G(trajs)"
   ]
  },
  {
   "cell_type": "code",
   "execution_count": 18,
   "id": "dfd21f71-aa9f-47e5-b343-d862dffb5100",
   "metadata": {
    "execution": {
     "iopub.execute_input": "2024-02-10T23:19:37.890549Z",
     "iopub.status.busy": "2024-02-10T23:19:37.889616Z",
     "iopub.status.idle": "2024-02-10T23:19:37.903942Z",
     "shell.execute_reply": "2024-02-10T23:19:37.902962Z",
     "shell.execute_reply.started": "2024-02-10T23:19:37.890513Z"
    },
    "tags": []
   },
   "outputs": [],
   "source": [
    "\n",
    "g = [0.555858, 0.497988, 0.446597, 0.401115, 0.360415, 0.324316, 0.29138, 0.261791, 0.235658, 0.211969, 0.190536, 0.171994, 0.155133, 0.140335, 0.126598, 0.114471, 0.103514, 0.0941716, 0.0852865, 0.0767528, 0.0691313, 0.0619047, 0.0550745, 0.0490998, 0.0443236, 0.0396256, 0.0358628, 0.0324961, 0.0302019, 0.0276177, 0.0251373, 0.0226234, 0.0203086, 0.0179717, 0.0164385, 0.0152739, 0.0143051, 0.0136778, 0.0127566, 0.0118486, 0.0111658, 0.0111462, 0.011026, 0.0110081, 0.0109681, 0.0106729, 0.0101027, 0.010377, 0.010866, 0.0114044, 0.0119873, 0.0114044, 0.010866, 0.010377, 0.0101027, 0.0106729, 0.0109681, 0.0110081, 0.011026, 0.0111462, 0.0111658, 0.0118486, 0.0127566, 0.0136778, 0.0143051, 0.0152739, 0.0164385, 0.0179717, 0.0203086, 0.0226234, 0.0251373, 0.0276177, 0.0302019, 0.0324961, 0.0358628, 0.0396256, 0.0443236, 0.0490998, 0.0550745, 0.0619047, 0.0691313, 0.0767528, 0.0852865, 0.0941716, 0.103514, 0.114471, 0.126598, 0.140335, 0.155133, 0.171994, 0.190536, 0.211969, 0.235658, 0.261791, 0.29138, 0.324316, 0.360415, 0.401115, 0.446597, 0.497988, 0.555858]\n",
    "\n",
    "\n"
   ]
  },
  {
   "cell_type": "code",
   "execution_count": 16,
   "id": "d40ea38c-5c07-4349-9872-6f8026d990d1",
   "metadata": {
    "execution": {
     "iopub.execute_input": "2024-02-26T17:43:58.218286Z",
     "iopub.status.busy": "2024-02-26T17:43:58.217499Z",
     "iopub.status.idle": "2024-02-26T17:43:58.231347Z",
     "shell.execute_reply": "2024-02-26T17:43:58.230551Z",
     "shell.execute_reply.started": "2024-02-26T17:43:58.218240Z"
    },
    "tags": []
   },
   "outputs": [],
   "source": [
    "g = [0.476546, 0.148654, 0.060357, 0.0232596, -0.00447499, -0.00224423, -0.00447499, 0.0232596, 0.060357, 0.148654, 0.476546]"
   ]
  },
  {
   "cell_type": "code",
   "execution_count": 38,
   "id": "761d4f40-3376-4f0e-9177-6ff5ff928fa4",
   "metadata": {
    "execution": {
     "iopub.execute_input": "2024-02-15T23:22:09.444907Z",
     "iopub.status.busy": "2024-02-15T23:22:09.441761Z",
     "iopub.status.idle": "2024-02-15T23:22:09.456020Z",
     "shell.execute_reply": "2024-02-15T23:22:09.455366Z",
     "shell.execute_reply.started": "2024-02-15T23:22:09.444871Z"
    },
    "tags": []
   },
   "outputs": [],
   "source": [
    "g_rel = [0.389004, 0.174591, 0.0750764, 0.0320855, 0.0235634, 0.0204869, 0.0235634, 0.0320855, 0.0750764, 0.174591, 0.389004]"
   ]
  },
  {
   "cell_type": "code",
   "execution_count": 18,
   "id": "93da659e-23a1-4fdf-8dd8-13329188bb4a",
   "metadata": {
    "execution": {
     "iopub.execute_input": "2024-02-11T17:58:54.231943Z",
     "iopub.status.busy": "2024-02-11T17:58:54.230952Z",
     "iopub.status.idle": "2024-02-11T17:58:54.245097Z",
     "shell.execute_reply": "2024-02-11T17:58:54.243765Z",
     "shell.execute_reply.started": "2024-02-11T17:58:54.231883Z"
    },
    "tags": []
   },
   "outputs": [],
   "source": [
    "corr_abs = [5.57554, 4.28447, 3.3921, 2.84037, 2.53217, 2.44156, 2.53217, 2.84037, 3.3921, 4.28447]"
   ]
  },
  {
   "cell_type": "code",
   "execution_count": 17,
   "id": "34a5ead7-10a1-445f-abbd-4f8c2478ccd1",
   "metadata": {
    "execution": {
     "iopub.execute_input": "2024-02-26T17:43:59.824582Z",
     "iopub.status.busy": "2024-02-26T17:43:59.824056Z",
     "iopub.status.idle": "2024-02-26T17:44:00.184204Z",
     "shell.execute_reply": "2024-02-26T17:44:00.183450Z",
     "shell.execute_reply.started": "2024-02-26T17:43:59.824542Z"
    },
    "tags": []
   },
   "outputs": [
    {
     "name": "stdout",
     "output_type": "stream",
     "text": [
      "10\n"
     ]
    },
    {
     "data": {
      "image/png": "[encoded data removed]",
      "text/plain": [
       "<Figure size 432x288 with 1 Axes>"
      ]
     },
     "metadata": {
      "needs_background": "light"
     },
     "output_type": "display_data"
    }
   ],
   "source": [
    "#import sys\n",
    "#sys.path.append('../')\n",
    "import numpy as np\n",
    "import matplotlib.pyplot as plt\n",
    "from NFconstants import N_nod, N_traj, NG_points,beta\n",
    "#from Value import G\n",
    "#import ensemble\n",
    "#from NFoscillator import basic_oscillator\n",
    "#from time import time\n",
    "#from NFandist import calc_G\n",
    "\n",
    "\"\"\"\n",
    "ens_nf=ensemble.ensemble.load(\"nf_ensemble.txt\",basic_oscillator)\n",
    "g_nf=np.vstack(ensemble.ensemble.Vaverage_and_sigma(ens_nf,G))\n",
    "g_nf=g_nf.transpose()[0]\n",
    "\"\"\"\n",
    "\n",
    "g=g[:-1]\n",
    "print(len(g))\n",
    "\n",
    "fig=plt.figure()\n",
    "MCMC_list=np.arange(len(g))/len(g)\n",
    "NF_list=np.arange(len(g_nf))/len(g_nf)\n",
    "plt.scatter(MCMC_list,g)\n",
    "plt.scatter(NF_list,g_nf)\n",
    "plt.legend([\"MCMC\",\"normalizing flow\"])\n",
    "plt.grid(True)\n",
    "plt.show()\n"
   ]
  },
  {
   "cell_type": "code",
   "execution_count": null,
   "id": "5537b59a",
   "metadata": {
    "collapsed": true,
    "jupyter": {
     "outputs_hidden": true
    }
   },
   "outputs": [],
   "source": [
    "\n",
    "\n",
    "\n",
    "\n",
    "\n",
    "\n"
   ]
  }
 ],
 "metadata": {
  "kernelspec": {
   "display_name": "DataSphere Kernel",
   "language": "python",
   "name": "python3"
  },
  "language_info": {
   "codemirror_mode": {
    "name": "ipython",
    "version": 3
   },
   "file_extension": ".py",
   "mimetype": "text/x-python",
   "name": "python",
   "nbconvert_exporter": "python",
   "pygments_lexer": "ipython3",
   "version": "3.7.7"
  }
 },
 "nbformat": 4,
 "nbformat_minor": 5
}
