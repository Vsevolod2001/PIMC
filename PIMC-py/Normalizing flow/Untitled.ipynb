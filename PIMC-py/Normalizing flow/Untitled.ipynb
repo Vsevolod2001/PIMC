{
 "cells": [
  {
   "cell_type": "code",
   "execution_count": 6,
   "id": "3a90e769",
   "metadata": {},
   "outputs": [
    {
     "name": "stdout",
     "output_type": "stream",
     "text": [
      "tensor([[ 14,  32,  50],\n",
      "        [ 32,  77, 122],\n",
      "        [ 50, 122, 194]])\n"
     ]
    }
   ],
   "source": [
    "import torch\n",
    "x=torch.tensor([[1,2,3],[4,5,6],[7,8,9]])\n",
    "def f(x,y):\n",
    "    return torch.inner(x,y)\n",
    "    \n",
    "y=f(x,x)  \n",
    "print(y)"
   ]
  },
  {
   "cell_type": "code",
   "execution_count": null,
   "id": "78a50fcb",
   "metadata": {},
   "outputs": [],
   "source": []
  }
 ],
 "metadata": {
  "kernelspec": {
   "display_name": "Python 3 (ipykernel)",
   "language": "python",
   "name": "python3"
  },
  "language_info": {
   "codemirror_mode": {
    "name": "ipython",
    "version": 3
   },
   "file_extension": ".py",
   "mimetype": "text/x-python",
   "name": "python",
   "nbconvert_exporter": "python",
   "pygments_lexer": "ipython3",
   "version": "3.11.5"
  }
 },
 "nbformat": 4,
 "nbformat_minor": 5
}
