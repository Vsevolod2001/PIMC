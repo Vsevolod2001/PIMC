{
 "cells": [
  {
   "cell_type": "code",
   "execution_count": 10,
   "id": "dbee9da4",
   "metadata": {
    "execution": {
     "iopub.execute_input": "2024-03-24T14:57:07.548155Z",
     "iopub.status.busy": "2024-03-24T14:57:07.547352Z",
     "iopub.status.idle": "2024-03-24T14:57:07.563389Z",
     "shell.execute_reply": "2024-03-24T14:57:07.562313Z",
     "shell.execute_reply.started": "2024-03-24T14:57:07.548106Z"
    },
    "tags": []
   },
   "outputs": [],
   "source": [
    "from typing import Callable, List, Tuple\n",
    "\n",
    "import pytorch_lightning as pl\n",
    "import torch\n",
    "import torch.nn.functional as F\n",
    "from torch import nn\n",
    "from torch.distributions.distribution import Distribution\n",
    "from pytorch_lightning.loggers import TensorBoardLogger\n",
    "from nflows.transforms import made\n",
    "from Data import normal_dist\n",
    "device = torch.device(\"cuda\" if torch.cuda.is_available() else \"cpu\")"
   ]
  },
  {
   "cell_type": "code",
   "execution_count": 116,
   "id": "c93eb4f7",
   "metadata": {
    "execution": {
     "iopub.execute_input": "2024-03-24T14:57:08.938550Z",
     "iopub.status.busy": "2024-03-24T14:57:08.937614Z",
     "iopub.status.idle": "2024-03-24T14:57:09.209096Z",
     "shell.execute_reply": "2024-03-24T14:57:09.207354Z",
     "shell.execute_reply.started": "2024-03-24T14:57:08.938514Z"
    },
    "tags": []
   },
   "outputs": [
    {
     "name": "stdout",
     "output_type": "stream",
     "text": [
      "False\n"
     ]
    }
   ],
   "source": [
    "from NFconstants import N_nod, Beta, a\n",
    "from NFandist import get_O\n",
    "from NFandist import get_diag\n",
    "from NFandist import get_C\n",
    "\n",
    "def set_random_seed(seed):\n",
    "    torch.manual_seed(seed)\n",
    "O=(torch.tensor(get_O(N_nod)).float()).to(device)\n",
    "Ot=(torch.t(O)).to(device)\n",
    "print(Ot.requires_grad)\n",
    "\n"
   ]
  },
  {
   "cell_type": "code",
   "execution_count": 117,
   "id": "ae1a56aa",
   "metadata": {},
   "outputs": [],
   "source": [
    "class ThetaNetwork(nn.Module):\n",
    "    def __init__(\n",
    "        self,\n",
    "        in_dim: int,\n",
    "        out_dim: int,\n",
    "        num_hidden: int,\n",
    "        hidden_dim: int,\n",
    "        num_params: int,\n",
    "        p_drop: float,\n",
    "    ):\n",
    "        super().__init__()\n",
    "        self.input = nn.Linear(in_dim, hidden_dim)\n",
    "        self.hidden = nn.ModuleList(\n",
    "            [nn.Sequential(\n",
    "                nn.Linear(hidden_dim, hidden_dim),\n",
    "                nn.Dropout(p=p_drop),\n",
    "                nn.LayerNorm(hidden_dim)\n",
    "            ) for _ in range(num_hidden)]\n",
    "        )\n",
    "\n",
    "        self.num_params = num_params\n",
    "        self.out_dim = out_dim\n",
    "        self.dims = nn.Linear(hidden_dim, out_dim * num_params)\n",
    "        \n",
    "    def configure_theta(num_hidden,hidden_dim,p_drop,in_dim=N_nod//2,out_dim=N_nod//2):\n",
    "        theta=ThetaNetwork(\n",
    "                in_dim = in_dim,\n",
    "                out_dim = out_dim,\n",
    "                num_hidden = num_hidden,  #2 to 6\n",
    "                hidden_dim = hidden_dim , #100-1024\n",
    "                num_params = 2,\n",
    "                p_drop=p_drop,\n",
    "        )\n",
    "        return theta    \n",
    "\n",
    "    def forward(self, x: torch.Tensor) -> torch.Tensor:\n",
    "        x = F.leaky_relu(self.input(x),negative_slope=0.01)\n",
    "        for h in self.hidden:\n",
    "            x = F.leaky_relu(h(x),negative_slope=0.01)\n",
    "\n",
    "        batch_params = self.dims(x).reshape(x.size(0), self.out_dim, -1) \n",
    "        params = batch_params.chunk(self.num_params, dim=-1) \n",
    "        return [p.squeeze(-1) for p in params]"
   ]
  },
  {
   "cell_type": "code",
   "execution_count": 118,
   "id": "ded2239e",
   "metadata": {},
   "outputs": [
    {
     "name": "stdout",
     "output_type": "stream",
     "text": [
      "torch.Size([100, 32])\n"
     ]
    }
   ],
   "source": [
    "made_model = made.MADE(\n",
    "            features=32,\n",
    "            hidden_features=32,\n",
    "            num_blocks=4,\n",
    "            output_multiplier = 2,\n",
    "            use_residual_blocks=False,\n",
    "            random_mask=True,\n",
    "            activation=F.leaky_relu,\n",
    "            dropout_probability=0.0,\n",
    "            use_batch_norm=True)\n",
    "z=normal_dist.sample((100,))\n",
    "autoregressive_params = made_model(z[:, get_pair_split_masks()[0]])\n",
    "autoregressive_params = autoregressive_params.view(-1, N_nod//2, 2)\n",
    "s = autoregressive_params[..., 0]\n",
    "t = autoregressive_params[..., 1]\n",
    "print(s.shape)"
   ]
  },
  {
   "cell_type": "code",
   "execution_count": 119,
   "id": "b66bc606",
   "metadata": {
    "execution": {
     "iopub.execute_input": "2024-03-24T14:57:09.373621Z",
     "iopub.status.busy": "2024-03-24T14:57:09.372589Z",
     "iopub.status.idle": "2024-03-24T14:57:09.390240Z",
     "shell.execute_reply": "2024-03-24T14:57:09.389240Z",
     "shell.execute_reply.started": "2024-03-24T14:57:09.373569Z"
    },
    "tags": []
   },
   "outputs": [],
   "source": [
    "class AffineCouplingLayer(nn.Module):\n",
    "    def __init__(\n",
    "        self,\n",
    "        theta: nn.Module,\n",
    "        split,\n",
    "        swap: int\n",
    "    ):\n",
    "        super().__init__()\n",
    "        self.theta = theta\n",
    "        self.split = split\n",
    "        self.swap = swap\n",
    "\n",
    "    def g(self, z: torch.Tensor,params=torch.tensor([])) -> torch.Tensor:\n",
    "        \"\"\"g : z -> x. The inverse of f.\"\"\"\n",
    "        mask1=self.split[self.swap]\n",
    "        mask2=self.split[(self.swap+1)%2]\n",
    "        z1, z2 = z[:,mask1], z[:,mask2]\n",
    "        z1 = torch.cat((z1,params),dim=-1)\n",
    "        #t, s = self.theta(z1)\n",
    "        autoregressive_params = self.theta(z1)\n",
    "        autoregressive_params = autoregressive_params.view(-1, N_nod//2, 2)\n",
    "        s = autoregressive_params[..., 0]\n",
    "        t = autoregressive_params[..., 1]\n",
    "        s = F.softplus(s)+0.001\n",
    "        x2 = z2 * s + t\n",
    "        log_det = torch.log(s).sum(-1) \n",
    "        z[:,mask2]=x2\n",
    "        return z, log_det\n",
    "\n",
    "    def f(self, x: torch.Tensor,params=torch.tensor([])) -> torch.Tensor:\n",
    "        mask1=self.split[self.swap]\n",
    "        mask2=self.split[(self.swap+1)%2]\n",
    "        x1, x2 = x[:,mask1], x[:,mask2]\n",
    "        x1 = torch.cat((x1,params),dim=-1)\n",
    "        t, s = self.theta(x1)\n",
    "        z1, z2 = x1, torch.exp(-s)*(x2-t) \n",
    "        log_det = s.sum(-1) \n",
    "        x[:,mask2] = z2\n",
    "        return x, log_det    "
   ]
  },
  {
   "cell_type": "code",
   "execution_count": 120,
   "id": "99d7e066",
   "metadata": {},
   "outputs": [],
   "source": [
    "def get_split_masks(dim=N_nod):\n",
    "    mask1=list(range(0,dim,2))\n",
    "    mask2=list(range(1,dim,2))\n",
    "    split_masks=[mask1,mask2]\n",
    "    return split_masks\n",
    "    \n",
    "def get_pair_split_masks(dim=N_nod):\n",
    "    mask1=list(range(0,dim,4))\n",
    "    mask2=list(range(2,dim,4))\n",
    "    mask1=(mask1+list(map(lambda x:x+1,mask1)))\n",
    "    mask2=(mask2+list(map(lambda x:x+1,mask2)))\n",
    "    mask1.sort()\n",
    "    mask2.sort()\n",
    "    split_masks=[mask1,mask2]\n",
    "    return split_masks    "
   ]
  },
  {
   "cell_type": "code",
   "execution_count": 129,
   "id": "9069d51f",
   "metadata": {},
   "outputs": [
    {
     "data": {
      "text/plain": [
       "'\\n    def g_steps(self, z: torch.Tensor) -> List[torch.Tensor]:\\n        Maps latent variable z to observation x\\n        and stores intermediate results.\\n        \\n        xs = [z]\\n        for flow in reversed(self.flows):\\n            xs.append(flow.g(xs[-1]))\\n        return xs\\n\\n    \\n    def latent_log_prob(self, z: torch.Tensor) -> torch.Tensor:\\n        llp=self.latent.log_prob(z)\\n        sum_llp= torch.sum(llp,axis=-1)\\n        return sum_llp\\n \\n    \\n'"
      ]
     },
     "execution_count": 129,
     "metadata": {},
     "output_type": "execute_result"
    }
   ],
   "source": [
    "class NormalizingFlow(nn.Module):\n",
    "    \n",
    "    def __init__(self, latent: Distribution, flows: List[nn.Module], ort=False, Ot=[]):\n",
    "        super().__init__()\n",
    "        self.latent = latent\n",
    "        self.flows = flows\n",
    "        self.ort = ort\n",
    "        self.Ot = Ot\n",
    "        \n",
    "    def configure_flows(n_flows,num_hidden,hidden_dim,p_drop,dim=N_nod,param_dim=0):  # n_flows=8,...,12\n",
    "        flows = []\n",
    "        split_masks_d = get_pair_split_masks(dim)\n",
    "        #split_masks_d = get_split_masks(dim)\n",
    "    \n",
    "        for k in range(n_flows):\n",
    "            #theta = ThetaNetwork.configure_theta( num_hidden = num_hidden, hidden_dim = hidden_dim, p_drop=p_drop ,in_dim = dim//2+param_dim,out_dim = dim//2)\n",
    "            theta =  made.MADE(\n",
    "            features=N_nod//2,\n",
    "            hidden_features = hidden_dim,\n",
    "            num_blocks = num_hidden,\n",
    "            output_multiplier = 2,\n",
    "            use_residual_blocks=True,\n",
    "            random_mask=False,\n",
    "            activation=F.relu,\n",
    "            dropout_probability=0.0,\n",
    "            use_batch_norm=True)\n",
    "            flows.append(AffineCouplingLayer(theta,split=split_masks_d,swap=k%2))\n",
    "   \n",
    "        flows = nn.ModuleList(flows)\n",
    "        return flows     \n",
    "\n",
    "    def latent_sample(self, num_samples: int = 1) -> torch.Tensor:\n",
    "        z=self.latent.sample((num_samples,))\n",
    "        return z        \n",
    "\n",
    "    def sample(self, num_samples: int = 1) -> torch.Tensor:\n",
    "        \"\"\"Sample a new observation x by sampling z from\n",
    "        the latent distribution and pass through g.\"\"\"\n",
    "        z=(self.latent_sample(num_samples))\n",
    "        with torch.no_grad():\n",
    "            x, _ = self.g(z)\n",
    "        return x \n",
    "    \n",
    "\n",
    "    def g(self, z: torch.Tensor,params=torch.tensor([])) -> torch.Tensor:\n",
    "        \n",
    "        x, sum_log_abs_det = z, torch.zeros(z.size(0)).to(z.device)\n",
    "        for flow in reversed(self.flows):\n",
    "            x, log_abs_det = flow.g(x,params)\n",
    "            sum_log_abs_det += log_abs_det\n",
    "        \n",
    "        if self.ort:\n",
    "            x = torch.matmul(x,self.Ot.to(x.device))\n",
    "            \n",
    "        return x, sum_log_abs_det\n",
    "    \n",
    "        \n",
    "    def __len__(self) -> int:\n",
    "        return len(self.flows)\n",
    "    \n",
    "    def f(self, x: torch.Tensor,params=torch.tensor([])) -> Tuple[torch.Tensor, torch.Tensor]:\n",
    "        \n",
    "        with torch.no_grad():\n",
    "            if self.ort:\n",
    "                x=torch.matmul(x,O.to(x.device))\n",
    "        \n",
    "            z, sum_log_abs_det = x, torch.zeros(x.size(0)).to(x.device)\n",
    "        \n",
    "            for flow in self.flows:\n",
    "                z, log_abs_det = flow.f(z,params)\n",
    "                sum_log_abs_det += log_abs_det\n",
    "        \n",
    "        return z, sum_log_abs_det\n",
    "    \n",
    " \n",
    "\"\"\"\n",
    "    def g_steps(self, z: torch.Tensor) -> List[torch.Tensor]:\n",
    "        Maps latent variable z to observation x\n",
    "        and stores intermediate results.\n",
    "        \n",
    "        xs = [z]\n",
    "        for flow in reversed(self.flows):\n",
    "            xs.append(flow.g(xs[-1]))\n",
    "        return xs\n",
    "\n",
    "    \n",
    "    def latent_log_prob(self, z: torch.Tensor) -> torch.Tensor:\n",
    "        llp=self.latent.log_prob(z)\n",
    "        sum_llp= torch.sum(llp,axis=-1)\n",
    "        return sum_llp\n",
    " \n",
    "    \n",
    "\"\"\"\n",
    "    "
   ]
  },
  {
   "cell_type": "code",
   "execution_count": 130,
   "id": "22aa69dd",
   "metadata": {},
   "outputs": [],
   "source": [
    "from NFoscillator import Oscillator\n",
    "from NFrel_oscillator import Rel_Oscillator\n",
    "from NFur_oscillator import Ur_Oscillator\n",
    "from NFx4 import X4\n",
    "from NFMorse import Morse\n",
    "from NFrel_Morse import Rel_Morse\n",
    "from NFrel_Columb import Rel_Columb\n",
    "from NFnonrel_Columb import NonRel_Columb\n",
    "from NFbadur_oscillator import BadUr_Oscillator\n",
    "from NFtwowells import Two_wells\n",
    "from NFcircle import Circle\n",
    "from NFrel_twowells import Rel_two_wells \n",
    "\n",
    "osc=Oscillator(N_nod,Beta)\n",
    "KL_osc=osc.get_KL()\n",
    "\n",
    "rel1=Rel_Oscillator(N_nod,Beta,sigma=1)\n",
    "KL_rel1=rel1.get_KL()\n",
    "\n",
    "ur=Ur_Oscillator(N_nod,Beta)\n",
    "KL_ur=ur.get_KL()\n",
    "\n",
    "ur8=Ur_Oscillator(8,Beta)\n",
    "KL_ur8=ur8.get_KL()\n",
    "\n",
    "rel_columb=Rel_Columb(N_nod,Beta,alpha=1,R=1)\n",
    "KL_rel_columb=rel_columb.get_KL()\n",
    "\n",
    "tw = Two_wells(N_nod,Beta,g=1,x0=1.41)\n",
    "KL_tw = tw.get_KL()\n",
    "\n",
    "\n",
    "morse = Morse(N_nod,Beta,alpha=0.125)\n",
    "KL_morse = morse.get_KL()\n",
    "\n",
    "circ = Circle(N_nod,Beta,g=1,x0=4)\n",
    "KL_circ = circ.get_KL()\n",
    "\n",
    "rel_morse = Rel_Morse(N_nod,Beta,m=1,alpha=0.125)\n",
    "KL_rel_morse = rel_morse.get_KL()\n",
    "\n",
    "rel_tw = Rel_two_wells(N_nod,Beta,m=1,g=1,x0=1.41)\n",
    "KL_rel_tw = rel_tw.get_KL()\n",
    "\n",
    "KL_rel001=Rel_Oscillator(N_nod,Beta,sigma=0.01).get_KL()\n",
    "KL_rel01=Rel_Oscillator(N_nod,Beta,sigma=0.1).get_KL()\n",
    "KL_rel10=Rel_Oscillator(N_nod,Beta,sigma=10).get_KL()\n",
    "KL_rel29=Rel_Oscillator(N_nod,Beta,sigma = 2 ** 9).get_KL()\n",
    "KL_X4=X4(N_nod,Beta,g=0.05).get_KL()\n",
    "KL_rel_morse=Rel_Morse(N_nod,Beta,alpha=1,m=1000).get_KL()\n",
    "KL_nonrel_columb=NonRel_Columb(N_nod,Beta,alpha=1,R=1).get_KL()\n"
   ]
  },
  {
   "cell_type": "code",
   "execution_count": 131,
   "id": "5401fb59",
   "metadata": {
    "execution": {
     "iopub.execute_input": "2024-03-24T14:57:14.564738Z",
     "iopub.status.busy": "2024-03-24T14:57:14.563712Z",
     "iopub.status.idle": "2024-03-24T14:57:14.583112Z",
     "shell.execute_reply": "2024-03-24T14:57:14.581963Z",
     "shell.execute_reply.started": "2024-03-24T14:57:14.564692Z"
    },
    "tags": []
   },
   "outputs": [],
   "source": [
    "class Pipeline(pl.LightningModule):\n",
    "    def __init__(\n",
    "        self,\n",
    "        model,\n",
    "        criterion,\n",
    "        optimizer_class=torch.optim.Adam,\n",
    "        optimizer_kwargs={\"lr\": 0.001,\"weight_decay\": 0}\n",
    "    ) -> None:\n",
    "        super().__init__()\n",
    "        self.model = model\n",
    "        self.loss = criterion\n",
    "        self.optimizer_class = optimizer_class\n",
    "        self.optimizer_kwargs = optimizer_kwargs\n",
    "\n",
    "    \"\"\"\n",
    "    def configure_optimizers(self):\n",
    "        optimizer = self.optimizer_class(\n",
    "            self.model.parameters(), **self.optimizer_kwargs\n",
    "        )\n",
    "        return optimizer\n",
    "    \"\"\"\n",
    "    \n",
    "    def configure_optimizers(self):\n",
    "        optimizer = self.optimizer_class(\n",
    "            self.model.parameters(), **self.optimizer_kwargs\n",
    "        )\n",
    "        \n",
    "        \n",
    "        scheduler = torch.optim.lr_scheduler.ReduceLROnPlateau(\n",
    "            optimizer=optimizer,\n",
    "            min_lr=1e-9,\n",
    "            factor=0.5,\n",
    "            mode=\"min\",\n",
    "            threshold = 0.001,\n",
    "            patience = 1,\n",
    "            verbose=True,\n",
    "        )\n",
    "\n",
    "        lr_scheduler = {\n",
    "            \"scheduler\": scheduler,\n",
    "            \"interval\": \"epoch\",\n",
    "            \"monitor\": \"train_loss\",\n",
    "        }\n",
    "        return [optimizer], [lr_scheduler]\n",
    "\n",
    "    def training_step(self, batch, batch_idx):\n",
    "        z = batch\n",
    "        x, log_abs_det = self.model.g(z)\n",
    "        loss = self.loss(x,log_abs_det)\n",
    "        self.log('train_loss', loss, prog_bar=True)\n",
    "        return loss\n",
    "\n",
    "\n",
    "    def on_train_epoch_end(self):\n",
    "        #print(\"---------------------------end epoch---------------------------------\")\n",
    "        pass\n",
    "    \n",
    "    def on_validation_end(self) -> None:\n",
    "        if not self.automatic_optimization:\n",
    "            # Save a checkpoint of the model\n",
    "            ckpt_path = os.path.join(self.trainer.log_dir, 'checkpoints', 'ckpt.pt')\n",
    "            self.trainer.save_checkpoint(ckpt_path, weights_only=True)\n",
    "        return super().on_validation_end()\n",
    "    \n",
    "    "
   ]
  },
  {
   "cell_type": "code",
   "execution_count": 140,
   "id": "558e4bef",
   "metadata": {
    "execution": {
     "iopub.execute_input": "2024-03-24T15:06:02.086235Z",
     "iopub.status.busy": "2024-03-24T15:06:02.085298Z",
     "iopub.status.idle": "2024-03-24T15:12:42.593004Z",
     "shell.execute_reply": "2024-03-24T15:12:42.590791Z",
     "shell.execute_reply.started": "2024-03-24T15:06:02.086201Z"
    },
    "tags": []
   },
   "outputs": [
    {
     "name": "stderr",
     "output_type": "stream",
     "text": [
      "GPU available: False, used: False\n",
      "TPU available: False, using: 0 TPU cores\n",
      "IPU available: False, using: 0 IPUs\n",
      "HPU available: False, using: 0 HPUs\n",
      "\n",
      "  | Name  | Type            | Params\n",
      "------------------------------------------\n",
      "0 | model | NormalizingFlow | 159 K \n",
      "1 | loss  | KL_with_S       | 0     \n",
      "------------------------------------------\n",
      "159 K     Trainable params\n",
      "0         Non-trainable params\n",
      "159 K     Total params\n",
      "0.636     Total estimated model params size (MB)\n"
     ]
    },
    {
     "data": {
      "application/vnd.jupyter.widget-view+json": {
       "model_id": "406cc58e82d147c78e4a7d81190d5580",
       "version_major": 2,
       "version_minor": 0
      },
      "text/plain": [
       "Training: |                                                                                      | 0/? [00:00<…"
      ]
     },
     "metadata": {},
     "output_type": "display_data"
    },
    {
     "name": "stderr",
     "output_type": "stream",
     "text": [
      "`Trainer.fit` stopped: `max_epochs=500` reached.\n"
     ]
    }
   ],
   "source": [
    "from Data import train_loader\n",
    "\n",
    "set_random_seed(42)\n",
    "flows = NormalizingFlow.configure_flows(n_flows=2,num_hidden=2,hidden_dim=2*N_nod,p_drop=0.0,dim=N_nod,param_dim=0)\n",
    "nf=NormalizingFlow(normal_dist,flows,True,Ot)\n",
    "pipeline=Pipeline(model=nf, criterion=KL_ur, optimizer_class=torch.optim.Adam, optimizer_kwargs={\"lr\": 0.0001,\"weight_decay\":0.0})\n",
    "\n",
    "trainer = pl.Trainer(\n",
    "    max_epochs=500,\n",
    "    logger=TensorBoardLogger(save_dir=f\"logs/nf\"),\n",
    "    num_sanity_val_steps=0,\n",
    "    log_every_n_steps=1,\n",
    "    accumulate_grad_batches=1\n",
    ")\n",
    "\n",
    "trainer.fit(model=pipeline, train_dataloaders=train_loader)\n",
    "torch.save(nf.state_dict(), \"model_weights1.pth\")"
   ]
  },
  {
   "cell_type": "code",
   "execution_count": 26,
   "id": "2315d7bd-3259-4b46-950d-64fbfd53aba1",
   "metadata": {
    "execution": {
     "iopub.execute_input": "2024-03-21T00:29:06.295137Z",
     "iopub.status.busy": "2024-03-21T00:29:06.294371Z",
     "iopub.status.idle": "2024-03-21T00:46:05.549715Z",
     "shell.execute_reply": "2024-03-21T00:46:05.548347Z",
     "shell.execute_reply.started": "2024-03-21T00:29:06.295089Z"
    },
    "tags": []
   },
   "outputs": [
    {
     "name": "stderr",
     "output_type": "stream",
     "text": [
      "GPU available: False, used: False\n",
      "TPU available: False, using: 0 TPU cores\n",
      "IPU available: False, using: 0 IPUs\n",
      "HPU available: False, using: 0 HPUs\n",
      "\n",
      "  | Name  | Type            | Params\n",
      "------------------------------------------\n",
      "0 | model | NormalizingFlow | 3.4 M \n",
      "1 | loss  | KL_with_S       | 0     \n",
      "------------------------------------------\n",
      "3.4 M     Trainable params\n",
      "0         Non-trainable params\n",
      "3.4 M     Total params\n",
      "13.477    Total estimated model params size (MB)\n"
     ]
    },
    {
     "data": {
      "application/vnd.jupyter.widget-view+json": {
       "model_id": "d203daf413814defb6f00049bb07e311",
       "version_major": 2,
       "version_minor": 0
      },
      "text/plain": [
       "Training: |                                                                                      | 0/? [00:00<…"
      ]
     },
     "metadata": {},
     "output_type": "display_data"
    },
    {
     "name": "stderr",
     "output_type": "stream",
     "text": [
      "`Trainer.fit` stopped: `max_epochs=20` reached.\n"
     ]
    }
   ],
   "source": [
    "from Data import train_loader\n",
    "\n",
    "set_random_seed(42)\n",
    "nf=NormalizingFlow(latent=normal_dist,flows=configure_flows(12),conv_flows=configure_conv_flows(0,kernel_size=16),ort=True)\n",
    "nf.load_state_dict(torch.load('model_weights1.pth'))\n",
    "pipeline=Pipeline(model=nf,criterion=KL_ur, optimizer_class=torch.optim.Adam,optimizer_kwargs={\"lr\": 0.0001,\"weight_decay\":0.0})\n",
    "\n",
    "trainer = pl.Trainer(\n",
    "    max_epochs=20,\n",
    "    logger=TensorBoardLogger(save_dir=f\"logs/nf\"),\n",
    "    num_sanity_val_steps=0,\n",
    "    log_every_n_steps=1,\n",
    "    enable_checkpointing=False,\n",
    "    accumulate_grad_batches=1\n",
    ")\n",
    "\n",
    "trainer.fit(model=pipeline, train_dataloaders=train_loader)\n",
    "torch.save(nf.state_dict(), \"model_weights1.pth\")"
   ]
  },
  {
   "cell_type": "code",
   "execution_count": 141,
   "id": "a808807a",
   "metadata": {
    "execution": {
     "iopub.status.busy": "2024-03-24T15:14:05.745887614Z",
     "iopub.status.idle": "2024-03-24T15:14:05.748917542Z",
     "shell.execute_reply": "2024-03-24T15:14:05.745707886Z"
    },
    "tags": []
   },
   "outputs": [
    {
     "name": "stdout",
     "output_type": "stream",
     "text": [
      "True\n"
     ]
    }
   ],
   "source": [
    "from Data import normal_dist\n",
    "import numpy as np\n",
    "from NFconstants import N_traj\n",
    "flows = NormalizingFlow.configure_flows(n_flows=2,num_hidden=2,hidden_dim=2*N_nod,p_drop=0.0,dim=N_nod,param_dim=0)\n",
    "NF_trained=NormalizingFlow(normal_dist,flows,True,Ot)\n",
    "NF_trained.load_state_dict(torch.load('model_weights1.pth'))\n",
    "NF_trained.eval()\n",
    "print(NF_trained.ort)\n",
    "trajs=NF_trained.sample(N_traj)\n"
   ]
  },
  {
   "cell_type": "code",
   "execution_count": 142,
   "id": "fe644a5e-8e4a-4536-bec1-78a391b60f97",
   "metadata": {
    "execution": {
     "iopub.execute_input": "2024-03-24T15:02:45.881536Z",
     "iopub.status.busy": "2024-03-24T15:02:45.880678Z",
     "iopub.status.idle": "2024-03-24T15:02:46.569088Z",
     "shell.execute_reply": "2024-03-24T15:02:46.567842Z",
     "shell.execute_reply.started": "2024-03-24T15:02:45.881502Z"
    },
    "tags": []
   },
   "outputs": [
    {
     "name": "stderr",
     "output_type": "stream",
     "text": [
      "100%|█████████████████████████████████████████████████████████████████████████████████| 64/64 [00:00<00:00, 465.00it/s]\n"
     ]
    }
   ],
   "source": [
    "from tqdm import tqdm\n",
    "def G(X,n_p=\"all\"):\n",
    "    n_traj=X.shape[0]\n",
    "    n_nod=X.shape[1]\n",
    "    if n_p == \"all\":\n",
    "        n_p = X.shape[1]\n",
    "    G=np.zeros((n_p))\n",
    "    Y=X.clone()\n",
    "    Xt=torch.t(X)\n",
    "    for s in tqdm(range(n_p)):\n",
    "        G[s]=torch.trace(torch.matmul(Y,Xt))\n",
    "        Y=torch.roll(Y,-1,1)\n",
    "        #Y=torch.roll(Y,-1,1)\n",
    "    return G/(n_traj*n_nod)\n",
    "g_nf=G(trajs)\n"
   ]
  },
  {
   "cell_type": "code",
   "execution_count": 1,
   "id": "78c9ffdf-7d11-49a0-8304-3228e4cd69b5",
   "metadata": {
    "execution": {
     "iopub.execute_input": "2024-03-23T21:35:19.661206Z",
     "iopub.status.busy": "2024-03-23T21:35:19.660748Z",
     "iopub.status.idle": "2024-03-23T21:35:19.705928Z",
     "shell.execute_reply": "2024-03-23T21:35:19.704956Z",
     "shell.execute_reply.started": "2024-03-23T21:35:19.661176Z"
    },
    "tags": []
   },
   "outputs": [],
   "source": [
    "from NFandist import calc_G\n",
    "from NFconstants import N_nod, N_traj, NG_points,Beta\n",
    "g_osc=calc_G(N_nod,Beta,N_nod)\n"
   ]
  },
  {
   "cell_type": "code",
   "execution_count": 36,
   "id": "d40ea38c-5c07-4349-9872-6f8026d990d1",
   "metadata": {
    "execution": {
     "iopub.execute_input": "2024-03-17T00:34:29.314022Z",
     "iopub.status.busy": "2024-03-17T00:34:29.313173Z",
     "iopub.status.idle": "2024-03-17T00:34:29.332122Z",
     "shell.execute_reply": "2024-03-17T00:34:29.331342Z",
     "shell.execute_reply.started": "2024-03-17T00:34:29.313983Z"
    },
    "tags": []
   },
   "outputs": [],
   "source": [
    "g_ur = [0.476546, 0.148654, 0.060357, 0.0232596, -0.00447499, -0.00224423, -0.00447499, 0.0232596, 0.060357, 0.148654]"
   ]
  },
  {
   "cell_type": "code",
   "execution_count": 50,
   "id": "423d9be1-411c-4004-929e-ddd280cb3a77",
   "metadata": {
    "execution": {
     "iopub.execute_input": "2024-03-21T20:42:58.827532Z",
     "iopub.status.busy": "2024-03-21T20:42:58.826518Z",
     "iopub.status.idle": "2024-03-21T20:42:58.843655Z",
     "shell.execute_reply": "2024-03-21T20:42:58.842968Z",
     "shell.execute_reply.started": "2024-03-21T20:42:58.827485Z"
    },
    "tags": []
   },
   "outputs": [],
   "source": [
    "\n",
    "g_ur = [0.555858, 0.497988, 0.446597, 0.401115, 0.360415, 0.324316, 0.29138, 0.261791, 0.235658, 0.211969, 0.190536, 0.171994, 0.155133, 0.140335, 0.126598, 0.114471, 0.103514, 0.0941716, 0.0852865, 0.0767528, 0.0691313, 0.0619047, 0.0550745, 0.0490998, 0.0443236, 0.0396256, 0.0358628, 0.0324961, 0.0302019, 0.0276177, 0.0251373, 0.0226234, 0.0203086, 0.0179717, 0.0164385, 0.0152739, 0.0143051, 0.0136778, 0.0127566, 0.0118486, 0.0111658, 0.0111462, 0.011026, 0.0110081, 0.0109681, 0.0106729, 0.0101027, 0.010377, 0.010866, 0.0114044, 0.0119873, 0.0114044, 0.010866, 0.010377, 0.0101027, 0.0106729, 0.0109681, 0.0110081, 0.011026, 0.0111462, 0.0111658, 0.0118486, 0.0127566, 0.0136778, 0.0143051, 0.0152739, 0.0164385, 0.0179717, 0.0203086, 0.0226234, 0.0251373, 0.0276177, 0.0302019, 0.0324961, 0.0358628, 0.0396256, 0.0443236, 0.0490998, 0.0550745, 0.0619047, 0.0691313, 0.0767528, 0.0852865, 0.0941716, 0.103514, 0.114471, 0.126598, 0.140335, 0.155133, 0.171994, 0.190536, 0.211969, 0.235658, 0.261791, 0.29138, 0.324316, 0.360415, 0.401115, 0.446597, 0.497988]\n"
   ]
  },
  {
   "cell_type": "code",
   "execution_count": 143,
   "id": "ab668ed2",
   "metadata": {},
   "outputs": [],
   "source": [
    "g_ur = np.genfromtxt(\"g_ur N=256 Beta=16\")"
   ]
  },
  {
   "cell_type": "code",
   "execution_count": 29,
   "id": "761d4f40-3376-4f0e-9177-6ff5ff928fa4",
   "metadata": {
    "execution": {
     "iopub.execute_input": "2024-03-11T13:08:02.438822Z",
     "iopub.status.busy": "2024-03-11T13:08:02.437924Z",
     "iopub.status.idle": "2024-03-11T13:08:02.452208Z",
     "shell.execute_reply": "2024-03-11T13:08:02.451027Z",
     "shell.execute_reply.started": "2024-03-11T13:08:02.438776Z"
    },
    "tags": []
   },
   "outputs": [],
   "source": [
    "g_rel = [0.389004, 0.174591, 0.0750764, 0.0320855, 0.0235634, 0.0204869, 0.0235634, 0.0320855, 0.0750764, 0.174591]"
   ]
  },
  {
   "cell_type": "code",
   "execution_count": 53,
   "id": "f0639e9e-3fa3-412f-8833-8af468af9fa8",
   "metadata": {
    "execution": {
     "iopub.execute_input": "2024-03-21T19:44:45.994058Z",
     "iopub.status.busy": "2024-03-21T19:44:45.993311Z",
     "iopub.status.idle": "2024-03-21T19:44:46.026964Z",
     "shell.execute_reply": "2024-03-21T19:44:46.026278Z",
     "shell.execute_reply.started": "2024-03-21T19:44:45.994017Z"
    },
    "tags": []
   },
   "outputs": [],
   "source": [
    "g_rel = [0.392501, 0.361773, 0.333519, 0.307446, 0.283335, 0.261201, 0.240658, 0.221871, 0.204776, 0.188963, 0.174495, 0.161116, 0.148541, 0.136946, 0.126175, 0.116168, 0.106934, 0.0985733, 0.090693, 0.0836987, 0.0773237, 0.0713712, 0.0662134, 0.0611666, 0.0567049, 0.0525145, 0.0489322, 0.045775, 0.043085, 0.0407685, 0.0383386, 0.0365845, 0.0353032, 0.0339074, 0.0324167, 0.0308972, 0.0295226, 0.0285374, 0.0276133, 0.026899, 0.0265193, 0.0267518, 0.027023, 0.0272673, 0.0275789, 0.0277296, 0.0281657, 0.0286108, 0.0289897, 0.0292072, 0.0292838, 0.0292072, 0.0289897, 0.0286108, 0.0281657, 0.0277296, 0.0275789, 0.0272673, 0.027023, 0.0267518, 0.0265193, 0.026899, 0.0276133, 0.0285374, 0.0295226, 0.0308972, 0.0324167, 0.0339074, 0.0353032, 0.0365845, 0.0383386, 0.0407685, 0.043085, 0.045775, 0.0489322, 0.0525145, 0.0567049, 0.0611666, 0.0662134, 0.0713712, 0.0773237, 0.0836987, 0.090693, 0.0985733, 0.106934, 0.116168, 0.126175, 0.136946, 0.148541, 0.161116, 0.174495, 0.188963, 0.204776, 0.221871, 0.240658, 0.261201, 0.283335, 0.307446, 0.333519, 0.361773]\n"
   ]
  },
  {
   "cell_type": "code",
   "execution_count": 91,
   "id": "65e2959c-aa9d-47a0-971a-68fd6575b32e",
   "metadata": {
    "execution": {
     "iopub.execute_input": "2024-03-09T13:22:56.600736Z",
     "iopub.status.busy": "2024-03-09T13:22:56.599626Z",
     "iopub.status.idle": "2024-03-09T13:22:56.630766Z",
     "shell.execute_reply": "2024-03-09T13:22:56.629607Z",
     "shell.execute_reply.started": "2024-03-09T13:22:56.600650Z"
    },
    "tags": []
   },
   "outputs": [],
   "source": [
    "\n",
    "import numpy as np\n",
    "corr = [0.0049279, 0.00445719, 0.0040318, 0.00364688, 0.00329375, 0.00297512, 0.00268571, 0.00242197, 0.00217813, 0.00195686, 0.00176504, 0.001597, 0.0014406, 0.00130362, 0.00117932, 0.00107197, 0.000971531, 0.000873839, 0.000783014, 0.000698531, 0.000622945, 0.000554938, 0.000497423, 0.000446639, 0.000400234, 0.000360026, 0.000325092, 0.00028936, 0.000252744, 0.000222755, 0.00019756, 0.000178826, 0.000169581, 0.000165766, 0.000161208, 0.000158499, 0.000157808, 0.000156267, 0.000155463, 0.000151827, 0.000137475, 0.000124214, 0.000113485, 0.000104859, 9.63436e-05, 8.8317e-05, 8.17296e-05, 7.9884e-05, 7.83747e-05, 8.01024e-05, 8.44507e-05, 8.01024e-05, 7.83747e-05, 7.9884e-05, 8.17296e-05, 8.8317e-05, 9.63436e-05, 0.000104859, 0.000113485, 0.000124214, 0.000137475, 0.000151827, 0.000155463, 0.000156267, 0.000157808, 0.000158499, 0.000161208, 0.000165766, 0.000169581, 0.000178826, 0.00019756, 0.000222755, 0.000252744, 0.00028936, 0.000325092, 0.000360026, 0.000400234, 0.000446639, 0.000497423, 0.000554938, 0.000622945, 0.000698531, 0.000783014, 0.000873839, 0.000971531, 0.00107197, 0.00117932, 0.00130362, 0.0014406, 0.001597, 0.00176504, 0.00195686, 0.00217813, 0.00242197, 0.00268571, 0.00297512, 0.00329375, 0.00364688, 0.0040318, 0.00445719, 0.0049279]\n",
    "g_rel_001=(100*np.array(corr))[:-1]\n",
    "\n"
   ]
  },
  {
   "cell_type": "code",
   "execution_count": 34,
   "id": "1cd1e02d-0324-466a-b37e-a60554908a29",
   "metadata": {
    "execution": {
     "iopub.execute_input": "2024-03-11T16:48:55.993064Z",
     "iopub.status.busy": "2024-03-11T16:48:55.992018Z",
     "iopub.status.idle": "2024-03-11T16:48:56.010951Z",
     "shell.execute_reply": "2024-03-11T16:48:56.009823Z",
     "shell.execute_reply.started": "2024-03-11T16:48:55.993012Z"
    },
    "tags": []
   },
   "outputs": [],
   "source": [
    "import numpy as np\n",
    "corr = [0.0482165, 0.0437875, 0.0397512, 0.0361339, 0.0328051, 0.0297607, 0.0270138, 0.0244825, 0.0222039, 0.0201489, 0.0183026, 0.0166458, 0.0151002, 0.0137192, 0.012421, 0.0112716, 0.0102497, 0.00931179, 0.0084281, 0.00763501, 0.00697282, 0.00637519, 0.00579578, 0.00524782, 0.00469027, 0.00419239, 0.00376016, 0.00335117, 0.00299975, 0.00265075, 0.00236496, 0.00215769, 0.00196452, 0.00178665, 0.00162977, 0.00148276, 0.00135563, 0.00127519, 0.00120796, 0.00115448, 0.0011155, 0.00109623, 0.00112555, 0.00113097, 0.00108849, 0.00108302, 0.00112726, 0.00115736, 0.00118966, 0.00124266, 0.00121678, 0.00124266, 0.00118966, 0.00115736, 0.00112726, 0.00108302, 0.00108849, 0.00113097, 0.00112555, 0.00109623, 0.0011155, 0.00115448, 0.00120796, 0.00127519, 0.00135563, 0.00148276, 0.00162977, 0.00178665, 0.00196452, 0.00215769, 0.00236496, 0.00265075, 0.00299975, 0.00335117, 0.00376016, 0.00419239, 0.00469027, 0.00524782, 0.00579578, 0.00637519, 0.00697282, 0.00763501, 0.0084281, 0.00931179, 0.0102497, 0.0112716, 0.012421, 0.0137192, 0.0151002, 0.0166458, 0.0183026, 0.0201489, 0.0222039, 0.0244825, 0.0270138, 0.0297607, 0.0328051, 0.0361339, 0.0397512, 0.0437875, 0.0482165]\n",
    "g_rel_01=(10*np.array(corr))[:-1]\n"
   ]
  },
  {
   "cell_type": "code",
   "execution_count": 144,
   "id": "34a5ead7-10a1-445f-abbd-4f8c2478ccd1",
   "metadata": {
    "execution": {
     "iopub.execute_input": "2024-03-24T15:02:50.096199Z",
     "iopub.status.busy": "2024-03-24T15:02:50.095261Z",
     "iopub.status.idle": "2024-03-24T15:02:50.450458Z",
     "shell.execute_reply": "2024-03-24T15:02:50.449352Z",
     "shell.execute_reply.started": "2024-03-24T15:02:50.096165Z"
    },
    "tags": []
   },
   "outputs": [
    {
     "name": "stdout",
     "output_type": "stream",
     "text": [
      "0.2279630584716797\n"
     ]
    },
    {
     "data": {
      "image/png": "[encoded data removed]",
      "text/plain": [
       "<Figure size 640x480 with 1 Axes>"
      ]
     },
     "metadata": {},
     "output_type": "display_data"
    }
   ],
   "source": [
    "#import sys\n",
    "#sys.path.append('../')\n",
    "import numpy as np\n",
    "import matplotlib.pyplot as plt\n",
    "from NFconstants import N_nod, N_traj, NG_points,Beta\n",
    "\n",
    "\n",
    "\n",
    "\n",
    "g=g_ur\n",
    "print(g_nf[0])\n",
    "fig=plt.figure()\n",
    "MCMC_list=np.arange(len(g))/len(g)\n",
    "NF_list=np.arange(len(g_nf))/len(g_nf)\n",
    "\n",
    "\n",
    "\n",
    "plt.scatter(MCMC_list,g,s=10)\n",
    "plt.scatter(NF_list,g_nf,s=10)\n",
    "plt.legend([\"Метрополис\",\"Нормализующий поток\"])\n",
    "plt.title(r\"$N=$\"+str(N_nod)+\"       \"r\"$\\beta=$\"+str(Beta)+\"     Ультраелятивистский осциллятор\")\n",
    "plt.ylabel(r\"$G_s$\",fontsize=17)\n",
    "plt.xlabel(r\"$s/N$\",fontsize=17)\n",
    "#plt.yscale(\"log\")\n",
    "plt.grid(True)\n",
    "plt.show()\n"
   ]
  },
  {
   "cell_type": "code",
   "execution_count": 41,
   "id": "c4f7df99-f8b8-42cc-88e7-41acb8257b39",
   "metadata": {
    "execution": {
     "iopub.execute_input": "2024-03-23T23:49:24.549697Z",
     "iopub.status.busy": "2024-03-23T23:49:24.548644Z",
     "iopub.status.idle": "2024-03-23T23:49:24.562458Z",
     "shell.execute_reply": "2024-03-23T23:49:24.561661Z",
     "shell.execute_reply.started": "2024-03-23T23:49:24.549635Z"
    },
    "tags": []
   },
   "outputs": [
    {
     "name": "stdout",
     "output_type": "stream",
     "text": [
      "3.996154541015625\n",
      "5.994833356201649\n"
     ]
    }
   ],
   "source": [
    "K = (1 - 2 * (g_nf[0]-g_nf[1]) / a) / (2 * a)\n",
    "print(K)\n",
    "V2=g_nf[0]/2\n",
    "print((3/2)*K+(1/2)*V2)"
   ]
  },
  {
   "cell_type": "code",
   "execution_count": 41,
   "id": "5537b59a",
   "metadata": {
    "execution": {
     "iopub.execute_input": "2024-03-24T15:00:42.684537Z",
     "iopub.status.busy": "2024-03-24T15:00:42.683378Z",
     "iopub.status.idle": "2024-03-24T15:00:42.709602Z",
     "shell.execute_reply": "2024-03-24T15:00:42.708293Z",
     "shell.execute_reply.started": "2024-03-24T15:00:42.684487Z"
    },
    "tags": []
   },
   "outputs": [
    {
     "name": "stdout",
     "output_type": "stream",
     "text": [
      "8.0K\tlogs\n"
     ]
    }
   ],
   "source": [
    "\n",
    "\n",
    "! du -sh logs\n",
    "\n",
    "\n",
    "\n",
    "\n"
   ]
  },
  {
   "cell_type": "code",
   "execution_count": 40,
   "id": "96e1f7e3-4121-49e9-95f1-06ecbf041f59",
   "metadata": {
    "execution": {
     "iopub.execute_input": "2024-03-24T15:00:37.183186Z",
     "iopub.status.busy": "2024-03-24T15:00:37.182165Z",
     "iopub.status.idle": "2024-03-24T15:00:37.748425Z",
     "shell.execute_reply": "2024-03-24T15:00:37.746802Z",
     "shell.execute_reply.started": "2024-03-24T15:00:37.183148Z"
    },
    "tags": []
   },
   "outputs": [
    {
     "name": "stderr",
     "output_type": "stream",
     "text": [
      "rm: cannot remove 'logs/nf/lightning_logs/version_302': Directory not empty\n",
      "rm: cannot remove 'logs/nf/lightning_logs/version_303': Directory not empty\n"
     ]
    },
    {
     "ename": "Exception",
     "evalue": "Process exited with code 1",
     "output_type": "error",
     "traceback": [
      "\u001b[0;31m---------------------------------------------------------------------------\u001b[0m",
      "\u001b[0;31mException\u001b[0m                                 Traceback (most recent call last)",
      "\u001b[0;32m<ipython-input-40-9b072bd96dfc>\u001b[0m in \u001b[0;36m<module>\u001b[0;34m\u001b[0m\n\u001b[0;32m----> 1\u001b[0;31m \u001b[0mget_ipython\u001b[0m\u001b[0;34m(\u001b[0m\u001b[0;34m)\u001b[0m\u001b[0;34m.\u001b[0m\u001b[0msystem\u001b[0m\u001b[0;34m(\u001b[0m\u001b[0;34m' rm -rf logs'\u001b[0m\u001b[0;34m)\u001b[0m\u001b[0;34m\u001b[0m\u001b[0;34m\u001b[0m\u001b[0m\n\u001b[0m\u001b[1;32m      2\u001b[0m \u001b[0;34m\u001b[0m\u001b[0m\n\u001b[1;32m      3\u001b[0m \u001b[0;31m#\u001b[0m\u001b[0;34m\u001b[0m\u001b[0;34m\u001b[0m\u001b[0m\n",
      "\u001b[0;32m/kernel/lib/python3.10/site-packages/ml_kernel/kernel.py\u001b[0m in \u001b[0;36m<lambda>\u001b[0;34m(code)\u001b[0m\n\u001b[1;32m    274\u001b[0m \u001b[0;34m\u001b[0m\u001b[0m\n\u001b[1;32m    275\u001b[0m         \u001b[0mself\u001b[0m\u001b[0;34m.\u001b[0m\u001b[0m_script_executor\u001b[0m \u001b[0;34m=\u001b[0m \u001b[0mScriptExecutor\u001b[0m\u001b[0;34m(\u001b[0m\u001b[0mget_output_error_code\u001b[0m\u001b[0;34m)\u001b[0m\u001b[0;34m\u001b[0m\u001b[0;34m\u001b[0m\u001b[0m\n\u001b[0;32m--> 276\u001b[0;31m         \u001b[0mself\u001b[0m\u001b[0;34m.\u001b[0m\u001b[0mshell\u001b[0m\u001b[0;34m.\u001b[0m\u001b[0msystem\u001b[0m \u001b[0;34m=\u001b[0m \u001b[0;32mlambda\u001b[0m \u001b[0mcode\u001b[0m\u001b[0;34m:\u001b[0m \u001b[0mself\u001b[0m\u001b[0;34m.\u001b[0m\u001b[0m_script_executor\u001b[0m\u001b[0;34m.\u001b[0m\u001b[0mexecute\u001b[0m\u001b[0;34m(\u001b[0m\u001b[0;34m\"bash\"\u001b[0m\u001b[0;34m,\u001b[0m \u001b[0mcode\u001b[0m\u001b[0;34m)\u001b[0m\u001b[0;34m\u001b[0m\u001b[0;34m\u001b[0m\u001b[0m\n\u001b[0m\u001b[1;32m    277\u001b[0m \u001b[0;34m\u001b[0m\u001b[0m\n\u001b[1;32m    278\u001b[0m     \u001b[0;32mdef\u001b[0m \u001b[0m_init_message_handlers\u001b[0m\u001b[0;34m(\u001b[0m\u001b[0mself\u001b[0m\u001b[0;34m)\u001b[0m\u001b[0;34m:\u001b[0m\u001b[0;34m\u001b[0m\u001b[0;34m\u001b[0m\u001b[0m\n",
      "\u001b[0;32m/kernel/lib/python3.10/site-packages/ml_kernel/script_executor.py\u001b[0m in \u001b[0;36mexecute\u001b[0;34m(self, lang, code)\u001b[0m\n\u001b[1;32m     41\u001b[0m         \u001b[0mreturn_code\u001b[0m \u001b[0;34m=\u001b[0m \u001b[0mself\u001b[0m\u001b[0;34m.\u001b[0m\u001b[0mdo_execute\u001b[0m\u001b[0;34m(\u001b[0m\u001b[0mcode\u001b[0m\u001b[0;34m)\u001b[0m\u001b[0;34m\u001b[0m\u001b[0;34m\u001b[0m\u001b[0m\n\u001b[1;32m     42\u001b[0m         \u001b[0;32mif\u001b[0m \u001b[0mreturn_code\u001b[0m \u001b[0;34m!=\u001b[0m \u001b[0;36m0\u001b[0m\u001b[0;34m:\u001b[0m\u001b[0;34m\u001b[0m\u001b[0;34m\u001b[0m\u001b[0m\n\u001b[0;32m---> 43\u001b[0;31m             \u001b[0;32mraise\u001b[0m \u001b[0mException\u001b[0m\u001b[0;34m(\u001b[0m\u001b[0;34m'Process exited with code %d'\u001b[0m \u001b[0;34m%\u001b[0m \u001b[0mreturn_code\u001b[0m\u001b[0;34m)\u001b[0m\u001b[0;34m\u001b[0m\u001b[0;34m\u001b[0m\u001b[0m\n\u001b[0m",
      "\u001b[0;31mException\u001b[0m: Process exited with code 1"
     ]
    }
   ],
   "source": [
    "! rm -rf logs\n"
   ]
  }
 ],
 "metadata": {
  "kernelspec": {
   "display_name": "Python 3 (ipykernel)",
   "language": "python",
   "name": "python3"
  },
  "language_info": {
   "codemirror_mode": {
    "name": "ipython",
    "version": 3
   },
   "file_extension": ".py",
   "mimetype": "text/x-python",
   "name": "python",
   "nbconvert_exporter": "python",
   "pygments_lexer": "ipython3",
   "version": "3.11.5"
  }
 },
 "nbformat": 4,
 "nbformat_minor": 5
}
