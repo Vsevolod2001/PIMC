{
 "cells": [
  {
   "cell_type": "code",
   "execution_count": 9,
   "id": "dbee9da4",
   "metadata": {
    "execution": {
     "iopub.execute_input": "2024-06-25T23:22:40.982787Z",
     "iopub.status.busy": "2024-06-25T23:22:40.982277Z",
     "iopub.status.idle": "2024-06-25T23:22:44.711544Z",
     "shell.execute_reply": "2024-06-25T23:22:44.710770Z",
     "shell.execute_reply.started": "2024-06-25T23:22:40.982749Z"
    },
    "tags": []
   },
   "outputs": [
    {
     "name": "stderr",
     "output_type": "stream",
     "text": [
      "/usr/local/lib/python3.10/dist-packages/torch/cuda/__init__.py:546: UserWarning: Can't initialize NVML\n",
      "  warnings.warn(\"Can't initialize NVML\")\n"
     ]
    }
   ],
   "source": [
    "from typing import Callable, List, Tuple\n",
    "\n",
    "import pytorch_lightning as pl\n",
    "import torch\n",
    "import torch.nn.functional as F\n",
    "from torch import nn\n",
    "from torch.distributions.distribution import Distribution\n",
    "from pytorch_lightning.loggers import TensorBoardLogger\n",
    "import matplotlib.pyplot as plt\n",
    "import numpy as np\n",
    "device = torch.device(\"cuda\" if torch.cuda.is_available() else \"cpu\")"
   ]
  },
  {
   "cell_type": "code",
   "execution_count": 10,
   "id": "c93eb4f7",
   "metadata": {
    "execution": {
     "iopub.execute_input": "2024-06-25T23:22:45.820517Z",
     "iopub.status.busy": "2024-06-25T23:22:45.819424Z",
     "iopub.status.idle": "2024-06-25T23:22:45.961046Z",
     "shell.execute_reply": "2024-06-25T23:22:45.960126Z",
     "shell.execute_reply.started": "2024-06-25T23:22:45.820457Z"
    },
    "tags": []
   },
   "outputs": [
    {
     "name": "stdout",
     "output_type": "stream",
     "text": [
      "False\n"
     ]
    }
   ],
   "source": [
    "from NFconstants import N_nod, Beta, a, K_nod\n",
    "from NFandist import get_O\n",
    "from NFandist import get_diag\n",
    "from NFandist import get_C\n",
    "from Data import normal_dist\n",
    "\n",
    "def set_random_seed(seed):\n",
    "    torch.manual_seed(seed)\n",
    "O=(torch.tensor(get_O(N_nod)).float()).to(device)\n",
    "Ot=(torch.t(O)).to(device)\n",
    "print(Ot.requires_grad)\n",
    "\n",
    "\n",
    "#C=(torch.tensor(get_C(N_nod,Beta)).float()).to(device)\n",
    "#Ct=(torch.t(C)).to(device)\n",
    "\n",
    "\n"
   ]
  },
  {
   "cell_type": "code",
   "execution_count": 11,
   "id": "b66bc606",
   "metadata": {
    "execution": {
     "iopub.execute_input": "2024-06-25T23:22:46.006851Z",
     "iopub.status.busy": "2024-06-25T23:22:46.005860Z",
     "iopub.status.idle": "2024-06-25T23:22:46.029401Z",
     "shell.execute_reply": "2024-06-25T23:22:46.028495Z",
     "shell.execute_reply.started": "2024-06-25T23:22:46.006811Z"
    },
    "tags": []
   },
   "outputs": [],
   "source": [
    "class AffineCouplingLayer(nn.Module):\n",
    "    def __init__(\n",
    "        self,\n",
    "        theta: nn.Module,\n",
    "        split,\n",
    "        swap: int\n",
    "    ):\n",
    "        super().__init__()\n",
    "        self.theta = theta\n",
    "        self.split = split\n",
    "        self.swap = swap\n",
    "\n",
    "    def g(self, z: torch.Tensor,params=torch.tensor([])) -> torch.Tensor:\n",
    "        \"\"\"g : z -> x. The inverse of f.\"\"\"\n",
    "        mask1=self.split[self.swap]\n",
    "        mask2=self.split[(self.swap+1)%2]\n",
    "        z1, z2 = z[:,mask1], z[:,mask2]\n",
    "        z1=torch.cat((z1,params),dim=-1)\n",
    "        t, s = self.theta(z1)\n",
    "        x2 = z2 * torch.exp(s) + t\n",
    "        log_det = s.sum(-1) \n",
    "        z[:,mask2]=x2\n",
    "        return z, log_det\n",
    "    \"\"\"\n",
    "    def f(self, x: torch.Tensor) -> torch.Tensor:\n",
    "        f : x -> z. The inverse of g.\n",
    "        x2, x1 = self.split(x,self.swap)\n",
    "        t, s = self.theta(x1)\n",
    "        z1, z2 = x1, x2 * torch.exp(s) + t \n",
    "        log_det = s.sum(-1) \n",
    "        return torch.cat((z1, z2), dim=-1), log_det\n",
    "    \"\"\"    "
   ]
  },
  {
   "cell_type": "code",
   "execution_count": 12,
   "id": "537e92e8-6658-4cd1-a7fa-a6f9cbf3747f",
   "metadata": {
    "execution": {
     "iopub.execute_input": "2024-06-25T23:22:46.276507Z",
     "iopub.status.busy": "2024-06-25T23:22:46.275322Z",
     "iopub.status.idle": "2024-06-25T23:22:46.290869Z",
     "shell.execute_reply": "2024-06-25T23:22:46.290153Z",
     "shell.execute_reply.started": "2024-06-25T23:22:46.276453Z"
    },
    "tags": []
   },
   "outputs": [],
   "source": [
    "class D(nn.Linear):\n",
    "    def __init__(self,n):\n",
    "        super().__init__(n,1,bias=False)\n",
    "        self.n=n\n",
    "        self.d_ind=[(n+1)*k for k in range(n)]\n",
    "    \n",
    "    def anti_flatten(self):\n",
    "        n=self.n\n",
    "        D=torch.zeros((n**2)).to(device)\n",
    "        D[self.d_ind]=self.weight.to(device)\n",
    "        D=torch.reshape(D,(n,n)).to(device)\n",
    "        return D        \n",
    "            \n",
    "    def log_abs_det(self):\n",
    "        ABS=torch.abs(self.weight)\n",
    "        l=torch.log(ABS)\n",
    "        lad=torch.sum(l)\n",
    "        return lad\n",
    "    \n",
    "    def forward(self,x):\n",
    "        D=(self.anti_flatten()).to(x.device)\n",
    "        return torch.matmul(x,D)\n",
    "    \n",
    "    def g(self,z,params):\n",
    "        lad=self.log_abs_det()\n",
    "        return self.forward(z),  lad * torch.ones((z.shape[0])).to(z.device)\n",
    "        \n",
    "    def adj(self,mat):\n",
    "        Lw=self.anti_flatten()\n",
    "        Lwt=torch.t(Lw)\n",
    "        D=torch.matmul(Lwt,torch.matmul(mat,Lw))\n",
    "        return D\n",
    "    "
   ]
  },
  {
   "cell_type": "code",
   "execution_count": 13,
   "id": "eee87ce1-a3ea-4a0b-9e0b-4b00779eb17c",
   "metadata": {
    "execution": {
     "iopub.execute_input": "2024-06-25T23:22:46.376025Z",
     "iopub.status.busy": "2024-06-25T23:22:46.374943Z",
     "iopub.status.idle": "2024-06-25T23:22:46.399553Z",
     "shell.execute_reply": "2024-06-25T23:22:46.398893Z",
     "shell.execute_reply.started": "2024-06-25T23:22:46.375991Z"
    },
    "tags": []
   },
   "outputs": [],
   "source": [
    "class CubicCouplingLayer(nn.Module):\n",
    "    def __init__(\n",
    "        self,\n",
    "        theta,\n",
    "        split,\n",
    "        swap: int,\n",
    "        reg=1\n",
    "    ):\n",
    "        super().__init__()\n",
    "        self.theta = theta\n",
    "        self.split = split\n",
    "        self.swap = swap\n",
    "        self.reg=reg\n",
    "        \n",
    "    def g(self, z: torch.Tensor,params=torch.tensor([])) -> torch.Tensor:\n",
    "        \"\"\"g : z -> x. The inverse of f.\"\"\"\n",
    "        mask1=self.split[self.swap]\n",
    "        mask2=self.split[(self.swap+1)%2]\n",
    "        z1, z2 = z[:,mask1], z[:,mask2]\n",
    "        z1=torch.cat((z1,params),dim=-1)\n",
    "        t, s = self.theta(z1)\n",
    "        x2 = z2 + torch.exp(s-self.reg) * (z2) ** 3 + t\n",
    "        log_det = (torch.log(1+3 * torch.exp(s-self.reg) * (z2) ** 2)).sum(-1)\n",
    "        z[:,mask2]=x2\n",
    "        return z, log_det    \n",
    "\n"
   ]
  },
  {
   "cell_type": "code",
   "execution_count": 14,
   "id": "f446e228",
   "metadata": {
    "execution": {
     "iopub.execute_input": "2024-06-25T23:22:46.465683Z",
     "iopub.status.busy": "2024-06-25T23:22:46.464860Z",
     "iopub.status.idle": "2024-06-25T23:22:46.480740Z",
     "shell.execute_reply": "2024-06-25T23:22:46.479948Z",
     "shell.execute_reply.started": "2024-06-25T23:22:46.465643Z"
    },
    "tags": []
   },
   "outputs": [],
   "source": [
    "def get_split_masks(dim=N_nod):\n",
    "    mask1=list(range(0,dim,2))\n",
    "    mask2=list(range(1,dim,2))\n",
    "    split_masks=[mask1,mask2]\n",
    "    return split_masks\n",
    "    "
   ]
  },
  {
   "cell_type": "code",
   "execution_count": 15,
   "id": "7df6bec4-7cc4-43bd-b701-0b10d9341203",
   "metadata": {
    "execution": {
     "iopub.execute_input": "2024-06-25T23:22:47.148092Z",
     "iopub.status.busy": "2024-06-25T23:22:47.147094Z",
     "iopub.status.idle": "2024-06-25T23:22:47.160191Z",
     "shell.execute_reply": "2024-06-25T23:22:47.159484Z",
     "shell.execute_reply.started": "2024-06-25T23:22:47.148039Z"
    },
    "tags": []
   },
   "outputs": [],
   "source": [
    "def get_pair_split_masks(dim=N_nod):\n",
    "    mask1=list(range(0,dim,4))\n",
    "    mask2=list(range(2,dim,4))\n",
    "    mask1=(mask1+list(map(lambda x:x+1,mask1)))\n",
    "    mask2=(mask2+list(map(lambda x:x+1,mask2)))\n",
    "    mask1.sort()\n",
    "    mask2.sort()\n",
    "    split_masks=[mask1,mask2]\n",
    "    return split_masks"
   ]
  },
  {
   "cell_type": "code",
   "execution_count": 16,
   "id": "89e2e80d-b8ae-4511-972d-8c966b1803f6",
   "metadata": {
    "execution": {
     "iopub.execute_input": "2024-06-25T23:22:47.184323Z",
     "iopub.status.busy": "2024-06-25T23:22:47.183467Z",
     "iopub.status.idle": "2024-06-25T23:22:47.218214Z",
     "shell.execute_reply": "2024-06-25T23:22:47.217498Z",
     "shell.execute_reply.started": "2024-06-25T23:22:47.184286Z"
    },
    "tags": []
   },
   "outputs": [],
   "source": [
    "class ThetaNetwork(nn.Module):\n",
    "    def __init__(\n",
    "        self,\n",
    "        in_dim: int,\n",
    "        out_dim: int,\n",
    "        num_hidden: int,\n",
    "        hidden_dim: int,\n",
    "        num_params: int,\n",
    "        p_drop: float,\n",
    "    ):\n",
    "        super().__init__()\n",
    "        self.input = nn.Linear(in_dim, hidden_dim)\n",
    "        self.hidden = nn.ModuleList(\n",
    "            [nn.Sequential(\n",
    "                nn.Linear(hidden_dim, hidden_dim),\n",
    "                nn.Dropout(p=p_drop),\n",
    "                nn.LayerNorm(hidden_dim)\n",
    "            ) for _ in range(num_hidden)]\n",
    "        )\n",
    "\n",
    "        self.num_params = num_params\n",
    "        self.out_dim = out_dim\n",
    "        self.dims = nn.Linear(hidden_dim, out_dim * num_params)\n",
    "        \n",
    "    def configure_theta(num_hidden,hidden_dim,p_drop,in_dim=N_nod//2,out_dim=N_nod//2):\n",
    "        theta=ThetaNetwork(\n",
    "                in_dim = in_dim,\n",
    "                out_dim = out_dim,\n",
    "                num_hidden = num_hidden,  #2 to 6\n",
    "                hidden_dim = hidden_dim , #100-1024\n",
    "                num_params = 2,\n",
    "                p_drop=p_drop,\n",
    "        )\n",
    "        return theta    \n",
    "\n",
    "    def forward(self, x: torch.Tensor) -> torch.Tensor:\n",
    "        x = F.leaky_relu(self.input(x),negative_slope=0.01)\n",
    "        for h in self.hidden:\n",
    "            x = F.leaky_relu(h(x),negative_slope=0.01)\n",
    "\n",
    "        batch_params = self.dims(x).reshape(x.size(0), self.out_dim, -1) \n",
    "        params = batch_params.chunk(self.num_params, dim=-1) \n",
    "        return [p.squeeze(-1) for p in params]"
   ]
  },
  {
   "cell_type": "code",
   "execution_count": 17,
   "id": "f17f095c",
   "metadata": {
    "execution": {
     "iopub.execute_input": "2024-06-25T23:22:47.403729Z",
     "iopub.status.busy": "2024-06-25T23:22:47.402668Z",
     "iopub.status.idle": "2024-06-25T23:22:47.425221Z",
     "shell.execute_reply": "2024-06-25T23:22:47.424322Z",
     "shell.execute_reply.started": "2024-06-25T23:22:47.403673Z"
    },
    "tags": []
   },
   "outputs": [
    {
     "data": {
      "text/plain": [
       "'\\n    def g_steps(self, z: torch.Tensor) -> List[torch.Tensor]:\\n        Maps latent variable z to observation x\\n        and stores intermediate results.\\n        \\n        xs = [z]\\n        for flow in reversed(self.flows):\\n            xs.append(flow.g(xs[-1]))\\n        return xs\\n\\n    \\n    def latent_log_prob(self, z: torch.Tensor) -> torch.Tensor:\\n        llp=self.latent.log_prob(z)\\n        sum_llp= torch.sum(llp,axis=-1)\\n        return sum_llp\\n \\n    \\n    def f(self, x: torch.Tensor) -> Tuple[torch.Tensor, torch.Tensor]:  #forward\\n        Maps observation x to latent variable z.\\n        Additionally, computes the log determinant\\n        of the Jacobian for this transformation.\\n        Inveres of g.\\n        \\n        z, sum_log_abs_det = x, torch.ones(x.size(0)).to(x.device)\\n        for flow in self.flows:\\n            z, log_abs_det = flow.f(z)\\n            sum_log_abs_det += log_abs_det\\n\\n        return z, sum_log_abs_det\\n'"
      ]
     },
     "execution_count": 17,
     "metadata": {},
     "output_type": "execute_result"
    }
   ],
   "source": [
    "class NormalizingFlow(nn.Module):\n",
    "    \n",
    "    def __init__(self, latent: Distribution, flows: List[nn.Module], conv_flows = [], ort=False):\n",
    "        super().__init__()\n",
    "        self.latent = latent\n",
    "        self.flows = flows\n",
    "        self.ort = ort\n",
    "        self.conv_flows = conv_flows\n",
    "        \n",
    "    def configure_flows(n_flows,num_hidden,hidden_dim,p_drop,dim=N_nod,param_dim=0):  # n_flows=8,...,12\n",
    "        flows = []\n",
    "        split_masks_d = get_pair_split_masks(dim)\n",
    "        #split_masks_d = get_split_masks(dim)\n",
    "    \n",
    "        for k in range(n_flows):\n",
    "            theta = ThetaNetwork.configure_theta( num_hidden = num_hidden, hidden_dim = hidden_dim, p_drop=p_drop ,in_dim = dim//2+param_dim,out_dim = dim//2)\n",
    "            flows.append(AffineCouplingLayer(theta,split=split_masks_d,swap=k%2))\n",
    "   \n",
    "        flows = nn.ModuleList(flows)\n",
    "        return flows     \n",
    "\n",
    "    def latent_sample(self, num_samples: int = 1) -> torch.Tensor:\n",
    "        z=self.latent.sample((num_samples,))\n",
    "        return z        \n",
    "\n",
    "    def sample(self, num_samples: int = 1) -> torch.Tensor:\n",
    "        \"\"\"Sample a new observation x by sampling z from\n",
    "        the latent distribution and pass through g.\"\"\"\n",
    "        z=(self.latent_sample(num_samples))\n",
    "        with torch.no_grad():\n",
    "            x, _ = self.g(z)\n",
    "        return x \n",
    "    \n",
    "\n",
    "    def g(self, z: torch.Tensor,params=torch.tensor([])) -> torch.Tensor:\n",
    "        \n",
    "        #x, sum_log_abs_det = z, torch.ones(z.size(0)).to(z.device)\n",
    "        x, sum_log_abs_det = z, torch.zeros(z.size(0)).to(z.device)\n",
    "        for flow in reversed(self.flows):\n",
    "            x, log_abs_det = flow.g(x,params)\n",
    "            sum_log_abs_det += log_abs_det\n",
    "        \n",
    "        if self.ort:\n",
    "            x=torch.matmul(x,Ot.to(x.device))\n",
    "        \n",
    "        #x=x*a    \n",
    "        \n",
    "        for flow in reversed(self.conv_flows):\n",
    "            x, log_abs_det = flow.g(x)\n",
    "            sum_log_abs_det += log_abs_det\n",
    "        return x, sum_log_abs_det\n",
    "    \n",
    "        \n",
    "    def __len__(self) -> int:\n",
    "        return len(self.flows)\n",
    "    \n",
    " \n",
    "\"\"\"\n",
    "    def g_steps(self, z: torch.Tensor) -> List[torch.Tensor]:\n",
    "        Maps latent variable z to observation x\n",
    "        and stores intermediate results.\n",
    "        \n",
    "        xs = [z]\n",
    "        for flow in reversed(self.flows):\n",
    "            xs.append(flow.g(xs[-1]))\n",
    "        return xs\n",
    "\n",
    "    \n",
    "    def latent_log_prob(self, z: torch.Tensor) -> torch.Tensor:\n",
    "        llp=self.latent.log_prob(z)\n",
    "        sum_llp= torch.sum(llp,axis=-1)\n",
    "        return sum_llp\n",
    " \n",
    "    \n",
    "    def f(self, x: torch.Tensor) -> Tuple[torch.Tensor, torch.Tensor]:  #forward\n",
    "        Maps observation x to latent variable z.\n",
    "        Additionally, computes the log determinant\n",
    "        of the Jacobian for this transformation.\n",
    "        Inveres of g.\n",
    "        \n",
    "        z, sum_log_abs_det = x, torch.ones(x.size(0)).to(x.device)\n",
    "        for flow in self.flows:\n",
    "            z, log_abs_det = flow.f(z)\n",
    "            sum_log_abs_det += log_abs_det\n",
    "\n",
    "        return z, sum_log_abs_det\n",
    "\"\"\"\n",
    "    "
   ]
  },
  {
   "cell_type": "code",
   "execution_count": 18,
   "id": "daa2897f",
   "metadata": {
    "execution": {
     "iopub.execute_input": "2024-06-25T23:22:47.450155Z",
     "iopub.status.busy": "2024-06-25T23:22:47.449080Z",
     "iopub.status.idle": "2024-06-25T23:22:47.489045Z",
     "shell.execute_reply": "2024-06-25T23:22:47.488120Z",
     "shell.execute_reply.started": "2024-06-25T23:22:47.450110Z"
    },
    "tags": []
   },
   "outputs": [],
   "source": [
    "class RGflows(nn.Module):\n",
    "    \n",
    "    def __init__(self,latent: Distribution ,nflist, masks, n_flows_dict,num_hidden_dict,hidden_dim_dict):\n",
    "        super().__init__()\n",
    "        self.latent = latent\n",
    "        self.nflist = nflist\n",
    "        self.masks = masks\n",
    "        self.n_flows_dict = n_flows_dict\n",
    "        self.num_hidden_dict = num_hidden_dict\n",
    "        self.hidden_dim_dict = hidden_dim_dict\n",
    "        \n",
    "    def configure_RG_flows(masks,n_flows_dict,num_hidden_dict,hidden_dim_dict,p_drop=0):  \n",
    "        nflist=[]\n",
    "        dim = len(masks[0])\n",
    "        param_dim = 0\n",
    "        for k in range(len(masks)):\n",
    "            flows =  NormalizingFlow.configure_flows(n_flows = n_flows_dict[dim] , num_hidden = num_hidden_dict[dim] , hidden_dim = hidden_dim_dict[dim], dim = dim , param_dim = param_dim, p_drop = p_drop)\n",
    "            nflist.append(NormalizingFlow(latent=normal_dist,flows=flows,ort=False))\n",
    "            param_dim += dim \n",
    "            if k!=0: dim *= 2 \n",
    "        nflist = nn.ModuleList(nflist)        \n",
    "        return nflist    \n",
    "        \n",
    "    def configure_RG_model(latent,masks,n_flows_dict, num_hidden_dict,hidden_dim_dict,p_drop=0):\n",
    "        flows=RGflows.configure_RG_flows(masks,n_flows_dict,num_hidden_dict,hidden_dim_dict,p_drop=p_drop)\n",
    "        return RGflows(latent,flows,RGmasks,n_flows_dict,num_hidden_dict,hidden_dim_dict)\n",
    "    \n",
    "    def save(self,filename):\n",
    "        state_dict = self.state_dict()\n",
    "        model_dict={\"state_dict\":state_dict,\n",
    "                    \"n_flows_dict\":self.n_flows_dict,\n",
    "                    \"num_hidden_dict\":self.num_hidden_dict,\n",
    "                    \"hidden_dim_dict\":self.hidden_dim_dict,\n",
    "                    \"masks\":self.masks}\n",
    "        torch.save(model_dict,filename)\n",
    "    \n",
    "    def load_model(filename):   \n",
    "        model_dict = torch.load(filename,map_location = device)\n",
    "        model=RGflows.configure_RG_model(normal_dist,\n",
    "                                  model_dict[\"masks\"],\n",
    "                                  model_dict[\"n_flows_dict\"], \n",
    "                                  model_dict[\"num_hidden_dict\"],\n",
    "                                  model_dict[\"hidden_dim_dict\"],\n",
    "                                  p_drop=0)\n",
    "        model.load_state_dict(model_dict[\"state_dict\"])\n",
    "        return model\n",
    "        \n",
    "\n",
    "    def latent_sample(self, num_samples: int = 1) -> torch.Tensor:\n",
    "        z=self.latent.sample((num_samples,))\n",
    "        return z        \n",
    "\n",
    "    def sample(self, num_samples: int = 1) -> torch.Tensor:\n",
    "        \"\"\"Sample a new observation x by sampling z from\n",
    "        the latent distribution and pass through g.\"\"\"\n",
    "        z=(self.latent_sample(num_samples))\n",
    "        with torch.no_grad():\n",
    "            x, _ = self.g(z)\n",
    "        return x \n",
    "    \n",
    "\n",
    "    def g(self, z: torch.Tensor,params=torch.tensor([])) -> torch.Tensor:\n",
    "        \n",
    "        sum_log_abs_det = torch.zeros(z.size(0)).to(z.device)\n",
    "        params=torch.tensor([]).to(z.device)\n",
    "        for i in range(len(self.nflist)):\n",
    "            x=z[:,self.masks[i]]\n",
    "            x, log_abs_det = ((self.nflist)[i]).g(x,params)\n",
    "            sum_log_abs_det += log_abs_det\n",
    "            params=torch.cat((params,x.detach()),dim=-1)\n",
    "            z[:,self.masks[i]]=x\n",
    "        z = torch.matmul(z,Ot.to(z.device))    \n",
    "        return z, sum_log_abs_det\n",
    "    \n",
    "        \n",
    "    def __len__(self) -> int:\n",
    "        return len(self.flows)\n",
    "    \n",
    "    def forward(self,z):\n",
    "        with torch.no_grad():\n",
    "            t=(z.clone()).to(z.device)\n",
    "            x, log_abs_det=self.g(t)\n",
    "            log_abs_det=log_abs_det.detach().to(z.device)\n",
    "        return x, log_abs_det\n",
    "    \n",
    " \n",
    "\n",
    "    "
   ]
  },
  {
   "cell_type": "code",
   "execution_count": 19,
   "id": "ecfb49bb-c237-4ff3-bc12-1d433d22e849",
   "metadata": {
    "execution": {
     "iopub.execute_input": "2024-06-25T23:22:47.534861Z",
     "iopub.status.busy": "2024-06-25T23:22:47.533796Z",
     "iopub.status.idle": "2024-06-25T23:22:47.551626Z",
     "shell.execute_reply": "2024-06-25T23:22:47.550796Z",
     "shell.execute_reply.started": "2024-06-25T23:22:47.534822Z"
    },
    "tags": []
   },
   "outputs": [],
   "source": [
    "def get_points(start,stop,step):\n",
    "    if step == 0:\n",
    "        print(\"step = 0 error\")\n",
    "        return 1\n",
    "    x=start\n",
    "    Y=[]\n",
    "    while x < stop:\n",
    "        Y.append(x)\n",
    "        Y.append(x+1)\n",
    "        x += step\n",
    "    return Y\n",
    "\n",
    "\n",
    "def config_RG_masks(m,n_nod):\n",
    "    masks = []\n",
    "    start = 0\n",
    "    step = n_nod // (2 ** (m-1))\n",
    "    tmp = get_points(start,n_nod,step)\n",
    "    masks.append(tmp)\n",
    "    if n_nod == 2 ** m:\n",
    "        return masks\n",
    "    start = step//2\n",
    "    masks.append(get_points(start,n_nod,step))\n",
    "    while step > 4:\n",
    "        step //= 2\n",
    "        start = step//2\n",
    "        masks.append(get_points(start,n_nod,step))\n",
    "    return masks\n",
    "    "
   ]
  },
  {
   "cell_type": "code",
   "execution_count": 20,
   "id": "dfda85d4-e4b8-4687-94fc-cfeb66265c79",
   "metadata": {
    "execution": {
     "iopub.execute_input": "2024-06-25T23:22:47.557287Z",
     "iopub.status.busy": "2024-06-25T23:22:47.556285Z",
     "iopub.status.idle": "2024-06-25T23:22:47.570205Z",
     "shell.execute_reply": "2024-06-25T23:22:47.569575Z",
     "shell.execute_reply.started": "2024-06-25T23:22:47.557251Z"
    },
    "tags": []
   },
   "outputs": [],
   "source": [
    "RGmasks = config_RG_masks(3,N_nod)"
   ]
  },
  {
   "cell_type": "code",
   "execution_count": 21,
   "id": "e8056833-22ec-4f32-bd8e-09c30cdb01af",
   "metadata": {
    "execution": {
     "iopub.execute_input": "2024-06-25T23:22:47.594256Z",
     "iopub.status.busy": "2024-06-25T23:22:47.593436Z",
     "iopub.status.idle": "2024-06-25T23:22:47.645448Z",
     "shell.execute_reply": "2024-06-25T23:22:47.644570Z",
     "shell.execute_reply.started": "2024-06-25T23:22:47.594220Z"
    },
    "tags": []
   },
   "outputs": [
    {
     "name": "stdout",
     "output_type": "stream",
     "text": [
      "[[0, 1, 64, 65, 128, 129, 192, 193], [32, 33, 96, 97, 160, 161, 224, 225], [16, 17, 48, 49, 80, 81, 112, 113, 144, 145, 176, 177, 208, 209, 240, 241], [8, 9, 24, 25, 40, 41, 56, 57, 72, 73, 88, 89, 104, 105, 120, 121, 136, 137, 152, 153, 168, 169, 184, 185, 200, 201, 216, 217, 232, 233, 248, 249], [4, 5, 12, 13, 20, 21, 28, 29, 36, 37, 44, 45, 52, 53, 60, 61, 68, 69, 76, 77, 84, 85, 92, 93, 100, 101, 108, 109, 116, 117, 124, 125, 132, 133, 140, 141, 148, 149, 156, 157, 164, 165, 172, 173, 180, 181, 188, 189, 196, 197, 204, 205, 212, 213, 220, 221, 228, 229, 236, 237, 244, 245, 252, 253], [2, 3, 6, 7, 10, 11, 14, 15, 18, 19, 22, 23, 26, 27, 30, 31, 34, 35, 38, 39, 42, 43, 46, 47, 50, 51, 54, 55, 58, 59, 62, 63, 66, 67, 70, 71, 74, 75, 78, 79, 82, 83, 86, 87, 90, 91, 94, 95, 98, 99, 102, 103, 106, 107, 110, 111, 114, 115, 118, 119, 122, 123, 126, 127, 130, 131, 134, 135, 138, 139, 142, 143, 146, 147, 150, 151, 154, 155, 158, 159, 162, 163, 166, 167, 170, 171, 174, 175, 178, 179, 182, 183, 186, 187, 190, 191, 194, 195, 198, 199, 202, 203, 206, 207, 210, 211, 214, 215, 218, 219, 222, 223, 226, 227, 230, 231, 234, 235, 238, 239, 242, 243, 246, 247, 250, 251, 254, 255]]\n"
     ]
    }
   ],
   "source": [
    "print(RGmasks)"
   ]
  },
  {
   "cell_type": "code",
   "execution_count": 22,
   "id": "5401fb59",
   "metadata": {
    "execution": {
     "iopub.execute_input": "2024-06-25T23:22:48.052007Z",
     "iopub.status.busy": "2024-06-25T23:22:48.051167Z",
     "iopub.status.idle": "2024-06-25T23:22:48.082311Z",
     "shell.execute_reply": "2024-06-25T23:22:48.081575Z",
     "shell.execute_reply.started": "2024-06-25T23:22:48.051969Z"
    },
    "tags": []
   },
   "outputs": [],
   "source": [
    "class Pipeline(pl.LightningModule):\n",
    "    def __init__(\n",
    "        self,\n",
    "        model,\n",
    "        criterion,\n",
    "        optimizer_class=torch.optim.Adam,\n",
    "        optimizer_kwargs={\"lr\": 0.001,\"weight_decay\": 0}\n",
    "    ) -> None:\n",
    "        super().__init__()\n",
    "        self.model = model\n",
    "        self.loss = criterion\n",
    "        self.optimizer_class = optimizer_class\n",
    "        self.optimizer_kwargs = optimizer_kwargs\n",
    "\n",
    "    \"\"\"\n",
    "    def configure_optimizers(self):\n",
    "        optimizer = self.optimizer_class(\n",
    "            self.model.parameters(), **self.optimizer_kwargs\n",
    "        )\n",
    "        return optimizer\n",
    "    \"\"\"\n",
    "    \n",
    "    def configure_optimizers(self):\n",
    "        optimizer = self.optimizer_class(\n",
    "            self.model.parameters(), **self.optimizer_kwargs\n",
    "        )\n",
    "        \n",
    "        \n",
    "        scheduler = torch.optim.lr_scheduler.ReduceLROnPlateau(\n",
    "            optimizer=optimizer,\n",
    "            min_lr=1e-9,\n",
    "            factor=0.5,\n",
    "            mode=\"min\",\n",
    "            threshold=0.1,\n",
    "            patience = 1,\n",
    "            verbose=True,\n",
    "        )\n",
    "\n",
    "        lr_scheduler = {\n",
    "            \"scheduler\": scheduler,\n",
    "            \"interval\": \"epoch\",\n",
    "            \"monitor\": \"train_loss\",\n",
    "        }\n",
    "        return [optimizer], [lr_scheduler]\n",
    "\n",
    "    def training_step(self, batch, batch_idx):\n",
    "        z = batch\n",
    "        x, log_abs_det = self.model.g(z)\n",
    "        loss = self.loss(x,log_abs_det)\n",
    "        self.log('train_loss', loss, prog_bar=True)\n",
    "        return loss\n",
    "\n",
    "\n",
    "    def on_train_epoch_end(self):\n",
    "        #print(\"---------------------------end epoch---------------------------------\")\n",
    "        pass\n",
    "    \n",
    "    def on_validation_end(self) -> None:\n",
    "        if not self.automatic_optimization:\n",
    "            # Save a checkpoint of the model\n",
    "            ckpt_path = os.path.join(self.trainer.log_dir, 'checkpoints', 'ckpt.pt')\n",
    "            self.trainer.save_checkpoint(ckpt_path, weights_only=True)\n",
    "        return super().on_validation_end()\n",
    "    \n",
    "    "
   ]
  },
  {
   "cell_type": "code",
   "execution_count": 23,
   "id": "3857c540-6428-46f4-ac0a-31aa76f83ad2",
   "metadata": {
    "execution": {
     "iopub.execute_input": "2024-06-25T23:22:48.428882Z",
     "iopub.status.busy": "2024-06-25T23:22:48.427853Z",
     "iopub.status.idle": "2024-06-25T23:22:48.544010Z",
     "shell.execute_reply": "2024-06-25T23:22:48.543243Z",
     "shell.execute_reply.started": "2024-06-25T23:22:48.428842Z"
    },
    "tags": []
   },
   "outputs": [],
   "source": [
    "from NFoscillator import Oscillator\n",
    "from NFrel_oscillator import Rel_Oscillator\n",
    "from NFur_oscillator import Ur_Oscillator\n",
    "from NFx4 import X4\n",
    "from NFMorse import Morse\n",
    "from NFrel_Morse import Rel_Morse\n",
    "from NFrel_Columb import Rel_Columb\n",
    "from NFnonrel_Columb import NonRel_Columb\n",
    "from NFbadur_oscillator import BadUr_Oscillator\n",
    "from NFtwowells import Two_wells\n",
    "from NFcircle import Circle\n",
    "from NFrel_twowells import Rel_two_wells \n",
    "\n",
    "osc=Oscillator(N_nod,Beta)\n",
    "KL_osc=osc.get_KL()\n",
    "\n",
    "rel1=Rel_Oscillator(N_nod,Beta,sigma=1)\n",
    "KL_rel1=rel1.get_KL()\n",
    "\n",
    "ur=Ur_Oscillator(N_nod,Beta)\n",
    "KL_ur=ur.get_KL()\n",
    "\n",
    "rel_columb=Rel_Columb(N_nod,Beta,alpha=1,R=1)\n",
    "KL_rel_columb=rel_columb.get_KL()\n",
    "\n",
    "tw = Two_wells(N_nod,Beta,g=1,x0=1.41)\n",
    "KL_tw = tw.get_KL()\n",
    "\n",
    "\n",
    "morse = Morse(N_nod,Beta,alpha=1)\n",
    "KL_morse = morse.get_KL()\n",
    "\n",
    "circ = Circle(N_nod,Beta,g=1,x0=4)\n",
    "KL_circ = circ.get_KL()\n",
    "\n",
    "rel_morse = Rel_Morse(N_nod,Beta,m=1,alpha=1)\n",
    "KL_rel_morse = rel_morse.get_KL()\n",
    "\n",
    "rel_tw = Rel_two_wells(N_nod,Beta,m=1,g=1,x0=1.41)\n",
    "KL_rel_tw = rel_tw.get_KL()\n",
    "\n",
    "KL_rel001=Rel_Oscillator(N_nod,Beta,sigma=0.01).get_KL()\n",
    "KL_rel01=Rel_Oscillator(N_nod,Beta,sigma=0.1).get_KL()\n",
    "KL_rel10=Rel_Oscillator(N_nod,Beta,sigma=10).get_KL()\n",
    "KL_rel29=Rel_Oscillator(N_nod,Beta,sigma = 2 ** 9).get_KL()\n",
    "KL_X4=X4(N_nod,Beta,g=0.05).get_KL()\n",
    "KL_rel_morse=Rel_Morse(N_nod,Beta,alpha=1,m=1000).get_KL()\n",
    "KL_nonrel_columb=NonRel_Columb(N_nod,Beta,alpha=1,R=1).get_KL()\n"
   ]
  },
  {
   "cell_type": "code",
   "execution_count": 24,
   "id": "648fcf72-c0d1-4949-8b40-ef14fec703fc",
   "metadata": {
    "execution": {
     "iopub.execute_input": "2024-06-25T23:22:48.709545Z",
     "iopub.status.busy": "2024-06-25T23:22:48.708524Z",
     "iopub.status.idle": "2024-06-25T23:22:48.738119Z",
     "shell.execute_reply": "2024-06-25T23:22:48.737327Z",
     "shell.execute_reply.started": "2024-06-25T23:22:48.709507Z"
    },
    "tags": []
   },
   "outputs": [],
   "source": [
    "class KL_mix(nn.Module):\n",
    "    \n",
    "    def __init__(self,KL1,KL2,alpha=0.5):\n",
    "        super().__init__()\n",
    "        self.KL1 = KL1\n",
    "        self.KL2 = KL2\n",
    "        self.alpha = alpha\n",
    "    \n",
    "    def forward(self,x,log_abs_det):\n",
    "        n_nod = x.shape[1]\n",
    "        N2 = self.KL2.n_nod\n",
    "        step = n_nod//N2\n",
    "        x1 = x[:,::step]\n",
    "        loss = (1-self.alpha) * self.KL1(x,log_abs_det) + self.alpha * self.KL2(x1,log_abs_det) \n",
    "        return loss"
   ]
  },
  {
   "cell_type": "code",
   "execution_count": 25,
   "id": "60963319-2182-41db-a2ad-9f7d2984de49",
   "metadata": {
    "execution": {
     "iopub.execute_input": "2024-06-25T23:22:49.446274Z",
     "iopub.status.busy": "2024-06-25T23:22:49.445238Z",
     "iopub.status.idle": "2024-06-25T23:22:49.481650Z",
     "shell.execute_reply": "2024-06-25T23:22:49.480860Z",
     "shell.execute_reply.started": "2024-06-25T23:22:49.446243Z"
    },
    "tags": []
   },
   "outputs": [],
   "source": [
    "rel8=Rel_Oscillator(8,Beta,sigma=1)\n",
    "KL8=rel8.get_KL()\n",
    "KL_rel_mix=KL_mix(KL_rel1,KL8,0.35)"
   ]
  },
  {
   "cell_type": "code",
   "execution_count": 26,
   "id": "b7023b6e-8c8c-473c-a8d8-08bcc7f9f8be",
   "metadata": {
    "execution": {
     "iopub.execute_input": "2024-06-25T23:22:49.687224Z",
     "iopub.status.busy": "2024-06-25T23:22:49.686225Z",
     "iopub.status.idle": "2024-06-25T23:22:49.714577Z",
     "shell.execute_reply": "2024-06-25T23:22:49.713809Z",
     "shell.execute_reply.started": "2024-06-25T23:22:49.687182Z"
    },
    "tags": []
   },
   "outputs": [],
   "source": [
    "ur8=Ur_Oscillator(8,Beta)\n",
    "KLur8=ur8.get_KL()\n",
    "KL_ur_mix=KL_mix(KL_ur,KLur8,0.35)"
   ]
  },
  {
   "cell_type": "code",
   "execution_count": 27,
   "id": "9aa35ab4-6561-47c3-a06c-36db2dcff138",
   "metadata": {
    "execution": {
     "iopub.execute_input": "2024-06-25T23:22:50.502379Z",
     "iopub.status.busy": "2024-06-25T23:22:50.501359Z",
     "iopub.status.idle": "2024-06-25T23:22:50.550457Z",
     "shell.execute_reply": "2024-06-25T23:22:50.549698Z",
     "shell.execute_reply.started": "2024-06-25T23:22:50.502337Z"
    },
    "tags": []
   },
   "outputs": [],
   "source": [
    "col8=Rel_Columb(8,Beta,alpha=1,R=1)\n",
    "KLcol8=col8.get_KL()\n",
    "KL_rel_columb_mix=KL_mix(KL_rel_columb,KLcol8,0.35)"
   ]
  },
  {
   "cell_type": "code",
   "execution_count": 28,
   "id": "eae42727-7687-48fe-841a-c2e24320095f",
   "metadata": {
    "execution": {
     "iopub.execute_input": "2024-06-25T23:22:50.856742Z",
     "iopub.status.busy": "2024-06-25T23:22:50.855458Z",
     "iopub.status.idle": "2024-06-25T23:22:50.878104Z",
     "shell.execute_reply": "2024-06-25T23:22:50.877355Z",
     "shell.execute_reply.started": "2024-06-25T23:22:50.856695Z"
    },
    "tags": []
   },
   "outputs": [],
   "source": [
    "hidden_dim_dict1={8:8,16:16,32:32,64:64,128:128,256:256}\n",
    "n_flows_dict1={8:8,16:12,32:12,64:16,128:16,256:32}\n",
    "num_hidden_dict1={8:6,16:6,32:12,64:12,128:16,256:32}"
   ]
  },
  {
   "cell_type": "code",
   "execution_count": 29,
   "id": "337b378e-d6ef-4e8a-bf39-afc666a4549a",
   "metadata": {
    "execution": {
     "iopub.execute_input": "2024-06-25T23:22:51.706144Z",
     "iopub.status.busy": "2024-06-25T23:22:51.704978Z",
     "iopub.status.idle": "2024-06-25T23:22:51.737489Z",
     "shell.execute_reply": "2024-06-25T23:22:51.736791Z",
     "shell.execute_reply.started": "2024-06-25T23:22:51.706098Z"
    },
    "tags": []
   },
   "outputs": [],
   "source": [
    "hidden_dim_dict2={8:8,16:16,32:16}\n",
    "n_flows_dict2={8:16,16:16,32:16}\n",
    "num_hidden_dict2={8:16,16:16,32:16}"
   ]
  },
  {
   "cell_type": "code",
   "execution_count": 30,
   "id": "cce733be-2ff0-424e-b95e-e9447d4c2293",
   "metadata": {
    "execution": {
     "iopub.execute_input": "2024-06-25T23:22:52.766463Z",
     "iopub.status.busy": "2024-06-25T23:22:52.765484Z",
     "iopub.status.idle": "2024-06-25T23:22:52.779407Z",
     "shell.execute_reply": "2024-06-25T23:22:52.778616Z",
     "shell.execute_reply.started": "2024-06-25T23:22:52.766425Z"
    },
    "tags": []
   },
   "outputs": [],
   "source": [
    "hidden_dim_dict3 = {2:8}\n",
    "n_flows_dict3 = {2:4}\n",
    "num_hidden_dict3 = {2:8}"
   ]
  },
  {
   "cell_type": "code",
   "execution_count": 24,
   "id": "558e4bef",
   "metadata": {
    "execution": {
     "iopub.execute_input": "2024-06-18T23:12:15.010968Z",
     "iopub.status.busy": "2024-06-18T23:12:15.009951Z",
     "iopub.status.idle": "2024-06-18T23:13:39.148332Z",
     "shell.execute_reply": "2024-06-18T23:13:39.147205Z",
     "shell.execute_reply.started": "2024-06-18T23:12:15.010920Z"
    },
    "tags": []
   },
   "outputs": [
    {
     "name": "stderr",
     "output_type": "stream",
     "text": [
      "GPU available: True (cuda), used: True\n",
      "TPU available: False, using: 0 TPU cores\n",
      "IPU available: False, using: 0 IPUs\n",
      "HPU available: False, using: 0 HPUs\n",
      "2024-06-18 23:12:19.226479: I tensorflow/core/util/port.cc:110] oneDNN custom operations are on. You may see slightly different numerical results due to floating-point round-off errors from different computation orders. To turn them off, set the environment variable `TF_ENABLE_ONEDNN_OPTS=0`.\n",
      "2024-06-18 23:12:21.214875: I tensorflow/core/platform/cpu_feature_guard.cc:182] This TensorFlow binary is optimized to use available CPU instructions in performance-critical operations.\n",
      "To enable the following instructions: AVX2 AVX512F AVX512_VNNI FMA, in other operations, rebuild TensorFlow with the appropriate compiler flags.\n",
      "2024-06-18 23:12:26.090746: W tensorflow/compiler/tf2tensorrt/utils/py_utils.cc:38] TF-TRT Warning: Could not find TensorRT\n",
      "LOCAL_RANK: 0 - CUDA_VISIBLE_DEVICES: [0]\n",
      "\n",
      "  | Name  | Type      | Params\n",
      "------------------------------------\n",
      "0 | model | RGflows   | 6.2 M \n",
      "1 | loss  | KL_with_S | 0     \n",
      "------------------------------------\n",
      "6.2 M     Trainable params\n",
      "0         Non-trainable params\n",
      "6.2 M     Total params\n",
      "24.699    Total estimated model params size (MB)\n"
     ]
    },
    {
     "name": "stdout",
     "output_type": "stream",
     "text": [
      "Epoch 0:  17%|█▋        | 176/1024 [01:02<05:00,  2.83it/s, v_num=725, train_loss=42.10]"
     ]
    },
    {
     "name": "stderr",
     "output_type": "stream",
     "text": [
      "/home/jupyter/.local/lib/python3.10/site-packages/pytorch_lightning/trainer/call.py:54: Detected KeyboardInterrupt, attempting graceful shutdown...\n"
     ]
    }
   ],
   "source": [
    "from Data import train_loader\n",
    "\n",
    "set_random_seed(42)\n",
    "rg = RGflows.configure_RG_model(normal_dist,RGmasks,n_flows_dict1,num_hidden_dict1,hidden_dim_dict1)\n",
    "pipeline=Pipeline(model=rg, criterion=KL_rel1, optimizer_class=torch.optim.Adam, optimizer_kwargs={\"lr\": 0.001,\"weight_decay\":0})\n",
    "\n",
    "\n",
    "\n",
    "trainer = pl.Trainer(\n",
    "    max_epochs=1000,\n",
    "    logger=TensorBoardLogger(save_dir=f\"logs/nf\"),\n",
    "    num_sanity_val_steps=0,\n",
    "    log_every_n_steps=1,\n",
    "    enable_checkpointing=False,\n",
    "    accumulate_grad_batches=1\n",
    ")\n",
    "\n",
    "trainer.fit(model=pipeline, train_dataloaders=train_loader)\n",
    "rg.save(\"model_weights1.pth\")"
   ]
  },
  {
   "cell_type": "code",
   "execution_count": 35,
   "id": "2ce344b1-fbaa-4a3b-bb4d-bf1d9a78ae1a",
   "metadata": {
    "execution": {
     "iopub.execute_input": "2024-06-25T23:25:03.824941Z",
     "iopub.status.busy": "2024-06-25T23:25:03.823929Z",
     "iopub.status.idle": "2024-06-25T23:41:53.469580Z",
     "shell.execute_reply": "2024-06-25T23:41:53.468523Z",
     "shell.execute_reply.started": "2024-06-25T23:25:03.824898Z"
    },
    "tags": []
   },
   "outputs": [
    {
     "name": "stderr",
     "output_type": "stream",
     "text": [
      "GPU available: False, used: False\n",
      "TPU available: False, using: 0 TPU cores\n",
      "IPU available: False, using: 0 IPUs\n",
      "HPU available: False, using: 0 HPUs\n",
      "Missing logger folder: logs/nf/lightning_logs\n",
      "2024-06-25 23:25:07.146641: I tensorflow/core/util/port.cc:110] oneDNN custom operations are on. You may see slightly different numerical results due to floating-point round-off errors from different computation orders. To turn them off, set the environment variable `TF_ENABLE_ONEDNN_OPTS=0`.\n",
      "2024-06-25 23:25:08.273202: I tensorflow/core/platform/cpu_feature_guard.cc:182] This TensorFlow binary is optimized to use available CPU instructions in performance-critical operations.\n",
      "To enable the following instructions: AVX2 AVX512F AVX512_VNNI FMA, in other operations, rebuild TensorFlow with the appropriate compiler flags.\n",
      "2024-06-25 23:25:11.628780: W tensorflow/compiler/tf2tensorrt/utils/py_utils.cc:38] TF-TRT Warning: Could not find TensorRT\n",
      "\n",
      "  | Name  | Type      | Params\n",
      "------------------------------------\n",
      "0 | model | RGflows   | 6.2 M \n",
      "1 | loss  | KL_with_S | 0     \n",
      "------------------------------------\n",
      "6.2 M     Trainable params\n",
      "0         Non-trainable params\n",
      "6.2 M     Total params\n",
      "24.699    Total estimated model params size (MB)\n"
     ]
    },
    {
     "name": "stdout",
     "output_type": "stream",
     "text": [
      "Epoch 2: 100%|██████████| 256/256 [03:06<00:00,  1.38it/s, v_num=0, train_loss=40.00]Epoch 00003: reducing learning rate of group 0 to 5.0000e-05.\n",
      "Epoch 4: 100%|██████████| 256/256 [03:04<00:00,  1.39it/s, v_num=0, train_loss=39.00]Epoch 00005: reducing learning rate of group 0 to 2.5000e-05.\n",
      "Epoch 5:  39%|███▊      | 99/256 [01:12<01:54,  1.37it/s, v_num=0, train_loss=38.80] "
     ]
    },
    {
     "name": "stderr",
     "output_type": "stream",
     "text": [
      "/home/jupyter/.local/lib/python3.10/site-packages/pytorch_lightning/trainer/call.py:54: Detected KeyboardInterrupt, attempting graceful shutdown...\n"
     ]
    }
   ],
   "source": [
    "from Data import train_loader\n",
    "\n",
    "set_random_seed(42)\n",
    "rg = RGflows.load_model(\"model_weights_rel_N=256_Beta=16.pth\")\n",
    "pipeline=Pipeline(model=rg,criterion=KL_rel1, optimizer_class=torch.optim.Adam,optimizer_kwargs={\"lr\": 0.0001})\n",
    "\n",
    "trainer = pl.Trainer(\n",
    "    max_epochs=200,\n",
    "    logger=TensorBoardLogger(save_dir=f\"logs/nf\"),\n",
    "    num_sanity_val_steps=0,\n",
    "    log_every_n_steps=1,\n",
    "    enable_checkpointing=False,\n",
    "    accumulate_grad_batches=8\n",
    ")\n",
    "\n",
    "trainer.fit(model=pipeline, train_dataloaders=train_loader)\n",
    "rg.save(\"model_weights3.pth\")"
   ]
  },
  {
   "cell_type": "code",
   "execution_count": 39,
   "id": "8169e1d2-102b-4d79-92e8-03905afd556d",
   "metadata": {
    "execution": {
     "iopub.execute_input": "2024-06-25T23:43:20.664874Z",
     "iopub.status.busy": "2024-06-25T23:43:20.663726Z",
     "iopub.status.idle": "2024-06-25T23:43:21.691790Z",
     "shell.execute_reply": "2024-06-25T23:43:21.690906Z",
     "shell.execute_reply.started": "2024-06-25T23:43:20.664828Z"
    },
    "tags": []
   },
   "outputs": [],
   "source": [
    "from Data import normal_dist\n",
    "import numpy as np\n",
    "from NFconstants import N_traj\n",
    "RG_trained = RGflows.load_model(\"model_weights_rel_N=256_Beta=16.pth\")\n",
    "RG_trained.eval()\n",
    "N_traj=1000\n",
    "trajs=RG_trained.sample(N_traj)\n"
   ]
  },
  {
   "cell_type": "code",
   "execution_count": 28,
   "id": "a70ca35c-a5ff-4d03-a6f6-99164b0c8ee6",
   "metadata": {
    "execution": {
     "iopub.execute_input": "2024-06-16T22:00:20.033757Z",
     "iopub.status.busy": "2024-06-16T22:00:20.032612Z",
     "iopub.status.idle": "2024-06-16T22:00:20.537130Z",
     "shell.execute_reply": "2024-06-16T22:00:20.536393Z",
     "shell.execute_reply.started": "2024-06-16T22:00:20.033714Z"
    },
    "tags": []
   },
   "outputs": [
    {
     "data": {
      "image/png": "[encoded data removed]",
      "text/plain": [
       "<Figure size 640x480 with 1 Axes>"
      ]
     },
     "metadata": {},
     "output_type": "display_data"
    }
   ],
   "source": [
    "fig=plt.figure()\n",
    "plt.scatter(trajs[:,0],trajs[:,1],color=\"blue\",s=1)\n",
    "plt.grid(True)\n",
    "plt.show()"
   ]
  },
  {
   "cell_type": "code",
   "execution_count": 44,
   "id": "d0710a10-e00c-41d9-958b-dc1d46f54d13",
   "metadata": {
    "execution": {
     "iopub.execute_input": "2024-06-18T23:43:05.001269Z",
     "iopub.status.busy": "2024-06-18T23:43:05.000109Z",
     "iopub.status.idle": "2024-06-18T23:43:09.166574Z",
     "shell.execute_reply": "2024-06-18T23:43:09.165693Z",
     "shell.execute_reply.started": "2024-06-18T23:43:05.001229Z"
    },
    "tags": []
   },
   "outputs": [
    {
     "name": "stderr",
     "output_type": "stream",
     "text": [
      "\n",
      "  0%|          | 0/8 [00:00<?, ?it/s]\u001b[A\n",
      " 12%|█▎        | 1/8 [00:00<00:03,  1.92it/s]\u001b[A\n",
      " 25%|██▌       | 2/8 [00:01<00:03,  1.92it/s]\u001b[A\n",
      " 38%|███▊      | 3/8 [00:01<00:02,  1.96it/s]\u001b[A\n",
      " 50%|█████     | 4/8 [00:02<00:02,  1.96it/s]\u001b[A\n",
      " 62%|██████▎   | 5/8 [00:02<00:01,  1.93it/s]\u001b[A\n",
      " 75%|███████▌  | 6/8 [00:03<00:01,  1.97it/s]\u001b[A\n",
      " 88%|████████▊ | 7/8 [00:03<00:00,  1.93it/s]\u001b[A\n",
      "100%|██████████| 8/8 [00:04<00:00,  1.93it/s]\u001b[A"
     ]
    },
    {
     "name": "stdout",
     "output_type": "stream",
     "text": [
      "tensor(38.7126) tensor(0.1807)\n"
     ]
    },
    {
     "name": "stderr",
     "output_type": "stream",
     "text": [
      "\n"
     ]
    }
   ],
   "source": [
    "from Data import train_loader\n",
    "from tqdm import tqdm\n",
    "kl=[]\n",
    "for i in tqdm(range(8)):\n",
    "    batch=next(iter(train_loader))\n",
    "    x,lad=RG_trained(batch)\n",
    "    kl.append(KL_rel1(x,lad))\n",
    "kl=torch.tensor(kl)\n",
    "print(torch.mean(kl),torch.std(kl))"
   ]
  },
  {
   "cell_type": "code",
   "execution_count": 55,
   "id": "08ee9b10-907b-4a77-89ba-ecf203f23519",
   "metadata": {
    "execution": {
     "iopub.execute_input": "2024-06-18T10:06:27.672415Z",
     "iopub.status.busy": "2024-06-18T10:06:27.671445Z",
     "iopub.status.idle": "2024-06-18T10:06:27.695856Z",
     "shell.execute_reply": "2024-06-18T10:06:27.695242Z",
     "shell.execute_reply.started": "2024-06-18T10:06:27.672375Z"
    },
    "tags": []
   },
   "outputs": [],
   "source": [
    "hst = torch.histogram(trajs.cpu(),bins=1001)"
   ]
  },
  {
   "cell_type": "code",
   "execution_count": 56,
   "id": "49963ccd-1e23-4c73-9961-30e1b8db01a7",
   "metadata": {
    "execution": {
     "iopub.execute_input": "2024-06-18T10:06:34.310058Z",
     "iopub.status.busy": "2024-06-18T10:06:34.309154Z",
     "iopub.status.idle": "2024-06-18T10:06:40.758804Z",
     "shell.execute_reply": "2024-06-18T10:06:40.758115Z",
     "shell.execute_reply.started": "2024-06-18T10:06:34.310018Z"
    },
    "tags": []
   },
   "outputs": [
    {
     "data": {
      "image/png": "[encoded data removed]",
      "text/plain": [
       "<Figure size 640x480 with 1 Axes>"
      ]
     },
     "metadata": {},
     "output_type": "display_data"
    },
    {
     "name": "stdout",
     "output_type": "stream",
     "text": [
      "2\n"
     ]
    }
   ],
   "source": [
    "import numpy as np\n",
    "import matplotlib.pyplot as plt\n",
    "#A=np.array([[0,0+1j],[0-1j,0]])\n",
    "#S=np.linalg.eigh(A)\n",
    "#print(S)\n",
    "L=10\n",
    "h1=0.005\n",
    "N=int(2*L/h1)\n",
    "H=np.zeros((N,N))\n",
    "H[0][0]=1\n",
    "H[N-1][N-1]=1\n",
    "\n",
    "for i in range(1,N-1):\n",
    "    H[i][i-1]=-0.5/h1**2\n",
    "    H[i][i]=(1/h1**2)+tw.V(-L+i*h1)\n",
    "    H[i][i+1]=-0.5/h1**2\n",
    "E=np.linalg.eigh(H)\n",
    "v=np.transpose(E[1])\n",
    "X=[-L+i*h1 for i in range(N)]\n",
    "fig=plt.figure()\n",
    "plt.axis([-L,L,-1,1])\n",
    "plt.scatter(X,(v[2])**2/h1,s=1)\n",
    "plt.show()\n",
    "print(len(E))\n"
   ]
  },
  {
   "cell_type": "code",
   "execution_count": 57,
   "id": "cca64e7f-0be4-4241-9bbd-ab2020debf51",
   "metadata": {
    "execution": {
     "iopub.execute_input": "2024-06-18T10:06:44.376835Z",
     "iopub.status.busy": "2024-06-18T10:06:44.375849Z",
     "iopub.status.idle": "2024-06-18T10:06:44.685598Z",
     "shell.execute_reply": "2024-06-18T10:06:44.684885Z",
     "shell.execute_reply.started": "2024-06-18T10:06:44.376797Z"
    },
    "tags": []
   },
   "outputs": [
    {
     "data": {
      "image/png": "[encoded data removed]",
      "text/plain": [
       "<Figure size 640x480 with 1 Axes>"
      ]
     },
     "metadata": {},
     "output_type": "display_data"
    }
   ],
   "source": [
    "fig=plt.figure()\n",
    "h=(hst[1][-1]-hst[1][0])/1001\n",
    "plt.plot(hst[1][:-1],hst[0]/(N_nod*N_traj*h),color=\"blue\")\n",
    "plt.plot(X,(v[2])**2/h1,color=\"red\")\n",
    "plt.legend([\"Нормализующий поток\",r\"$H\\psi=E\\psi$\"+\"  численно\"])\n",
    "plt.ylabel(r\"$|\\psi(x)|^2$\",fontsize=17)\n",
    "plt.xlabel(\"x\",fontsize=17)\n",
    "plt.title(r\"$N=$\"+str(N_nod)+\"      \"+r\"$\\beta=$\"+str(Beta)+\"        \"+r\"$V=(x^2-x_0^2)^2$\"+\"         \"+r\"$x_0=$\"+str(tw.x0))\n",
    "plt.axis([-4,4,0,0.6])\n",
    "plt.grid(True)\n",
    "plt.show()"
   ]
  },
  {
   "cell_type": "code",
   "execution_count": 45,
   "id": "a0f82c03-d27a-46c7-9f10-a3648c3a1b3f",
   "metadata": {
    "execution": {
     "iopub.execute_input": "2024-06-18T23:43:47.410536Z",
     "iopub.status.busy": "2024-06-18T23:43:47.409534Z",
     "iopub.status.idle": "2024-06-18T23:43:47.427377Z",
     "shell.execute_reply": "2024-06-18T23:43:47.426578Z",
     "shell.execute_reply.started": "2024-06-18T23:43:47.410489Z"
    },
    "tags": []
   },
   "outputs": [],
   "source": [
    "trajs=trajs.numpy()"
   ]
  },
  {
   "cell_type": "code",
   "execution_count": 48,
   "id": "e6755b71-61ab-4f2a-b4e4-afd202d82c7a",
   "metadata": {
    "execution": {
     "iopub.execute_input": "2024-06-18T23:46:40.325931Z",
     "iopub.status.busy": "2024-06-18T23:46:40.324997Z",
     "iopub.status.idle": "2024-06-18T23:46:40.545369Z",
     "shell.execute_reply": "2024-06-18T23:46:40.544506Z",
     "shell.execute_reply.started": "2024-06-18T23:46:40.325889Z"
    },
    "tags": []
   },
   "outputs": [
    {
     "name": "stdout",
     "output_type": "stream",
     "text": [
      "NN rel oscillator N=256 Beta=16.txt\n"
     ]
    }
   ],
   "source": [
    "filename=\"NN rel oscillator N=\"+str(N_nod)+\" Beta=\"+str(Beta)+\".txt\"\n",
    "np.savetxt(filename,trajs,delimiter=\" \")\n",
    "print(filename)"
   ]
  },
  {
   "cell_type": "code",
   "execution_count": 30,
   "id": "416263ca-2e4c-48cf-a16c-b1a1627df455",
   "metadata": {
    "execution": {
     "iopub.execute_input": "2024-06-10T17:45:04.475445Z",
     "iopub.status.busy": "2024-06-10T17:45:04.474482Z",
     "iopub.status.idle": "2024-06-10T17:45:04.514425Z",
     "shell.execute_reply": "2024-06-10T17:45:04.513439Z",
     "shell.execute_reply.started": "2024-06-10T17:45:04.475403Z"
    },
    "tags": []
   },
   "outputs": [
    {
     "name": "stdout",
     "output_type": "stream",
     "text": [
      "tensor(-0.4674) tensor(0.0470)\n"
     ]
    }
   ],
   "source": [
    "print(torch.mean(morse.V(trajs)),torch.std(morse.V(trajs)))"
   ]
  },
  {
   "cell_type": "code",
   "execution_count": 27,
   "id": "97dd8ec7-e12c-420b-8936-f6bfb2c4b5b3",
   "metadata": {
    "execution": {
     "iopub.execute_input": "2024-06-17T16:58:33.141581Z",
     "iopub.status.busy": "2024-06-17T16:58:33.140516Z",
     "iopub.status.idle": "2024-06-17T16:58:33.597223Z",
     "shell.execute_reply": "2024-06-17T16:58:33.596337Z",
     "shell.execute_reply.started": "2024-06-17T16:58:33.141527Z"
    },
    "tags": []
   },
   "outputs": [
    {
     "data": {
      "image/png": "[encoded data removed]",
      "text/plain": [
       "<Figure size 640x480 with 1 Axes>"
      ]
     },
     "metadata": {},
     "output_type": "display_data"
    }
   ],
   "source": [
    "fig=plt.figure()\n",
    "h=(hst[1][-1]-hst[1][0])/1001\n",
    "plt.plot(hst[1][:-1],hst[0]/(N_nod*N_traj*h))\n",
    "plt.plot(hst[1][:-1], morse.theor_Psi2(hst[1][:-1].numpy()))\n",
    "plt.ylabel(r\"$|\\psi(x)|^2$\",fontsize=17)\n",
    "plt.xlabel(\"x\",fontsize=17)\n",
    "plt.title(r\"$N=$\"+str(N_nod)+\"      \"+r\"$\\beta=$\"+str(Beta)+\"        \"+r\"$V=\\frac{1}{2}[(e^{-\\alpha x}-1)^2-1]$\"+\"         \"+r\"$\\alpha=$\"+str(morse.alpha))\n",
    "plt.legend([\"Нормализующий поток\",\"Теор.\"])\n",
    "plt.grid(True)\n",
    "plt.show()"
   ]
  },
  {
   "cell_type": "code",
   "execution_count": 29,
   "id": "d1d1a252-099c-44bb-bdda-6baca97ec04b",
   "metadata": {
    "execution": {
     "iopub.execute_input": "2024-06-03T16:41:30.645333Z",
     "iopub.status.busy": "2024-06-03T16:41:30.644017Z",
     "iopub.status.idle": "2024-06-03T16:41:30.955103Z",
     "shell.execute_reply": "2024-06-03T16:41:30.954214Z",
     "shell.execute_reply.started": "2024-06-03T16:41:30.645289Z"
    },
    "tags": []
   },
   "outputs": [
    {
     "data": {
      "image/png": "[encoded data removed]",
      "text/plain": [
       "<Figure size 640x480 with 1 Axes>"
      ]
     },
     "metadata": {},
     "output_type": "display_data"
    }
   ],
   "source": [
    "fig=plt.figure()\n",
    "h=(hst[1][-1]-hst[1][0])/1001\n",
    "plt.plot(hst[1][:-1],hst[0]/(N_nod*N_traj*h))\n",
    "plt.plot(hst[1][:-1], osc.theor_Psi2(hst[1][:-1].numpy()))\n",
    "plt.ylabel(r\"$|\\psi(x)|^2$\",fontsize=17)\n",
    "plt.xlabel(\"x\",fontsize=17)\n",
    "plt.title(r\"$N=$\"+str(N_nod)+\"      \"+r\"$\\beta=$\"+str(Beta)+\"        \"+\"Гармонический осциллятор\")\n",
    "plt.legend([\"Нормализующий поток\",\"Теор.\"])\n",
    "plt.grid(True)\n",
    "plt.show()"
   ]
  },
  {
   "cell_type": "code",
   "execution_count": 29,
   "id": "6c9f44c4-3afa-42b0-bd7a-c7dec815eebc",
   "metadata": {
    "execution": {
     "iopub.execute_input": "2024-06-17T15:13:49.628938Z",
     "iopub.status.busy": "2024-06-17T15:13:49.627825Z",
     "iopub.status.idle": "2024-06-17T15:13:49.935130Z",
     "shell.execute_reply": "2024-06-17T15:13:49.934374Z",
     "shell.execute_reply.started": "2024-06-17T15:13:49.628894Z"
    },
    "tags": []
   },
   "outputs": [
    {
     "data": {
      "image/png": "[encoded data removed]",
      "text/plain": [
       "<Figure size 640x480 with 1 Axes>"
      ]
     },
     "metadata": {},
     "output_type": "display_data"
    }
   ],
   "source": [
    "fig=plt.figure()\n",
    "h=(hst[1][-1]-hst[1][0])/1001\n",
    "plt.plot(hst[1][:-1],hst[0]/(N_nod*N_traj*h))\n",
    "plt.plot(hst[1][:-1], osc.theor_Psi2(hst[1][:-1].numpy()))\n",
    "plt.ylabel(r\"$|\\psi(x)|^2$\",fontsize=17)\n",
    "plt.xlabel(\"x\",fontsize=17)\n",
    "plt.title(r\"$N=$\"+str(N_nod)+\"      \"+r\"$\\beta=$\"+str(Beta)+\"        \"+\"Гармонический осциллятор\")\n",
    "plt.legend([\"Нормализующий поток\",\"Теор.\"])\n",
    "plt.grid(True)\n",
    "plt.show()"
   ]
  },
  {
   "cell_type": "code",
   "execution_count": 35,
   "id": "78edc2c6-b211-4a01-b9a5-2762e27c0f80",
   "metadata": {
    "execution": {
     "iopub.execute_input": "2024-06-01T15:43:29.542963Z",
     "iopub.status.busy": "2024-06-01T15:43:29.541909Z",
     "iopub.status.idle": "2024-06-01T15:43:29.718262Z",
     "shell.execute_reply": "2024-06-01T15:43:29.717488Z",
     "shell.execute_reply.started": "2024-06-01T15:43:29.542921Z"
    },
    "tags": []
   },
   "outputs": [
    {
     "data": {
      "image/png": "[encoded data removed]",
      "text/plain": [
       "<Figure size 640x480 with 1 Axes>"
      ]
     },
     "metadata": {},
     "output_type": "display_data"
    }
   ],
   "source": [
    "fig=plt.figure()\n",
    "plt.scatter(list(range(N_nod)),trajs[6],s=10)\n",
    "plt.grid(True)\n",
    "plt.show()"
   ]
  },
  {
   "cell_type": "code",
   "execution_count": 41,
   "id": "a124d6c1-b4dc-451f-96f9-88b8d5b17655",
   "metadata": {
    "execution": {
     "iopub.execute_input": "2024-06-01T15:47:22.012268Z",
     "iopub.status.busy": "2024-06-01T15:47:22.011582Z",
     "iopub.status.idle": "2024-06-01T15:47:23.064556Z",
     "shell.execute_reply": "2024-06-01T15:47:23.063898Z",
     "shell.execute_reply.started": "2024-06-01T15:47:22.012232Z"
    },
    "tags": []
   },
   "outputs": [
    {
     "name": "stdout",
     "output_type": "stream",
     "text": [
      "tensor(1., device='cuda:0')\n",
      "tensor([0.0000, 0.0019, 0.0075, 0.0168, 0.0297, 0.0463, 0.0665, 0.0904, 0.1179,\n",
      "        0.1491, 0.1839, 0.2224, 0.2646, 0.3104, 0.3599, 0.4130, 0.4698, 0.5302,\n",
      "        0.5943, 0.6621])\n"
     ]
    }
   ],
   "source": [
    "import numpy as np\n",
    "N_samp=100000\n",
    "model1=RG_trained.to(device)\n",
    "z=normal_dist.sample((N_samp,)).to(device)\n",
    "z,_=model1(z)\n",
    "k=np.arange(0,2,0.1)\n",
    "print(torch.mean(torch.exp(k[0]*z)))\n",
    "def W(k,z):\n",
    "    f=[]\n",
    "    t=0\n",
    "    for i in range(len(k)):\n",
    "        t=torch.mean(torch.exp(k[i]*z))\n",
    "        f.append(t)\n",
    "    f = torch.tensor(f)\n",
    "    f = torch.log(f)\n",
    "    return f\n",
    "w=W(k,z)\n",
    "diff=torch.roll(z,-1,1)-z\n",
    "W_d=W(k,diff)\n",
    "print(w)"
   ]
  },
  {
   "cell_type": "code",
   "execution_count": 40,
   "id": "319f3ea3-f0da-4898-95bb-6a873fa65fe7",
   "metadata": {
    "execution": {
     "iopub.execute_input": "2024-06-01T15:46:50.236063Z",
     "iopub.status.busy": "2024-06-01T15:46:50.235067Z",
     "iopub.status.idle": "2024-06-01T15:46:50.251615Z",
     "shell.execute_reply": "2024-06-01T15:46:50.251033Z",
     "shell.execute_reply.started": "2024-06-01T15:46:50.236026Z"
    },
    "tags": []
   },
   "outputs": [
    {
     "name": "stdout",
     "output_type": "stream",
     "text": [
      "[ 3.77045626e-05 -3.44131416e-04  1.33907474e-03 -2.88987222e-03\n",
      "  3.77425326e-03 -3.04727789e-03  1.58361970e-03 -3.10731250e-04\n",
      "  5.00206066e-01 -2.13466651e-04  2.40673972e-10]\n"
     ]
    }
   ],
   "source": [
    "p = np.polyfit(k,w.numpy(),10)\n",
    "print(p)"
   ]
  },
  {
   "cell_type": "code",
   "execution_count": 38,
   "id": "de499e9c-6a91-453c-ad53-9d8d9a000382",
   "metadata": {
    "execution": {
     "iopub.execute_input": "2024-06-01T15:46:05.648568Z",
     "iopub.status.busy": "2024-06-01T15:46:05.647666Z",
     "iopub.status.idle": "2024-06-01T15:46:06.381100Z",
     "shell.execute_reply": "2024-06-01T15:46:06.380386Z",
     "shell.execute_reply.started": "2024-06-01T15:46:05.648532Z"
    },
    "tags": []
   },
   "outputs": [
    {
     "data": {
      "image/png": "[encoded data removed]",
      "text/plain": [
       "<Figure size 640x480 with 1 Axes>"
      ]
     },
     "metadata": {},
     "output_type": "display_data"
    },
    {
     "data": {
      "image/png": "[encoded data removed]",
      "text/plain": [
       "<Figure size 640x480 with 1 Axes>"
      ]
     },
     "metadata": {},
     "output_type": "display_data"
    }
   ],
   "source": [
    "\n",
    "fig=plt.figure()\n",
    "plt.plot(k,w)\n",
    "#plt.plot(k,w1)\n",
    "plt.legend([\"normalizing flow\",\"normalizing flow+MCMC\"])\n",
    "plt.xscale(\"log\")\n",
    "plt.yscale(\"log\")\n",
    "plt.title(\"Beta=16\")\n",
    "plt.ylabel(r\"$W(k)$\",fontsize=17)\n",
    "plt.xlabel(r\"$k$\",fontsize=17)\n",
    "plt.grid(True)\n",
    "plt.show()\n",
    "\n",
    "fig=plt.figure()\n",
    "plt.plot(k,W_d)\n",
    "#plt.plot(k,W_d1)\n",
    "plt.legend([\"normalizing flow\",\"normalizing flow+MCMC\"])\n",
    "plt.xscale(\"log\")\n",
    "plt.yscale(\"log\")\n",
    "plt.title(\"Beta=16\")\n",
    "plt.grid(True)\n",
    "plt.show()"
   ]
  },
  {
   "cell_type": "code",
   "execution_count": 90,
   "id": "a16e4205-475c-46aa-a6d7-f1cb699061d4",
   "metadata": {
    "execution": {
     "iopub.execute_input": "2024-05-11T01:17:03.153754Z",
     "iopub.status.busy": "2024-05-11T01:17:03.153056Z",
     "iopub.status.idle": "2024-05-11T01:17:04.033992Z",
     "shell.execute_reply": "2024-05-11T01:17:04.033272Z",
     "shell.execute_reply.started": "2024-05-11T01:17:03.153713Z"
    },
    "tags": []
   },
   "outputs": [
    {
     "name": "stdout",
     "output_type": "stream",
     "text": [
      "NN  RelColumb Beta=16 N=256 m=gamma=a=1.txt\n"
     ]
    }
   ],
   "source": [
    "\"\"\"\n",
    "trajs=(z.cpu()).numpy()\n",
    "model_name=\"RelColumb\"\n",
    "par=\"m=gamma=a=1\"\n",
    "filename=\"NN \"+\" \"+model_name+\" Beta=\"+str(Beta)+\" N=\"+str(N_nod)+\" \"+par+\".txt\"\n",
    "print(filename)\n",
    "np.savetxt(filename,trajs,delimiter=\" \")\n",
    "\"\"\""
   ]
  },
  {
   "cell_type": "code",
   "execution_count": 71,
   "id": "37aaf6bf-87cb-4f32-95be-34c258468f20",
   "metadata": {
    "execution": {
     "iopub.execute_input": "2024-04-26T22:25:03.471260Z",
     "iopub.status.busy": "2024-04-26T22:25:03.470502Z",
     "iopub.status.idle": "2024-04-26T22:25:04.337636Z",
     "shell.execute_reply": "2024-04-26T22:25:04.336752Z",
     "shell.execute_reply.started": "2024-04-26T22:25:03.471227Z"
    },
    "tags": []
   },
   "outputs": [],
   "source": [
    "\"\"\"\n",
    "import numpy as np\n",
    "trajs=np.genfromtxt(\"NN (upgraded) RelColumb Beta=16 N=1024 m=gamma=a=1.txt\",delimiter=\" \")\n",
    "\"\"\""
   ]
  },
  {
   "cell_type": "code",
   "execution_count": 72,
   "id": "877866f7-579c-4ea6-909c-5027d0744329",
   "metadata": {
    "execution": {
     "iopub.execute_input": "2024-04-26T22:25:05.426079Z",
     "iopub.status.busy": "2024-04-26T22:25:05.425316Z",
     "iopub.status.idle": "2024-04-26T22:25:05.449420Z",
     "shell.execute_reply": "2024-04-26T22:25:05.448641Z",
     "shell.execute_reply.started": "2024-04-26T22:25:05.426036Z"
    },
    "tags": []
   },
   "outputs": [],
   "source": [
    "#trajs=(torch.tensor(trajs)).float()"
   ]
  },
  {
   "cell_type": "code",
   "execution_count": 40,
   "id": "fe644a5e-8e4a-4536-bec1-78a391b60f97",
   "metadata": {
    "execution": {
     "iopub.execute_input": "2024-06-25T23:43:32.822551Z",
     "iopub.status.busy": "2024-06-25T23:43:32.821630Z",
     "iopub.status.idle": "2024-06-25T23:43:33.566677Z",
     "shell.execute_reply": "2024-06-25T23:43:33.565674Z",
     "shell.execute_reply.started": "2024-06-25T23:43:32.822512Z"
    },
    "tags": []
   },
   "outputs": [
    {
     "name": "stderr",
     "output_type": "stream",
     "text": [
      "\n",
      "  0%|          | 0/256 [00:00<?, ?it/s]\u001b[A\n",
      "  8%|▊         | 21/256 [00:00<00:01, 207.25it/s]\u001b[A\n",
      " 20%|█▉        | 50/256 [00:00<00:00, 252.61it/s]\u001b[A\n",
      " 35%|███▌      | 90/256 [00:00<00:00, 317.44it/s]\u001b[A\n",
      " 51%|█████     | 131/256 [00:00<00:00, 351.56it/s]\u001b[A\n",
      " 67%|██████▋   | 172/256 [00:00<00:00, 371.36it/s]\u001b[A\n",
      " 83%|████████▎ | 213/256 [00:00<00:00, 382.74it/s]\u001b[A\n",
      "100%|██████████| 256/256 [00:00<00:00, 357.34it/s]\u001b[A\n"
     ]
    }
   ],
   "source": [
    "from NFandist import get_T\n",
    "from tqdm import tqdm\n",
    "T=torch.tensor(get_T(N_nod)).float()\n",
    "def G(X,n_p=N_nod):\n",
    "    G=np.zeros((n_p))\n",
    "    Y=X.clone()\n",
    "    Xt=torch.t(X)\n",
    "    for s in tqdm(range(n_p)):\n",
    "        G[s]=torch.trace(torch.matmul(Y,Xt))\n",
    "        Y=torch.matmul(Y,T)\n",
    "        #Y=torch.roll(Y,-1,1)\n",
    "    return G/(N_traj*N_nod)\n",
    "g_nf=G(trajs)\n"
   ]
  },
  {
   "cell_type": "code",
   "execution_count": 39,
   "id": "78c9ffdf-7d11-49a0-8304-3228e4cd69b5",
   "metadata": {
    "execution": {
     "iopub.execute_input": "2024-06-05T09:56:52.955037Z",
     "iopub.status.busy": "2024-06-05T09:56:52.953855Z",
     "iopub.status.idle": "2024-06-05T09:56:53.196457Z",
     "shell.execute_reply": "2024-06-05T09:56:53.195400Z",
     "shell.execute_reply.started": "2024-06-05T09:56:52.954992Z"
    },
    "tags": []
   },
   "outputs": [],
   "source": [
    "from NFandist import calc_G\n",
    "from NFconstants import N_nod, N_traj, NG_points,Beta\n",
    "g_osc=calc_G(N_nod,Beta,N_nod)\n"
   ]
  },
  {
   "cell_type": "code",
   "execution_count": 22,
   "id": "d40ea38c-5c07-4349-9872-6f8026d990d1",
   "metadata": {
    "execution": {
     "iopub.execute_input": "2024-05-09T13:53:35.170538Z",
     "iopub.status.busy": "2024-05-09T13:53:35.169712Z",
     "iopub.status.idle": "2024-05-09T13:53:35.188356Z",
     "shell.execute_reply": "2024-05-09T13:53:35.187543Z",
     "shell.execute_reply.started": "2024-05-09T13:53:35.170492Z"
    },
    "tags": []
   },
   "outputs": [],
   "source": [
    "g_ur = [0.476546, 0.148654, 0.060357, 0.0232596, -0.00447499, -0.00224423, -0.00447499, 0.0232596, 0.060357, 0.148654]"
   ]
  },
  {
   "cell_type": "code",
   "execution_count": 27,
   "id": "423d9be1-411c-4004-929e-ddd280cb3a77",
   "metadata": {
    "execution": {
     "iopub.execute_input": "2024-06-07T15:58:39.121995Z",
     "iopub.status.busy": "2024-06-07T15:58:39.121456Z",
     "iopub.status.idle": "2024-06-07T15:58:39.146655Z",
     "shell.execute_reply": "2024-06-07T15:58:39.145783Z",
     "shell.execute_reply.started": "2024-06-07T15:58:39.121957Z"
    },
    "tags": []
   },
   "outputs": [],
   "source": [
    "\n",
    "g_ur = [0.555858, 0.497988, 0.446597, 0.401115, 0.360415, 0.324316, 0.29138, 0.261791, 0.235658, 0.211969, 0.190536, 0.171994, 0.155133, 0.140335, 0.126598, 0.114471, 0.103514, 0.0941716, 0.0852865, 0.0767528, 0.0691313, 0.0619047, 0.0550745, 0.0490998, 0.0443236, 0.0396256, 0.0358628, 0.0324961, 0.0302019, 0.0276177, 0.0251373, 0.0226234, 0.0203086, 0.0179717, 0.0164385, 0.0152739, 0.0143051, 0.0136778, 0.0127566, 0.0118486, 0.0111658, 0.0111462, 0.011026, 0.0110081, 0.0109681, 0.0106729, 0.0101027, 0.010377, 0.010866, 0.0114044, 0.0119873, 0.0114044, 0.010866, 0.010377, 0.0101027, 0.0106729, 0.0109681, 0.0110081, 0.011026, 0.0111462, 0.0111658, 0.0118486, 0.0127566, 0.0136778, 0.0143051, 0.0152739, 0.0164385, 0.0179717, 0.0203086, 0.0226234, 0.0251373, 0.0276177, 0.0302019, 0.0324961, 0.0358628, 0.0396256, 0.0443236, 0.0490998, 0.0550745, 0.0619047, 0.0691313, 0.0767528, 0.0852865, 0.0941716, 0.103514, 0.114471, 0.126598, 0.140335, 0.155133, 0.171994, 0.190536, 0.211969, 0.235658, 0.261791, 0.29138, 0.324316, 0.360415, 0.401115, 0.446597, 0.497988]\n"
   ]
  },
  {
   "cell_type": "code",
   "execution_count": 20,
   "id": "761d4f40-3376-4f0e-9177-6ff5ff928fa4",
   "metadata": {
    "execution": {
     "iopub.execute_input": "2024-05-21T10:25:14.168551Z",
     "iopub.status.busy": "2024-05-21T10:25:14.167519Z",
     "iopub.status.idle": "2024-05-21T10:25:14.181801Z",
     "shell.execute_reply": "2024-05-21T10:25:14.180763Z",
     "shell.execute_reply.started": "2024-05-21T10:25:14.168483Z"
    },
    "tags": []
   },
   "outputs": [],
   "source": [
    "g_rel = [0.389004, 0.174591, 0.0750764, 0.0320855, 0.0235634, 0.0204869, 0.0235634, 0.0320855, 0.0750764, 0.174591]"
   ]
  },
  {
   "cell_type": "code",
   "execution_count": 33,
   "id": "f0639e9e-3fa3-412f-8833-8af468af9fa8",
   "metadata": {
    "execution": {
     "iopub.execute_input": "2024-06-25T23:23:10.526613Z",
     "iopub.status.busy": "2024-06-25T23:23:10.525646Z",
     "iopub.status.idle": "2024-06-25T23:23:10.541619Z",
     "shell.execute_reply": "2024-06-25T23:23:10.540772Z",
     "shell.execute_reply.started": "2024-06-25T23:23:10.526571Z"
    },
    "tags": []
   },
   "outputs": [],
   "source": [
    "g_rel = [0.392501, 0.361773, 0.333519, 0.307446, 0.283335, 0.261201, 0.240658, 0.221871, 0.204776, 0.188963, 0.174495, 0.161116, 0.148541, 0.136946, 0.126175, 0.116168, 0.106934, 0.0985733, 0.090693, 0.0836987, 0.0773237, 0.0713712, 0.0662134, 0.0611666, 0.0567049, 0.0525145, 0.0489322, 0.045775, 0.043085, 0.0407685, 0.0383386, 0.0365845, 0.0353032, 0.0339074, 0.0324167, 0.0308972, 0.0295226, 0.0285374, 0.0276133, 0.026899, 0.0265193, 0.0267518, 0.027023, 0.0272673, 0.0275789, 0.0277296, 0.0281657, 0.0286108, 0.0289897, 0.0292072, 0.0292838, 0.0292072, 0.0289897, 0.0286108, 0.0281657, 0.0277296, 0.0275789, 0.0272673, 0.027023, 0.0267518, 0.0265193, 0.026899, 0.0276133, 0.0285374, 0.0295226, 0.0308972, 0.0324167, 0.0339074, 0.0353032, 0.0365845, 0.0383386, 0.0407685, 0.043085, 0.045775, 0.0489322, 0.0525145, 0.0567049, 0.0611666, 0.0662134, 0.0713712, 0.0773237, 0.0836987, 0.090693, 0.0985733, 0.106934, 0.116168, 0.126175, 0.136946, 0.148541, 0.161116, 0.174495, 0.188963, 0.204776, 0.221871, 0.240658, 0.261201, 0.283335, 0.307446, 0.333519, 0.361773]\n"
   ]
  },
  {
   "cell_type": "code",
   "execution_count": 37,
   "id": "65e2959c-aa9d-47a0-971a-68fd6575b32e",
   "metadata": {
    "execution": {
     "iopub.execute_input": "2024-04-26T16:57:08.404772Z",
     "iopub.status.busy": "2024-04-26T16:57:08.403986Z",
     "iopub.status.idle": "2024-04-26T16:57:08.419094Z",
     "shell.execute_reply": "2024-04-26T16:57:08.418111Z",
     "shell.execute_reply.started": "2024-04-26T16:57:08.404730Z"
    },
    "tags": []
   },
   "outputs": [],
   "source": [
    "\n",
    "import numpy as np\n",
    "corr = [0.0049279, 0.00445719, 0.0040318, 0.00364688, 0.00329375, 0.00297512, 0.00268571, 0.00242197, 0.00217813, 0.00195686, 0.00176504, 0.001597, 0.0014406, 0.00130362, 0.00117932, 0.00107197, 0.000971531, 0.000873839, 0.000783014, 0.000698531, 0.000622945, 0.000554938, 0.000497423, 0.000446639, 0.000400234, 0.000360026, 0.000325092, 0.00028936, 0.000252744, 0.000222755, 0.00019756, 0.000178826, 0.000169581, 0.000165766, 0.000161208, 0.000158499, 0.000157808, 0.000156267, 0.000155463, 0.000151827, 0.000137475, 0.000124214, 0.000113485, 0.000104859, 9.63436e-05, 8.8317e-05, 8.17296e-05, 7.9884e-05, 7.83747e-05, 8.01024e-05, 8.44507e-05, 8.01024e-05, 7.83747e-05, 7.9884e-05, 8.17296e-05, 8.8317e-05, 9.63436e-05, 0.000104859, 0.000113485, 0.000124214, 0.000137475, 0.000151827, 0.000155463, 0.000156267, 0.000157808, 0.000158499, 0.000161208, 0.000165766, 0.000169581, 0.000178826, 0.00019756, 0.000222755, 0.000252744, 0.00028936, 0.000325092, 0.000360026, 0.000400234, 0.000446639, 0.000497423, 0.000554938, 0.000622945, 0.000698531, 0.000783014, 0.000873839, 0.000971531, 0.00107197, 0.00117932, 0.00130362, 0.0014406, 0.001597, 0.00176504, 0.00195686, 0.00217813, 0.00242197, 0.00268571, 0.00297512, 0.00329375, 0.00364688, 0.0040318, 0.00445719, 0.0049279]\n",
    "g_rel_001=(100*np.array(corr))[:-1]\n",
    "\n"
   ]
  },
  {
   "cell_type": "code",
   "execution_count": 28,
   "id": "1cd1e02d-0324-466a-b37e-a60554908a29",
   "metadata": {
    "execution": {
     "iopub.execute_input": "2024-04-25T13:55:19.035541Z",
     "iopub.status.busy": "2024-04-25T13:55:19.034575Z",
     "iopub.status.idle": "2024-04-25T13:55:19.058166Z",
     "shell.execute_reply": "2024-04-25T13:55:19.057280Z",
     "shell.execute_reply.started": "2024-04-25T13:55:19.035477Z"
    },
    "tags": []
   },
   "outputs": [],
   "source": [
    "import numpy as np\n",
    "corr = [0.0482165, 0.0437875, 0.0397512, 0.0361339, 0.0328051, 0.0297607, 0.0270138, 0.0244825, 0.0222039, 0.0201489, 0.0183026, 0.0166458, 0.0151002, 0.0137192, 0.012421, 0.0112716, 0.0102497, 0.00931179, 0.0084281, 0.00763501, 0.00697282, 0.00637519, 0.00579578, 0.00524782, 0.00469027, 0.00419239, 0.00376016, 0.00335117, 0.00299975, 0.00265075, 0.00236496, 0.00215769, 0.00196452, 0.00178665, 0.00162977, 0.00148276, 0.00135563, 0.00127519, 0.00120796, 0.00115448, 0.0011155, 0.00109623, 0.00112555, 0.00113097, 0.00108849, 0.00108302, 0.00112726, 0.00115736, 0.00118966, 0.00124266, 0.00121678, 0.00124266, 0.00118966, 0.00115736, 0.00112726, 0.00108302, 0.00108849, 0.00113097, 0.00112555, 0.00109623, 0.0011155, 0.00115448, 0.00120796, 0.00127519, 0.00135563, 0.00148276, 0.00162977, 0.00178665, 0.00196452, 0.00215769, 0.00236496, 0.00265075, 0.00299975, 0.00335117, 0.00376016, 0.00419239, 0.00469027, 0.00524782, 0.00579578, 0.00637519, 0.00697282, 0.00763501, 0.0084281, 0.00931179, 0.0102497, 0.0112716, 0.012421, 0.0137192, 0.0151002, 0.0166458, 0.0183026, 0.0201489, 0.0222039, 0.0244825, 0.0270138, 0.0297607, 0.0328051, 0.0361339, 0.0397512, 0.0437875, 0.0482165]\n",
    "g_rel_01=(10*np.array(corr))[:-1]\n"
   ]
  },
  {
   "cell_type": "code",
   "execution_count": 41,
   "id": "34a5ead7-10a1-445f-abbd-4f8c2478ccd1",
   "metadata": {
    "execution": {
     "iopub.execute_input": "2024-06-25T23:43:37.304680Z",
     "iopub.status.busy": "2024-06-25T23:43:37.303565Z",
     "iopub.status.idle": "2024-06-25T23:43:37.571723Z",
     "shell.execute_reply": "2024-06-25T23:43:37.570955Z",
     "shell.execute_reply.started": "2024-06-25T23:43:37.304640Z"
    },
    "tags": []
   },
   "outputs": [
    {
     "name": "stdout",
     "output_type": "stream",
     "text": [
      "0.1940644836425781\n"
     ]
    },
    {
     "data": {
      "image/png": "[encoded data removed]",
      "text/plain": [
       "<Figure size 640x480 with 1 Axes>"
      ]
     },
     "metadata": {},
     "output_type": "display_data"
    }
   ],
   "source": [
    "#import sys\n",
    "#sys.path.append('../')\n",
    "import numpy as np\n",
    "import matplotlib.pyplot as plt\n",
    "from NFconstants import N_nod, N_traj, NG_points,Beta\n",
    "#from Value import G\n",
    "#import ensemble\n",
    "#from NFoscillator import basic_oscillator\n",
    "#from time import time\n",
    "#from NFandist import calc_G\n",
    "\n",
    "\"\"\"\n",
    "ens_nf=ensemble.ensemble.load(\"nf_ensemble.txt\",basic_oscillator)\n",
    "g_nf=np.vstack(ensemble.ensemble.Vaverage_and_sigma(ens_nf,G))\n",
    "g_nf=g_nf.transpose()[0]\n",
    "\"\"\"\n",
    "\n",
    "g=g_rel\n",
    "print(g_nf[0])\n",
    "fig=plt.figure()\n",
    "MCMC_list=np.arange(len(g))/len(g)\n",
    "NF_list=np.arange(len(g_nf))/len(g_nf)\n",
    "\n",
    "\n",
    "\n",
    "plt.scatter(MCMC_list,g,s=10)\n",
    "plt.scatter(NF_list,g_nf,s=10)\n",
    "#plt.scatter(list(range(10)),g_nf[:10],s=5)\n",
    "#plt.scatter(list(range(10)),g[:10],s=5)\n",
    "#plt.scatter(NF_list,g4_nf)\n",
    "plt.legend([\"Метрополис\",\"Нормализующий поток\"])\n",
    "#plt.legend([\"normalizing flow\"])\n",
    "plt.title(r\"$N=$\"+str(N_nod)+\"       \"r\"$\\beta=$\"+str(Beta)+\"     Релятивистский осциллятор\")\n",
    "plt.ylabel(r\"$G_s$\",fontsize=17)\n",
    "plt.xlabel(r\"$s/N$\",fontsize=17)\n",
    "#plt.yscale(\"log\")\n",
    "plt.grid(True)\n",
    "plt.show()\n"
   ]
  },
  {
   "cell_type": "code",
   "execution_count": 36,
   "id": "010eb12d-cfdd-4afd-ad73-8a6134c4b38e",
   "metadata": {
    "execution": {
     "iopub.execute_input": "2024-06-10T16:21:03.549804Z",
     "iopub.status.busy": "2024-06-10T16:21:03.548798Z",
     "iopub.status.idle": "2024-06-10T16:21:03.560033Z",
     "shell.execute_reply": "2024-06-10T16:21:03.559340Z",
     "shell.execute_reply.started": "2024-06-10T16:21:03.549762Z"
    },
    "tags": []
   },
   "outputs": [],
   "source": [
    "K = (1 - 2 * (g_nf[0]-g_nf[1]) / a) / (2 * a)"
   ]
  },
  {
   "cell_type": "code",
   "execution_count": 37,
   "id": "8686f53f-0273-4acf-a6c2-ca4cffae99ea",
   "metadata": {
    "execution": {
     "iopub.execute_input": "2024-06-10T16:21:06.821501Z",
     "iopub.status.busy": "2024-06-10T16:21:06.820458Z",
     "iopub.status.idle": "2024-06-10T16:21:06.843085Z",
     "shell.execute_reply": "2024-06-10T16:21:06.842302Z",
     "shell.execute_reply.started": "2024-06-10T16:21:06.821459Z"
    },
    "tags": []
   },
   "outputs": [
    {
     "name": "stdout",
     "output_type": "stream",
     "text": [
      "0.6169781249999993\n"
     ]
    }
   ],
   "source": [
    "print(K)"
   ]
  },
  {
   "cell_type": "code",
   "execution_count": 71,
   "id": "0ac5e515-24f6-4c41-ac98-d3a104ac26ef",
   "metadata": {
    "execution": {
     "iopub.execute_input": "2024-06-03T19:35:48.694224Z",
     "iopub.status.busy": "2024-06-03T19:35:48.693196Z",
     "iopub.status.idle": "2024-06-03T19:35:48.722143Z",
     "shell.execute_reply": "2024-06-03T19:35:48.721326Z",
     "shell.execute_reply.started": "2024-06-03T19:35:48.694181Z"
    },
    "tags": []
   },
   "outputs": [
    {
     "name": "stdout",
     "output_type": "stream",
     "text": [
      "5.18225859375\n"
     ]
    }
   ],
   "source": [
    "print(g_nf[0])"
   ]
  },
  {
   "cell_type": "code",
   "execution_count": 3,
   "id": "5537b59a",
   "metadata": {
    "execution": {
     "iopub.execute_input": "2024-07-14T12:10:20.567763Z",
     "iopub.status.busy": "2024-07-14T12:10:20.566583Z",
     "iopub.status.idle": "2024-07-14T12:10:20.602663Z",
     "shell.execute_reply": "2024-07-14T12:10:20.601840Z",
     "shell.execute_reply.started": "2024-07-14T12:10:20.567711Z"
    },
    "tags": []
   },
   "outputs": [
    {
     "name": "stdout",
     "output_type": "stream",
     "text": [
      "20K\tlogs\n"
     ]
    }
   ],
   "source": [
    "\n",
    "\n",
    "! du -sh logs\n",
    "\n",
    "\n",
    "\n",
    "\n"
   ]
  },
  {
   "cell_type": "code",
   "execution_count": 4,
   "id": "96e1f7e3-4121-49e9-95f1-06ecbf041f59",
   "metadata": {
    "execution": {
     "iopub.execute_input": "2024-06-25T17:50:47.838027Z",
     "iopub.status.busy": "2024-06-25T17:50:47.836805Z",
     "iopub.status.idle": "2024-06-25T17:50:48.431014Z",
     "shell.execute_reply": "2024-06-25T17:50:48.430087Z",
     "shell.execute_reply.started": "2024-06-25T17:50:47.837983Z"
    }
   },
   "outputs": [],
   "source": [
    "! rm -rf logs\n"
   ]
  },
  {
   "cell_type": "code",
   "execution_count": 30,
   "id": "e9a37694-c075-403e-91dd-b1fd72fcd472",
   "metadata": {
    "execution": {
     "iopub.execute_input": "2024-06-18T23:34:54.685548Z",
     "iopub.status.busy": "2024-06-18T23:34:54.684276Z",
     "iopub.status.idle": "2024-06-18T23:34:54.730227Z",
     "shell.execute_reply": "2024-06-18T23:34:54.729318Z",
     "shell.execute_reply.started": "2024-06-18T23:34:54.685485Z"
    },
    "tags": []
   },
   "outputs": [],
   "source": [
    "import time\n",
    "class MCMC:\n",
    "    def __init__(self,system,model=\"none\",d=(a/N_nod)**0.5,N_sweep=100,log_per=1000):\n",
    "        \n",
    "        self.system = system\n",
    "        self.S = 0\n",
    "        self.model = model\n",
    "        self.d = d\n",
    "        self.N_sweep = N_sweep\n",
    "        self.log_per = log_per\n",
    "        self.ar = 0\n",
    "        self.shift_dist = torch.distributions.Uniform(torch.zeros(N_nod), torch.ones(N_nod))\n",
    "        self.un = torch.distributions.Uniform(0, 1)\n",
    "        self.res=[]\n",
    "        self.times=[]\n",
    "        \n",
    "    def sweep(self,z):\n",
    "        shift = self.shift_dist.sample((N_samp,)).to(z.device)\n",
    "        y = z+self.d*(2*shift-1)\n",
    "    \n",
    "        S_new=self.calc_S(y)\n",
    "    \n",
    "        dS=S_new-self.S\n",
    "        prob = torch.exp(-dS)\n",
    "        #prob=torch.zeros((N_samp))\n",
    "        ind = self.un.sample((N_samp,)).to(z.device)<prob\n",
    "    \n",
    "        mask=ind.nonzero()\n",
    "        if len(mask)>1:\n",
    "            mask=mask.squeeze()\n",
    "    \n",
    "        if  len(mask)>0:\n",
    "            self.S[mask]=S_new[mask]\n",
    "            z[mask,:]=y[mask,:]  \n",
    "        self.ar = torch.mean(ind.type('torch.FloatTensor'))           \n",
    "    \n",
    "    \n",
    "    def log(self,z):\n",
    "        if self.model==\"none\":\n",
    "            x1=z\n",
    "        else:    \n",
    "            x1,_=self.model(z)\n",
    "        print(torch.mean(x1**2),self.ar)\n",
    "        self.res.append(torch.mean(x1**2).cpu())\n",
    "        self.Times.append(time.time()-self.start)\n",
    "    \n",
    "    def calc_S(self,z):\n",
    "        if self.model==\"none\":\n",
    "            S=self.system.Full_S(z).to(z.device)\n",
    "        else:\n",
    "            x , lad = self.model(z)\n",
    "            S=self.system.Full_S(x).to(z.device)-lad   \n",
    "        return S\n",
    "    \n",
    "    def init_state(self,z):\n",
    "        self.start=time.time()\n",
    "        self.S=self.calc_S(z)\n",
    "        self.res=[]\n",
    "        self.Times=[]\n",
    "        \n",
    "    \n",
    "    def run(self,z):\n",
    "        \n",
    "        self.init_state(z)\n",
    "    \n",
    "        for i in range(self.N_sweep):\n",
    "            if i%self.log_per==0:\n",
    "                self.log(z)\n",
    "            self.sweep(z)\n",
    "        \n",
    "        return z    \n",
    "    \n",
    "    \n",
    "        "
   ]
  },
  {
   "cell_type": "code",
   "execution_count": 41,
   "id": "653c3be4-affb-4e88-ab7a-29893cca4c59",
   "metadata": {
    "execution": {
     "iopub.execute_input": "2024-06-18T23:42:04.694967Z",
     "iopub.status.busy": "2024-06-18T23:42:04.693793Z",
     "iopub.status.idle": "2024-06-18T23:42:33.999532Z",
     "shell.execute_reply": "2024-06-18T23:42:33.998207Z",
     "shell.execute_reply.started": "2024-06-18T23:42:04.694924Z"
    },
    "tags": []
   },
   "outputs": [
    {
     "name": "stdout",
     "output_type": "stream",
     "text": [
      "tensor(0.2309, device='cuda:0') 0\n",
      "tensor(0.2279, device='cuda:0') tensor(0.5000)\n",
      "tensor(0.2305, device='cuda:0') tensor(0.3125)\n",
      "tensor(0.2317, device='cuda:0') tensor(0.5625)\n",
      "tensor(0.2335, device='cuda:0') tensor(0.6250)\n",
      "tensor(0.2340, device='cuda:0') tensor(0.5625)\n",
      "tensor(0.2343, device='cuda:0') tensor(0.3750)\n",
      "tensor(0.2359, device='cuda:0') tensor(0.5625)\n",
      "tensor(0.2377, device='cuda:0') tensor(0.5000)\n"
     ]
    },
    {
     "ename": "KeyboardInterrupt",
     "evalue": "",
     "output_type": "error",
     "traceback": [
      "\u001b[0;31m---------------------------------------------------------------------------\u001b[0m",
      "\u001b[0;31mKeyboardInterrupt\u001b[0m                         Traceback (most recent call last)",
      "\u001b[0;32m/tmp/ipykernel_18093/885579335.py\u001b[0m in \u001b[0;36m<cell line: 7>\u001b[0;34m()\u001b[0m\n\u001b[1;32m      5\u001b[0m \u001b[0mMetropolis\u001b[0m \u001b[0;34m=\u001b[0m \u001b[0mMCMC\u001b[0m\u001b[0;34m(\u001b[0m\u001b[0mrel1\u001b[0m\u001b[0;34m,\u001b[0m\u001b[0md\u001b[0m\u001b[0;34m=\u001b[0m\u001b[0;36m0.5\u001b[0m\u001b[0;34m*\u001b[0m\u001b[0;34m(\u001b[0m\u001b[0ma\u001b[0m\u001b[0;34m/\u001b[0m\u001b[0mN_nod\u001b[0m\u001b[0;34m)\u001b[0m\u001b[0;34m**\u001b[0m\u001b[0;36m0.5\u001b[0m\u001b[0;34m,\u001b[0m\u001b[0mN_sweep\u001b[0m\u001b[0;34m=\u001b[0m\u001b[0;36m100000\u001b[0m\u001b[0;34m,\u001b[0m\u001b[0mlog_per\u001b[0m\u001b[0;34m=\u001b[0m\u001b[0;36m1000\u001b[0m\u001b[0;34m)\u001b[0m\u001b[0;34m\u001b[0m\u001b[0;34m\u001b[0m\u001b[0m\n\u001b[1;32m      6\u001b[0m \u001b[0;31m#z=torch.zeros((N_samp,N_nod)).to(device)\u001b[0m\u001b[0;34m\u001b[0m\u001b[0;34m\u001b[0m\u001b[0m\n\u001b[0;32m----> 7\u001b[0;31m \u001b[0mz\u001b[0m \u001b[0;34m=\u001b[0m \u001b[0mMetropolis\u001b[0m\u001b[0;34m.\u001b[0m\u001b[0mrun\u001b[0m\u001b[0;34m(\u001b[0m\u001b[0mz\u001b[0m\u001b[0;34m)\u001b[0m\u001b[0;34m\u001b[0m\u001b[0;34m\u001b[0m\u001b[0m\n\u001b[0m",
      "\u001b[0;32m/tmp/ipykernel_18093/4084369985.py\u001b[0m in \u001b[0;36mrun\u001b[0;34m(self, z)\u001b[0m\n\u001b[1;32m     67\u001b[0m             \u001b[0;32mif\u001b[0m \u001b[0mi\u001b[0m\u001b[0;34m%\u001b[0m\u001b[0mself\u001b[0m\u001b[0;34m.\u001b[0m\u001b[0mlog_per\u001b[0m\u001b[0;34m==\u001b[0m\u001b[0;36m0\u001b[0m\u001b[0;34m:\u001b[0m\u001b[0;34m\u001b[0m\u001b[0;34m\u001b[0m\u001b[0m\n\u001b[1;32m     68\u001b[0m                 \u001b[0mself\u001b[0m\u001b[0;34m.\u001b[0m\u001b[0mlog\u001b[0m\u001b[0;34m(\u001b[0m\u001b[0mz\u001b[0m\u001b[0;34m)\u001b[0m\u001b[0;34m\u001b[0m\u001b[0;34m\u001b[0m\u001b[0m\n\u001b[0;32m---> 69\u001b[0;31m             \u001b[0mself\u001b[0m\u001b[0;34m.\u001b[0m\u001b[0msweep\u001b[0m\u001b[0;34m(\u001b[0m\u001b[0mz\u001b[0m\u001b[0;34m)\u001b[0m\u001b[0;34m\u001b[0m\u001b[0;34m\u001b[0m\u001b[0m\n\u001b[0m\u001b[1;32m     70\u001b[0m \u001b[0;34m\u001b[0m\u001b[0m\n\u001b[1;32m     71\u001b[0m         \u001b[0;32mreturn\u001b[0m \u001b[0mz\u001b[0m\u001b[0;34m\u001b[0m\u001b[0;34m\u001b[0m\u001b[0m\n",
      "\u001b[0;32m/tmp/ipykernel_18093/4084369985.py\u001b[0m in \u001b[0;36msweep\u001b[0;34m(self, z)\u001b[0m\n\u001b[1;32m     19\u001b[0m         \u001b[0my\u001b[0m \u001b[0;34m=\u001b[0m \u001b[0mz\u001b[0m\u001b[0;34m+\u001b[0m\u001b[0mself\u001b[0m\u001b[0;34m.\u001b[0m\u001b[0md\u001b[0m\u001b[0;34m*\u001b[0m\u001b[0;34m(\u001b[0m\u001b[0;36m2\u001b[0m\u001b[0;34m*\u001b[0m\u001b[0mshift\u001b[0m\u001b[0;34m-\u001b[0m\u001b[0;36m1\u001b[0m\u001b[0;34m)\u001b[0m\u001b[0;34m\u001b[0m\u001b[0;34m\u001b[0m\u001b[0m\n\u001b[1;32m     20\u001b[0m \u001b[0;34m\u001b[0m\u001b[0m\n\u001b[0;32m---> 21\u001b[0;31m         \u001b[0mS_new\u001b[0m\u001b[0;34m=\u001b[0m\u001b[0mself\u001b[0m\u001b[0;34m.\u001b[0m\u001b[0mcalc_S\u001b[0m\u001b[0;34m(\u001b[0m\u001b[0my\u001b[0m\u001b[0;34m)\u001b[0m\u001b[0;34m\u001b[0m\u001b[0;34m\u001b[0m\u001b[0m\n\u001b[0m\u001b[1;32m     22\u001b[0m \u001b[0;34m\u001b[0m\u001b[0m\n\u001b[1;32m     23\u001b[0m         \u001b[0mdS\u001b[0m\u001b[0;34m=\u001b[0m\u001b[0mS_new\u001b[0m\u001b[0;34m-\u001b[0m\u001b[0mself\u001b[0m\u001b[0;34m.\u001b[0m\u001b[0mS\u001b[0m\u001b[0;34m\u001b[0m\u001b[0;34m\u001b[0m\u001b[0m\n",
      "\u001b[0;32m/tmp/ipykernel_18093/4084369985.py\u001b[0m in \u001b[0;36mcalc_S\u001b[0;34m(self, z)\u001b[0m\n\u001b[1;32m     47\u001b[0m     \u001b[0;32mdef\u001b[0m \u001b[0mcalc_S\u001b[0m\u001b[0;34m(\u001b[0m\u001b[0mself\u001b[0m\u001b[0;34m,\u001b[0m\u001b[0mz\u001b[0m\u001b[0;34m)\u001b[0m\u001b[0;34m:\u001b[0m\u001b[0;34m\u001b[0m\u001b[0;34m\u001b[0m\u001b[0m\n\u001b[1;32m     48\u001b[0m         \u001b[0;32mif\u001b[0m \u001b[0mself\u001b[0m\u001b[0;34m.\u001b[0m\u001b[0mmodel\u001b[0m\u001b[0;34m==\u001b[0m\u001b[0;34m\"none\"\u001b[0m\u001b[0;34m:\u001b[0m\u001b[0;34m\u001b[0m\u001b[0;34m\u001b[0m\u001b[0m\n\u001b[0;32m---> 49\u001b[0;31m             \u001b[0mS\u001b[0m\u001b[0;34m=\u001b[0m\u001b[0mself\u001b[0m\u001b[0;34m.\u001b[0m\u001b[0msystem\u001b[0m\u001b[0;34m.\u001b[0m\u001b[0mFull_S\u001b[0m\u001b[0;34m(\u001b[0m\u001b[0mz\u001b[0m\u001b[0;34m)\u001b[0m\u001b[0;34m.\u001b[0m\u001b[0mto\u001b[0m\u001b[0;34m(\u001b[0m\u001b[0mz\u001b[0m\u001b[0;34m.\u001b[0m\u001b[0mdevice\u001b[0m\u001b[0;34m)\u001b[0m\u001b[0;34m\u001b[0m\u001b[0;34m\u001b[0m\u001b[0m\n\u001b[0m\u001b[1;32m     50\u001b[0m         \u001b[0;32melse\u001b[0m\u001b[0;34m:\u001b[0m\u001b[0;34m\u001b[0m\u001b[0;34m\u001b[0m\u001b[0m\n\u001b[1;32m     51\u001b[0m             \u001b[0mx\u001b[0m \u001b[0;34m,\u001b[0m \u001b[0mlad\u001b[0m \u001b[0;34m=\u001b[0m \u001b[0mself\u001b[0m\u001b[0;34m.\u001b[0m\u001b[0mmodel\u001b[0m\u001b[0;34m(\u001b[0m\u001b[0mz\u001b[0m\u001b[0;34m)\u001b[0m\u001b[0;34m\u001b[0m\u001b[0;34m\u001b[0m\u001b[0m\n",
      "\u001b[0;32m~/work/resources/Normalizing Flow/System.py\u001b[0m in \u001b[0;36mFull_S\u001b[0;34m(self, x)\u001b[0m\n\u001b[1;32m     20\u001b[0m         \u001b[0mx_next\u001b[0m\u001b[0;34m=\u001b[0m\u001b[0mtorch\u001b[0m\u001b[0;34m.\u001b[0m\u001b[0mroll\u001b[0m\u001b[0;34m(\u001b[0m\u001b[0mx\u001b[0m\u001b[0;34m,\u001b[0m\u001b[0;34m-\u001b[0m\u001b[0;36m1\u001b[0m\u001b[0;34m,\u001b[0m\u001b[0;36m1\u001b[0m\u001b[0;34m)\u001b[0m\u001b[0;34m\u001b[0m\u001b[0;34m\u001b[0m\u001b[0m\n\u001b[1;32m     21\u001b[0m         \u001b[0mdiff\u001b[0m\u001b[0;34m=\u001b[0m\u001b[0mx_next\u001b[0m\u001b[0;34m-\u001b[0m\u001b[0mx\u001b[0m\u001b[0;34m\u001b[0m\u001b[0;34m\u001b[0m\u001b[0m\n\u001b[0;32m---> 22\u001b[0;31m         \u001b[0mFull_T\u001b[0m\u001b[0;34m=\u001b[0m\u001b[0mtorch\u001b[0m\u001b[0;34m.\u001b[0m\u001b[0msum\u001b[0m\u001b[0;34m(\u001b[0m\u001b[0mself\u001b[0m\u001b[0;34m.\u001b[0m\u001b[0mT\u001b[0m\u001b[0;34m(\u001b[0m\u001b[0mdiff\u001b[0m\u001b[0;34m)\u001b[0m\u001b[0;34m,\u001b[0m\u001b[0maxis\u001b[0m\u001b[0;34m=\u001b[0m\u001b[0;36m1\u001b[0m\u001b[0;34m)\u001b[0m\u001b[0;34m\u001b[0m\u001b[0;34m\u001b[0m\u001b[0m\n\u001b[0m\u001b[1;32m     23\u001b[0m         \u001b[0mFull_V\u001b[0m\u001b[0;34m=\u001b[0m\u001b[0mtorch\u001b[0m\u001b[0;34m.\u001b[0m\u001b[0msum\u001b[0m\u001b[0;34m(\u001b[0m\u001b[0mself\u001b[0m\u001b[0;34m.\u001b[0m\u001b[0mV\u001b[0m\u001b[0;34m(\u001b[0m\u001b[0mx\u001b[0m\u001b[0;34m)\u001b[0m\u001b[0;34m,\u001b[0m\u001b[0maxis\u001b[0m\u001b[0;34m=\u001b[0m\u001b[0;36m1\u001b[0m\u001b[0;34m)\u001b[0m\u001b[0;34m\u001b[0m\u001b[0;34m\u001b[0m\u001b[0m\n\u001b[1;32m     24\u001b[0m         \u001b[0mFull_S\u001b[0m\u001b[0;34m=\u001b[0m\u001b[0mself\u001b[0m\u001b[0;34m.\u001b[0m\u001b[0ma\u001b[0m\u001b[0;34m*\u001b[0m\u001b[0;34m(\u001b[0m\u001b[0mFull_T\u001b[0m\u001b[0;34m+\u001b[0m\u001b[0mFull_V\u001b[0m\u001b[0;34m)\u001b[0m\u001b[0;34m+\u001b[0m\u001b[0mself\u001b[0m\u001b[0;34m.\u001b[0m\u001b[0mn_nod\u001b[0m\u001b[0;34m*\u001b[0m\u001b[0mself\u001b[0m\u001b[0;34m.\u001b[0m\u001b[0mnormalizer\u001b[0m\u001b[0;34m+\u001b[0m\u001b[0mself\u001b[0m\u001b[0;34m.\u001b[0m\u001b[0mLog_Z\u001b[0m\u001b[0;34m\u001b[0m\u001b[0;34m\u001b[0m\u001b[0m\n",
      "\u001b[0;32m~/work/resources/Normalizing Flow/NFrel_oscillator.py\u001b[0m in \u001b[0;36mT\u001b[0;34m(self, diff)\u001b[0m\n\u001b[1;32m     20\u001b[0m         \u001b[0mc\u001b[0m\u001b[0;34m=\u001b[0m\u001b[0;34m(\u001b[0m\u001b[0mself\u001b[0m\u001b[0;34m.\u001b[0m\u001b[0ms1\u001b[0m\u001b[0;34m)\u001b[0m \u001b[0;34m**\u001b[0m \u001b[0;34m(\u001b[0m\u001b[0;34m-\u001b[0m\u001b[0;36m2\u001b[0m\u001b[0;34m)\u001b[0m\u001b[0;34m\u001b[0m\u001b[0;34m\u001b[0m\u001b[0m\n\u001b[1;32m     21\u001b[0m         \u001b[0my\u001b[0m\u001b[0;34m=\u001b[0m\u001b[0;34m(\u001b[0m\u001b[0;36m1\u001b[0m \u001b[0;34m+\u001b[0m \u001b[0;34m(\u001b[0m\u001b[0mdiff\u001b[0m\u001b[0;34m/\u001b[0m\u001b[0ma\u001b[0m\u001b[0;34m)\u001b[0m\u001b[0;34m**\u001b[0m\u001b[0;36m2\u001b[0m \u001b[0;34m*\u001b[0m \u001b[0mc\u001b[0m\u001b[0;34m)\u001b[0m\u001b[0;34m**\u001b[0m\u001b[0;36m0.5\u001b[0m\u001b[0;34m\u001b[0m\u001b[0;34m\u001b[0m\u001b[0m\n\u001b[0;32m---> 22\u001b[0;31m         \u001b[0mln\u001b[0m\u001b[0;34m=\u001b[0m\u001b[0mtorch\u001b[0m\u001b[0;34m.\u001b[0m\u001b[0mlog\u001b[0m\u001b[0;34m(\u001b[0m\u001b[0mQ1\u001b[0m\u001b[0;34m(\u001b[0m \u001b[0mself\u001b[0m\u001b[0;34m.\u001b[0m\u001b[0ms2\u001b[0m \u001b[0;34m*\u001b[0m \u001b[0ma\u001b[0m \u001b[0;34m*\u001b[0m \u001b[0my\u001b[0m \u001b[0;34m)\u001b[0m\u001b[0;34m/\u001b[0m\u001b[0;34m(\u001b[0m\u001b[0my\u001b[0m \u001b[0;34m*\u001b[0m \u001b[0mQ1\u001b[0m\u001b[0;34m(\u001b[0m\u001b[0mself\u001b[0m\u001b[0;34m.\u001b[0m\u001b[0ms2\u001b[0m \u001b[0;34m*\u001b[0m \u001b[0ma\u001b[0m\u001b[0;34m)\u001b[0m\u001b[0;34m)\u001b[0m\u001b[0;34m)\u001b[0m\u001b[0;34m\u001b[0m\u001b[0;34m\u001b[0m\u001b[0m\n\u001b[0m\u001b[1;32m     23\u001b[0m         \u001b[0mt\u001b[0m \u001b[0;34m=\u001b[0m \u001b[0mself\u001b[0m\u001b[0;34m.\u001b[0m\u001b[0ms2\u001b[0m \u001b[0;34m*\u001b[0m \u001b[0;34m(\u001b[0m\u001b[0my\u001b[0m\u001b[0;34m-\u001b[0m\u001b[0;36m1\u001b[0m\u001b[0;34m)\u001b[0m \u001b[0;34m-\u001b[0m \u001b[0mln\u001b[0m \u001b[0;34m/\u001b[0m \u001b[0ma\u001b[0m\u001b[0;34m\u001b[0m\u001b[0;34m\u001b[0m\u001b[0m\n\u001b[1;32m     24\u001b[0m         \u001b[0;32mreturn\u001b[0m \u001b[0mt\u001b[0m\u001b[0;34m\u001b[0m\u001b[0;34m\u001b[0m\u001b[0m\n",
      "\u001b[0;32m~/work/resources/Normalizing Flow/bessel.py\u001b[0m in \u001b[0;36mmy_Q1\u001b[0;34m(z, M, z0)\u001b[0m\n\u001b[1;32m     29\u001b[0m     \u001b[0my1\u001b[0m\u001b[0;34m=\u001b[0m\u001b[0mmask1\u001b[0m\u001b[0;34m*\u001b[0m\u001b[0mz\u001b[0m\u001b[0;34m+\u001b[0m\u001b[0mmask2\u001b[0m\u001b[0;34m\u001b[0m\u001b[0;34m\u001b[0m\u001b[0m\n\u001b[1;32m     30\u001b[0m     \u001b[0my2\u001b[0m\u001b[0;34m=\u001b[0m\u001b[0mmask2\u001b[0m\u001b[0;34m*\u001b[0m\u001b[0mz\u001b[0m\u001b[0;34m+\u001b[0m\u001b[0mmask1\u001b[0m\u001b[0;34m\u001b[0m\u001b[0;34m\u001b[0m\u001b[0m\n\u001b[0;32m---> 31\u001b[0;31m     \u001b[0mq\u001b[0m\u001b[0;34m=\u001b[0m\u001b[0mmask1\u001b[0m\u001b[0;34m*\u001b[0m\u001b[0mmy_Q1_small\u001b[0m\u001b[0;34m(\u001b[0m\u001b[0my1\u001b[0m\u001b[0;34m)\u001b[0m\u001b[0;34m+\u001b[0m\u001b[0mmask2\u001b[0m\u001b[0;34m*\u001b[0m\u001b[0mmy_Q1_big\u001b[0m\u001b[0;34m(\u001b[0m\u001b[0my2\u001b[0m\u001b[0;34m)\u001b[0m\u001b[0;34m\u001b[0m\u001b[0;34m\u001b[0m\u001b[0m\n\u001b[0m\u001b[1;32m     32\u001b[0m     \u001b[0;32mreturn\u001b[0m \u001b[0mq\u001b[0m\u001b[0;34m\u001b[0m\u001b[0;34m\u001b[0m\u001b[0m\n\u001b[1;32m     33\u001b[0m \u001b[0;34m\u001b[0m\u001b[0m\n",
      "\u001b[0;32m~/work/resources/Normalizing Flow/bessel.py\u001b[0m in \u001b[0;36mmy_Q1_small\u001b[0;34m(z, M)\u001b[0m\n\u001b[1;32m      3\u001b[0m \u001b[0mpi\u001b[0m\u001b[0;34m=\u001b[0m\u001b[0mtorch\u001b[0m\u001b[0;34m.\u001b[0m\u001b[0mtensor\u001b[0m\u001b[0;34m(\u001b[0m\u001b[0mnp\u001b[0m\u001b[0;34m.\u001b[0m\u001b[0mpi\u001b[0m\u001b[0;34m)\u001b[0m\u001b[0;34m\u001b[0m\u001b[0;34m\u001b[0m\u001b[0m\n\u001b[1;32m      4\u001b[0m \u001b[0mC\u001b[0m\u001b[0;34m=\u001b[0m\u001b[0mtorch\u001b[0m\u001b[0;34m.\u001b[0m\u001b[0mtensor\u001b[0m\u001b[0;34m(\u001b[0m\u001b[0;36m0.5772156649\u001b[0m\u001b[0;34m)\u001b[0m\u001b[0;34m\u001b[0m\u001b[0;34m\u001b[0m\u001b[0m\n\u001b[0;32m----> 5\u001b[0;31m \u001b[0;32mdef\u001b[0m \u001b[0mmy_Q1_small\u001b[0m\u001b[0;34m(\u001b[0m\u001b[0mz\u001b[0m\u001b[0;34m,\u001b[0m\u001b[0mM\u001b[0m\u001b[0;34m=\u001b[0m\u001b[0;36m10\u001b[0m\u001b[0;34m)\u001b[0m\u001b[0;34m:\u001b[0m\u001b[0;34m\u001b[0m\u001b[0;34m\u001b[0m\u001b[0m\n\u001b[0m\u001b[1;32m      6\u001b[0m     \u001b[0ma\u001b[0m\u001b[0;34m=\u001b[0m\u001b[0mz\u001b[0m\u001b[0;34m/\u001b[0m\u001b[0;36m2\u001b[0m\u001b[0;34m\u001b[0m\u001b[0;34m\u001b[0m\u001b[0m\n\u001b[1;32m      7\u001b[0m     \u001b[0mb\u001b[0m\u001b[0;34m=\u001b[0m\u001b[0;36m0\u001b[0m\u001b[0;34m\u001b[0m\u001b[0;34m\u001b[0m\u001b[0m\n",
      "\u001b[0;31mKeyboardInterrupt\u001b[0m: "
     ]
    }
   ],
   "source": [
    "N_samp=16\n",
    "model1=RG_trained.to(device)\n",
    "z=normal_dist.sample((N_samp,)).to(device)\n",
    "z,_=model1(z)\n",
    "Metropolis = MCMC(rel1,d=0.5*(a/N_nod)**0.5,N_sweep=100000,log_per=1000)\n",
    "#z=torch.zeros((N_samp,N_nod)).to(device)\n",
    "z = Metropolis.run(z)"
   ]
  },
  {
   "cell_type": "code",
   "execution_count": 72,
   "id": "4b76a529-b8d0-406a-bdf0-3e5693915203",
   "metadata": {
    "execution": {
     "iopub.execute_input": "2024-06-16T21:03:03.480804Z",
     "iopub.status.busy": "2024-06-16T21:03:03.479694Z",
     "iopub.status.idle": "2024-06-16T21:03:04.085984Z",
     "shell.execute_reply": "2024-06-16T21:03:04.085061Z",
     "shell.execute_reply.started": "2024-06-16T21:03:03.480761Z"
    }
   },
   "outputs": [
    {
     "data": {
      "image/png": "[encoded data removed]",
      "text/plain": [
       "<Figure size 640x480 with 1 Axes>"
      ]
     },
     "metadata": {},
     "output_type": "display_data"
    }
   ],
   "source": [
    "fig=plt.figure()\n",
    "plt.scatter(z[:,0],z[:,1],color=\"blue\",s=1)\n",
    "plt.grid(True)\n",
    "plt.show()"
   ]
  },
  {
   "cell_type": "code",
   "execution_count": 36,
   "id": "62fd2db7-f768-43fc-8b37-2c0c75004eba",
   "metadata": {
    "execution": {
     "iopub.execute_input": "2024-06-07T17:52:10.840709Z",
     "iopub.status.busy": "2024-06-07T17:52:10.839880Z",
     "iopub.status.idle": "2024-06-07T17:52:10.873666Z",
     "shell.execute_reply": "2024-06-07T17:52:10.872798Z",
     "shell.execute_reply.started": "2024-06-07T17:52:10.840667Z"
    },
    "tags": []
   },
   "outputs": [],
   "source": [
    "import time\n",
    "class HMC:\n",
    "    def __init__(self,system,eps=0.001,n_steps=10,sigma=1,N_sweep=100,log_per=1000):\n",
    "        self.system = system\n",
    "        self.S = 0\n",
    "        #self.model = model\n",
    "        self.eps = eps\n",
    "        self.n_steps = n_steps\n",
    "        self.N_sweep = N_sweep\n",
    "        self.log_per = log_per\n",
    "        self.ar = 0\n",
    "        self.shift_dist = torch.distributions.Normal(torch.zeros(N_nod), sigma * torch.ones(N_nod))\n",
    "        self.un = torch.distributions.Uniform(0, 1)\n",
    "        self.res=[]\n",
    "        self.times=[]\n",
    "    \n",
    "    def leapfrog_step(F,p,x,eps):\n",
    "        p_half = p + 0.5 * eps * F(x)  # F=-dV/dx\n",
    "        y = x + eps * p_half\n",
    "        q = p_half + eps * F(x)\n",
    "        return q, y\n",
    "\n",
    "    def hmc_new(self,p,x):\n",
    "        \n",
    "        for i in range(self.n_steps):\n",
    "            p , x = HMC.leapfrog_step(self.system.F,p,x,self.eps)\n",
    "        return p,x       \n",
    "\n",
    "\n",
    "    def hmc_sweep(self,x):\n",
    "        p = self.shift_dist.sample((N_samp,)).to(x.device)\n",
    "        q , y = self.hmc_new(p,x)\n",
    "        S_new = self.calc_S(y)\n",
    "        dS = S_new-self.S + torch.mean(q**2/2-p**2/2,axis=1)\n",
    "        prob = torch.exp(-dS)\n",
    "        ind = self.un.sample((N_samp,)).to(x.device)<prob\n",
    "        mask = ind.nonzero()\n",
    "        if len(mask)>1:\n",
    "            mask = mask.squeeze()\n",
    "        if  len(mask)>0:\n",
    "            self.S[mask] = S_new[mask]\n",
    "            x[mask,:] = y[mask,:]\n",
    "        self.ar = torch.mean(ind.type('torch.FloatTensor'))    \n",
    "    \n",
    "    \n",
    "    def log(self,z):\n",
    "        x1=z\n",
    "        print(torch.mean(x1**2),self.ar)\n",
    "        self.res.append(torch.mean(x1**2).cpu())\n",
    "        self.Times.append(time.time()-self.start)\n",
    "    \n",
    "    def calc_S(self,z):\n",
    "        S=self.system.Full_S(z).to(z.device)   \n",
    "        return S\n",
    "    \n",
    "    def init_state(self,z):\n",
    "        self.start=time.time()\n",
    "        self.S=self.calc_S(z)\n",
    "        self.res=[]\n",
    "        self.Times=[]\n",
    "\n",
    "    def run(self,x):\n",
    "        self.init_state(x)\n",
    "        for i in range(self.N_sweep):\n",
    "            if i%self.log_per==0:\n",
    "                self.log(x)\n",
    "            self.hmc_sweep(x)\n",
    "        return x         "
   ]
  },
  {
   "cell_type": "code",
   "execution_count": 37,
   "id": "93235a2e-1352-4bba-bb11-0c60030cd35b",
   "metadata": {
    "execution": {
     "iopub.execute_input": "2024-06-07T17:52:11.520268Z",
     "iopub.status.busy": "2024-06-07T17:52:11.519271Z",
     "iopub.status.idle": "2024-06-07T18:19:53.172533Z",
     "shell.execute_reply": "2024-06-07T18:19:53.171800Z",
     "shell.execute_reply.started": "2024-06-07T17:52:11.520224Z"
    },
    "tags": []
   },
   "outputs": [
    {
     "name": "stdout",
     "output_type": "stream",
     "text": [
      "tensor(0.2798) 0\n",
      "tensor(0.2851) tensor(0.7620)\n",
      "tensor(0.2921) tensor(0.7730)\n",
      "tensor(0.2970) tensor(0.7850)\n",
      "tensor(0.3012) tensor(0.7610)\n",
      "tensor(0.3058) tensor(0.7680)\n",
      "tensor(0.3103) tensor(0.7760)\n",
      "tensor(0.3147) tensor(0.7460)\n",
      "tensor(0.3193) tensor(0.7670)\n",
      "tensor(0.3209) tensor(0.7740)\n",
      "tensor(0.3239) tensor(0.7410)\n",
      "tensor(0.3272) tensor(0.7800)\n",
      "tensor(0.3325) tensor(0.7660)\n",
      "tensor(0.3346) tensor(0.7600)\n",
      "tensor(0.3374) tensor(0.7760)\n",
      "tensor(0.3417) tensor(0.7670)\n",
      "tensor(0.3427) tensor(0.7830)\n",
      "tensor(0.3469) tensor(0.7680)\n",
      "tensor(0.3481) tensor(0.7790)\n",
      "tensor(0.3484) tensor(0.7650)\n",
      "tensor(0.3510) tensor(0.7740)\n",
      "tensor(0.3524) tensor(0.7750)\n",
      "tensor(0.3528) tensor(0.7760)\n",
      "tensor(0.3531) tensor(0.7690)\n",
      "tensor(0.3539) tensor(0.8060)\n",
      "tensor(0.3568) tensor(0.7790)\n",
      "tensor(0.3569) tensor(0.7970)\n",
      "tensor(0.3586) tensor(0.7720)\n",
      "tensor(0.3578) tensor(0.7550)\n",
      "tensor(0.3600) tensor(0.7760)\n",
      "tensor(0.3632) tensor(0.7700)\n",
      "tensor(0.3659) tensor(0.7900)\n",
      "tensor(0.3689) tensor(0.7660)\n",
      "tensor(0.3718) tensor(0.7770)\n",
      "tensor(0.3728) tensor(0.7740)\n",
      "tensor(0.3741) tensor(0.7750)\n",
      "tensor(0.3724) tensor(0.7600)\n",
      "tensor(0.3731) tensor(0.7710)\n",
      "tensor(0.3749) tensor(0.7980)\n",
      "tensor(0.3761) tensor(0.7670)\n",
      "tensor(0.3750) tensor(0.7470)\n",
      "tensor(0.3767) tensor(0.7650)\n",
      "tensor(0.3767) tensor(0.7380)\n",
      "tensor(0.3760) tensor(0.7610)\n",
      "tensor(0.3752) tensor(0.7760)\n",
      "tensor(0.3750) tensor(0.7920)\n",
      "tensor(0.3739) tensor(0.7550)\n",
      "tensor(0.3729) tensor(0.7700)\n",
      "tensor(0.3723) tensor(0.7910)\n",
      "tensor(0.3721) tensor(0.7660)\n",
      "tensor(0.3707) tensor(0.7810)\n",
      "tensor(0.3738) tensor(0.7520)\n",
      "tensor(0.3770) tensor(0.7650)\n",
      "tensor(0.3776) tensor(0.7840)\n",
      "tensor(0.3760) tensor(0.7750)\n",
      "tensor(0.3772) tensor(0.7810)\n",
      "tensor(0.3769) tensor(0.8020)\n",
      "tensor(0.3769) tensor(0.7850)\n",
      "tensor(0.3774) tensor(0.7680)\n",
      "tensor(0.3782) tensor(0.7830)\n",
      "tensor(0.3789) tensor(0.7710)\n",
      "tensor(0.3791) tensor(0.7790)\n",
      "tensor(0.3783) tensor(0.7840)\n",
      "tensor(0.3787) tensor(0.7780)\n",
      "tensor(0.3803) tensor(0.7520)\n",
      "tensor(0.3817) tensor(0.7960)\n",
      "tensor(0.3818) tensor(0.7720)\n",
      "tensor(0.3840) tensor(0.7830)\n",
      "tensor(0.3847) tensor(0.7930)\n",
      "tensor(0.3836) tensor(0.7690)\n",
      "tensor(0.3852) tensor(0.7770)\n",
      "tensor(0.3878) tensor(0.7840)\n",
      "tensor(0.3887) tensor(0.7810)\n",
      "tensor(0.3907) tensor(0.7660)\n",
      "tensor(0.3913) tensor(0.7510)\n",
      "tensor(0.3927) tensor(0.7720)\n",
      "tensor(0.3923) tensor(0.7680)\n",
      "tensor(0.3908) tensor(0.7790)\n",
      "tensor(0.3903) tensor(0.7780)\n",
      "tensor(0.3918) tensor(0.7760)\n",
      "tensor(0.3938) tensor(0.7810)\n",
      "tensor(0.3951) tensor(0.7650)\n",
      "tensor(0.3962) tensor(0.7860)\n",
      "tensor(0.3963) tensor(0.7760)\n",
      "tensor(0.3949) tensor(0.7760)\n",
      "tensor(0.3971) tensor(0.7790)\n",
      "tensor(0.3995) tensor(0.7960)\n",
      "tensor(0.3994) tensor(0.7620)\n",
      "tensor(0.4021) tensor(0.7800)\n",
      "tensor(0.3991) tensor(0.7750)\n",
      "tensor(0.3971) tensor(0.7830)\n",
      "tensor(0.3984) tensor(0.7940)\n",
      "tensor(0.4008) tensor(0.7660)\n",
      "tensor(0.4016) tensor(0.7770)\n",
      "tensor(0.4028) tensor(0.7520)\n",
      "tensor(0.4031) tensor(0.7510)\n",
      "tensor(0.4023) tensor(0.7920)\n",
      "tensor(0.4021) tensor(0.7550)\n",
      "tensor(0.4044) tensor(0.7690)\n",
      "tensor(0.4029) tensor(0.7780)\n",
      "tensor(0.) 0\n",
      "tensor(0.0284) tensor(0.7510)\n",
      "tensor(0.0456) tensor(0.7600)\n",
      "tensor(0.0596) tensor(0.7750)\n",
      "tensor(0.0712) tensor(0.7470)\n",
      "tensor(0.0819) tensor(0.7700)\n",
      "tensor(0.0919) tensor(0.7720)\n",
      "tensor(0.1009) tensor(0.7670)\n",
      "tensor(0.1089) tensor(0.7760)\n",
      "tensor(0.1161) tensor(0.7810)\n",
      "tensor(0.1236) tensor(0.7800)\n",
      "tensor(0.1317) tensor(0.7650)\n",
      "tensor(0.1394) tensor(0.7600)\n",
      "tensor(0.1476) tensor(0.7760)\n",
      "tensor(0.1535) tensor(0.7800)\n",
      "tensor(0.1586) tensor(0.7550)\n",
      "tensor(0.1650) tensor(0.7590)\n",
      "tensor(0.1701) tensor(0.7720)\n",
      "tensor(0.1756) tensor(0.7580)\n",
      "tensor(0.1805) tensor(0.7810)\n",
      "tensor(0.1872) tensor(0.7590)\n",
      "tensor(0.1906) tensor(0.7650)\n",
      "tensor(0.1954) tensor(0.7660)\n",
      "tensor(0.2008) tensor(0.7780)\n",
      "tensor(0.2052) tensor(0.7770)\n",
      "tensor(0.2092) tensor(0.7880)\n",
      "tensor(0.2120) tensor(0.7570)\n",
      "tensor(0.2145) tensor(0.7580)\n",
      "tensor(0.2175) tensor(0.7510)\n",
      "tensor(0.2201) tensor(0.7790)\n",
      "tensor(0.2229) tensor(0.7970)\n",
      "tensor(0.2266) tensor(0.7660)\n",
      "tensor(0.2296) tensor(0.7780)\n",
      "tensor(0.2314) tensor(0.7790)\n",
      "tensor(0.2345) tensor(0.7600)\n",
      "tensor(0.2377) tensor(0.7740)\n",
      "tensor(0.2406) tensor(0.7730)\n",
      "tensor(0.2455) tensor(0.7810)\n",
      "tensor(0.2475) tensor(0.7750)\n",
      "tensor(0.2507) tensor(0.7670)\n",
      "tensor(0.2546) tensor(0.7920)\n",
      "tensor(0.2564) tensor(0.7920)\n",
      "tensor(0.2602) tensor(0.7930)\n",
      "tensor(0.2620) tensor(0.7930)\n",
      "tensor(0.2631) tensor(0.7510)\n",
      "tensor(0.2648) tensor(0.7940)\n",
      "tensor(0.2695) tensor(0.7760)\n",
      "tensor(0.2701) tensor(0.7920)\n",
      "tensor(0.2721) tensor(0.7770)\n",
      "tensor(0.2758) tensor(0.7730)\n",
      "tensor(0.2802) tensor(0.7780)\n",
      "tensor(0.2817) tensor(0.7690)\n",
      "tensor(0.2854) tensor(0.7740)\n",
      "tensor(0.2876) tensor(0.7760)\n",
      "tensor(0.2904) tensor(0.8060)\n",
      "tensor(0.2932) tensor(0.7980)\n",
      "tensor(0.2918) tensor(0.8050)\n",
      "tensor(0.2934) tensor(0.7870)\n",
      "tensor(0.2942) tensor(0.7660)\n",
      "tensor(0.2954) tensor(0.7720)\n",
      "tensor(0.2957) tensor(0.7940)\n",
      "tensor(0.2978) tensor(0.7580)\n",
      "tensor(0.2969) tensor(0.7670)\n",
      "tensor(0.2984) tensor(0.7490)\n",
      "tensor(0.3009) tensor(0.7750)\n",
      "tensor(0.3035) tensor(0.7690)\n",
      "tensor(0.3066) tensor(0.7760)\n",
      "tensor(0.3092) tensor(0.7400)\n",
      "tensor(0.3124) tensor(0.7800)\n",
      "tensor(0.3114) tensor(0.7820)\n",
      "tensor(0.3136) tensor(0.7600)\n",
      "tensor(0.3159) tensor(0.7810)\n",
      "tensor(0.3172) tensor(0.7840)\n",
      "tensor(0.3179) tensor(0.7830)\n",
      "tensor(0.3201) tensor(0.7690)\n",
      "tensor(0.3214) tensor(0.7710)\n",
      "tensor(0.3195) tensor(0.7770)\n",
      "tensor(0.3212) tensor(0.7750)\n",
      "tensor(0.3231) tensor(0.7800)\n",
      "tensor(0.3232) tensor(0.7930)\n",
      "tensor(0.3249) tensor(0.7820)\n",
      "tensor(0.3255) tensor(0.7650)\n",
      "tensor(0.3257) tensor(0.7770)\n",
      "tensor(0.3261) tensor(0.7570)\n",
      "tensor(0.3266) tensor(0.7860)\n",
      "tensor(0.3272) tensor(0.7700)\n",
      "tensor(0.3279) tensor(0.7630)\n",
      "tensor(0.3280) tensor(0.7730)\n",
      "tensor(0.3288) tensor(0.7930)\n",
      "tensor(0.3294) tensor(0.7780)\n",
      "tensor(0.3322) tensor(0.7850)\n",
      "tensor(0.3337) tensor(0.7550)\n",
      "tensor(0.3343) tensor(0.7510)\n",
      "tensor(0.3356) tensor(0.7740)\n",
      "tensor(0.3367) tensor(0.7570)\n",
      "tensor(0.3408) tensor(0.7570)\n",
      "tensor(0.3408) tensor(0.7440)\n",
      "tensor(0.3406) tensor(0.7820)\n",
      "tensor(0.3409) tensor(0.7870)\n",
      "tensor(0.3421) tensor(0.7680)\n"
     ]
    }
   ],
   "source": [
    "N_samp=1000\n",
    "model1=RG_trained.to(device)\n",
    "cold=torch.zeros((N_samp,N_nod))\n",
    "z=normal_dist.sample((N_samp,)).to(device)\n",
    "z,_=model1(z)\n",
    "HMC_NN = HMC(rel1,N_sweep=100000,log_per=1000)\n",
    "HMC_cold = HMC(rel1,N_sweep=100000,log_per=1000)\n",
    "#z=torch.zeros((N_samp,N_nod)).to(device)\n",
    "z = HMC_NN.run(z)\n",
    "cold = HMC_cold.run(cold)"
   ]
  },
  {
   "cell_type": "code",
   "execution_count": null,
   "id": "9c52e83d-3344-44dc-a291-a4d58c673e15",
   "metadata": {
    "tags": []
   },
   "outputs": [],
   "source": [
    "#z=MCMC(rel_columb,z,model=RG_trained.to(z.device),d=5*(a/N_nod)**0.5,N_sweep=5000)"
   ]
  },
  {
   "cell_type": "code",
   "execution_count": 49,
   "id": "d39307f2-ef27-4bbf-b42b-eb84da528c88",
   "metadata": {
    "execution": {
     "iopub.execute_input": "2024-06-02T20:17:49.464043Z",
     "iopub.status.busy": "2024-06-02T20:17:49.462872Z",
     "iopub.status.idle": "2024-06-02T20:17:49.590090Z",
     "shell.execute_reply": "2024-06-02T20:17:49.589227Z",
     "shell.execute_reply.started": "2024-06-02T20:17:49.463996Z"
    }
   },
   "outputs": [],
   "source": [
    "trajs,_=model1(z)"
   ]
  },
  {
   "cell_type": "code",
   "execution_count": 73,
   "id": "d9f49124-3bc2-45e9-8e75-69f57b172d43",
   "metadata": {
    "execution": {
     "iopub.execute_input": "2024-05-27T23:09:58.806727Z",
     "iopub.status.busy": "2024-05-27T23:09:58.805692Z",
     "iopub.status.idle": "2024-05-27T23:09:58.912158Z",
     "shell.execute_reply": "2024-05-27T23:09:58.911426Z",
     "shell.execute_reply.started": "2024-05-27T23:09:58.806688Z"
    },
    "tags": []
   },
   "outputs": [],
   "source": [
    "from NFandist import calc_G\n",
    "from NFconstants import N_nod, N_traj, NG_points,Beta\n",
    "#g_osc=calc_G(N_nod,Beta,N_nod)\n",
    "g_nf=G(z)\n",
    "#g_nf=G(RG_trained(z)[0])\n",
    "#print(g_nf-g_ur)"
   ]
  },
  {
   "cell_type": "code",
   "execution_count": 57,
   "id": "0af2c8ec-017a-437a-8988-486b170e722b",
   "metadata": {
    "execution": {
     "iopub.execute_input": "2024-06-07T18:29:47.892535Z",
     "iopub.status.busy": "2024-06-07T18:29:47.891375Z",
     "iopub.status.idle": "2024-06-07T18:29:48.136713Z",
     "shell.execute_reply": "2024-06-07T18:29:48.135998Z",
     "shell.execute_reply.started": "2024-06-07T18:29:47.892487Z"
    },
    "tags": []
   },
   "outputs": [
    {
     "data": {
      "image/png": "[encoded data removed]",
      "text/plain": [
       "<Figure size 640x480 with 1 Axes>"
      ]
     },
     "metadata": {},
     "output_type": "display_data"
    }
   ],
   "source": [
    "#import sys\n",
    "#sys.path.append('../')\n",
    "import numpy as np\n",
    "import matplotlib.pyplot as plt\n",
    "from NFconstants import N_nod, N_traj, NG_points,Beta\n",
    "#from Value import G\n",
    "#import ensemble\n",
    "#from NFoscillator import basic_oscillator\n",
    "#from time import time\n",
    "#from NFandist import calc_G\n",
    "\n",
    "\"\"\"\n",
    "ens_nf=ensemble.ensemble.load(\"nf_ensemble.txt\",basic_oscillator)\n",
    "g_nf=np.vstack(ensemble.ensemble.Vaverage_and_sigma(ens_nf,G))\n",
    "g_nf=g_nf.transpose()[0]\n",
    "\"\"\"\n",
    "\n",
    "\"\"\"\n",
    "#g=g_ur\n",
    "print(g_nf[0])\n",
    "fig=plt.figure()\n",
    "#MCMC_list=np.arange(len(g))/len(g)\n",
    "NF_list=np.arange(len(g_nf))/len(g_nf)\n",
    "#plt.scatter(MCMC_list,g)\n",
    "plt.scatter(NF_list,g_nf)\n",
    "#plt.scatter(NF_list,g4_nf)\n",
    "plt.legend([\"MCMC\",\"normalizing flow\"])\n",
    "#plt.legend([\"normalizing flow\"])\n",
    "plt.title(\"Beta=16\")\n",
    "plt.grid(True)\n",
    "plt.show()\n",
    "\"\"\"\n",
    "\n",
    "\n",
    "fig=plt.figure()\n",
    "#l=[g_rel[0]]*len(latTimes)\n",
    "\n",
    "plt.scatter(np.arange(0,100000,1000) ,Metropolis_cold.res,s=5)\n",
    "plt.scatter(np.arange(0,100000,1000) ,Metropolis_NN.res,s=5)\n",
    "plt.scatter(np.arange(0,100000,1000) ,HMC_cold.res,s=5)\n",
    "plt.scatter(np.arange(0,100000,1000) ,HMC_NN.res,s=5)\n",
    "#plt.scatter(phTimes,phres,s=1)\n",
    "#plt.xscale(\"log\")\n",
    "plt.xlabel(r\"$N_s$\",fontsize=17)\n",
    "plt.ylabel(r\"$x^2$\",fontsize=17)\n",
    "plt.legend([\"Metropolis\",\"Normalizing flow+Metropolis\",\"HMC\",\"Normalizing flow+HMC\"])\n",
    "plt.title(\"N=64\"+\"   \"+r\"$\\beta=$\"+str(Beta)+\"    Релятивистский осциллятор\")\n",
    "#plt.scatter(latTimes,l,s=1)\n",
    "plt.grid(True)\n",
    "plt.show()"
   ]
  },
  {
   "cell_type": "code",
   "execution_count": 3,
   "id": "71acea5d-40a6-4424-a5f0-5d79d2551e81",
   "metadata": {
    "execution": {
     "iopub.execute_input": "2024-06-07T16:20:21.828425Z",
     "iopub.status.busy": "2024-06-07T16:20:21.827894Z",
     "iopub.status.idle": "2024-06-07T16:20:21.844157Z",
     "shell.execute_reply": "2024-06-07T16:20:21.843274Z",
     "shell.execute_reply.started": "2024-06-07T16:20:21.828389Z"
    },
    "tags": []
   },
   "outputs": [],
   "source": [
    "kl=np.genfromtxt(\"KL_ur.txt\")"
   ]
  },
  {
   "cell_type": "code",
   "execution_count": 4,
   "id": "c6f82e98-1944-4f13-bb91-73c207d32158",
   "metadata": {
    "execution": {
     "iopub.execute_input": "2024-06-07T16:20:21.847101Z",
     "iopub.status.busy": "2024-06-07T16:20:21.845911Z",
     "iopub.status.idle": "2024-06-07T16:20:21.858936Z",
     "shell.execute_reply": "2024-06-07T16:20:21.858023Z",
     "shell.execute_reply.started": "2024-06-07T16:20:21.847046Z"
    },
    "tags": []
   },
   "outputs": [],
   "source": [
    "kl=kl.transpose()"
   ]
  },
  {
   "cell_type": "code",
   "execution_count": 5,
   "id": "a791336b-c977-4552-b446-345861feb1ed",
   "metadata": {
    "execution": {
     "iopub.execute_input": "2024-06-07T16:20:21.861029Z",
     "iopub.status.busy": "2024-06-07T16:20:21.859874Z",
     "iopub.status.idle": "2024-06-07T16:20:21.878601Z",
     "shell.execute_reply": "2024-06-07T16:20:21.877421Z",
     "shell.execute_reply.started": "2024-06-07T16:20:21.860994Z"
    },
    "tags": []
   },
   "outputs": [
    {
     "data": {
      "text/plain": [
       "array([[5.12000000e+02, 2.56000000e+02, 1.28000000e+02, 6.40000000e+01,\n",
       "        3.20000000e+01, 1.60000000e+01, 8.00000000e+00],\n",
       "       [9.63520203e+01, 5.03314438e+01, 2.79312916e+01, 1.78563347e+01,\n",
       "        1.39471130e+01, 1.25200195e+01, 1.14711685e+01],\n",
       "       [3.61843795e-01, 1.74091488e-01, 2.57185966e-01, 1.11024015e-01,\n",
       "        7.48867616e-02, 9.41358134e-02, 3.88195813e-02]])"
      ]
     },
     "execution_count": 5,
     "metadata": {},
     "output_type": "execute_result"
    }
   ],
   "source": [
    "kl"
   ]
  },
  {
   "cell_type": "code",
   "execution_count": 42,
   "id": "228ea786-3da9-4002-9af6-0ff5cd3c1f77",
   "metadata": {
    "execution": {
     "iopub.execute_input": "2024-06-07T16:39:12.933258Z",
     "iopub.status.busy": "2024-06-07T16:39:12.932244Z",
     "iopub.status.idle": "2024-06-07T16:39:13.092651Z",
     "shell.execute_reply": "2024-06-07T16:39:13.091776Z",
     "shell.execute_reply.started": "2024-06-07T16:39:12.933216Z"
    },
    "tags": []
   },
   "outputs": [
    {
     "data": {
      "image/png": "[encoded data removed]",
      "text/plain": [
       "<Figure size 640x480 with 1 Axes>"
      ]
     },
     "metadata": {},
     "output_type": "display_data"
    },
    {
     "name": "stdout",
     "output_type": "stream",
     "text": [
      "8.324237527518441\n"
     ]
    }
   ],
   "source": [
    "fig=plt.figure\n",
    "linear_model = np.polyfit(kl[0], kl[1], 1)\n",
    "linear_model_fn = np.poly1d(linear_model)\n",
    "plt.plot(kl[0],linear_model_fn(kl[0]))\n",
    "plt.legend([r\"$aN+b$\"+\"    \"+r\"$a=$\"+str(linear_model[0])[:4]+\"    \"+r\"$b=$\"+str(linear_model[1])[:4]])\n",
    "plt.grid(True)\n",
    "plt.xlabel(\"N\",fontsize=17)\n",
    "plt.ylabel(\"Loss\",fontsize=17)\n",
    "plt.errorbar(kl[0], kl[1], yerr=kl[2], fmt='o')\n",
    "plt.show()\n",
    "print(str(linear_model[1]))"
   ]
  },
  {
   "cell_type": "code",
   "execution_count": null,
   "id": "32b03023-c81b-449d-aa2b-45074a6feeb0",
   "metadata": {},
   "outputs": [],
   "source": []
  }
 ],
 "metadata": {
  "kernelspec": {
   "display_name": "DataSphere Kernel",
   "language": "python",
   "name": "python3"
  },
  "language_info": {
   "codemirror_mode": {
    "name": "ipython",
    "version": 3
   },
   "file_extension": ".py",
   "mimetype": "text/x-python",
   "name": "python",
   "nbconvert_exporter": "python",
   "pygments_lexer": "ipython3",
   "version": "3.10.12"
  }
 },
 "nbformat": 4,
 "nbformat_minor": 5
}
