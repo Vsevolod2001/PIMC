{
 "cells": [
  {
   "cell_type": "code",
   "execution_count": 15,
   "id": "dbee9da4",
   "metadata": {
    "execution": {
     "iopub.execute_input": "2024-05-01T14:18:39.654523Z",
     "iopub.status.busy": "2024-05-01T14:18:39.653832Z",
     "iopub.status.idle": "2024-05-01T14:18:42.685848Z",
     "shell.execute_reply": "2024-05-01T14:18:42.684955Z",
     "shell.execute_reply.started": "2024-05-01T14:18:39.654482Z"
    },
    "tags": []
   },
   "outputs": [
    {
     "name": "stderr",
     "output_type": "stream",
     "text": [
      "/usr/local/lib/python3.10/dist-packages/torch/cuda/__init__.py:546: UserWarning: Can't initialize NVML\n",
      "  warnings.warn(\"Can't initialize NVML\")\n"
     ]
    }
   ],
   "source": [
    "from typing import Callable, List, Tuple\n",
    "\n",
    "import pytorch_lightning as pl\n",
    "import torch\n",
    "import torch.nn.functional as F\n",
    "from torch import nn\n",
    "from torch.distributions.distribution import Distribution\n",
    "from pytorch_lightning.loggers import TensorBoardLogger\n",
    "device = torch.device(\"cuda\" if torch.cuda.is_available() else \"cpu\")"
   ]
  },
  {
   "cell_type": "code",
   "execution_count": 16,
   "id": "c93eb4f7",
   "metadata": {
    "execution": {
     "iopub.execute_input": "2024-05-01T14:18:43.693477Z",
     "iopub.status.busy": "2024-05-01T14:18:43.692643Z",
     "iopub.status.idle": "2024-05-01T14:18:43.723156Z",
     "shell.execute_reply": "2024-05-01T14:18:43.722224Z",
     "shell.execute_reply.started": "2024-05-01T14:18:43.693433Z"
    },
    "tags": []
   },
   "outputs": [
    {
     "name": "stdout",
     "output_type": "stream",
     "text": [
      "False\n"
     ]
    }
   ],
   "source": [
    "from NFconstants import N_nod, Beta, a, K_nod\n",
    "from NFandist import get_O\n",
    "from NFandist import get_diag\n",
    "from NFandist import get_C\n",
    "\n",
    "def set_random_seed(seed):\n",
    "    torch.manual_seed(seed)\n",
    "O=(torch.tensor(get_O(N_nod)).float()).to(device)\n",
    "Ot=(torch.t(O)).to(device)\n",
    "print(Ot.requires_grad)\n",
    "\n",
    "\n",
    "#C=(torch.tensor(get_C(N_nod,Beta)).float()).to(device)\n",
    "#Ct=(torch.t(C)).to(device)\n",
    "\n",
    "\n"
   ]
  },
  {
   "cell_type": "code",
   "execution_count": 17,
   "id": "b66bc606",
   "metadata": {
    "execution": {
     "iopub.execute_input": "2024-05-01T14:18:44.692287Z",
     "iopub.status.busy": "2024-05-01T14:18:44.691513Z",
     "iopub.status.idle": "2024-05-01T14:18:44.707209Z",
     "shell.execute_reply": "2024-05-01T14:18:44.706385Z",
     "shell.execute_reply.started": "2024-05-01T14:18:44.692246Z"
    },
    "tags": []
   },
   "outputs": [],
   "source": [
    "class AffineCouplingLayer(nn.Module):\n",
    "    def __init__(\n",
    "        self,\n",
    "        theta: nn.Module,\n",
    "        split,\n",
    "        swap: int\n",
    "    ):\n",
    "        super().__init__()\n",
    "        self.theta = theta\n",
    "        self.split = split\n",
    "        self.swap = swap\n",
    "\n",
    "    def g(self, z: torch.Tensor,params=torch.tensor([])) -> torch.Tensor:\n",
    "        \"\"\"g : z -> x. The inverse of f.\"\"\"\n",
    "        mask1=self.split[self.swap]\n",
    "        mask2=self.split[(self.swap+1)%2]\n",
    "        z1, z2 = z[:,mask1], z[:,mask2]\n",
    "        z1=torch.cat((z1,params),dim=-1)\n",
    "        t, s = self.theta(z1)\n",
    "        x2 = z2 * torch.exp(s) + t\n",
    "        log_det = s.sum(-1) \n",
    "        z[:,mask2]=x2\n",
    "        return z, log_det\n",
    "    \"\"\"\n",
    "    def f(self, x: torch.Tensor) -> torch.Tensor:\n",
    "        f : x -> z. The inverse of g.\n",
    "        x2, x1 = self.split(x,self.swap)\n",
    "        t, s = self.theta(x1)\n",
    "        z1, z2 = x1, x2 * torch.exp(s) + t \n",
    "        log_det = s.sum(-1) \n",
    "        return torch.cat((z1, z2), dim=-1), log_det\n",
    "    \"\"\"    "
   ]
  },
  {
   "cell_type": "code",
   "execution_count": 18,
   "id": "537e92e8-6658-4cd1-a7fa-a6f9cbf3747f",
   "metadata": {
    "execution": {
     "iopub.execute_input": "2024-05-01T14:18:45.998701Z",
     "iopub.status.busy": "2024-05-01T14:18:45.997902Z",
     "iopub.status.idle": "2024-05-01T14:18:46.012795Z",
     "shell.execute_reply": "2024-05-01T14:18:46.012043Z",
     "shell.execute_reply.started": "2024-05-01T14:18:45.998657Z"
    },
    "tags": []
   },
   "outputs": [],
   "source": [
    "class D(nn.Linear):\n",
    "    def __init__(self,n):\n",
    "        super().__init__(n,1,bias=False)\n",
    "        self.n=n\n",
    "        self.d_ind=[(n+1)*k for k in range(n)]\n",
    "    \n",
    "    def anti_flatten(self):\n",
    "        n=self.n\n",
    "        D=torch.zeros((n**2)).to(device)\n",
    "        D[self.d_ind]=self.weight.to(device)\n",
    "        D=torch.reshape(D,(n,n)).to(device)\n",
    "        return D        \n",
    "            \n",
    "    def log_abs_det(self):\n",
    "        ABS=torch.abs(self.weight)\n",
    "        l=torch.log(ABS)\n",
    "        lad=torch.sum(l)\n",
    "        return lad\n",
    "    \n",
    "    def forward(self,x):\n",
    "        D=(self.anti_flatten()).to(x.device)\n",
    "        return torch.matmul(x,D)\n",
    "    \n",
    "    def g(self,z,params):\n",
    "        lad=self.log_abs_det()\n",
    "        return self.forward(z),  lad * torch.ones((z.shape[0])).to(z.device)\n",
    "        \n",
    "    def adj(self,mat):\n",
    "        Lw=self.anti_flatten()\n",
    "        Lwt=torch.t(Lw)\n",
    "        D=torch.matmul(Lwt,torch.matmul(mat,Lw))\n",
    "        return D\n",
    "    "
   ]
  },
  {
   "cell_type": "code",
   "execution_count": 19,
   "id": "eee87ce1-a3ea-4a0b-9e0b-4b00779eb17c",
   "metadata": {
    "execution": {
     "iopub.execute_input": "2024-05-01T14:18:46.382743Z",
     "iopub.status.busy": "2024-05-01T14:18:46.381829Z",
     "iopub.status.idle": "2024-05-01T14:18:46.394975Z",
     "shell.execute_reply": "2024-05-01T14:18:46.394326Z",
     "shell.execute_reply.started": "2024-05-01T14:18:46.382695Z"
    },
    "tags": []
   },
   "outputs": [],
   "source": [
    "class CubicCouplingLayer(nn.Module):\n",
    "    def __init__(\n",
    "        self,\n",
    "        theta,\n",
    "        split,\n",
    "        swap: int,\n",
    "        reg=1\n",
    "    ):\n",
    "        super().__init__()\n",
    "        self.theta = theta\n",
    "        self.split = split\n",
    "        self.swap = swap\n",
    "        self.reg=reg\n",
    "        \n",
    "    def g(self, z: torch.Tensor,params=torch.tensor([])) -> torch.Tensor:\n",
    "        \"\"\"g : z -> x. The inverse of f.\"\"\"\n",
    "        mask1=self.split[self.swap]\n",
    "        mask2=self.split[(self.swap+1)%2]\n",
    "        z1, z2 = z[:,mask1], z[:,mask2]\n",
    "        z1=torch.cat((z1,params),dim=-1)\n",
    "        t, s = self.theta(z1)\n",
    "        x2 = z2 + torch.exp(s-self.reg) * (z2) ** 3 + t\n",
    "        log_det = (torch.log(1+3 * torch.exp(s-self.reg) * (z2) ** 2)).sum(-1)\n",
    "        z[:,mask2]=x2\n",
    "        return z, log_det    \n",
    "\n"
   ]
  },
  {
   "cell_type": "code",
   "execution_count": 20,
   "id": "f446e228",
   "metadata": {
    "execution": {
     "iopub.execute_input": "2024-05-01T14:18:46.981486Z",
     "iopub.status.busy": "2024-05-01T14:18:46.980763Z",
     "iopub.status.idle": "2024-05-01T14:18:46.993110Z",
     "shell.execute_reply": "2024-05-01T14:18:46.992275Z",
     "shell.execute_reply.started": "2024-05-01T14:18:46.981443Z"
    },
    "tags": []
   },
   "outputs": [],
   "source": [
    "def get_split_masks(dim=N_nod):\n",
    "    mask1=list(range(0,dim,2))\n",
    "    mask2=list(range(1,dim,2))\n",
    "    split_masks=[mask1,mask2]\n",
    "    return split_masks\n",
    "    "
   ]
  },
  {
   "cell_type": "code",
   "execution_count": 21,
   "id": "b1cd446d-335e-4ccd-9953-e90b514502f0",
   "metadata": {
    "execution": {
     "iopub.execute_input": "2024-05-01T14:18:47.383480Z",
     "iopub.status.busy": "2024-05-01T14:18:47.382600Z",
     "iopub.status.idle": "2024-05-01T14:18:47.393389Z",
     "shell.execute_reply": "2024-05-01T14:18:47.392731Z",
     "shell.execute_reply.started": "2024-05-01T14:18:47.383435Z"
    },
    "tags": []
   },
   "outputs": [],
   "source": [
    "#split_masks=get_split_masks()"
   ]
  },
  {
   "cell_type": "code",
   "execution_count": 22,
   "id": "7df6bec4-7cc4-43bd-b701-0b10d9341203",
   "metadata": {
    "execution": {
     "iopub.execute_input": "2024-05-01T14:18:47.778680Z",
     "iopub.status.busy": "2024-05-01T14:18:47.777856Z",
     "iopub.status.idle": "2024-05-01T14:18:47.788692Z",
     "shell.execute_reply": "2024-05-01T14:18:47.787994Z",
     "shell.execute_reply.started": "2024-05-01T14:18:47.778641Z"
    },
    "tags": []
   },
   "outputs": [],
   "source": [
    "def get_pair_split_masks(dim=N_nod):\n",
    "    mask1=list(range(0,dim,4))\n",
    "    mask2=list(range(2,dim,4))\n",
    "    mask1=(mask1+list(map(lambda x:x+1,mask1)))\n",
    "    mask2=(mask2+list(map(lambda x:x+1,mask2)))\n",
    "    mask1.sort()\n",
    "    mask2.sort()\n",
    "    split_masks=[mask1,mask2]\n",
    "    return split_masks"
   ]
  },
  {
   "cell_type": "code",
   "execution_count": 23,
   "id": "5c8ab5f8-23f8-43ba-b569-8fa87a2141ee",
   "metadata": {
    "execution": {
     "iopub.execute_input": "2024-05-01T14:18:48.173532Z",
     "iopub.status.busy": "2024-05-01T14:18:48.172772Z",
     "iopub.status.idle": "2024-05-01T14:18:48.184612Z",
     "shell.execute_reply": "2024-05-01T14:18:48.183853Z",
     "shell.execute_reply.started": "2024-05-01T14:18:48.173489Z"
    },
    "tags": []
   },
   "outputs": [],
   "source": [
    "#print(get_pair_split_masks(32))"
   ]
  },
  {
   "cell_type": "code",
   "execution_count": 24,
   "id": "f17f095c",
   "metadata": {
    "execution": {
     "iopub.execute_input": "2024-05-01T14:18:48.569732Z",
     "iopub.status.busy": "2024-05-01T14:18:48.569142Z",
     "iopub.status.idle": "2024-05-01T14:18:48.585253Z",
     "shell.execute_reply": "2024-05-01T14:18:48.584566Z",
     "shell.execute_reply.started": "2024-05-01T14:18:48.569690Z"
    },
    "tags": []
   },
   "outputs": [
    {
     "data": {
      "text/plain": [
       "'\\n    def g_steps(self, z: torch.Tensor) -> List[torch.Tensor]:\\n        Maps latent variable z to observation x\\n        and stores intermediate results.\\n        \\n        xs = [z]\\n        for flow in reversed(self.flows):\\n            xs.append(flow.g(xs[-1]))\\n        return xs\\n\\n    \\n    def latent_log_prob(self, z: torch.Tensor) -> torch.Tensor:\\n        llp=self.latent.log_prob(z)\\n        sum_llp= torch.sum(llp,axis=-1)\\n        return sum_llp\\n \\n    \\n    def f(self, x: torch.Tensor) -> Tuple[torch.Tensor, torch.Tensor]:  #forward\\n        Maps observation x to latent variable z.\\n        Additionally, computes the log determinant\\n        of the Jacobian for this transformation.\\n        Inveres of g.\\n        \\n        z, sum_log_abs_det = x, torch.ones(x.size(0)).to(x.device)\\n        for flow in self.flows:\\n            z, log_abs_det = flow.f(z)\\n            sum_log_abs_det += log_abs_det\\n\\n        return z, sum_log_abs_det\\n'"
      ]
     },
     "execution_count": 24,
     "metadata": {},
     "output_type": "execute_result"
    }
   ],
   "source": [
    "class NormalizingFlow(nn.Module):\n",
    "    \n",
    "    def __init__(self, latent: Distribution, flows: List[nn.Module], conv_flows = [], ort=False):\n",
    "        super().__init__()\n",
    "        self.latent = latent\n",
    "        self.flows = flows\n",
    "        self.ort = ort\n",
    "        self.conv_flows = conv_flows\n",
    "\n",
    "    def latent_sample(self, num_samples: int = 1) -> torch.Tensor:\n",
    "        z=self.latent.sample((num_samples,))\n",
    "        return z        \n",
    "\n",
    "    def sample(self, num_samples: int = 1) -> torch.Tensor:\n",
    "        \"\"\"Sample a new observation x by sampling z from\n",
    "        the latent distribution and pass through g.\"\"\"\n",
    "        z=(self.latent_sample(num_samples))\n",
    "        with torch.no_grad():\n",
    "            x, _ = self.g(z)\n",
    "        return x \n",
    "    \n",
    "\n",
    "    def g(self, z: torch.Tensor,params=torch.tensor([])) -> torch.Tensor:\n",
    "        \n",
    "        #x, sum_log_abs_det = z, torch.ones(z.size(0)).to(z.device)\n",
    "        x, sum_log_abs_det = z, torch.zeros(z.size(0)).to(z.device)\n",
    "        for flow in reversed(self.flows):\n",
    "            x, log_abs_det = flow.g(x,params)\n",
    "            sum_log_abs_det += log_abs_det\n",
    "        \n",
    "        if self.ort:\n",
    "            x=torch.matmul(x,Ot.to(x.device))\n",
    "        \n",
    "        #x=x*a    \n",
    "        \n",
    "        for flow in reversed(self.conv_flows):\n",
    "            x, log_abs_det = flow.g(x)\n",
    "            sum_log_abs_det += log_abs_det\n",
    "        return x, sum_log_abs_det\n",
    "    \n",
    "        \n",
    "    def __len__(self) -> int:\n",
    "        return len(self.flows)\n",
    "    \n",
    " \n",
    "\"\"\"\n",
    "    def g_steps(self, z: torch.Tensor) -> List[torch.Tensor]:\n",
    "        Maps latent variable z to observation x\n",
    "        and stores intermediate results.\n",
    "        \n",
    "        xs = [z]\n",
    "        for flow in reversed(self.flows):\n",
    "            xs.append(flow.g(xs[-1]))\n",
    "        return xs\n",
    "\n",
    "    \n",
    "    def latent_log_prob(self, z: torch.Tensor) -> torch.Tensor:\n",
    "        llp=self.latent.log_prob(z)\n",
    "        sum_llp= torch.sum(llp,axis=-1)\n",
    "        return sum_llp\n",
    " \n",
    "    \n",
    "    def f(self, x: torch.Tensor) -> Tuple[torch.Tensor, torch.Tensor]:  #forward\n",
    "        Maps observation x to latent variable z.\n",
    "        Additionally, computes the log determinant\n",
    "        of the Jacobian for this transformation.\n",
    "        Inveres of g.\n",
    "        \n",
    "        z, sum_log_abs_det = x, torch.ones(x.size(0)).to(x.device)\n",
    "        for flow in self.flows:\n",
    "            z, log_abs_det = flow.f(z)\n",
    "            sum_log_abs_det += log_abs_det\n",
    "\n",
    "        return z, sum_log_abs_det\n",
    "\"\"\"\n",
    "    "
   ]
  },
  {
   "cell_type": "code",
   "execution_count": 25,
   "id": "daa2897f",
   "metadata": {
    "execution": {
     "iopub.execute_input": "2024-05-01T14:18:48.990325Z",
     "iopub.status.busy": "2024-05-01T14:18:48.989540Z",
     "iopub.status.idle": "2024-05-01T14:18:49.004126Z",
     "shell.execute_reply": "2024-05-01T14:18:49.003425Z",
     "shell.execute_reply.started": "2024-05-01T14:18:48.990283Z"
    },
    "tags": []
   },
   "outputs": [],
   "source": [
    "class RGflows(nn.Module):\n",
    "    \n",
    "    def __init__(self,latent: Distribution ,nflist, masks):\n",
    "        super().__init__()\n",
    "        self.latent=latent\n",
    "        self.nflist = nflist\n",
    "        self.masks=masks\n",
    "\n",
    "    def latent_sample(self, num_samples: int = 1) -> torch.Tensor:\n",
    "        z=self.latent.sample((num_samples,))\n",
    "        return z        \n",
    "\n",
    "    def sample(self, num_samples: int = 1) -> torch.Tensor:\n",
    "        \"\"\"Sample a new observation x by sampling z from\n",
    "        the latent distribution and pass through g.\"\"\"\n",
    "        z=(self.latent_sample(num_samples))\n",
    "        with torch.no_grad():\n",
    "            x, _ = self.g(z)\n",
    "        return x \n",
    "    \n",
    "\n",
    "    def g(self, z: torch.Tensor,params=torch.tensor([])) -> torch.Tensor:\n",
    "        \n",
    "        sum_log_abs_det = torch.zeros(z.size(0)).to(z.device)\n",
    "        params=torch.tensor([]).to(z.device)\n",
    "        for i in range(len(self.nflist)):\n",
    "            x=z[:,self.masks[i]]\n",
    "            x, log_abs_det = ((self.nflist)[i]).g(x,params)\n",
    "            sum_log_abs_det += log_abs_det\n",
    "            params=torch.cat((params,x),dim=-1)\n",
    "            z[:,self.masks[i]]=x\n",
    "        z=torch.matmul(z,Ot.to(z.device))    \n",
    "        return z, sum_log_abs_det\n",
    "    \n",
    "        \n",
    "    def __len__(self) -> int:\n",
    "        return len(self.flows)\n",
    "    \n",
    "    def forward(self,z):\n",
    "        t=z.clone()\n",
    "        x=self.g(t)[0]\n",
    "        del(t)\n",
    "        return x \n",
    "    \n",
    " \n",
    "\n",
    "    "
   ]
  },
  {
   "cell_type": "code",
   "execution_count": 26,
   "id": "8b1ec3b4",
   "metadata": {
    "execution": {
     "iopub.execute_input": "2024-05-01T14:18:49.429302Z",
     "iopub.status.busy": "2024-05-01T14:18:49.428456Z",
     "iopub.status.idle": "2024-05-01T14:18:49.444142Z",
     "shell.execute_reply": "2024-05-01T14:18:49.443417Z",
     "shell.execute_reply.started": "2024-05-01T14:18:49.429265Z"
    },
    "tags": []
   },
   "outputs": [],
   "source": [
    "class ThetaNetwork(nn.Module):\n",
    "    def __init__(\n",
    "        self,\n",
    "        in_dim: int,\n",
    "        out_dim: int,\n",
    "        num_hidden: int,\n",
    "        hidden_dim: int,\n",
    "        num_params: int,\n",
    "        p_drop: float,\n",
    "    ):\n",
    "        super().__init__()\n",
    "        self.input = nn.Linear(in_dim, hidden_dim)\n",
    "        self.hidden = nn.ModuleList(\n",
    "            [nn.Sequential(\n",
    "                nn.Linear(hidden_dim, hidden_dim),\n",
    "                nn.Dropout(p=p_drop),\n",
    "                nn.LayerNorm(hidden_dim)\n",
    "            ) for _ in range(num_hidden)]\n",
    "        )\n",
    "\n",
    "        self.num_params = num_params\n",
    "        self.out_dim = out_dim\n",
    "        self.dims = nn.Linear(hidden_dim, out_dim * num_params)\n",
    "\n",
    "    def forward(self, x: torch.Tensor) -> torch.Tensor:\n",
    "        x = F.leaky_relu(self.input(x),negative_slope=0.01)\n",
    "        for h in self.hidden:\n",
    "            x = F.leaky_relu(h(x),negative_slope=0.01)\n",
    "\n",
    "        batch_params = self.dims(x).reshape(x.size(0), self.out_dim, -1) \n",
    "        params = batch_params.chunk(self.num_params, dim=-1) \n",
    "        return [p.squeeze(-1) for p in params]\n",
    "    "
   ]
  },
  {
   "cell_type": "code",
   "execution_count": 27,
   "id": "90b8b5f6",
   "metadata": {
    "execution": {
     "iopub.execute_input": "2024-05-01T14:18:49.829697Z",
     "iopub.status.busy": "2024-05-01T14:18:49.828935Z",
     "iopub.status.idle": "2024-05-01T14:18:49.844472Z",
     "shell.execute_reply": "2024-05-01T14:18:49.843643Z",
     "shell.execute_reply.started": "2024-05-01T14:18:49.829659Z"
    },
    "tags": []
   },
   "outputs": [
    {
     "name": "stdout",
     "output_type": "stream",
     "text": [
      "[[0, 1, 32, 33], [16, 17, 48, 49], [8, 9, 24, 25, 40, 41, 56, 57], [4, 5, 12, 13, 20, 21, 28, 29, 36, 37, 44, 45, 52, 53, 60, 61], [2, 3, 6, 7, 10, 11, 14, 15, 18, 19, 22, 23, 26, 27, 30, 31, 34, 35, 38, 39, 42, 43, 46, 47, 50, 51, 54, 55, 58, 59, 62, 63]]\n"
     ]
    }
   ],
   "source": [
    "m=2\n",
    "X=list(range(N_nod))\n",
    "Y=[]\n",
    "for i in range(1,K_nod): Y.append(list(filter(lambda x: (x%(2**(K_nod-i))==0) and x%(2**(K_nod-i+1))!=0 ,X)))\n",
    "\n",
    "\n",
    "Z=[]\n",
    "for i in range(m-1):Z+=Y[i]\n",
    "Z.append(0)\n",
    "Z=Z+Z\n",
    "for i in range(2**(m-1)):Z[i]+=1\n",
    "Z.sort()\n",
    "\n",
    "RGmasks=[]\n",
    "RGmasks.append(Z)\n",
    "for i in range(m-1,K_nod-1):\n",
    "    Z=Y[i]+Y[i]\n",
    "    for j in range(2**i):Z[j]+=1\n",
    "    Z.sort()\n",
    "    RGmasks.append(Z)\n",
    "print(RGmasks) "
   ]
  },
  {
   "cell_type": "code",
   "execution_count": 28,
   "id": "9586f025",
   "metadata": {
    "execution": {
     "iopub.execute_input": "2024-05-01T14:18:50.369967Z",
     "iopub.status.busy": "2024-05-01T14:18:50.369240Z",
     "iopub.status.idle": "2024-05-01T14:18:50.383053Z",
     "shell.execute_reply": "2024-05-01T14:18:50.382366Z",
     "shell.execute_reply.started": "2024-05-01T14:18:50.369924Z"
    },
    "tags": []
   },
   "outputs": [
    {
     "name": "stdout",
     "output_type": "stream",
     "text": [
      "start\n",
      "Normal(loc: torch.Size([64]), scale: torch.Size([64]))\n"
     ]
    }
   ],
   "source": [
    "print(\"start\")\n",
    "from Data import normal_dist\n",
    "\n",
    "def configure_theta(in_dim=N_nod//2,out_dim=N_nod//2,num_hidden=16,hidden_dim=2*N_nod,p_drop=0):\n",
    "    theta=ThetaNetwork(\n",
    "                in_dim = in_dim,\n",
    "                out_dim = out_dim,\n",
    "                num_hidden = num_hidden,  #2 to 6\n",
    "                hidden_dim = hidden_dim , #100-1024\n",
    "                num_params = 2,\n",
    "                p_drop=p_drop,\n",
    "    )\n",
    "    return theta\n",
    "\n",
    "def configure_flows(n_flows,dim=N_nod,param_dim=0):  # n_flows=8,...,12\n",
    "    flows=[]\n",
    "    split_masks_d=get_pair_split_masks(dim)\n",
    "    \n",
    "    for k in range(n_flows):\n",
    "        flows.append(AffineCouplingLayer(configure_theta(dim//2+param_dim,dim//2,num_hidden=12, hidden_dim=2*dim,p_drop=0.0),split=split_masks_d,swap=k%2))\n",
    "   \n",
    "    flows = nn.ModuleList(flows)\n",
    "    return flows \n",
    "\n",
    "def configure_RG():  \n",
    "    nflist=[]\n",
    "    dim=2 ** m\n",
    "    param_dim=0\n",
    "    for k in range(len(RGmasks)):\n",
    "        nflist.append(NormalizingFlow(latent=normal_dist,flows=configure_flows(n_flows=12,dim=dim,param_dim=param_dim),ort=False))\n",
    "        param_dim+=dim \n",
    "        if k!=0: dim*=2 \n",
    "    nflist=nn.ModuleList(nflist)        \n",
    "    return nflist\n",
    "\n",
    "print(normal_dist)\n",
    "\n",
    "                  "
   ]
  },
  {
   "cell_type": "code",
   "execution_count": 29,
   "id": "5401fb59",
   "metadata": {
    "execution": {
     "iopub.execute_input": "2024-05-01T14:18:54.340124Z",
     "iopub.status.busy": "2024-05-01T14:18:54.339210Z",
     "iopub.status.idle": "2024-05-01T14:18:54.352468Z",
     "shell.execute_reply": "2024-05-01T14:18:54.351693Z",
     "shell.execute_reply.started": "2024-05-01T14:18:54.340079Z"
    },
    "tags": []
   },
   "outputs": [],
   "source": [
    "class Pipeline(pl.LightningModule):\n",
    "    def __init__(\n",
    "        self,\n",
    "        model,\n",
    "        criterion,\n",
    "        optimizer_class=torch.optim.Adam,\n",
    "        optimizer_kwargs={\"lr\": 0.001,\"weight_decay\": 0}\n",
    "    ) -> None:\n",
    "        super().__init__()\n",
    "        self.model = model\n",
    "        self.loss = criterion\n",
    "        self.optimizer_class = optimizer_class\n",
    "        self.optimizer_kwargs = optimizer_kwargs\n",
    "\n",
    "    \"\"\"\n",
    "    def configure_optimizers(self):\n",
    "        optimizer = self.optimizer_class(\n",
    "            self.model.parameters(), **self.optimizer_kwargs\n",
    "        )\n",
    "        return optimizer\n",
    "    \"\"\"\n",
    "    \n",
    "    def configure_optimizers(self):\n",
    "        optimizer = self.optimizer_class(\n",
    "            self.model.parameters(), **self.optimizer_kwargs\n",
    "        )\n",
    "        \n",
    "        \n",
    "        scheduler = torch.optim.lr_scheduler.ReduceLROnPlateau(\n",
    "            optimizer=optimizer,\n",
    "            min_lr=1e-9,\n",
    "            factor=0.5,\n",
    "            mode=\"min\",\n",
    "            threshold=0.1,\n",
    "            patience = 1,\n",
    "            verbose=True,\n",
    "        )\n",
    "\n",
    "        lr_scheduler = {\n",
    "            \"scheduler\": scheduler,\n",
    "            \"interval\": \"epoch\",\n",
    "            \"monitor\": \"train_loss\",\n",
    "        }\n",
    "        return [optimizer], [lr_scheduler]\n",
    "\n",
    "    def training_step(self, batch, batch_idx):\n",
    "        z = batch\n",
    "        x, log_abs_det = self.model.g(z)\n",
    "        loss = self.loss(x,log_abs_det)\n",
    "        self.log('train_loss', loss, prog_bar=True)\n",
    "        return loss\n",
    "\n",
    "\n",
    "    def on_train_epoch_end(self):\n",
    "        #print(\"---------------------------end epoch---------------------------------\")\n",
    "        pass\n",
    "    \n",
    "    def on_validation_end(self) -> None:\n",
    "        if not self.automatic_optimization:\n",
    "            # Save a checkpoint of the model\n",
    "            ckpt_path = os.path.join(self.trainer.log_dir, 'checkpoints', 'ckpt.pt')\n",
    "            self.trainer.save_checkpoint(ckpt_path, weights_only=True)\n",
    "        return super().on_validation_end()\n",
    "    \n",
    "    "
   ]
  },
  {
   "cell_type": "code",
   "execution_count": 30,
   "id": "3857c540-6428-46f4-ac0a-31aa76f83ad2",
   "metadata": {
    "execution": {
     "iopub.execute_input": "2024-05-01T14:18:55.701980Z",
     "iopub.status.busy": "2024-05-01T14:18:55.701286Z",
     "iopub.status.idle": "2024-05-01T14:18:55.803028Z",
     "shell.execute_reply": "2024-05-01T14:18:55.802173Z",
     "shell.execute_reply.started": "2024-05-01T14:18:55.701943Z"
    },
    "tags": []
   },
   "outputs": [],
   "source": [
    "from NFoscillator import Oscillator\n",
    "from NFrel_oscillator import Rel_Oscillator\n",
    "from NFur_oscillator import Ur_Oscillator\n",
    "from NFx4 import X4\n",
    "from NFMorse import Morse\n",
    "from NFrel_Morse import Rel_Morse\n",
    "from NFrel_Columb import Rel_Columb\n",
    "from NFnonrel_Columb import NonRel_Columb\n",
    "osc=Oscillator(N_nod,Beta)\n",
    "KL_osc=osc.get_KL()\n",
    "KL_mat_osc=osc.get_mat_KL()\n",
    "KL_rel001=Rel_Oscillator(N_nod,Beta,sigma=0.01).get_KL()\n",
    "KL_rel01=Rel_Oscillator(N_nod,Beta,sigma=0.1).get_KL()\n",
    "KL_rel1=Rel_Oscillator(N_nod,Beta,sigma=1).get_KL()\n",
    "KL_rel10=Rel_Oscillator(N_nod,Beta,sigma=10).get_KL()\n",
    "ur=Ur_Oscillator(N_nod,Beta)\n",
    "KL_ur=ur.get_KL()\n",
    "\n",
    "KL_rel29=Rel_Oscillator(N_nod,Beta,sigma = 2 ** 9).get_KL()\n",
    "\n",
    "KL_X4=X4(N_nod,Beta,g=0.05).get_KL()\n",
    "KL_morse=Morse(N_nod,Beta,alpha=1/8).get_KL()\n",
    "KL_rel_morse=Rel_Morse(N_nod,Beta,alpha=1,m=1000).get_KL()\n",
    "KL_rel_columb=Rel_Columb(N_nod,Beta,alpha=1,R=1).get_KL()\n",
    "KL_nonrel_columb=NonRel_Columb(N_nod,Beta,alpha=1,R=1).get_KL()"
   ]
  },
  {
   "cell_type": "code",
   "execution_count": null,
   "id": "648fcf72-c0d1-4949-8b40-ef14fec703fc",
   "metadata": {
    "execution": {
     "iopub.status.busy": "2024-05-01T14:18:33.996643Z",
     "iopub.status.idle": "2024-05-01T14:18:33.997068Z",
     "shell.execute_reply": "2024-05-01T14:18:33.996893Z"
    },
    "tags": []
   },
   "outputs": [],
   "source": [
    "class KL_mix(nn.Module):\n",
    "    \n",
    "    def __init__(self,KL1,KL2,alpha=0.5):\n",
    "        super().__init__()\n",
    "        self.KL1=KL1\n",
    "        self.KL2=KL2\n",
    "        self.alpha=alpha\n",
    "    \n",
    "    def forward(self,x,log_abs_det):\n",
    "        n_nod=x.shape[1]\n",
    "        N2=self.KL2.n_nod\n",
    "        step=n_nod//N2\n",
    "        x1=x[:,::step]\n",
    "        loss=(1-self.alpha) * self.KL1(x,log_abs_det) + self.alpha * self.KL2(x1,log_abs_det) \n",
    "        return loss"
   ]
  },
  {
   "cell_type": "code",
   "execution_count": 18,
   "id": "60963319-2182-41db-a2ad-9f7d2984de49",
   "metadata": {
    "execution": {
     "iopub.execute_input": "2024-04-30T23:52:33.387458Z",
     "iopub.status.busy": "2024-04-30T23:52:33.386639Z",
     "iopub.status.idle": "2024-04-30T23:52:33.396700Z",
     "shell.execute_reply": "2024-04-30T23:52:33.396097Z",
     "shell.execute_reply.started": "2024-04-30T23:52:33.387413Z"
    },
    "tags": []
   },
   "outputs": [],
   "source": [
    "rel8=Rel_Oscillator(8,Beta,sigma=1)\n",
    "KL8=rel8.get_KL()\n",
    "KL_rel_mix=KL_mix(KL_rel1,KL8,0.35)"
   ]
  },
  {
   "cell_type": "code",
   "execution_count": 19,
   "id": "9aa35ab4-6561-47c3-a06c-36db2dcff138",
   "metadata": {
    "execution": {
     "iopub.execute_input": "2024-04-28T23:03:30.167127Z",
     "iopub.status.busy": "2024-04-28T23:03:30.166397Z",
     "iopub.status.idle": "2024-04-28T23:03:30.190020Z",
     "shell.execute_reply": "2024-04-28T23:03:30.189199Z",
     "shell.execute_reply.started": "2024-04-28T23:03:30.167084Z"
    },
    "tags": []
   },
   "outputs": [],
   "source": [
    "col8=Rel_Columb(8,Beta,alpha=1,R=1)\n",
    "KLcol8=col8.get_KL()\n",
    "KL_rel_columb_mix=KL_mix(KL_rel_columb,KLcol8,0.35)"
   ]
  },
  {
   "cell_type": "code",
   "execution_count": 76,
   "id": "558e4bef",
   "metadata": {
    "execution": {
     "iopub.execute_input": "2024-04-30T21:55:32.786221Z",
     "iopub.status.busy": "2024-04-30T21:55:32.785491Z",
     "iopub.status.idle": "2024-04-30T22:01:07.467024Z",
     "shell.execute_reply": "2024-04-30T22:01:07.466234Z",
     "shell.execute_reply.started": "2024-04-30T21:55:32.786175Z"
    },
    "tags": []
   },
   "outputs": [
    {
     "name": "stderr",
     "output_type": "stream",
     "text": [
      "GPU available: False, used: False\n",
      "TPU available: False, using: 0 TPU cores\n",
      "IPU available: False, using: 0 IPUs\n",
      "HPU available: False, using: 0 HPUs\n",
      "2024-04-30 21:55:35.803891: I tensorflow/core/util/port.cc:110] oneDNN custom operations are on. You may see slightly different numerical results due to floating-point round-off errors from different computation orders. To turn them off, set the environment variable `TF_ENABLE_ONEDNN_OPTS=0`.\n",
      "2024-04-30 21:55:36.857875: I tensorflow/core/platform/cpu_feature_guard.cc:182] This TensorFlow binary is optimized to use available CPU instructions in performance-critical operations.\n",
      "To enable the following instructions: AVX2 AVX512F AVX512_VNNI FMA, in other operations, rebuild TensorFlow with the appropriate compiler flags.\n",
      "2024-04-30 21:55:39.514051: W tensorflow/compiler/tf2tensorrt/utils/py_utils.cc:38] TF-TRT Warning: Could not find TensorRT\n",
      "\n",
      "  | Name  | Type      | Params\n",
      "------------------------------------\n",
      "0 | model | RGflows   | 932 K \n",
      "1 | loss  | KL_with_S | 0     \n",
      "------------------------------------\n",
      "932 K     Trainable params\n",
      "0         Non-trainable params\n",
      "932 K     Total params\n",
      "3.729     Total estimated model params size (MB)\n"
     ]
    },
    {
     "name": "stdout",
     "output_type": "stream",
     "text": [
      "Epoch 0:  72%|███████▏  | 740/1024 [05:21<02:03,  2.30it/s, v_num=497, train_loss=2.100] "
     ]
    },
    {
     "name": "stderr",
     "output_type": "stream",
     "text": [
      "/home/jupyter/.local/lib/python3.10/site-packages/pytorch_lightning/trainer/call.py:54: Detected KeyboardInterrupt, attempting graceful shutdown...\n"
     ]
    }
   ],
   "source": [
    "from Data import train_loader\n",
    "\n",
    "set_random_seed(42)\n",
    "\n",
    "#nf=NormalizingFlow(latent=normal_dist,flows=configure_flows(24),ort=True)\n",
    "rg=RGflows(normal_dist,configure_RG(),RGmasks)\n",
    "pipeline=Pipeline(model=rg, criterion=KL_osc, optimizer_class=torch.optim.Adam, optimizer_kwargs={\"lr\": 0.0001,\"weight_decay\":0})\n",
    "\n",
    "\n",
    "\n",
    "trainer = pl.Trainer(\n",
    "    max_epochs=500,\n",
    "    logger=TensorBoardLogger(save_dir=f\"logs/nf\"),\n",
    "    num_sanity_val_steps=0,\n",
    "    log_every_n_steps=1,\n",
    "    enable_checkpointing=False,\n",
    "    accumulate_grad_batches=1\n",
    ")\n",
    "\n",
    "trainer.fit(model=pipeline, train_dataloaders=train_loader)\n",
    "torch.save(rg.state_dict(), \"model_weights1.pth\")"
   ]
  },
  {
   "cell_type": "code",
   "execution_count": null,
   "id": "2ce344b1-fbaa-4a3b-bb4d-bf1d9a78ae1a",
   "metadata": {
    "tags": []
   },
   "outputs": [],
   "source": [
    "from Data import train_loader\n",
    "\n",
    "set_random_seed(42)\n",
    "rg=RGflows(normal_dist,configure_RG(),RGmasks)\n",
    "rg.load_state_dict(torch.load('model_weights1.pth'))\n",
    "pipeline=Pipeline(model=rg,criterion=KL_ur, optimizer_class=torch.optim.Adam,optimizer_kwargs={\"lr\": 0.00001})\n",
    "\n",
    "trainer = pl.Trainer(\n",
    "    max_epochs=200,\n",
    "    logger=TensorBoardLogger(save_dir=f\"logs/nf\"),\n",
    "    num_sanity_val_steps=0,\n",
    "    log_every_n_steps=1,\n",
    "    enable_checkpointing=False,\n",
    "    accumulate_grad_batches=4\n",
    ")\n",
    "\n",
    "trainer.fit(model=pipeline, train_dataloaders=train_loader)\n",
    "torch.save(rg.state_dict(), \"model_weights2.pth\")"
   ]
  },
  {
   "cell_type": "code",
   "execution_count": null,
   "id": "a808807a",
   "metadata": {
    "tags": []
   },
   "outputs": [],
   "source": [
    "\"\"\"\n",
    "from Data import normal_dist\n",
    "import numpy as np\n",
    "from NFconstants import N_traj\n",
    "NF_trained=NormalizingFlow(latent=normal_dist,flows=configure_flows(24),ort=True)\n",
    "NF_trained.load_state_dict(torch.load('model_weights1.pth'))\n",
    "NF_trained.eval()\n",
    "print(NF_trained.ort)\n",
    "trajs=NF_trained.sample(N_traj)\n",
    "\"\"\"\n",
    "#trajs=trajs.numpy()\n",
    "#np.savetxt(\"nf_ensemble.txt\",trajs,delimiter=\",\")"
   ]
  },
  {
   "cell_type": "code",
   "execution_count": 31,
   "id": "8169e1d2-102b-4d79-92e8-03905afd556d",
   "metadata": {
    "execution": {
     "iopub.execute_input": "2024-05-01T14:19:13.343596Z",
     "iopub.status.busy": "2024-05-01T14:19:13.342430Z",
     "iopub.status.idle": "2024-05-01T14:19:13.912385Z",
     "shell.execute_reply": "2024-05-01T14:19:13.911614Z",
     "shell.execute_reply.started": "2024-05-01T14:19:13.343548Z"
    },
    "tags": []
   },
   "outputs": [],
   "source": [
    "from Data import normal_dist\n",
    "import numpy as np\n",
    "from NFconstants import N_traj\n",
    "RG_trained=RGflows(normal_dist,configure_RG(),RGmasks)\n",
    "RG_trained.load_state_dict(torch.load('model_weights1.pth'))\n",
    "RG_trained.eval()\n",
    "trajs=RG_trained.sample(N_traj)\n"
   ]
  },
  {
   "cell_type": "code",
   "execution_count": 59,
   "id": "a16e4205-475c-46aa-a6d7-f1cb699061d4",
   "metadata": {
    "execution": {
     "iopub.execute_input": "2024-04-26T22:13:19.092239Z",
     "iopub.status.busy": "2024-04-26T22:13:19.091507Z",
     "iopub.status.idle": "2024-04-26T22:13:19.930302Z",
     "shell.execute_reply": "2024-04-26T22:13:19.929549Z",
     "shell.execute_reply.started": "2024-04-26T22:13:19.092195Z"
    },
    "tags": []
   },
   "outputs": [
    {
     "name": "stdout",
     "output_type": "stream",
     "text": [
      "NN (upgraded) RelColumb Beta=16 N=1024 m=gamma=a=1.txt\n"
     ]
    }
   ],
   "source": [
    "\"\"\"\n",
    "trajs=trajs.numpy()\n",
    "model_name=\"RelColumb\"\n",
    "par=\"m=gamma=a=1\"\n",
    "filename=\"NN (upgraded)\"+\" \"+model_name+\" Beta=\"+str(Beta)+\" N=\"+str(N_nod)+\" \"+par+\".txt\"\n",
    "print(filename)\n",
    "np.savetxt(filename,trajs,delimiter=\" \")\n",
    "\"\"\""
   ]
  },
  {
   "cell_type": "code",
   "execution_count": 71,
   "id": "37aaf6bf-87cb-4f32-95be-34c258468f20",
   "metadata": {
    "execution": {
     "iopub.execute_input": "2024-04-26T22:25:03.471260Z",
     "iopub.status.busy": "2024-04-26T22:25:03.470502Z",
     "iopub.status.idle": "2024-04-26T22:25:04.337636Z",
     "shell.execute_reply": "2024-04-26T22:25:04.336752Z",
     "shell.execute_reply.started": "2024-04-26T22:25:03.471227Z"
    },
    "tags": []
   },
   "outputs": [],
   "source": [
    "\"\"\"\n",
    "import numpy as np\n",
    "trajs=np.genfromtxt(\"NN (upgraded) RelColumb Beta=16 N=1024 m=gamma=a=1.txt\",delimiter=\" \")\n",
    "\"\"\""
   ]
  },
  {
   "cell_type": "code",
   "execution_count": 72,
   "id": "877866f7-579c-4ea6-909c-5027d0744329",
   "metadata": {
    "execution": {
     "iopub.execute_input": "2024-04-26T22:25:05.426079Z",
     "iopub.status.busy": "2024-04-26T22:25:05.425316Z",
     "iopub.status.idle": "2024-04-26T22:25:05.449420Z",
     "shell.execute_reply": "2024-04-26T22:25:05.448641Z",
     "shell.execute_reply.started": "2024-04-26T22:25:05.426036Z"
    },
    "tags": []
   },
   "outputs": [],
   "source": [
    "#trajs=(torch.tensor(trajs)).float()"
   ]
  },
  {
   "cell_type": "code",
   "execution_count": 18,
   "id": "fe644a5e-8e4a-4536-bec1-78a391b60f97",
   "metadata": {
    "execution": {
     "iopub.execute_input": "2024-04-30T23:34:09.098646Z",
     "iopub.status.busy": "2024-04-30T23:34:09.097802Z",
     "iopub.status.idle": "2024-04-30T23:34:09.175955Z",
     "shell.execute_reply": "2024-04-30T23:34:09.175224Z",
     "shell.execute_reply.started": "2024-04-30T23:34:09.098604Z"
    },
    "tags": []
   },
   "outputs": [],
   "source": [
    "from NFandist import get_T\n",
    "T=torch.tensor(get_T(N_nod)).float()\n",
    "def G(X,n_p=N_nod):\n",
    "    G=np.zeros((n_p))\n",
    "    Y=X.clone()\n",
    "    Xt=torch.t(X)\n",
    "    for s in range(n_p):\n",
    "        G[s]=torch.trace(torch.matmul(Y,Xt))\n",
    "        Y=torch.matmul(Y,T)\n",
    "    return G/(N_traj*N_nod)\n",
    "g_nf=G(trajs)\n",
    "g4_nf=G(trajs**2)"
   ]
  },
  {
   "cell_type": "code",
   "execution_count": 82,
   "id": "78c9ffdf-7d11-49a0-8304-3228e4cd69b5",
   "metadata": {
    "execution": {
     "iopub.execute_input": "2024-04-30T22:02:58.116750Z",
     "iopub.status.busy": "2024-04-30T22:02:58.116063Z",
     "iopub.status.idle": "2024-04-30T22:02:58.133331Z",
     "shell.execute_reply": "2024-04-30T22:02:58.132683Z",
     "shell.execute_reply.started": "2024-04-30T22:02:58.116706Z"
    },
    "tags": []
   },
   "outputs": [],
   "source": [
    "from NFandist import calc_G\n",
    "from NFconstants import N_nod, N_traj, NG_points,Beta\n",
    "g_osc=calc_G(N_nod,Beta,N_nod)\n"
   ]
  },
  {
   "cell_type": "code",
   "execution_count": 32,
   "id": "d40ea38c-5c07-4349-9872-6f8026d990d1",
   "metadata": {
    "execution": {
     "iopub.execute_input": "2024-04-29T00:55:53.072236Z",
     "iopub.status.busy": "2024-04-29T00:55:53.071537Z",
     "iopub.status.idle": "2024-04-29T00:55:53.086373Z",
     "shell.execute_reply": "2024-04-29T00:55:53.085673Z",
     "shell.execute_reply.started": "2024-04-29T00:55:53.072194Z"
    },
    "tags": []
   },
   "outputs": [],
   "source": [
    "g_ur = [0.476546, 0.148654, 0.060357, 0.0232596, -0.00447499, -0.00224423, -0.00447499, 0.0232596, 0.060357, 0.148654]"
   ]
  },
  {
   "cell_type": "code",
   "execution_count": 24,
   "id": "423d9be1-411c-4004-929e-ddd280cb3a77",
   "metadata": {
    "execution": {
     "iopub.execute_input": "2024-04-28T23:11:17.065113Z",
     "iopub.status.busy": "2024-04-28T23:11:17.064346Z",
     "iopub.status.idle": "2024-04-28T23:11:17.081191Z",
     "shell.execute_reply": "2024-04-28T23:11:17.080528Z",
     "shell.execute_reply.started": "2024-04-28T23:11:17.065067Z"
    },
    "tags": []
   },
   "outputs": [],
   "source": [
    "\n",
    "g_ur = [0.555858, 0.497988, 0.446597, 0.401115, 0.360415, 0.324316, 0.29138, 0.261791, 0.235658, 0.211969, 0.190536, 0.171994, 0.155133, 0.140335, 0.126598, 0.114471, 0.103514, 0.0941716, 0.0852865, 0.0767528, 0.0691313, 0.0619047, 0.0550745, 0.0490998, 0.0443236, 0.0396256, 0.0358628, 0.0324961, 0.0302019, 0.0276177, 0.0251373, 0.0226234, 0.0203086, 0.0179717, 0.0164385, 0.0152739, 0.0143051, 0.0136778, 0.0127566, 0.0118486, 0.0111658, 0.0111462, 0.011026, 0.0110081, 0.0109681, 0.0106729, 0.0101027, 0.010377, 0.010866, 0.0114044, 0.0119873, 0.0114044, 0.010866, 0.010377, 0.0101027, 0.0106729, 0.0109681, 0.0110081, 0.011026, 0.0111462, 0.0111658, 0.0118486, 0.0127566, 0.0136778, 0.0143051, 0.0152739, 0.0164385, 0.0179717, 0.0203086, 0.0226234, 0.0251373, 0.0276177, 0.0302019, 0.0324961, 0.0358628, 0.0396256, 0.0443236, 0.0490998, 0.0550745, 0.0619047, 0.0691313, 0.0767528, 0.0852865, 0.0941716, 0.103514, 0.114471, 0.126598, 0.140335, 0.155133, 0.171994, 0.190536, 0.211969, 0.235658, 0.261791, 0.29138, 0.324316, 0.360415, 0.401115, 0.446597, 0.497988]\n"
   ]
  },
  {
   "cell_type": "code",
   "execution_count": 23,
   "id": "761d4f40-3376-4f0e-9177-6ff5ff928fa4",
   "metadata": {
    "execution": {
     "iopub.execute_input": "2024-04-26T10:19:47.428891Z",
     "iopub.status.busy": "2024-04-26T10:19:47.428221Z",
     "iopub.status.idle": "2024-04-26T10:19:47.438362Z",
     "shell.execute_reply": "2024-04-26T10:19:47.437719Z",
     "shell.execute_reply.started": "2024-04-26T10:19:47.428864Z"
    },
    "tags": []
   },
   "outputs": [],
   "source": [
    "g_rel = [0.389004, 0.174591, 0.0750764, 0.0320855, 0.0235634, 0.0204869, 0.0235634, 0.0320855, 0.0750764, 0.174591]"
   ]
  },
  {
   "cell_type": "code",
   "execution_count": 51,
   "id": "f0639e9e-3fa3-412f-8833-8af468af9fa8",
   "metadata": {
    "execution": {
     "iopub.execute_input": "2024-04-26T22:12:17.818823Z",
     "iopub.status.busy": "2024-04-26T22:12:17.818018Z",
     "iopub.status.idle": "2024-04-26T22:12:17.830840Z",
     "shell.execute_reply": "2024-04-26T22:12:17.830053Z",
     "shell.execute_reply.started": "2024-04-26T22:12:17.818778Z"
    },
    "tags": []
   },
   "outputs": [],
   "source": [
    "g_rel = [0.392501, 0.361773, 0.333519, 0.307446, 0.283335, 0.261201, 0.240658, 0.221871, 0.204776, 0.188963, 0.174495, 0.161116, 0.148541, 0.136946, 0.126175, 0.116168, 0.106934, 0.0985733, 0.090693, 0.0836987, 0.0773237, 0.0713712, 0.0662134, 0.0611666, 0.0567049, 0.0525145, 0.0489322, 0.045775, 0.043085, 0.0407685, 0.0383386, 0.0365845, 0.0353032, 0.0339074, 0.0324167, 0.0308972, 0.0295226, 0.0285374, 0.0276133, 0.026899, 0.0265193, 0.0267518, 0.027023, 0.0272673, 0.0275789, 0.0277296, 0.0281657, 0.0286108, 0.0289897, 0.0292072, 0.0292838, 0.0292072, 0.0289897, 0.0286108, 0.0281657, 0.0277296, 0.0275789, 0.0272673, 0.027023, 0.0267518, 0.0265193, 0.026899, 0.0276133, 0.0285374, 0.0295226, 0.0308972, 0.0324167, 0.0339074, 0.0353032, 0.0365845, 0.0383386, 0.0407685, 0.043085, 0.045775, 0.0489322, 0.0525145, 0.0567049, 0.0611666, 0.0662134, 0.0713712, 0.0773237, 0.0836987, 0.090693, 0.0985733, 0.106934, 0.116168, 0.126175, 0.136946, 0.148541, 0.161116, 0.174495, 0.188963, 0.204776, 0.221871, 0.240658, 0.261201, 0.283335, 0.307446, 0.333519, 0.361773]\n"
   ]
  },
  {
   "cell_type": "code",
   "execution_count": 37,
   "id": "65e2959c-aa9d-47a0-971a-68fd6575b32e",
   "metadata": {
    "execution": {
     "iopub.execute_input": "2024-04-26T16:57:08.404772Z",
     "iopub.status.busy": "2024-04-26T16:57:08.403986Z",
     "iopub.status.idle": "2024-04-26T16:57:08.419094Z",
     "shell.execute_reply": "2024-04-26T16:57:08.418111Z",
     "shell.execute_reply.started": "2024-04-26T16:57:08.404730Z"
    },
    "tags": []
   },
   "outputs": [],
   "source": [
    "\n",
    "import numpy as np\n",
    "corr = [0.0049279, 0.00445719, 0.0040318, 0.00364688, 0.00329375, 0.00297512, 0.00268571, 0.00242197, 0.00217813, 0.00195686, 0.00176504, 0.001597, 0.0014406, 0.00130362, 0.00117932, 0.00107197, 0.000971531, 0.000873839, 0.000783014, 0.000698531, 0.000622945, 0.000554938, 0.000497423, 0.000446639, 0.000400234, 0.000360026, 0.000325092, 0.00028936, 0.000252744, 0.000222755, 0.00019756, 0.000178826, 0.000169581, 0.000165766, 0.000161208, 0.000158499, 0.000157808, 0.000156267, 0.000155463, 0.000151827, 0.000137475, 0.000124214, 0.000113485, 0.000104859, 9.63436e-05, 8.8317e-05, 8.17296e-05, 7.9884e-05, 7.83747e-05, 8.01024e-05, 8.44507e-05, 8.01024e-05, 7.83747e-05, 7.9884e-05, 8.17296e-05, 8.8317e-05, 9.63436e-05, 0.000104859, 0.000113485, 0.000124214, 0.000137475, 0.000151827, 0.000155463, 0.000156267, 0.000157808, 0.000158499, 0.000161208, 0.000165766, 0.000169581, 0.000178826, 0.00019756, 0.000222755, 0.000252744, 0.00028936, 0.000325092, 0.000360026, 0.000400234, 0.000446639, 0.000497423, 0.000554938, 0.000622945, 0.000698531, 0.000783014, 0.000873839, 0.000971531, 0.00107197, 0.00117932, 0.00130362, 0.0014406, 0.001597, 0.00176504, 0.00195686, 0.00217813, 0.00242197, 0.00268571, 0.00297512, 0.00329375, 0.00364688, 0.0040318, 0.00445719, 0.0049279]\n",
    "g_rel_001=(100*np.array(corr))[:-1]\n",
    "\n"
   ]
  },
  {
   "cell_type": "code",
   "execution_count": 28,
   "id": "1cd1e02d-0324-466a-b37e-a60554908a29",
   "metadata": {
    "execution": {
     "iopub.execute_input": "2024-04-25T13:55:19.035541Z",
     "iopub.status.busy": "2024-04-25T13:55:19.034575Z",
     "iopub.status.idle": "2024-04-25T13:55:19.058166Z",
     "shell.execute_reply": "2024-04-25T13:55:19.057280Z",
     "shell.execute_reply.started": "2024-04-25T13:55:19.035477Z"
    },
    "tags": []
   },
   "outputs": [],
   "source": [
    "import numpy as np\n",
    "corr = [0.0482165, 0.0437875, 0.0397512, 0.0361339, 0.0328051, 0.0297607, 0.0270138, 0.0244825, 0.0222039, 0.0201489, 0.0183026, 0.0166458, 0.0151002, 0.0137192, 0.012421, 0.0112716, 0.0102497, 0.00931179, 0.0084281, 0.00763501, 0.00697282, 0.00637519, 0.00579578, 0.00524782, 0.00469027, 0.00419239, 0.00376016, 0.00335117, 0.00299975, 0.00265075, 0.00236496, 0.00215769, 0.00196452, 0.00178665, 0.00162977, 0.00148276, 0.00135563, 0.00127519, 0.00120796, 0.00115448, 0.0011155, 0.00109623, 0.00112555, 0.00113097, 0.00108849, 0.00108302, 0.00112726, 0.00115736, 0.00118966, 0.00124266, 0.00121678, 0.00124266, 0.00118966, 0.00115736, 0.00112726, 0.00108302, 0.00108849, 0.00113097, 0.00112555, 0.00109623, 0.0011155, 0.00115448, 0.00120796, 0.00127519, 0.00135563, 0.00148276, 0.00162977, 0.00178665, 0.00196452, 0.00215769, 0.00236496, 0.00265075, 0.00299975, 0.00335117, 0.00376016, 0.00419239, 0.00469027, 0.00524782, 0.00579578, 0.00637519, 0.00697282, 0.00763501, 0.0084281, 0.00931179, 0.0102497, 0.0112716, 0.012421, 0.0137192, 0.0151002, 0.0166458, 0.0183026, 0.0201489, 0.0222039, 0.0244825, 0.0270138, 0.0297607, 0.0328051, 0.0361339, 0.0397512, 0.0437875, 0.0482165]\n",
    "g_rel_01=(10*np.array(corr))[:-1]\n"
   ]
  },
  {
   "cell_type": "code",
   "execution_count": 39,
   "id": "34a5ead7-10a1-445f-abbd-4f8c2478ccd1",
   "metadata": {
    "execution": {
     "iopub.execute_input": "2024-05-01T14:21:23.488831Z",
     "iopub.status.busy": "2024-05-01T14:21:23.487926Z",
     "iopub.status.idle": "2024-05-01T14:21:23.708141Z",
     "shell.execute_reply": "2024-05-01T14:21:23.707304Z",
     "shell.execute_reply.started": "2024-05-01T14:21:23.488783Z"
    },
    "tags": []
   },
   "outputs": [
    {
     "name": "stdout",
     "output_type": "stream",
     "text": [
      "0.47396968841552733\n"
     ]
    },
    {
     "data": {
      "image/png": "[encoded data removed]",
      "text/plain": [
       "<Figure size 432x288 with 1 Axes>"
      ]
     },
     "metadata": {
      "needs_background": "light"
     },
     "output_type": "display_data"
    }
   ],
   "source": [
    "#import sys\n",
    "#sys.path.append('../')\n",
    "import numpy as np\n",
    "import matplotlib.pyplot as plt\n",
    "from NFconstants import N_nod, N_traj, NG_points,Beta\n",
    "#from Value import G\n",
    "#import ensemble\n",
    "#from NFoscillator import basic_oscillator\n",
    "#from time import time\n",
    "#from NFandist import calc_G\n",
    "\n",
    "\"\"\"\n",
    "ens_nf=ensemble.ensemble.load(\"nf_ensemble.txt\",basic_oscillator)\n",
    "g_nf=np.vstack(ensemble.ensemble.Vaverage_and_sigma(ens_nf,G))\n",
    "g_nf=g_nf.transpose()[0]\n",
    "\"\"\"\n",
    "\n",
    "g=g_osc\n",
    "print(g_nf[0])\n",
    "fig=plt.figure()\n",
    "MCMC_list=np.arange(len(g))/len(g)\n",
    "NF_list=np.arange(len(g_nf))/len(g_nf)\n",
    "plt.scatter(MCMC_list,g)\n",
    "plt.scatter(NF_list,g_nf)\n",
    "#plt.scatter(NF_list,g4_nf)\n",
    "plt.legend([\"MCMC\",\"normalizing flow\"])\n",
    "#plt.legend([\"normalizing flow\"])\n",
    "plt.title(\"Beta=10\")\n",
    "plt.grid(True)\n",
    "plt.show()\n"
   ]
  },
  {
   "cell_type": "code",
   "execution_count": 54,
   "id": "5537b59a",
   "metadata": {
    "execution": {
     "iopub.execute_input": "2024-04-26T22:12:28.627741Z",
     "iopub.status.busy": "2024-04-26T22:12:28.626792Z",
     "iopub.status.idle": "2024-04-26T22:12:28.762493Z",
     "shell.execute_reply": "2024-04-26T22:12:28.761559Z",
     "shell.execute_reply.started": "2024-04-26T22:12:28.627648Z"
    },
    "tags": []
   },
   "outputs": [
    {
     "name": "stdout",
     "output_type": "stream",
     "text": [
      "1.4G\tlogs\n"
     ]
    }
   ],
   "source": [
    "\n",
    "\n",
    "! du -sh logs\n",
    "\n",
    "\n",
    "\n",
    "\n"
   ]
  },
  {
   "cell_type": "code",
   "execution_count": null,
   "id": "96e1f7e3-4121-49e9-95f1-06ecbf041f59",
   "metadata": {},
   "outputs": [],
   "source": [
    "! rm -rf logs\n"
   ]
  },
  {
   "cell_type": "code",
   "execution_count": 1,
   "id": "2af78a77",
   "metadata": {
    "execution": {
     "iopub.execute_input": "2024-04-26T14:36:45.574433Z",
     "iopub.status.busy": "2024-04-26T14:36:45.573423Z",
     "iopub.status.idle": "2024-04-26T14:36:45.701990Z",
     "shell.execute_reply": "2024-04-26T14:36:45.700252Z",
     "shell.execute_reply.started": "2024-04-26T14:36:45.574386Z"
    }
   },
   "outputs": [
    {
     "ename": "NameError",
     "evalue": "name 'N_nod' is not defined",
     "output_type": "error",
     "traceback": [
      "\u001b[0;31m---------------------------------------------------------------------------\u001b[0m",
      "\u001b[0;31mNameError\u001b[0m                                 Traceback (most recent call last)",
      "\u001b[0;32m<ipython-input-1-64917dd32cd6>\u001b[0m in \u001b[0;36m<module>\u001b[0;34m\u001b[0m\n\u001b[1;32m      1\u001b[0m \u001b[0mm\u001b[0m\u001b[0;34m=\u001b[0m\u001b[0;36m3\u001b[0m\u001b[0;34m\u001b[0m\u001b[0;34m\u001b[0m\u001b[0m\n\u001b[0;32m----> 2\u001b[0;31m \u001b[0mX\u001b[0m\u001b[0;34m=\u001b[0m\u001b[0mlist\u001b[0m\u001b[0;34m(\u001b[0m\u001b[0mrange\u001b[0m\u001b[0;34m(\u001b[0m\u001b[0mN_nod\u001b[0m\u001b[0;34m)\u001b[0m\u001b[0;34m)\u001b[0m\u001b[0;34m\u001b[0m\u001b[0;34m\u001b[0m\u001b[0m\n\u001b[0m\u001b[1;32m      3\u001b[0m \u001b[0mY\u001b[0m\u001b[0;34m=\u001b[0m\u001b[0;34m[\u001b[0m\u001b[0;34m]\u001b[0m\u001b[0;34m\u001b[0m\u001b[0;34m\u001b[0m\u001b[0m\n\u001b[1;32m      4\u001b[0m \u001b[0;32mfor\u001b[0m \u001b[0mi\u001b[0m \u001b[0;32min\u001b[0m \u001b[0mrange\u001b[0m\u001b[0;34m(\u001b[0m\u001b[0;36m1\u001b[0m\u001b[0;34m,\u001b[0m\u001b[0mK_nod\u001b[0m\u001b[0;34m)\u001b[0m\u001b[0;34m:\u001b[0m \u001b[0mY\u001b[0m\u001b[0;34m.\u001b[0m\u001b[0mappend\u001b[0m\u001b[0;34m(\u001b[0m\u001b[0mlist\u001b[0m\u001b[0;34m(\u001b[0m\u001b[0mfilter\u001b[0m\u001b[0;34m(\u001b[0m\u001b[0;32mlambda\u001b[0m \u001b[0mx\u001b[0m\u001b[0;34m:\u001b[0m \u001b[0;34m(\u001b[0m\u001b[0mx\u001b[0m\u001b[0;34m%\u001b[0m\u001b[0;34m(\u001b[0m\u001b[0;36m2\u001b[0m\u001b[0;34m**\u001b[0m\u001b[0;34m(\u001b[0m\u001b[0mK_nod\u001b[0m\u001b[0;34m-\u001b[0m\u001b[0mi\u001b[0m\u001b[0;34m)\u001b[0m\u001b[0;34m)\u001b[0m\u001b[0;34m==\u001b[0m\u001b[0;36m0\u001b[0m\u001b[0;34m)\u001b[0m \u001b[0;32mand\u001b[0m \u001b[0mx\u001b[0m\u001b[0;34m%\u001b[0m\u001b[0;34m(\u001b[0m\u001b[0;36m2\u001b[0m\u001b[0;34m**\u001b[0m\u001b[0;34m(\u001b[0m\u001b[0mK_nod\u001b[0m\u001b[0;34m-\u001b[0m\u001b[0mi\u001b[0m\u001b[0;34m+\u001b[0m\u001b[0;36m1\u001b[0m\u001b[0;34m)\u001b[0m\u001b[0;34m)\u001b[0m\u001b[0;34m!=\u001b[0m\u001b[0;36m0\u001b[0m \u001b[0;34m,\u001b[0m\u001b[0mX\u001b[0m\u001b[0;34m)\u001b[0m\u001b[0;34m)\u001b[0m\u001b[0;34m)\u001b[0m\u001b[0;34m\u001b[0m\u001b[0;34m\u001b[0m\u001b[0m\n\u001b[1;32m      5\u001b[0m \u001b[0;34m\u001b[0m\u001b[0m\n",
      "\u001b[0;31mNameError\u001b[0m: name 'N_nod' is not defined"
     ]
    }
   ],
   "source": [
    "\n",
    "   "
   ]
  },
  {
   "cell_type": "code",
   "execution_count": 19,
   "id": "77d47754",
   "metadata": {
    "execution": {
     "iopub.execute_input": "2024-04-26T14:53:40.418398Z",
     "iopub.status.busy": "2024-04-26T14:53:40.417623Z",
     "iopub.status.idle": "2024-04-26T14:53:40.434196Z",
     "shell.execute_reply": "2024-04-26T14:53:40.433414Z",
     "shell.execute_reply.started": "2024-04-26T14:53:40.418357Z"
    },
    "tags": []
   },
   "outputs": [
    {
     "name": "stdout",
     "output_type": "stream",
     "text": [
      "tensor([1, 2, 3, 4, 1, 1, 1, 1, 1])\n",
      "tensor([ 1,  4,  9, 16,  1,  1,  1,  1,  1])\n",
      "tensor([ 1.0000,  4.0000,  9.0000, 16.0000,  0.2000,  0.1667,  0.1429,  0.1250,\n",
      "         0.1111])\n"
     ]
    }
   ],
   "source": []
  },
  {
   "cell_type": "code",
   "execution_count": null,
   "id": "4f366804-5799-414c-8df0-66ccdc8205f1",
   "metadata": {
    "execution": {
     "iopub.execute_input": "2024-04-30T23:54:28.784922Z",
     "iopub.status.busy": "2024-04-30T23:54:28.784066Z"
    },
    "tags": []
   },
   "outputs": [
    {
     "name": "stdout",
     "output_type": "stream",
     "text": [
      "tensor(0.4898, grad_fn=<MeanBackward0>)\n"
     ]
    },
    {
     "name": "stderr",
     "output_type": "stream",
     "text": [
      "  0%|          | 1/10000 [00:00<19:39,  8.48it/s]"
     ]
    },
    {
     "name": "stdout",
     "output_type": "stream",
     "text": [
      "tensor(0.4898, grad_fn=<MeanBackward0>)\n"
     ]
    },
    {
     "name": "stderr",
     "output_type": "stream",
     "text": [
      "  1%|          | 98/10000 [00:05<08:11, 20.14it/s]"
     ]
    },
    {
     "name": "stdout",
     "output_type": "stream",
     "text": [
      "tensor(0.4863, grad_fn=<MeanBackward0>)\n"
     ]
    },
    {
     "name": "stderr",
     "output_type": "stream",
     "text": [
      "  2%|▏         | 199/10000 [00:10<08:03, 20.29it/s]"
     ]
    },
    {
     "name": "stdout",
     "output_type": "stream",
     "text": [
      "tensor(0.4868, grad_fn=<MeanBackward0>)\n"
     ]
    },
    {
     "name": "stderr",
     "output_type": "stream",
     "text": [
      "  3%|▎         | 302/10000 [00:15<11:05, 14.58it/s]"
     ]
    },
    {
     "name": "stdout",
     "output_type": "stream",
     "text": [
      "tensor(0.4926, grad_fn=<MeanBackward0>)\n"
     ]
    },
    {
     "name": "stderr",
     "output_type": "stream",
     "text": [
      "  4%|▍         | 400/10000 [00:21<10:02, 15.94it/s]"
     ]
    },
    {
     "name": "stdout",
     "output_type": "stream",
     "text": [
      "tensor(0.5073, grad_fn=<MeanBackward0>)\n"
     ]
    },
    {
     "name": "stderr",
     "output_type": "stream",
     "text": [
      "  5%|▌         | 500/10000 [00:27<09:23, 16.87it/s]"
     ]
    },
    {
     "name": "stdout",
     "output_type": "stream",
     "text": [
      "tensor(0.5082, grad_fn=<MeanBackward0>)\n"
     ]
    },
    {
     "name": "stderr",
     "output_type": "stream",
     "text": [
      "  6%|▌         | 600/10000 [00:34<09:30, 16.47it/s]"
     ]
    },
    {
     "name": "stdout",
     "output_type": "stream",
     "text": [
      "tensor(0.5109, grad_fn=<MeanBackward0>)\n"
     ]
    },
    {
     "name": "stderr",
     "output_type": "stream",
     "text": [
      "  7%|▋         | 700/10000 [00:40<09:25, 16.45it/s]"
     ]
    },
    {
     "name": "stdout",
     "output_type": "stream",
     "text": [
      "tensor(0.4967, grad_fn=<MeanBackward0>)\n"
     ]
    },
    {
     "name": "stderr",
     "output_type": "stream",
     "text": [
      "  8%|▊         | 800/10000 [00:46<09:20, 16.40it/s]"
     ]
    },
    {
     "name": "stdout",
     "output_type": "stream",
     "text": [
      "tensor(0.4996, grad_fn=<MeanBackward0>)\n"
     ]
    },
    {
     "name": "stderr",
     "output_type": "stream",
     "text": [
      "  9%|▉         | 892/10000 [00:52<09:16, 16.37it/s]"
     ]
    },
    {
     "ename": "\u001b[0;31mKernelOutOfMemory\u001b[0m",
     "evalue": "Kernel ran out of memory and has been restarted. If the restart fails, restart the kernel from the Kernel menu.\nIf the error persists, try choosing a different configuration or optimizing your code.",
     "output_type": "error",
     "traceback": []
    }
   ],
   "source": [
    "from tqdm import tqdm\n",
    "N_samp=100\n",
    "N_s=10000\n",
    "d=(a/N_nod)**0.5\n",
    "\n",
    "system=osc\n",
    "model=RG_trained\n",
    "\n",
    "\n",
    "S_new=torch.zeros(N_samp)\n",
    "y=torch.zeros(N_samp)\n",
    "ind=torch.zeros(N_samp)\n",
    "mask=torch.zeros(N_samp)\n",
    "\n",
    "\n",
    "normal_dist=torch.distributions.Normal(loc=torch.zeros(N_nod), scale=torch.ones(N_nod))\n",
    "uniform_dist=torch.distributions.Uniform(torch.zeros(N_nod), torch.ones(N_nod))\n",
    "un=torch.distributions.Uniform(0, 1)\n",
    "\n",
    "z=normal_dist.sample((N_samp,))\n",
    "x1=model(z)\n",
    "print(torch.mean(x1**2))\n",
    "#S=system.Full_S(z)\n",
    "S=system.Full_S(model(z))\n",
    "\n",
    "for i in tqdm(range(N_s)):\n",
    "    if i%100==0:\n",
    "        x1=model(z)\n",
    "        print(torch.mean(x1**2))\n",
    "    \n",
    "    shift=uniform_dist.sample((N_samp,))\n",
    "    y=z+d*(2*shift-1)\n",
    "    #S_new=system.Full_S(y)\n",
    "    x=model(y)\n",
    "    S_new=system.Full_S(x)\n",
    "    ind=un.sample((N_samp,))<torch.exp(S-S_new)\n",
    "    mask=ind.nonzero()\n",
    "    if len(mask)>1:\n",
    "        mask=mask.squeeze()\n",
    "    if  len(mask)>0:\n",
    "        S[mask]=S_new[mask]\n",
    "        z[mask,:]=y[mask,:]\n",
    "       \n",
    "    \n",
    "    "
   ]
  },
  {
   "cell_type": "code",
   "execution_count": 32,
   "id": "7029eff4-d71d-4cd0-8ccf-b70183af91cb",
   "metadata": {
    "execution": {
     "iopub.execute_input": "2024-05-01T14:19:26.917568Z",
     "iopub.status.busy": "2024-05-01T14:19:26.916811Z",
     "iopub.status.idle": "2024-05-01T14:19:26.931026Z",
     "shell.execute_reply": "2024-05-01T14:19:26.930346Z",
     "shell.execute_reply.started": "2024-05-01T14:19:26.917534Z"
    },
    "tags": []
   },
   "outputs": [],
   "source": [
    "from tqdm import tqdm\n",
    "def MCMC(system,z,model=\"none\",d=a/N_nod,N_sweep=100):\n",
    "    \n",
    "    S_new=torch.zeros(N_samp)\n",
    "    y=torch.zeros(N_samp)\n",
    "    ind=torch.zeros(N_samp)\n",
    "    mask=torch.zeros(N_samp)\n",
    "\n",
    "    uniform_dist=torch.distributions.Uniform(torch.zeros(N_nod), torch.ones(N_nod))\n",
    "    un=torch.distributions.Uniform(0, 1)\n",
    "\n",
    "    if model==\"none\":\n",
    "        S=system.Full_S(z)\n",
    "    \n",
    "    else:\n",
    "        S=system.Full_S(model(z))\n",
    "\n",
    "    for i in tqdm(range(N_sweep)):\n",
    "        if i%100==0:\n",
    "            if model==\"none\":\n",
    "                print(torch.mean(z**2))\n",
    "            else:    \n",
    "                x1=model(z)\n",
    "                print(torch.mean(x1**2))\n",
    "    \n",
    "        shift=uniform_dist.sample((N_samp,))\n",
    "        y=z+d*(2*shift-1)\n",
    "        if model==\"none\":\n",
    "            S_new=system.Full_S(y)\n",
    "        else:    \n",
    "            x=model(y)\n",
    "            S_new=system.Full_S(x)\n",
    "        \n",
    "        ind=un.sample((N_samp,))<torch.exp(S-S_new)\n",
    "        mask=ind.nonzero()\n",
    "        if len(mask)>1:\n",
    "            mask=mask.squeeze()\n",
    "        if  len(mask)>0:\n",
    "            S[mask]=S_new[mask]\n",
    "            z[mask,:]=y[mask,:]\n",
    "    return z    \n",
    "    \n",
    "    "
   ]
  },
  {
   "cell_type": "code",
   "execution_count": 33,
   "id": "8b24904b-241a-45ff-9cb8-732d5961ce9c",
   "metadata": {
    "execution": {
     "iopub.execute_input": "2024-05-01T14:19:28.924350Z",
     "iopub.status.busy": "2024-05-01T14:19:28.923548Z",
     "iopub.status.idle": "2024-05-01T14:20:32.233074Z",
     "shell.execute_reply": "2024-05-01T14:20:30.673499Z",
     "shell.execute_reply.started": "2024-05-01T14:19:28.924305Z"
    },
    "tags": []
   },
   "outputs": [
    {
     "name": "stderr",
     "output_type": "stream",
     "text": [
      "  0%|          | 0/800 [00:00<?, ?it/s]"
     ]
    },
    {
     "name": "stdout",
     "output_type": "stream",
     "text": [
      "tensor(0.4888, grad_fn=<MeanBackward0>)\n"
     ]
    },
    {
     "name": "stderr",
     "output_type": "stream",
     "text": [
      " 13%|█▎        | 101/800 [00:07<00:55, 12.55it/s]"
     ]
    },
    {
     "name": "stdout",
     "output_type": "stream",
     "text": [
      "tensor(0.4509, grad_fn=<MeanBackward0>)\n"
     ]
    },
    {
     "name": "stderr",
     "output_type": "stream",
     "text": [
      " 25%|██▌       | 201/800 [00:14<00:46, 12.75it/s]"
     ]
    },
    {
     "name": "stdout",
     "output_type": "stream",
     "text": [
      "tensor(0.4540, grad_fn=<MeanBackward0>)\n"
     ]
    },
    {
     "name": "stderr",
     "output_type": "stream",
     "text": [
      " 38%|███▊      | 301/800 [00:22<00:42, 11.75it/s]"
     ]
    },
    {
     "name": "stdout",
     "output_type": "stream",
     "text": [
      "tensor(0.4789, grad_fn=<MeanBackward0>)\n"
     ]
    },
    {
     "name": "stderr",
     "output_type": "stream",
     "text": [
      " 50%|█████     | 401/800 [00:29<00:31, 12.60it/s]"
     ]
    },
    {
     "name": "stdout",
     "output_type": "stream",
     "text": [
      "tensor(0.4790, grad_fn=<MeanBackward0>)\n"
     ]
    },
    {
     "name": "stderr",
     "output_type": "stream",
     "text": [
      " 62%|██████▏   | 499/800 [00:36<00:20, 14.51it/s]"
     ]
    },
    {
     "name": "stdout",
     "output_type": "stream",
     "text": [
      "tensor(0.4958, grad_fn=<MeanBackward0>)\n"
     ]
    },
    {
     "name": "stderr",
     "output_type": "stream",
     "text": [
      " 75%|███████▍  | 599/800 [00:43<00:14, 13.78it/s]"
     ]
    },
    {
     "name": "stdout",
     "output_type": "stream",
     "text": [
      "tensor(0.4909, grad_fn=<MeanBackward0>)\n"
     ]
    },
    {
     "name": "stderr",
     "output_type": "stream",
     "text": [
      " 88%|████████▊ | 701/800 [00:51<00:07, 12.56it/s]"
     ]
    },
    {
     "name": "stdout",
     "output_type": "stream",
     "text": [
      "tensor(0.4841, grad_fn=<MeanBackward0>)\n"
     ]
    },
    {
     "name": "stderr",
     "output_type": "stream",
     "text": [
      "100%|██████████| 800/800 [00:58<00:00, 13.71it/s]\n"
     ]
    }
   ],
   "source": [
    "N_samp=100\n",
    "z=normal_dist.sample((N_samp,))\n",
    "z=MCMC(osc,z,model=RG_trained,d=2*(a/N_nod)**0.5,N_sweep=800)"
   ]
  },
  {
   "cell_type": "code",
   "execution_count": 34,
   "id": "9fdc97fb-075d-4a2d-9863-5e67e4ce4e30",
   "metadata": {
    "execution": {
     "iopub.execute_input": "2024-05-01T14:20:38.481545Z",
     "iopub.status.busy": "2024-05-01T14:20:38.480829Z",
     "iopub.status.idle": "2024-05-01T14:20:38.499501Z",
     "shell.execute_reply": "2024-05-01T14:20:38.498664Z",
     "shell.execute_reply.started": "2024-05-01T14:20:38.481502Z"
    },
    "tags": []
   },
   "outputs": [],
   "source": [
    "from NFandist import get_T\n",
    "import numpy as np\n",
    "T=torch.tensor(get_T(N_nod)).float()\n",
    "N_trajs=N_samp\n",
    "def G(X,n_p=N_nod):\n",
    "    G=np.zeros((n_p))\n",
    "    Y=X.clone()\n",
    "    Xt=torch.t(X)\n",
    "    for s in range(n_p):\n",
    "        G[s]=torch.trace(torch.matmul(Y,Xt))\n",
    "        Y=torch.matmul(Y,T)\n",
    "    return G/(N_trajs*N_nod)"
   ]
  },
  {
   "cell_type": "code",
   "execution_count": 38,
   "id": "d9f49124-3bc2-45e9-8e75-69f57b172d43",
   "metadata": {
    "execution": {
     "iopub.execute_input": "2024-05-01T14:21:14.539234Z",
     "iopub.status.busy": "2024-05-01T14:21:14.538360Z",
     "iopub.status.idle": "2024-05-01T14:21:14.636094Z",
     "shell.execute_reply": "2024-05-01T14:21:14.635210Z",
     "shell.execute_reply.started": "2024-05-01T14:21:14.539196Z"
    },
    "tags": []
   },
   "outputs": [
    {
     "name": "stdout",
     "output_type": "stream",
     "text": [
      "[-0.02455711 -0.02226591 -0.02064708 -0.02208949 -0.02232602 -0.02140337\n",
      " -0.01885054 -0.01764022 -0.01848675 -0.01718338 -0.01876166 -0.01715795\n",
      " -0.01211077 -0.00842408 -0.00416224 -0.00082487  0.00146886  0.00200574\n",
      "  0.00290767  0.00370823  0.00359793  0.00269677  0.00099806 -0.00048782\n",
      " -0.00268798 -0.00506714 -0.00673628 -0.00408253 -0.00336264 -0.00156277\n",
      "  0.00167851  0.00432041  0.00559031  0.00432042  0.00167851 -0.00156276\n",
      " -0.00336264 -0.00408254 -0.00673628 -0.00506714 -0.00268798 -0.00048782\n",
      "  0.00099806  0.00269677  0.00359792  0.00370824  0.00290767  0.00200574\n",
      "  0.00146886 -0.00082487 -0.00416224 -0.00842408 -0.01211077 -0.01715795\n",
      " -0.01876166 -0.01718338 -0.01848675 -0.01764022 -0.01885054 -0.02140337\n",
      " -0.02232602 -0.02208949 -0.02064708 -0.02226591]\n"
     ]
    }
   ],
   "source": [
    "from NFandist import calc_G\n",
    "from NFconstants import N_nod, N_traj, NG_points,Beta\n",
    "g_osc=calc_G(N_nod,Beta,N_nod)\n",
    "g_nf=G(RG_trained(z))\n",
    "print(g_nf-g_osc)"
   ]
  },
  {
   "cell_type": "code",
   "execution_count": null,
   "id": "0af2c8ec-017a-437a-8988-486b170e722b",
   "metadata": {},
   "outputs": [],
   "source": []
  }
 ],
 "metadata": {
  "kernelspec": {
   "display_name": "DataSphere Kernel",
   "language": "python",
   "name": "python3"
  },
  "language_info": {
   "codemirror_mode": {
    "name": "ipython",
    "version": 3
   },
   "file_extension": ".py",
   "mimetype": "text/x-python",
   "name": "python",
   "nbconvert_exporter": "python",
   "pygments_lexer": "ipython3",
   "version": "3.10.12"
  }
 },
 "nbformat": 4,
 "nbformat_minor": 5
}
