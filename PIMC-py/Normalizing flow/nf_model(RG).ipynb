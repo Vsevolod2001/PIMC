{
 "cells": [
  {
   "cell_type": "code",
   "execution_count": 1,
   "id": "dbee9da4",
   "metadata": {
    "execution": {
     "iopub.execute_input": "2024-06-25T23:22:40.982787Z",
     "iopub.status.busy": "2024-06-25T23:22:40.982277Z",
     "iopub.status.idle": "2024-06-25T23:22:44.711544Z",
     "shell.execute_reply": "2024-06-25T23:22:44.710770Z",
     "shell.execute_reply.started": "2024-06-25T23:22:40.982749Z"
    },
    "tags": []
   },
   "outputs": [
    {
     "data": {
      "image/png": "[encoded data removed]",
      "text/plain": [
       "<Figure size 640x480 with 1 Axes>"
      ]
     },
     "metadata": {},
     "output_type": "display_data"
    }
   ],
   "source": [
    "import numpy as np\n",
    "import matplotlib.pyplot as plt\n",
    "x=np.arange(0,1,0.1)\n",
    "plt.figure()\n",
    "plt.plot(x,x)\n",
    "plt.show()"
   ]
  },
  {
   "cell_type": "code",
   "execution_count": 2,
   "id": "55d2823b",
   "metadata": {},
   "outputs": [],
   "source": [
    "from typing import Callable, List, Tuple\n",
    "\n",
    "import pytorch_lightning as pl\n",
    "import torch\n",
    "import torch.nn.functional as F\n",
    "from torch import nn\n",
    "from torch.distributions.distribution import Distribution\n",
    "from pytorch_lightning.loggers import TensorBoardLogger\n",
    "import matplotlib.pyplot as plt\n",
    "import numpy as np\n",
    "from torch.utils.data import Dataset\n",
    "from torch.utils.data import DataLoader\n",
    "from torch.utils.data import random_split\n",
    "from nflows.transforms import made\n",
    "from NFconstants import N_nod, Beta, a, K_nod\n",
    "device = torch.device(\"cuda\" if torch.cuda.is_available() else \"cpu\")"
   ]
  },
  {
   "cell_type": "code",
   "execution_count": 3,
   "id": "c93eb4f7",
   "metadata": {
    "execution": {
     "iopub.execute_input": "2024-06-25T23:22:45.820517Z",
     "iopub.status.busy": "2024-06-25T23:22:45.819424Z",
     "iopub.status.idle": "2024-06-25T23:22:45.961046Z",
     "shell.execute_reply": "2024-06-25T23:22:45.960126Z",
     "shell.execute_reply.started": "2024-06-25T23:22:45.820457Z"
    },
    "tags": []
   },
   "outputs": [
    {
     "name": "stdout",
     "output_type": "stream",
     "text": [
      "False\n"
     ]
    }
   ],
   "source": [
    "from NFconstants import N_nod, Beta, a, K_nod\n",
    "from NFandist import get_O\n",
    "from NFandist import get_diag\n",
    "from NFandist import get_C\n",
    "from Data import normal_dist\n",
    "\n",
    "def set_random_seed(seed):\n",
    "    torch.manual_seed(seed)\n",
    "O=(torch.tensor(get_O(N_nod)).float()).to(device)\n",
    "Ot=(torch.t(O)).to(device)\n",
    "print(Ot.requires_grad)\n",
    "\n",
    "O8=(torch.tensor(get_O(8)).float()).to(device)\n",
    "O8t=(torch.t(O8)).to(device)\n",
    "\n",
    "\n",
    "#C=(torch.tensor(get_C(N_nod,Beta)).float()).to(device)\n",
    "#Ct=(torch.t(C)).to(device)\n",
    "\n",
    "\n"
   ]
  },
  {
   "cell_type": "code",
   "execution_count": 4,
   "id": "b26f4732",
   "metadata": {},
   "outputs": [],
   "source": [
    "class ThetaNetwork(nn.Module):\n",
    "    def __init__(\n",
    "        self,\n",
    "        in_dim: int,\n",
    "        out_dim: int,\n",
    "        num_hidden: int,\n",
    "        hidden_dim: int,\n",
    "        num_params: int,\n",
    "        p_drop: float,\n",
    "    ):\n",
    "        super().__init__()\n",
    "        self.input = nn.Linear(in_dim, hidden_dim)\n",
    "        self.hidden = nn.ModuleList(\n",
    "            [nn.Sequential(\n",
    "                nn.Linear(hidden_dim, hidden_dim),\n",
    "                nn.Dropout(p=p_drop),\n",
    "                nn.LayerNorm(hidden_dim)\n",
    "            ) for _ in range(num_hidden)]\n",
    "        )\n",
    "\n",
    "        self.num_params = num_params\n",
    "        self.out_dim = out_dim\n",
    "        self.dims = nn.Linear(hidden_dim, out_dim * num_params)\n",
    "        \n",
    "    def configure_theta(num_hidden,hidden_dim,p_drop,in_dim=N_nod//2,out_dim=N_nod//2):\n",
    "        theta=ThetaNetwork(\n",
    "                in_dim = in_dim,\n",
    "                out_dim = out_dim,\n",
    "                num_hidden = num_hidden,  #2 to 6\n",
    "                hidden_dim = hidden_dim , #100-1024\n",
    "                num_params = 2,\n",
    "                p_drop=p_drop,\n",
    "        )\n",
    "        return theta    \n",
    "\n",
    "    def forward(self, x: torch.Tensor) -> torch.Tensor:\n",
    "        x = F.leaky_relu(self.input(x),negative_slope=0.01)\n",
    "        for h in self.hidden:\n",
    "            x = F.leaky_relu(h(x),negative_slope=0.01)\n",
    "\n",
    "        batch_params = self.dims(x).reshape(x.size(0), self.out_dim, -1) \n",
    "        params = batch_params.chunk(self.num_params, dim=-1) \n",
    "        return [p.squeeze(-1) for p in params]"
   ]
  },
  {
   "cell_type": "code",
   "execution_count": 5,
   "id": "b66bc606",
   "metadata": {
    "execution": {
     "iopub.execute_input": "2024-06-25T23:22:46.006851Z",
     "iopub.status.busy": "2024-06-25T23:22:46.005860Z",
     "iopub.status.idle": "2024-06-25T23:22:46.029401Z",
     "shell.execute_reply": "2024-06-25T23:22:46.028495Z",
     "shell.execute_reply.started": "2024-06-25T23:22:46.006811Z"
    },
    "tags": []
   },
   "outputs": [],
   "source": [
    "class AffineCouplingLayer(nn.Module):\n",
    "    def __init__(\n",
    "        self,\n",
    "        theta: nn.Module,\n",
    "        split,\n",
    "        swap: int\n",
    "    ):\n",
    "        super().__init__()\n",
    "        self.theta = theta\n",
    "        self.split = split\n",
    "        self.swap = swap\n",
    "\n",
    "    def g(self, z: torch.Tensor,params=torch.tensor([])) -> torch.Tensor:\n",
    "        \"\"\"g : z -> x. The inverse of f.\"\"\"\n",
    "        mask1=self.split[self.swap]\n",
    "        mask2=self.split[(self.swap+1)%2]\n",
    "        z1, z2 = z[:,mask1], z[:,mask2]\n",
    "        z1 = torch.cat((z1,params),dim=-1)\n",
    "        t, s = self.theta(z1)\n",
    "        x2 = z2 * torch.exp(s) + t\n",
    "        log_det = s.sum(-1) \n",
    "        z[:,mask2]=x2\n",
    "        return z, log_det\n",
    "\n",
    "    def f(self, x: torch.Tensor,params=torch.tensor([])) -> torch.Tensor:\n",
    "        mask1=self.split[self.swap]\n",
    "        mask2=self.split[(self.swap+1)%2]\n",
    "        x1, x2 = x[:,mask1], x[:,mask2]\n",
    "        x1 = torch.cat((x1,params),dim=-1)\n",
    "        t, s = self.theta(x1)\n",
    "        z1, z2 = x1, torch.exp(-s)*(x2-t) \n",
    "        log_det = s.sum(-1) \n",
    "        x[:,mask2] = z2\n",
    "        return x, log_det    "
   ]
  },
  {
   "cell_type": "code",
   "execution_count": 6,
   "id": "f446e228",
   "metadata": {
    "execution": {
     "iopub.execute_input": "2024-06-25T23:22:46.465683Z",
     "iopub.status.busy": "2024-06-25T23:22:46.464860Z",
     "iopub.status.idle": "2024-06-25T23:22:46.480740Z",
     "shell.execute_reply": "2024-06-25T23:22:46.479948Z",
     "shell.execute_reply.started": "2024-06-25T23:22:46.465643Z"
    },
    "tags": []
   },
   "outputs": [],
   "source": [
    "def get_split_masks(dim=N_nod):\n",
    "    mask1=list(range(0,dim,2))\n",
    "    mask2=list(range(1,dim,2))\n",
    "    split_masks=[mask1,mask2]\n",
    "    return split_masks\n",
    "    "
   ]
  },
  {
   "cell_type": "code",
   "execution_count": 7,
   "id": "7df6bec4-7cc4-43bd-b701-0b10d9341203",
   "metadata": {
    "execution": {
     "iopub.execute_input": "2024-06-25T23:22:47.148092Z",
     "iopub.status.busy": "2024-06-25T23:22:47.147094Z",
     "iopub.status.idle": "2024-06-25T23:22:47.160191Z",
     "shell.execute_reply": "2024-06-25T23:22:47.159484Z",
     "shell.execute_reply.started": "2024-06-25T23:22:47.148039Z"
    },
    "tags": []
   },
   "outputs": [],
   "source": [
    "def get_pair_split_masks(dim=N_nod):\n",
    "    mask1=list(range(0,dim,4))\n",
    "    mask2=list(range(2,dim,4))\n",
    "    mask1=(mask1+list(map(lambda x:x+1,mask1)))\n",
    "    mask2=(mask2+list(map(lambda x:x+1,mask2)))\n",
    "    mask1.sort()\n",
    "    mask2.sort()\n",
    "    split_masks=[mask1,mask2]\n",
    "    return split_masks"
   ]
  },
  {
   "cell_type": "code",
   "execution_count": 8,
   "id": "f17f095c",
   "metadata": {
    "execution": {
     "iopub.execute_input": "2024-06-25T23:22:47.403729Z",
     "iopub.status.busy": "2024-06-25T23:22:47.402668Z",
     "iopub.status.idle": "2024-06-25T23:22:47.425221Z",
     "shell.execute_reply": "2024-06-25T23:22:47.424322Z",
     "shell.execute_reply.started": "2024-06-25T23:22:47.403673Z"
    },
    "tags": []
   },
   "outputs": [
    {
     "data": {
      "text/plain": [
       "'\\n    def g_steps(self, z: torch.Tensor) -> List[torch.Tensor]:\\n        Maps latent variable z to observation x\\n        and stores intermediate results.\\n        \\n        xs = [z]\\n        for flow in reversed(self.flows):\\n            xs.append(flow.g(xs[-1]))\\n        return xs\\n\\n    \\n    def latent_log_prob(self, z: torch.Tensor) -> torch.Tensor:\\n        llp=self.latent.log_prob(z)\\n        sum_llp= torch.sum(llp,axis=-1)\\n        return sum_llp\\n \\n    \\n'"
      ]
     },
     "execution_count": 8,
     "metadata": {},
     "output_type": "execute_result"
    }
   ],
   "source": [
    "class NormalizingFlow(nn.Module):\n",
    "    \n",
    "    def __init__(self, latent: Distribution, flows: List[nn.Module], ort=False, Ot=[]):\n",
    "        super().__init__()\n",
    "        self.latent = latent\n",
    "        self.flows = flows\n",
    "        self.ort = ort\n",
    "        self.Ot = Ot\n",
    "        \n",
    "    def configure_flows(n_flows,num_hidden,hidden_dim,p_drop,dim=N_nod,param_dim=0):  # n_flows=8,...,12\n",
    "        flows = []\n",
    "        split_masks_d = get_pair_split_masks(dim)\n",
    "        #split_masks_d = get_split_masks(dim)\n",
    "    \n",
    "        for k in range(n_flows):\n",
    "            theta = ThetaNetwork.configure_theta( num_hidden = num_hidden, hidden_dim = hidden_dim, p_drop=p_drop ,in_dim = dim//2+param_dim,out_dim = dim//2)\n",
    "            flows.append(AffineCouplingLayer(theta,split=split_masks_d,swap=k%2))\n",
    "   \n",
    "        flows = nn.ModuleList(flows)\n",
    "        return flows     \n",
    "\n",
    "    def latent_sample(self, num_samples: int = 1) -> torch.Tensor:\n",
    "        z=self.latent.sample((num_samples,))\n",
    "        return z        \n",
    "\n",
    "    def sample(self, num_samples: int = 1) -> torch.Tensor:\n",
    "        \"\"\"Sample a new observation x by sampling z from\n",
    "        the latent distribution and pass through g.\"\"\"\n",
    "        z=(self.latent_sample(num_samples))\n",
    "        with torch.no_grad():\n",
    "            x, _ = self.g(z)\n",
    "        return x \n",
    "    \n",
    "\n",
    "    def g(self, z: torch.Tensor,params=torch.tensor([])) -> torch.Tensor:\n",
    "        \n",
    "        x, sum_log_abs_det = z, torch.zeros(z.size(0)).to(z.device)\n",
    "        for flow in reversed(self.flows):\n",
    "            x, log_abs_det = flow.g(x,params)\n",
    "            sum_log_abs_det += log_abs_det\n",
    "        \n",
    "        if self.ort:\n",
    "            x = torch.matmul(x,self.Ot.to(x.device))\n",
    "            \n",
    "        return x, sum_log_abs_det\n",
    "    \n",
    "        \n",
    "    def __len__(self) -> int:\n",
    "        return len(self.flows)\n",
    "    \n",
    "    def f(self, x: torch.Tensor,params=torch.tensor([])) -> Tuple[torch.Tensor, torch.Tensor]:\n",
    "        \n",
    "        with torch.no_grad():\n",
    "            if self.ort:\n",
    "                x=torch.matmul(x,O.to(x.device))\n",
    "        \n",
    "            z, sum_log_abs_det = x, torch.zeros(x.size(0)).to(x.device)\n",
    "        \n",
    "            for flow in self.flows:\n",
    "                z, log_abs_det = flow.f(z,params)\n",
    "                sum_log_abs_det += log_abs_det\n",
    "        \n",
    "        return z, sum_log_abs_det\n",
    "    \n",
    " \n",
    "\"\"\"\n",
    "    def g_steps(self, z: torch.Tensor) -> List[torch.Tensor]:\n",
    "        Maps latent variable z to observation x\n",
    "        and stores intermediate results.\n",
    "        \n",
    "        xs = [z]\n",
    "        for flow in reversed(self.flows):\n",
    "            xs.append(flow.g(xs[-1]))\n",
    "        return xs\n",
    "\n",
    "    \n",
    "    def latent_log_prob(self, z: torch.Tensor) -> torch.Tensor:\n",
    "        llp=self.latent.log_prob(z)\n",
    "        sum_llp= torch.sum(llp,axis=-1)\n",
    "        return sum_llp\n",
    " \n",
    "    \n",
    "\"\"\"\n",
    "    "
   ]
  },
  {
   "cell_type": "code",
   "execution_count": 9,
   "id": "a44c02b7",
   "metadata": {},
   "outputs": [],
   "source": [
    "def get_points(start,stop,step):\n",
    "    if step == 0:\n",
    "        print(\"step = 0 error\")\n",
    "        return 1\n",
    "    x=start\n",
    "    Y=[]\n",
    "    while x < stop:\n",
    "        Y.append(x)\n",
    "        Y.append(x+1)\n",
    "        x += step\n",
    "    return Y\n",
    "\n",
    "\n",
    "def config_RG_masks(m,n_nod):\n",
    "    masks = []\n",
    "    start = 0\n",
    "    step = n_nod // (2 ** (m-1))\n",
    "    tmp = get_points(start,n_nod,step)\n",
    "    masks.append(tmp)\n",
    "    if n_nod == 2 ** m:\n",
    "        return masks\n",
    "    start = step//2\n",
    "    masks.append(get_points(start,n_nod,step))\n",
    "    while step > 4:\n",
    "        step //= 2\n",
    "        start = step//2\n",
    "        masks.append(get_points(start,n_nod,step))\n",
    "    return masks\n",
    "    "
   ]
  },
  {
   "cell_type": "code",
   "execution_count": 83,
   "id": "daa2897f",
   "metadata": {
    "execution": {
     "iopub.execute_input": "2024-06-25T23:22:47.450155Z",
     "iopub.status.busy": "2024-06-25T23:22:47.449080Z",
     "iopub.status.idle": "2024-06-25T23:22:47.489045Z",
     "shell.execute_reply": "2024-06-25T23:22:47.488120Z",
     "shell.execute_reply.started": "2024-06-25T23:22:47.450110Z"
    },
    "tags": []
   },
   "outputs": [
    {
     "ename": "SyntaxError",
     "evalue": "':' expected after dictionary key (2589919414.py, line 53)",
     "output_type": "error",
     "traceback": [
      "\u001b[1;36m  Cell \u001b[1;32mIn[83], line 53\u001b[1;36m\u001b[0m\n\u001b[1;33m    \"p_drop\"=self.p_drop}\u001b[0m\n\u001b[1;37m           ^\u001b[0m\n\u001b[1;31mSyntaxError\u001b[0m\u001b[1;31m:\u001b[0m ':' expected after dictionary key\n"
     ]
    }
   ],
   "source": [
    "class RGflows(nn.Module):\n",
    "    \n",
    "    def __init__(self,latent: Distribution ,\n",
    "                 nflist, \n",
    "                 masks, \n",
    "                 n_flows_dict,\n",
    "                 num_hidden_dict,\n",
    "                 hidden_dim_dict,\n",
    "                 gr_ng=0,\n",
    "                 out_dim=N_nod,\n",
    "                 p_drop=0):\n",
    "        super().__init__()\n",
    "        self.latent = latent\n",
    "        self.nflist = nflist\n",
    "        self.masks = masks\n",
    "        self.n_flows_dict = n_flows_dict\n",
    "        self.num_hidden_dict = num_hidden_dict\n",
    "        self.hidden_dim_dict = hidden_dim_dict\n",
    "        self.out_dim = out_dim\n",
    "        self.gr_ng = gr_ng\n",
    "        O=(torch.tensor(get_O(self.out_dim)).float()).to(device)\n",
    "        self.Ot=(torch.t(O)).to(device)\n",
    "        self.p_drop=p_drop\n",
    "        \n",
    "    def set_out_dim(self,out_dim):\n",
    "        self.out_dim=out_dim\n",
    "        O=(torch.tensor(get_O(self.out_dim)).float()).to(device)\n",
    "        self.Ot=(torch.t(O)).to(device)\n",
    "        \n",
    "    def configure_RG_flows(masks,n_flows_dict,num_hidden_dict,hidden_dim_dict,p_drop=0):  \n",
    "        nflist=[]\n",
    "        dim = len(masks[0])\n",
    "        param_dim = 0\n",
    "        for k in range(len(masks)):\n",
    "            flows =  NormalizingFlow.configure_flows(n_flows = n_flows_dict[dim] , num_hidden = num_hidden_dict[dim] , hidden_dim = hidden_dim_dict[dim], dim = dim , param_dim = param_dim, p_drop = p_drop)\n",
    "            nflist.append(NormalizingFlow(latent=normal_dist,flows=flows,ort=False))\n",
    "            param_dim += dim \n",
    "            if k!=0: dim *= 2 \n",
    "        nflist = nn.ModuleList(nflist)        \n",
    "        return nflist    \n",
    "        \n",
    "    def configure_RG_model(latent,masks,n_flows_dict, num_hidden_dict,hidden_dim_dict,out_dim=N_nod,gr_ng=0,p_drop=0):\n",
    "        flows=RGflows.configure_RG_flows(masks,n_flows_dict,num_hidden_dict,hidden_dim_dict,p_drop=p_drop)\n",
    "        return RGflows(latent,flows,RGmasks,n_flows_dict,num_hidden_dict,hidden_dim_dict,gr_ng=gr_ng,out_dim=out_dim,p_drop=p_drop)\n",
    "    \n",
    "    def save(self,filename):\n",
    "        state_dict = self.state_dict()\n",
    "        model_dict={\"state_dict\":state_dict,\n",
    "                    \"n_flows_dict\":self.n_flows_dict,\n",
    "                    \"num_hidden_dict\":self.num_hidden_dict,\n",
    "                    \"hidden_dim_dict\":self.hidden_dim_dict,\n",
    "                    \"masks\":self.masks,\n",
    "                    \"p_drop\"=self.p_drop}\n",
    "        torch.save(model_dict,filename)\n",
    "    \n",
    "    def load_model(filename):   \n",
    "        model_dict = torch.load(filename,map_location = device)\n",
    "        model=RGflows.configure_RG_model(normal_dist,\n",
    "                                  model_dict[\"masks\"],\n",
    "                                  model_dict[\"n_flows_dict\"], \n",
    "                                  model_dict[\"num_hidden_dict\"],\n",
    "                                  model_dict[\"hidden_dim_dict\"],\n",
    "                                  p_drop=model_dict[\"p_drop\"])\n",
    "        model.load_state_dict(model_dict[\"state_dict\"])\n",
    "        return model\n",
    "        \n",
    "\n",
    "    def latent_sample(self, num_samples: int = 1) -> torch.Tensor:\n",
    "        z=self.latent.sample((num_samples,))\n",
    "        return z        \n",
    "\n",
    "    def sample(self, num_samples: int = 1) -> torch.Tensor:\n",
    "        \"\"\"Sample a new observation x by sampling z from\n",
    "        the latent distribution and pass through g.\"\"\"\n",
    "        z=(self.latent_sample(num_samples))\n",
    "        with torch.no_grad():\n",
    "            x, _ = self.g(z)\n",
    "        return x \n",
    "    \n",
    "\n",
    "    def g(self, z: torch.Tensor,params=torch.tensor([])) -> torch.Tensor:\n",
    "        \n",
    "        sum_log_abs_det = torch.zeros(z.size(0)).to(z.device)\n",
    "        params=torch.tensor([]).to(z.device)\n",
    "        full_mask = []\n",
    "        \n",
    "        with torch.no_grad():\n",
    "            for i in range(0,self.gr_ng):\n",
    "                x = z[:,self.masks[i]]\n",
    "                x, log_abs_det = ((self.nflist)[i]).g(x,params)\n",
    "                sum_log_abs_det += log_abs_det\n",
    "                params = torch.cat((params,x.detach()),dim=-1)\n",
    "                z[:,self.masks[i]] = x\n",
    "                full_mask += self.masks[i]\n",
    "        \n",
    "        for i in range(self.gr_ng,len(self.nflist)):\n",
    "            x = z[:,self.masks[i]]\n",
    "            x, log_abs_det = ((self.nflist)[i]).g(x,params)\n",
    "            sum_log_abs_det += log_abs_det\n",
    "            params = torch.cat((params,x.detach()),dim=-1)\n",
    "            z[:,self.masks[i]] = x\n",
    "            full_mask += self.masks[i]          \n",
    "            if len(full_mask) == self.out_dim:\n",
    "                full_mask.sort()\n",
    "                z = torch.matmul(z[:,full_mask],self.Ot.to(z.device))    \n",
    "                return z, sum_log_abs_det\n",
    "        \n",
    "        z = torch.matmul(z,self.Ot.to(z.device))    \n",
    "        return z, sum_log_abs_det\n",
    "    \n",
    "    def f(self, x: torch.Tensor,params=torch.tensor([])) -> torch.Tensor:\n",
    "        \n",
    "        with torch.no_grad():\n",
    "            sum_log_abs_det = torch.zeros(x.size(0)).to(x.device)\n",
    "            params=torch.tensor([]).to(x.device)\n",
    "            x = torch.matmul(x,O.to(x.device))\n",
    "        \n",
    "            for i in range(len(self.nflist)):\n",
    "                z = x[:,self.masks[i]]\n",
    "                tmp = z.clone()\n",
    "                z, log_abs_det = ((self.nflist)[i]).f(z,params)\n",
    "                sum_log_abs_det += log_abs_det\n",
    "                params = torch.cat((params,tmp.detach()),dim=-1)\n",
    "                x[:,self.masks[i]] = z    \n",
    "        return x, sum_log_abs_det\n",
    "    \n",
    "    def log_prob(self,x):\n",
    "        tmp = x.clone()\n",
    "        z, lad = self.f(tmp)\n",
    "        log_prob = -torch.sum(z**2/2,dim=-1)-lad\n",
    "        return log_prob\n",
    "    \n",
    "    \n",
    "    def g_samp(self, z: torch.Tensor,params=torch.tensor([])) -> torch.Tensor:\n",
    "        \n",
    "        sum_log_abs_det = torch.zeros(z.size(0)).to(z.device)\n",
    "        params = torch.tensor([]).to(z.device)\n",
    "        res = torch.zeros((z.shape[0],z.shape[1]))\n",
    "        \n",
    "        for i in range(len(self.nflist)):\n",
    "            x=z[:,self.masks[i]]\n",
    "            res1, log_abs_det = ((self.nflist)[i]).g(x,params)\n",
    "            sum_log_abs_det += log_abs_det\n",
    "            params = torch.cat((params,x),dim=-1)\n",
    "            res[:,self.masks[i]] = res1\n",
    "        res = torch.matmul(res,Ot.to(z.device))    \n",
    "        return res, sum_log_abs_det\n",
    "    \n",
    "        \n",
    "    def __len__(self) -> int:\n",
    "        return len(self.flows)\n",
    "    \n",
    "    def forward(self,z,grads=False):\n",
    "        t=z.clone()\n",
    "        with torch.no_grad():\n",
    "            x, log_abs_det=self.g(t)\n",
    "\n",
    "\n",
    "        return x, log_abs_det\n",
    "    \n",
    " \n",
    "\n",
    "    "
   ]
  },
  {
   "cell_type": "code",
   "execution_count": 84,
   "id": "dfda85d4-e4b8-4687-94fc-cfeb66265c79",
   "metadata": {
    "execution": {
     "iopub.execute_input": "2024-06-25T23:22:47.557287Z",
     "iopub.status.busy": "2024-06-25T23:22:47.556285Z",
     "iopub.status.idle": "2024-06-25T23:22:47.570205Z",
     "shell.execute_reply": "2024-06-25T23:22:47.569575Z",
     "shell.execute_reply.started": "2024-06-25T23:22:47.557251Z"
    },
    "tags": []
   },
   "outputs": [],
   "source": [
    "m=3\n",
    "RGmasks = config_RG_masks(3,N_nod)"
   ]
  },
  {
   "cell_type": "code",
   "execution_count": 85,
   "id": "e8056833-22ec-4f32-bd8e-09c30cdb01af",
   "metadata": {
    "execution": {
     "iopub.execute_input": "2024-06-25T23:22:47.594256Z",
     "iopub.status.busy": "2024-06-25T23:22:47.593436Z",
     "iopub.status.idle": "2024-06-25T23:22:47.645448Z",
     "shell.execute_reply": "2024-06-25T23:22:47.644570Z",
     "shell.execute_reply.started": "2024-06-25T23:22:47.594220Z"
    },
    "tags": []
   },
   "outputs": [
    {
     "name": "stdout",
     "output_type": "stream",
     "text": [
      "[[0, 1, 64, 65, 128, 129, 192, 193], [32, 33, 96, 97, 160, 161, 224, 225], [16, 17, 48, 49, 80, 81, 112, 113, 144, 145, 176, 177, 208, 209, 240, 241], [8, 9, 24, 25, 40, 41, 56, 57, 72, 73, 88, 89, 104, 105, 120, 121, 136, 137, 152, 153, 168, 169, 184, 185, 200, 201, 216, 217, 232, 233, 248, 249], [4, 5, 12, 13, 20, 21, 28, 29, 36, 37, 44, 45, 52, 53, 60, 61, 68, 69, 76, 77, 84, 85, 92, 93, 100, 101, 108, 109, 116, 117, 124, 125, 132, 133, 140, 141, 148, 149, 156, 157, 164, 165, 172, 173, 180, 181, 188, 189, 196, 197, 204, 205, 212, 213, 220, 221, 228, 229, 236, 237, 244, 245, 252, 253], [2, 3, 6, 7, 10, 11, 14, 15, 18, 19, 22, 23, 26, 27, 30, 31, 34, 35, 38, 39, 42, 43, 46, 47, 50, 51, 54, 55, 58, 59, 62, 63, 66, 67, 70, 71, 74, 75, 78, 79, 82, 83, 86, 87, 90, 91, 94, 95, 98, 99, 102, 103, 106, 107, 110, 111, 114, 115, 118, 119, 122, 123, 126, 127, 130, 131, 134, 135, 138, 139, 142, 143, 146, 147, 150, 151, 154, 155, 158, 159, 162, 163, 166, 167, 170, 171, 174, 175, 178, 179, 182, 183, 186, 187, 190, 191, 194, 195, 198, 199, 202, 203, 206, 207, 210, 211, 214, 215, 218, 219, 222, 223, 226, 227, 230, 231, 234, 235, 238, 239, 242, 243, 246, 247, 250, 251, 254, 255]]\n"
     ]
    }
   ],
   "source": [
    "print(RGmasks)"
   ]
  },
  {
   "cell_type": "code",
   "execution_count": 86,
   "id": "5401fb59",
   "metadata": {
    "execution": {
     "iopub.execute_input": "2024-06-25T23:22:48.052007Z",
     "iopub.status.busy": "2024-06-25T23:22:48.051167Z",
     "iopub.status.idle": "2024-06-25T23:22:48.082311Z",
     "shell.execute_reply": "2024-06-25T23:22:48.081575Z",
     "shell.execute_reply.started": "2024-06-25T23:22:48.051969Z"
    },
    "tags": []
   },
   "outputs": [],
   "source": [
    "class Pipeline(pl.LightningModule):\n",
    "    def __init__(\n",
    "        self,\n",
    "        model,\n",
    "        criterion,\n",
    "        optimizer_class=torch.optim.Adam,\n",
    "        optimizer_kwargs={\"lr\": 0.001,\"weight_decay\": 0}\n",
    "    ) -> None:\n",
    "        super().__init__()\n",
    "        self.model = model\n",
    "        self.loss = criterion\n",
    "        self.optimizer_class = optimizer_class\n",
    "        self.optimizer_kwargs = optimizer_kwargs\n",
    "\n",
    "    \"\"\"\n",
    "    def configure_optimizers(self):\n",
    "        optimizer = self.optimizer_class(\n",
    "            self.model.parameters(), **self.optimizer_kwargs\n",
    "        )\n",
    "        return optimizer\n",
    "    \"\"\"\n",
    "    \n",
    "    def configure_optimizers(self):\n",
    "        optimizer = self.optimizer_class(\n",
    "            self.model.parameters(), **self.optimizer_kwargs\n",
    "        )\n",
    "        \n",
    "        \n",
    "        scheduler = torch.optim.lr_scheduler.ReduceLROnPlateau(\n",
    "            optimizer=optimizer,\n",
    "            min_lr=1e-9,\n",
    "            factor=0.5,\n",
    "            mode=\"min\",\n",
    "            threshold = 0.001,\n",
    "            patience = 1,\n",
    "            verbose=True,\n",
    "        )\n",
    "\n",
    "        lr_scheduler = {\n",
    "            \"scheduler\": scheduler,\n",
    "            \"interval\": \"epoch\",\n",
    "            \"monitor\": \"train_loss\",\n",
    "        }\n",
    "        return [optimizer], [lr_scheduler]\n",
    "\n",
    "    def training_step(self, batch, batch_idx):\n",
    "        z = batch\n",
    "        x, log_abs_det = self.model.g(z)\n",
    "        loss = self.loss(x,log_abs_det)\n",
    "        self.log('train_loss', loss, prog_bar=True)\n",
    "        return loss\n",
    "\n",
    "\n",
    "    def on_train_epoch_end(self):\n",
    "        #print(\"---------------------------end epoch---------------------------------\")\n",
    "        pass\n",
    "    \n",
    "    def on_validation_end(self) -> None:\n",
    "        if not self.automatic_optimization:\n",
    "            # Save a checkpoint of the model\n",
    "            ckpt_path = os.path.join(self.trainer.log_dir, 'checkpoints', 'ckpt.pt')\n",
    "            self.trainer.save_checkpoint(ckpt_path, weights_only=True)\n",
    "        return super().on_validation_end()\n",
    "    \n",
    "    "
   ]
  },
  {
   "cell_type": "code",
   "execution_count": 87,
   "id": "de9a9882",
   "metadata": {},
   "outputs": [],
   "source": [
    "class MY_Dataset(Dataset):\n",
    "    def __init__(self, distribution,n_nod):\n",
    "        super().__init__()\n",
    "        self.distribution = distribution\n",
    "        self.n_nod = n_nod\n",
    "        self.features = torch.tensor(0)\n",
    "        self.n_sample = 2**14\n",
    "\n",
    "    def __len__(self):\n",
    "        return self.n_sample\n",
    "\n",
    "    def __getitem__(self, index):\n",
    "        return self.distribution.sample((1,))[0]\n",
    "    \n",
    "    def sample(self,n_sample):\n",
    "        self.features=self.distribution.sample((n_sample,))\n",
    "        \n",
    "normal_dist=torch.distributions.Normal(loc=torch.zeros(N_nod), scale=torch.ones(N_nod))\n",
    "DS=MY_Dataset(normal_dist,N_nod)\n",
    "train_loader = DataLoader(DS, batch_size=2**10, shuffle=True)\n",
    "\n",
    "normal_dist8=torch.distributions.Normal(loc=torch.zeros(8), scale=torch.ones(8))\n",
    "DS8=MY_Dataset(normal_dist8,8)\n",
    "train_loader8 = DataLoader(DS8, batch_size=2**14, shuffle=True)"
   ]
  },
  {
   "cell_type": "code",
   "execution_count": 88,
   "id": "3857c540-6428-46f4-ac0a-31aa76f83ad2",
   "metadata": {
    "execution": {
     "iopub.execute_input": "2024-06-25T23:22:48.428882Z",
     "iopub.status.busy": "2024-06-25T23:22:48.427853Z",
     "iopub.status.idle": "2024-06-25T23:22:48.544010Z",
     "shell.execute_reply": "2024-06-25T23:22:48.543243Z",
     "shell.execute_reply.started": "2024-06-25T23:22:48.428842Z"
    },
    "tags": []
   },
   "outputs": [],
   "source": [
    "from NFoscillator import Oscillator\n",
    "from NFrel_oscillator import Rel_Oscillator\n",
    "from NFur_oscillator import Ur_Oscillator\n",
    "from NFx4 import X4\n",
    "from NFMorse import Morse\n",
    "from NFrel_Morse import Rel_Morse\n",
    "from NFrel_Columb import Rel_Columb\n",
    "from NFnonrel_Columb import NonRel_Columb\n",
    "from NFbadur_oscillator import BadUr_Oscillator\n",
    "from NFtwowells import Two_wells\n",
    "from NFcircle import Circle\n",
    "from NFrel_twowells import Rel_two_wells \n",
    "\n",
    "osc=Oscillator(N_nod,Beta)\n",
    "KL_osc=osc.get_KL()\n",
    "\n",
    "rel1=Rel_Oscillator(N_nod,Beta,sigma=1)\n",
    "KL_rel1=rel1.get_KL()\n",
    "\n",
    "ur=Ur_Oscillator(N_nod,Beta)\n",
    "KL_ur=ur.get_KL()\n",
    "\n",
    "ur8=Ur_Oscillator(8,Beta)\n",
    "KL_ur8=ur8.get_KL()\n",
    "\n",
    "rel_columb=Rel_Columb(N_nod,Beta,alpha=1,R=1)\n",
    "KL_rel_columb=rel_columb.get_KL()\n",
    "\n",
    "tw = Two_wells(N_nod,Beta,g=1,x0=1.41)\n",
    "KL_tw = tw.get_KL()\n",
    "\n",
    "\n",
    "morse = Morse(N_nod,Beta,alpha=0.125)\n",
    "KL_morse = morse.get_KL()\n",
    "\n",
    "circ = Circle(N_nod,Beta,g=1,x0=4)\n",
    "KL_circ = circ.get_KL()\n",
    "\n",
    "rel_morse = Rel_Morse(N_nod,Beta,m=1,alpha=0.125)\n",
    "KL_rel_morse = rel_morse.get_KL()\n",
    "\n",
    "rel_tw = Rel_two_wells(N_nod,Beta,m=1,g=1,x0=1.41)\n",
    "KL_rel_tw = rel_tw.get_KL()\n",
    "\n",
    "KL_rel001=Rel_Oscillator(N_nod,Beta,sigma=0.01).get_KL()\n",
    "KL_rel01=Rel_Oscillator(N_nod,Beta,sigma=0.1).get_KL()\n",
    "KL_rel10=Rel_Oscillator(N_nod,Beta,sigma=10).get_KL()\n",
    "KL_rel29=Rel_Oscillator(N_nod,Beta,sigma = 2 ** 9).get_KL()\n",
    "KL_X4=X4(N_nod,Beta,g=0.05).get_KL()\n",
    "KL_rel_morse=Rel_Morse(N_nod,Beta,alpha=1,m=1000).get_KL()\n",
    "KL_nonrel_columb=NonRel_Columb(N_nod,Beta,alpha=1,R=1).get_KL()\n"
   ]
  },
  {
   "cell_type": "code",
   "execution_count": 89,
   "id": "c766b7d3",
   "metadata": {},
   "outputs": [],
   "source": [
    "ur=Ur_Oscillator(N_nod,Beta)\n",
    "KL_ur=ur.get_KL()\n",
    "\n",
    "ur8=Ur_Oscillator(8,Beta)\n",
    "KL_ur8=ur8.get_KL()\n",
    "\n",
    "ur16=Ur_Oscillator(16,Beta)\n",
    "KL_ur16=ur16.get_KL()\n",
    "\n",
    "ur32=Ur_Oscillator(32,Beta)\n",
    "KL_ur32=ur32.get_KL()\n",
    "\n",
    "ur32=Ur_Oscillator(32,Beta)\n",
    "KL_ur32=ur32.get_KL()\n",
    "\n",
    "ur64=Ur_Oscillator(64,Beta)\n",
    "KL_ur64=ur64.get_KL()\n",
    "\n",
    "ur128=Ur_Oscillator(128,Beta)\n",
    "KL_ur128=ur128.get_KL()\n",
    "\n",
    "KL_ur_list=[KL_ur8,KL_ur16,KL_ur32,KL_ur64,KL_ur128,KL_ur]"
   ]
  },
  {
   "cell_type": "code",
   "execution_count": 90,
   "id": "be442388",
   "metadata": {},
   "outputs": [],
   "source": [
    "KL_rel_list=[]\n",
    "for k in range(m,K_nod+1):\n",
    "    rel_tmp = Rel_Oscillator(2**k,Beta,sigma=1)\n",
    "    KL_rel_list.append(rel_tmp.get_KL())"
   ]
  },
  {
   "cell_type": "code",
   "execution_count": 91,
   "id": "eae42727-7687-48fe-841a-c2e24320095f",
   "metadata": {
    "execution": {
     "iopub.execute_input": "2024-06-25T23:22:50.856742Z",
     "iopub.status.busy": "2024-06-25T23:22:50.855458Z",
     "iopub.status.idle": "2024-06-25T23:22:50.878104Z",
     "shell.execute_reply": "2024-06-25T23:22:50.877355Z",
     "shell.execute_reply.started": "2024-06-25T23:22:50.856695Z"
    },
    "tags": []
   },
   "outputs": [],
   "source": [
    "hidden_dim_dict1={8:32,16:64,32:128,64:256,128:512}\n",
    "n_flows_dict1={8:8,16:16,32:24,64:24,128:32}\n",
    "num_hidden_dict1={8:8,16:12,32:14,64:14,128:14}"
   ]
  },
  {
   "cell_type": "code",
   "execution_count": 97,
   "id": "fa06713c",
   "metadata": {},
   "outputs": [
    {
     "name": "stdout",
     "output_type": "stream",
     "text": [
      "RGflows(\n",
      "  (nflist): ModuleList(\n",
      "    (0): NormalizingFlow(\n",
      "      (flows): ModuleList(\n",
      "        (0-7): 8 x AffineCouplingLayer(\n",
      "          (theta): ThetaNetwork(\n",
      "            (input): Linear(in_features=4, out_features=32, bias=True)\n",
      "            (hidden): ModuleList(\n",
      "              (0-7): 8 x Sequential(\n",
      "                (0): Linear(in_features=32, out_features=32, bias=True)\n",
      "                (1): Dropout(p=0.1, inplace=False)\n",
      "                (2): LayerNorm((32,), eps=1e-05, elementwise_affine=True)\n",
      "              )\n",
      "            )\n",
      "            (dims): Linear(in_features=32, out_features=8, bias=True)\n",
      "          )\n",
      "        )\n",
      "      )\n",
      "    )\n",
      "    (1): NormalizingFlow(\n",
      "      (flows): ModuleList(\n",
      "        (0-7): 8 x AffineCouplingLayer(\n",
      "          (theta): ThetaNetwork(\n",
      "            (input): Linear(in_features=12, out_features=32, bias=True)\n",
      "            (hidden): ModuleList(\n",
      "              (0-7): 8 x Sequential(\n",
      "                (0): Linear(in_features=32, out_features=32, bias=True)\n",
      "                (1): Dropout(p=0.1, inplace=False)\n",
      "                (2): LayerNorm((32,), eps=1e-05, elementwise_affine=True)\n",
      "              )\n",
      "            )\n",
      "            (dims): Linear(in_features=32, out_features=8, bias=True)\n",
      "          )\n",
      "        )\n",
      "      )\n",
      "    )\n",
      "    (2): NormalizingFlow(\n",
      "      (flows): ModuleList(\n",
      "        (0-15): 16 x AffineCouplingLayer(\n",
      "          (theta): ThetaNetwork(\n",
      "            (input): Linear(in_features=24, out_features=64, bias=True)\n",
      "            (hidden): ModuleList(\n",
      "              (0-11): 12 x Sequential(\n",
      "                (0): Linear(in_features=64, out_features=64, bias=True)\n",
      "                (1): Dropout(p=0.1, inplace=False)\n",
      "                (2): LayerNorm((64,), eps=1e-05, elementwise_affine=True)\n",
      "              )\n",
      "            )\n",
      "            (dims): Linear(in_features=64, out_features=16, bias=True)\n",
      "          )\n",
      "        )\n",
      "      )\n",
      "    )\n",
      "    (3): NormalizingFlow(\n",
      "      (flows): ModuleList(\n",
      "        (0-23): 24 x AffineCouplingLayer(\n",
      "          (theta): ThetaNetwork(\n",
      "            (input): Linear(in_features=48, out_features=128, bias=True)\n",
      "            (hidden): ModuleList(\n",
      "              (0-13): 14 x Sequential(\n",
      "                (0): Linear(in_features=128, out_features=128, bias=True)\n",
      "                (1): Dropout(p=0.1, inplace=False)\n",
      "                (2): LayerNorm((128,), eps=1e-05, elementwise_affine=True)\n",
      "              )\n",
      "            )\n",
      "            (dims): Linear(in_features=128, out_features=32, bias=True)\n",
      "          )\n",
      "        )\n",
      "      )\n",
      "    )\n",
      "    (4): NormalizingFlow(\n",
      "      (flows): ModuleList(\n",
      "        (0-23): 24 x AffineCouplingLayer(\n",
      "          (theta): ThetaNetwork(\n",
      "            (input): Linear(in_features=96, out_features=256, bias=True)\n",
      "            (hidden): ModuleList(\n",
      "              (0-13): 14 x Sequential(\n",
      "                (0): Linear(in_features=256, out_features=256, bias=True)\n",
      "                (1): Dropout(p=0.1, inplace=False)\n",
      "                (2): LayerNorm((256,), eps=1e-05, elementwise_affine=True)\n",
      "              )\n",
      "            )\n",
      "            (dims): Linear(in_features=256, out_features=64, bias=True)\n",
      "          )\n",
      "        )\n",
      "      )\n",
      "    )\n",
      "    (5): NormalizingFlow(\n",
      "      (flows): ModuleList(\n",
      "        (0-31): 32 x AffineCouplingLayer(\n",
      "          (theta): ThetaNetwork(\n",
      "            (input): Linear(in_features=192, out_features=512, bias=True)\n",
      "            (hidden): ModuleList(\n",
      "              (0-13): 14 x Sequential(\n",
      "                (0): Linear(in_features=512, out_features=512, bias=True)\n",
      "                (1): Dropout(p=0.1, inplace=False)\n",
      "                (2): LayerNorm((512,), eps=1e-05, elementwise_affine=True)\n",
      "              )\n",
      "            )\n",
      "            (dims): Linear(in_features=512, out_features=128, bias=True)\n",
      "          )\n",
      "        )\n",
      "      )\n",
      "    )\n",
      "  )\n",
      ")\n"
     ]
    }
   ],
   "source": [
    "set_random_seed(42)\n",
    "rg = RGflows.configure_RG_model(normal_dist,RGmasks,n_flows_dict1,num_hidden_dict1,hidden_dim_dict1,p_drop=0.1)\n",
    "rg.save(\"model_weights_ur.pth\")\n",
    "print(rg)"
   ]
  },
  {
   "cell_type": "code",
   "execution_count": 103,
   "id": "a536cdfd",
   "metadata": {},
   "outputs": [
    {
     "name": "stderr",
     "output_type": "stream",
     "text": [
      "GPU available: False, used: False\n",
      "TPU available: False, using: 0 TPU cores\n",
      "IPU available: False, using: 0 IPUs\n",
      "HPU available: False, using: 0 HPUs\n",
      "\n",
      "  | Name  | Type      | Params\n",
      "------------------------------------\n",
      "0 | model | RGflows   | 153 M \n",
      "1 | loss  | KL_with_S | 0     \n",
      "------------------------------------\n",
      "153 M     Trainable params\n",
      "0         Non-trainable params\n",
      "153 M     Total params\n",
      "614.249   Total estimated model params size (MB)\n"
     ]
    },
    {
     "data": {
      "application/vnd.jupyter.widget-view+json": {
       "model_id": "f051c0c50df74af99369f1cffeefbaa5",
       "version_major": 2,
       "version_minor": 0
      },
      "text/plain": [
       "Training: |                                                                                      | 0/? [00:00<…"
      ]
     },
     "metadata": {},
     "output_type": "display_data"
    }
   ],
   "source": [
    "set_random_seed(42)\n",
    "rg = RGflows.load_model(\"model_weights_ur.pth\")\n",
    "d = 5\n",
    "dim = 2**(m+d)\n",
    "rg.gr_ng = d\n",
    "rg.set_out_dim(dim)\n",
    "pipeline=Pipeline(model=rg,criterion=KL_ur_list[d], optimizer_class=torch.optim.Adam,optimizer_kwargs={\"lr\": 0.0001})\n",
    "\n",
    "trainer = pl.Trainer(\n",
    "    max_epochs=200,\n",
    "    logger=TensorBoardLogger(save_dir=f\"logs/nf\"),\n",
    "    num_sanity_val_steps=0,\n",
    "    log_every_n_steps=1,\n",
    "    enable_checkpointing=False,\n",
    "    accumulate_grad_batches=1\n",
    ")\n",
    "\n",
    "trainer.fit(model=pipeline, train_dataloaders=train_loader)\n",
    "rg.save(\"model_weights_ur.pth\")"
   ]
  },
  {
   "cell_type": "code",
   "execution_count": 104,
   "id": "8169e1d2-102b-4d79-92e8-03905afd556d",
   "metadata": {
    "execution": {
     "iopub.execute_input": "2024-06-25T23:43:20.664874Z",
     "iopub.status.busy": "2024-06-25T23:43:20.663726Z",
     "iopub.status.idle": "2024-06-25T23:43:21.691790Z",
     "shell.execute_reply": "2024-06-25T23:43:21.690906Z",
     "shell.execute_reply.started": "2024-06-25T23:43:20.664828Z"
    },
    "tags": []
   },
   "outputs": [],
   "source": [
    "from Data import normal_dist\n",
    "import numpy as np\n",
    "from NFconstants import N_traj\n",
    "d = 5\n",
    "dim = 2**(m+d)\n",
    "RG_trained = RGflows.load_model(\"model_weights_ur.pth\")\n",
    "RG_trained.eval()\n",
    "RG_trained.set_out_dim(dim)\n",
    "N_traj=1000\n",
    "trajs = RG_trained.sample(N_traj)"
   ]
  },
  {
   "cell_type": "code",
   "execution_count": 105,
   "id": "fe644a5e-8e4a-4536-bec1-78a391b60f97",
   "metadata": {
    "execution": {
     "iopub.execute_input": "2024-06-25T23:43:32.822551Z",
     "iopub.status.busy": "2024-06-25T23:43:32.821630Z",
     "iopub.status.idle": "2024-06-25T23:43:33.566677Z",
     "shell.execute_reply": "2024-06-25T23:43:33.565674Z",
     "shell.execute_reply.started": "2024-06-25T23:43:32.822512Z"
    },
    "tags": []
   },
   "outputs": [
    {
     "name": "stderr",
     "output_type": "stream",
     "text": [
      "\n",
      "  0%|                                                                                          | 0/256 [00:00<?, ?it/s]\u001b[A\n",
      "  2%|█▎                                                                                | 4/256 [00:00<00:06, 37.48it/s]\u001b[A\n",
      "  4%|███▏                                                                             | 10/256 [00:00<00:05, 47.98it/s]\u001b[A\n",
      "  6%|█████                                                                            | 16/256 [00:00<00:04, 51.94it/s]\u001b[A\n",
      "  9%|██████▉                                                                          | 22/256 [00:00<00:04, 54.23it/s]\u001b[A\n",
      " 11%|████████▊                                                                        | 28/256 [00:00<00:04, 51.79it/s]\u001b[A\n",
      " 13%|██████████▊                                                                      | 34/256 [00:00<00:04, 51.36it/s]\u001b[A\n",
      " 16%|████████████▋                                                                    | 40/256 [00:00<00:04, 46.87it/s]\u001b[A\n",
      " 18%|██████████████▏                                                                  | 45/256 [00:00<00:04, 46.62it/s]\u001b[A\n",
      " 20%|███████████████▊                                                                 | 50/256 [00:01<00:04, 45.00it/s]\u001b[A\n",
      " 21%|█████████████████▍                                                               | 55/256 [00:01<00:04, 46.01it/s]\u001b[A\n",
      " 23%|██████████████████▉                                                              | 60/256 [00:01<00:04, 42.99it/s]\u001b[A\n",
      " 25%|████████████████████▌                                                            | 65/256 [00:01<00:04, 42.41it/s]\u001b[A\n",
      " 27%|██████████████████████▏                                                          | 70/256 [00:01<00:04, 41.39it/s]\u001b[A\n",
      " 29%|███████████████████████▋                                                         | 75/256 [00:01<00:04, 40.70it/s]\u001b[A\n",
      " 31%|█████████████████████████▎                                                       | 80/256 [00:01<00:04, 40.92it/s]\u001b[A\n",
      " 33%|██████████████████████████▉                                                      | 85/256 [00:01<00:04, 42.42it/s]\u001b[A\n",
      " 35%|████████████████████████████▍                                                    | 90/256 [00:02<00:03, 43.10it/s]\u001b[A\n",
      " 37%|██████████████████████████████                                                   | 95/256 [00:02<00:03, 43.13it/s]\u001b[A\n",
      " 39%|███████████████████████████████▌                                                | 101/256 [00:02<00:03, 45.63it/s]\u001b[A\n",
      " 41%|█████████████████████████████████▏                                              | 106/256 [00:02<00:03, 44.79it/s]\u001b[A\n",
      " 43%|██████████████████████████████████▋                                             | 111/256 [00:02<00:03, 44.67it/s]\u001b[A\n",
      " 45%|████████████████████████████████████▎                                           | 116/256 [00:02<00:03, 37.85it/s]\u001b[A\n",
      " 47%|█████████████████████████████████████▌                                          | 120/256 [00:02<00:03, 34.42it/s]\u001b[A\n",
      " 48%|██████████████████████████████████████▊                                         | 124/256 [00:02<00:04, 31.59it/s]\u001b[A\n",
      " 50%|████████████████████████████████████████                                        | 128/256 [00:03<00:04, 29.31it/s]\u001b[A\n",
      " 52%|█████████████████████████████████████████▎                                      | 132/256 [00:03<00:04, 28.77it/s]\u001b[A\n",
      " 53%|██████████████████████████████████████████▏                                     | 135/256 [00:03<00:04, 28.49it/s]\u001b[A\n",
      " 54%|███████████████████████████████████████████▏                                    | 138/256 [00:03<00:04, 28.46it/s]\u001b[A\n",
      " 55%|████████████████████████████████████████████                                    | 141/256 [00:03<00:04, 27.95it/s]\u001b[A\n",
      " 56%|█████████████████████████████████████████████                                   | 144/256 [00:03<00:04, 27.86it/s]\u001b[A\n",
      " 58%|██████████████████████████████████████████████▎                                 | 148/256 [00:03<00:03, 30.30it/s]\u001b[A\n",
      " 59%|███████████████████████████████████████████████▌                                | 152/256 [00:03<00:03, 31.83it/s]\u001b[A\n",
      " 61%|████████████████████████████████████████████████▊                               | 156/256 [00:04<00:03, 33.26it/s]\u001b[A\n",
      " 63%|██████████████████████████████████████████████████▎                             | 161/256 [00:04<00:02, 36.98it/s]\u001b[A\n",
      " 65%|████████████████████████████████████████████████████▏                           | 167/256 [00:04<00:02, 41.99it/s]\u001b[A\n",
      " 68%|██████████████████████████████████████████████████████                          | 173/256 [00:04<00:01, 46.25it/s]\u001b[A\n",
      " 70%|███████████████████████████████████████████████████████▉                        | 179/256 [00:04<00:01, 48.78it/s]\u001b[A\n",
      " 72%|█████████████████████████████████████████████████████████▊                      | 185/256 [00:04<00:01, 49.74it/s]\u001b[A\n",
      " 74%|███████████████████████████████████████████████████████████▍                    | 190/256 [00:04<00:01, 49.71it/s]\u001b[A\n",
      " 76%|████████████████████████████████████████████████████████████▉                   | 195/256 [00:04<00:01, 41.11it/s]\u001b[A\n",
      " 79%|██████████████████████████████████████████████████████████████▊                 | 201/256 [00:04<00:01, 44.97it/s]\u001b[A\n",
      " 81%|████████████████████████████████████████████████████████████████▋               | 207/256 [00:05<00:01, 47.44it/s]\u001b[A\n",
      " 83%|██████████████████████████████████████████████████████████████████▌             | 213/256 [00:05<00:00, 49.88it/s]\u001b[A\n",
      " 86%|████████████████████████████████████████████████████████████████████▍           | 219/256 [00:05<00:00, 49.20it/s]\u001b[A\n",
      " 88%|██████████████████████████████████████████████████████████████████████▎         | 225/256 [00:05<00:00, 48.15it/s]\u001b[A\n",
      " 90%|████████████████████████████████████████████████████████████████████████▏       | 231/256 [00:05<00:00, 48.86it/s]\u001b[A\n",
      " 92%|█████████████████████████████████████████████████████████████████████████▊      | 236/256 [00:05<00:00, 41.78it/s]\u001b[A\n",
      " 94%|███████████████████████████████████████████████████████████████████████████▎    | 241/256 [00:05<00:00, 41.87it/s]\u001b[A\n",
      " 96%|████████████████████████████████████████████████████████████████████████████▉   | 246/256 [00:05<00:00, 40.69it/s]\u001b[A\n",
      " 98%|██████████████████████████████████████████████████████████████████████████████▍ | 251/256 [00:06<00:00, 41.69it/s]\u001b[A\n",
      "100%|████████████████████████████████████████████████████████████████████████████████| 256/256 [00:06<00:00, 41.19it/s]\u001b[A\n"
     ]
    }
   ],
   "source": [
    "from NFandist import get_T\n",
    "from tqdm import tqdm\n",
    "#T=torch.tensor(get_T(N_nod)).float()\n",
    "def G(X,n_p=\"all\"):\n",
    "    n_traj=X.shape[0]\n",
    "    n_nod=X.shape[1]\n",
    "    if n_p == \"all\":\n",
    "        n_p = X.shape[1]\n",
    "    G=np.zeros((n_p))\n",
    "    Y=X.clone()\n",
    "    Xt=torch.t(X)\n",
    "    for s in tqdm(range(n_p)):\n",
    "        G[s]=torch.trace(torch.matmul(Y,Xt))\n",
    "        Y=torch.roll(Y,-1,1)\n",
    "        #Y=torch.roll(Y,-1,1)\n",
    "    return G/(n_traj*n_nod)\n",
    "g_nf=G(trajs)\n"
   ]
  },
  {
   "cell_type": "code",
   "execution_count": 23,
   "id": "74843255",
   "metadata": {},
   "outputs": [
    {
     "name": "stdout",
     "output_type": "stream",
     "text": [
      "256\n"
     ]
    }
   ],
   "source": [
    "print(len(g_nf))"
   ]
  },
  {
   "cell_type": "code",
   "execution_count": 61,
   "id": "78c9ffdf-7d11-49a0-8304-3228e4cd69b5",
   "metadata": {
    "execution": {
     "iopub.execute_input": "2024-06-05T09:56:52.955037Z",
     "iopub.status.busy": "2024-06-05T09:56:52.953855Z",
     "iopub.status.idle": "2024-06-05T09:56:53.196457Z",
     "shell.execute_reply": "2024-06-05T09:56:53.195400Z",
     "shell.execute_reply.started": "2024-06-05T09:56:52.954992Z"
    },
    "tags": []
   },
   "outputs": [],
   "source": [
    "from NFandist import calc_G\n",
    "from NFconstants import N_nod, N_traj, NG_points,Beta\n",
    "g_osc=calc_G(N_nod,Beta,N_nod)\n"
   ]
  },
  {
   "cell_type": "code",
   "execution_count": 130,
   "id": "d40ea38c-5c07-4349-9872-6f8026d990d1",
   "metadata": {
    "execution": {
     "iopub.execute_input": "2024-05-09T13:53:35.170538Z",
     "iopub.status.busy": "2024-05-09T13:53:35.169712Z",
     "iopub.status.idle": "2024-05-09T13:53:35.188356Z",
     "shell.execute_reply": "2024-05-09T13:53:35.187543Z",
     "shell.execute_reply.started": "2024-05-09T13:53:35.170492Z"
    },
    "tags": []
   },
   "outputs": [],
   "source": [
    "g_ur = [0.476546, 0.148654, 0.060357, 0.0232596, -0.00447499, -0.00224423, -0.00447499, 0.0232596, 0.060357, 0.148654]"
   ]
  },
  {
   "cell_type": "code",
   "execution_count": 27,
   "id": "423d9be1-411c-4004-929e-ddd280cb3a77",
   "metadata": {
    "execution": {
     "iopub.execute_input": "2024-06-07T15:58:39.121995Z",
     "iopub.status.busy": "2024-06-07T15:58:39.121456Z",
     "iopub.status.idle": "2024-06-07T15:58:39.146655Z",
     "shell.execute_reply": "2024-06-07T15:58:39.145783Z",
     "shell.execute_reply.started": "2024-06-07T15:58:39.121957Z"
    },
    "tags": []
   },
   "outputs": [],
   "source": [
    "\n",
    "g_ur = [0.555858, 0.497988, 0.446597, 0.401115, 0.360415, 0.324316, 0.29138, 0.261791, 0.235658, 0.211969, 0.190536, 0.171994, 0.155133, 0.140335, 0.126598, 0.114471, 0.103514, 0.0941716, 0.0852865, 0.0767528, 0.0691313, 0.0619047, 0.0550745, 0.0490998, 0.0443236, 0.0396256, 0.0358628, 0.0324961, 0.0302019, 0.0276177, 0.0251373, 0.0226234, 0.0203086, 0.0179717, 0.0164385, 0.0152739, 0.0143051, 0.0136778, 0.0127566, 0.0118486, 0.0111658, 0.0111462, 0.011026, 0.0110081, 0.0109681, 0.0106729, 0.0101027, 0.010377, 0.010866, 0.0114044, 0.0119873, 0.0114044, 0.010866, 0.010377, 0.0101027, 0.0106729, 0.0109681, 0.0110081, 0.011026, 0.0111462, 0.0111658, 0.0118486, 0.0127566, 0.0136778, 0.0143051, 0.0152739, 0.0164385, 0.0179717, 0.0203086, 0.0226234, 0.0251373, 0.0276177, 0.0302019, 0.0324961, 0.0358628, 0.0396256, 0.0443236, 0.0490998, 0.0550745, 0.0619047, 0.0691313, 0.0767528, 0.0852865, 0.0941716, 0.103514, 0.114471, 0.126598, 0.140335, 0.155133, 0.171994, 0.190536, 0.211969, 0.235658, 0.261791, 0.29138, 0.324316, 0.360415, 0.401115, 0.446597, 0.497988]\n"
   ]
  },
  {
   "cell_type": "code",
   "execution_count": 106,
   "id": "a0771981",
   "metadata": {},
   "outputs": [],
   "source": [
    "g_ur = np.genfromtxt(\"g_ur N=256 Beta=16\")"
   ]
  },
  {
   "cell_type": "code",
   "execution_count": 34,
   "id": "761d4f40-3376-4f0e-9177-6ff5ff928fa4",
   "metadata": {
    "execution": {
     "iopub.execute_input": "2024-05-21T10:25:14.168551Z",
     "iopub.status.busy": "2024-05-21T10:25:14.167519Z",
     "iopub.status.idle": "2024-05-21T10:25:14.181801Z",
     "shell.execute_reply": "2024-05-21T10:25:14.180763Z",
     "shell.execute_reply.started": "2024-05-21T10:25:14.168483Z"
    },
    "tags": []
   },
   "outputs": [],
   "source": [
    "g_rel = [0.389004, 0.174591, 0.0750764, 0.0320855, 0.0235634, 0.0204869, 0.0235634, 0.0320855, 0.0750764, 0.174591]"
   ]
  },
  {
   "cell_type": "code",
   "execution_count": 24,
   "id": "f0639e9e-3fa3-412f-8833-8af468af9fa8",
   "metadata": {
    "execution": {
     "iopub.execute_input": "2024-06-25T23:23:10.526613Z",
     "iopub.status.busy": "2024-06-25T23:23:10.525646Z",
     "iopub.status.idle": "2024-06-25T23:23:10.541619Z",
     "shell.execute_reply": "2024-06-25T23:23:10.540772Z",
     "shell.execute_reply.started": "2024-06-25T23:23:10.526571Z"
    },
    "tags": []
   },
   "outputs": [],
   "source": [
    "g_rel = [0.392501, 0.361773, 0.333519, 0.307446, 0.283335, 0.261201, 0.240658, 0.221871, 0.204776, 0.188963, 0.174495, 0.161116, 0.148541, 0.136946, 0.126175, 0.116168, 0.106934, 0.0985733, 0.090693, 0.0836987, 0.0773237, 0.0713712, 0.0662134, 0.0611666, 0.0567049, 0.0525145, 0.0489322, 0.045775, 0.043085, 0.0407685, 0.0383386, 0.0365845, 0.0353032, 0.0339074, 0.0324167, 0.0308972, 0.0295226, 0.0285374, 0.0276133, 0.026899, 0.0265193, 0.0267518, 0.027023, 0.0272673, 0.0275789, 0.0277296, 0.0281657, 0.0286108, 0.0289897, 0.0292072, 0.0292838, 0.0292072, 0.0289897, 0.0286108, 0.0281657, 0.0277296, 0.0275789, 0.0272673, 0.027023, 0.0267518, 0.0265193, 0.026899, 0.0276133, 0.0285374, 0.0295226, 0.0308972, 0.0324167, 0.0339074, 0.0353032, 0.0365845, 0.0383386, 0.0407685, 0.043085, 0.045775, 0.0489322, 0.0525145, 0.0567049, 0.0611666, 0.0662134, 0.0713712, 0.0773237, 0.0836987, 0.090693, 0.0985733, 0.106934, 0.116168, 0.126175, 0.136946, 0.148541, 0.161116, 0.174495, 0.188963, 0.204776, 0.221871, 0.240658, 0.261201, 0.283335, 0.307446, 0.333519, 0.361773]\n"
   ]
  },
  {
   "cell_type": "code",
   "execution_count": 30,
   "id": "65e2959c-aa9d-47a0-971a-68fd6575b32e",
   "metadata": {
    "execution": {
     "iopub.execute_input": "2024-04-26T16:57:08.404772Z",
     "iopub.status.busy": "2024-04-26T16:57:08.403986Z",
     "iopub.status.idle": "2024-04-26T16:57:08.419094Z",
     "shell.execute_reply": "2024-04-26T16:57:08.418111Z",
     "shell.execute_reply.started": "2024-04-26T16:57:08.404730Z"
    },
    "tags": []
   },
   "outputs": [],
   "source": [
    "\n",
    "import numpy as np\n",
    "corr = [0.0049279, 0.00445719, 0.0040318, 0.00364688, 0.00329375, 0.00297512, 0.00268571, 0.00242197, 0.00217813, 0.00195686, 0.00176504, 0.001597, 0.0014406, 0.00130362, 0.00117932, 0.00107197, 0.000971531, 0.000873839, 0.000783014, 0.000698531, 0.000622945, 0.000554938, 0.000497423, 0.000446639, 0.000400234, 0.000360026, 0.000325092, 0.00028936, 0.000252744, 0.000222755, 0.00019756, 0.000178826, 0.000169581, 0.000165766, 0.000161208, 0.000158499, 0.000157808, 0.000156267, 0.000155463, 0.000151827, 0.000137475, 0.000124214, 0.000113485, 0.000104859, 9.63436e-05, 8.8317e-05, 8.17296e-05, 7.9884e-05, 7.83747e-05, 8.01024e-05, 8.44507e-05, 8.01024e-05, 7.83747e-05, 7.9884e-05, 8.17296e-05, 8.8317e-05, 9.63436e-05, 0.000104859, 0.000113485, 0.000124214, 0.000137475, 0.000151827, 0.000155463, 0.000156267, 0.000157808, 0.000158499, 0.000161208, 0.000165766, 0.000169581, 0.000178826, 0.00019756, 0.000222755, 0.000252744, 0.00028936, 0.000325092, 0.000360026, 0.000400234, 0.000446639, 0.000497423, 0.000554938, 0.000622945, 0.000698531, 0.000783014, 0.000873839, 0.000971531, 0.00107197, 0.00117932, 0.00130362, 0.0014406, 0.001597, 0.00176504, 0.00195686, 0.00217813, 0.00242197, 0.00268571, 0.00297512, 0.00329375, 0.00364688, 0.0040318, 0.00445719, 0.0049279]\n",
    "g_rel_001=(100*np.array(corr))[:-1]\n",
    "\n"
   ]
  },
  {
   "cell_type": "code",
   "execution_count": 31,
   "id": "1cd1e02d-0324-466a-b37e-a60554908a29",
   "metadata": {
    "execution": {
     "iopub.execute_input": "2024-04-25T13:55:19.035541Z",
     "iopub.status.busy": "2024-04-25T13:55:19.034575Z",
     "iopub.status.idle": "2024-04-25T13:55:19.058166Z",
     "shell.execute_reply": "2024-04-25T13:55:19.057280Z",
     "shell.execute_reply.started": "2024-04-25T13:55:19.035477Z"
    },
    "tags": []
   },
   "outputs": [],
   "source": [
    "import numpy as np\n",
    "corr = [0.0482165, 0.0437875, 0.0397512, 0.0361339, 0.0328051, 0.0297607, 0.0270138, 0.0244825, 0.0222039, 0.0201489, 0.0183026, 0.0166458, 0.0151002, 0.0137192, 0.012421, 0.0112716, 0.0102497, 0.00931179, 0.0084281, 0.00763501, 0.00697282, 0.00637519, 0.00579578, 0.00524782, 0.00469027, 0.00419239, 0.00376016, 0.00335117, 0.00299975, 0.00265075, 0.00236496, 0.00215769, 0.00196452, 0.00178665, 0.00162977, 0.00148276, 0.00135563, 0.00127519, 0.00120796, 0.00115448, 0.0011155, 0.00109623, 0.00112555, 0.00113097, 0.00108849, 0.00108302, 0.00112726, 0.00115736, 0.00118966, 0.00124266, 0.00121678, 0.00124266, 0.00118966, 0.00115736, 0.00112726, 0.00108302, 0.00108849, 0.00113097, 0.00112555, 0.00109623, 0.0011155, 0.00115448, 0.00120796, 0.00127519, 0.00135563, 0.00148276, 0.00162977, 0.00178665, 0.00196452, 0.00215769, 0.00236496, 0.00265075, 0.00299975, 0.00335117, 0.00376016, 0.00419239, 0.00469027, 0.00524782, 0.00579578, 0.00637519, 0.00697282, 0.00763501, 0.0084281, 0.00931179, 0.0102497, 0.0112716, 0.012421, 0.0137192, 0.0151002, 0.0166458, 0.0183026, 0.0201489, 0.0222039, 0.0244825, 0.0270138, 0.0297607, 0.0328051, 0.0361339, 0.0397512, 0.0437875, 0.0482165]\n",
    "g_rel_01=(10*np.array(corr))[:-1]\n"
   ]
  },
  {
   "cell_type": "code",
   "execution_count": 29,
   "id": "de9315fa",
   "metadata": {},
   "outputs": [
    {
     "name": "stdout",
     "output_type": "stream",
     "text": [
      "64\n"
     ]
    }
   ],
   "source": [
    "print(len(g_nf2))"
   ]
  },
  {
   "cell_type": "code",
   "execution_count": 108,
   "id": "34a5ead7-10a1-445f-abbd-4f8c2478ccd1",
   "metadata": {
    "execution": {
     "iopub.execute_input": "2024-06-25T23:43:37.304680Z",
     "iopub.status.busy": "2024-06-25T23:43:37.303565Z",
     "iopub.status.idle": "2024-06-25T23:43:37.571723Z",
     "shell.execute_reply": "2024-06-25T23:43:37.570955Z",
     "shell.execute_reply.started": "2024-06-25T23:43:37.304640Z"
    },
    "tags": []
   },
   "outputs": [
    {
     "name": "stdout",
     "output_type": "stream",
     "text": [
      "0.628837158203125\n"
     ]
    },
    {
     "data": {
      "image/png": "[encoded data removed]",
      "text/plain": [
       "<Figure size 640x480 with 1 Axes>"
      ]
     },
     "metadata": {},
     "output_type": "display_data"
    }
   ],
   "source": [
    "#import sys\n",
    "#sys.path.append('../')\n",
    "import numpy as np\n",
    "import matplotlib.pyplot as plt\n",
    "from NFconstants import N_nod, N_traj, NG_points,Beta\n",
    "\n",
    "\n",
    "\n",
    "\n",
    "g=g_ur\n",
    "print(g_nf[0])\n",
    "fig=plt.figure()\n",
    "MCMC_list=np.arange(len(g))/len(g)\n",
    "NF_list=np.arange(len(g_nf))/len(g_nf)\n",
    "\n",
    "\n",
    "\n",
    "plt.scatter(MCMC_list,g,s=10)\n",
    "plt.scatter(NF_list,g_nf,s=10)\n",
    "plt.legend([\"Метрополис\",\"Нормализующий поток\"])\n",
    "plt.title(r\"$N=$\"+str(N_nod)+\"       \"r\"$\\beta=$\"+str(Beta)+\"     Ультраелятивистский осциллятор\")\n",
    "plt.ylabel(r\"$G_s$\",fontsize=17)\n",
    "plt.xlabel(r\"$s/N$\",fontsize=17)\n",
    "#plt.yscale(\"log\")\n",
    "plt.grid(True)\n",
    "plt.show()\n"
   ]
  },
  {
   "cell_type": "code",
   "execution_count": 3,
   "id": "5537b59a",
   "metadata": {
    "execution": {
     "iopub.execute_input": "2024-07-14T12:10:20.567763Z",
     "iopub.status.busy": "2024-07-14T12:10:20.566583Z",
     "iopub.status.idle": "2024-07-14T12:10:20.602663Z",
     "shell.execute_reply": "2024-07-14T12:10:20.601840Z",
     "shell.execute_reply.started": "2024-07-14T12:10:20.567711Z"
    },
    "tags": []
   },
   "outputs": [
    {
     "name": "stdout",
     "output_type": "stream",
     "text": [
      "20K\tlogs\n"
     ]
    }
   ],
   "source": [
    "\n",
    "\n",
    "! du -sh logs\n",
    "\n",
    "\n",
    "\n",
    "\n"
   ]
  },
  {
   "cell_type": "code",
   "execution_count": 4,
   "id": "96e1f7e3-4121-49e9-95f1-06ecbf041f59",
   "metadata": {
    "execution": {
     "iopub.execute_input": "2024-06-25T17:50:47.838027Z",
     "iopub.status.busy": "2024-06-25T17:50:47.836805Z",
     "iopub.status.idle": "2024-06-25T17:50:48.431014Z",
     "shell.execute_reply": "2024-06-25T17:50:48.430087Z",
     "shell.execute_reply.started": "2024-06-25T17:50:47.837983Z"
    }
   },
   "outputs": [],
   "source": [
    "! rm -rf logs\n"
   ]
  },
  {
   "cell_type": "code",
   "execution_count": 41,
   "id": "e9a37694-c075-403e-91dd-b1fd72fcd472",
   "metadata": {
    "execution": {
     "iopub.execute_input": "2024-06-18T23:34:54.685548Z",
     "iopub.status.busy": "2024-06-18T23:34:54.684276Z",
     "iopub.status.idle": "2024-06-18T23:34:54.730227Z",
     "shell.execute_reply": "2024-06-18T23:34:54.729318Z",
     "shell.execute_reply.started": "2024-06-18T23:34:54.685485Z"
    },
    "tags": []
   },
   "outputs": [],
   "source": [
    "import time\n",
    "class MCMC:\n",
    "    def __init__(self,system,model=\"none\",d=(a/N_nod)**0.5,N_sweep=100,log_per=1000):\n",
    "        \n",
    "        self.system = system\n",
    "        self.S = 0\n",
    "        self.model = model\n",
    "        self.d = d\n",
    "        self.N_sweep = N_sweep\n",
    "        self.log_per = log_per\n",
    "        self.ar = 0\n",
    "        self.shift_dist = torch.distributions.Uniform(torch.zeros(N_nod), torch.ones(N_nod))\n",
    "        self.un = torch.distributions.Uniform(0, 1)\n",
    "        self.res=[]\n",
    "        self.times=[]\n",
    "        \n",
    "    def sweep(self,z):\n",
    "        shift = self.shift_dist.sample((N_samp,)).to(z.device)\n",
    "        y = z+self.d*(2*shift-1)\n",
    "    \n",
    "        S_new=self.calc_S(y)\n",
    "    \n",
    "        dS=S_new-self.S\n",
    "        prob = torch.exp(-dS)\n",
    "        #prob=torch.zeros((N_samp))\n",
    "        ind = self.un.sample((N_samp,)).to(z.device)<prob\n",
    "    \n",
    "        mask=ind.nonzero()\n",
    "        if len(mask)>1:\n",
    "            mask=mask.squeeze()\n",
    "    \n",
    "        if  len(mask)>0:\n",
    "            self.S[mask]=S_new[mask]\n",
    "            z[mask,:]=y[mask,:]  \n",
    "        self.ar = torch.mean(ind.type('torch.FloatTensor'))           \n",
    "    \n",
    "    \n",
    "    def log(self,z):\n",
    "        if self.model==\"none\":\n",
    "            x1=z\n",
    "        else:    \n",
    "            x1,_=self.model(z)\n",
    "        print(torch.mean(x1**2),self.ar)\n",
    "        self.res.append(torch.mean(x1**2).cpu())\n",
    "        self.Times.append(time.time()-self.start)\n",
    "    \n",
    "    def calc_S(self,z):\n",
    "        if self.model==\"none\":\n",
    "            S=self.system.Full_S(z).to(z.device)\n",
    "        else:\n",
    "            x , lad = self.model(z)\n",
    "            S=self.system.Full_S(x).to(z.device)-lad   \n",
    "        return S\n",
    "    \n",
    "    def init_state(self,z):\n",
    "        self.start=time.time()\n",
    "        self.S=self.calc_S(z)\n",
    "        self.res=[]\n",
    "        self.Times=[]\n",
    "        \n",
    "    \n",
    "    def run(self,z):\n",
    "        \n",
    "        self.init_state(z)\n",
    "    \n",
    "        for i in range(self.N_sweep):\n",
    "            if i%self.log_per==0:\n",
    "                self.log(z)\n",
    "            self.sweep(z)\n",
    "        \n",
    "        return z    \n",
    "    \n",
    "    \n",
    "        "
   ]
  },
  {
   "cell_type": "code",
   "execution_count": 42,
   "id": "653c3be4-affb-4e88-ab7a-29893cca4c59",
   "metadata": {
    "execution": {
     "iopub.execute_input": "2024-06-18T23:42:04.694967Z",
     "iopub.status.busy": "2024-06-18T23:42:04.693793Z",
     "iopub.status.idle": "2024-06-18T23:42:33.999532Z",
     "shell.execute_reply": "2024-06-18T23:42:33.998207Z",
     "shell.execute_reply.started": "2024-06-18T23:42:04.694924Z"
    },
    "tags": []
   },
   "outputs": [
    {
     "name": "stdout",
     "output_type": "stream",
     "text": [
      "tensor(0.2936) 0\n",
      "tensor(0.3064) tensor(0.3690)\n"
     ]
    },
    {
     "ename": "KeyboardInterrupt",
     "evalue": "",
     "output_type": "error",
     "traceback": [
      "\u001b[1;31m---------------------------------------------------------------------------\u001b[0m",
      "\u001b[1;31mKeyboardInterrupt\u001b[0m                         Traceback (most recent call last)",
      "Cell \u001b[1;32mIn[42], line 7\u001b[0m\n\u001b[0;32m      5\u001b[0m z2,_\u001b[38;5;241m=\u001b[39mmodel1(z2)\n\u001b[0;32m      6\u001b[0m Metropolis_b \u001b[38;5;241m=\u001b[39m MCMC(ur,N_sweep\u001b[38;5;241m=\u001b[39m\u001b[38;5;241m1000000\u001b[39m,log_per\u001b[38;5;241m=\u001b[39m\u001b[38;5;241m1000\u001b[39m,d\u001b[38;5;241m=\u001b[39m(a\u001b[38;5;241m/\u001b[39mN_nod)\u001b[38;5;241m*\u001b[39m\u001b[38;5;241m*\u001b[39m\u001b[38;5;241m0.5\u001b[39m)\n\u001b[1;32m----> 7\u001b[0m z2 \u001b[38;5;241m=\u001b[39m Metropolis_b\u001b[38;5;241m.\u001b[39mrun(z2)\n",
      "Cell \u001b[1;32mIn[41], line 69\u001b[0m, in \u001b[0;36mMCMC.run\u001b[1;34m(self, z)\u001b[0m\n\u001b[0;32m     67\u001b[0m     \u001b[38;5;28;01mif\u001b[39;00m i\u001b[38;5;241m%\u001b[39m\u001b[38;5;28mself\u001b[39m\u001b[38;5;241m.\u001b[39mlog_per\u001b[38;5;241m==\u001b[39m\u001b[38;5;241m0\u001b[39m:\n\u001b[0;32m     68\u001b[0m         \u001b[38;5;28mself\u001b[39m\u001b[38;5;241m.\u001b[39mlog(z)\n\u001b[1;32m---> 69\u001b[0m     \u001b[38;5;28mself\u001b[39m\u001b[38;5;241m.\u001b[39msweep(z)\n\u001b[0;32m     71\u001b[0m \u001b[38;5;28;01mreturn\u001b[39;00m z\n",
      "Cell \u001b[1;32mIn[41], line 21\u001b[0m, in \u001b[0;36mMCMC.sweep\u001b[1;34m(self, z)\u001b[0m\n\u001b[0;32m     18\u001b[0m shift \u001b[38;5;241m=\u001b[39m \u001b[38;5;28mself\u001b[39m\u001b[38;5;241m.\u001b[39mshift_dist\u001b[38;5;241m.\u001b[39msample((N_samp,))\u001b[38;5;241m.\u001b[39mto(z\u001b[38;5;241m.\u001b[39mdevice)\n\u001b[0;32m     19\u001b[0m y \u001b[38;5;241m=\u001b[39m z\u001b[38;5;241m+\u001b[39m\u001b[38;5;28mself\u001b[39m\u001b[38;5;241m.\u001b[39md\u001b[38;5;241m*\u001b[39m(\u001b[38;5;241m2\u001b[39m\u001b[38;5;241m*\u001b[39mshift\u001b[38;5;241m-\u001b[39m\u001b[38;5;241m1\u001b[39m)\n\u001b[1;32m---> 21\u001b[0m S_new\u001b[38;5;241m=\u001b[39m\u001b[38;5;28mself\u001b[39m\u001b[38;5;241m.\u001b[39mcalc_S(y)\n\u001b[0;32m     23\u001b[0m dS\u001b[38;5;241m=\u001b[39mS_new\u001b[38;5;241m-\u001b[39m\u001b[38;5;28mself\u001b[39m\u001b[38;5;241m.\u001b[39mS\n\u001b[0;32m     24\u001b[0m prob \u001b[38;5;241m=\u001b[39m torch\u001b[38;5;241m.\u001b[39mexp(\u001b[38;5;241m-\u001b[39mdS)\n",
      "Cell \u001b[1;32mIn[41], line 49\u001b[0m, in \u001b[0;36mMCMC.calc_S\u001b[1;34m(self, z)\u001b[0m\n\u001b[0;32m     47\u001b[0m \u001b[38;5;28;01mdef\u001b[39;00m \u001b[38;5;21mcalc_S\u001b[39m(\u001b[38;5;28mself\u001b[39m,z):\n\u001b[0;32m     48\u001b[0m     \u001b[38;5;28;01mif\u001b[39;00m \u001b[38;5;28mself\u001b[39m\u001b[38;5;241m.\u001b[39mmodel\u001b[38;5;241m==\u001b[39m\u001b[38;5;124m\"\u001b[39m\u001b[38;5;124mnone\u001b[39m\u001b[38;5;124m\"\u001b[39m:\n\u001b[1;32m---> 49\u001b[0m         S\u001b[38;5;241m=\u001b[39m\u001b[38;5;28mself\u001b[39m\u001b[38;5;241m.\u001b[39msystem\u001b[38;5;241m.\u001b[39mFull_S(z)\u001b[38;5;241m.\u001b[39mto(z\u001b[38;5;241m.\u001b[39mdevice)\n\u001b[0;32m     50\u001b[0m     \u001b[38;5;28;01melse\u001b[39;00m:\n\u001b[0;32m     51\u001b[0m         x , lad \u001b[38;5;241m=\u001b[39m \u001b[38;5;28mself\u001b[39m\u001b[38;5;241m.\u001b[39mmodel(z)\n",
      "File \u001b[1;32m~\\Path Integral Monte-Carlo\\Normalizing flow\\System.py:22\u001b[0m, in \u001b[0;36mSystem.Full_S\u001b[1;34m(self, x)\u001b[0m\n\u001b[0;32m     20\u001b[0m x_next\u001b[38;5;241m=\u001b[39mtorch\u001b[38;5;241m.\u001b[39mroll(x,\u001b[38;5;241m-\u001b[39m\u001b[38;5;241m1\u001b[39m,\u001b[38;5;241m1\u001b[39m)\n\u001b[0;32m     21\u001b[0m diff\u001b[38;5;241m=\u001b[39mx_next\u001b[38;5;241m-\u001b[39mx\n\u001b[1;32m---> 22\u001b[0m Full_T\u001b[38;5;241m=\u001b[39mtorch\u001b[38;5;241m.\u001b[39msum(\u001b[38;5;28mself\u001b[39m\u001b[38;5;241m.\u001b[39mT(diff),axis\u001b[38;5;241m=\u001b[39m\u001b[38;5;241m1\u001b[39m)\n\u001b[0;32m     23\u001b[0m Full_V\u001b[38;5;241m=\u001b[39mtorch\u001b[38;5;241m.\u001b[39msum(\u001b[38;5;28mself\u001b[39m\u001b[38;5;241m.\u001b[39mV(x),axis\u001b[38;5;241m=\u001b[39m\u001b[38;5;241m1\u001b[39m)\n\u001b[0;32m     24\u001b[0m Full_S\u001b[38;5;241m=\u001b[39m\u001b[38;5;28mself\u001b[39m\u001b[38;5;241m.\u001b[39ma\u001b[38;5;241m*\u001b[39m(Full_T\u001b[38;5;241m+\u001b[39mFull_V)\u001b[38;5;241m+\u001b[39m\u001b[38;5;28mself\u001b[39m\u001b[38;5;241m.\u001b[39mn_nod\u001b[38;5;241m*\u001b[39m\u001b[38;5;28mself\u001b[39m\u001b[38;5;241m.\u001b[39mnormalizer\u001b[38;5;241m+\u001b[39m\u001b[38;5;28mself\u001b[39m\u001b[38;5;241m.\u001b[39mLog_Z\n",
      "File \u001b[1;32m~\\Path Integral Monte-Carlo\\Normalizing flow\\NFur_oscillator.py:14\u001b[0m, in \u001b[0;36mUr_Oscillator.T\u001b[1;34m(self, diff)\u001b[0m\n\u001b[0;32m     11\u001b[0m     \u001b[38;5;28msuper\u001b[39m()\u001b[38;5;241m.\u001b[39m\u001b[38;5;21m__init__\u001b[39m(n_nod,beta)\n\u001b[0;32m     12\u001b[0m     \u001b[38;5;28mself\u001b[39m\u001b[38;5;241m.\u001b[39mnormalizer \u001b[38;5;241m=\u001b[39m  torch\u001b[38;5;241m.\u001b[39mlog( pi \u001b[38;5;241m*\u001b[39m \u001b[38;5;28mself\u001b[39m\u001b[38;5;241m.\u001b[39ma ) \n\u001b[1;32m---> 14\u001b[0m \u001b[38;5;28;01mdef\u001b[39;00m \u001b[38;5;21mT\u001b[39m(\u001b[38;5;28mself\u001b[39m,diff):\n\u001b[0;32m     15\u001b[0m     a\u001b[38;5;241m=\u001b[39m\u001b[38;5;28mself\u001b[39m\u001b[38;5;241m.\u001b[39ma\n\u001b[0;32m     16\u001b[0m     t\u001b[38;5;241m=\u001b[39m( \u001b[38;5;241m1\u001b[39m \u001b[38;5;241m/\u001b[39m a ) \u001b[38;5;241m*\u001b[39m torch\u001b[38;5;241m.\u001b[39mlog(\u001b[38;5;241m1\u001b[39m \u001b[38;5;241m+\u001b[39m (diff \u001b[38;5;241m/\u001b[39m a) \u001b[38;5;241m*\u001b[39m\u001b[38;5;241m*\u001b[39m \u001b[38;5;241m2\u001b[39m)\n",
      "\u001b[1;31mKeyboardInterrupt\u001b[0m: "
     ]
    }
   ],
   "source": [
    "N_samp = 1000\n",
    "model1 = RG_trained.to(device)\n",
    "set_random_seed(42)\n",
    "z2 = normal_dist.sample((N_samp,)).to(device)\n",
    "z2,_=model1(z2)\n",
    "Metropolis_b = MCMC(ur,N_sweep=1000000,log_per=1000,d=(a/N_nod)**0.5)\n",
    "z2 = Metropolis_b.run(z2)"
   ]
  },
  {
   "cell_type": "code",
   "execution_count": 22,
   "id": "b2c643ea",
   "metadata": {},
   "outputs": [],
   "source": [
    "import time\n",
    "class HMC:\n",
    "    def __init__(self,system,model=\"none\",eps=0.001,n_steps=10,sigma=1,N_sweep=100,log_per=1000,gamma=0,auto=True,imp=False):\n",
    "        self.system = system\n",
    "        self.S = 0\n",
    "        self.model = model\n",
    "        self.eps = eps\n",
    "        self.n_steps = n_steps\n",
    "        self.N_sweep = N_sweep\n",
    "        self.log_per = log_per\n",
    "        self.ar = 0\n",
    "        self.sigma=sigma\n",
    "        self.shift_dist = torch.distributions.Normal(torch.zeros(N_nod), sigma * torch.ones(N_nod))\n",
    "        self.un = torch.distributions.Uniform(0, 1)\n",
    "        self.auto = auto\n",
    "        self.imp = imp    \n",
    "        self.res = []\n",
    "        self.times = []\n",
    "    \n",
    "    def leapfrog_step(self,p,x,eps):\n",
    "        if self.auto:\n",
    "            F = self.calc_F(x)\n",
    "        else:\n",
    "            F = self.system.F(x)\n",
    "            \n",
    "        p_half = p + 0.5 * eps * F  # F=-dS/dx\n",
    "        y = x + eps * p_half\n",
    "        q = p_half + 0.5 * eps * F \n",
    "        return q, y\n",
    "\n",
    "    def hmc_new(self,P,X):\n",
    "        for i in range(self.n_steps): \n",
    "            P , X = self.leapfrog_step(P,X,self.eps)\n",
    "        return P,X       \n",
    "\n",
    "\n",
    "    def hmc_sweep(self,x):\n",
    "        p = self.shift_dist.sample((N_samp,)).to(x.device)\n",
    "        K0 = torch.sum(p**2/2,axis=1)\n",
    "        \n",
    "        q , y = self.hmc_new(p.clone(),x.clone())\n",
    "        S_new = self.calc_S(y)\n",
    "        dS = S_new-self.S + torch.sum(q**2/2,axis=1)-K0\n",
    "        \n",
    "        prob = torch.exp(-dS)\n",
    "        ind = self.un.sample((N_samp,)).to(x.device)<prob\n",
    "        mask = ind.nonzero()\n",
    "        \n",
    "        if len(mask)>1:\n",
    "            mask = mask.squeeze()\n",
    "        if  len(mask)>0:\n",
    "            self.S[mask] = S_new[mask]\n",
    "            x[mask,:] = y[mask,:]\n",
    "        \n",
    "        self.ar = torch.mean(ind.type('torch.FloatTensor'))    \n",
    "    \n",
    "    \n",
    "    def log(self,z):\n",
    "        if self.model==\"none\" or self.imp:\n",
    "            x1=z\n",
    "        else:    \n",
    "            x1,_=self.model(z)\n",
    "        print(torch.mean(x1**2),self.ar)\n",
    "        self.res.append(torch.mean(x1**2).cpu())\n",
    "        self.Times.append(time.time()-self.start)\n",
    "    \n",
    "    def calc_S(self,z,grads=False):\n",
    "        \n",
    "        if self.model==\"none\":\n",
    "            S=self.system.Full_S(z).to(z.device) \n",
    "        \n",
    "        \n",
    "        else:\n",
    "            \n",
    "            if self.imp==False:\n",
    "                if grads :\n",
    "                    x , lad = self.model.g_samp(z)\n",
    "                else:\n",
    "                    x , lad = self.model(z)\n",
    "                S = self.system.Full_S(x).to(z.device)-lad\n",
    "            \n",
    "            \n",
    "            \n",
    "            else:\n",
    "                S = self.system.Full_S(z)+self.model.log_prob(z)\n",
    "        \n",
    "        \n",
    "        return S\n",
    "    \n",
    "    def calc_F(self,z):\n",
    "        t = z.clone()\n",
    "        t.requires_grad = True\n",
    "        s = torch.sum(self.calc_S(t,grads=True))\n",
    "        s.backward()\n",
    "        F =-(t.grad).detach()\n",
    "        del(t)\n",
    "        return F\n",
    "    \n",
    "    def init_state(self,z):\n",
    "        self.start=time.time()\n",
    "        self.S=self.calc_S(z)\n",
    "        self.res=[]\n",
    "        self.Times=[]\n",
    "\n",
    "    def run(self,x):\n",
    "        self.init_state(x)\n",
    "        for i in range(self.N_sweep):\n",
    "            if i%self.log_per==0:\n",
    "                self.log(x)\n",
    "            self.hmc_sweep(x)\n",
    "        return x        "
   ]
  },
  {
   "cell_type": "code",
   "execution_count": 63,
   "id": "5e7d7cfa",
   "metadata": {},
   "outputs": [],
   "source": [
    "import time\n",
    "class Langevin:\n",
    "    def __init__(self,system,eps=0.001,N_sweep=10,log_per=1000):\n",
    "        self.system = system\n",
    "        self.eps = eps\n",
    "        self.N_sweep = N_sweep\n",
    "        self.log_per = log_per\n",
    "        self.shift_dist = torch.distributions.Normal(torch.zeros(N_nod), torch.ones(N_nod))\n",
    "        self.res = []\n",
    "        self.times = []\n",
    "    \n",
    "\n",
    "\n",
    "\n",
    "    def sweep(self,x):\n",
    "        dw = self.shift_dist.sample((N_samp,)).to(x.device)\n",
    "        x+= 0.5*self.eps*self.system.F(x) + self.eps**0.5 * dw\n",
    "        \n",
    "    def log(self,z):\n",
    "        print(torch.mean(z**2))\n",
    "        self.res.append(torch.mean(z**2).cpu())\n",
    "        self.Times.append(time.time()-self.start)\n",
    "    \n",
    "    \n",
    "    def init_state(self):\n",
    "        self.start=time.time()\n",
    "        self.res=[]\n",
    "        self.Times=[]\n",
    "\n",
    "    def run(self,x):\n",
    "        self.init_state()\n",
    "        for i in range(self.N_sweep):\n",
    "            if i%self.log_per==0:\n",
    "                self.log(x)\n",
    "            self.sweep(x)\n",
    "        return x        "
   ]
  },
  {
   "cell_type": "code",
   "execution_count": 64,
   "id": "d7dcc34c",
   "metadata": {},
   "outputs": [
    {
     "name": "stdout",
     "output_type": "stream",
     "text": [
      "tensor(1.0053)\n",
      "tensor(0.6262)\n",
      "tensor(0.5172)\n",
      "tensor(0.4693)\n",
      "tensor(0.4466)\n",
      "tensor(0.4362)\n",
      "tensor(0.4316)\n",
      "tensor(0.4318)\n",
      "tensor(0.4340)\n",
      "tensor(0.4387)\n",
      "tensor(0.4434)\n",
      "tensor(0.4491)\n",
      "tensor(0.4562)\n",
      "tensor(0.4603)\n",
      "tensor(0.4614)\n",
      "tensor(0.4670)\n",
      "tensor(0.4711)\n",
      "tensor(0.4761)\n",
      "tensor(0.4803)\n",
      "tensor(0.4837)\n",
      "tensor(0.4892)\n",
      "tensor(0.4988)\n",
      "tensor(0.4996)\n",
      "tensor(0.5023)\n",
      "tensor(0.5005)\n",
      "tensor(0.5046)\n",
      "tensor(0.5074)\n",
      "tensor(0.5129)\n",
      "tensor(0.5152)\n",
      "tensor(0.5181)\n",
      "tensor(0.5206)\n",
      "tensor(0.5249)\n",
      "tensor(0.5193)\n",
      "tensor(0.5222)\n",
      "tensor(0.5230)\n",
      "tensor(0.5229)\n",
      "tensor(0.5236)\n",
      "tensor(0.5271)\n",
      "tensor(0.5290)\n",
      "tensor(0.5313)\n",
      "tensor(0.5352)\n",
      "tensor(0.5377)\n",
      "tensor(0.5395)\n",
      "tensor(0.5426)\n",
      "tensor(0.5432)\n",
      "tensor(0.5503)\n",
      "tensor(0.5495)\n",
      "tensor(0.5550)\n",
      "tensor(0.5596)\n",
      "tensor(0.5573)\n",
      "tensor(0.5541)\n"
     ]
    },
    {
     "ename": "KeyboardInterrupt",
     "evalue": "",
     "output_type": "error",
     "traceback": [
      "\u001b[1;31m---------------------------------------------------------------------------\u001b[0m",
      "\u001b[1;31mKeyboardInterrupt\u001b[0m                         Traceback (most recent call last)",
      "Cell \u001b[1;32mIn[64], line 6\u001b[0m\n\u001b[0;32m      4\u001b[0m z \u001b[38;5;241m=\u001b[39m normal_dist\u001b[38;5;241m.\u001b[39msample((N_samp,))\u001b[38;5;241m.\u001b[39mto(device)\n\u001b[0;32m      5\u001b[0m Lang \u001b[38;5;241m=\u001b[39m Langevin(ur,N_sweep\u001b[38;5;241m=\u001b[39m\u001b[38;5;241m100000\u001b[39m,log_per\u001b[38;5;241m=\u001b[39m\u001b[38;5;241m1000\u001b[39m,eps\u001b[38;5;241m=\u001b[39m\u001b[38;5;241m0.001\u001b[39m)\n\u001b[1;32m----> 6\u001b[0m z \u001b[38;5;241m=\u001b[39m Lang\u001b[38;5;241m.\u001b[39mrun(z)\n",
      "Cell \u001b[1;32mIn[63], line 35\u001b[0m, in \u001b[0;36mLangevin.run\u001b[1;34m(self, x)\u001b[0m\n\u001b[0;32m     33\u001b[0m     \u001b[38;5;28;01mif\u001b[39;00m i\u001b[38;5;241m%\u001b[39m\u001b[38;5;28mself\u001b[39m\u001b[38;5;241m.\u001b[39mlog_per\u001b[38;5;241m==\u001b[39m\u001b[38;5;241m0\u001b[39m:\n\u001b[0;32m     34\u001b[0m         \u001b[38;5;28mself\u001b[39m\u001b[38;5;241m.\u001b[39mlog(x)\n\u001b[1;32m---> 35\u001b[0m     \u001b[38;5;28mself\u001b[39m\u001b[38;5;241m.\u001b[39msweep(x)\n\u001b[0;32m     36\u001b[0m \u001b[38;5;28;01mreturn\u001b[39;00m x\n",
      "Cell \u001b[1;32mIn[63], line 16\u001b[0m, in \u001b[0;36mLangevin.sweep\u001b[1;34m(self, x)\u001b[0m\n\u001b[0;32m     15\u001b[0m \u001b[38;5;28;01mdef\u001b[39;00m \u001b[38;5;21msweep\u001b[39m(\u001b[38;5;28mself\u001b[39m,x):\n\u001b[1;32m---> 16\u001b[0m     dw \u001b[38;5;241m=\u001b[39m \u001b[38;5;28mself\u001b[39m\u001b[38;5;241m.\u001b[39mshift_dist\u001b[38;5;241m.\u001b[39msample((N_samp,))\u001b[38;5;241m.\u001b[39mto(x\u001b[38;5;241m.\u001b[39mdevice)\n\u001b[0;32m     17\u001b[0m     x\u001b[38;5;241m+\u001b[39m\u001b[38;5;241m=\u001b[39m \u001b[38;5;241m0.5\u001b[39m\u001b[38;5;241m*\u001b[39m\u001b[38;5;28mself\u001b[39m\u001b[38;5;241m.\u001b[39meps\u001b[38;5;241m*\u001b[39m\u001b[38;5;28mself\u001b[39m\u001b[38;5;241m.\u001b[39msystem\u001b[38;5;241m.\u001b[39mF(x) \u001b[38;5;241m+\u001b[39m \u001b[38;5;28mself\u001b[39m\u001b[38;5;241m.\u001b[39meps\u001b[38;5;241m*\u001b[39m\u001b[38;5;241m*\u001b[39m\u001b[38;5;241m0.5\u001b[39m \u001b[38;5;241m*\u001b[39m dw\n",
      "File \u001b[1;32mC:\\ProgramData\\anaconda3\\Lib\\site-packages\\torch\\distributions\\normal.py:70\u001b[0m, in \u001b[0;36mNormal.sample\u001b[1;34m(self, sample_shape)\u001b[0m\n\u001b[0;32m     68\u001b[0m shape \u001b[38;5;241m=\u001b[39m \u001b[38;5;28mself\u001b[39m\u001b[38;5;241m.\u001b[39m_extended_shape(sample_shape)\n\u001b[0;32m     69\u001b[0m \u001b[38;5;28;01mwith\u001b[39;00m torch\u001b[38;5;241m.\u001b[39mno_grad():\n\u001b[1;32m---> 70\u001b[0m     \u001b[38;5;28;01mreturn\u001b[39;00m torch\u001b[38;5;241m.\u001b[39mnormal(\u001b[38;5;28mself\u001b[39m\u001b[38;5;241m.\u001b[39mloc\u001b[38;5;241m.\u001b[39mexpand(shape), \u001b[38;5;28mself\u001b[39m\u001b[38;5;241m.\u001b[39mscale\u001b[38;5;241m.\u001b[39mexpand(shape))\n",
      "\u001b[1;31mKeyboardInterrupt\u001b[0m: "
     ]
    }
   ],
   "source": [
    "N_samp = 1000\n",
    "model1 = RG_trained.to(device)\n",
    "set_random_seed(42)\n",
    "z = normal_dist.sample((N_samp,)).to(device)\n",
    "Lang = Langevin(ur,N_sweep=100000,log_per=1000,eps=0.001)\n",
    "z = Lang.run(z)"
   ]
  },
  {
   "cell_type": "code",
   "execution_count": 65,
   "id": "05135d76",
   "metadata": {},
   "outputs": [
    {
     "name": "stdout",
     "output_type": "stream",
     "text": [
      "tensor(0.6389)\n",
      "tensor(0.5498)\n",
      "tensor(0.5362)\n",
      "tensor(0.5297)\n",
      "tensor(0.5258)\n",
      "tensor(0.5257)\n",
      "tensor(0.5241)\n",
      "tensor(0.5220)\n",
      "tensor(0.5226)\n",
      "tensor(0.5257)\n",
      "tensor(0.5251)\n",
      "tensor(0.5267)\n",
      "tensor(0.5260)\n",
      "tensor(0.5266)\n",
      "tensor(0.5229)\n",
      "tensor(0.5270)\n",
      "tensor(0.5294)\n",
      "tensor(0.5296)\n",
      "tensor(0.5320)\n",
      "tensor(0.5324)\n",
      "tensor(0.5334)\n"
     ]
    },
    {
     "ename": "KeyboardInterrupt",
     "evalue": "",
     "output_type": "error",
     "traceback": [
      "\u001b[1;31m---------------------------------------------------------------------------\u001b[0m",
      "\u001b[1;31mKeyboardInterrupt\u001b[0m                         Traceback (most recent call last)",
      "Cell \u001b[1;32mIn[65], line 7\u001b[0m\n\u001b[0;32m      5\u001b[0m z,_ \u001b[38;5;241m=\u001b[39m model1(z)\n\u001b[0;32m      6\u001b[0m Lang_NN \u001b[38;5;241m=\u001b[39m Langevin(ur,N_sweep\u001b[38;5;241m=\u001b[39m\u001b[38;5;241m100000\u001b[39m,log_per\u001b[38;5;241m=\u001b[39m\u001b[38;5;241m1000\u001b[39m,eps\u001b[38;5;241m=\u001b[39m\u001b[38;5;241m0.001\u001b[39m)\n\u001b[1;32m----> 7\u001b[0m z \u001b[38;5;241m=\u001b[39m Lang\u001b[38;5;241m.\u001b[39mrun(z)\n",
      "Cell \u001b[1;32mIn[63], line 35\u001b[0m, in \u001b[0;36mLangevin.run\u001b[1;34m(self, x)\u001b[0m\n\u001b[0;32m     33\u001b[0m     \u001b[38;5;28;01mif\u001b[39;00m i\u001b[38;5;241m%\u001b[39m\u001b[38;5;28mself\u001b[39m\u001b[38;5;241m.\u001b[39mlog_per\u001b[38;5;241m==\u001b[39m\u001b[38;5;241m0\u001b[39m:\n\u001b[0;32m     34\u001b[0m         \u001b[38;5;28mself\u001b[39m\u001b[38;5;241m.\u001b[39mlog(x)\n\u001b[1;32m---> 35\u001b[0m     \u001b[38;5;28mself\u001b[39m\u001b[38;5;241m.\u001b[39msweep(x)\n\u001b[0;32m     36\u001b[0m \u001b[38;5;28;01mreturn\u001b[39;00m x\n",
      "Cell \u001b[1;32mIn[63], line 16\u001b[0m, in \u001b[0;36mLangevin.sweep\u001b[1;34m(self, x)\u001b[0m\n\u001b[0;32m     15\u001b[0m \u001b[38;5;28;01mdef\u001b[39;00m \u001b[38;5;21msweep\u001b[39m(\u001b[38;5;28mself\u001b[39m,x):\n\u001b[1;32m---> 16\u001b[0m     dw \u001b[38;5;241m=\u001b[39m \u001b[38;5;28mself\u001b[39m\u001b[38;5;241m.\u001b[39mshift_dist\u001b[38;5;241m.\u001b[39msample((N_samp,))\u001b[38;5;241m.\u001b[39mto(x\u001b[38;5;241m.\u001b[39mdevice)\n\u001b[0;32m     17\u001b[0m     x\u001b[38;5;241m+\u001b[39m\u001b[38;5;241m=\u001b[39m \u001b[38;5;241m0.5\u001b[39m\u001b[38;5;241m*\u001b[39m\u001b[38;5;28mself\u001b[39m\u001b[38;5;241m.\u001b[39meps\u001b[38;5;241m*\u001b[39m\u001b[38;5;28mself\u001b[39m\u001b[38;5;241m.\u001b[39msystem\u001b[38;5;241m.\u001b[39mF(x) \u001b[38;5;241m+\u001b[39m \u001b[38;5;28mself\u001b[39m\u001b[38;5;241m.\u001b[39meps\u001b[38;5;241m*\u001b[39m\u001b[38;5;241m*\u001b[39m\u001b[38;5;241m0.5\u001b[39m \u001b[38;5;241m*\u001b[39m dw\n",
      "File \u001b[1;32mC:\\ProgramData\\anaconda3\\Lib\\site-packages\\torch\\distributions\\normal.py:70\u001b[0m, in \u001b[0;36mNormal.sample\u001b[1;34m(self, sample_shape)\u001b[0m\n\u001b[0;32m     68\u001b[0m shape \u001b[38;5;241m=\u001b[39m \u001b[38;5;28mself\u001b[39m\u001b[38;5;241m.\u001b[39m_extended_shape(sample_shape)\n\u001b[0;32m     69\u001b[0m \u001b[38;5;28;01mwith\u001b[39;00m torch\u001b[38;5;241m.\u001b[39mno_grad():\n\u001b[1;32m---> 70\u001b[0m     \u001b[38;5;28;01mreturn\u001b[39;00m torch\u001b[38;5;241m.\u001b[39mnormal(\u001b[38;5;28mself\u001b[39m\u001b[38;5;241m.\u001b[39mloc\u001b[38;5;241m.\u001b[39mexpand(shape), \u001b[38;5;28mself\u001b[39m\u001b[38;5;241m.\u001b[39mscale\u001b[38;5;241m.\u001b[39mexpand(shape))\n",
      "\u001b[1;31mKeyboardInterrupt\u001b[0m: "
     ]
    }
   ],
   "source": [
    "N_samp = 1000\n",
    "model1 = RG_trained.to(device)\n",
    "set_random_seed(42)\n",
    "z = normal_dist.sample((N_samp,)).to(device)\n",
    "z,_ = model1(z)\n",
    "Lang_NN = Langevin(ur,N_sweep=100000,log_per=1000,eps=0.001)\n",
    "z = Lang_NN.run(z)"
   ]
  },
  {
   "cell_type": "code",
   "execution_count": 75,
   "id": "73272d2e",
   "metadata": {},
   "outputs": [
    {
     "name": "stdout",
     "output_type": "stream",
     "text": [
      "tensor(0.2117)\n",
      "tensor(0.2768)\n",
      "tensor(0.3178)\n",
      "tensor(0.3484)\n",
      "tensor(0.3709)\n",
      "tensor(0.3911)\n",
      "tensor(0.4075)\n",
      "tensor(0.4215)\n",
      "tensor(0.4360)\n",
      "tensor(0.4504)\n",
      "tensor(0.4599)\n",
      "tensor(0.4702)\n",
      "tensor(0.4774)\n",
      "tensor(0.4837)\n",
      "tensor(0.4848)\n",
      "tensor(0.4933)\n",
      "tensor(0.4983)\n",
      "tensor(0.5013)\n",
      "tensor(0.5065)\n",
      "tensor(0.5092)\n",
      "tensor(0.5120)\n",
      "tensor(0.5203)\n",
      "tensor(0.5201)\n",
      "tensor(0.5207)\n",
      "tensor(0.5170)\n",
      "tensor(0.5211)\n",
      "tensor(0.5242)\n",
      "tensor(0.5284)\n",
      "tensor(0.5286)\n",
      "tensor(0.5312)\n",
      "tensor(0.5320)\n",
      "tensor(0.5352)\n",
      "tensor(0.5296)\n",
      "tensor(0.5320)\n",
      "tensor(0.5323)\n",
      "tensor(0.5320)\n",
      "tensor(0.5329)\n",
      "tensor(0.5349)\n",
      "tensor(0.5368)\n",
      "tensor(0.5388)\n",
      "tensor(0.5418)\n",
      "tensor(0.5435)\n",
      "tensor(0.5454)\n",
      "tensor(0.5485)\n",
      "tensor(0.5480)\n",
      "tensor(0.5558)\n",
      "tensor(0.5545)\n",
      "tensor(0.5591)\n",
      "tensor(0.5634)\n",
      "tensor(0.5603)\n",
      "tensor(0.5560)\n",
      "tensor(0.5559)\n",
      "tensor(0.5544)\n",
      "tensor(0.5575)\n",
      "tensor(0.5559)\n",
      "tensor(0.5513)\n",
      "tensor(0.5519)\n",
      "tensor(0.5519)\n",
      "tensor(0.5522)\n",
      "tensor(0.5514)\n",
      "tensor(0.5488)\n",
      "tensor(0.5519)\n",
      "tensor(0.5505)\n",
      "tensor(0.5546)\n",
      "tensor(0.5524)\n",
      "tensor(0.5533)\n",
      "tensor(0.5516)\n",
      "tensor(0.5500)\n",
      "tensor(0.5535)\n",
      "tensor(0.5572)\n",
      "tensor(0.5602)\n"
     ]
    },
    {
     "ename": "KeyboardInterrupt",
     "evalue": "",
     "output_type": "error",
     "traceback": [
      "\u001b[1;31m---------------------------------------------------------------------------\u001b[0m",
      "\u001b[1;31mKeyboardInterrupt\u001b[0m                         Traceback (most recent call last)",
      "Cell \u001b[1;32mIn[75], line 7\u001b[0m\n\u001b[0;32m      5\u001b[0m z,_ \u001b[38;5;241m=\u001b[39m model1(z)\n\u001b[0;32m      6\u001b[0m Lang_NN_old \u001b[38;5;241m=\u001b[39m Langevin(ur,N_sweep\u001b[38;5;241m=\u001b[39m\u001b[38;5;241m100000\u001b[39m,log_per\u001b[38;5;241m=\u001b[39m\u001b[38;5;241m1000\u001b[39m,eps\u001b[38;5;241m=\u001b[39m\u001b[38;5;241m0.001\u001b[39m)\n\u001b[1;32m----> 7\u001b[0m z \u001b[38;5;241m=\u001b[39m Lang_NN_old\u001b[38;5;241m.\u001b[39mrun(z)\n",
      "Cell \u001b[1;32mIn[63], line 35\u001b[0m, in \u001b[0;36mLangevin.run\u001b[1;34m(self, x)\u001b[0m\n\u001b[0;32m     33\u001b[0m     \u001b[38;5;28;01mif\u001b[39;00m i\u001b[38;5;241m%\u001b[39m\u001b[38;5;28mself\u001b[39m\u001b[38;5;241m.\u001b[39mlog_per\u001b[38;5;241m==\u001b[39m\u001b[38;5;241m0\u001b[39m:\n\u001b[0;32m     34\u001b[0m         \u001b[38;5;28mself\u001b[39m\u001b[38;5;241m.\u001b[39mlog(x)\n\u001b[1;32m---> 35\u001b[0m     \u001b[38;5;28mself\u001b[39m\u001b[38;5;241m.\u001b[39msweep(x)\n\u001b[0;32m     36\u001b[0m \u001b[38;5;28;01mreturn\u001b[39;00m x\n",
      "Cell \u001b[1;32mIn[63], line 16\u001b[0m, in \u001b[0;36mLangevin.sweep\u001b[1;34m(self, x)\u001b[0m\n\u001b[0;32m     15\u001b[0m \u001b[38;5;28;01mdef\u001b[39;00m \u001b[38;5;21msweep\u001b[39m(\u001b[38;5;28mself\u001b[39m,x):\n\u001b[1;32m---> 16\u001b[0m     dw \u001b[38;5;241m=\u001b[39m \u001b[38;5;28mself\u001b[39m\u001b[38;5;241m.\u001b[39mshift_dist\u001b[38;5;241m.\u001b[39msample((N_samp,))\u001b[38;5;241m.\u001b[39mto(x\u001b[38;5;241m.\u001b[39mdevice)\n\u001b[0;32m     17\u001b[0m     x\u001b[38;5;241m+\u001b[39m\u001b[38;5;241m=\u001b[39m \u001b[38;5;241m0.5\u001b[39m\u001b[38;5;241m*\u001b[39m\u001b[38;5;28mself\u001b[39m\u001b[38;5;241m.\u001b[39meps\u001b[38;5;241m*\u001b[39m\u001b[38;5;28mself\u001b[39m\u001b[38;5;241m.\u001b[39msystem\u001b[38;5;241m.\u001b[39mF(x) \u001b[38;5;241m+\u001b[39m \u001b[38;5;28mself\u001b[39m\u001b[38;5;241m.\u001b[39meps\u001b[38;5;241m*\u001b[39m\u001b[38;5;241m*\u001b[39m\u001b[38;5;241m0.5\u001b[39m \u001b[38;5;241m*\u001b[39m dw\n",
      "File \u001b[1;32mC:\\ProgramData\\anaconda3\\Lib\\site-packages\\torch\\distributions\\normal.py:70\u001b[0m, in \u001b[0;36mNormal.sample\u001b[1;34m(self, sample_shape)\u001b[0m\n\u001b[0;32m     68\u001b[0m shape \u001b[38;5;241m=\u001b[39m \u001b[38;5;28mself\u001b[39m\u001b[38;5;241m.\u001b[39m_extended_shape(sample_shape)\n\u001b[0;32m     69\u001b[0m \u001b[38;5;28;01mwith\u001b[39;00m torch\u001b[38;5;241m.\u001b[39mno_grad():\n\u001b[1;32m---> 70\u001b[0m     \u001b[38;5;28;01mreturn\u001b[39;00m torch\u001b[38;5;241m.\u001b[39mnormal(\u001b[38;5;28mself\u001b[39m\u001b[38;5;241m.\u001b[39mloc\u001b[38;5;241m.\u001b[39mexpand(shape), \u001b[38;5;28mself\u001b[39m\u001b[38;5;241m.\u001b[39mscale\u001b[38;5;241m.\u001b[39mexpand(shape))\n",
      "\u001b[1;31mKeyboardInterrupt\u001b[0m: "
     ]
    }
   ],
   "source": [
    "N_samp = 1000\n",
    "model1 = RG_trained.to(device)\n",
    "set_random_seed(42)\n",
    "z = normal_dist.sample((N_samp,)).to(device)\n",
    "z,_ = model1(z)\n",
    "Lang_NN_old = Langevin(ur,N_sweep=100000,log_per=1000,eps=0.001)\n",
    "z = Lang_NN_old.run(z)"
   ]
  },
  {
   "cell_type": "code",
   "execution_count": 73,
   "id": "d9f49124-3bc2-45e9-8e75-69f57b172d43",
   "metadata": {
    "execution": {
     "iopub.execute_input": "2024-05-27T23:09:58.806727Z",
     "iopub.status.busy": "2024-05-27T23:09:58.805692Z",
     "iopub.status.idle": "2024-05-27T23:09:58.912158Z",
     "shell.execute_reply": "2024-05-27T23:09:58.911426Z",
     "shell.execute_reply.started": "2024-05-27T23:09:58.806688Z"
    },
    "tags": []
   },
   "outputs": [],
   "source": [
    "from NFandist import calc_G\n",
    "from NFconstants import N_nod, N_traj, NG_points,Beta\n",
    "g_nf=G(z)\n"
   ]
  },
  {
   "cell_type": "code",
   "execution_count": 76,
   "id": "0af2c8ec-017a-437a-8988-486b170e722b",
   "metadata": {
    "execution": {
     "iopub.execute_input": "2024-06-07T18:29:47.892535Z",
     "iopub.status.busy": "2024-06-07T18:29:47.891375Z",
     "iopub.status.idle": "2024-06-07T18:29:48.136713Z",
     "shell.execute_reply": "2024-06-07T18:29:48.135998Z",
     "shell.execute_reply.started": "2024-06-07T18:29:47.892487Z"
    },
    "tags": []
   },
   "outputs": [
    {
     "data": {
      "image/png": "[encoded data removed]",
      "text/plain": [
       "<Figure size 640x480 with 1 Axes>"
      ]
     },
     "metadata": {},
     "output_type": "display_data"
    }
   ],
   "source": [
    "\n",
    "import numpy as np\n",
    "import matplotlib.pyplot as plt\n",
    "from NFconstants import N_nod, N_traj, NG_points,Beta\n",
    "\n",
    "\n",
    "\n",
    "fig=plt.figure()\n",
    "#plt.scatter(Metropolis_b.Times,Metropolis_b.res,s=5)\n",
    "plt.scatter(Lang_NN_old.Times,Lang_NN_old.res,s=5)\n",
    "plt.scatter(Lang.Times,Lang.res,s=5)\n",
    "plt.xlabel(r\"$N_s$\",fontsize=17)\n",
    "plt.ylabel(r\"$x^2$\",fontsize=17)\n",
    "plt.legend([\"Metropolis\",\"HMC\",\"HMC latent\",\"Normalizing flow+HMC\"])\n",
    "plt.title(\"N=\"+str(N_nod)+\"   \"+r\"$\\beta=$\"+str(Beta)+\"    ультраелятивистский осциллятор\")\n",
    "plt.grid(True)\n",
    "plt.show()"
   ]
  },
  {
   "cell_type": "code",
   "execution_count": 32,
   "id": "32b03023-c81b-449d-aa2b-45074a6feeb0",
   "metadata": {},
   "outputs": [
    {
     "name": "stdout",
     "output_type": "stream",
     "text": [
      "True\n",
      "True\n",
      "tensor([1., 1., 1., 1., 1., 1., 1., 1., 1., 1.], requires_grad=True)\n",
      "tensor([4., 0., 0., 0., 0., 0., 0., 0., 0., 0.])\n"
     ]
    }
   ],
   "source": [
    "z = torch.ones(10)\n",
    "z.requires_grad=True\n",
    "print(z.requires_grad)\n",
    "x = z\n",
    "x = 2*x**2\n",
    "print(y.requires_grad)\n",
    "x[0].backward()\n",
    "print(z)\n",
    "print(z.grad)"
   ]
  },
  {
   "cell_type": "code",
   "execution_count": 63,
   "id": "f7410f79",
   "metadata": {},
   "outputs": [
    {
     "name": "stdout",
     "output_type": "stream",
     "text": [
      "True\n"
     ]
    }
   ],
   "source": [
    "t=z.clone()\n",
    "print(t.requires_grad)"
   ]
  },
  {
   "cell_type": "code",
   "execution_count": 2,
   "id": "078be2e6",
   "metadata": {},
   "outputs": [],
   "source": [
    "def get_points(start,stop,step):\n",
    "    if step == 0:\n",
    "        print(\"step = 0 error\")\n",
    "        return 1\n",
    "    x=start\n",
    "    Y=[]\n",
    "    while x < stop:\n",
    "        Y.append(x)\n",
    "        Y.append(x+1)\n",
    "        x += step\n",
    "    return Y\n",
    "\n",
    "\n",
    "def config_RG_masks(m,n_nod):\n",
    "    masks = []\n",
    "    start = 0\n",
    "    step = n_nod // (2 ** (m-1))\n",
    "    tmp = get_points(start,n_nod,step)\n",
    "    masks.append(tmp)\n",
    "    if n_nod == 2 ** m:\n",
    "        return masks\n",
    "    start = step//2\n",
    "    masks.append(get_points(start,n_nod,step))\n",
    "    while step > 4:\n",
    "        step //= 2\n",
    "        start = step//2\n",
    "        masks.append(get_points(start,n_nod,step))\n",
    "    return masks"
   ]
  },
  {
   "cell_type": "code",
   "execution_count": null,
   "id": "00b624b3",
   "metadata": {},
   "outputs": [],
   "source": []
  }
 ],
 "metadata": {
  "kernelspec": {
   "display_name": "Python 3 (ipykernel)",
   "language": "python",
   "name": "python3"
  },
  "language_info": {
   "codemirror_mode": {
    "name": "ipython",
    "version": 3
   },
   "file_extension": ".py",
   "mimetype": "text/x-python",
   "name": "python",
   "nbconvert_exporter": "python",
   "pygments_lexer": "ipython3",
   "version": "3.11.5"
  }
 },
 "nbformat": 4,
 "nbformat_minor": 5
}
