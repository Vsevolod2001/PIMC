{
 "cells": [
  {
   "cell_type": "code",
   "execution_count": 1,
   "id": "55d2823b",
   "metadata": {},
   "outputs": [],
   "source": [
    "from typing import Callable, List, Tuple\n",
    "import pytorch_lightning as pl\n",
    "import torch\n",
    "from torch import nn\n",
    "from torch.utils.data import Dataset\n",
    "from torch.utils.data import DataLoader\n",
    "from torch.utils.data import random_split\n",
    "import torch.nn.functional as F\n",
    "from torch.distributions.distribution import Distribution\n",
    "from pytorch_lightning.loggers import TensorBoardLogger\n",
    "import matplotlib.pyplot as plt\n",
    "import numpy as np\n",
    "from NFconstants import N_nod, Beta, a, K_nod\n",
    "import sys\n",
    "sys.path.insert(1, './systems')\n",
    "device = torch.device(\"cuda\" if torch.cuda.is_available() else \"cpu\")"
   ]
  },
  {
   "cell_type": "code",
   "execution_count": 2,
   "id": "c93eb4f7",
   "metadata": {
    "tags": []
   },
   "outputs": [],
   "source": [
    "from NFconstants import N_nod, Beta, a, K_nod\n",
    "from transforms import t_get_O\n",
    "from transforms import get_split_masks\n",
    "from transforms import get_pair_split_masks\n",
    "from transforms import config_RG_masks\n",
    "from Data import normal_dist\n",
    "\n",
    "def set_random_seed(seed):\n",
    "    torch.manual_seed(seed)\n",
    "\n",
    "O=t_get_O(N_nod).to(device)\n",
    "Ot=(torch.t(O)).to(device)\n",
    "\n",
    "\n",
    "\n",
    "\n"
   ]
  },
  {
   "cell_type": "code",
   "execution_count": 3,
   "id": "b26f4732",
   "metadata": {},
   "outputs": [
    {
     "data": {
      "text/plain": [
       "'\\nclass ThetaNetwork(nn.Module):\\n    def __init__(\\n        self,\\n        in_dim: int,\\n        out_dim: int,\\n        num_hidden: int,\\n        hidden_dim: int,\\n        num_params: int,\\n        p_drop: float,\\n    ):\\n        super().__init__()\\n        self.input = nn.Linear(in_dim, hidden_dim)\\n        self.hidden = nn.ModuleList(\\n            [nn.Sequential(\\n                nn.Linear(hidden_dim, hidden_dim),\\n                nn.Dropout(p=p_drop),\\n                nn.LayerNorm(hidden_dim)\\n            ) for _ in range(num_hidden)]\\n        )\\n\\n        self.num_params = num_params\\n        self.out_dim = out_dim\\n        self.dims = nn.Linear(hidden_dim, out_dim * num_params)\\n        \\n    def configure_theta(num_hidden,hidden_dim,p_drop,in_dim=N_nod//2,out_dim=N_nod//2):\\n        theta=ThetaNetwork(\\n                in_dim = in_dim,\\n                out_dim = out_dim,\\n                num_hidden = num_hidden,  #2 to 6\\n                hidden_dim = hidden_dim , #100-1024\\n                num_params = 2,\\n                p_drop=p_drop,\\n        )\\n        return theta    \\n\\n    def forward(self, x: torch.Tensor) -> torch.Tensor:\\n        x = F.leaky_relu(self.input(x),negative_slope=0.01)\\n        for h in self.hidden:\\n            x = F.leaky_relu(h(x),negative_slope=0.01)\\n\\n        batch_params = self.dims(x).reshape(x.size(0), self.out_dim, -1) \\n        params = batch_params.chunk(self.num_params, dim=-1) \\n        return [p.squeeze(-1) for p in params]\\n'"
      ]
     },
     "execution_count": 3,
     "metadata": {},
     "output_type": "execute_result"
    }
   ],
   "source": [
    "from flows.theta import ThetaNetwork\n",
    "\"\"\"\n",
    "class ThetaNetwork(nn.Module):\n",
    "    def __init__(\n",
    "        self,\n",
    "        in_dim: int,\n",
    "        out_dim: int,\n",
    "        num_hidden: int,\n",
    "        hidden_dim: int,\n",
    "        num_params: int,\n",
    "        p_drop: float,\n",
    "    ):\n",
    "        super().__init__()\n",
    "        self.input = nn.Linear(in_dim, hidden_dim)\n",
    "        self.hidden = nn.ModuleList(\n",
    "            [nn.Sequential(\n",
    "                nn.Linear(hidden_dim, hidden_dim),\n",
    "                nn.Dropout(p=p_drop),\n",
    "                nn.LayerNorm(hidden_dim)\n",
    "            ) for _ in range(num_hidden)]\n",
    "        )\n",
    "\n",
    "        self.num_params = num_params\n",
    "        self.out_dim = out_dim\n",
    "        self.dims = nn.Linear(hidden_dim, out_dim * num_params)\n",
    "        \n",
    "    def configure_theta(num_hidden,hidden_dim,p_drop,in_dim=N_nod//2,out_dim=N_nod//2):\n",
    "        theta=ThetaNetwork(\n",
    "                in_dim = in_dim,\n",
    "                out_dim = out_dim,\n",
    "                num_hidden = num_hidden,  #2 to 6\n",
    "                hidden_dim = hidden_dim , #100-1024\n",
    "                num_params = 2,\n",
    "                p_drop=p_drop,\n",
    "        )\n",
    "        return theta    \n",
    "\n",
    "    def forward(self, x: torch.Tensor) -> torch.Tensor:\n",
    "        x = F.leaky_relu(self.input(x),negative_slope=0.01)\n",
    "        for h in self.hidden:\n",
    "            x = F.leaky_relu(h(x),negative_slope=0.01)\n",
    "\n",
    "        batch_params = self.dims(x).reshape(x.size(0), self.out_dim, -1) \n",
    "        params = batch_params.chunk(self.num_params, dim=-1) \n",
    "        return [p.squeeze(-1) for p in params]\n",
    "\"\"\"        "
   ]
  },
  {
   "cell_type": "code",
   "execution_count": 4,
   "id": "b66bc606",
   "metadata": {
    "tags": []
   },
   "outputs": [
    {
     "data": {
      "text/plain": [
       "'\\n        mask1=self.split[self.swap]\\n        mask2=self.split[(self.swap+1)%2]\\n        z1, z2 = z[:,mask1], z[:,mask2]\\n        z1 = torch.cat((z1,params),dim=-1)\\n        t, s = self.theta(z1)\\n        x2 = z2 * torch.exp(s) + t\\n        log_det = s.sum(-1) \\n        z[:,mask2]=x2\\n        return z, log_det\\n\\n    def f(self, x: torch.Tensor,params=torch.tensor([])) -> torch.Tensor:\\n        mask1=self.split[self.swap]\\n        mask2=self.split[(self.swap+1)%2]\\n        x1, x2 = x[:,mask1], x[:,mask2]\\n        x1 = torch.cat((x1,params),dim=-1)\\n        t, s = self.theta(x1)\\n        z1, z2 = x1, torch.exp(-s)*(x2-t) \\n        log_det = s.sum(-1) \\n        x[:,mask2] = z2\\n        return x, log_det    \\n'"
      ]
     },
     "execution_count": 4,
     "metadata": {},
     "output_type": "execute_result"
    }
   ],
   "source": [
    "from flows.Layers import AffineCouplingLayer\n",
    "\"\"\"\n",
    "class AffineCouplingLayer(nn.Module):\n",
    "    def __init__(\n",
    "        self,\n",
    "        theta: nn.Module,\n",
    "        split,\n",
    "        swap: int\n",
    "    ):\n",
    "        super().__init__()\n",
    "        self.theta = theta\n",
    "        self.split = split\n",
    "        self.swap = swap\n",
    "\n",
    "    def g(self, z: torch.Tensor,params=torch.tensor([])) -> torch.Tensor:\n",
    "        \"\"\"\n",
    "#g : z -> x. The inverse of f.\n",
    "\"\"\"\n",
    "        mask1=self.split[self.swap]\n",
    "        mask2=self.split[(self.swap+1)%2]\n",
    "        z1, z2 = z[:,mask1], z[:,mask2]\n",
    "        z1 = torch.cat((z1,params),dim=-1)\n",
    "        t, s = self.theta(z1)\n",
    "        x2 = z2 * torch.exp(s) + t\n",
    "        log_det = s.sum(-1) \n",
    "        z[:,mask2]=x2\n",
    "        return z, log_det\n",
    "\n",
    "    def f(self, x: torch.Tensor,params=torch.tensor([])) -> torch.Tensor:\n",
    "        mask1=self.split[self.swap]\n",
    "        mask2=self.split[(self.swap+1)%2]\n",
    "        x1, x2 = x[:,mask1], x[:,mask2]\n",
    "        x1 = torch.cat((x1,params),dim=-1)\n",
    "        t, s = self.theta(x1)\n",
    "        z1, z2 = x1, torch.exp(-s)*(x2-t) \n",
    "        log_det = s.sum(-1) \n",
    "        x[:,mask2] = z2\n",
    "        return x, log_det    \n",
    "\"\"\"        "
   ]
  },
  {
   "cell_type": "code",
   "execution_count": 5,
   "id": "f17f095c",
   "metadata": {
    "tags": []
   },
   "outputs": [
    {
     "data": {
      "text/plain": [
       "'\\nclass NormalizingFlow(nn.Module):\\n    \\n    def __init__(self, latent: Distribution, flows: List[nn.Module], ort=False, Ot=[]):\\n        super().__init__()\\n        self.latent = latent\\n        self.flows = flows\\n        self.ort = ort\\n        self.Ot = Ot\\n        \\n    def configure_flows(n_flows,num_hidden,hidden_dim,p_drop,dim=N_nod,param_dim=0):  # n_flows=8,...,12\\n        flows = []\\n        split_masks_d = get_pair_split_masks(dim)\\n        #split_masks_d = get_split_masks(dim)\\n    \\n        for k in range(n_flows):\\n            theta = ThetaNetwork.configure_theta( num_hidden = num_hidden, hidden_dim = hidden_dim, p_drop=p_drop ,in_dim = dim//2+param_dim,out_dim = dim//2)\\n            flows.append(AffineCouplingLayer(theta,split=split_masks_d,swap=k%2))\\n   \\n        flows = nn.ModuleList(flows)\\n        return flows     \\n\\n    def latent_sample(self, num_samples: int = 1) -> torch.Tensor:\\n        z=self.latent.sample((num_samples,))\\n        return z        \\n\\n    def sample(self, num_samples: int = 1) -> torch.Tensor:\\n        Sample a new observation x by sampling z from\\n        the latent distribution and pass through g.\\n        z=(self.latent_sample(num_samples))\\n        with torch.no_grad():\\n            x, _ = self.g(z)\\n        return x \\n    \\n\\n    def g(self, z: torch.Tensor,params=torch.tensor([])) -> torch.Tensor:\\n        \\n        x, sum_log_abs_det = z, torch.zeros(z.size(0)).to(z.device)\\n        for flow in reversed(self.flows):\\n            x, log_abs_det = flow.g(x,params)\\n            sum_log_abs_det += log_abs_det\\n        \\n        if self.ort:\\n            x = torch.matmul(x,self.Ot.to(x.device))\\n            \\n        return x, sum_log_abs_det\\n    \\n        \\n    def __len__(self) -> int:\\n        return len(self.flows)\\n    \\n    def f(self, x: torch.Tensor,params=torch.tensor([])) -> Tuple[torch.Tensor, torch.Tensor]:\\n        \\n        with torch.no_grad():\\n            if self.ort:\\n                x=torch.matmul(x,O.to(x.device))\\n        \\n            z, sum_log_abs_det = x, torch.zeros(x.size(0)).to(x.device)\\n        \\n            for flow in self.flows:\\n                z, log_abs_det = flow.f(z,params)\\n                sum_log_abs_det += log_abs_det\\n        \\n        return z, sum_log_abs_det\\n'"
      ]
     },
     "execution_count": 5,
     "metadata": {},
     "output_type": "execute_result"
    }
   ],
   "source": [
    "from flows.NormalizingFlow import NormalizingFlow\n",
    "\"\"\"\n",
    "class NormalizingFlow(nn.Module):\n",
    "    \n",
    "    def __init__(self, latent: Distribution, flows: List[nn.Module], ort=False, Ot=[]):\n",
    "        super().__init__()\n",
    "        self.latent = latent\n",
    "        self.flows = flows\n",
    "        self.ort = ort\n",
    "        self.Ot = Ot\n",
    "        \n",
    "    def configure_flows(n_flows,num_hidden,hidden_dim,p_drop,dim=N_nod,param_dim=0):  # n_flows=8,...,12\n",
    "        flows = []\n",
    "        split_masks_d = get_pair_split_masks(dim)\n",
    "        #split_masks_d = get_split_masks(dim)\n",
    "    \n",
    "        for k in range(n_flows):\n",
    "            theta = ThetaNetwork.configure_theta( num_hidden = num_hidden, hidden_dim = hidden_dim, p_drop=p_drop ,in_dim = dim//2+param_dim,out_dim = dim//2)\n",
    "            flows.append(AffineCouplingLayer(theta,split=split_masks_d,swap=k%2))\n",
    "   \n",
    "        flows = nn.ModuleList(flows)\n",
    "        return flows     \n",
    "\n",
    "    def latent_sample(self, num_samples: int = 1) -> torch.Tensor:\n",
    "        z=self.latent.sample((num_samples,))\n",
    "        return z        \n",
    "\n",
    "    def sample(self, num_samples: int = 1) -> torch.Tensor:\n",
    "        Sample a new observation x by sampling z from\n",
    "        the latent distribution and pass through g.\n",
    "        z=(self.latent_sample(num_samples))\n",
    "        with torch.no_grad():\n",
    "            x, _ = self.g(z)\n",
    "        return x \n",
    "    \n",
    "\n",
    "    def g(self, z: torch.Tensor,params=torch.tensor([])) -> torch.Tensor:\n",
    "        \n",
    "        x, sum_log_abs_det = z, torch.zeros(z.size(0)).to(z.device)\n",
    "        for flow in reversed(self.flows):\n",
    "            x, log_abs_det = flow.g(x,params)\n",
    "            sum_log_abs_det += log_abs_det\n",
    "        \n",
    "        if self.ort:\n",
    "            x = torch.matmul(x,self.Ot.to(x.device))\n",
    "            \n",
    "        return x, sum_log_abs_det\n",
    "    \n",
    "        \n",
    "    def __len__(self) -> int:\n",
    "        return len(self.flows)\n",
    "    \n",
    "    def f(self, x: torch.Tensor,params=torch.tensor([])) -> Tuple[torch.Tensor, torch.Tensor]:\n",
    "        \n",
    "        with torch.no_grad():\n",
    "            if self.ort:\n",
    "                x=torch.matmul(x,O.to(x.device))\n",
    "        \n",
    "            z, sum_log_abs_det = x, torch.zeros(x.size(0)).to(x.device)\n",
    "        \n",
    "            for flow in self.flows:\n",
    "                z, log_abs_det = flow.f(z,params)\n",
    "                sum_log_abs_det += log_abs_det\n",
    "        \n",
    "        return z, sum_log_abs_det\n",
    "\"\"\"    \n",
    " \n",
    "\n",
    "    "
   ]
  },
  {
   "cell_type": "code",
   "execution_count": 6,
   "id": "daa2897f",
   "metadata": {
    "tags": []
   },
   "outputs": [
    {
     "data": {
      "text/plain": [
       "'\\nclass RGflows(nn.Module):\\n    \\n    def __init__(self,latent: Distribution ,\\n                 nflist, \\n                 masks, \\n                 n_flows_dict,\\n                 num_hidden_dict,\\n                 hidden_dim_dict,\\n                 gr_ng=0,\\n                 out_dim=N_nod,\\n                 p_drop=0):\\n        super().__init__()\\n        self.latent = latent\\n        self.nflist = nflist\\n        self.masks = masks\\n        self.n_flows_dict = n_flows_dict\\n        self.num_hidden_dict = num_hidden_dict\\n        self.hidden_dim_dict = hidden_dim_dict\\n        self.out_dim = out_dim\\n        self.gr_ng = gr_ng\\n        O=(t_get_O(out_dim)).to(device)\\n        self.Ot=(torch.t(O)).to(device)\\n        self.p_drop=p_drop\\n        \\n    def set_out_dim(self,out_dim):\\n        self.out_dim=out_dim\\n        O=(torch.tensor(get_O(self.out_dim)).float()).to(device)\\n        self.Ot=(torch.t(O)).to(device)\\n        \\n    def configure_RG_flows(masks,n_flows_dict,num_hidden_dict,hidden_dim_dict,p_drop=0):  \\n        nflist=[]\\n        dim = len(masks[0])\\n        param_dim = 0\\n        for k in range(len(masks)):\\n            flows =  NormalizingFlow.configure_flows(n_flows = n_flows_dict[dim] , num_hidden = num_hidden_dict[dim] , hidden_dim = hidden_dim_dict[dim], dim = dim , param_dim = param_dim, p_drop = p_drop)\\n            nflist.append(NormalizingFlow(latent=normal_dist,flows=flows,ort=False))\\n            param_dim += dim \\n            if k!=0: dim *= 2 \\n        nflist = nn.ModuleList(nflist)        \\n        return nflist    \\n        \\n    def configure_RG_model(latent,masks,n_flows_dict, num_hidden_dict,hidden_dim_dict,out_dim=N_nod,gr_ng=0,p_drop=0):\\n        flows=RGflows.configure_RG_flows(masks,n_flows_dict,num_hidden_dict,hidden_dim_dict,p_drop=p_drop)\\n        return RGflows(latent,flows,RGmasks,n_flows_dict,num_hidden_dict,hidden_dim_dict,gr_ng=gr_ng,out_dim=out_dim,p_drop=p_drop)\\n    \\n    def save(self,filename):\\n        state_dict = self.state_dict()\\n        model_dict={\"state_dict\":state_dict,\\n                    \"n_flows_dict\":self.n_flows_dict,\\n                    \"num_hidden_dict\":self.num_hidden_dict,\\n                    \"hidden_dim_dict\":self.hidden_dim_dict,\\n                    \"masks\":self.masks,\\n                    \"p_drop\":self.p_drop}\\n        torch.save(model_dict,filename)\\n    \\n    def load_model(filename):   \\n        model_dict = torch.load(filename,map_location = device)\\n        model=RGflows.configure_RG_model(normal_dist,\\n                                  model_dict[\"masks\"],\\n                                  model_dict[\"n_flows_dict\"], \\n                                  model_dict[\"num_hidden_dict\"],\\n                                  model_dict[\"hidden_dim_dict\"],\\n                                  p_drop=model_dict[\"p_drop\"])\\n        model.load_state_dict(model_dict[\"state_dict\"])\\n        return model\\n        \\n\\n    def latent_sample(self, num_samples: int = 1) -> torch.Tensor:\\n        z=self.latent.sample((num_samples,))\\n        return z        \\n\\n    def sample(self, num_samples: int = 1) -> torch.Tensor:\\n        Sample a new observation x by sampling z from\\n        the latent distribution and pass through g.\\n        z=(self.latent_sample(num_samples))\\n        with torch.no_grad():\\n            x, _ = self.g(z)\\n        return x \\n    \\n\\n    def g(self, z: torch.Tensor,params=torch.tensor([])) -> torch.Tensor:\\n        \\n        sum_log_abs_det = torch.zeros(z.size(0)).to(z.device)\\n        params=torch.tensor([]).to(z.device)\\n        full_mask = []\\n        \\n        with torch.no_grad():\\n            for i in range(0,self.gr_ng):\\n                x = z[:,self.masks[i]]\\n                x, log_abs_det = ((self.nflist)[i]).g(x,params)\\n                sum_log_abs_det += log_abs_det\\n                params = torch.cat((params,x.detach()),dim=-1)\\n                z[:,self.masks[i]] = x\\n                full_mask += self.masks[i]\\n        \\n        for i in range(self.gr_ng,len(self.nflist)):\\n            x = z[:,self.masks[i]]\\n            x, log_abs_det = ((self.nflist)[i]).g(x,params)\\n            sum_log_abs_det += log_abs_det\\n            params = torch.cat((params,x.detach()),dim=-1)\\n            z[:,self.masks[i]] = x\\n            full_mask += self.masks[i]          \\n            if len(full_mask) == self.out_dim:\\n                full_mask.sort()\\n                z = torch.matmul(z[:,full_mask],self.Ot.to(z.device))    \\n                return z, sum_log_abs_det\\n        \\n        z = torch.matmul(z,self.Ot.to(z.device))    \\n        return z, sum_log_abs_det\\n    \\n    def f(self, x: torch.Tensor,params=torch.tensor([])) -> torch.Tensor:\\n        \\n        with torch.no_grad():\\n            sum_log_abs_det = torch.zeros(x.size(0)).to(x.device)\\n            params=torch.tensor([]).to(x.device)\\n            x = torch.matmul(x,O.to(x.device))\\n        \\n            for i in range(len(self.nflist)):\\n                z = x[:,self.masks[i]]\\n                tmp = z.clone()\\n                z, log_abs_det = ((self.nflist)[i]).f(z,params)\\n                sum_log_abs_det += log_abs_det\\n                params = torch.cat((params,tmp.detach()),dim=-1)\\n                x[:,self.masks[i]] = z    \\n        return x, sum_log_abs_det\\n    \\n    def log_prob(self,x):\\n        tmp = x.clone()\\n        z, lad = self.f(tmp)\\n        log_prob = -torch.sum(z**2/2,dim=-1)-lad\\n        return log_prob\\n    \\n    \\n    def g_samp(self, z: torch.Tensor,params=torch.tensor([])) -> torch.Tensor:\\n        \\n        sum_log_abs_det = torch.zeros(z.size(0)).to(z.device)\\n        params = torch.tensor([]).to(z.device)\\n        res = torch.zeros((z.shape[0],z.shape[1]))\\n        \\n        for i in range(len(self.nflist)):\\n            x=z[:,self.masks[i]]\\n            res1, log_abs_det = ((self.nflist)[i]).g(x,params)\\n            sum_log_abs_det += log_abs_det\\n            params = torch.cat((params,x),dim=-1)\\n            res[:,self.masks[i]] = res1\\n        res = torch.matmul(res,Ot.to(z.device))    \\n        return res, sum_log_abs_det\\n    \\n        \\n    def __len__(self) -> int:\\n        return len(self.flows)\\n    \\n    def forward(self,z,grads=False):\\n        t=z.clone()\\n        with torch.no_grad():\\n            x, log_abs_det=self.g(t)\\n\\n\\n        return x, log_abs_det\\n'"
      ]
     },
     "execution_count": 6,
     "metadata": {},
     "output_type": "execute_result"
    }
   ],
   "source": [
    "from flows.RGflows import RGflows\n",
    "\"\"\"\n",
    "class RGflows(nn.Module):\n",
    "    \n",
    "    def __init__(self,latent: Distribution ,\n",
    "                 nflist, \n",
    "                 masks, \n",
    "                 n_flows_dict,\n",
    "                 num_hidden_dict,\n",
    "                 hidden_dim_dict,\n",
    "                 gr_ng=0,\n",
    "                 out_dim=N_nod,\n",
    "                 p_drop=0):\n",
    "        super().__init__()\n",
    "        self.latent = latent\n",
    "        self.nflist = nflist\n",
    "        self.masks = masks\n",
    "        self.n_flows_dict = n_flows_dict\n",
    "        self.num_hidden_dict = num_hidden_dict\n",
    "        self.hidden_dim_dict = hidden_dim_dict\n",
    "        self.out_dim = out_dim\n",
    "        self.gr_ng = gr_ng\n",
    "        O=(t_get_O(out_dim)).to(device)\n",
    "        self.Ot=(torch.t(O)).to(device)\n",
    "        self.p_drop=p_drop\n",
    "        \n",
    "    def set_out_dim(self,out_dim):\n",
    "        self.out_dim=out_dim\n",
    "        O=(torch.tensor(get_O(self.out_dim)).float()).to(device)\n",
    "        self.Ot=(torch.t(O)).to(device)\n",
    "        \n",
    "    def configure_RG_flows(masks,n_flows_dict,num_hidden_dict,hidden_dim_dict,p_drop=0):  \n",
    "        nflist=[]\n",
    "        dim = len(masks[0])\n",
    "        param_dim = 0\n",
    "        for k in range(len(masks)):\n",
    "            flows =  NormalizingFlow.configure_flows(n_flows = n_flows_dict[dim] , num_hidden = num_hidden_dict[dim] , hidden_dim = hidden_dim_dict[dim], dim = dim , param_dim = param_dim, p_drop = p_drop)\n",
    "            nflist.append(NormalizingFlow(latent=normal_dist,flows=flows,ort=False))\n",
    "            param_dim += dim \n",
    "            if k!=0: dim *= 2 \n",
    "        nflist = nn.ModuleList(nflist)        \n",
    "        return nflist    \n",
    "        \n",
    "    def configure_RG_model(latent,masks,n_flows_dict, num_hidden_dict,hidden_dim_dict,out_dim=N_nod,gr_ng=0,p_drop=0):\n",
    "        flows=RGflows.configure_RG_flows(masks,n_flows_dict,num_hidden_dict,hidden_dim_dict,p_drop=p_drop)\n",
    "        return RGflows(latent,flows,RGmasks,n_flows_dict,num_hidden_dict,hidden_dim_dict,gr_ng=gr_ng,out_dim=out_dim,p_drop=p_drop)\n",
    "    \n",
    "    def save(self,filename):\n",
    "        state_dict = self.state_dict()\n",
    "        model_dict={\"state_dict\":state_dict,\n",
    "                    \"n_flows_dict\":self.n_flows_dict,\n",
    "                    \"num_hidden_dict\":self.num_hidden_dict,\n",
    "                    \"hidden_dim_dict\":self.hidden_dim_dict,\n",
    "                    \"masks\":self.masks,\n",
    "                    \"p_drop\":self.p_drop}\n",
    "        torch.save(model_dict,filename)\n",
    "    \n",
    "    def load_model(filename):   \n",
    "        model_dict = torch.load(filename,map_location = device)\n",
    "        model=RGflows.configure_RG_model(normal_dist,\n",
    "                                  model_dict[\"masks\"],\n",
    "                                  model_dict[\"n_flows_dict\"], \n",
    "                                  model_dict[\"num_hidden_dict\"],\n",
    "                                  model_dict[\"hidden_dim_dict\"],\n",
    "                                  p_drop=model_dict[\"p_drop\"])\n",
    "        model.load_state_dict(model_dict[\"state_dict\"])\n",
    "        return model\n",
    "        \n",
    "\n",
    "    def latent_sample(self, num_samples: int = 1) -> torch.Tensor:\n",
    "        z=self.latent.sample((num_samples,))\n",
    "        return z        \n",
    "\n",
    "    def sample(self, num_samples: int = 1) -> torch.Tensor:\n",
    "        Sample a new observation x by sampling z from\n",
    "        the latent distribution and pass through g.\n",
    "        z=(self.latent_sample(num_samples))\n",
    "        with torch.no_grad():\n",
    "            x, _ = self.g(z)\n",
    "        return x \n",
    "    \n",
    "\n",
    "    def g(self, z: torch.Tensor,params=torch.tensor([])) -> torch.Tensor:\n",
    "        \n",
    "        sum_log_abs_det = torch.zeros(z.size(0)).to(z.device)\n",
    "        params=torch.tensor([]).to(z.device)\n",
    "        full_mask = []\n",
    "        \n",
    "        with torch.no_grad():\n",
    "            for i in range(0,self.gr_ng):\n",
    "                x = z[:,self.masks[i]]\n",
    "                x, log_abs_det = ((self.nflist)[i]).g(x,params)\n",
    "                sum_log_abs_det += log_abs_det\n",
    "                params = torch.cat((params,x.detach()),dim=-1)\n",
    "                z[:,self.masks[i]] = x\n",
    "                full_mask += self.masks[i]\n",
    "        \n",
    "        for i in range(self.gr_ng,len(self.nflist)):\n",
    "            x = z[:,self.masks[i]]\n",
    "            x, log_abs_det = ((self.nflist)[i]).g(x,params)\n",
    "            sum_log_abs_det += log_abs_det\n",
    "            params = torch.cat((params,x.detach()),dim=-1)\n",
    "            z[:,self.masks[i]] = x\n",
    "            full_mask += self.masks[i]          \n",
    "            if len(full_mask) == self.out_dim:\n",
    "                full_mask.sort()\n",
    "                z = torch.matmul(z[:,full_mask],self.Ot.to(z.device))    \n",
    "                return z, sum_log_abs_det\n",
    "        \n",
    "        z = torch.matmul(z,self.Ot.to(z.device))    \n",
    "        return z, sum_log_abs_det\n",
    "    \n",
    "    def f(self, x: torch.Tensor,params=torch.tensor([])) -> torch.Tensor:\n",
    "        \n",
    "        with torch.no_grad():\n",
    "            sum_log_abs_det = torch.zeros(x.size(0)).to(x.device)\n",
    "            params=torch.tensor([]).to(x.device)\n",
    "            x = torch.matmul(x,O.to(x.device))\n",
    "        \n",
    "            for i in range(len(self.nflist)):\n",
    "                z = x[:,self.masks[i]]\n",
    "                tmp = z.clone()\n",
    "                z, log_abs_det = ((self.nflist)[i]).f(z,params)\n",
    "                sum_log_abs_det += log_abs_det\n",
    "                params = torch.cat((params,tmp.detach()),dim=-1)\n",
    "                x[:,self.masks[i]] = z    \n",
    "        return x, sum_log_abs_det\n",
    "    \n",
    "    def log_prob(self,x):\n",
    "        tmp = x.clone()\n",
    "        z, lad = self.f(tmp)\n",
    "        log_prob = -torch.sum(z**2/2,dim=-1)-lad\n",
    "        return log_prob\n",
    "    \n",
    "    \n",
    "    def g_samp(self, z: torch.Tensor,params=torch.tensor([])) -> torch.Tensor:\n",
    "        \n",
    "        sum_log_abs_det = torch.zeros(z.size(0)).to(z.device)\n",
    "        params = torch.tensor([]).to(z.device)\n",
    "        res = torch.zeros((z.shape[0],z.shape[1]))\n",
    "        \n",
    "        for i in range(len(self.nflist)):\n",
    "            x=z[:,self.masks[i]]\n",
    "            res1, log_abs_det = ((self.nflist)[i]).g(x,params)\n",
    "            sum_log_abs_det += log_abs_det\n",
    "            params = torch.cat((params,x),dim=-1)\n",
    "            res[:,self.masks[i]] = res1\n",
    "        res = torch.matmul(res,Ot.to(z.device))    \n",
    "        return res, sum_log_abs_det\n",
    "    \n",
    "        \n",
    "    def __len__(self) -> int:\n",
    "        return len(self.flows)\n",
    "    \n",
    "    def forward(self,z,grads=False):\n",
    "        t=z.clone()\n",
    "        with torch.no_grad():\n",
    "            x, log_abs_det=self.g(t)\n",
    "\n",
    "\n",
    "        return x, log_abs_det\n",
    "\"\"\"    \n",
    " \n",
    "\n",
    "    "
   ]
  },
  {
   "cell_type": "code",
   "execution_count": 7,
   "id": "dfda85d4-e4b8-4687-94fc-cfeb66265c79",
   "metadata": {
    "tags": []
   },
   "outputs": [],
   "source": [
    "m=3\n",
    "RGmasks = config_RG_masks(3,N_nod)"
   ]
  },
  {
   "cell_type": "code",
   "execution_count": 8,
   "id": "e8056833-22ec-4f32-bd8e-09c30cdb01af",
   "metadata": {
    "tags": []
   },
   "outputs": [
    {
     "name": "stdout",
     "output_type": "stream",
     "text": [
      "[[0, 1, 16, 17, 32, 33, 48, 49], [8, 9, 24, 25, 40, 41, 56, 57], [4, 5, 12, 13, 20, 21, 28, 29, 36, 37, 44, 45, 52, 53, 60, 61], [2, 3, 6, 7, 10, 11, 14, 15, 18, 19, 22, 23, 26, 27, 30, 31, 34, 35, 38, 39, 42, 43, 46, 47, 50, 51, 54, 55, 58, 59, 62, 63]]\n"
     ]
    }
   ],
   "source": [
    "print(RGmasks)"
   ]
  },
  {
   "cell_type": "code",
   "execution_count": 9,
   "id": "5401fb59",
   "metadata": {
    "tags": []
   },
   "outputs": [],
   "source": [
    "class Pipeline(pl.LightningModule):\n",
    "    def __init__(\n",
    "        self,\n",
    "        model,\n",
    "        criterion,\n",
    "        optimizer_class=torch.optim.Adam,\n",
    "        optimizer_kwargs={\"lr\": 0.001,\"weight_decay\": 0}\n",
    "    ) -> None:\n",
    "        super().__init__()\n",
    "        self.model = model\n",
    "        self.loss = criterion\n",
    "        self.optimizer_class = optimizer_class\n",
    "        self.optimizer_kwargs = optimizer_kwargs\n",
    "\n",
    "    \"\"\"\n",
    "    def configure_optimizers(self):\n",
    "        optimizer = self.optimizer_class(\n",
    "            self.model.parameters(), **self.optimizer_kwargs\n",
    "        )\n",
    "        return optimizer\n",
    "    \"\"\"\n",
    "    \n",
    "    def configure_optimizers(self):\n",
    "        optimizer = self.optimizer_class(self.model.parameters(), **self.optimizer_kwargs)\n",
    "        \n",
    "        scheduler = torch.optim.lr_scheduler.ReduceLROnPlateau(\n",
    "            optimizer=optimizer,\n",
    "            min_lr=1e-4,\n",
    "            factor=0.8,\n",
    "            mode=\"min\",\n",
    "            verbose=True,\n",
    "        )\n",
    "\n",
    "        lr_scheduler = {\n",
    "            \"scheduler\": scheduler,\n",
    "            \"interval\": \"epoch\",\n",
    "            \"monitor\": \"train_loss\",\n",
    "        }\n",
    "        return [optimizer], [lr_scheduler]\n",
    "\n",
    "    def training_step(self, batch, batch_idx):\n",
    "        z = batch\n",
    "        x, log_abs_det = self.model.g(z)\n",
    "        loss = self.loss(x,log_abs_det)\n",
    "        sch = self.lr_schedulers()\n",
    "        sch.step(loss)\n",
    "        self.log('train_loss', loss,prog_bar=True)\n",
    "        self.log('lr',sch.get_last_lr()[0],prog_bar=True)\n",
    "        #print(loss)\n",
    "        return loss\n",
    "\n",
    "\n",
    "    def on_train_epoch_end(self):\n",
    "        #print(\"---------------------------end epoch---------------------------------\")\n",
    "        pass\n",
    "    \n",
    "    def on_validation_end(self) -> None:\n",
    "        if not self.automatic_optimization:\n",
    "            # Save a checkpoint of the model\n",
    "            ckpt_path = os.path.join(self.trainer.log_dir, 'checkpoints', 'ckpt.pt')\n",
    "            self.trainer.save_checkpoint(ckpt_path, weights_only=True)\n",
    "        return super().on_validation_end()\n",
    "    \n",
    "    "
   ]
  },
  {
   "cell_type": "code",
   "execution_count": 10,
   "id": "de9a9882",
   "metadata": {},
   "outputs": [],
   "source": [
    "class MY_Dataset(Dataset):\n",
    "    def __init__(self, distribution,n_nod):\n",
    "        super().__init__()\n",
    "        self.distribution = distribution\n",
    "        self.n_nod = n_nod\n",
    "        self.features = torch.tensor(0)\n",
    "        self.n_sample = 2**14\n",
    "\n",
    "    def __len__(self):\n",
    "        return self.n_sample\n",
    "\n",
    "    def __getitem__(self, index):\n",
    "        return self.distribution.sample((1,))[0]\n",
    "    \n",
    "    def sample(self,n_sample):\n",
    "        self.features=self.distribution.sample((n_sample,))\n",
    "        \n",
    "normal_dist=torch.distributions.Normal(loc=torch.zeros(N_nod), scale=torch.ones(N_nod))\n",
    "DS=MY_Dataset(normal_dist,N_nod)\n",
    "train_loader = DataLoader(DS, batch_size=2**10, shuffle=True)\n",
    "\n",
    "normal_dist8=torch.distributions.Normal(loc=torch.zeros(8), scale=torch.ones(8))\n",
    "DS8=MY_Dataset(normal_dist8,8)\n",
    "train_loader8 = DataLoader(DS8, batch_size=2**14, shuffle=True)"
   ]
  },
  {
   "cell_type": "code",
   "execution_count": 11,
   "id": "218e7568-8c3b-4213-bbd3-8daa5a422f19",
   "metadata": {},
   "outputs": [],
   "source": [
    "from systems.Nonrel.oscillator import Oscillator\n",
    "from systems.Nonrel.x4 import X4\n",
    "from systems.Nonrel.Morse import Morse\n",
    "from systems.Nonrel.twowells import Two_wells\n",
    "from systems.Nonrel.Columb import Columb\n",
    "\n",
    "from systems.Rel.rel_oscillator import Rel_Oscillator\n",
    "from systems.Rel.rel_Morse import Rel_Morse\n",
    "from systems.Rel.rel_twowells import Rel_two_wells\n",
    "from systems.Rel.rel_Columb import Rel_Columb\n",
    "\n",
    "from systems.Ultrarel.ur_oscillator import Ur_Oscillator"
   ]
  },
  {
   "cell_type": "code",
   "execution_count": 12,
   "id": "874be0a2-57d1-4d38-a47f-874107d90591",
   "metadata": {},
   "outputs": [],
   "source": [
    "osc = Oscillator(N_nod,16)\n",
    "anh = X4(N_nod,16,g=1)\n",
    "morse = Morse(N_nod,16,alpha=0.5)\n",
    "tw = Two_wells(N_nod,16,g=1,x0=1.41)\n",
    "columb = Columb(N_nod,16,alpha=1,R=1)\n",
    "\n",
    "rel_osc = Rel_Oscillator(N_nod,16,sigma=1)\n",
    "rel_morse = Rel_Morse(N_nod,16,m=1,alpha=0.5)\n",
    "rel_tw = Rel_two_wells(N_nod,16,m=1,g=1,x0=1.41)\n",
    "rel_columb = Rel_Columb(N_nod,16,m=1,alpha=1,R=1)\n",
    "\n",
    "ur = Ur_Oscillator(N_nod,16)"
   ]
  },
  {
   "cell_type": "code",
   "execution_count": 13,
   "id": "eae42727-7687-48fe-841a-c2e24320095f",
   "metadata": {
    "tags": []
   },
   "outputs": [],
   "source": [
    "hidden_dim_dict1={8:8,16:16,32:32,64:64,128:128}\n",
    "n_flows_dict1={8:6,16:8,32:10,64:10,128:10}\n",
    "num_hidden_dict1={8:8,16:12,32:14,64:14,128:14}"
   ]
  },
  {
   "cell_type": "code",
   "execution_count": 14,
   "id": "fa06713c",
   "metadata": {},
   "outputs": [],
   "source": [
    "set_random_seed(42)\n",
    "rg = RGflows.configure_RG_model(normal_dist,RGmasks,n_flows_dict1,num_hidden_dict1,hidden_dim_dict1,p_drop=0.0)\n",
    "rg.save(\"model_weights_osc.pth\")\n",
    "#print(rg)"
   ]
  },
  {
   "cell_type": "code",
   "execution_count": 237,
   "id": "eab76bb1-e0dc-465c-8e05-159fa714a13c",
   "metadata": {},
   "outputs": [
    {
     "name": "stdout",
     "output_type": "stream",
     "text": [
      "[0.001]\n"
     ]
    }
   ],
   "source": [
    "sch = pipeline.lr_schedulers()\n",
    "print(sch.get_last_lr())"
   ]
  },
  {
   "cell_type": "code",
   "execution_count": 29,
   "id": "a536cdfd",
   "metadata": {},
   "outputs": [
    {
     "name": "stderr",
     "output_type": "stream",
     "text": [
      "GPU available: False, used: False\n",
      "TPU available: False, using: 0 TPU cores\n",
      "HPU available: False, using: 0 HPUs\n",
      "C:\\Users\\SEVA1\\anaconda3\\Lib\\site-packages\\torch\\optim\\lr_scheduler.py:28: UserWarning: The verbose parameter is deprecated. Please use get_last_lr() to access the learning rate.\n",
      "  warnings.warn(\"The verbose parameter is deprecated. Please use get_last_lr() \"\n",
      "\n",
      "  | Name  | Type      | Params | Mode \n",
      "--------------------------------------------\n",
      "0 | model | RGflows   | 227 K  | train\n",
      "1 | loss  | KL_with_S | 0      | train\n",
      "--------------------------------------------\n",
      "227 K     Trainable params\n",
      "0         Non-trainable params\n",
      "227 K     Total params\n",
      "0.911     Total estimated model params size (MB)\n",
      "C:\\Users\\SEVA1\\anaconda3\\Lib\\site-packages\\pytorch_lightning\\trainer\\connectors\\data_connector.py:424: The 'train_dataloader' does not have many workers which may be a bottleneck. Consider increasing the value of the `num_workers` argument` to `num_workers=3` in the `DataLoader` to improve performance.\n"
     ]
    },
    {
     "data": {
      "application/vnd.jupyter.widget-view+json": {
       "model_id": "47c6475a4d21425f9e4cb8921f9dfd6f",
       "version_major": 2,
       "version_minor": 0
      },
      "text/plain": [
       "Training: |                                                                                      | 0/? [00:00<…"
      ]
     },
     "metadata": {},
     "output_type": "display_data"
    },
    {
     "name": "stderr",
     "output_type": "stream",
     "text": [
      "`Trainer.fit` stopped: `max_epochs=200` reached.\n"
     ]
    }
   ],
   "source": [
    "set_random_seed(42)\n",
    "rg = RGflows.load_model(\"model_weights_osc.pth\")\n",
    "#d = 3\n",
    "#dim = 2**(m+d)\n",
    "#rg.gr_ng = d\n",
    "#rg.set_out_dim(dim)\n",
    "pipeline=Pipeline(model=rg,criterion = osc.get_KL(), optimizer_class=torch.optim.Adam,optimizer_kwargs={\"lr\": 0.001})\n",
    "\n",
    "trainer = pl.Trainer(\n",
    "    max_epochs=200,\n",
    "    logger = TensorBoardLogger(save_dir=f\"./logs/nf\"),\n",
    "    num_sanity_val_steps=0,\n",
    "    log_every_n_steps=1,\n",
    "    enable_checkpointing=False,\n",
    "    accumulate_grad_batches=4\n",
    ")\n",
    "\n",
    "trainer.fit(model=pipeline, train_dataloaders=train_loader)\n",
    "rg.save(\"model_weights_osc.pth\")"
   ]
  },
  {
   "cell_type": "code",
   "execution_count": 31,
   "id": "8169e1d2-102b-4d79-92e8-03905afd556d",
   "metadata": {
    "tags": []
   },
   "outputs": [],
   "source": [
    "from Data import normal_dist\n",
    "import numpy as np\n",
    "from NFconstants import N_traj\n",
    "#d = 5\n",
    "#dim = 2**(m+d)\n",
    "RG_trained = RGflows.load_model(\"model_weights_osc.pth\")\n",
    "RG_trained.eval()\n",
    "#RG_trained.set_out_dim(dim)\n",
    "N_traj=1000\n",
    "trajs = RG_trained.sample(N_traj)"
   ]
  },
  {
   "cell_type": "code",
   "execution_count": 32,
   "id": "fe644a5e-8e4a-4536-bec1-78a391b60f97",
   "metadata": {
    "tags": []
   },
   "outputs": [
    {
     "name": "stderr",
     "output_type": "stream",
     "text": [
      "100%|█████████████████████████████████████████████████████████████████████████████████| 64/64 [00:00<00:00, 408.74it/s]\n"
     ]
    }
   ],
   "source": [
    "from tqdm import tqdm\n",
    "#T=torch.tensor(get_T(N_nod)).float()\n",
    "def G(X,n_p=\"all\"):\n",
    "    n_traj=X.shape[0]\n",
    "    n_nod=X.shape[1]\n",
    "    if n_p == \"all\":\n",
    "        n_p = X.shape[1]\n",
    "    G=np.zeros((n_p))\n",
    "    Y=X.clone()\n",
    "    Xt=torch.t(X)\n",
    "    for s in tqdm(range(n_p)):\n",
    "        G[s]=torch.trace(torch.matmul(Y,Xt))\n",
    "        Y=torch.roll(Y,-1,1)\n",
    "        #Y=torch.roll(Y,-1,1)\n",
    "    return G/(n_traj*n_nod)\n",
    "g_nf=G(trajs)\n"
   ]
  },
  {
   "cell_type": "code",
   "execution_count": 35,
   "id": "78c9ffdf-7d11-49a0-8304-3228e4cd69b5",
   "metadata": {
    "tags": []
   },
   "outputs": [],
   "source": [
    "from systems.Nonrel.osc_andist import calc_G\n",
    "from NFconstants import N_nod, N_traj, NG_points,Beta\n",
    "g_osc=calc_G(N_nod,Beta,N_nod)\n"
   ]
  },
  {
   "cell_type": "code",
   "execution_count": 36,
   "id": "a0771981",
   "metadata": {},
   "outputs": [],
   "source": [
    "g_ur = np.genfromtxt(\"g_ur N=256 Beta=16\")"
   ]
  },
  {
   "cell_type": "code",
   "execution_count": 37,
   "id": "34a5ead7-10a1-445f-abbd-4f8c2478ccd1",
   "metadata": {
    "tags": []
   },
   "outputs": [
    {
     "name": "stdout",
     "output_type": "stream",
     "text": [
      "0.49349859619140624\n"
     ]
    },
    {
     "data": {
      "image/png": "[encoded data removed]",
      "text/plain": [
       "<Figure size 640x480 with 1 Axes>"
      ]
     },
     "metadata": {},
     "output_type": "display_data"
    }
   ],
   "source": [
    "#import sys\n",
    "#sys.path.append('../')\n",
    "import numpy as np\n",
    "import matplotlib.pyplot as plt\n",
    "from NFconstants import N_nod, N_traj, NG_points,Beta\n",
    "\n",
    "\n",
    "\n",
    "\n",
    "g=g_osc\n",
    "print(g_nf[0])\n",
    "fig=plt.figure()\n",
    "MCMC_list=np.arange(len(g))/len(g)\n",
    "NF_list=np.arange(len(g_nf))/len(g_nf)\n",
    "\n",
    "\n",
    "\n",
    "plt.scatter(MCMC_list,g,s=10)\n",
    "plt.scatter(NF_list,g_nf,s=10)\n",
    "plt.legend([\"Метрополис\",\"Нормализующий поток\"])\n",
    "plt.title(r\"$N=$\"+str(N_nod)+\"       \"r\"$\\beta=$\"+str(Beta)+\"     Ультраелятивистский осциллятор\")\n",
    "plt.ylabel(r\"$G_s$\",fontsize=17)\n",
    "plt.xlabel(r\"$s/N$\",fontsize=17)\n",
    "#plt.yscale(\"log\")\n",
    "plt.grid(True)\n",
    "plt.show()\n"
   ]
  },
  {
   "cell_type": "code",
   "execution_count": 73,
   "id": "d9f49124-3bc2-45e9-8e75-69f57b172d43",
   "metadata": {
    "execution": {
     "iopub.execute_input": "2024-05-27T23:09:58.806727Z",
     "iopub.status.busy": "2024-05-27T23:09:58.805692Z",
     "iopub.status.idle": "2024-05-27T23:09:58.912158Z",
     "shell.execute_reply": "2024-05-27T23:09:58.911426Z",
     "shell.execute_reply.started": "2024-05-27T23:09:58.806688Z"
    },
    "tags": []
   },
   "outputs": [],
   "source": [
    "from NFandist import calc_G\n",
    "from NFconstants import N_nod, N_traj, NG_points,Beta\n",
    "g_nf=G(z)\n"
   ]
  },
  {
   "cell_type": "code",
   "execution_count": 76,
   "id": "0af2c8ec-017a-437a-8988-486b170e722b",
   "metadata": {
    "execution": {
     "iopub.execute_input": "2024-06-07T18:29:47.892535Z",
     "iopub.status.busy": "2024-06-07T18:29:47.891375Z",
     "iopub.status.idle": "2024-06-07T18:29:48.136713Z",
     "shell.execute_reply": "2024-06-07T18:29:48.135998Z",
     "shell.execute_reply.started": "2024-06-07T18:29:47.892487Z"
    },
    "tags": []
   },
   "outputs": [
    {
     "data": {
      "image/png": "[encoded data removed]",
      "text/plain": [
       "<Figure size 640x480 with 1 Axes>"
      ]
     },
     "metadata": {},
     "output_type": "display_data"
    }
   ],
   "source": [
    "\n",
    "import numpy as np\n",
    "import matplotlib.pyplot as plt\n",
    "from NFconstants import N_nod, N_traj, NG_points,Beta\n",
    "\n",
    "\n",
    "\n",
    "fig=plt.figure()\n",
    "#plt.scatter(Metropolis_b.Times,Metropolis_b.res,s=5)\n",
    "plt.scatter(Lang_NN_old.Times,Lang_NN_old.res,s=5)\n",
    "plt.scatter(Lang.Times,Lang.res,s=5)\n",
    "plt.xlabel(r\"$N_s$\",fontsize=17)\n",
    "plt.ylabel(r\"$x^2$\",fontsize=17)\n",
    "plt.legend([\"Metropolis\",\"HMC\",\"HMC latent\",\"Normalizing flow+HMC\"])\n",
    "plt.title(\"N=\"+str(N_nod)+\"   \"+r\"$\\beta=$\"+str(Beta)+\"    ультраелятивистский осциллятор\")\n",
    "plt.grid(True)\n",
    "plt.show()"
   ]
  },
  {
   "cell_type": "code",
   "execution_count": null,
   "id": "00b624b3",
   "metadata": {},
   "outputs": [],
   "source": []
  }
 ],
 "metadata": {
  "kernelspec": {
   "display_name": "Python 3 (ipykernel)",
   "language": "python",
   "name": "python3"
  },
  "language_info": {
   "codemirror_mode": {
    "name": "ipython",
    "version": 3
   },
   "file_extension": ".py",
   "mimetype": "text/x-python",
   "name": "python",
   "nbconvert_exporter": "python",
   "pygments_lexer": "ipython3",
   "version": "3.12.4"
  }
 },
 "nbformat": 4,
 "nbformat_minor": 5
}
