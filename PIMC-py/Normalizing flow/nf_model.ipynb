{
 "cells": [
  {
   "cell_type": "code",
   "execution_count": 2,
   "id": "dbee9da4",
   "metadata": {
    "execution": {
     "iopub.execute_input": "2024-03-09T12:33:21.453682Z",
     "iopub.status.busy": "2024-03-09T12:33:21.452714Z",
     "iopub.status.idle": "2024-03-09T12:33:21.467989Z",
     "shell.execute_reply": "2024-03-09T12:33:21.466546Z",
     "shell.execute_reply.started": "2024-03-09T12:33:21.453639Z"
    },
    "tags": []
   },
   "outputs": [],
   "source": [
    "from typing import Callable, List, Tuple\n",
    "\n",
    "import pytorch_lightning as pl\n",
    "import torch\n",
    "import torch.nn.functional as F\n",
    "from torch import nn\n",
    "from torch.distributions.distribution import Distribution\n",
    "from pytorch_lightning.loggers import TensorBoardLogger\n",
    "device = torch.device(\"cuda\" if torch.cuda.is_available() else \"cpu\")"
   ]
  },
  {
   "cell_type": "code",
   "execution_count": 3,
   "id": "c93eb4f7",
   "metadata": {
    "execution": {
     "iopub.execute_input": "2024-03-09T12:33:21.471464Z",
     "iopub.status.busy": "2024-03-09T12:33:21.470394Z",
     "iopub.status.idle": "2024-03-09T12:33:22.061323Z",
     "shell.execute_reply": "2024-03-09T12:33:22.060216Z",
     "shell.execute_reply.started": "2024-03-09T12:33:21.471418Z"
    },
    "tags": []
   },
   "outputs": [
    {
     "name": "stdout",
     "output_type": "stream",
     "text": [
      "False\n"
     ]
    }
   ],
   "source": [
    "from NFconstants import N_nod, beta, N_latent, a\n",
    "from NFandist import get_O\n",
    "from NFandist import get_diag\n",
    "\n",
    "def set_random_seed(seed):\n",
    "    torch.manual_seed(seed)\n",
    "O=(torch.tensor(get_O(N_nod)).float()).to(device)\n",
    "Ot=(torch.t(O)).to(device)\n",
    "print(Ot.requires_grad)\n",
    "\n",
    "\n"
   ]
  },
  {
   "cell_type": "code",
   "execution_count": 4,
   "id": "b66bc606",
   "metadata": {
    "execution": {
     "iopub.execute_input": "2024-03-09T12:33:23.419527Z",
     "iopub.status.busy": "2024-03-09T12:33:23.418525Z",
     "iopub.status.idle": "2024-03-09T12:33:23.440209Z",
     "shell.execute_reply": "2024-03-09T12:33:23.439088Z",
     "shell.execute_reply.started": "2024-03-09T12:33:23.419489Z"
    },
    "tags": []
   },
   "outputs": [],
   "source": [
    "class AffineCouplingLayer(nn.Module):\n",
    "    def __init__(\n",
    "        self,\n",
    "        theta: nn.Module,\n",
    "        split: Callable[[torch.Tensor], Tuple[torch.Tensor, torch.Tensor]],\n",
    "        swap: int\n",
    "    ):\n",
    "        super().__init__()\n",
    "        self.theta = theta\n",
    "        self.split = split\n",
    "        self.swap=swap\n",
    "\n",
    "    def g(self, z: torch.Tensor) -> torch.Tensor:\n",
    "        \"\"\"g : z -> x. The inverse of f.\"\"\"\n",
    "        z1, z2 = self.split(z,self.swap)\n",
    "        t, s = self.theta(z1)\n",
    "        x1, x2 = z1, z2 * torch.exp(s) + t\n",
    "        log_det = s.sum(-1) \n",
    "        return torch.cat((x2, x1), dim=-1), log_det\n",
    "    \n",
    "    def f(self, x: torch.Tensor) -> torch.Tensor:\n",
    "        \"\"\"f : x -> z. The inverse of g.\"\"\"\n",
    "        x2, x1 = self.split(x,self.swap)\n",
    "        t, s = self.theta(x1)\n",
    "        z1, z2 = x1, x2 * torch.exp(s) + t \n",
    "        log_det = s.sum(-1) \n",
    "        return torch.cat((z1, z2), dim=-1), log_det"
   ]
  },
  {
   "cell_type": "code",
   "execution_count": 66,
   "id": "37fb9fdb-6230-4682-9350-ee9a9b953361",
   "metadata": {
    "execution": {
     "iopub.execute_input": "2024-03-09T12:59:46.386895Z",
     "iopub.status.busy": "2024-03-09T12:59:46.386076Z",
     "iopub.status.idle": "2024-03-09T12:59:46.410722Z",
     "shell.execute_reply": "2024-03-09T12:59:46.409586Z",
     "shell.execute_reply.started": "2024-03-09T12:59:46.386835Z"
    },
    "tags": []
   },
   "outputs": [],
   "source": [
    "class CubicCouplingLayer(nn.Module):\n",
    "    def __init__(\n",
    "        self,\n",
    "        theta: nn.Module,\n",
    "        split: Callable[[torch.Tensor], Tuple[torch.Tensor, torch.Tensor]],\n",
    "        swap: int\n",
    "    ):\n",
    "        super().__init__()\n",
    "        self.theta = theta\n",
    "        self.split = split\n",
    "        self.swap=swap\n",
    "\n",
    "    def g(self, z: torch.Tensor) -> torch.Tensor:\n",
    "        z1, z2 = self.split(z,self.swap)\n",
    "        t, s = self.theta(z1)\n",
    "        x1 = z1 \n",
    "        x2 = z2 + torch.exp(s-2) * (z2) ** 3 + t\n",
    "        log_det = (torch.log(1+3 * torch.exp(s-2) * (z2) ** 2)).sum(-1) \n",
    "        return torch.cat((x2, x1), dim=-1), log_det\n",
    "    "
   ]
  },
  {
   "cell_type": "code",
   "execution_count": 67,
   "id": "e523fea8-aa47-41d8-bf1c-b9d75570111d",
   "metadata": {
    "execution": {
     "iopub.execute_input": "2024-03-09T12:59:47.260985Z",
     "iopub.status.busy": "2024-03-09T12:59:47.259966Z",
     "iopub.status.idle": "2024-03-09T12:59:47.279836Z",
     "shell.execute_reply": "2024-03-09T12:59:47.278727Z",
     "shell.execute_reply.started": "2024-03-09T12:59:47.260951Z"
    },
    "tags": []
   },
   "outputs": [],
   "source": [
    "class D(nn.Linear):\n",
    "    def __init__(self,n):\n",
    "        super().__init__(n,1,bias=False)\n",
    "        self.n=n\n",
    "        self.d_ind=[(n+1)*k for k in range(n)]\n",
    "    \n",
    "    def anti_flatten(self):\n",
    "        n=self.n\n",
    "        D=torch.zeros((n**2)).to(device)\n",
    "        D[self.d_ind]=self.weight.to(device)\n",
    "        D=torch.reshape(D,(n,n)).to(device)\n",
    "        return D        \n",
    "            \n",
    "    def log_abs_det(self):\n",
    "        ABS=torch.abs(self.weight)\n",
    "        l=torch.log(ABS)\n",
    "        lad=torch.sum(l)\n",
    "        return lad\n",
    "    \n",
    "    def forward(self,x):\n",
    "        D=(self.anti_flatten()).to(x.device)\n",
    "        return torch.matmul(x,D)\n",
    "    \n",
    "    def g(self,z):\n",
    "        lad=self.log_abs_det()\n",
    "        return self.forward(z),  lad * torch.ones((z.shape[0])).to(z.device)\n",
    "        \n",
    "    def adj(self,mat):\n",
    "        Lw=self.anti_flatten()\n",
    "        Lwt=torch.t(Lw)\n",
    "        D=torch.matmul(Lwt,torch.matmul(mat,Lw))\n",
    "        return D\n",
    "    "
   ]
  },
  {
   "cell_type": "code",
   "execution_count": 68,
   "id": "5755c2b0-a7b7-41b3-b027-f2110fea12a8",
   "metadata": {
    "execution": {
     "iopub.execute_input": "2024-03-09T12:59:47.787585Z",
     "iopub.status.busy": "2024-03-09T12:59:47.786538Z",
     "iopub.status.idle": "2024-03-09T12:59:47.804784Z",
     "shell.execute_reply": "2024-03-09T12:59:47.803647Z",
     "shell.execute_reply.started": "2024-03-09T12:59:47.787518Z"
    },
    "tags": []
   },
   "outputs": [],
   "source": [
    "class L1(nn.Linear):\n",
    "    def __init__(self,n):\n",
    "        super().__init__(n*(n-1)//2,1,bias=False)\n",
    "        self.n=n\n",
    "        self.mask2d=torch.zeros((n*(n-1) // 2),dtype=int)\n",
    "        for i in range(1,n):\n",
    "            for j in range(i):\n",
    "                self.mask2d[i*(i-1)//2+j]=i*n+j\n",
    "        self.d_ind=[(n+1)*k for k in range(n)]\n",
    "        self.ones=torch.ones((n)).to(device)\n",
    "    \n",
    "    def anti_flatten(self):\n",
    "        n=self.n\n",
    "        L=torch.zeros((n**2)).to(device)\n",
    "        L[self.mask2d]=self.weight.to(device)\n",
    "        L[self.d_ind]=self.ones\n",
    "        L=torch.reshape(L,(n,n)).to(device)\n",
    "        return L        \n",
    "            \n",
    "    def log_abs_det(self):\n",
    "        return 0\n",
    "    \n",
    "    def forward(self,x):\n",
    "        Lwt=torch.t(self.anti_flatten()).to(x.device)\n",
    "        return torch.matmul(x,Lwt)\n",
    "    \n",
    "    def g(self,z):\n",
    "        return self.forward(z), torch.zeros((z.shape[0])).to(z.device)\n",
    "        \n",
    "    def adj(self,mat):\n",
    "        Lw=self.anti_flatten()\n",
    "        Lwt=torch.t(Lw)\n",
    "        D=torch.matmul(Lwt,torch.matmul(mat,Lw))\n",
    "        return D"
   ]
  },
  {
   "cell_type": "code",
   "execution_count": 69,
   "id": "f17f095c",
   "metadata": {
    "execution": {
     "iopub.execute_input": "2024-03-09T12:59:48.352712Z",
     "iopub.status.busy": "2024-03-09T12:59:48.351673Z",
     "iopub.status.idle": "2024-03-09T12:59:48.374414Z",
     "shell.execute_reply": "2024-03-09T12:59:48.373432Z",
     "shell.execute_reply.started": "2024-03-09T12:59:48.352662Z"
    },
    "tags": []
   },
   "outputs": [
    {
     "data": {
      "text/plain": [
       "'\\n    def g_steps(self, z: torch.Tensor) -> List[torch.Tensor]:\\n        Maps latent variable z to observation x\\n        and stores intermediate results.\\n        \\n        xs = [z]\\n        for flow in reversed(self.flows):\\n            xs.append(flow.g(xs[-1]))\\n        return xs\\n\\n    \\n    def latent_log_prob(self, z: torch.Tensor) -> torch.Tensor:\\n        llp=self.latent.log_prob(z)\\n        sum_llp= torch.sum(llp,axis=-1)\\n        return sum_llp\\n \\n    \\n    def f(self, x: torch.Tensor) -> Tuple[torch.Tensor, torch.Tensor]:  #forward\\n        Maps observation x to latent variable z.\\n        Additionally, computes the log determinant\\n        of the Jacobian for this transformation.\\n        Inveres of g.\\n        \\n        z, sum_log_abs_det = x, torch.ones(x.size(0)).to(x.device)\\n        for flow in self.flows:\\n            z, log_abs_det = flow.f(z)\\n            sum_log_abs_det += log_abs_det\\n\\n        return z, sum_log_abs_det\\n'"
      ]
     },
     "execution_count": 69,
     "metadata": {},
     "output_type": "execute_result"
    }
   ],
   "source": [
    "class NormalizingFlow(nn.Module):\n",
    "    \n",
    "    def __init__(self, latent: Distribution, flows: List[nn.Module], conv_flows = [], ort=False):\n",
    "        super().__init__()\n",
    "        self.latent = latent\n",
    "        self.flows = flows\n",
    "        self.ort = ort\n",
    "        self.conv_flows = conv_flows\n",
    "\n",
    "    def latent_sample(self, num_samples: int = 1) -> torch.Tensor:\n",
    "        z=self.latent.sample((num_samples,))\n",
    "        return z        \n",
    "\n",
    "    def sample(self, num_samples: int = 1) -> torch.Tensor:\n",
    "        \"\"\"Sample a new observation x by sampling z from\n",
    "        the latent distribution and pass through g.\"\"\"\n",
    "        z=(self.latent_sample(num_samples))\n",
    "        with torch.no_grad():\n",
    "            x, _ = self.g(z)\n",
    "        return x \n",
    "    \n",
    "\n",
    "    def g(self, z: torch.Tensor) -> torch.Tensor:\n",
    "        \n",
    "        x, sum_log_abs_det = z, torch.ones(z.size(0)).to(z.device)\n",
    "        for flow in reversed(self.flows):\n",
    "            x, log_abs_det = flow.g(x)\n",
    "            sum_log_abs_det += log_abs_det\n",
    "        \n",
    "        if self.ort:\n",
    "            x=torch.matmul(x,Ot.to(x.device))\n",
    "        \n",
    "        #x=x*a    \n",
    "        \n",
    "        for flow in reversed(self.conv_flows):\n",
    "            x, log_abs_det = flow.g(x)\n",
    "            sum_log_abs_det += log_abs_det\n",
    "        return x, sum_log_abs_det\n",
    "    \n",
    "        \n",
    "    def __len__(self) -> int:\n",
    "        return len(self.flows)\n",
    "    \n",
    " \n",
    "\"\"\"\n",
    "    def g_steps(self, z: torch.Tensor) -> List[torch.Tensor]:\n",
    "        Maps latent variable z to observation x\n",
    "        and stores intermediate results.\n",
    "        \n",
    "        xs = [z]\n",
    "        for flow in reversed(self.flows):\n",
    "            xs.append(flow.g(xs[-1]))\n",
    "        return xs\n",
    "\n",
    "    \n",
    "    def latent_log_prob(self, z: torch.Tensor) -> torch.Tensor:\n",
    "        llp=self.latent.log_prob(z)\n",
    "        sum_llp= torch.sum(llp,axis=-1)\n",
    "        return sum_llp\n",
    " \n",
    "    \n",
    "    def f(self, x: torch.Tensor) -> Tuple[torch.Tensor, torch.Tensor]:  #forward\n",
    "        Maps observation x to latent variable z.\n",
    "        Additionally, computes the log determinant\n",
    "        of the Jacobian for this transformation.\n",
    "        Inveres of g.\n",
    "        \n",
    "        z, sum_log_abs_det = x, torch.ones(x.size(0)).to(x.device)\n",
    "        for flow in self.flows:\n",
    "            z, log_abs_det = flow.f(z)\n",
    "            sum_log_abs_det += log_abs_det\n",
    "\n",
    "        return z, sum_log_abs_det\n",
    "\"\"\"\n",
    "    "
   ]
  },
  {
   "cell_type": "code",
   "execution_count": 70,
   "id": "8b1ec3b4",
   "metadata": {
    "execution": {
     "iopub.execute_input": "2024-03-09T12:59:48.802285Z",
     "iopub.status.busy": "2024-03-09T12:59:48.801179Z",
     "iopub.status.idle": "2024-03-09T12:59:48.821493Z",
     "shell.execute_reply": "2024-03-09T12:59:48.820283Z",
     "shell.execute_reply.started": "2024-03-09T12:59:48.802236Z"
    },
    "tags": []
   },
   "outputs": [],
   "source": [
    "class ThetaNetwork(nn.Module):\n",
    "    def __init__(\n",
    "        self,\n",
    "        in_dim: int,\n",
    "        out_dim: int,\n",
    "        num_hidden: int,\n",
    "        hidden_dim: int,\n",
    "        num_params: int,\n",
    "        p_drop: float,\n",
    "    ):\n",
    "        super().__init__()\n",
    "        self.input = nn.Linear(in_dim, hidden_dim)\n",
    "        self.hidden = nn.ModuleList(\n",
    "            [nn.Sequential(\n",
    "                nn.Linear(hidden_dim, hidden_dim),\n",
    "                nn.Dropout(p=p_drop),\n",
    "                nn.LayerNorm(hidden_dim)\n",
    "            ) for _ in range(num_hidden)]\n",
    "        )\n",
    "\n",
    "        self.num_params = num_params\n",
    "        self.out_dim = out_dim\n",
    "        self.dims = nn.Linear(hidden_dim, out_dim * num_params)\n",
    "\n",
    "    def forward(self, x: torch.Tensor) -> torch.Tensor:\n",
    "        x = F.leaky_relu(self.input(x),negative_slope=0.01)\n",
    "        for h in self.hidden:\n",
    "            x = F.leaky_relu(h(x),negative_slope=0.01)\n",
    "\n",
    "        batch_params = self.dims(x).reshape(x.size(0), self.out_dim, -1) \n",
    "        params = batch_params.chunk(self.num_params, dim=-1) \n",
    "        return [p.squeeze(-1) for p in params]\n",
    "    "
   ]
  },
  {
   "cell_type": "code",
   "execution_count": 71,
   "id": "6162dd77-ae0a-4461-bc79-a8bb12341f19",
   "metadata": {
    "execution": {
     "iopub.execute_input": "2024-03-09T12:59:49.398793Z",
     "iopub.status.busy": "2024-03-09T12:59:49.397976Z",
     "iopub.status.idle": "2024-03-09T12:59:49.420330Z",
     "shell.execute_reply": "2024-03-09T12:59:49.419254Z",
     "shell.execute_reply.started": "2024-03-09T12:59:49.398753Z"
    },
    "tags": []
   },
   "outputs": [],
   "source": [
    "class Conv_NN(nn.Module):\n",
    "    def __init__(\n",
    "        self,\n",
    "        out_dim,\n",
    "        num_params,\n",
    "        kernel_size=3\n",
    "    ):\n",
    "        super().__init__()\n",
    "        self.layers = torch.nn.Sequential(\n",
    "        nn.Conv1d(in_channels=1, out_channels=2, kernel_size=kernel_size,padding=\"same\"), \n",
    "        nn.LeakyReLU(),\n",
    "        nn.LayerNorm(out_dim),    \n",
    "        nn.Conv1d(in_channels=2, out_channels=4, kernel_size=kernel_size,padding=\"same\"), \n",
    "        nn.LeakyReLU(),\n",
    "        nn.LayerNorm(out_dim),    \n",
    "        nn.Conv1d(in_channels=4, out_channels=8, kernel_size=kernel_size,padding=\"same\"),\n",
    "        nn.LeakyReLU(),\n",
    "        nn.LayerNorm(out_dim),\n",
    "        nn.Conv1d(in_channels=8, out_channels=16, kernel_size=kernel_size,padding=\"same\"),\n",
    "        nn.LeakyReLU(),\n",
    "        nn.LayerNorm(out_dim),\n",
    "        nn.Conv1d(in_channels=16, out_channels=20, kernel_size=kernel_size,padding=\"same\"),\n",
    "        nn.LeakyReLU(),\n",
    "        nn.LayerNorm(out_dim),\n",
    "        nn.Conv1d(in_channels=20, out_channels=16, kernel_size=kernel_size,padding=\"same\"),\n",
    "        nn.LeakyReLU(),\n",
    "        nn.LayerNorm(out_dim),\n",
    "        nn.Conv1d(in_channels=16, out_channels=4, kernel_size=kernel_size,padding=\"same\"),\n",
    "        nn.LeakyReLU(),\n",
    "        nn.LayerNorm(out_dim),        \n",
    "        nn.Conv1d(in_channels=4, out_channels=1, kernel_size=kernel_size,padding=\"same\"),\n",
    "        nn.LeakyReLU(),    \n",
    "        )\n",
    "        self.num_params = num_params\n",
    "        self.out_dim = out_dim\n",
    "        self.dims = nn.Linear(out_dim, out_dim * num_params)\n",
    "    \n",
    "    def forward(self, x):\n",
    "        x=x.unsqueeze(1)\n",
    "        x=self.layers(x)\n",
    "        x=x.squeeze(1)\n",
    "        batch_params = self.dims(x).reshape(x.size(0),self.out_dim , -1) \n",
    "        params = batch_params.chunk(self.num_params, dim=-1) \n",
    "        return [p.squeeze(-1) for p in params]"
   ]
  },
  {
   "cell_type": "code",
   "execution_count": 72,
   "id": "dc7f0bed",
   "metadata": {
    "execution": {
     "iopub.execute_input": "2024-03-09T12:59:49.988209Z",
     "iopub.status.busy": "2024-03-09T12:59:49.987384Z",
     "iopub.status.idle": "2024-03-09T12:59:50.003440Z",
     "shell.execute_reply": "2024-03-09T12:59:50.002308Z",
     "shell.execute_reply.started": "2024-03-09T12:59:49.988177Z"
    },
    "tags": []
   },
   "outputs": [],
   "source": [
    "def SplitFunc(x: torch.Tensor,swap: int) -> Tuple[torch.Tensor, torch.Tensor]:\n",
    "    if swap==0:\n",
    "        return x[:,::2], x[:,1::2]\n",
    "    else: \n",
    "        return x[:,1::2], x[:,::2] "
   ]
  },
  {
   "cell_type": "code",
   "execution_count": 73,
   "id": "7f71825a-6aed-44d3-8d61-b49b3c9cff11",
   "metadata": {
    "execution": {
     "iopub.execute_input": "2024-03-09T12:59:50.532602Z",
     "iopub.status.busy": "2024-03-09T12:59:50.530967Z",
     "iopub.status.idle": "2024-03-09T12:59:50.559820Z",
     "shell.execute_reply": "2024-03-09T12:59:50.558490Z",
     "shell.execute_reply.started": "2024-03-09T12:59:50.532531Z"
    },
    "tags": []
   },
   "outputs": [],
   "source": [
    "I=torch.arange(N_nod)\n",
    "i0=I[::4]\n",
    "i1=I[1::4]\n",
    "i2=I[2::4]\n",
    "i3=I[3::4]\n",
    "mask1=torch.cat((i0,i1))\n",
    "mask2=torch.cat((i2,i3))\n",
    "\n",
    "def pair_SplitFunc(x: torch.Tensor,swap: int) -> Tuple[torch.Tensor, torch.Tensor]:\n",
    "    if swap==0:\n",
    "        return x[:,mask1], x[:,mask2]\n",
    "    else: \n",
    "        return x[:,mask2], x[:,mask1] "
   ]
  },
  {
   "cell_type": "code",
   "execution_count": 134,
   "id": "9586f025",
   "metadata": {
    "execution": {
     "iopub.execute_input": "2024-03-09T18:49:51.664962Z",
     "iopub.status.busy": "2024-03-09T18:49:51.663826Z",
     "iopub.status.idle": "2024-03-09T18:49:51.688047Z",
     "shell.execute_reply": "2024-03-09T18:49:51.686859Z",
     "shell.execute_reply.started": "2024-03-09T18:49:51.664861Z"
    },
    "tags": []
   },
   "outputs": [
    {
     "name": "stdout",
     "output_type": "stream",
     "text": [
      "start\n",
      "Normal(loc: torch.Size([100]), scale: torch.Size([100]))\n"
     ]
    }
   ],
   "source": [
    "print(\"start\")\n",
    "from Data import normal_dist\n",
    "\n",
    "def configure_theta():\n",
    "    theta=ThetaNetwork(\n",
    "                in_dim = N_nod//2,\n",
    "                out_dim = N_nod//2,\n",
    "                num_hidden = 12,  #2 to 6\n",
    "                hidden_dim = 2 * N_nod , #100-1024\n",
    "                num_params = 2,\n",
    "                p_drop=0.1,\n",
    "    )\n",
    "    return theta\n",
    "\n",
    "def configure_flows(n_flows):  # n_flows=8,...,12\n",
    "    flows=[]\n",
    "    \"\"\"\n",
    "    flows.append(D(N_nod))\n",
    "    \n",
    "    for k in range(n_flows//2):\n",
    "        flows.append(AffineCouplingLayer(configure_theta(),split=pair_SplitFunc,swap=k%2))\n",
    "        flows.append(L1(N_nod))\n",
    "    \n",
    "    #flows.append(CubicCouplingLayer(configure_theta(),split=pair_SplitFunc,swap=0))\n",
    "    #flows.append(CubicCouplingLayer(configure_theta(),split=pair_SplitFunc,swap=1))\n",
    "    \n",
    "    for k in range(n_flows//2):\n",
    "        flows.append(AffineCouplingLayer(configure_theta(),split=pair_SplitFunc,swap=k%2))\n",
    "    \n",
    "    flows.append(CubicCouplingLayer(configure_theta(),split=pair_SplitFunc,swap=0))\n",
    "    flows.append(CubicCouplingLayer(configure_theta(),split=pair_SplitFunc,swap=1))\n",
    "    \n",
    "    flows.append(CubicCouplingLayer(configure_theta(),split=pair_SplitFunc,swap=0))\n",
    "    flows.append(CubicCouplingLayer(configure_theta(),split=pair_SplitFunc,swap=1))\n",
    "    \n",
    "    flows.append(CubicCouplingLayer(configure_theta(),split=pair_SplitFunc,swap=0))\n",
    "    flows.append(CubicCouplingLayer(configure_theta(),split=pair_SplitFunc,swap=1))\n",
    "    \"\"\"\n",
    "    flows.append(D(N_nod))    \n",
    "    flows = nn.ModuleList(flows)\n",
    "    return flows \n",
    "\n",
    "def configure_conv_flows(n_conv,kernel_size=3):\n",
    "    conv_flows=[]\n",
    "    for i in range(n_conv):\n",
    "        conv_flows.append(AffineCouplingLayer(Conv_NN(N_nod//2,2,kernel_size),split=pair_SplitFunc,swap=i%2))\n",
    "    conv_flows = nn.ModuleList(conv_flows)\n",
    "    return conv_flows\n",
    "\n",
    "print(normal_dist)\n",
    "\n",
    "                  "
   ]
  },
  {
   "cell_type": "code",
   "execution_count": 135,
   "id": "5401fb59",
   "metadata": {
    "execution": {
     "iopub.execute_input": "2024-03-09T18:49:54.046479Z",
     "iopub.status.busy": "2024-03-09T18:49:54.045493Z",
     "iopub.status.idle": "2024-03-09T18:49:54.062974Z",
     "shell.execute_reply": "2024-03-09T18:49:54.061641Z",
     "shell.execute_reply.started": "2024-03-09T18:49:54.046429Z"
    },
    "tags": []
   },
   "outputs": [],
   "source": [
    "class Pipeline(pl.LightningModule):\n",
    "    def __init__(\n",
    "        self,\n",
    "        model,\n",
    "        criterion,\n",
    "        optimizer_class=torch.optim.Adam,\n",
    "        optimizer_kwargs={\"lr\": 0.001,\"weight_decay\": 0}\n",
    "    ) -> None:\n",
    "        super().__init__()\n",
    "        self.model = model\n",
    "        self.loss = criterion\n",
    "        self.optimizer_class = optimizer_class\n",
    "        self.optimizer_kwargs = optimizer_kwargs\n",
    "\n",
    "\n",
    "    def configure_optimizers(self):\n",
    "        optimizer = self.optimizer_class(\n",
    "            self.model.parameters(), **self.optimizer_kwargs\n",
    "        )\n",
    "        return optimizer\n",
    "\n",
    "    def training_step(self, batch, batch_idx):\n",
    "        z = batch\n",
    "        x, log_abs_det = self.model.g(z)\n",
    "        loss = self.loss(x,log_abs_det)\n",
    "        self.log('train_loss', loss, prog_bar=True)\n",
    "        return loss\n",
    "\n",
    "\n",
    "    def on_train_epoch_end(self):\n",
    "        #print(\"---------------------------end epoch---------------------------------\")\n",
    "        pass\n",
    "    \n",
    "    def on_validation_end(self) -> None:\n",
    "        if not self.automatic_optimization:\n",
    "            # Save a checkpoint of the model\n",
    "            ckpt_path = os.path.join(self.trainer.log_dir, 'checkpoints', 'ckpt.pt')\n",
    "            self.trainer.save_checkpoint(ckpt_path, weights_only=True)\n",
    "        return super().on_validation_end()\n",
    "    \n",
    "    "
   ]
  },
  {
   "cell_type": "code",
   "execution_count": 136,
   "id": "3857c540-6428-46f4-ac0a-31aa76f83ad2",
   "metadata": {
    "execution": {
     "iopub.execute_input": "2024-03-09T18:49:55.275453Z",
     "iopub.status.busy": "2024-03-09T18:49:55.274454Z",
     "iopub.status.idle": "2024-03-09T18:49:55.293299Z",
     "shell.execute_reply": "2024-03-09T18:49:55.292240Z",
     "shell.execute_reply.started": "2024-03-09T18:49:55.275413Z"
    },
    "tags": []
   },
   "outputs": [],
   "source": [
    "from NFoscillator import Oscillator\n",
    "from NFrel_oscillator import Rel_Oscillator\n",
    "from NFur_oscillator import Ur_Oscillator\n",
    "KL_osc=Oscillator.make_KL(Oscillator)\n",
    "KL_rel001=Rel_Oscillator.make_KL(Rel_Oscillator,sigma=0.01)\n",
    "KL_rel01=Rel_Oscillator.make_KL(Rel_Oscillator,sigma=0.1)\n",
    "KL_rel1=Rel_Oscillator.make_KL(Rel_Oscillator,sigma=1)\n",
    "KL_ur=Ur_Oscillator.make_KL(Ur_Oscillator)\n"
   ]
  },
  {
   "cell_type": "code",
   "execution_count": 138,
   "id": "558e4bef",
   "metadata": {
    "execution": {
     "iopub.execute_input": "2024-03-09T18:50:45.365477Z",
     "iopub.status.busy": "2024-03-09T18:50:45.364395Z",
     "iopub.status.idle": "2024-03-09T18:58:33.619108Z",
     "shell.execute_reply": "2024-03-09T18:58:33.617537Z",
     "shell.execute_reply.started": "2024-03-09T18:50:45.365434Z"
    },
    "tags": []
   },
   "outputs": [
    {
     "name": "stderr",
     "output_type": "stream",
     "text": [
      "/kernel/lib/python3.10/site-packages/wurlitzer.py:209: RuntimeWarning: Failed to set pipe buffer size\n",
      "  warnings.warn(\"Failed to set pipe buffer size\", RuntimeWarning)\n",
      "GPU available: True (cuda), used: True\n",
      "TPU available: False, using: 0 TPU cores\n",
      "IPU available: False, using: 0 IPUs\n",
      "HPU available: False, using: 0 HPUs\n",
      "LOCAL_RANK: 0 - CUDA_VISIBLE_DEVICES: [0]\n",
      "\n",
      "  | Name  | Type            | Params\n",
      "------------------------------------------\n",
      "0 | model | NormalizingFlow | 100   \n",
      "1 | loss  | KL_with_S       | 0     \n",
      "------------------------------------------\n",
      "100       Trainable params\n",
      "0         Non-trainable params\n",
      "100       Total params\n",
      "0.000     Total estimated model params size (MB)\n"
     ]
    },
    {
     "data": {
      "application/vnd.jupyter.widget-view+json": {
       "model_id": "05d6c25cd8eb4791992f8ba4a84f52ea",
       "version_major": 2,
       "version_minor": 0
      },
      "text/plain": [
       "Training: |          | 0/? [00:00<?, ?it/s]"
      ]
     },
     "metadata": {},
     "output_type": "display_data"
    },
    {
     "name": "stderr",
     "output_type": "stream",
     "text": [
      "/home/jupyter/.local/lib/python3.10/site-packages/pytorch_lightning/trainer/call.py:54: Detected KeyboardInterrupt, attempting graceful shutdown...\n"
     ]
    }
   ],
   "source": [
    "from Data import train_loader\n",
    "\n",
    "set_random_seed(42)\n",
    "\n",
    "nf=NormalizingFlow(latent=normal_dist,flows=configure_flows(24),conv_flows=configure_conv_flows(0,kernel_size=8),ort=True)\n",
    "pipeline=Pipeline(model=nf, criterion=KL_ur, optimizer_class=torch.optim.Adam, optimizer_kwargs={\"lr\": 0.001,\"weight_decay\":0.0})\n",
    "\n",
    "trainer = pl.Trainer(\n",
    "    max_epochs=50,\n",
    "    logger=TensorBoardLogger(save_dir=f\"logs/nf\"),\n",
    "    num_sanity_val_steps=0,\n",
    "    log_every_n_steps=1,\n",
    "    accumulate_grad_batches=4\n",
    ")\n",
    "\n",
    "trainer.fit(model=pipeline, train_dataloaders=train_loader)\n",
    "torch.save(nf.state_dict(), \"model_weights1.pth\")"
   ]
  },
  {
   "cell_type": "code",
   "execution_count": 23,
   "id": "0c2a7174-bbe4-47a4-a6dc-5b9fc9f320c5",
   "metadata": {
    "execution": {
     "iopub.execute_input": "2024-03-08T21:00:26.769258Z",
     "iopub.status.busy": "2024-03-08T21:00:26.768545Z",
     "iopub.status.idle": "2024-03-08T21:00:26.779634Z",
     "shell.execute_reply": "2024-03-08T21:00:26.778866Z",
     "shell.execute_reply.started": "2024-03-08T21:00:26.769211Z"
    },
    "tags": []
   },
   "outputs": [
    {
     "name": "stdout",
     "output_type": "stream",
     "text": [
      "4.997873416618259\n"
     ]
    }
   ],
   "source": [
    "from NFandist import calc_Z\n",
    "import numpy as np\n",
    "print(-np.log(calc_Z(N_nod,beta)))"
   ]
  },
  {
   "cell_type": "code",
   "execution_count": 99,
   "id": "bf52257c",
   "metadata": {
    "execution": {
     "iopub.execute_input": "2024-03-09T13:33:13.461828Z",
     "iopub.status.busy": "2024-03-09T13:33:13.461058Z",
     "iopub.status.idle": "2024-03-09T13:33:15.246455Z",
     "shell.execute_reply": "2024-03-09T13:33:15.242197Z",
     "shell.execute_reply.started": "2024-03-09T13:33:13.461787Z"
    },
    "tags": []
   },
   "outputs": [
    {
     "ename": "RuntimeError",
     "evalue": "Error(s) in loading state_dict for NormalizingFlow:\n\tMissing key(s) in state_dict: \"flows.14.weight\", \"flows.16.weight\", \"flows.18.weight\", \"flows.20.weight\", \"flows.22.weight\", \"flows.23.theta.input.weight\", \"flows.23.theta.input.bias\", \"flows.23.theta.hidden.0.0.weight\", \"flows.23.theta.hidden.0.0.bias\", \"flows.23.theta.hidden.0.2.weight\", \"flows.23.theta.hidden.0.2.bias\", \"flows.23.theta.hidden.1.0.weight\", \"flows.23.theta.hidden.1.0.bias\", \"flows.23.theta.hidden.1.2.weight\", \"flows.23.theta.hidden.1.2.bias\", \"flows.23.theta.hidden.2.0.weight\", \"flows.23.theta.hidden.2.0.bias\", \"flows.23.theta.hidden.2.2.weight\", \"flows.23.theta.hidden.2.2.bias\", \"flows.23.theta.hidden.3.0.weight\", \"flows.23.theta.hidden.3.0.bias\", \"flows.23.theta.hidden.3.2.weight\", \"flows.23.theta.hidden.3.2.bias\", \"flows.23.theta.hidden.4.0.weight\", \"flows.23.theta.hidden.4.0.bias\", \"flows.23.theta.hidden.4.2.weight\", \"flows.23.theta.hidden.4.2.bias\", \"flows.23.theta.hidden.5.0.weight\", \"flows.23.theta.hidden.5.0.bias\", \"flows.23.theta.hidden.5.2.weight\", \"flows.23.theta.hidden.5.2.bias\", \"flows.23.theta.hidden.6.0.weight\", \"flows.23.theta.hidden.6.0.bias\", \"flows.23.theta.hidden.6.2.weight\", \"flows.23.theta.hidden.6.2.bias\", \"flows.23.theta.hidden.7.0.weight\", \"flows.23.theta.hidden.7.0.bias\", \"flows.23.theta.hidden.7.2.weight\", \"flows.23.theta.hidden.7.2.bias\", \"flows.23.theta.hidden.8.0.weight\", \"flows.23.theta.hidden.8.0.bias\", \"flows.23.theta.hidden.8.2.weight\", \"flows.23.theta.hidden.8.2.bias\", \"flows.23.theta.hidden.9.0.weight\", \"flows.23.theta.hidden.9.0.bias\", \"flows.23.theta.hidden.9.2.weight\", \"flows.23.theta.hidden.9.2.bias\", \"flows.23.theta.hidden.10.0.weight\", \"flows.23.theta.hidden.10.0.bias\", \"flows.23.theta.hidden.10.2.weight\", \"flows.23.theta.hidden.10.2.bias\", \"flows.23.theta.hidden.11.0.weight\", \"flows.23.theta.hidden.11.0.bias\", \"flows.23.theta.hidden.11.2.weight\", \"flows.23.theta.hidden.11.2.bias\", \"flows.23.theta.dims.weight\", \"flows.23.theta.dims.bias\", \"flows.24.weight\", \"flows.25.theta.input.weight\", \"flows.25.theta.input.bias\", \"flows.25.theta.hidden.0.0.weight\", \"flows.25.theta.hidden.0.0.bias\", \"flows.25.theta.hidden.0.2.weight\", \"flows.25.theta.hidden.0.2.bias\", \"flows.25.theta.hidden.1.0.weight\", \"flows.25.theta.hidden.1.0.bias\", \"flows.25.theta.hidden.1.2.weight\", \"flows.25.theta.hidden.1.2.bias\", \"flows.25.theta.hidden.2.0.weight\", \"flows.25.theta.hidden.2.0.bias\", \"flows.25.theta.hidden.2.2.weight\", \"flows.25.theta.hidden.2.2.bias\", \"flows.25.theta.hidden.3.0.weight\", \"flows.25.theta.hidden.3.0.bias\", \"flows.25.theta.hidden.3.2.weight\", \"flows.25.theta.hidden.3.2.bias\", \"flows.25.theta.hidden.4.0.weight\", \"flows.25.theta.hidden.4.0.bias\", \"flows.25.theta.hidden.4.2.weight\", \"flows.25.theta.hidden.4.2.bias\", \"flows.25.theta.hidden.5.0.weight\", \"flows.25.theta.hidden.5.0.bias\", \"flows.25.theta.hidden.5.2.weight\", \"flows.25.theta.hidden.5.2.bias\", \"flows.25.theta.hidden.6.0.weight\", \"flows.25.theta.hidden.6.0.bias\", \"flows.25.theta.hidden.6.2.weight\", \"flows.25.theta.hidden.6.2.bias\", \"flows.25.theta.hidden.7.0.weight\", \"flows.25.theta.hidden.7.0.bias\", \"flows.25.theta.hidden.7.2.weight\", \"flows.25.theta.hidden.7.2.bias\", \"flows.25.theta.hidden.8.0.weight\", \"flows.25.theta.hidden.8.0.bias\", \"flows.25.theta.hidden.8.2.weight\", \"flows.25.theta.hidden.8.2.bias\", \"flows.25.theta.hidden.9.0.weight\", \"flows.25.theta.hidden.9.0.bias\", \"flows.25.theta.hidden.9.2.weight\", \"flows.25.theta.hidden.9.2.bias\", \"flows.25.theta.hidden.10.0.weight\", \"flows.25.theta.hidden.10.0.bias\", \"flows.25.theta.hidden.10.2.weight\", \"flows.25.theta.hidden.10.2.bias\", \"flows.25.theta.hidden.11.0.weight\", \"flows.25.theta.hidden.11.0.bias\", \"flows.25.theta.hidden.11.2.weight\", \"flows.25.theta.hidden.11.2.bias\", \"flows.25.theta.dims.weight\", \"flows.25.theta.dims.bias\", \"flows.26.theta.input.weight\", \"flows.26.theta.input.bias\", \"flows.26.theta.hidden.0.0.weight\", \"flows.26.theta.hidden.0.0.bias\", \"flows.26.theta.hidden.0.2.weight\", \"flows.26.theta.hidden.0.2.bias\", \"flows.26.theta.hidden.1.0.weight\", \"flows.26.theta.hidden.1.0.bias\", \"flows.26.theta.hidden.1.2.weight\", \"flows.26.theta.hidden.1.2.bias\", \"flows.26.theta.hidden.2.0.weight\", \"flows.26.theta.hidden.2.0.bias\", \"flows.26.theta.hidden.2.2.weight\", \"flows.26.theta.hidden.2.2.bias\", \"flows.26.theta.hidden.3.0.weight\", \"flows.26.theta.hidden.3.0.bias\", \"flows.26.theta.hidden.3.2.weight\", \"flows.26.theta.hidden.3.2.bias\", \"flows.26.theta.hidden.4.0.weight\", \"flows.26.theta.hidden.4.0.bias\", \"flows.26.theta.hidden.4.2.weight\", \"flows.26.theta.hidden.4.2.bias\", \"flows.26.theta.hidden.5.0.weight\", \"flows.26.theta.hidden.5.0.bias\", \"flows.26.theta.hidden.5.2.weight\", \"flows.26.theta.hidden.5.2.bias\", \"flows.26.theta.hidden.6.0.weight\", \"flows.26.theta.hidden.6.0.bias\", \"flows.26.theta.hidden.6.2.weight\", \"flows.26.theta.hidden.6.2.bias\", \"flows.26.theta.hidden.7.0.weight\", \"flows.26.theta.hidden.7.0.bias\", \"flows.26.theta.hidden.7.2.weight\", \"flows.26.theta.hidden.7.2.bias\", \"flows.26.theta.hidden.8.0.weight\", \"flows.26.theta.hidden.8.0.bias\", \"flows.26.theta.hidden.8.2.weight\", \"flows.26.theta.hidden.8.2.bias\", \"flows.26.theta.hidden.9.0.weight\", \"flows.26.theta.hidden.9.0.bias\", \"flows.26.theta.hidden.9.2.weight\", \"flows.26.theta.hidden.9.2.bias\", \"flows.26.theta.hidden.10.0.weight\", \"flows.26.theta.hidden.10.0.bias\", \"flows.26.theta.hidden.10.2.weight\", \"flows.26.theta.hidden.10.2.bias\", \"flows.26.theta.hidden.11.0.weight\", \"flows.26.theta.hidden.11.0.bias\", \"flows.26.theta.hidden.11.2.weight\", \"flows.26.theta.hidden.11.2.bias\", \"flows.26.theta.dims.weight\", \"flows.26.theta.dims.bias\", \"flows.27.theta.input.weight\", \"flows.27.theta.input.bias\", \"flows.27.theta.hidden.0.0.weight\", \"flows.27.theta.hidden.0.0.bias\", \"flows.27.theta.hidden.0.2.weight\", \"flows.27.theta.hidden.0.2.bias\", \"flows.27.theta.hidden.1.0.weight\", \"flows.27.theta.hidden.1.0.bias\", \"flows.27.theta.hidden.1.2.weight\", \"flows.27.theta.hidden.1.2.bias\", \"flows.27.theta.hidden.2.0.weight\", \"flows.27.theta.hidden.2.0.bias\", \"flows.27.theta.hidden.2.2.weight\", \"flows.27.theta.hidden.2.2.bias\", \"flows.27.theta.hidden.3.0.weight\", \"flows.27.theta.hidden.3.0.bias\", \"flows.27.theta.hidden.3.2.weight\", \"flows.27.theta.hidden.3.2.bias\", \"flows.27.theta.hidden.4.0.weight\", \"flows.27.theta.hidden.4.0.bias\", \"flows.27.theta.hidden.4.2.weight\", \"flows.27.theta.hidden.4.2.bias\", \"flows.27.theta.hidden.5.0.weight\", \"flows.27.theta.hidden.5.0.bias\", \"flows.27.theta.hidden.5.2.weight\", \"flows.27.theta.hidden.5.2.bias\", \"flows.27.theta.hidden.6.0.weight\", \"flows.27.theta.hidden.6.0.bias\", \"flows.27.theta.hidden.6.2.weight\", \"flows.27.theta.hidden.6.2.bias\", \"flows.27.theta.hidden.7.0.weight\", \"flows.27.theta.hidden.7.0.bias\", \"flows.27.theta.hidden.7.2.weight\", \"flows.27.theta.hidden.7.2.bias\", \"flows.27.theta.hidden.8.0.weight\", \"flows.27.theta.hidden.8.0.bias\", \"flows.27.theta.hidden.8.2.weight\", \"flows.27.theta.hidden.8.2.bias\", \"flows.27.theta.hidden.9.0.weight\", \"flows.27.theta.hidden.9.0.bias\", \"flows.27.theta.hidden.9.2.weight\", \"flows.27.theta.hidden.9.2.bias\", \"flows.27.theta.hidden.10.0.weight\", \"flows.27.theta.hidden.10.0.bias\", \"flows.27.theta.hidden.10.2.weight\", \"flows.27.theta.hidden.10.2.bias\", \"flows.27.theta.hidden.11.0.weight\", \"flows.27.theta.hidden.11.0.bias\", \"flows.27.theta.hidden.11.2.weight\", \"flows.27.theta.hidden.11.2.bias\", \"flows.27.theta.dims.weight\", \"flows.27.theta.dims.bias\", \"flows.28.theta.input.weight\", \"flows.28.theta.input.bias\", \"flows.28.theta.hidden.0.0.weight\", \"flows.28.theta.hidden.0.0.bias\", \"flows.28.theta.hidden.0.2.weight\", \"flows.28.theta.hidden.0.2.bias\", \"flows.28.theta.hidden.1.0.weight\", \"flows.28.theta.hidden.1.0.bias\", \"flows.28.theta.hidden.1.2.weight\", \"flows.28.theta.hidden.1.2.bias\", \"flows.28.theta.hidden.2.0.weight\", \"flows.28.theta.hidden.2.0.bias\", \"flows.28.theta.hidden.2.2.weight\", \"flows.28.theta.hidden.2.2.bias\", \"flows.28.theta.hidden.3.0.weight\", \"flows.28.theta.hidden.3.0.bias\", \"flows.28.theta.hidden.3.2.weight\", \"flows.28.theta.hidden.3.2.bias\", \"flows.28.theta.hidden.4.0.weight\", \"flows.28.theta.hidden.4.0.bias\", \"flows.28.theta.hidden.4.2.weight\", \"flows.28.theta.hidden.4.2.bias\", \"flows.28.theta.hidden.5.0.weight\", \"flows.28.theta.hidden.5.0.bias\", \"flows.28.theta.hidden.5.2.weight\", \"flows.28.theta.hidden.5.2.bias\", \"flows.28.theta.hidden.6.0.weight\", \"flows.28.theta.hidden.6.0.bias\", \"flows.28.theta.hidden.6.2.weight\", \"flows.28.theta.hidden.6.2.bias\", \"flows.28.theta.hidden.7.0.weight\", \"flows.28.theta.hidden.7.0.bias\", \"flows.28.theta.hidden.7.2.weight\", \"flows.28.theta.hidden.7.2.bias\", \"flows.28.theta.hidden.8.0.weight\", \"flows.28.theta.hidden.8.0.bias\", \"flows.28.theta.hidden.8.2.weight\", \"flows.28.theta.hidden.8.2.bias\", \"flows.28.theta.hidden.9.0.weight\", \"flows.28.theta.hidden.9.0.bias\", \"flows.28.theta.hidden.9.2.weight\", \"flows.28.theta.hidden.9.2.bias\", \"flows.28.theta.hidden.10.0.weight\", \"flows.28.theta.hidden.10.0.bias\", \"flows.28.theta.hidden.10.2.weight\", \"flows.28.theta.hidden.10.2.bias\", \"flows.28.theta.hidden.11.0.weight\", \"flows.28.theta.hidden.11.0.bias\", \"flows.28.theta.hidden.11.2.weight\", \"flows.28.theta.hidden.11.2.bias\", \"flows.28.theta.dims.weight\", \"flows.28.theta.dims.bias\", \"flows.29.theta.input.weight\", \"flows.29.theta.input.bias\", \"flows.29.theta.hidden.0.0.weight\", \"flows.29.theta.hidden.0.0.bias\", \"flows.29.theta.hidden.0.2.weight\", \"flows.29.theta.hidden.0.2.bias\", \"flows.29.theta.hidden.1.0.weight\", \"flows.29.theta.hidden.1.0.bias\", \"flows.29.theta.hidden.1.2.weight\", \"flows.29.theta.hidden.1.2.bias\", \"flows.29.theta.hidden.2.0.weight\", \"flows.29.theta.hidden.2.0.bias\", \"flows.29.theta.hidden.2.2.weight\", \"flows.29.theta.hidden.2.2.bias\", \"flows.29.theta.hidden.3.0.weight\", \"flows.29.theta.hidden.3.0.bias\", \"flows.29.theta.hidden.3.2.weight\", \"flows.29.theta.hidden.3.2.bias\", \"flows.29.theta.hidden.4.0.weight\", \"flows.29.theta.hidden.4.0.bias\", \"flows.29.theta.hidden.4.2.weight\", \"flows.29.theta.hidden.4.2.bias\", \"flows.29.theta.hidden.5.0.weight\", \"flows.29.theta.hidden.5.0.bias\", \"flows.29.theta.hidden.5.2.weight\", \"flows.29.theta.hidden.5.2.bias\", \"flows.29.theta.hidden.6.0.weight\", \"flows.29.theta.hidden.6.0.bias\", \"flows.29.theta.hidden.6.2.weight\", \"flows.29.theta.hidden.6.2.bias\", \"flows.29.theta.hidden.7.0.weight\", \"flows.29.theta.hidden.7.0.bias\", \"flows.29.theta.hidden.7.2.weight\", \"flows.29.theta.hidden.7.2.bias\", \"flows.29.theta.hidden.8.0.weight\", \"flows.29.theta.hidden.8.0.bias\", \"flows.29.theta.hidden.8.2.weight\", \"flows.29.theta.hidden.8.2.bias\", \"flows.29.theta.hidden.9.0.weight\", \"flows.29.theta.hidden.9.0.bias\", \"flows.29.theta.hidden.9.2.weight\", \"flows.29.theta.hidden.9.2.bias\", \"flows.29.theta.hidden.10.0.weight\", \"flows.29.theta.hidden.10.0.bias\", \"flows.29.theta.hidden.10.2.weight\", \"flows.29.theta.hidden.10.2.bias\", \"flows.29.theta.hidden.11.0.weight\", \"flows.29.theta.hidden.11.0.bias\", \"flows.29.theta.hidden.11.2.weight\", \"flows.29.theta.hidden.11.2.bias\", \"flows.29.theta.dims.weight\", \"flows.29.theta.dims.bias\", \"flows.30.theta.input.weight\", \"flows.30.theta.input.bias\", \"flows.30.theta.hidden.0.0.weight\", \"flows.30.theta.hidden.0.0.bias\", \"flows.30.theta.hidden.0.2.weight\", \"flows.30.theta.hidden.0.2.bias\", \"flows.30.theta.hidden.1.0.weight\", \"flows.30.theta.hidden.1.0.bias\", \"flows.30.theta.hidden.1.2.weight\", \"flows.30.theta.hidden.1.2.bias\", \"flows.30.theta.hidden.2.0.weight\", \"flows.30.theta.hidden.2.0.bias\", \"flows.30.theta.hidden.2.2.weight\", \"flows.30.theta.hidden.2.2.bias\", \"flows.30.theta.hidden.3.0.weight\", \"flows.30.theta.hidden.3.0.bias\", \"flows.30.theta.hidden.3.2.weight\", \"flows.30.theta.hidden.3.2.bias\", \"flows.30.theta.hidden.4.0.weight\", \"flows.30.theta.hidden.4.0.bias\", \"flows.30.theta.hidden.4.2.weight\", \"flows.30.theta.hidden.4.2.bias\", \"flows.30.theta.hidden.5.0.weight\", \"flows.30.theta.hidden.5.0.bias\", \"flows.30.theta.hidden.5.2.weight\", \"flows.30.theta.hidden.5.2.bias\", \"flows.30.theta.hidden.6.0.weight\", \"flows.30.theta.hidden.6.0.bias\", \"flows.30.theta.hidden.6.2.weight\", \"flows.30.theta.hidden.6.2.bias\", \"flows.30.theta.hidden.7.0.weight\", \"flows.30.theta.hidden.7.0.bias\", \"flows.30.theta.hidden.7.2.weight\", \"flows.30.theta.hidden.7.2.bias\", \"flows.30.theta.hidden.8.0.weight\", \"flows.30.theta.hidden.8.0.bias\", \"flows.30.theta.hidden.8.2.weight\", \"flows.30.theta.hidden.8.2.bias\", \"flows.30.theta.hidden.9.0.weight\", \"flows.30.theta.hidden.9.0.bias\", \"flows.30.theta.hidden.9.2.weight\", \"flows.30.theta.hidden.9.2.bias\", \"flows.30.theta.hidden.10.0.weight\", \"flows.30.theta.hidden.10.0.bias\", \"flows.30.theta.hidden.10.2.weight\", \"flows.30.theta.hidden.10.2.bias\", \"flows.30.theta.hidden.11.0.weight\", \"flows.30.theta.hidden.11.0.bias\", \"flows.30.theta.hidden.11.2.weight\", \"flows.30.theta.hidden.11.2.bias\", \"flows.30.theta.dims.weight\", \"flows.30.theta.dims.bias\", \"flows.31.theta.input.weight\", \"flows.31.theta.input.bias\", \"flows.31.theta.hidden.0.0.weight\", \"flows.31.theta.hidden.0.0.bias\", \"flows.31.theta.hidden.0.2.weight\", \"flows.31.theta.hidden.0.2.bias\", \"flows.31.theta.hidden.1.0.weight\", \"flows.31.theta.hidden.1.0.bias\", \"flows.31.theta.hidden.1.2.weight\", \"flows.31.theta.hidden.1.2.bias\", \"flows.31.theta.hidden.2.0.weight\", \"flows.31.theta.hidden.2.0.bias\", \"flows.31.theta.hidden.2.2.weight\", \"flows.31.theta.hidden.2.2.bias\", \"flows.31.theta.hidden.3.0.weight\", \"flows.31.theta.hidden.3.0.bias\", \"flows.31.theta.hidden.3.2.weight\", \"flows.31.theta.hidden.3.2.bias\", \"flows.31.theta.hidden.4.0.weight\", \"flows.31.theta.hidden.4.0.bias\", \"flows.31.theta.hidden.4.2.weight\", \"flows.31.theta.hidden.4.2.bias\", \"flows.31.theta.hidden.5.0.weight\", \"flows.31.theta.hidden.5.0.bias\", \"flows.31.theta.hidden.5.2.weight\", \"flows.31.theta.hidden.5.2.bias\", \"flows.31.theta.hidden.6.0.weight\", \"flows.31.theta.hidden.6.0.bias\", \"flows.31.theta.hidden.6.2.weight\", \"flows.31.theta.hidden.6.2.bias\", \"flows.31.theta.hidden.7.0.weight\", \"flows.31.theta.hidden.7.0.bias\", \"flows.31.theta.hidden.7.2.weight\", \"flows.31.theta.hidden.7.2.bias\", \"flows.31.theta.hidden.8.0.weight\", \"flows.31.theta.hidden.8.0.bias\", \"flows.31.theta.hidden.8.2.weight\", \"flows.31.theta.hidden.8.2.bias\", \"flows.31.theta.hidden.9.0.weight\", \"flows.31.theta.hidden.9.0.bias\", \"flows.31.theta.hidden.9.2.weight\", \"flows.31.theta.hidden.9.2.bias\", \"flows.31.theta.hidden.10.0.weight\", \"flows.31.theta.hidden.10.0.bias\", \"flows.31.theta.hidden.10.2.weight\", \"flows.31.theta.hidden.10.2.bias\", \"flows.31.theta.hidden.11.0.weight\", \"flows.31.theta.hidden.11.0.bias\", \"flows.31.theta.hidden.11.2.weight\", \"flows.31.theta.hidden.11.2.bias\", \"flows.31.theta.dims.weight\", \"flows.31.theta.dims.bias\", \"flows.32.theta.input.weight\", \"flows.32.theta.input.bias\", \"flows.32.theta.hidden.0.0.weight\", \"flows.32.theta.hidden.0.0.bias\", \"flows.32.theta.hidden.0.2.weight\", \"flows.32.theta.hidden.0.2.bias\", \"flows.32.theta.hidden.1.0.weight\", \"flows.32.theta.hidden.1.0.bias\", \"flows.32.theta.hidden.1.2.weight\", \"flows.32.theta.hidden.1.2.bias\", \"flows.32.theta.hidden.2.0.weight\", \"flows.32.theta.hidden.2.0.bias\", \"flows.32.theta.hidden.2.2.weight\", \"flows.32.theta.hidden.2.2.bias\", \"flows.32.theta.hidden.3.0.weight\", \"flows.32.theta.hidden.3.0.bias\", \"flows.32.theta.hidden.3.2.weight\", \"flows.32.theta.hidden.3.2.bias\", \"flows.32.theta.hidden.4.0.weight\", \"flows.32.theta.hidden.4.0.bias\", \"flows.32.theta.hidden.4.2.weight\", \"flows.32.theta.hidden.4.2.bias\", \"flows.32.theta.hidden.5.0.weight\", \"flows.32.theta.hidden.5.0.bias\", \"flows.32.theta.hidden.5.2.weight\", \"flows.32.theta.hidden.5.2.bias\", \"flows.32.theta.hidden.6.0.weight\", \"flows.32.theta.hidden.6.0.bias\", \"flows.32.theta.hidden.6.2.weight\", \"flows.32.theta.hidden.6.2.bias\", \"flows.32.theta.hidden.7.0.weight\", \"flows.32.theta.hidden.7.0.bias\", \"flows.32.theta.hidden.7.2.weight\", \"flows.32.theta.hidden.7.2.bias\", \"flows.32.theta.hidden.8.0.weight\", \"flows.32.theta.hidden.8.0.bias\", \"flows.32.theta.hidden.8.2.weight\", \"flows.32.theta.hidden.8.2.bias\", \"flows.32.theta.hidden.9.0.weight\", \"flows.32.theta.hidden.9.0.bias\", \"flows.32.theta.hidden.9.2.weight\", \"flows.32.theta.hidden.9.2.bias\", \"flows.32.theta.hidden.10.0.weight\", \"flows.32.theta.hidden.10.0.bias\", \"flows.32.theta.hidden.10.2.weight\", \"flows.32.theta.hidden.10.2.bias\", \"flows.32.theta.hidden.11.0.weight\", \"flows.32.theta.hidden.11.0.bias\", \"flows.32.theta.hidden.11.2.weight\", \"flows.32.theta.hidden.11.2.bias\", \"flows.32.theta.dims.weight\", \"flows.32.theta.dims.bias\", \"flows.33.theta.input.weight\", \"flows.33.theta.input.bias\", \"flows.33.theta.hidden.0.0.weight\", \"flows.33.theta.hidden.0.0.bias\", \"flows.33.theta.hidden.0.2.weight\", \"flows.33.theta.hidden.0.2.bias\", \"flows.33.theta.hidden.1.0.weight\", \"flows.33.theta.hidden.1.0.bias\", \"flows.33.theta.hidden.1.2.weight\", \"flows.33.theta.hidden.1.2.bias\", \"flows.33.theta.hidden.2.0.weight\", \"flows.33.theta.hidden.2.0.bias\", \"flows.33.theta.hidden.2.2.weight\", \"flows.33.theta.hidden.2.2.bias\", \"flows.33.theta.hidden.3.0.weight\", \"flows.33.theta.hidden.3.0.bias\", \"flows.33.theta.hidden.3.2.weight\", \"flows.33.theta.hidden.3.2.bias\", \"flows.33.theta.hidden.4.0.weight\", \"flows.33.theta.hidden.4.0.bias\", \"flows.33.theta.hidden.4.2.weight\", \"flows.33.theta.hidden.4.2.bias\", \"flows.33.theta.hidden.5.0.weight\", \"flows.33.theta.hidden.5.0.bias\", \"flows.33.theta.hidden.5.2.weight\", \"flows.33.theta.hidden.5.2.bias\", \"flows.33.theta.hidden.6.0.weight\", \"flows.33.theta.hidden.6.0.bias\", \"flows.33.theta.hidden.6.2.weight\", \"flows.33.theta.hidden.6.2.bias\", \"flows.33.theta.hidden.7.0.weight\", \"flows.33.theta.hidden.7.0.bias\", \"flows.33.theta.hidden.7.2.weight\", \"flows.33.theta.hidden.7.2.bias\", \"flows.33.theta.hidden.8.0.weight\", \"flows.33.theta.hidden.8.0.bias\", \"flows.33.theta.hidden.8.2.weight\", \"flows.33.theta.hidden.8.2.bias\", \"flows.33.theta.hidden.9.0.weight\", \"flows.33.theta.hidden.9.0.bias\", \"flows.33.theta.hidden.9.2.weight\", \"flows.33.theta.hidden.9.2.bias\", \"flows.33.theta.hidden.10.0.weight\", \"flows.33.theta.hidden.10.0.bias\", \"flows.33.theta.hidden.10.2.weight\", \"flows.33.theta.hidden.10.2.bias\", \"flows.33.theta.hidden.11.0.weight\", \"flows.33.theta.hidden.11.0.bias\", \"flows.33.theta.hidden.11.2.weight\", \"flows.33.theta.hidden.11.2.bias\", \"flows.33.theta.dims.weight\", \"flows.33.theta.dims.bias\", \"flows.34.theta.input.weight\", \"flows.34.theta.input.bias\", \"flows.34.theta.hidden.0.0.weight\", \"flows.34.theta.hidden.0.0.bias\", \"flows.34.theta.hidden.0.2.weight\", \"flows.34.theta.hidden.0.2.bias\", \"flows.34.theta.hidden.1.0.weight\", \"flows.34.theta.hidden.1.0.bias\", \"flows.34.theta.hidden.1.2.weight\", \"flows.34.theta.hidden.1.2.bias\", \"flows.34.theta.hidden.2.0.weight\", \"flows.34.theta.hidden.2.0.bias\", \"flows.34.theta.hidden.2.2.weight\", \"flows.34.theta.hidden.2.2.bias\", \"flows.34.theta.hidden.3.0.weight\", \"flows.34.theta.hidden.3.0.bias\", \"flows.34.theta.hidden.3.2.weight\", \"flows.34.theta.hidden.3.2.bias\", \"flows.34.theta.hidden.4.0.weight\", \"flows.34.theta.hidden.4.0.bias\", \"flows.34.theta.hidden.4.2.weight\", \"flows.34.theta.hidden.4.2.bias\", \"flows.34.theta.hidden.5.0.weight\", \"flows.34.theta.hidden.5.0.bias\", \"flows.34.theta.hidden.5.2.weight\", \"flows.34.theta.hidden.5.2.bias\", \"flows.34.theta.hidden.6.0.weight\", \"flows.34.theta.hidden.6.0.bias\", \"flows.34.theta.hidden.6.2.weight\", \"flows.34.theta.hidden.6.2.bias\", \"flows.34.theta.hidden.7.0.weight\", \"flows.34.theta.hidden.7.0.bias\", \"flows.34.theta.hidden.7.2.weight\", \"flows.34.theta.hidden.7.2.bias\", \"flows.34.theta.hidden.8.0.weight\", \"flows.34.theta.hidden.8.0.bias\", \"flows.34.theta.hidden.8.2.weight\", \"flows.34.theta.hidden.8.2.bias\", \"flows.34.theta.hidden.9.0.weight\", \"flows.34.theta.hidden.9.0.bias\", \"flows.34.theta.hidden.9.2.weight\", \"flows.34.theta.hidden.9.2.bias\", \"flows.34.theta.hidden.10.0.weight\", \"flows.34.theta.hidden.10.0.bias\", \"flows.34.theta.hidden.10.2.weight\", \"flows.34.theta.hidden.10.2.bias\", \"flows.34.theta.hidden.11.0.weight\", \"flows.34.theta.hidden.11.0.bias\", \"flows.34.theta.hidden.11.2.weight\", \"flows.34.theta.hidden.11.2.bias\", \"flows.34.theta.dims.weight\", \"flows.34.theta.dims.bias\", \"flows.35.theta.input.weight\", \"flows.35.theta.input.bias\", \"flows.35.theta.hidden.0.0.weight\", \"flows.35.theta.hidden.0.0.bias\", \"flows.35.theta.hidden.0.2.weight\", \"flows.35.theta.hidden.0.2.bias\", \"flows.35.theta.hidden.1.0.weight\", \"flows.35.theta.hidden.1.0.bias\", \"flows.35.theta.hidden.1.2.weight\", \"flows.35.theta.hidden.1.2.bias\", \"flows.35.theta.hidden.2.0.weight\", \"flows.35.theta.hidden.2.0.bias\", \"flows.35.theta.hidden.2.2.weight\", \"flows.35.theta.hidden.2.2.bias\", \"flows.35.theta.hidden.3.0.weight\", \"flows.35.theta.hidden.3.0.bias\", \"flows.35.theta.hidden.3.2.weight\", \"flows.35.theta.hidden.3.2.bias\", \"flows.35.theta.hidden.4.0.weight\", \"flows.35.theta.hidden.4.0.bias\", \"flows.35.theta.hidden.4.2.weight\", \"flows.35.theta.hidden.4.2.bias\", \"flows.35.theta.hidden.5.0.weight\", \"flows.35.theta.hidden.5.0.bias\", \"flows.35.theta.hidden.5.2.weight\", \"flows.35.theta.hidden.5.2.bias\", \"flows.35.theta.hidden.6.0.weight\", \"flows.35.theta.hidden.6.0.bias\", \"flows.35.theta.hidden.6.2.weight\", \"flows.35.theta.hidden.6.2.bias\", \"flows.35.theta.hidden.7.0.weight\", \"flows.35.theta.hidden.7.0.bias\", \"flows.35.theta.hidden.7.2.weight\", \"flows.35.theta.hidden.7.2.bias\", \"flows.35.theta.hidden.8.0.weight\", \"flows.35.theta.hidden.8.0.bias\", \"flows.35.theta.hidden.8.2.weight\", \"flows.35.theta.hidden.8.2.bias\", \"flows.35.theta.hidden.9.0.weight\", \"flows.35.theta.hidden.9.0.bias\", \"flows.35.theta.hidden.9.2.weight\", \"flows.35.theta.hidden.9.2.bias\", \"flows.35.theta.hidden.10.0.weight\", \"flows.35.theta.hidden.10.0.bias\", \"flows.35.theta.hidden.10.2.weight\", \"flows.35.theta.hidden.10.2.bias\", \"flows.35.theta.hidden.11.0.weight\", \"flows.35.theta.hidden.11.0.bias\", \"flows.35.theta.hidden.11.2.weight\", \"flows.35.theta.hidden.11.2.bias\", \"flows.35.theta.dims.weight\", \"flows.35.theta.dims.bias\", \"flows.36.theta.input.weight\", \"flows.36.theta.input.bias\", \"flows.36.theta.hidden.0.0.weight\", \"flows.36.theta.hidden.0.0.bias\", \"flows.36.theta.hidden.0.2.weight\", \"flows.36.theta.hidden.0.2.bias\", \"flows.36.theta.hidden.1.0.weight\", \"flows.36.theta.hidden.1.0.bias\", \"flows.36.theta.hidden.1.2.weight\", \"flows.36.theta.hidden.1.2.bias\", \"flows.36.theta.hidden.2.0.weight\", \"flows.36.theta.hidden.2.0.bias\", \"flows.36.theta.hidden.2.2.weight\", \"flows.36.theta.hidden.2.2.bias\", \"flows.36.theta.hidden.3.0.weight\", \"flows.36.theta.hidden.3.0.bias\", \"flows.36.theta.hidden.3.2.weight\", \"flows.36.theta.hidden.3.2.bias\", \"flows.36.theta.hidden.4.0.weight\", \"flows.36.theta.hidden.4.0.bias\", \"flows.36.theta.hidden.4.2.weight\", \"flows.36.theta.hidden.4.2.bias\", \"flows.36.theta.hidden.5.0.weight\", \"flows.36.theta.hidden.5.0.bias\", \"flows.36.theta.hidden.5.2.weight\", \"flows.36.theta.hidden.5.2.bias\", \"flows.36.theta.hidden.6.0.weight\", \"flows.36.theta.hidden.6.0.bias\", \"flows.36.theta.hidden.6.2.weight\", \"flows.36.theta.hidden.6.2.bias\", \"flows.36.theta.hidden.7.0.weight\", \"flows.36.theta.hidden.7.0.bias\", \"flows.36.theta.hidden.7.2.weight\", \"flows.36.theta.hidden.7.2.bias\", \"flows.36.theta.hidden.8.0.weight\", \"flows.36.theta.hidden.8.0.bias\", \"flows.36.theta.hidden.8.2.weight\", \"flows.36.theta.hidden.8.2.bias\", \"flows.36.theta.hidden.9.0.weight\", \"flows.36.theta.hidden.9.0.bias\", \"flows.36.theta.hidden.9.2.weight\", \"flows.36.theta.hidden.9.2.bias\", \"flows.36.theta.hidden.10.0.weight\", \"flows.36.theta.hidden.10.0.bias\", \"flows.36.theta.hidden.10.2.weight\", \"flows.36.theta.hidden.10.2.bias\", \"flows.36.theta.hidden.11.0.weight\", \"flows.36.theta.hidden.11.0.bias\", \"flows.36.theta.hidden.11.2.weight\", \"flows.36.theta.hidden.11.2.bias\", \"flows.36.theta.dims.weight\", \"flows.36.theta.dims.bias\", \"flows.37.theta.input.weight\", \"flows.37.theta.input.bias\", \"flows.37.theta.hidden.0.0.weight\", \"flows.37.theta.hidden.0.0.bias\", \"flows.37.theta.hidden.0.2.weight\", \"flows.37.theta.hidden.0.2.bias\", \"flows.37.theta.hidden.1.0.weight\", \"flows.37.theta.hidden.1.0.bias\", \"flows.37.theta.hidden.1.2.weight\", \"flows.37.theta.hidden.1.2.bias\", \"flows.37.theta.hidden.2.0.weight\", \"flows.37.theta.hidden.2.0.bias\", \"flows.37.theta.hidden.2.2.weight\", \"flows.37.theta.hidden.2.2.bias\", \"flows.37.theta.hidden.3.0.weight\", \"flows.37.theta.hidden.3.0.bias\", \"flows.37.theta.hidden.3.2.weight\", \"flows.37.theta.hidden.3.2.bias\", \"flows.37.theta.hidden.4.0.weight\", \"flows.37.theta.hidden.4.0.bias\", \"flows.37.theta.hidden.4.2.weight\", \"flows.37.theta.hidden.4.2.bias\", \"flows.37.theta.hidden.5.0.weight\", \"flows.37.theta.hidden.5.0.bias\", \"flows.37.theta.hidden.5.2.weight\", \"flows.37.theta.hidden.5.2.bias\", \"flows.37.theta.hidden.6.0.weight\", \"flows.37.theta.hidden.6.0.bias\", \"flows.37.theta.hidden.6.2.weight\", \"flows.37.theta.hidden.6.2.bias\", \"flows.37.theta.hidden.7.0.weight\", \"flows.37.theta.hidden.7.0.bias\", \"flows.37.theta.hidden.7.2.weight\", \"flows.37.theta.hidden.7.2.bias\", \"flows.37.theta.hidden.8.0.weight\", \"flows.37.theta.hidden.8.0.bias\", \"flows.37.theta.hidden.8.2.weight\", \"flows.37.theta.hidden.8.2.bias\", \"flows.37.theta.hidden.9.0.weight\", \"flows.37.theta.hidden.9.0.bias\", \"flows.37.theta.hidden.9.2.weight\", \"flows.37.theta.hidden.9.2.bias\", \"flows.37.theta.hidden.10.0.weight\", \"flows.37.theta.hidden.10.0.bias\", \"flows.37.theta.hidden.10.2.weight\", \"flows.37.theta.hidden.10.2.bias\", \"flows.37.theta.hidden.11.0.weight\", \"flows.37.theta.hidden.11.0.bias\", \"flows.37.theta.hidden.11.2.weight\", \"flows.37.theta.hidden.11.2.bias\", \"flows.37.theta.dims.weight\", \"flows.37.theta.dims.bias\", \"flows.38.theta.input.weight\", \"flows.38.theta.input.bias\", \"flows.38.theta.hidden.0.0.weight\", \"flows.38.theta.hidden.0.0.bias\", \"flows.38.theta.hidden.0.2.weight\", \"flows.38.theta.hidden.0.2.bias\", \"flows.38.theta.hidden.1.0.weight\", \"flows.38.theta.hidden.1.0.bias\", \"flows.38.theta.hidden.1.2.weight\", \"flows.38.theta.hidden.1.2.bias\", \"flows.38.theta.hidden.2.0.weight\", \"flows.38.theta.hidden.2.0.bias\", \"flows.38.theta.hidden.2.2.weight\", \"flows.38.theta.hidden.2.2.bias\", \"flows.38.theta.hidden.3.0.weight\", \"flows.38.theta.hidden.3.0.bias\", \"flows.38.theta.hidden.3.2.weight\", \"flows.38.theta.hidden.3.2.bias\", \"flows.38.theta.hidden.4.0.weight\", \"flows.38.theta.hidden.4.0.bias\", \"flows.38.theta.hidden.4.2.weight\", \"flows.38.theta.hidden.4.2.bias\", \"flows.38.theta.hidden.5.0.weight\", \"flows.38.theta.hidden.5.0.bias\", \"flows.38.theta.hidden.5.2.weight\", \"flows.38.theta.hidden.5.2.bias\", \"flows.38.theta.hidden.6.0.weight\", \"flows.38.theta.hidden.6.0.bias\", \"flows.38.theta.hidden.6.2.weight\", \"flows.38.theta.hidden.6.2.bias\", \"flows.38.theta.hidden.7.0.weight\", \"flows.38.theta.hidden.7.0.bias\", \"flows.38.theta.hidden.7.2.weight\", \"flows.38.theta.hidden.7.2.bias\", \"flows.38.theta.hidden.8.0.weight\", \"flows.38.theta.hidden.8.0.bias\", \"flows.38.theta.hidden.8.2.weight\", \"flows.38.theta.hidden.8.2.bias\", \"flows.38.theta.hidden.9.0.weight\", \"flows.38.theta.hidden.9.0.bias\", \"flows.38.theta.hidden.9.2.weight\", \"flows.38.theta.hidden.9.2.bias\", \"flows.38.theta.hidden.10.0.weight\", \"flows.38.theta.hidden.10.0.bias\", \"flows.38.theta.hidden.10.2.weight\", \"flows.38.theta.hidden.10.2.bias\", \"flows.38.theta.hidden.11.0.weight\", \"flows.38.theta.hidden.11.0.bias\", \"flows.38.theta.hidden.11.2.weight\", \"flows.38.theta.hidden.11.2.bias\", \"flows.38.theta.dims.weight\", \"flows.38.theta.dims.bias\", \"flows.39.theta.input.weight\", \"flows.39.theta.input.bias\", \"flows.39.theta.hidden.0.0.weight\", \"flows.39.theta.hidden.0.0.bias\", \"flows.39.theta.hidden.0.2.weight\", \"flows.39.theta.hidden.0.2.bias\", \"flows.39.theta.hidden.1.0.weight\", \"flows.39.theta.hidden.1.0.bias\", \"flows.39.theta.hidden.1.2.weight\", \"flows.39.theta.hidden.1.2.bias\", \"flows.39.theta.hidden.2.0.weight\", \"flows.39.theta.hidden.2.0.bias\", \"flows.39.theta.hidden.2.2.weight\", \"flows.39.theta.hidden.2.2.bias\", \"flows.39.theta.hidden.3.0.weight\", \"flows.39.theta.hidden.3.0.bias\", \"flows.39.theta.hidden.3.2.weight\", \"flows.39.theta.hidden.3.2.bias\", \"flows.39.theta.hidden.4.0.weight\", \"flows.39.theta.hidden.4.0.bias\", \"flows.39.theta.hidden.4.2.weight\", \"flows.39.theta.hidden.4.2.bias\", \"flows.39.theta.hidden.5.0.weight\", \"flows.39.theta.hidden.5.0.bias\", \"flows.39.theta.hidden.5.2.weight\", \"flows.39.theta.hidden.5.2.bias\", \"flows.39.theta.hidden.6.0.weight\", \"flows.39.theta.hidden.6.0.bias\", \"flows.39.theta.hidden.6.2.weight\", \"flows.39.theta.hidden.6.2.bias\", \"flows.39.theta.hidden.7.0.weight\", \"flows.39.theta.hidden.7.0.bias\", \"flows.39.theta.hidden.7.2.weight\", \"flows.39.theta.hidden.7.2.bias\", \"flows.39.theta.hidden.8.0.weight\", \"flows.39.theta.hidden.8.0.bias\", \"flows.39.theta.hidden.8.2.weight\", \"flows.39.theta.hidden.8.2.bias\", \"flows.39.theta.hidden.9.0.weight\", \"flows.39.theta.hidden.9.0.bias\", \"flows.39.theta.hidden.9.2.weight\", \"flows.39.theta.hidden.9.2.bias\", \"flows.39.theta.hidden.10.0.weight\", \"flows.39.theta.hidden.10.0.bias\", \"flows.39.theta.hidden.10.2.weight\", \"flows.39.theta.hidden.10.2.bias\", \"flows.39.theta.hidden.11.0.weight\", \"flows.39.theta.hidden.11.0.bias\", \"flows.39.theta.hidden.11.2.weight\", \"flows.39.theta.hidden.11.2.bias\", \"flows.39.theta.dims.weight\", \"flows.39.theta.dims.bias\", \"flows.40.theta.input.weight\", \"flows.40.theta.input.bias\", \"flows.40.theta.hidden.0.0.weight\", \"flows.40.theta.hidden.0.0.bias\", \"flows.40.theta.hidden.0.2.weight\", \"flows.40.theta.hidden.0.2.bias\", \"flows.40.theta.hidden.1.0.weight\", \"flows.40.theta.hidden.1.0.bias\", \"flows.40.theta.hidden.1.2.weight\", \"flows.40.theta.hidden.1.2.bias\", \"flows.40.theta.hidden.2.0.weight\", \"flows.40.theta.hidden.2.0.bias\", \"flows.40.theta.hidden.2.2.weight\", \"flows.40.theta.hidden.2.2.bias\", \"flows.40.theta.hidden.3.0.weight\", \"flows.40.theta.hidden.3.0.bias\", \"flows.40.theta.hidden.3.2.weight\", \"flows.40.theta.hidden.3.2.bias\", \"flows.40.theta.hidden.4.0.weight\", \"flows.40.theta.hidden.4.0.bias\", \"flows.40.theta.hidden.4.2.weight\", \"flows.40.theta.hidden.4.2.bias\", \"flows.40.theta.hidden.5.0.weight\", \"flows.40.theta.hidden.5.0.bias\", \"flows.40.theta.hidden.5.2.weight\", \"flows.40.theta.hidden.5.2.bias\", \"flows.40.theta.hidden.6.0.weight\", \"flows.40.theta.hidden.6.0.bias\", \"flows.40.theta.hidden.6.2.weight\", \"flows.40.theta.hidden.6.2.bias\", \"flows.40.theta.hidden.7.0.weight\", \"flows.40.theta.hidden.7.0.bias\", \"flows.40.theta.hidden.7.2.weight\", \"flows.40.theta.hidden.7.2.bias\", \"flows.40.theta.hidden.8.0.weight\", \"flows.40.theta.hidden.8.0.bias\", \"flows.40.theta.hidden.8.2.weight\", \"flows.40.theta.hidden.8.2.bias\", \"flows.40.theta.hidden.9.0.weight\", \"flows.40.theta.hidden.9.0.bias\", \"flows.40.theta.hidden.9.2.weight\", \"flows.40.theta.hidden.9.2.bias\", \"flows.40.theta.hidden.10.0.weight\", \"flows.40.theta.hidden.10.0.bias\", \"flows.40.theta.hidden.10.2.weight\", \"flows.40.theta.hidden.10.2.bias\", \"flows.40.theta.hidden.11.0.weight\", \"flows.40.theta.hidden.11.0.bias\", \"flows.40.theta.hidden.11.2.weight\", \"flows.40.theta.hidden.11.2.bias\", \"flows.40.theta.dims.weight\", \"flows.40.theta.dims.bias\", \"flows.41.weight\". \n\tUnexpected key(s) in state_dict: \"flows.14.theta.input.weight\", \"flows.14.theta.input.bias\", \"flows.14.theta.hidden.0.0.weight\", \"flows.14.theta.hidden.0.0.bias\", \"flows.14.theta.hidden.0.2.weight\", \"flows.14.theta.hidden.0.2.bias\", \"flows.14.theta.hidden.1.0.weight\", \"flows.14.theta.hidden.1.0.bias\", \"flows.14.theta.hidden.1.2.weight\", \"flows.14.theta.hidden.1.2.bias\", \"flows.14.theta.hidden.2.0.weight\", \"flows.14.theta.hidden.2.0.bias\", \"flows.14.theta.hidden.2.2.weight\", \"flows.14.theta.hidden.2.2.bias\", \"flows.14.theta.hidden.3.0.weight\", \"flows.14.theta.hidden.3.0.bias\", \"flows.14.theta.hidden.3.2.weight\", \"flows.14.theta.hidden.3.2.bias\", \"flows.14.theta.hidden.4.0.weight\", \"flows.14.theta.hidden.4.0.bias\", \"flows.14.theta.hidden.4.2.weight\", \"flows.14.theta.hidden.4.2.bias\", \"flows.14.theta.hidden.5.0.weight\", \"flows.14.theta.hidden.5.0.bias\", \"flows.14.theta.hidden.5.2.weight\", \"flows.14.theta.hidden.5.2.bias\", \"flows.14.theta.hidden.6.0.weight\", \"flows.14.theta.hidden.6.0.bias\", \"flows.14.theta.hidden.6.2.weight\", \"flows.14.theta.hidden.6.2.bias\", \"flows.14.theta.hidden.7.0.weight\", \"flows.14.theta.hidden.7.0.bias\", \"flows.14.theta.hidden.7.2.weight\", \"flows.14.theta.hidden.7.2.bias\", \"flows.14.theta.hidden.8.0.weight\", \"flows.14.theta.hidden.8.0.bias\", \"flows.14.theta.hidden.8.2.weight\", \"flows.14.theta.hidden.8.2.bias\", \"flows.14.theta.hidden.9.0.weight\", \"flows.14.theta.hidden.9.0.bias\", \"flows.14.theta.hidden.9.2.weight\", \"flows.14.theta.hidden.9.2.bias\", \"flows.14.theta.hidden.10.0.weight\", \"flows.14.theta.hidden.10.0.bias\", \"flows.14.theta.hidden.10.2.weight\", \"flows.14.theta.hidden.10.2.bias\", \"flows.14.theta.hidden.11.0.weight\", \"flows.14.theta.hidden.11.0.bias\", \"flows.14.theta.hidden.11.2.weight\", \"flows.14.theta.hidden.11.2.bias\", \"flows.14.theta.dims.weight\", \"flows.14.theta.dims.bias\", \"flows.16.theta.input.weight\", \"flows.16.theta.input.bias\", \"flows.16.theta.hidden.0.0.weight\", \"flows.16.theta.hidden.0.0.bias\", \"flows.16.theta.hidden.0.2.weight\", \"flows.16.theta.hidden.0.2.bias\", \"flows.16.theta.hidden.1.0.weight\", \"flows.16.theta.hidden.1.0.bias\", \"flows.16.theta.hidden.1.2.weight\", \"flows.16.theta.hidden.1.2.bias\", \"flows.16.theta.hidden.2.0.weight\", \"flows.16.theta.hidden.2.0.bias\", \"flows.16.theta.hidden.2.2.weight\", \"flows.16.theta.hidden.2.2.bias\", \"flows.16.theta.hidden.3.0.weight\", \"flows.16.theta.hidden.3.0.bias\", \"flows.16.theta.hidden.3.2.weight\", \"flows.16.theta.hidden.3.2.bias\", \"flows.16.theta.hidden.4.0.weight\", \"flows.16.theta.hidden.4.0.bias\", \"flows.16.theta.hidden.4.2.weight\", \"flows.16.theta.hidden.4.2.bias\", \"flows.16.theta.hidden.5.0.weight\", \"flows.16.theta.hidden.5.0.bias\", \"flows.16.theta.hidden.5.2.weight\", \"flows.16.theta.hidden.5.2.bias\", \"flows.16.theta.hidden.6.0.weight\", \"flows.16.theta.hidden.6.0.bias\", \"flows.16.theta.hidden.6.2.weight\", \"flows.16.theta.hidden.6.2.bias\", \"flows.16.theta.hidden.7.0.weight\", \"flows.16.theta.hidden.7.0.bias\", \"flows.16.theta.hidden.7.2.weight\", \"flows.16.theta.hidden.7.2.bias\", \"flows.16.theta.hidden.8.0.weight\", \"flows.16.theta.hidden.8.0.bias\", \"flows.16.theta.hidden.8.2.weight\", \"flows.16.theta.hidden.8.2.bias\", \"flows.16.theta.hidden.9.0.weight\", \"flows.16.theta.hidden.9.0.bias\", \"flows.16.theta.hidden.9.2.weight\", \"flows.16.theta.hidden.9.2.bias\", \"flows.16.theta.hidden.10.0.weight\", \"flows.16.theta.hidden.10.0.bias\", \"flows.16.theta.hidden.10.2.weight\", \"flows.16.theta.hidden.10.2.bias\", \"flows.16.theta.hidden.11.0.weight\", \"flows.16.theta.hidden.11.0.bias\", \"flows.16.theta.hidden.11.2.weight\", \"flows.16.theta.hidden.11.2.bias\", \"flows.16.theta.dims.weight\", \"flows.16.theta.dims.bias\", \"flows.18.theta.input.weight\", \"flows.18.theta.input.bias\", \"flows.18.theta.hidden.0.0.weight\", \"flows.18.theta.hidden.0.0.bias\", \"flows.18.theta.hidden.0.2.weight\", \"flows.18.theta.hidden.0.2.bias\", \"flows.18.theta.hidden.1.0.weight\", \"flows.18.theta.hidden.1.0.bias\", \"flows.18.theta.hidden.1.2.weight\", \"flows.18.theta.hidden.1.2.bias\", \"flows.18.theta.hidden.2.0.weight\", \"flows.18.theta.hidden.2.0.bias\", \"flows.18.theta.hidden.2.2.weight\", \"flows.18.theta.hidden.2.2.bias\", \"flows.18.theta.hidden.3.0.weight\", \"flows.18.theta.hidden.3.0.bias\", \"flows.18.theta.hidden.3.2.weight\", \"flows.18.theta.hidden.3.2.bias\", \"flows.18.theta.hidden.4.0.weight\", \"flows.18.theta.hidden.4.0.bias\", \"flows.18.theta.hidden.4.2.weight\", \"flows.18.theta.hidden.4.2.bias\", \"flows.18.theta.hidden.5.0.weight\", \"flows.18.theta.hidden.5.0.bias\", \"flows.18.theta.hidden.5.2.weight\", \"flows.18.theta.hidden.5.2.bias\", \"flows.18.theta.hidden.6.0.weight\", \"flows.18.theta.hidden.6.0.bias\", \"flows.18.theta.hidden.6.2.weight\", \"flows.18.theta.hidden.6.2.bias\", \"flows.18.theta.hidden.7.0.weight\", \"flows.18.theta.hidden.7.0.bias\", \"flows.18.theta.hidden.7.2.weight\", \"flows.18.theta.hidden.7.2.bias\", \"flows.18.theta.hidden.8.0.weight\", \"flows.18.theta.hidden.8.0.bias\", \"flows.18.theta.hidden.8.2.weight\", \"flows.18.theta.hidden.8.2.bias\", \"flows.18.theta.hidden.9.0.weight\", \"flows.18.theta.hidden.9.0.bias\", \"flows.18.theta.hidden.9.2.weight\", \"flows.18.theta.hidden.9.2.bias\", \"flows.18.theta.hidden.10.0.weight\", \"flows.18.theta.hidden.10.0.bias\", \"flows.18.theta.hidden.10.2.weight\", \"flows.18.theta.hidden.10.2.bias\", \"flows.18.theta.hidden.11.0.weight\", \"flows.18.theta.hidden.11.0.bias\", \"flows.18.theta.hidden.11.2.weight\", \"flows.18.theta.hidden.11.2.bias\", \"flows.18.theta.dims.weight\", \"flows.18.theta.dims.bias\", \"flows.20.theta.input.weight\", \"flows.20.theta.input.bias\", \"flows.20.theta.hidden.0.0.weight\", \"flows.20.theta.hidden.0.0.bias\", \"flows.20.theta.hidden.0.2.weight\", \"flows.20.theta.hidden.0.2.bias\", \"flows.20.theta.hidden.1.0.weight\", \"flows.20.theta.hidden.1.0.bias\", \"flows.20.theta.hidden.1.2.weight\", \"flows.20.theta.hidden.1.2.bias\", \"flows.20.theta.hidden.2.0.weight\", \"flows.20.theta.hidden.2.0.bias\", \"flows.20.theta.hidden.2.2.weight\", \"flows.20.theta.hidden.2.2.bias\", \"flows.20.theta.hidden.3.0.weight\", \"flows.20.theta.hidden.3.0.bias\", \"flows.20.theta.hidden.3.2.weight\", \"flows.20.theta.hidden.3.2.bias\", \"flows.20.theta.hidden.4.0.weight\", \"flows.20.theta.hidden.4.0.bias\", \"flows.20.theta.hidden.4.2.weight\", \"flows.20.theta.hidden.4.2.bias\", \"flows.20.theta.hidden.5.0.weight\", \"flows.20.theta.hidden.5.0.bias\", \"flows.20.theta.hidden.5.2.weight\", \"flows.20.theta.hidden.5.2.bias\", \"flows.20.theta.hidden.6.0.weight\", \"flows.20.theta.hidden.6.0.bias\", \"flows.20.theta.hidden.6.2.weight\", \"flows.20.theta.hidden.6.2.bias\", \"flows.20.theta.hidden.7.0.weight\", \"flows.20.theta.hidden.7.0.bias\", \"flows.20.theta.hidden.7.2.weight\", \"flows.20.theta.hidden.7.2.bias\", \"flows.20.theta.hidden.8.0.weight\", \"flows.20.theta.hidden.8.0.bias\", \"flows.20.theta.hidden.8.2.weight\", \"flows.20.theta.hidden.8.2.bias\", \"flows.20.theta.hidden.9.0.weight\", \"flows.20.theta.hidden.9.0.bias\", \"flows.20.theta.hidden.9.2.weight\", \"flows.20.theta.hidden.9.2.bias\", \"flows.20.theta.hidden.10.0.weight\", \"flows.20.theta.hidden.10.0.bias\", \"flows.20.theta.hidden.10.2.weight\", \"flows.20.theta.hidden.10.2.bias\", \"flows.20.theta.hidden.11.0.weight\", \"flows.20.theta.hidden.11.0.bias\", \"flows.20.theta.hidden.11.2.weight\", \"flows.20.theta.hidden.11.2.bias\", \"flows.20.theta.dims.weight\", \"flows.20.theta.dims.bias\", \"flows.22.theta.input.weight\", \"flows.22.theta.input.bias\", \"flows.22.theta.hidden.0.0.weight\", \"flows.22.theta.hidden.0.0.bias\", \"flows.22.theta.hidden.0.2.weight\", \"flows.22.theta.hidden.0.2.bias\", \"flows.22.theta.hidden.1.0.weight\", \"flows.22.theta.hidden.1.0.bias\", \"flows.22.theta.hidden.1.2.weight\", \"flows.22.theta.hidden.1.2.bias\", \"flows.22.theta.hidden.2.0.weight\", \"flows.22.theta.hidden.2.0.bias\", \"flows.22.theta.hidden.2.2.weight\", \"flows.22.theta.hidden.2.2.bias\", \"flows.22.theta.hidden.3.0.weight\", \"flows.22.theta.hidden.3.0.bias\", \"flows.22.theta.hidden.3.2.weight\", \"flows.22.theta.hidden.3.2.bias\", \"flows.22.theta.hidden.4.0.weight\", \"flows.22.theta.hidden.4.0.bias\", \"flows.22.theta.hidden.4.2.weight\", \"flows.22.theta.hidden.4.2.bias\", \"flows.22.theta.hidden.5.0.weight\", \"flows.22.theta.hidden.5.0.bias\", \"flows.22.theta.hidden.5.2.weight\", \"flows.22.theta.hidden.5.2.bias\", \"flows.22.theta.hidden.6.0.weight\", \"flows.22.theta.hidden.6.0.bias\", \"flows.22.theta.hidden.6.2.weight\", \"flows.22.theta.hidden.6.2.bias\", \"flows.22.theta.hidden.7.0.weight\", \"flows.22.theta.hidden.7.0.bias\", \"flows.22.theta.hidden.7.2.weight\", \"flows.22.theta.hidden.7.2.bias\", \"flows.22.theta.hidden.8.0.weight\", \"flows.22.theta.hidden.8.0.bias\", \"flows.22.theta.hidden.8.2.weight\", \"flows.22.theta.hidden.8.2.bias\", \"flows.22.theta.hidden.9.0.weight\", \"flows.22.theta.hidden.9.0.bias\", \"flows.22.theta.hidden.9.2.weight\", \"flows.22.theta.hidden.9.2.bias\", \"flows.22.theta.hidden.10.0.weight\", \"flows.22.theta.hidden.10.0.bias\", \"flows.22.theta.hidden.10.2.weight\", \"flows.22.theta.hidden.10.2.bias\", \"flows.22.theta.hidden.11.0.weight\", \"flows.22.theta.hidden.11.0.bias\", \"flows.22.theta.hidden.11.2.weight\", \"flows.22.theta.hidden.11.2.bias\", \"flows.22.theta.dims.weight\", \"flows.22.theta.dims.bias\", \"flows.23.weight\". ",
     "output_type": "error",
     "traceback": [
      "\u001b[0;31m---------------------------------------------------------------------------\u001b[0m",
      "\u001b[0;31mRuntimeError\u001b[0m                              Traceback (most recent call last)",
      "\u001b[0;32m<ipython-input-99-cd6e69fb861a>\u001b[0m in \u001b[0;36m<module>\u001b[0;34m\u001b[0m\n\u001b[1;32m      3\u001b[0m \u001b[0mset_random_seed\u001b[0m\u001b[0;34m(\u001b[0m\u001b[0;36m42\u001b[0m\u001b[0;34m)\u001b[0m\u001b[0;34m\u001b[0m\u001b[0;34m\u001b[0m\u001b[0m\n\u001b[1;32m      4\u001b[0m \u001b[0mnf\u001b[0m\u001b[0;34m=\u001b[0m\u001b[0mNormalizingFlow\u001b[0m\u001b[0;34m(\u001b[0m\u001b[0mlatent\u001b[0m\u001b[0;34m=\u001b[0m\u001b[0mnormal_dist\u001b[0m\u001b[0;34m,\u001b[0m\u001b[0mflows\u001b[0m\u001b[0;34m=\u001b[0m\u001b[0mconfigure_flows\u001b[0m\u001b[0;34m(\u001b[0m\u001b[0;36m24\u001b[0m\u001b[0;34m)\u001b[0m\u001b[0;34m,\u001b[0m\u001b[0mconv_flows\u001b[0m\u001b[0;34m=\u001b[0m\u001b[0mconfigure_conv_flows\u001b[0m\u001b[0;34m(\u001b[0m\u001b[0;36m0\u001b[0m\u001b[0;34m,\u001b[0m\u001b[0mkernel_size\u001b[0m\u001b[0;34m=\u001b[0m\u001b[0;36m16\u001b[0m\u001b[0;34m)\u001b[0m\u001b[0;34m,\u001b[0m\u001b[0mort\u001b[0m\u001b[0;34m=\u001b[0m\u001b[0;32mTrue\u001b[0m\u001b[0;34m)\u001b[0m\u001b[0;34m\u001b[0m\u001b[0;34m\u001b[0m\u001b[0m\n\u001b[0;32m----> 5\u001b[0;31m \u001b[0mnf\u001b[0m\u001b[0;34m.\u001b[0m\u001b[0mload_state_dict\u001b[0m\u001b[0;34m(\u001b[0m\u001b[0mtorch\u001b[0m\u001b[0;34m.\u001b[0m\u001b[0mload\u001b[0m\u001b[0;34m(\u001b[0m\u001b[0;34m'model_weights1.pth'\u001b[0m\u001b[0;34m)\u001b[0m\u001b[0;34m)\u001b[0m\u001b[0;34m\u001b[0m\u001b[0;34m\u001b[0m\u001b[0m\n\u001b[0m\u001b[1;32m      6\u001b[0m \u001b[0mpipeline\u001b[0m\u001b[0;34m=\u001b[0m\u001b[0mPipeline\u001b[0m\u001b[0;34m(\u001b[0m\u001b[0mmodel\u001b[0m\u001b[0;34m=\u001b[0m\u001b[0mnf\u001b[0m\u001b[0;34m,\u001b[0m\u001b[0mcriterion\u001b[0m\u001b[0;34m=\u001b[0m\u001b[0mKL_ur\u001b[0m\u001b[0;34m,\u001b[0m\u001b[0moptimizer_class\u001b[0m\u001b[0;34m=\u001b[0m\u001b[0mtorch\u001b[0m\u001b[0;34m.\u001b[0m\u001b[0moptim\u001b[0m\u001b[0;34m.\u001b[0m\u001b[0mLBFGS\u001b[0m\u001b[0;34m,\u001b[0m\u001b[0moptimizer_kwargs\u001b[0m\u001b[0;34m=\u001b[0m\u001b[0;34m{\u001b[0m\u001b[0;34m\"lr\"\u001b[0m\u001b[0;34m:\u001b[0m \u001b[0;36m0.0001\u001b[0m\u001b[0;34m}\u001b[0m\u001b[0;34m)\u001b[0m\u001b[0;34m\u001b[0m\u001b[0;34m\u001b[0m\u001b[0m\n\u001b[1;32m      7\u001b[0m \u001b[0;34m\u001b[0m\u001b[0m\n",
      "\u001b[0;32m/usr/local/lib/python3.10/dist-packages/torch/nn/modules/module.py\u001b[0m in \u001b[0;36mload_state_dict\u001b[0;34m(self, state_dict, strict)\u001b[0m\n\u001b[1;32m   2039\u001b[0m \u001b[0;34m\u001b[0m\u001b[0m\n\u001b[1;32m   2040\u001b[0m         \u001b[0;32mif\u001b[0m \u001b[0mlen\u001b[0m\u001b[0;34m(\u001b[0m\u001b[0merror_msgs\u001b[0m\u001b[0;34m)\u001b[0m \u001b[0;34m>\u001b[0m \u001b[0;36m0\u001b[0m\u001b[0;34m:\u001b[0m\u001b[0;34m\u001b[0m\u001b[0;34m\u001b[0m\u001b[0m\n\u001b[0;32m-> 2041\u001b[0;31m             raise RuntimeError('Error(s) in loading state_dict for {}:\\n\\t{}'.format(\n\u001b[0m\u001b[1;32m   2042\u001b[0m                                self.__class__.__name__, \"\\n\\t\".join(error_msgs)))\n\u001b[1;32m   2043\u001b[0m         \u001b[0;32mreturn\u001b[0m \u001b[0m_IncompatibleKeys\u001b[0m\u001b[0;34m(\u001b[0m\u001b[0mmissing_keys\u001b[0m\u001b[0;34m,\u001b[0m \u001b[0munexpected_keys\u001b[0m\u001b[0;34m)\u001b[0m\u001b[0;34m\u001b[0m\u001b[0;34m\u001b[0m\u001b[0m\n",
      "\u001b[0;31mRuntimeError\u001b[0m: Error(s) in loading state_dict for NormalizingFlow:\n\tMissing key(s) in state_dict: \"flows.14.weight\", \"flows.16.weight\", \"flows.18.weight\", \"flows.20.weight\", \"flows.22.weight\", \"flows.23.theta.input.weight\", \"flows.23.theta.input.bias\", \"flows.23.theta.hidden.0.0.weight\", \"flows.23.theta.hidden.0.0.bias\", \"flows.23.theta.hidden.0.2.weight\", \"flows.23.theta.hidden.0.2.bias\", \"flows.23.theta.hidden.1.0.weight\", \"flows.23.theta.hidden.1.0.bias\", \"flows.23.theta.hidden.1.2.weight\", \"flows.23.theta.hidden.1.2.bias\", \"flows.23.theta.hidden.2.0.weight\", \"flows.23.theta.hidden.2.0.bias\", \"flows.23.theta.hidden.2.2.weight\", \"flows.23.theta.hidden.2.2.bias\", \"flows.23.theta.hidden.3.0.weight\", \"flows.23.theta.hidden.3.0.bias\", \"flows.23.theta.hidden.3.2.weight\", \"flows.23.theta.hidden.3.2.bias\", \"flows.23.theta.hidden.4.0.weight\", \"flows.23.theta.hidden.4.0.bias\", \"flows.23.theta.hidden.4.2.weight\", \"flows.23.theta.hidden.4.2.bias\", \"flows.23.theta.hidden.5.0.weight\", \"flows.23.theta.hidden.5.0.bias\", \"flows.23.theta.hidden.5.2.weight\", \"flows.23.theta.hidden.5.2.bias\", \"flows.23.theta.hidden.6.0.weight\", \"flows.23.theta.hidden.6.0.bias\", \"flows.23.theta.hidden.6.2.weight\", \"flows.23.theta.hidden.6.2.bias\", \"flows.23.theta.hidden.7.0.weight\", \"flows.23.theta.hidden.7.0.bias\", \"flows.23.theta.hidden.7.2.weight\", \"flows.23.theta.hidden.7.2.bias\", \"flows.23.theta.hidden.8.0.weight\", \"flows.23.theta.hidden.8.0.bias\", \"flows.23.theta.hidden.8.2.weight\", \"flows.23.theta.hidden.8.2.bias\", \"flows.23.theta.hidden.9.0.weight\", \"flows.23.theta.hidden.9.0.bias\", \"flows.23.theta.hidden.9.2.weight\", \"flows.23.theta.hidden.9.2.bias\", \"flows.23.theta.hidden.10.0.weight\", \"flows.23.theta.hidden.10.0.bias\", \"flows.23.theta.hidden.10.2.weight\", \"flows.23.theta.hidden.10.2.bias\", \"flows.23.theta.hidden.11.0.weight\", \"flows.23.theta.hidden.11.0.bias\", \"flows.23.theta.hidden.11.2.weight\", \"flows.23.theta.hidden.11.2.bias\", \"flows.23.theta.dims.weight\", \"flows.23.theta.dims.bias\", \"flows.24.weight\", \"flows.25.theta.input.weight\", \"flows.25.theta.input.bias\", \"flows.25.theta.hidden.0.0.weight\", \"flows.25.theta.hidden.0.0.bias\", \"flows.25.theta.hidden.0.2.weight\", \"flows.25.theta.hidden.0.2.bias\", \"flows.25.theta.hidden.1.0.weight\", \"flows.25.theta.hidden.1.0.bias\", \"flows.25.theta.hidden.1.2.weight\", \"flows.25.theta.hidden.1.2.bias\", \"flows.25.theta.hidden.2.0.weight\", \"flows.25.theta.hidden.2.0.bias\", \"flows.25.theta.hidden.2.2.weight\", \"flows.25.theta.hidden.2.2.bias\", \"flows.25.theta.hidden.3.0.weight\", \"flows.25.theta.hidden.3.0.bias\", \"flows.25.theta.hidden.3.2.weight\", \"flows.25.theta.hidden.3.2.bias\", \"flows.25.theta.hidden.4.0.weight\", \"flows.25.theta.hidden.4.0.bias\", \"flows.25.theta.hidden.4.2.weight\", \"flows.25.theta.hidden.4.2.bias\", \"flows.25.theta.hidden.5.0.weight\", \"flows.25.theta.hidden.5.0.bias\", \"flows.25.theta.hidden.5.2.weight\", \"flows.25.theta.hidden.5.2.bias\", \"flows.25.theta.hidden.6.0.weight\", \"flows.25.theta.hidden.6.0.bias\", \"flows.25.theta.hidden.6.2.weight\", \"flows.25.theta.hidden.6.2.bias\", \"flows.25.theta.hidden.7.0.weight\", \"flows.25.theta.hidden.7.0.bias\", \"flows.25.theta.hidden.7.2.weight\", \"flows.25.theta.hidden.7.2.bias\", \"flows.25.theta.hidden.8.0.weight\", \"flows.25.theta.hidden.8.0.bias\", \"flows.25.theta.hidden.8.2.weight\", \"flows.25.theta.hidden.8.2.bias\", \"flows.25.theta.hidden.9.0.weight\", \"flows.25.theta.hidden.9.0.bias\", \"flows.25.theta.hidden.9.2.weight\", \"flows.25.theta.hidden.9.2.bias\", \"flows.25.theta.hidden.10.0.weight\", \"flows.25.theta.hidden.10.0.bias\", \"flows.25.theta.hidden.10.2.weight\", \"flows.25.theta.hidden.10.2.bias\", \"flows.25.theta.hidden.11.0.weight\", \"flows.25.theta.hidden.11.0.bias\", \"flows.25.theta.hidden.11.2.weight\", \"flows.25.theta.hidden.11.2.bias\", \"flows.25.theta.dims.weight\", \"flows.25.theta.dims.bias\", \"flows.26.theta.input.weight\", \"flows.26.theta.input.bias\", \"flows.26.theta.hidden.0.0.weight\", \"flows.26.theta.hidden.0.0.bias\", \"flows.26.theta.hidden.0.2.weight\", \"flows.26.theta.hidden.0.2.bias\", \"flows.26.theta.hidden.1.0.weight\", \"flows.26.theta.hidden.1.0.bias\", \"flows.26.theta.hidden.1.2.weight\", \"flows.26.theta.hidden.1.2.bias\", \"flows.26.theta.hidden.2.0.weight\", \"flows.26.theta.hidden.2.0.bias\", \"flows.26.theta.hidden.2.2.weight\", \"flows.26.theta.hidden.2.2.bias\", \"flows.26.theta.hidden.3.0.weight\", \"flows.26.theta.hidden.3.0.bias\", \"flows.26.theta.hidden.3.2.weight\", \"flows.26.theta.hidden.3.2.bias\", \"flows.26.theta.hidden.4.0.weight\", \"flows.26.theta.hidden.4.0.bias\", \"flows.26.theta.hidden.4.2.weight\", \"flows.26.theta.hidden.4.2.bias\", \"flows.26.theta.hidden.5.0.weight\", \"flows.26.theta.hidden.5.0.bias\", \"flows.26.theta.hidden.5.2.weight\", \"flows.26.theta.hidden.5.2.bias\", \"flows.26.theta.hidden.6.0.weight\", \"flows.26.theta.hidden.6.0.bias\", \"flows.26.theta.hidden.6.2.weight\", \"flows.26.theta.hidden.6.2.bias\", \"flows.26.theta.hidden.7.0.weight\", \"flows.26.theta.hidden.7.0.bias\", \"flows.26.theta.hidden.7.2.weight\", \"flows.26.theta.hidden.7.2.bias\", \"flows.26.theta.hidden.8.0.weight\", \"flows.26.theta.hidden.8.0.bias\", \"flows.26.theta.hidden.8.2.weight\", \"flows.26.theta.hidden.8.2.bias\", \"flows.26.theta.hidden.9.0.weight\", \"flows.26.theta.hidden.9.0.bias\", \"flows.26.theta.hidden.9.2.weight\", \"flows.26.theta.hidden.9.2.bias\", \"flows.26.theta.hidden.10.0.weight\", \"flows.26.theta.hidden.10.0.bias\", \"flows.26.theta.hidden.10.2.weight\", \"flows.26.theta.hidden.10.2.bias\", \"flows.26.theta.hidden.11.0.weight\", \"flows.26.theta.hidden.11.0.bias\", \"flows.26.theta.hidden.11.2.weight\", \"flows.26.theta.hidden.11.2.bias\", \"flows.26.theta.dims.weight\", \"flows.26.theta.dims.bias\", \"flows.27.theta.input.weight\", \"flows.27.theta.input.bias\", \"flows.27.theta.hidden.0.0.weight\", \"flows.27.theta.hidden.0.0.bias\", \"flows.27.theta.hidden.0.2.weight\", \"flows.27.theta.hidden.0.2.bias\", \"flows.27.theta.hidden.1.0.weight\", \"flows.27.theta.hidden.1.0.bias\", \"flows.27.theta.hidden.1.2.weight\", \"flows.27.theta.hidden.1.2.bias\", \"flows.27.theta.hidden.2.0.weight\", \"flows.27.theta.hidden.2.0.bias\", \"flows.27.theta.hidden.2.2.weight\", \"flows.27.theta.hidden.2.2.bias\", \"flows.27.theta.hidden.3.0.weight\", \"flows.27.theta.hidden.3.0.bias\", \"flows.27.theta.hidden.3.2.weight\", \"flows.27.theta.hidden.3.2.bias\", \"flows.27.theta.hidden.4.0.weight\", \"flows.27.theta.hidden.4.0.bias\", \"flows.27.theta.hidden.4.2.weight\", \"flows.27.theta.hidden.4.2.bias\", \"flows.27.theta.hidden.5.0.weight\", \"flows.27.theta.hidden.5.0.bias\", \"flows.27.theta.hidden.5.2.weight\", \"flows.27.theta.hidden.5.2.bias\", \"flows.27.theta.hidden.6.0.weight\", \"flows.27.theta.hidden.6.0.bias\", \"flows.27.theta.hidden.6.2.weight\", \"flows.27.theta.hidden.6.2.bias\", \"flows.27.theta.hidden.7.0.weight\", \"flows.27.theta.hidden.7.0.bias\", \"flows.27.theta.hidden.7.2.weight\", \"flows.27.theta.hidden.7.2.bias\", \"flows.27.theta.hidden.8.0.weight\", \"flows.27.theta.hidden.8.0.bias\", \"flows.27.theta.hidden.8.2.weight\", \"flows.27.theta.hidden.8.2.bias\", \"flows.27.theta.hidden.9.0.weight\", \"flows.27.theta.hidden.9.0.bias\", \"flows.27.theta.hidden.9.2.weight\", \"flows.27.theta.hidden.9.2.bias\", \"flows.27.theta.hidden.10.0.weight\", \"flows.27.theta.hidden.10.0.bias\", \"flows.27.theta.hidden.10.2.weight\", \"flows.27.theta.hidden.10.2.bias\", \"flows.27.theta.hidden.11.0.weight\", \"flows.27.theta.hidden.11.0.bias\", \"flows.27.theta.hidden.11.2.weight\", \"flows.27.theta.hidden.11.2.bias\", \"flows.27.theta.dims.weight\", \"flows.27.theta.dims.bias\", \"flows.28.theta.input.weight\", \"flows.28.theta.input.bias\", \"flows.28.theta.hidden.0.0.weight\", \"flows.28.theta.hidden.0.0.bias\", \"flows.28.theta.hidden.0.2.weight\", \"flows.28.theta.hidden.0.2.bias\", \"flows.28.theta.hidden.1.0.weight\", \"flows.28.theta.hidden.1.0.bias\", \"flows.28.theta.hidden.1.2.weight\", \"flows.28.theta.hidden.1.2.bias\", \"flows.28.theta.hidden.2.0.weight\", \"flows.28.theta.hidden.2.0.bias\", \"flows.28.theta.hidden.2.2.weight\", \"flows.28.theta.hidden.2.2.bias\", \"flows.28.theta.hidden.3.0.weight\", \"flows.28.theta.hidden.3.0.bias\", \"flows.28.theta.hidden.3.2.weight\", \"flows.28.theta.hidden.3.2.bias\", \"flows.28.theta.hidden.4.0.weight\", \"flows.28.theta.hidden.4.0.bias\", \"flows.28.theta.hidden.4.2.weight\", \"flows.28.theta.hidden.4.2.bias\", \"flows.28.theta.hidden.5.0.weight\", \"flows.28.theta.hidden.5.0.bias\", \"flows.28.theta.hidden.5.2.weight\", \"flows.28.theta.hidden.5.2.bias\", \"flows.28.theta.hidden.6.0.weight\", \"flows.28.theta.hidden.6.0.bias\", \"flows.28.theta.hidden.6.2.weight\", \"flows.28.theta.hidden.6.2.bias\", \"flows.28.theta.hidden.7.0.weight\", \"flows.28.theta.hidden.7.0.bias\", \"flows.28.theta.hidden.7.2.weight\", \"flows.28.theta.hidden.7.2.bias\", \"flows.28.theta.hidden.8.0.weight\", \"flows.28.theta.hidden.8.0.bias\", \"flows.28.theta.hidden.8.2.weight\", \"flows.28.theta.hidden.8.2.bias\", \"flows.28.theta.hidden.9.0.weight\", \"flows.28.theta.hidden.9.0.bias\", \"flows.28.theta.hidden.9.2.weight\", \"flows.28.theta.hidden.9.2.bias\", \"flows.28.theta.hidden.10.0.weight\", \"flows.28.theta.hidden.10.0.bias\", \"flows.28.theta.hidden.10.2.weight\", \"flows.28.theta.hidden.10.2.bias\", \"flows.28.theta.hidden.11.0.weight\", \"flows.28.theta.hidden.11.0.bias\", \"flows.28.theta.hidden.11.2.weight\", \"flows.28.theta.hidden.11.2.bias\", \"flows.28.theta.dims.weight\", \"flows.28.theta.dims.bias\", \"flows.29.theta.input.weight\", \"flows.29.theta.input.bias\", \"flows.29.theta.hidden.0.0.weight\", \"flows.29.theta.hidden.0.0.bias\", \"flows.29.theta.hidden.0.2.weight\", \"flows.29.theta.hidden.0.2.bias\", \"flows.29.theta.hidden.1.0.weight\", \"flows.29.theta.hidden.1.0.bias\", \"flows.29.theta.hidden.1.2.weight\", \"flows.29.theta.hidden.1.2.bias\", \"flows.29.theta.hidden.2.0.weight\", \"flows.29.theta.hidden.2.0.bias\", \"flows.29.theta.hidden.2.2.weight\", \"flows.29.theta.hidden.2.2.bias\", \"flows.29.theta.hidden.3.0.weight\", \"flows.29.theta.hidden.3.0.bias\", \"flows.29.theta.hidden.3.2.weight\", \"flows.29.theta.hidden.3.2.bias\", \"flows.29.theta.hidden.4.0.weight\", \"flows.29.theta.hidden.4.0.bias\", \"flows.29.theta.hidden.4.2.weight\", \"flows.29.theta.hidden.4.2.bias\", \"flows.29.theta.hidden.5.0.weight\", \"flows.29.theta.hidden.5.0.bias\", \"flows.29.theta.hidden.5.2.weight\", \"flows.29.theta.hidden.5.2.bias\", \"flows.29.theta.hidden.6.0.weight\", \"flows.29.theta.hidden.6.0.bias\", \"flows.29.theta.hidden.6.2.weight\", \"flows.29.theta.hidden.6.2.bias\", \"flows.29.theta.hidden.7.0.weight\", \"flows.29.theta.hidden.7.0.bias\", \"flows.29.theta.hidden.7.2.weight\", \"flows.29.theta.hidden.7.2.bias\", \"flows.29.theta.hidden.8.0.weight\", \"flows.29.theta.hidden.8.0.bias\", \"flows.29.theta.hidden.8.2.weight\", \"flows.29.theta.hidden.8.2.bias\", \"flows.29.theta.hidden.9.0.weight\", \"flows.29.theta.hidden.9.0.bias\", \"flows.29.theta.hidden.9.2.weight\", \"flows.29.theta.hidden.9.2.bias\", \"flows.29.theta.hidden.10.0.weight\", \"flows.29.theta.hidden.10.0.bias\", \"flows.29.theta.hidden.10.2.weight\", \"flows.29.theta.hidden.10.2.bias\", \"flows.29.theta.hidden.11.0.weight\", \"flows.29.theta.hidden.11.0.bias\", \"flows.29.theta.hidden.11.2.weight\", \"flows.29.theta.hidden.11.2.bias\", \"flows.29.theta.dims.weight\", \"flows.29.theta.dims.bias\", \"flows.30.theta.input.weight\", \"flows.30.theta.input.bias\", \"flows.30.theta.hidden.0.0.weight\", \"flows.30.theta.hidden.0.0.bias\", \"flows.30.theta.hidden.0.2.weight\", \"flows.30.theta.hidden.0.2.bias\", \"flows.30.theta.hidden.1.0.weight\", \"flows.30.theta.hidden.1.0.bias\", \"flows.30.theta.hidden.1.2.weight\", \"flows.30.theta.hidden.1.2.bias\", \"flows.30.theta.hidden.2.0.weight\", \"flows.30.theta.hidden.2.0.bias\", \"flows.30.theta.hidden.2.2.weight\", \"flows.30.theta.hidden.2.2.bias\", \"flows.30.theta.hidden.3.0.weight\", \"flows.30.theta.hidden.3.0.bias\", \"flows.30.theta.hidden.3.2.weight\", \"flows.30.theta.hidden.3.2.bias\", \"flows.30.theta.hidden.4.0.weight\", \"flows.30.theta.hidden.4.0.bias\", \"flows.30.theta.hidden.4.2.weight\", \"flows.30.theta.hidden.4.2.bias\", \"flows.30.theta.hidden.5.0.weight\", \"flows.30.theta.hidden.5.0.bias\", \"flows.30.theta.hidden.5.2.weight\", \"flows.30.theta.hidden.5.2.bias\", \"flows.30.theta.hidden.6.0.weight\", \"flows.30.theta.hidden.6.0.bias\", \"flows.30.theta.hidden.6.2.weight\", \"flows.30.theta.hidden.6.2.bias\", \"flows.30.theta.hidden.7.0.weight\", \"flows.30.theta.hidden.7.0.bias\", \"flows.30.theta.hidden.7.2.weight\", \"flows.30.theta.hidden.7.2.bias\", \"flows.30.theta.hidden.8.0.weight\", \"flows.30.theta.hidden.8.0.bias\", \"flows.30.theta.hidden.8.2.weight\", \"flows.30.theta.hidden.8.2.bias\", \"flows.30.theta.hidden.9.0.weight\", \"flows.30.theta.hidden.9.0.bias\", \"flows.30.theta.hidden.9.2.weight\", \"flows.30.theta.hidden.9.2.bias\", \"flows.30.theta.hidden.10.0.weight\", \"flows.30.theta.hidden.10.0.bias\", \"flows.30.theta.hidden.10.2.weight\", \"flows.30.theta.hidden.10.2.bias\", \"flows.30.theta.hidden.11.0.weight\", \"flows.30.theta.hidden.11.0.bias\", \"flows.30.theta.hidden.11.2.weight\", \"flows.30.theta.hidden.11.2.bias\", \"flows.30.theta.dims.weight\", \"flows.30.theta.dims.bias\", \"flows.31.theta.input.weight\", \"flows.31.theta.input.bias\", \"flows.31.theta.hidden.0.0.weight\", \"flows.31.theta.hidden.0.0.bias\", \"flows.31.theta.hidden.0.2.weight\", \"flows.31.theta.hidden.0.2.bias\", \"flows.31.theta.hidden.1.0.weight\", \"flows.31.theta.hidden.1.0.bias\", \"flows.31.theta.hidden.1.2.weight\", \"flows.31.theta.hidden.1.2.bias\", \"flows.31.theta.hidden.2.0.weight\", \"flows.31.theta.hidden.2.0.bias\", \"flows.31.theta.hidden.2.2.weight\", \"flows.31.theta.hidden.2.2.bias\", \"flows.31.theta.hidden.3.0.weight\", \"flows.31.theta.hidden.3.0.bias\", \"flows.31.theta.hidden.3.2.weight\", \"flows.31.theta.hidden.3.2.bias\", \"flows.31.theta.hidden.4.0.weight\", \"flows.31.theta.hidden.4.0.bias\", \"flows.31.theta.hidden.4.2.weight\", \"flows.31.theta.hidden.4.2.bias\", \"flows.31.theta.hidden.5.0.weight\", \"flows.31.theta.hidden.5.0.bias\", \"flows.31.theta.hidden.5.2.weight\", \"flows.31.theta.hidden.5.2.bias\", \"flows.31.theta.hidden.6.0.weight\", \"flows.31.theta.hidden.6.0.bias\", \"flows.31.theta.hidden.6.2.weight\", \"flows.31.theta.hidden.6.2.bias\", \"flows.31.theta.hidden.7.0.weight\", \"flows.31.theta.hidden.7.0.bias\", \"flows.31.theta.hidden.7.2.weight\", \"flows.31.theta.hidden.7.2.bias\", \"flows.31.theta.hidden.8.0.weight\", \"flows.31.theta.hidden.8.0.bias\", \"flows.31.theta.hidden.8.2.weight\", \"flows.31.theta.hidden.8.2.bias\", \"flows.31.theta.hidden.9.0.weight\", \"flows.31.theta.hidden.9.0.bias\", \"flows.31.theta.hidden.9.2.weight\", \"flows.31.theta.hidden.9.2.bias\", \"flows.31.theta.hidden.10.0.weight\", \"flows.31.theta.hidden.10.0.bias\", \"flows.31.theta.hidden.10.2.weight\", \"flows.31.theta.hidden.10.2.bias\", \"flows.31.theta.hidden.11.0.weight\", \"flows.31.theta.hidden.11.0.bias\", \"flows.31.theta.hidden.11.2.weight\", \"flows.31.theta.hidden.11.2.bias\", \"flows.31.theta.dims.weight\", \"flows.31.theta.dims.bias\", \"flows.32.theta.input.weight\", \"flows.32.theta.input.bias\", \"flows.32.theta.hidden.0.0.weight\", \"flows.32.theta.hidden.0.0.bias\", \"flows.32.theta.hidden.0.2.weight\", \"flows.32.theta.hidden.0.2.bias\", \"flows.32.theta.hidden.1.0.weight\", \"flows.32.theta.hidden.1.0.bias\", \"flows.32.theta.hidden.1.2.weight\", \"flows.32.theta.hidden.1.2.bias\", \"flows.32.theta.hidden.2.0.weight\", \"flows.32.theta.hidden.2.0.bias\", \"flows.32.theta.hidden.2.2.weight\", \"flows.32.theta.hidden.2.2.bias\", \"flows.32.theta.hidden.3.0.weight\", \"flows.32.theta.hidden.3.0.bias\", \"flows.32.theta.hidden.3.2.weight\", \"flows.32.theta.hidden.3.2.bias\", \"flows.32.theta.hidden.4.0.weight\", \"flows.32.theta.hidden.4.0.bias\", \"flows.32.theta.hidden.4.2.weight\", \"flows.32.theta.hidden.4.2.bias\", \"flows.32.theta.hidden.5.0.weight\", \"flows.32.theta.hidden.5.0.bias\", \"flows.32.theta.hidden.5.2.weight\", \"flows.32.theta.hidden.5.2.bias\", \"flows.32.theta.hidden.6.0.weight\", \"flows.32.theta.hidden.6.0.bias\", \"flows.32.theta.hidden.6.2.weight\", \"flows.32.theta.hidden.6.2.bias\", \"flows.32.theta.hidden.7.0.weight\", \"flows.32.theta.hidden.7.0.bias\", \"flows.32.theta.hidden.7.2.weight\", \"flows.32.theta.hidden.7.2.bias\", \"flows.32.theta.hidden.8.0.weight\", \"flows.32.theta.hidden.8.0.bias\", \"flows.32.theta.hidden.8.2.weight\", \"flows.32.theta.hidden.8.2.bias\", \"flows.32.theta.hidden.9.0.weight\", \"flows.32.theta.hidden.9.0.bias\", \"flows.32.theta.hidden.9.2.weight\", \"flows.32.theta.hidden.9.2.bias\", \"flows.32.theta.hidden.10.0.weight\", \"flows.32.theta.hidden.10.0.bias\", \"flows.32.theta.hidden.10.2.weight\", \"flows.32.theta.hidden.10.2.bias\", \"flows.32.theta.hidden.11.0.weight\", \"flows.32.theta.hidden.11.0.bias\", \"flows.32.theta.hidden.11.2.weight\", \"flows.32.theta.hidden.11.2.bias\", \"flows.32.theta.dims.weight\", \"flows.32.theta.dims.bias\", \"flows.33.theta.input.weight\", \"flows.33.theta.input.bias\", \"flows.33.theta.hidden.0.0.weight\", \"flows.33.theta.hidden.0.0.bias\", \"flows.33.theta.hidden.0.2.weight\", \"flows.33.theta.hidden.0.2.bias\", \"flows.33.theta.hidden.1.0.weight\", \"flows.33.theta.hidden.1.0.bias\", \"flows.33.theta.hidden.1.2.weight\", \"flows.33.theta.hidden.1.2.bias\", \"flows.33.theta.hidden.2.0.weight\", \"flows.33.theta.hidden.2.0.bias\", \"flows.33.theta.hidden.2.2.weight\", \"flows.33.theta.hidden.2.2.bias\", \"flows.33.theta.hidden.3.0.weight\", \"flows.33.theta.hidden.3.0.bias\", \"flows.33.theta.hidden.3.2.weight\", \"flows.33.theta.hidden.3.2.bias\", \"flows.33.theta.hidden.4.0.weight\", \"flows.33.theta.hidden.4.0.bias\", \"flows.33.theta.hidden.4.2.weight\", \"flows.33.theta.hidden.4.2.bias\", \"flows.33.theta.hidden.5.0.weight\", \"flows.33.theta.hidden.5.0.bias\", \"flows.33.theta.hidden.5.2.weight\", \"flows.33.theta.hidden.5.2.bias\", \"flows.33.theta.hidden.6.0.weight\", \"flows.33.theta.hidden.6.0.bias\", \"flows.33.theta.hidden.6.2.weight\", \"flows.33.theta.hidden.6.2.bias\", \"flows.33.theta.hidden.7.0.weight\", \"flows.33.theta.hidden.7.0.bias\", \"flows.33.theta.hidden.7.2.weight\", \"flows.33.theta.hidden.7.2.bias\", \"flows.33.theta.hidden.8.0.weight\", \"flows.33.theta.hidden.8.0.bias\", \"flows.33.theta.hidden.8.2.weight\", \"flows.33.theta.hidden.8.2.bias\", \"flows.33.theta.hidden.9.0.weight\", \"flows.33.theta.hidden.9.0.bias\", \"flows.33.theta.hidden.9.2.weight\", \"flows.33.theta.hidden.9.2.bias\", \"flows.33.theta.hidden.10.0.weight\", \"flows.33.theta.hidden.10.0.bias\", \"flows.33.theta.hidden.10.2.weight\", \"flows.33.theta.hidden.10.2.bias\", \"flows.33.theta.hidden.11.0.weight\", \"flows.33.theta.hidden.11.0.bias\", \"flows.33.theta.hidden.11.2.weight\", \"flows.33.theta.hidden.11.2.bias\", \"flows.33.theta.dims.weight\", \"flows.33.theta.dims.bias\", \"flows.34.theta.input.weight\", \"flows.34.theta.input.bias\", \"flows.34.theta.hidden.0.0.weight\", \"flows.34.theta.hidden.0.0.bias\", \"flows.34.theta.hidden.0.2.weight\", \"flows.34.theta.hidden.0.2.bias\", \"flows.34.theta.hidden.1.0.weight\", \"flows.34.theta.hidden.1.0.bias\", \"flows.34.theta.hidden.1.2.weight\", \"flows.34.theta.hidden.1.2.bias\", \"flows.34.theta.hidden.2.0.weight\", \"flows.34.theta.hidden.2.0.bias\", \"flows.34.theta.hidden.2.2.weight\", \"flows.34.theta.hidden.2.2.bias\", \"flows.34.theta.hidden.3.0.weight\", \"flows.34.theta.hidden.3.0.bias\", \"flows.34.theta.hidden.3.2.weight\", \"flows.34.theta.hidden.3.2.bias\", \"flows.34.theta.hidden.4.0.weight\", \"flows.34.theta.hidden.4.0.bias\", \"flows.34.theta.hidden.4.2.weight\", \"flows.34.theta.hidden.4.2.bias\", \"flows.34.theta.hidden.5.0.weight\", \"flows.34.theta.hidden.5.0.bias\", \"flows.34.theta.hidden.5.2.weight\", \"flows.34.theta.hidden.5.2.bias\", \"flows.34.theta.hidden.6.0.weight\", \"flows.34.theta.hidden.6.0.bias\", \"flows.34.theta.hidden.6.2.weight\", \"flows.34.theta.hidden.6.2.bias\", \"flows.34.theta.hidden.7.0.weight\", \"flows.34.theta.hidden.7.0.bias\", \"flows.34.theta.hidden.7.2.weight\", \"flows.34.theta.hidden.7.2.bias\", \"flows.34.theta.hidden.8.0.weight\", \"flows.34.theta.hidden.8.0.bias\", \"flows.34.theta.hidden.8.2.weight\", \"flows.34.theta.hidden.8.2.bias\", \"flows.34.theta.hidden.9.0.weight\", \"flows.34.theta.hidden.9.0.bias\", \"flows.34.theta.hidden.9.2.weight\", \"flows.34.theta.hidden.9.2.bias\", \"flows.34.theta.hidden.10.0.weight\", \"flows.34.theta.hidden.10.0.bias\", \"flows.34.theta.hidden.10.2.weight\", \"flows.34.theta.hidden.10.2.bias\", \"flows.34.theta.hidden.11.0.weight\", \"flows.34.theta.hidden.11.0.bias\", \"flows.34.theta.hidden.11.2.weight\", \"flows.34.theta.hidden.11.2.bias\", \"flows.34.theta.dims.weight\", \"flows.34.theta.dims.bias\", \"flows.35.theta.input.weight\", \"flows.35.theta.input.bias\", \"flows.35.theta.hidden.0.0.weight\", \"flows.35.theta.hidden.0.0.bias\", \"flows.35.theta.hidden.0.2.weight\", \"flows.35.theta.hidden.0.2.bias\", \"flows.35.theta.hidden.1.0.weight\", \"flows.35.theta.hidden.1.0.bias\", \"flows.35.theta.hidden.1.2.weight\", \"flows.35.theta.hidden.1.2.bias\", \"flows.35.theta.hidden.2.0.weight\", \"flows.35.theta.hidden.2.0.bias\", \"flows.35.theta.hidden.2.2.weight\", \"flows.35.theta.hidden.2.2.bias\", \"flows.35.theta.hidden.3.0.weight\", \"flows.35.theta.hidden.3.0.bias\", \"flows.35.theta.hidden.3.2.weight\", \"flows.35.theta.hidden.3.2.bias\", \"flows.35.theta.hidden.4.0.weight\", \"flows.35.theta.hidden.4.0.bias\", \"flows.35.theta.hidden.4.2.weight\", \"flows.35.theta.hidden.4.2.bias\", \"flows.35.theta.hidden.5.0.weight\", \"flows.35.theta.hidden.5.0.bias\", \"flows.35.theta.hidden.5.2.weight\", \"flows.35.theta.hidden.5.2.bias\", \"flows.35.theta.hidden.6.0.weight\", \"flows.35.theta.hidden.6.0.bias\", \"flows.35.theta.hidden.6.2.weight\", \"flows.35.theta.hidden.6.2.bias\", \"flows.35.theta.hidden.7.0.weight\", \"flows.35.theta.hidden.7.0.bias\", \"flows.35.theta.hidden.7.2.weight\", \"flows.35.theta.hidden.7.2.bias\", \"flows.35.theta.hidden.8.0.weight\", \"flows.35.theta.hidden.8.0.bias\", \"flows.35.theta.hidden.8.2.weight\", \"flows.35.theta.hidden.8.2.bias\", \"flows.35.theta.hidden.9.0.weight\", \"flows.35.theta.hidden.9.0.bias\", \"flows.35.theta.hidden.9.2.weight\", \"flows.35.theta.hidden.9.2.bias\", \"flows.35.theta.hidden.10.0.weight\", \"flows.35.theta.hidden.10.0.bias\", \"flows.35.theta.hidden.10.2.weight\", \"flows.35.theta.hidden.10.2.bias\", \"flows.35.theta.hidden.11.0.weight\", \"flows.35.theta.hidden.11.0.bias\", \"flows.35.theta.hidden.11.2.weight\", \"flows.35.theta.hidden.11.2.bias\", \"flows.35.theta.dims.weight\", \"flows.35.theta.dims.bias\", \"flows.36.theta.input.weight\", \"flows.36.theta.input.bias\", \"flows.36.theta.hidden.0.0.weight\", \"flows.36.theta.hidden.0.0.bias\", \"flows.36.theta.hidden.0.2.weight\", \"flows.36.theta.hidden.0.2.bias\", \"flows.36.theta.hidden.1.0.weight\", \"flows.36.theta.hidden.1.0.bias\", \"flows.36.theta.hidden.1.2.weight\", \"flows.36.theta.hidden.1.2.bias\", \"flows.36.theta.hidden.2.0.weight\", \"flows.36.theta.hidden.2.0.bias\", \"flows.36.theta.hidden.2.2.weight\", \"flows.36.theta.hidden.2.2.bias\", \"flows.36.theta.hidden.3.0.weight\", \"flows.36.theta.hidden.3.0.bias\", \"flows.36.theta.hidden.3.2.weight\", \"flows.36.theta.hidden.3.2.bias\", \"flows.36.theta.hidden.4.0.weight\", \"flows.36.theta.hidden.4.0.bias\", \"flows.36.theta.hidden.4.2.weight\", \"flows.36.theta.hidden.4.2.bias\", \"flows.36.theta.hidden.5.0.weight\", \"flows.36.theta.hidden.5.0.bias\", \"flows.36.theta.hidden.5.2.weight\", \"flows.36.theta.hidden.5.2.bias\", \"flows.36.theta.hidden.6.0.weight\", \"flows.36.theta.hidden.6.0.bias\", \"flows.36.theta.hidden.6.2.weight\", \"flows.36.theta.hidden.6.2.bias\", \"flows.36.theta.hidden.7.0.weight\", \"flows.36.theta.hidden.7.0.bias\", \"flows.36.theta.hidden.7.2.weight\", \"flows.36.theta.hidden.7.2.bias\", \"flows.36.theta.hidden.8.0.weight\", \"flows.36.theta.hidden.8.0.bias\", \"flows.36.theta.hidden.8.2.weight\", \"flows.36.theta.hidden.8.2.bias\", \"flows.36.theta.hidden.9.0.weight\", \"flows.36.theta.hidden.9.0.bias\", \"flows.36.theta.hidden.9.2.weight\", \"flows.36.theta.hidden.9.2.bias\", \"flows.36.theta.hidden.10.0.weight\", \"flows.36.theta.hidden.10.0.bias\", \"flows.36.theta.hidden.10.2.weight\", \"flows.36.theta.hidden.10.2.bias\", \"flows.36.theta.hidden.11.0.weight\", \"flows.36.theta.hidden.11.0.bias\", \"flows.36.theta.hidden.11.2.weight\", \"flows.36.theta.hidden.11.2.bias\", \"flows.36.theta.dims.weight\", \"flows.36.theta.dims.bias\", \"flows.37.theta.input.weight\", \"flows.37.theta.input.bias\", \"flows.37.theta.hidden.0.0.weight\", \"flows.37.theta.hidden.0.0.bias\", \"flows.37.theta.hidden.0.2.weight\", \"flows.37.theta.hidden.0.2.bias\", \"flows.37.theta.hidden.1.0.weight\", \"flows.37.theta.hidden.1.0.bias\", \"flows.37.theta.hidden.1.2.weight\", \"flows.37.theta.hidden.1.2.bias\", \"flows.37.theta.hidden.2.0.weight\", \"flows.37.theta.hidden.2.0.bias\", \"flows.37.theta.hidden.2.2.weight\", \"flows.37.theta.hidden.2.2.bias\", \"flows.37.theta.hidden.3.0.weight\", \"flows.37.theta.hidden.3.0.bias\", \"flows.37.theta.hidden.3.2.weight\", \"flows.37.theta.hidden.3.2.bias\", \"flows.37.theta.hidden.4.0.weight\", \"flows.37.theta.hidden.4.0.bias\", \"flows.37.theta.hidden.4.2.weight\", \"flows.37.theta.hidden.4.2.bias\", \"flows.37.theta.hidden.5.0.weight\", \"flows.37.theta.hidden.5.0.bias\", \"flows.37.theta.hidden.5.2.weight\", \"flows.37.theta.hidden.5.2.bias\", \"flows.37.theta.hidden.6.0.weight\", \"flows.37.theta.hidden.6.0.bias\", \"flows.37.theta.hidden.6.2.weight\", \"flows.37.theta.hidden.6.2.bias\", \"flows.37.theta.hidden.7.0.weight\", \"flows.37.theta.hidden.7.0.bias\", \"flows.37.theta.hidden.7.2.weight\", \"flows.37.theta.hidden.7.2.bias\", \"flows.37.theta.hidden.8.0.weight\", \"flows.37.theta.hidden.8.0.bias\", \"flows.37.theta.hidden.8.2.weight\", \"flows.37.theta.hidden.8.2.bias\", \"flows.37.theta.hidden.9.0.weight\", \"flows.37.theta.hidden.9.0.bias\", \"flows.37.theta.hidden.9.2.weight\", \"flows.37.theta.hidden.9.2.bias\", \"flows.37.theta.hidden.10.0.weight\", \"flows.37.theta.hidden.10.0.bias\", \"flows.37.theta.hidden.10.2.weight\", \"flows.37.theta.hidden.10.2.bias\", \"flows.37.theta.hidden.11.0.weight\", \"flows.37.theta.hidden.11.0.bias\", \"flows.37.theta.hidden.11.2.weight\", \"flows.37.theta.hidden.11.2.bias\", \"flows.37.theta.dims.weight\", \"flows.37.theta.dims.bias\", \"flows.38.theta.input.weight\", \"flows.38.theta.input.bias\", \"flows.38.theta.hidden.0.0.weight\", \"flows.38.theta.hidden.0.0.bias\", \"flows.38.theta.hidden.0.2.weight\", \"flows.38.theta.hidden.0.2.bias\", \"flows.38.theta.hidden.1.0.weight\", \"flows.38.theta.hidden.1.0.bias\", \"flows.38.theta.hidden.1.2.weight\", \"flows.38.theta.hidden.1.2.bias\", \"flows.38.theta.hidden.2.0.weight\", \"flows.38.theta.hidden.2.0.bias\", \"flows.38.theta.hidden.2.2.weight\", \"flows.38.theta.hidden.2.2.bias\", \"flows.38.theta.hidden.3.0.weight\", \"flows.38.theta.hidden.3.0.bias\", \"flows.38.theta.hidden.3.2.weight\", \"flows.38.theta.hidden.3.2.bias\", \"flows.38.theta.hidden.4.0.weight\", \"flows.38.theta.hidden.4.0.bias\", \"flows.38.theta.hidden.4.2.weight\", \"flows.38.theta.hidden.4.2.bias\", \"flows.38.theta.hidden.5.0.weight\", \"flows.38.theta.hidden.5.0.bias\", \"flows.38.theta.hidden.5.2.weight\", \"flows.38.theta.hidden.5.2.bias\", \"flows.38.theta.hidden.6.0.weight\", \"flows.38.theta.hidden.6.0.bias\", \"flows.38.theta.hidden.6.2.weight\", \"flows.38.theta.hidden.6.2.bias\", \"flows.38.theta.hidden.7.0.weight\", \"flows.38.theta.hidden.7.0.bias\", \"flows.38.theta.hidden.7.2.weight\", \"flows.38.theta.hidden.7.2.bias\", \"flows.38.theta.hidden.8.0.weight\", \"flows.38.theta.hidden.8.0.bias\", \"flows.38.theta.hidden.8.2.weight\", \"flows.38.theta.hidden.8.2.bias\", \"flows.38.theta.hidden.9.0.weight\", \"flows.38.theta.hidden.9.0.bias\", \"flows.38.theta.hidden.9.2.weight\", \"flows.38.theta.hidden.9.2.bias\", \"flows.38.theta.hidden.10.0.weight\", \"flows.38.theta.hidden.10.0.bias\", \"flows.38.theta.hidden.10.2.weight\", \"flows.38.theta.hidden.10.2.bias\", \"flows.38.theta.hidden.11.0.weight\", \"flows.38.theta.hidden.11.0.bias\", \"flows.38.theta.hidden.11.2.weight\", \"flows.38.theta.hidden.11.2.bias\", \"flows.38.theta.dims.weight\", \"flows.38.theta.dims.bias\", \"flows.39.theta.input.weight\", \"flows.39.theta.input.bias\", \"flows.39.theta.hidden.0.0.weight\", \"flows.39.theta.hidden.0.0.bias\", \"flows.39.theta.hidden.0.2.weight\", \"flows.39.theta.hidden.0.2.bias\", \"flows.39.theta.hidden.1.0.weight\", \"flows.39.theta.hidden.1.0.bias\", \"flows.39.theta.hidden.1.2.weight\", \"flows.39.theta.hidden.1.2.bias\", \"flows.39.theta.hidden.2.0.weight\", \"flows.39.theta.hidden.2.0.bias\", \"flows.39.theta.hidden.2.2.weight\", \"flows.39.theta.hidden.2.2.bias\", \"flows.39.theta.hidden.3.0.weight\", \"flows.39.theta.hidden.3.0.bias\", \"flows.39.theta.hidden.3.2.weight\", \"flows.39.theta.hidden.3.2.bias\", \"flows.39.theta.hidden.4.0.weight\", \"flows.39.theta.hidden.4.0.bias\", \"flows.39.theta.hidden.4.2.weight\", \"flows.39.theta.hidden.4.2.bias\", \"flows.39.theta.hidden.5.0.weight\", \"flows.39.theta.hidden.5.0.bias\", \"flows.39.theta.hidden.5.2.weight\", \"flows.39.theta.hidden.5.2.bias\", \"flows.39.theta.hidden.6.0.weight\", \"flows.39.theta.hidden.6.0.bias\", \"flows.39.theta.hidden.6.2.weight\", \"flows.39.theta.hidden.6.2.bias\", \"flows.39.theta.hidden.7.0.weight\", \"flows.39.theta.hidden.7.0.bias\", \"flows.39.theta.hidden.7.2.weight\", \"flows.39.theta.hidden.7.2.bias\", \"flows.39.theta.hidden.8.0.weight\", \"flows.39.theta.hidden.8.0.bias\", \"flows.39.theta.hidden.8.2.weight\", \"flows.39.theta.hidden.8.2.bias\", \"flows.39.theta.hidden.9.0.weight\", \"flows.39.theta.hidden.9.0.bias\", \"flows.39.theta.hidden.9.2.weight\", \"flows.39.theta.hidden.9.2.bias\", \"flows.39.theta.hidden.10.0.weight\", \"flows.39.theta.hidden.10.0.bias\", \"flows.39.theta.hidden.10.2.weight\", \"flows.39.theta.hidden.10.2.bias\", \"flows.39.theta.hidden.11.0.weight\", \"flows.39.theta.hidden.11.0.bias\", \"flows.39.theta.hidden.11.2.weight\", \"flows.39.theta.hidden.11.2.bias\", \"flows.39.theta.dims.weight\", \"flows.39.theta.dims.bias\", \"flows.40.theta.input.weight\", \"flows.40.theta.input.bias\", \"flows.40.theta.hidden.0.0.weight\", \"flows.40.theta.hidden.0.0.bias\", \"flows.40.theta.hidden.0.2.weight\", \"flows.40.theta.hidden.0.2.bias\", \"flows.40.theta.hidden.1.0.weight\", \"flows.40.theta.hidden.1.0.bias\", \"flows.40.theta.hidden.1.2.weight\", \"flows.40.theta.hidden.1.2.bias\", \"flows.40.theta.hidden.2.0.weight\", \"flows.40.theta.hidden.2.0.bias\", \"flows.40.theta.hidden.2.2.weight\", \"flows.40.theta.hidden.2.2.bias\", \"flows.40.theta.hidden.3.0.weight\", \"flows.40.theta.hidden.3.0.bias\", \"flows.40.theta.hidden.3.2.weight\", \"flows.40.theta.hidden.3.2.bias\", \"flows.40.theta.hidden.4.0.weight\", \"flows.40.theta.hidden.4.0.bias\", \"flows.40.theta.hidden.4.2.weight\", \"flows.40.theta.hidden.4.2.bias\", \"flows.40.theta.hidden.5.0.weight\", \"flows.40.theta.hidden.5.0.bias\", \"flows.40.theta.hidden.5.2.weight\", \"flows.40.theta.hidden.5.2.bias\", \"flows.40.theta.hidden.6.0.weight\", \"flows.40.theta.hidden.6.0.bias\", \"flows.40.theta.hidden.6.2.weight\", \"flows.40.theta.hidden.6.2.bias\", \"flows.40.theta.hidden.7.0.weight\", \"flows.40.theta.hidden.7.0.bias\", \"flows.40.theta.hidden.7.2.weight\", \"flows.40.theta.hidden.7.2.bias\", \"flows.40.theta.hidden.8.0.weight\", \"flows.40.theta.hidden.8.0.bias\", \"flows.40.theta.hidden.8.2.weight\", \"flows.40.theta.hidden.8.2.bias\", \"flows.40.theta.hidden.9.0.weight\", \"flows.40.theta.hidden.9.0.bias\", \"flows.40.theta.hidden.9.2.weight\", \"flows.40.theta.hidden.9.2.bias\", \"flows.40.theta.hidden.10.0.weight\", \"flows.40.theta.hidden.10.0.bias\", \"flows.40.theta.hidden.10.2.weight\", \"flows.40.theta.hidden.10.2.bias\", \"flows.40.theta.hidden.11.0.weight\", \"flows.40.theta.hidden.11.0.bias\", \"flows.40.theta.hidden.11.2.weight\", \"flows.40.theta.hidden.11.2.bias\", \"flows.40.theta.dims.weight\", \"flows.40.theta.dims.bias\", \"flows.41.weight\". \n\tUnexpected key(s) in state_dict: \"flows.14.theta.input.weight\", \"flows.14.theta.input.bias\", \"flows.14.theta.hidden.0.0.weight\", \"flows.14.theta.hidden.0.0.bias\", \"flows.14.theta.hidden.0.2.weight\", \"flows.14.theta.hidden.0.2.bias\", \"flows.14.theta.hidden.1.0.weight\", \"flows.14.theta.hidden.1.0.bias\", \"flows.14.theta.hidden.1.2.weight\", \"flows.14.theta.hidden.1.2.bias\", \"flows.14.theta.hidden.2.0.weight\", \"flows.14.theta.hidden.2.0.bias\", \"flows.14.theta.hidden.2.2.weight\", \"flows.14.theta.hidden.2.2.bias\", \"flows.14.theta.hidden.3.0.weight\", \"flows.14.theta.hidden.3.0.bias\", \"flows.14.theta.hidden.3.2.weight\", \"flows.14.theta.hidden.3.2.bias\", \"flows.14.theta.hidden.4.0.weight\", \"flows.14.theta.hidden.4.0.bias\", \"flows.14.theta.hidden.4.2.weight\", \"flows.14.theta.hidden.4.2.bias\", \"flows.14.theta.hidden.5.0.weight\", \"flows.14.theta.hidden.5.0.bias\", \"flows.14.theta.hidden.5.2.weight\", \"flows.14.theta.hidden.5.2.bias\", \"flows.14.theta.hidden.6.0.weight\", \"flows.14.theta.hidden.6.0.bias\", \"flows.14.theta.hidden.6.2.weight\", \"flows.14.theta.hidden.6.2.bias\", \"flows.14.theta.hidden.7.0.weight\", \"flows.14.theta.hidden.7.0.bias\", \"flows.14.theta.hidden.7.2.weight\", \"flows.14.theta.hidden.7.2.bias\", \"flows.14.theta.hidden.8.0.weight\", \"flows.14.theta.hidden.8.0.bias\", \"flows.14.theta.hidden.8.2.weight\", \"flows.14.theta.hidden.8.2.bias\", \"flows.14.theta.hidden.9.0.weight\", \"flows.14.theta.hidden.9.0.bias\", \"flows.14.theta.hidden.9.2.weight\", \"flows.14.theta.hidden.9.2.bias\", \"flows.14.theta.hidden.10.0.weight\", \"flows.14.theta.hidden.10.0.bias\", \"flows.14.theta.hidden.10.2.weight\", \"flows.14.theta.hidden.10.2.bias\", \"flows.14.theta.hidden.11.0.weight\", \"flows.14.theta.hidden.11.0.bias\", \"flows.14.theta.hidden.11.2.weight\", \"flows.14.theta.hidden.11.2.bias\", \"flows.14.theta.dims.weight\", \"flows.14.theta.dims.bias\", \"flows.16.theta.input.weight\", \"flows.16.theta.input.bias\", \"flows.16.theta.hidden.0.0.weight\", \"flows.16.theta.hidden.0.0.bias\", \"flows.16.theta.hidden.0.2.weight\", \"flows.16.theta.hidden.0.2.bias\", \"flows.16.theta.hidden.1.0.weight\", \"flows.16.theta.hidden.1.0.bias\", \"flows.16.theta.hidden.1.2.weight\", \"flows.16.theta.hidden.1.2.bias\", \"flows.16.theta.hidden.2.0.weight\", \"flows.16.theta.hidden.2.0.bias\", \"flows.16.theta.hidden.2.2.weight\", \"flows.16.theta.hidden.2.2.bias\", \"flows.16.theta.hidden.3.0.weight\", \"flows.16.theta.hidden.3.0.bias\", \"flows.16.theta.hidden.3.2.weight\", \"flows.16.theta.hidden.3.2.bias\", \"flows.16.theta.hidden.4.0.weight\", \"flows.16.theta.hidden.4.0.bias\", \"flows.16.theta.hidden.4.2.weight\", \"flows.16.theta.hidden.4.2.bias\", \"flows.16.theta.hidden.5.0.weight\", \"flows.16.theta.hidden.5.0.bias\", \"flows.16.theta.hidden.5.2.weight\", \"flows.16.theta.hidden.5.2.bias\", \"flows.16.theta.hidden.6.0.weight\", \"flows.16.theta.hidden.6.0.bias\", \"flows.16.theta.hidden.6.2.weight\", \"flows.16.theta.hidden.6.2.bias\", \"flows.16.theta.hidden.7.0.weight\", \"flows.16.theta.hidden.7.0.bias\", \"flows.16.theta.hidden.7.2.weight\", \"flows.16.theta.hidden.7.2.bias\", \"flows.16.theta.hidden.8.0.weight\", \"flows.16.theta.hidden.8.0.bias\", \"flows.16.theta.hidden.8.2.weight\", \"flows.16.theta.hidden.8.2.bias\", \"flows.16.theta.hidden.9.0.weight\", \"flows.16.theta.hidden.9.0.bias\", \"flows.16.theta.hidden.9.2.weight\", \"flows.16.theta.hidden.9.2.bias\", \"flows.16.theta.hidden.10.0.weight\", \"flows.16.theta.hidden.10.0.bias\", \"flows.16.theta.hidden.10.2.weight\", \"flows.16.theta.hidden.10.2.bias\", \"flows.16.theta.hidden.11.0.weight\", \"flows.16.theta.hidden.11.0.bias\", \"flows.16.theta.hidden.11.2.weight\", \"flows.16.theta.hidden.11.2.bias\", \"flows.16.theta.dims.weight\", \"flows.16.theta.dims.bias\", \"flows.18.theta.input.weight\", \"flows.18.theta.input.bias\", \"flows.18.theta.hidden.0.0.weight\", \"flows.18.theta.hidden.0.0.bias\", \"flows.18.theta.hidden.0.2.weight\", \"flows.18.theta.hidden.0.2.bias\", \"flows.18.theta.hidden.1.0.weight\", \"flows.18.theta.hidden.1.0.bias\", \"flows.18.theta.hidden.1.2.weight\", \"flows.18.theta.hidden.1.2.bias\", \"flows.18.theta.hidden.2.0.weight\", \"flows.18.theta.hidden.2.0.bias\", \"flows.18.theta.hidden.2.2.weight\", \"flows.18.theta.hidden.2.2.bias\", \"flows.18.theta.hidden.3.0.weight\", \"flows.18.theta.hidden.3.0.bias\", \"flows.18.theta.hidden.3.2.weight\", \"flows.18.theta.hidden.3.2.bias\", \"flows.18.theta.hidden.4.0.weight\", \"flows.18.theta.hidden.4.0.bias\", \"flows.18.theta.hidden.4.2.weight\", \"flows.18.theta.hidden.4.2.bias\", \"flows.18.theta.hidden.5.0.weight\", \"flows.18.theta.hidden.5.0.bias\", \"flows.18.theta.hidden.5.2.weight\", \"flows.18.theta.hidden.5.2.bias\", \"flows.18.theta.hidden.6.0.weight\", \"flows.18.theta.hidden.6.0.bias\", \"flows.18.theta.hidden.6.2.weight\", \"flows.18.theta.hidden.6.2.bias\", \"flows.18.theta.hidden.7.0.weight\", \"flows.18.theta.hidden.7.0.bias\", \"flows.18.theta.hidden.7.2.weight\", \"flows.18.theta.hidden.7.2.bias\", \"flows.18.theta.hidden.8.0.weight\", \"flows.18.theta.hidden.8.0.bias\", \"flows.18.theta.hidden.8.2.weight\", \"flows.18.theta.hidden.8.2.bias\", \"flows.18.theta.hidden.9.0.weight\", \"flows.18.theta.hidden.9.0.bias\", \"flows.18.theta.hidden.9.2.weight\", \"flows.18.theta.hidden.9.2.bias\", \"flows.18.theta.hidden.10.0.weight\", \"flows.18.theta.hidden.10.0.bias\", \"flows.18.theta.hidden.10.2.weight\", \"flows.18.theta.hidden.10.2.bias\", \"flows.18.theta.hidden.11.0.weight\", \"flows.18.theta.hidden.11.0.bias\", \"flows.18.theta.hidden.11.2.weight\", \"flows.18.theta.hidden.11.2.bias\", \"flows.18.theta.dims.weight\", \"flows.18.theta.dims.bias\", \"flows.20.theta.input.weight\", \"flows.20.theta.input.bias\", \"flows.20.theta.hidden.0.0.weight\", \"flows.20.theta.hidden.0.0.bias\", \"flows.20.theta.hidden.0.2.weight\", \"flows.20.theta.hidden.0.2.bias\", \"flows.20.theta.hidden.1.0.weight\", \"flows.20.theta.hidden.1.0.bias\", \"flows.20.theta.hidden.1.2.weight\", \"flows.20.theta.hidden.1.2.bias\", \"flows.20.theta.hidden.2.0.weight\", \"flows.20.theta.hidden.2.0.bias\", \"flows.20.theta.hidden.2.2.weight\", \"flows.20.theta.hidden.2.2.bias\", \"flows.20.theta.hidden.3.0.weight\", \"flows.20.theta.hidden.3.0.bias\", \"flows.20.theta.hidden.3.2.weight\", \"flows.20.theta.hidden.3.2.bias\", \"flows.20.theta.hidden.4.0.weight\", \"flows.20.theta.hidden.4.0.bias\", \"flows.20.theta.hidden.4.2.weight\", \"flows.20.theta.hidden.4.2.bias\", \"flows.20.theta.hidden.5.0.weight\", \"flows.20.theta.hidden.5.0.bias\", \"flows.20.theta.hidden.5.2.weight\", \"flows.20.theta.hidden.5.2.bias\", \"flows.20.theta.hidden.6.0.weight\", \"flows.20.theta.hidden.6.0.bias\", \"flows.20.theta.hidden.6.2.weight\", \"flows.20.theta.hidden.6.2.bias\", \"flows.20.theta.hidden.7.0.weight\", \"flows.20.theta.hidden.7.0.bias\", \"flows.20.theta.hidden.7.2.weight\", \"flows.20.theta.hidden.7.2.bias\", \"flows.20.theta.hidden.8.0.weight\", \"flows.20.theta.hidden.8.0.bias\", \"flows.20.theta.hidden.8.2.weight\", \"flows.20.theta.hidden.8.2.bias\", \"flows.20.theta.hidden.9.0.weight\", \"flows.20.theta.hidden.9.0.bias\", \"flows.20.theta.hidden.9.2.weight\", \"flows.20.theta.hidden.9.2.bias\", \"flows.20.theta.hidden.10.0.weight\", \"flows.20.theta.hidden.10.0.bias\", \"flows.20.theta.hidden.10.2.weight\", \"flows.20.theta.hidden.10.2.bias\", \"flows.20.theta.hidden.11.0.weight\", \"flows.20.theta.hidden.11.0.bias\", \"flows.20.theta.hidden.11.2.weight\", \"flows.20.theta.hidden.11.2.bias\", \"flows.20.theta.dims.weight\", \"flows.20.theta.dims.bias\", \"flows.22.theta.input.weight\", \"flows.22.theta.input.bias\", \"flows.22.theta.hidden.0.0.weight\", \"flows.22.theta.hidden.0.0.bias\", \"flows.22.theta.hidden.0.2.weight\", \"flows.22.theta.hidden.0.2.bias\", \"flows.22.theta.hidden.1.0.weight\", \"flows.22.theta.hidden.1.0.bias\", \"flows.22.theta.hidden.1.2.weight\", \"flows.22.theta.hidden.1.2.bias\", \"flows.22.theta.hidden.2.0.weight\", \"flows.22.theta.hidden.2.0.bias\", \"flows.22.theta.hidden.2.2.weight\", \"flows.22.theta.hidden.2.2.bias\", \"flows.22.theta.hidden.3.0.weight\", \"flows.22.theta.hidden.3.0.bias\", \"flows.22.theta.hidden.3.2.weight\", \"flows.22.theta.hidden.3.2.bias\", \"flows.22.theta.hidden.4.0.weight\", \"flows.22.theta.hidden.4.0.bias\", \"flows.22.theta.hidden.4.2.weight\", \"flows.22.theta.hidden.4.2.bias\", \"flows.22.theta.hidden.5.0.weight\", \"flows.22.theta.hidden.5.0.bias\", \"flows.22.theta.hidden.5.2.weight\", \"flows.22.theta.hidden.5.2.bias\", \"flows.22.theta.hidden.6.0.weight\", \"flows.22.theta.hidden.6.0.bias\", \"flows.22.theta.hidden.6.2.weight\", \"flows.22.theta.hidden.6.2.bias\", \"flows.22.theta.hidden.7.0.weight\", \"flows.22.theta.hidden.7.0.bias\", \"flows.22.theta.hidden.7.2.weight\", \"flows.22.theta.hidden.7.2.bias\", \"flows.22.theta.hidden.8.0.weight\", \"flows.22.theta.hidden.8.0.bias\", \"flows.22.theta.hidden.8.2.weight\", \"flows.22.theta.hidden.8.2.bias\", \"flows.22.theta.hidden.9.0.weight\", \"flows.22.theta.hidden.9.0.bias\", \"flows.22.theta.hidden.9.2.weight\", \"flows.22.theta.hidden.9.2.bias\", \"flows.22.theta.hidden.10.0.weight\", \"flows.22.theta.hidden.10.0.bias\", \"flows.22.theta.hidden.10.2.weight\", \"flows.22.theta.hidden.10.2.bias\", \"flows.22.theta.hidden.11.0.weight\", \"flows.22.theta.hidden.11.0.bias\", \"flows.22.theta.hidden.11.2.weight\", \"flows.22.theta.hidden.11.2.bias\", \"flows.22.theta.dims.weight\", \"flows.22.theta.dims.bias\", \"flows.23.weight\". "
     ]
    }
   ],
   "source": [
    "from Data import train_loader\n",
    "\n",
    "set_random_seed(42)\n",
    "nf=NormalizingFlow(latent=normal_dist,flows=configure_flows(24),conv_flows=configure_conv_flows(0,kernel_size=16),ort=True)\n",
    "nf.load_state_dict(torch.load('model_weights1.pth'))\n",
    "pipeline=Pipeline(model=nf,criterion=KL_ur,optimizer_class=torch.optim.LBFGS,optimizer_kwargs={\"lr\": 0.0001})\n",
    "\n",
    "trainer = pl.Trainer(\n",
    "    max_epochs=20,\n",
    "    logger=TensorBoardLogger(save_dir=f\"logs/nf\"),\n",
    "    num_sanity_val_steps=0,\n",
    "    log_every_n_steps=1,\n",
    "    enable_checkpointing=False,\n",
    "    accumulate_grad_batches=8\n",
    ")\n",
    "\n",
    "trainer.fit(model=pipeline, train_dataloaders=train_loader)\n",
    "torch.save(nf.state_dict(), \"model_weights3.pth\")"
   ]
  },
  {
   "cell_type": "code",
   "execution_count": 139,
   "id": "a808807a",
   "metadata": {
    "execution": {
     "iopub.execute_input": "2024-03-09T18:58:44.760034Z",
     "iopub.status.busy": "2024-03-09T18:58:44.759135Z",
     "iopub.status.idle": "2024-03-09T18:58:44.807949Z",
     "shell.execute_reply": "2024-03-09T18:58:44.806644Z",
     "shell.execute_reply.started": "2024-03-09T18:58:44.759984Z"
    },
    "tags": []
   },
   "outputs": [
    {
     "name": "stdout",
     "output_type": "stream",
     "text": [
      "True\n"
     ]
    }
   ],
   "source": [
    "from Data import normal_dist\n",
    "import numpy as np\n",
    "from NFconstants import N_traj\n",
    "NF_trained=NormalizingFlow(latent=normal_dist,flows=configure_flows(24),conv_flows=configure_conv_flows(0,kernel_size=8),ort=True)\n",
    "NF_trained.load_state_dict(torch.load('model_weights1.pth'))\n",
    "NF_trained.eval()\n",
    "print(NF_trained.ort)\n",
    "trajs=NF_trained.sample(N_traj)\n",
    "#trajs=trajs.numpy()\n",
    "#np.savetxt(\"nf_ensemble.txt\",trajs,delimiter=\",\")"
   ]
  },
  {
   "cell_type": "code",
   "execution_count": 140,
   "id": "fe644a5e-8e4a-4536-bec1-78a391b60f97",
   "metadata": {
    "execution": {
     "iopub.execute_input": "2024-03-09T18:58:46.341964Z",
     "iopub.status.busy": "2024-03-09T18:58:46.341268Z",
     "iopub.status.idle": "2024-03-09T18:58:46.484707Z",
     "shell.execute_reply": "2024-03-09T18:58:46.483288Z",
     "shell.execute_reply.started": "2024-03-09T18:58:46.341927Z"
    },
    "tags": []
   },
   "outputs": [],
   "source": [
    "from NFandist import get_T\n",
    "T=torch.tensor(get_T(N_nod)).float()\n",
    "def G(X,n_p=N_nod):\n",
    "    G=np.zeros((n_p))\n",
    "    Y=X.clone()\n",
    "    Xt=torch.t(X)\n",
    "    for s in range(n_p):\n",
    "        G[s]=torch.trace(torch.matmul(Y,Xt))\n",
    "        Y=torch.matmul(Y,T)\n",
    "    return G/(N_traj*N_nod)\n",
    "g_nf=G(trajs)"
   ]
  },
  {
   "cell_type": "code",
   "execution_count": 131,
   "id": "78c9ffdf-7d11-49a0-8304-3228e4cd69b5",
   "metadata": {
    "execution": {
     "iopub.execute_input": "2024-03-09T18:40:22.001276Z",
     "iopub.status.busy": "2024-03-09T18:40:22.000282Z",
     "iopub.status.idle": "2024-03-09T18:40:22.050433Z",
     "shell.execute_reply": "2024-03-09T18:40:22.048581Z",
     "shell.execute_reply.started": "2024-03-09T18:40:22.001235Z"
    },
    "tags": []
   },
   "outputs": [],
   "source": [
    "from NFandist import calc_G\n",
    "from NFconstants import N_nod, N_traj, NG_points,beta\n",
    "g_osc=calc_G(N_nod,beta,N_nod)\n"
   ]
  },
  {
   "cell_type": "code",
   "execution_count": 87,
   "id": "d40ea38c-5c07-4349-9872-6f8026d990d1",
   "metadata": {
    "execution": {
     "iopub.execute_input": "2024-03-09T13:22:54.171690Z",
     "iopub.status.busy": "2024-03-09T13:22:54.170555Z",
     "iopub.status.idle": "2024-03-09T13:22:54.187599Z",
     "shell.execute_reply": "2024-03-09T13:22:54.186409Z",
     "shell.execute_reply.started": "2024-03-09T13:22:54.171657Z"
    },
    "tags": []
   },
   "outputs": [],
   "source": [
    "g_ur = [0.476546, 0.148654, 0.060357, 0.0232596, -0.00447499, -0.00224423, -0.00447499, 0.0232596, 0.060357, 0.148654]"
   ]
  },
  {
   "cell_type": "code",
   "execution_count": 141,
   "id": "423d9be1-411c-4004-929e-ddd280cb3a77",
   "metadata": {
    "execution": {
     "iopub.execute_input": "2024-03-09T18:58:49.428452Z",
     "iopub.status.busy": "2024-03-09T18:58:49.427719Z",
     "iopub.status.idle": "2024-03-09T18:58:49.453295Z",
     "shell.execute_reply": "2024-03-09T18:58:49.451855Z",
     "shell.execute_reply.started": "2024-03-09T18:58:49.428416Z"
    },
    "tags": []
   },
   "outputs": [],
   "source": [
    "\n",
    "g_ur = [0.555858, 0.497988, 0.446597, 0.401115, 0.360415, 0.324316, 0.29138, 0.261791, 0.235658, 0.211969, 0.190536, 0.171994, 0.155133, 0.140335, 0.126598, 0.114471, 0.103514, 0.0941716, 0.0852865, 0.0767528, 0.0691313, 0.0619047, 0.0550745, 0.0490998, 0.0443236, 0.0396256, 0.0358628, 0.0324961, 0.0302019, 0.0276177, 0.0251373, 0.0226234, 0.0203086, 0.0179717, 0.0164385, 0.0152739, 0.0143051, 0.0136778, 0.0127566, 0.0118486, 0.0111658, 0.0111462, 0.011026, 0.0110081, 0.0109681, 0.0106729, 0.0101027, 0.010377, 0.010866, 0.0114044, 0.0119873, 0.0114044, 0.010866, 0.010377, 0.0101027, 0.0106729, 0.0109681, 0.0110081, 0.011026, 0.0111462, 0.0111658, 0.0118486, 0.0127566, 0.0136778, 0.0143051, 0.0152739, 0.0164385, 0.0179717, 0.0203086, 0.0226234, 0.0251373, 0.0276177, 0.0302019, 0.0324961, 0.0358628, 0.0396256, 0.0443236, 0.0490998, 0.0550745, 0.0619047, 0.0691313, 0.0767528, 0.0852865, 0.0941716, 0.103514, 0.114471, 0.126598, 0.140335, 0.155133, 0.171994, 0.190536, 0.211969, 0.235658, 0.261791, 0.29138, 0.324316, 0.360415, 0.401115, 0.446597, 0.497988]\n"
   ]
  },
  {
   "cell_type": "code",
   "execution_count": 89,
   "id": "761d4f40-3376-4f0e-9177-6ff5ff928fa4",
   "metadata": {
    "execution": {
     "iopub.execute_input": "2024-03-09T13:22:55.491639Z",
     "iopub.status.busy": "2024-03-09T13:22:55.490685Z",
     "iopub.status.idle": "2024-03-09T13:22:55.506950Z",
     "shell.execute_reply": "2024-03-09T13:22:55.505579Z",
     "shell.execute_reply.started": "2024-03-09T13:22:55.491606Z"
    },
    "tags": []
   },
   "outputs": [],
   "source": [
    "g_rel = [0.389004, 0.174591, 0.0750764, 0.0320855, 0.0235634, 0.0204869, 0.0235634, 0.0320855, 0.0750764, 0.174591]"
   ]
  },
  {
   "cell_type": "code",
   "execution_count": 125,
   "id": "f0639e9e-3fa3-412f-8833-8af468af9fa8",
   "metadata": {
    "execution": {
     "iopub.execute_input": "2024-03-09T15:46:47.410324Z",
     "iopub.status.busy": "2024-03-09T15:46:47.409308Z",
     "iopub.status.idle": "2024-03-09T15:46:47.425537Z",
     "shell.execute_reply": "2024-03-09T15:46:47.424327Z",
     "shell.execute_reply.started": "2024-03-09T15:46:47.410270Z"
    },
    "tags": []
   },
   "outputs": [],
   "source": [
    "g_rel = [0.392501, 0.361773, 0.333519, 0.307446, 0.283335, 0.261201, 0.240658, 0.221871, 0.204776, 0.188963, 0.174495, 0.161116, 0.148541, 0.136946, 0.126175, 0.116168, 0.106934, 0.0985733, 0.090693, 0.0836987, 0.0773237, 0.0713712, 0.0662134, 0.0611666, 0.0567049, 0.0525145, 0.0489322, 0.045775, 0.043085, 0.0407685, 0.0383386, 0.0365845, 0.0353032, 0.0339074, 0.0324167, 0.0308972, 0.0295226, 0.0285374, 0.0276133, 0.026899, 0.0265193, 0.0267518, 0.027023, 0.0272673, 0.0275789, 0.0277296, 0.0281657, 0.0286108, 0.0289897, 0.0292072, 0.0292838, 0.0292072, 0.0289897, 0.0286108, 0.0281657, 0.0277296, 0.0275789, 0.0272673, 0.027023, 0.0267518, 0.0265193, 0.026899, 0.0276133, 0.0285374, 0.0295226, 0.0308972, 0.0324167, 0.0339074, 0.0353032, 0.0365845, 0.0383386, 0.0407685, 0.043085, 0.045775, 0.0489322, 0.0525145, 0.0567049, 0.0611666, 0.0662134, 0.0713712, 0.0773237, 0.0836987, 0.090693, 0.0985733, 0.106934, 0.116168, 0.126175, 0.136946, 0.148541, 0.161116, 0.174495, 0.188963, 0.204776, 0.221871, 0.240658, 0.261201, 0.283335, 0.307446, 0.333519, 0.361773]\n"
   ]
  },
  {
   "cell_type": "code",
   "execution_count": 91,
   "id": "65e2959c-aa9d-47a0-971a-68fd6575b32e",
   "metadata": {
    "execution": {
     "iopub.execute_input": "2024-03-09T13:22:56.600736Z",
     "iopub.status.busy": "2024-03-09T13:22:56.599626Z",
     "iopub.status.idle": "2024-03-09T13:22:56.630766Z",
     "shell.execute_reply": "2024-03-09T13:22:56.629607Z",
     "shell.execute_reply.started": "2024-03-09T13:22:56.600650Z"
    },
    "tags": []
   },
   "outputs": [],
   "source": [
    "\n",
    "import numpy as np\n",
    "corr = [0.0049279, 0.00445719, 0.0040318, 0.00364688, 0.00329375, 0.00297512, 0.00268571, 0.00242197, 0.00217813, 0.00195686, 0.00176504, 0.001597, 0.0014406, 0.00130362, 0.00117932, 0.00107197, 0.000971531, 0.000873839, 0.000783014, 0.000698531, 0.000622945, 0.000554938, 0.000497423, 0.000446639, 0.000400234, 0.000360026, 0.000325092, 0.00028936, 0.000252744, 0.000222755, 0.00019756, 0.000178826, 0.000169581, 0.000165766, 0.000161208, 0.000158499, 0.000157808, 0.000156267, 0.000155463, 0.000151827, 0.000137475, 0.000124214, 0.000113485, 0.000104859, 9.63436e-05, 8.8317e-05, 8.17296e-05, 7.9884e-05, 7.83747e-05, 8.01024e-05, 8.44507e-05, 8.01024e-05, 7.83747e-05, 7.9884e-05, 8.17296e-05, 8.8317e-05, 9.63436e-05, 0.000104859, 0.000113485, 0.000124214, 0.000137475, 0.000151827, 0.000155463, 0.000156267, 0.000157808, 0.000158499, 0.000161208, 0.000165766, 0.000169581, 0.000178826, 0.00019756, 0.000222755, 0.000252744, 0.00028936, 0.000325092, 0.000360026, 0.000400234, 0.000446639, 0.000497423, 0.000554938, 0.000622945, 0.000698531, 0.000783014, 0.000873839, 0.000971531, 0.00107197, 0.00117932, 0.00130362, 0.0014406, 0.001597, 0.00176504, 0.00195686, 0.00217813, 0.00242197, 0.00268571, 0.00297512, 0.00329375, 0.00364688, 0.0040318, 0.00445719, 0.0049279]\n",
    "g_rel_001=(100*np.array(corr))[:-1]\n",
    "\n"
   ]
  },
  {
   "cell_type": "code",
   "execution_count": 92,
   "id": "1cd1e02d-0324-466a-b37e-a60554908a29",
   "metadata": {
    "execution": {
     "iopub.execute_input": "2024-03-09T13:23:04.103447Z",
     "iopub.status.busy": "2024-03-09T13:23:04.102339Z",
     "iopub.status.idle": "2024-03-09T13:23:04.120950Z",
     "shell.execute_reply": "2024-03-09T13:23:04.119380Z",
     "shell.execute_reply.started": "2024-03-09T13:23:04.103394Z"
    },
    "tags": []
   },
   "outputs": [],
   "source": [
    "import numpy as np\n",
    "corr = [0.0482165, 0.0437875, 0.0397512, 0.0361339, 0.0328051, 0.0297607, 0.0270138, 0.0244825, 0.0222039, 0.0201489, 0.0183026, 0.0166458, 0.0151002, 0.0137192, 0.012421, 0.0112716, 0.0102497, 0.00931179, 0.0084281, 0.00763501, 0.00697282, 0.00637519, 0.00579578, 0.00524782, 0.00469027, 0.00419239, 0.00376016, 0.00335117, 0.00299975, 0.00265075, 0.00236496, 0.00215769, 0.00196452, 0.00178665, 0.00162977, 0.00148276, 0.00135563, 0.00127519, 0.00120796, 0.00115448, 0.0011155, 0.00109623, 0.00112555, 0.00113097, 0.00108849, 0.00108302, 0.00112726, 0.00115736, 0.00118966, 0.00124266, 0.00121678, 0.00124266, 0.00118966, 0.00115736, 0.00112726, 0.00108302, 0.00108849, 0.00113097, 0.00112555, 0.00109623, 0.0011155, 0.00115448, 0.00120796, 0.00127519, 0.00135563, 0.00148276, 0.00162977, 0.00178665, 0.00196452, 0.00215769, 0.00236496, 0.00265075, 0.00299975, 0.00335117, 0.00376016, 0.00419239, 0.00469027, 0.00524782, 0.00579578, 0.00637519, 0.00697282, 0.00763501, 0.0084281, 0.00931179, 0.0102497, 0.0112716, 0.012421, 0.0137192, 0.0151002, 0.0166458, 0.0183026, 0.0201489, 0.0222039, 0.0244825, 0.0270138, 0.0297607, 0.0328051, 0.0361339, 0.0397512, 0.0437875, 0.0482165]\n",
    "g_rel_01=(10*np.array(corr))[:-1]\n"
   ]
  },
  {
   "cell_type": "code",
   "execution_count": 142,
   "id": "34a5ead7-10a1-445f-abbd-4f8c2478ccd1",
   "metadata": {
    "execution": {
     "iopub.execute_input": "2024-03-09T18:58:52.377057Z",
     "iopub.status.busy": "2024-03-09T18:58:52.375700Z",
     "iopub.status.idle": "2024-03-09T18:58:52.661598Z",
     "shell.execute_reply": "2024-03-09T18:58:52.660411Z",
     "shell.execute_reply.started": "2024-03-09T18:58:52.376968Z"
    },
    "tags": []
   },
   "outputs": [
    {
     "name": "stdout",
     "output_type": "stream",
     "text": [
      "0.25260591796875\n"
     ]
    },
    {
     "data": {
      "image/png": "[encoded data removed]",
      "text/plain": [
       "<Figure size 432x288 with 1 Axes>"
      ]
     },
     "metadata": {
      "needs_background": "light"
     },
     "output_type": "display_data"
    }
   ],
   "source": [
    "#import sys\n",
    "#sys.path.append('../')\n",
    "import numpy as np\n",
    "import matplotlib.pyplot as plt\n",
    "from NFconstants import N_nod, N_traj, NG_points,beta\n",
    "#from Value import G\n",
    "#import ensemble\n",
    "#from NFoscillator import basic_oscillator\n",
    "#from time import time\n",
    "#from NFandist import calc_G\n",
    "\n",
    "\"\"\"\n",
    "ens_nf=ensemble.ensemble.load(\"nf_ensemble.txt\",basic_oscillator)\n",
    "g_nf=np.vstack(ensemble.ensemble.Vaverage_and_sigma(ens_nf,G))\n",
    "g_nf=g_nf.transpose()[0]\n",
    "\"\"\"\n",
    "\n",
    "g=g_ur\n",
    "print(g_nf[0])\n",
    "fig=plt.figure()\n",
    "MCMC_list=np.arange(len(g))/len(g)\n",
    "NF_list=np.arange(len(g_nf))/len(g_nf)\n",
    "plt.scatter(MCMC_list,g)\n",
    "plt.scatter(NF_list,g_nf)\n",
    "plt.legend([\"MCMC\",\"normalizing flow\"])\n",
    "plt.grid(True)\n",
    "plt.show()\n"
   ]
  },
  {
   "cell_type": "code",
   "execution_count": 1,
   "id": "5537b59a",
   "metadata": {
    "execution": {
     "iopub.execute_input": "2024-03-04T01:13:45.448783Z",
     "iopub.status.busy": "2024-03-04T01:13:45.448099Z",
     "iopub.status.idle": "2024-03-04T01:13:45.746460Z",
     "shell.execute_reply": "2024-03-04T01:13:45.745700Z",
     "shell.execute_reply.started": "2024-03-04T01:13:45.448743Z"
    },
    "tags": []
   },
   "outputs": [
    {
     "name": "stdout",
     "output_type": "stream",
     "text": [
      "11G\tlogs\n"
     ]
    }
   ],
   "source": [
    "\n",
    "\n",
    "! du -sh logs\n",
    "\n",
    "\n",
    "\n",
    "\n"
   ]
  },
  {
   "cell_type": "code",
   "execution_count": null,
   "id": "96e1f7e3-4121-49e9-95f1-06ecbf041f59",
   "metadata": {},
   "outputs": [],
   "source": [
    "! rm -rf logs\n"
   ]
  },
  {
   "cell_type": "code",
   "execution_count": null,
   "id": "0937a257-cdff-4635-801c-dad1eb61f3e9",
   "metadata": {},
   "outputs": [],
   "source": [
    "def configure_flows(level_size,level_step=1):  # n_flows=8,...,12\n",
    "    flows=[]\n",
    "    n_levels=(N_latent-N_nod)//level_step\n",
    "    \n",
    "    if N_nod==N_latent:\n",
    "        level_step=0\n",
    "    \n",
    "    dim=N_latent//2\n",
    "    \n",
    "    for i in range(n_levels):\n",
    "        for k in range(level_size):\n",
    "            flows.append(AffineCouplingLayer(configure_theta(dim,dim),split=pair_SplitFunc,swap=k%2))\n",
    "        flows.append(nn.Linear(dim,dim-level_step//2))    \n",
    "        dim-=level_step//2    \n",
    "    \n",
    "    if dim!=N_nod//2:\n",
    "        print(\"smth wrong\")\n",
    "        \n",
    "    for k in range(level_size):\n",
    "        flows.append(AffineCouplingLayer(configure_theta(dim,dim),split=pair_SplitFunc,swap=k%2))\n",
    "    flows = nn.ModuleList(flows)\n",
    "    \n",
    "    return flows "
   ]
  },
  {
   "cell_type": "code",
   "execution_count": 11,
   "id": "67003bd9-b5df-4b89-bf8c-3fe1962ea74f",
   "metadata": {
    "execution": {
     "iopub.execute_input": "2024-03-08T22:17:57.203882Z",
     "iopub.status.busy": "2024-03-08T22:17:57.203532Z",
     "iopub.status.idle": "2024-03-08T22:18:00.912289Z",
     "shell.execute_reply": "2024-03-08T22:18:00.911495Z",
     "shell.execute_reply.started": "2024-03-08T22:17:57.203853Z"
    },
    "tags": []
   },
   "outputs": [
    {
     "name": "stdout",
     "output_type": "stream",
     "text": [
      "start\n",
      "Normal(loc: torch.Size([100]), scale: torch.Size([100]))\n"
     ]
    }
   ],
   "source": [
    "print(\"start\")\n",
    "from Data import normal_dist\n",
    "\n",
    "def configure_theta():\n",
    "    theta=ThetaNetwork(\n",
    "                in_dim = N_nod//2,\n",
    "                out_dim = N_nod//2,\n",
    "                num_hidden = 16,  #2 to 6\n",
    "                hidden_dim = 2*N_nod , #100-1024\n",
    "                num_params = 2,\n",
    "                p_drop=0.4,\n",
    "    )\n",
    "    return theta\n",
    "\n",
    "def configure_flows(n_flows):  # n_flows=8,...,12\n",
    "    flows=[]\n",
    "    \n",
    "    flows.append(D(N_nod))\n",
    "    \n",
    "    for k in range(n_flows//4):\n",
    "        flows.append(AffineCouplingLayer(configure_theta(),split=pair_SplitFunc,swap=k%2))\n",
    "        flows.append(L1(N_nod))\n",
    "    \n",
    "    for k in range(3 * n_flows//4):\n",
    "        flows.append(AffineCouplingLayer(configure_theta(),split=pair_SplitFunc,swap=k%2))\n",
    "    \n",
    "    flows.append(D(N_nod))    \n",
    "    flows = nn.ModuleList(flows)\n",
    "    return flows \n",
    "\n",
    "def configure_conv_flows(n_conv,kernel_size=3):\n",
    "    conv_flows=[]\n",
    "    for i in range(n_conv):\n",
    "        conv_flows.append(AffineCouplingLayer(Conv_NN(N_nod//2,2,kernel_size),split=pair_SplitFunc,swap=i%2))\n",
    "    conv_flows = nn.ModuleList(conv_flows)\n",
    "    return conv_flows\n",
    "\n",
    "print(normal_dist)\n",
    "\n",
    "                  "
   ]
  }
 ],
 "metadata": {
  "kernelspec": {
   "display_name": "DataSphere Kernel",
   "language": "python",
   "name": "python3"
  },
  "language_info": {
   "codemirror_mode": {
    "name": "ipython",
    "version": 3
   },
   "file_extension": ".py",
   "mimetype": "text/x-python",
   "name": "python",
   "nbconvert_exporter": "python",
   "pygments_lexer": "ipython3",
   "version": "3.7.7"
  }
 },
 "nbformat": 4,
 "nbformat_minor": 5
}
