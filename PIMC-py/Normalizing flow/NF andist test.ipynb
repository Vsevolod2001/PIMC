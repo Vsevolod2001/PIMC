{
 "cells": [
  {
   "cell_type": "code",
   "execution_count": 18,
   "id": "22b67156",
   "metadata": {},
   "outputs": [
    {
     "name": "stdout",
     "output_type": "stream",
     "text": [
      "[0.49988926 0.47551412]\n",
      "0.24994462915301163\n"
     ]
    }
   ],
   "source": [
    "from NFandist import calc_G\n",
    "N=200\n",
    "beta=10\n",
    "g=calc_G(N,beta,2)\n",
    "print(g)\n",
    "a=beta/N\n",
    "print( 1 / (2*a) * (1-2*(g[0]-g[1])/a))"
   ]
  },
  {
   "cell_type": "code",
   "execution_count": null,
   "id": "6552a83d",
   "metadata": {},
   "outputs": [],
   "source": []
  }
 ],
 "metadata": {
  "kernelspec": {
   "display_name": "Python 3 (ipykernel)",
   "language": "python",
   "name": "python3"
  },
  "language_info": {
   "codemirror_mode": {
    "name": "ipython",
    "version": 3
   },
   "file_extension": ".py",
   "mimetype": "text/x-python",
   "name": "python",
   "nbconvert_exporter": "python",
   "pygments_lexer": "ipython3",
   "version": "3.11.5"
  }
 },
 "nbformat": 4,
 "nbformat_minor": 5
}
