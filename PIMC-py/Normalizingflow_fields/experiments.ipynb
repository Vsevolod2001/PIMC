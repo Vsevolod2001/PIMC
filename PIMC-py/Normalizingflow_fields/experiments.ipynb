{
 "cells": [
  {
   "cell_type": "code",
   "execution_count": null,
   "id": "578eee8c-a957-41c0-ba48-d15420da1f6c",
   "metadata": {},
   "outputs": [],
   "source": [
    "J_arr = np.arange(0,2.1,0.4)\n",
    "lambda_arr= np.arange(0,0.5,0.04)"
   ]
  },
  {
   "cell_type": "code",
   "execution_count": null,
   "id": "69181af3-d4b8-41f6-a887-4849c75c4d13",
   "metadata": {},
   "outputs": [],
   "source": [
    "set_random_seed(42)\n",
    "for i in range(6,len(lambda_arr)):\n",
    "    \n",
    "    phi_4 = Phi4(N_nod,Beta,Space_dim,Mass,L_nod,R,0,lambda_arr[i])\n",
    "    pipeline = Pipeline(model=rg, \n",
    "                  latent = normal_dist ,\n",
    "                  criterion = phi_4.get_KL(), \n",
    "                  optimizer_class=torch.optim.Adam,\n",
    "                  optimizer_kwargs={\"lr\": 0.001,\"weight_decay\":0.0})\n",
    "\n",
    "    trainer = pl.Trainer(\n",
    "        max_epochs = 10,\n",
    "        logger = TensorBoardLogger(save_dir=f\"./logs/field_phi4_lambda\"),\n",
    "        num_sanity_val_steps = 0,\n",
    "        log_every_n_steps = 1,\n",
    "        enable_checkpointing = False,\n",
    "        accumulate_grad_batches = 1)\n",
    "\n",
    "    trainer.fit(model=pipeline, train_dataloaders=train_loader)\n",
    "    rg.save(\"./weights_phi4_lambda/model_weights_phi4_lambda\"+str(lambda_arr[i])+\".pth\")"
   ]
  },
  {
   "cell_type": "code",
   "execution_count": null,
   "id": "4c68bb72-bbf1-4b33-b693-50b064a465a4",
   "metadata": {},
   "outputs": [],
   "source": [
    "hidden_dim_dict1={8:256}\n",
    "n_flows_dict1={8:4}\n",
    "num_hidden_dict1={8:4}\n",
    "set_random_seed(42)\n",
    "rg = RGflows.configure_RG_model(RGmasks,n_flows_dict1,num_hidden_dict1,hidden_dim_dict1,grids_no_grad=0,p_drop=0.0,sys_dim = scalar.dim, O_latt = O_latt)"
   ]
  },
  {
   "cell_type": "code",
   "execution_count": null,
   "id": "561029e2-809b-46a3-bd49-b194ec577608",
   "metadata": {},
   "outputs": [],
   "source": [
    "for i in range(14):\n",
    "    \n",
    "    phi_4 = Phi4(N_nod,Beta,Space_dim,Mass,L_nod,R,0,0.48)\n",
    "    pipeline = Pipeline(model=rg, \n",
    "                  latent = normal_dist ,\n",
    "                  criterion = phi_4.get_KL(), \n",
    "                  optimizer_class=torch.optim.Adam,\n",
    "                  optimizer_kwargs={\"lr\": 0.001,\"weight_decay\":0.0})\n",
    "\n",
    "    trainer = pl.Trainer(\n",
    "        max_epochs = 15,\n",
    "        logger = TensorBoardLogger(save_dir=f\"./logs/field_phi4_numberaff\"),\n",
    "        num_sanity_val_steps = 0,\n",
    "        log_every_n_steps = 1,\n",
    "        enable_checkpointing = False,\n",
    "        accumulate_grad_batches = 1)\n",
    "    rg.append_aff(256,6,2)\n",
    "    trainer.fit(model=pipeline, train_dataloaders=train_loader)\n",
    "    rg.save(\"./weights_phi4_number_aff/model_weights_phi4 \"+str(4+2*i)+\".pth\")"
   ]
  },
  {
   "cell_type": "code",
   "execution_count": null,
   "id": "f05d79f6-617b-4e40-84af-b9a823a9aa97",
   "metadata": {},
   "outputs": [],
   "source": [
    "set_random_seed(42)\n",
    "for i in range(len(J_arr)):\n",
    "    \n",
    "    phi4.set_J_global(J_arr[i])\n",
    "    pipeline = Pipeline(model=rg, \n",
    "                  latent = normal_dist ,\n",
    "                  criterion = phi4.get_KL(), \n",
    "                  optimizer_class=torch.optim.Adam,\n",
    "                  optimizer_kwargs={\"lr\": 0.001,\"weight_decay\":0.0})\n",
    "\n",
    "    trainer = pl.Trainer(\n",
    "        max_epochs = 10,\n",
    "        logger = TensorBoardLogger(save_dir=f\"./logs/field_phi4_J_global\"),\n",
    "        num_sanity_val_steps = 0,\n",
    "        log_every_n_steps = 1,\n",
    "        enable_checkpointing = False,\n",
    "        accumulate_grad_batches = 1)\n",
    "\n",
    "    trainer.fit(model=pipeline, train_dataloaders=train_loader)\n",
    "    rg.save(\"./weights/field/phi4_J/phi_4_J\"+str(J_arr[i])+\".pth\")"
   ]
  },
  {
   "cell_type": "code",
   "execution_count": null,
   "id": "c3e97994-b137-48ca-92b7-9fccdbecc5e2",
   "metadata": {},
   "outputs": [],
   "source": [
    "set_random_seed(42)\n",
    "phi4.set_J_local(1,4)\n",
    "phi4.mass2 = 0.0625\n",
    "for i in range(len(beta_arr)):\n",
    "    \n",
    "    phi4.beta = beta_arr[i]\n",
    "    pipeline = Pipeline(model = rg, \n",
    "                  latent = normal_dist ,\n",
    "                  criterion = phi4.get_KL(), \n",
    "                  optimizer_class=torch.optim.Adam,\n",
    "                  optimizer_kwargs={\"lr\": 0.001,\"weight_decay\":0.0})\n",
    "\n",
    "    trainer = pl.Trainer(\n",
    "        max_epochs = 15,\n",
    "        logger = TensorBoardLogger(save_dir=f\"./logs/field_phi4_beta\"),\n",
    "        num_sanity_val_steps = 0,\n",
    "        log_every_n_steps = 1,\n",
    "        enable_checkpointing = False,\n",
    "        accumulate_grad_batches = 1)\n",
    "\n",
    "    trainer.fit(model=pipeline, train_dataloaders=train_loader)\n",
    "    rg.save(\"./weights/field/phi4_beta_jloc/phi4_beta_jloc\"+str(beta_arr[i])+\".pth\")"
   ]
  }
 ],
 "metadata": {
  "kernelspec": {
   "display_name": "Python 3 (ipykernel)",
   "language": "python",
   "name": "python3"
  },
  "language_info": {
   "codemirror_mode": {
    "name": "ipython",
    "version": 3
   },
   "file_extension": ".py",
   "mimetype": "text/x-python",
   "name": "python",
   "nbconvert_exporter": "python",
   "pygments_lexer": "ipython3",
   "version": "3.12.4"
  }
 },
 "nbformat": 4,
 "nbformat_minor": 5
}
