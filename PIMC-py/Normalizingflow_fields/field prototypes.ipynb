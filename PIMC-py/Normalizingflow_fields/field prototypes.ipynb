{
 "cells": [
  {
   "cell_type": "code",
   "execution_count": 1,
   "id": "a9f9b975-2f64-42bc-90bc-1ad75b2dd66c",
   "metadata": {},
   "outputs": [],
   "source": [
    "import torch\n",
    "import numpy as np\n",
    "from transforms import get_O\n",
    "from transforms import t_get_O"
   ]
  },
  {
   "cell_type": "code",
   "execution_count": 11,
   "id": "89c3293b",
   "metadata": {},
   "outputs": [
    {
     "name": "stdout",
     "output_type": "stream",
     "text": [
      "tensor(3.4132e-13)\n"
     ]
    }
   ],
   "source": [
    "import torch\n",
    "import numpy as np\n",
    "from lattice import Lattice\n",
    "torch.set_default_dtype(torch.float64)\n",
    "latt = Lattice([4,4,4],[16,16,16])\n",
    "O = latt.ort_mat\n",
    "K = latt.kin_mat\n",
    "diag = torch.einsum(\"ji,jk,ks->is\",O,K,O)\n",
    "\n",
    "\n",
    "d = torch.diag(latt.get_diag_kin_mat())\n",
    "delta = (d-diag).flatten()\n",
    "print(torch.norm(delta))"
   ]
  },
  {
   "cell_type": "code",
   "execution_count": 22,
   "id": "d43c605b",
   "metadata": {},
   "outputs": [
    {
     "name": "stdout",
     "output_type": "stream",
     "text": [
      "tensor(2.7027e-15)\n"
     ]
    }
   ],
   "source": [
    "delta = torch.einsum(\"ji,ki->jk\",O,O)-torch.eye(latt.total_nodes)\n",
    "delta = delta.flatten()\n",
    "print(torch.norm(delta))"
   ]
  },
  {
   "cell_type": "code",
   "execution_count": null,
   "id": "2f761031",
   "metadata": {},
   "outputs": [
    {
     "name": "stdout",
     "output_type": "stream",
     "text": [
      "tensor(4.2838e-15)\n"
     ]
    }
   ],
   "source": [
    "import torch\n",
    "import numpy as np\n",
    "import matplotlib.pyplot as plt\n",
    "from lattice import Lattice\n",
    "from systems.Fields.scalar_field import Scalar_Field\n",
    "torch.set_default_dtype(torch.float64)\n",
    "\n",
    "L = 8\n",
    "mass2 = 128\n",
    "latt = Lattice([8,L],[16,4])\n",
    "sf = Scalar_Field(latt,mass2)\n",
    "prop = sf.get_free_prop_x()\n",
    "\n",
    "id = torch.eye(latt.total_nodes)\n",
    "delta1 = torch.matmul(latt.kin_mat + mass2 * id , prop ) - id\n",
    "print(torch.norm(delta1.flatten()))\n"
   ]
  },
  {
   "cell_type": "code",
   "execution_count": 28,
   "id": "38fff9a5",
   "metadata": {},
   "outputs": [],
   "source": [
    "import torch\n",
    "import numpy as np\n",
    "import matplotlib.pyplot as plt\n",
    "from lattice import Lattice\n",
    "from systems.Fields.scalar_field import Scalar_Field\n",
    "torch.set_default_dtype(torch.float64)\n",
    "\n",
    "latt = Lattice([8,8],[16,4])\n",
    "o_0 = Lattice.get_ort_mat(latt.n_nodes[0])\n",
    "o_1 = Lattice.get_ort_mat(latt.n_nodes[1])\n",
    "\n",
    "for i in range(latt.total_nodes):\n",
    "    for j in range(latt.total_nodes):\n",
    "        I = latt.index_to_multi(i)\n",
    "        J = latt.index_to_multi(j)\n",
    "\n",
    "        delta = latt.ort_mat[i][j] - o_0[I[0]][J[0]] * o_1 [I[1]][J[1]]\n",
    "        if delta!=0:\n",
    "            print('error')\n"
   ]
  },
  {
   "cell_type": "code",
   "execution_count": 15,
   "id": "6dc2e036",
   "metadata": {},
   "outputs": [
    {
     "data": {
      "image/png": "[encoded data removed]",
      "text/plain": [
       "<Figure size 640x480 with 1 Axes>"
      ]
     },
     "metadata": {},
     "output_type": "display_data"
    }
   ],
   "source": [
    "import torch\n",
    "import numpy as np\n",
    "import matplotlib.pyplot as plt\n",
    "from lattice import Lattice\n",
    "from systems.Fields.scalar_field import Scalar_Field\n",
    "torch.set_default_dtype(torch.float64)\n",
    "\n",
    "\n",
    "L = 32\n",
    "latt = Lattice([22,L],[16,32])\n",
    "sf = Scalar_Field(latt,1)\n",
    "sf.set_J_local(1,[0,L//2])\n",
    "\n",
    "prop = sf.get_free_prop_x()\n",
    "phi = torch.matmul(prop,sf.J)\n",
    "\n",
    "av = sf.lattice.get_time_averaging_mat()\n",
    "phi = torch.matmul(av,phi)\n",
    "\n",
    "plt.figure()\n",
    "plt.scatter(np.arange(sf.lattice.n_nodes[1]),phi)\n",
    "plt.show()\n",
    "\n"
   ]
  },
  {
   "cell_type": "code",
   "execution_count": 2,
   "id": "98148207",
   "metadata": {},
   "outputs": [],
   "source": [
    "import torch\n",
    "import numpy as np\n",
    "from lattice import Lattice\n",
    "latt = Lattice([4,4,4],[16,16,16])\n",
    "norm_dist = torch.distributions.Normal(loc = torch.zeros(latt.total_nodes), scale = torch.ones(latt.total_nodes))\n",
    "d = torch.diag(latt.get_diag_kin_mat())"
   ]
  },
  {
   "cell_type": "code",
   "execution_count": 3,
   "id": "7f834acf",
   "metadata": {},
   "outputs": [
    {
     "name": "stdout",
     "output_type": "stream",
     "text": [
      "cuda:0\n"
     ]
    }
   ],
   "source": [
    "tl = latt.get_train_loader(2**18,2**12)\n",
    "batch = next(iter(tl))\n",
    "print(batch.device)"
   ]
  },
  {
   "cell_type": "code",
   "execution_count": 82,
   "id": "88bf28c7",
   "metadata": {},
   "outputs": [
    {
     "name": "stdout",
     "output_type": "stream",
     "text": [
      "torch.float64\n"
     ]
    }
   ],
   "source": [
    "from transforms import get_O, t_get_O\n",
    "o = get_ort_mat(32)\n",
    "id = torch.einsum(\"ij,ik->jk\",o,o)\n",
    "print(o.dtype)"
   ]
  },
  {
   "cell_type": "code",
   "execution_count": null,
   "id": "8954b1c1",
   "metadata": {},
   "outputs": [
    {
     "data": {
      "image/png": "[encoded data removed]",
      "text/plain": [
       "<Figure size 640x480 with 1 Axes>"
      ]
     },
     "metadata": {},
     "output_type": "display_data"
    }
   ],
   "source": [
    "import torch\n",
    "import numpy as np\n",
    "import matplotlib.pyplot as plt\n",
    "from lattice import Lattice\n",
    "from systems.Fields.scalar_field import Scalar_Field\n",
    "from samplers.Metropolis import Metropolis\n",
    "from samplers.Langevin import Langevin\n",
    "torch.set_default_dtype(torch.float64)\n",
    "device=\"cuda\"\n",
    "\n",
    "L = 32\n",
    "latt = Lattice([16,L],[16,32],device=device)\n",
    "sf = Scalar_Field(latt,1)\n",
    "sf.set_J_local(1,[0,L//2])\n",
    "\n",
    "normal = latt.normal_sampler()\n",
    "phi = normal.sample((30,)).to(device)\n",
    "\n",
    "\n",
    "M = Metropolis(sf,phi.shape[0],0.001, val = lambda x: torch.tensor([1]).to(torch.float32),N_sweep = 1000000,log_per = 10000000,filename = \"./trajs_and_corr/1.txt\",open_mode = \"w\")\n",
    "#M.run(phi)\n",
    "\n",
    "L = Langevin(sf,phi.shape[0],val = \"none\",eps = 0.0001,N_sweep = 1000000,log_per = 1000,filename = \"./trajs_and_corr/1.txt\",open_mode = \"w\")\n",
    "L.run(phi)\n",
    "\n",
    "err = torch.std(phi,0)\n",
    "phi = torch.mean(phi,0)\n",
    "av = latt.get_time_averaging_mat()\n",
    "phi = torch.matmul(sf.lattice.get_time_averaging_mat(),phi)\n",
    "\n",
    "\n",
    "plt.figure()\n",
    "plt.scatter(np.arange(sf.lattice.n_nodes[1]),-phi.cpu())\n",
    "plt.errorbar\n",
    "plt.show()\n"
   ]
  },
  {
   "cell_type": "code",
   "execution_count": null,
   "id": "17de3417",
   "metadata": {},
   "outputs": [],
   "source": []
  }
 ],
 "metadata": {
  "kernelspec": {
   "display_name": "Python 3",
   "language": "python",
   "name": "python3"
  },
  "language_info": {
   "codemirror_mode": {
    "name": "ipython",
    "version": 3
   },
   "file_extension": ".py",
   "mimetype": "text/x-python",
   "name": "python",
   "nbconvert_exporter": "python",
   "pygments_lexer": "ipython3",
   "version": "3.12.3"
  }
 },
 "nbformat": 4,
 "nbformat_minor": 5
}
