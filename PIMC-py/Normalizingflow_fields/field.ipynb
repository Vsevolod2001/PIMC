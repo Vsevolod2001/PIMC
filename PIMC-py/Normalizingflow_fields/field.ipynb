{
 "cells": [
  {
   "cell_type": "code",
   "execution_count": 1,
   "id": "55d2823b",
   "metadata": {},
   "outputs": [],
   "source": [
    "import matplotlib.pyplot as plt\n",
    "import numpy as np"
   ]
  },
  {
   "cell_type": "code",
   "execution_count": 8,
   "id": "3978be52-6e34-4e0a-b401-c56031d17d54",
   "metadata": {},
   "outputs": [],
   "source": [
    "import torch\n",
    "import pytorch_lightning as pl\n",
    "from torch.utils.data import Dataset\n",
    "from torch.utils.data import DataLoader\n",
    "from pytorch_lightning.loggers import TensorBoardLogger\n",
    "device = torch.device(\"cuda\" if torch.cuda.is_available() else \"cpu\")"
   ]
  },
  {
   "cell_type": "code",
   "execution_count": 10,
   "id": "c93eb4f7",
   "metadata": {
    "tags": []
   },
   "outputs": [],
   "source": [
    "from field_setup import N_nod, Beta, K_nod, L_nod\n",
    "from transforms import t_get_O\n",
    "from transforms import get_split_masks\n",
    "from transforms import get_pair_split_masks\n",
    "from transforms import config_RG_masks\n",
    "from Data import MY_Dataset\n",
    "from flows.NormalizingFlow import NormalizingFlow    \n",
    "from flows.RGflows import RGflows    \n",
    "from obs import G, calc_Loss, calc_psi2, gen_fun_W\n",
    "\n",
    "\n",
    "def set_random_seed(seed):\n",
    "    torch.manual_seed(seed)\n",
    "    np.random.seed(seed)\n",
    "\n",
    "set_random_seed(42)\n",
    "\n",
    "\n",
    "\n"
   ]
  },
  {
   "cell_type": "code",
   "execution_count": 12,
   "id": "49a86716-8589-4f4a-a254-00344ac2e8e2",
   "metadata": {},
   "outputs": [],
   "source": [
    "from field_setup import scalar, phi4, Scalar_Field, Phi4\n",
    "O_latt = t_get_O(L_nod)"
   ]
  },
  {
   "cell_type": "code",
   "execution_count": 14,
   "id": "23f2495c-14bc-49b4-8614-69d77ce8ef65",
   "metadata": {},
   "outputs": [],
   "source": [
    "normal_dist = torch.distributions.Normal(loc=torch.zeros(N_nod,scalar.dim), scale=torch.ones(N_nod,scalar.dim))\n",
    "DS=MY_Dataset(normal_dist,N_nod,epoch_size=2**16)\n",
    "train_loader = DataLoader(DS, batch_size=2**12, shuffle=True)"
   ]
  },
  {
   "cell_type": "code",
   "execution_count": 16,
   "id": "5401fb59",
   "metadata": {
    "tags": []
   },
   "outputs": [],
   "source": [
    "class Pipeline(pl.LightningModule):\n",
    "    def __init__(\n",
    "        self,\n",
    "        model,\n",
    "        latent,\n",
    "        criterion,\n",
    "        optimizer_class=torch.optim.Adam,\n",
    "        optimizer_kwargs={\"lr\": 0.001,\"weight_decay\": 0}\n",
    "    ) -> None:\n",
    "        super().__init__()\n",
    "        self.model = model\n",
    "        self.loss = criterion\n",
    "        self.latent = latent\n",
    "        self.optimizer_class = optimizer_class\n",
    "        self.optimizer_kwargs = optimizer_kwargs\n",
    "\n",
    "    \"\"\"\n",
    "    def configure_optimizers(self):\n",
    "        optimizer = self.optimizer_class(\n",
    "            self.model.parameters(), **self.optimizer_kwargs\n",
    "        )\n",
    "        return optimizer\n",
    "    \"\"\"\n",
    "    \n",
    "    def configure_optimizers(self):\n",
    "        optimizer = self.optimizer_class(self.model.parameters(), **self.optimizer_kwargs)\n",
    "        \n",
    "        scheduler = torch.optim.lr_scheduler.ReduceLROnPlateau(\n",
    "            optimizer=optimizer,\n",
    "            min_lr=1e-5,\n",
    "            factor=0.95,\n",
    "            mode=\"min\",\n",
    "            verbose=True,\n",
    "        )\n",
    "\n",
    "        lr_scheduler = {\n",
    "            \"scheduler\": scheduler,\n",
    "            \"interval\": \"epoch\",\n",
    "            \"monitor\": \"train_loss\",\n",
    "        }\n",
    "        return [optimizer], [lr_scheduler]\n",
    "\n",
    "    def training_step(self, batch, batch_idx):\n",
    "        z = batch\n",
    "        latent_log_prob = torch.sum(self.latent.log_prob(z),(1,2))\n",
    "        \n",
    "        x, log_abs_det = self.model.g(z)\n",
    "        loss = self.loss(x,log_abs_det)\n",
    "        ess = self.loss.ESS(latent_log_prob,log_abs_det)\n",
    "\n",
    "        \n",
    "        sch = self.lr_schedulers()\n",
    "        sch.step(loss)\n",
    "        self.log('train_loss', loss,prog_bar=True)\n",
    "        self.log('ess',ess)\n",
    "        self.log('mean_x',torch.mean(x))\n",
    "        self.log('lr',sch.get_last_lr()[0])\n",
    "        return loss\n",
    "\n",
    "\n",
    "    def on_train_epoch_end(self):\n",
    "        #print(\"---------------------------end epoch---------------------------------\")\n",
    "        pass\n",
    "    \n",
    "    def on_validation_end(self) -> None:\n",
    "        if not self.automatic_optimization:\n",
    "            # Save a checkpoint of the model\n",
    "            ckpt_path = os.path.join(self.trainer.log_dir, 'checkpoints', 'ckpt.pt')\n",
    "            self.trainer.save_checkpoint(ckpt_path, weights_only=True)\n",
    "        return super().on_validation_end()\n",
    "    \n",
    "    "
   ]
  },
  {
   "cell_type": "code",
   "execution_count": 18,
   "id": "eae42727-7687-48fe-841a-c2e24320095f",
   "metadata": {
    "tags": []
   },
   "outputs": [],
   "source": [
    "hidden_dim_dict1={8:256}\n",
    "n_flows_dict1={8:6}\n",
    "num_hidden_dict1={8:6}"
   ]
  },
  {
   "cell_type": "code",
   "execution_count": 20,
   "id": "7948914a-0506-4796-8bcf-617be8e83237",
   "metadata": {},
   "outputs": [],
   "source": [
    "m = 3\n",
    "RGmasks=config_RG_masks(m,N_nod)"
   ]
  },
  {
   "cell_type": "code",
   "execution_count": 22,
   "id": "fa06713c",
   "metadata": {},
   "outputs": [],
   "source": [
    "set_random_seed(42)\n",
    "rg = RGflows.configure_RG_model(RGmasks,n_flows_dict1,num_hidden_dict1,hidden_dim_dict1,grids_no_grad=0,p_drop=0.0,sys_dim = scalar.dim, O_latt = O_latt)\n",
    "#rg.save(\"./weights/field/phi4.pth\")"
   ]
  },
  {
   "cell_type": "code",
   "execution_count": 24,
   "id": "03b1a0a0-68d8-4471-93f0-1971b8b5a916",
   "metadata": {},
   "outputs": [],
   "source": [
    "beta_arr = [16,4,1,1/4,1/16]"
   ]
  },
  {
   "cell_type": "code",
   "execution_count": null,
   "id": "512f9a56-e420-4e02-b861-4a4dfb0d7cbe",
   "metadata": {},
   "outputs": [
    {
     "name": "stderr",
     "output_type": "stream",
     "text": [
      "GPU available: False, used: False\n",
      "TPU available: False, using: 0 TPU cores\n",
      "HPU available: False, using: 0 HPUs\n",
      "C:\\Users\\SEVA1\\anaconda3\\Lib\\site-packages\\torch\\optim\\lr_scheduler.py:28: UserWarning: The verbose parameter is deprecated. Please use get_last_lr() to access the learning rate.\n",
      "  warnings.warn(\"The verbose parameter is deprecated. Please use get_last_lr() \"\n",
      "\n",
      "  | Name  | Type      | Params | Mode \n",
      "--------------------------------------------\n",
      "0 | model | RGflows   | 3.0 M  | train\n",
      "1 | loss  | KL_with_S | 0      | train\n",
      "--------------------------------------------\n",
      "3.0 M     Trainable params\n",
      "0         Non-trainable params\n",
      "3.0 M     Total params\n",
      "11.993    Total estimated model params size (MB)\n",
      "C:\\Users\\SEVA1\\anaconda3\\Lib\\site-packages\\pytorch_lightning\\trainer\\connectors\\data_connector.py:424: The 'train_dataloader' does not have many workers which may be a bottleneck. Consider increasing the value of the `num_workers` argument` to `num_workers=3` in the `DataLoader` to improve performance.\n"
     ]
    },
    {
     "data": {
      "application/vnd.jupyter.widget-view+json": {
       "model_id": "00074e79fc32432c8e7d389f3dcff935",
       "version_major": 2,
       "version_minor": 0
      },
      "text/plain": [
       "Training: |                                                                                      | 0/? [00:00<…"
      ]
     },
     "metadata": {},
     "output_type": "display_data"
    },
    {
     "name": "stderr",
     "output_type": "stream",
     "text": [
      "C:\\Users\\SEVA1\\anaconda3\\Lib\\site-packages\\pytorch_lightning\\trainer\\call.py:54: Detected KeyboardInterrupt, attempting graceful shutdown...\n",
      "GPU available: False, used: False\n",
      "TPU available: False, using: 0 TPU cores\n",
      "HPU available: False, using: 0 HPUs\n",
      "\n",
      "  | Name  | Type      | Params | Mode \n",
      "--------------------------------------------\n",
      "0 | model | RGflows   | 3.0 M  | train\n",
      "1 | loss  | KL_with_S | 0      | train\n",
      "--------------------------------------------\n",
      "3.0 M     Trainable params\n",
      "0         Non-trainable params\n",
      "3.0 M     Total params\n",
      "11.993    Total estimated model params size (MB)\n"
     ]
    },
    {
     "data": {
      "application/vnd.jupyter.widget-view+json": {
       "model_id": "988e6fffcb5e41bf86edd1d458e4a801",
       "version_major": 2,
       "version_minor": 0
      },
      "text/plain": [
       "Training: |                                                                                      | 0/? [00:00<…"
      ]
     },
     "metadata": {},
     "output_type": "display_data"
    },
    {
     "name": "stderr",
     "output_type": "stream",
     "text": [
      "GPU available: False, used: False\n",
      "TPU available: False, using: 0 TPU cores\n",
      "HPU available: False, using: 0 HPUs\n",
      "\n",
      "  | Name  | Type      | Params | Mode \n",
      "--------------------------------------------\n",
      "0 | model | RGflows   | 3.0 M  | train\n",
      "1 | loss  | KL_with_S | 0      | train\n",
      "--------------------------------------------\n",
      "3.0 M     Trainable params\n",
      "0         Non-trainable params\n",
      "3.0 M     Total params\n",
      "11.993    Total estimated model params size (MB)\n"
     ]
    },
    {
     "data": {
      "application/vnd.jupyter.widget-view+json": {
       "model_id": "406d331dd71545878f1d2eb3a208bd94",
       "version_major": 2,
       "version_minor": 0
      },
      "text/plain": [
       "Training: |                                                                                      | 0/? [00:00<…"
      ]
     },
     "metadata": {},
     "output_type": "display_data"
    }
   ],
   "source": [
    "set_random_seed(42)\n",
    "phi4.set_J_local(1,16)\n",
    "phi4.mass2 = 1\n",
    "for i in range(len(beta_arr)):\n",
    "    \n",
    "    phi4.beta = beta_arr[i]\n",
    "    pipeline = Pipeline(model = rg, \n",
    "                  latent = normal_dist ,\n",
    "                  criterion = phi4.get_KL(), \n",
    "                  optimizer_class=torch.optim.Adam,\n",
    "                  optimizer_kwargs={\"lr\": 0.001,\"weight_decay\":0.0})\n",
    "\n",
    "    trainer = pl.Trainer(\n",
    "        max_epochs = 15,\n",
    "        logger = TensorBoardLogger(save_dir=f\"./logs/field_phi4_beta\"),\n",
    "        num_sanity_val_steps = 0,\n",
    "        log_every_n_steps = 1,\n",
    "        enable_checkpointing = False,\n",
    "        accumulate_grad_batches = 1)\n",
    "\n",
    "    trainer.fit(model=pipeline, train_dataloaders=train_loader)\n",
    "    rg.save(\"./weights/field/phi4_beta_jloc/phi4_beta_jloc\"+str(beta_arr[i])+\".pth\")"
   ]
  },
  {
   "cell_type": "code",
   "execution_count": 48,
   "id": "a536cdfd",
   "metadata": {},
   "outputs": [
    {
     "name": "stderr",
     "output_type": "stream",
     "text": [
      "GPU available: False, used: False\n",
      "TPU available: False, using: 0 TPU cores\n",
      "HPU available: False, using: 0 HPUs\n",
      "\n",
      "  | Name  | Type      | Params | Mode \n",
      "--------------------------------------------\n",
      "0 | model | RGflows   | 3.0 M  | train\n",
      "1 | loss  | KL_with_S | 0      | train\n",
      "--------------------------------------------\n",
      "3.0 M     Trainable params\n",
      "0         Non-trainable params\n",
      "3.0 M     Total params\n",
      "11.993    Total estimated model params size (MB)\n"
     ]
    },
    {
     "data": {
      "application/vnd.jupyter.widget-view+json": {
       "model_id": "999a94183aa442c8ab496f427081dbb9",
       "version_major": 2,
       "version_minor": 0
      },
      "text/plain": [
       "Training: |                                                                                      | 0/? [00:00<…"
      ]
     },
     "metadata": {},
     "output_type": "display_data"
    }
   ],
   "source": [
    "set_random_seed(42)\n",
    "scalar.set_J_local(4,16)\n",
    "phi4.set_J_local(4,16)\n",
    "pipeline=Pipeline(model=rg, \n",
    "                  latent = normal_dist ,\n",
    "                  criterion = phi4.get_KL(), \n",
    "                  optimizer_class=torch.optim.Adam,\n",
    "                  optimizer_kwargs={\"lr\": 0.001,\"weight_decay\":0.0})\n",
    "\n",
    "trainer = pl.Trainer(\n",
    "    max_epochs = 2000,\n",
    "    logger = TensorBoardLogger(save_dir=f\"./logs/field\"),\n",
    "    num_sanity_val_steps = 0,\n",
    "    log_every_n_steps = 1,\n",
    "    enable_checkpointing = False,\n",
    "    accumulate_grad_batches = 1\n",
    ")\n",
    "\n",
    "trainer.fit(model=pipeline, train_dataloaders=train_loader)\n",
    "rg.save(\"./weights/field/phi4_beta_jloc/phi4_beta_jloc16.pth\")"
   ]
  },
  {
   "cell_type": "code",
   "execution_count": 76,
   "id": "8169e1d2-102b-4d79-92e8-03905afd556d",
   "metadata": {
    "tags": []
   },
   "outputs": [],
   "source": [
    "#RG_trained = RGflows.load_model(\"./weights/model_weights_phi4.pth\")\n",
    "fr = RGflows.load_model(\"./weights/field/free_jloc.pth\")\n",
    "p4 = RGflows.load_model(\"./weights/field/phi4_beta_jloc/phi4_beta_jloc16.pth\")\n",
    "fr.eval()\n",
    "p4.eval()\n",
    "N_traj = 10000\n",
    "z1 = normal_dist.sample((N_traj,))\n",
    "z2 = z1.clone()\n",
    "free , _ = fr.g(z1)\n",
    "ph4 , _ = p4.g(z2)\n"
   ]
  },
  {
   "cell_type": "code",
   "execution_count": 77,
   "id": "1e8eca91-0be9-44ad-bfd4-4e3b41c5b4d5",
   "metadata": {},
   "outputs": [],
   "source": [
    "mean_free = torch.mean(free,dim=(0,1)).detach()\n",
    "std_free = (torch.std(free,dim=(0,1)) * (free.shape[0] * free.shape[1]) ** (-0.5)).detach()\n",
    "mean_int = torch.mean(ph4,dim=(0,1)).detach()\n",
    "std_int = (torch.std(ph4,dim=(0,1)) * (ph4.shape[0] * ph4.shape[1]) ** (-0.5)).detach()"
   ]
  },
  {
   "cell_type": "code",
   "execution_count": 52,
   "id": "640dec2a-f5e2-4c81-af9b-f3bb128f7c10",
   "metadata": {},
   "outputs": [
    {
     "name": "stdout",
     "output_type": "stream",
     "text": [
      "16\n"
     ]
    }
   ],
   "source": [
    "print(phi4.beta)"
   ]
  },
  {
   "cell_type": "code",
   "execution_count": 18,
   "id": "a228cb44-3b21-4712-a8d9-2e41b120383c",
   "metadata": {},
   "outputs": [],
   "source": [
    "Mean=[]\n",
    "Std=[]\n",
    "for i in range(1):\n",
    "    RG_trained = RGflows.load_model(\"./weights/field/phi4_beta_jloc/phi4_beta_jloc\"+str(beta_arr[i])+\".pth\")\n",
    "    RG_trained.eval()\n",
    "    N_traj = 20000\n",
    "    z = normal_dist.sample((N_traj,))\n",
    "    trajs , _ = RG_trained.g(z)\n",
    "    mean = -torch.mean(trajs,dim=(0,1)).detach()\n",
    "    std = (torch.std(trajs,dim=(0,1)) * (trajs.shape[0] * trajs.shape[1]) ** (-0.5)).detach()\n",
    "    Mean.append(mean)\n",
    "    Std.append(std)"
   ]
  },
  {
   "cell_type": "code",
   "execution_count": 116,
   "id": "a6aa8e7e-7dc9-4e41-b6bf-bddbb6e30901",
   "metadata": {},
   "outputs": [
    {
     "data": {
      "image/png": "[encoded data removed]",
      "text/plain": [
       "<Figure size 640x480 with 1 Axes>"
      ]
     },
     "metadata": {},
     "output_type": "display_data"
    }
   ],
   "source": [
    "plt.figure()\n",
    "\n",
    "ls='dotted'\n",
    "plt.errorbar(33/32 * phi4.h * np.arange(33),-mean_free,std_free,capsize=0,elinewidth=4,marker='o',markersize=4,linestyle='none')\n",
    "plt.errorbar(33/32 * phi4.h * np.arange(33),-mean_int,std_int,capsize=0,elinewidth=4,marker='o',markersize=4,linestyle='none')\n",
    "plt.grid(True)\n",
    "plt.xlabel(r\"$x$\",fontsize=17)\n",
    "plt.ylabel(r\"$|\\varphi|$\",fontsize=17)\n",
    "plt.savefig(\"../pictures/loc_J.png\")\n",
    "#plt.yscale('log')\n",
    "plt.legend(['free',r'$\\frac{1}{24}\\phi^4$'])\n",
    "plt.title('local J',fontsize=17)\n",
    "plt.savefig('../pictures/local j.pdf')\n",
    "plt.show()"
   ]
  },
  {
   "cell_type": "code",
   "execution_count": null,
   "id": "430cd760-acd0-4ce7-b978-1fd8d611c6d0",
   "metadata": {},
   "outputs": [],
   "source": []
  }
 ],
 "metadata": {
  "kernelspec": {
   "display_name": "Python 3 (ipykernel)",
   "language": "python",
   "name": "python3"
  },
  "language_info": {
   "codemirror_mode": {
    "name": "ipython",
    "version": 3
   },
   "file_extension": ".py",
   "mimetype": "text/x-python",
   "name": "python",
   "nbconvert_exporter": "python",
   "pygments_lexer": "ipython3",
   "version": "3.12.4"
  }
 },
 "nbformat": 4,
 "nbformat_minor": 5
}
