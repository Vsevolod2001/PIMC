{
 "cells": [
  {
   "cell_type": "code",
   "execution_count": 1,
   "id": "55d2823b",
   "metadata": {},
   "outputs": [],
   "source": [
    "import matplotlib.pyplot as plt\n",
    "import numpy as np"
   ]
  },
  {
   "cell_type": "code",
   "execution_count": 2,
   "id": "3978be52-6e34-4e0a-b401-c56031d17d54",
   "metadata": {},
   "outputs": [
    {
     "name": "stdout",
     "output_type": "stream",
     "text": [
      "cuda\n"
     ]
    }
   ],
   "source": [
    "import torch\n",
    "import pytorch_lightning as pl\n",
    "from torch.utils.data import DataLoader\n",
    "from pytorch_lightning.loggers import TensorBoardLogger\n",
    "device = torch.device(\"cuda\" if torch.cuda.is_available() else \"cpu\")\n",
    "print(device)"
   ]
  },
  {
   "cell_type": "code",
   "execution_count": 4,
   "id": "c93eb4f7",
   "metadata": {
    "tags": []
   },
   "outputs": [
    {
     "name": "stdout",
     "output_type": "stream",
     "text": [
      "torch.Size([4096, 4096])\n"
     ]
    }
   ],
   "source": [
    "from systems.Fields.scalar_field import Scalar_Field\n",
    "from systems.Fields.phi4 import Phi4\n",
    "from flows.NormalizingFlow import NormalizingFlow    \n",
    "from lattice import Lattice\n",
    "torch.set_default_dtype(torch.float32)\n",
    "#torch.set_float32_matmul_precision('high')\n",
    "\n",
    "def set_random_seed(seed):\n",
    "    torch.manual_seed(seed)\n",
    "    np.random.seed(seed)\n",
    "\n",
    "set_random_seed(42)\n",
    "\n",
    "\n",
    "L = 8\n",
    "latt = Lattice([L,L,L,L],[16,16,16,16],device=device)\n",
    "\n",
    "\n",
    "\n",
    "sf = Scalar_Field(latt,1)\n",
    "phi_4 = Phi4(latt,1,1/24)\n",
    "\n",
    "\n",
    "o=latt.ort_mat\n",
    "print(o.shape)\n",
    "\n",
    "#sf.set_J_local(0,[0,L//2])\n",
    "#phi_4.set_J_local(1,[0,L//2])\n",
    "\n",
    "\n"
   ]
  },
  {
   "cell_type": "code",
   "execution_count": 5,
   "id": "23f2495c-14bc-49b4-8614-69d77ce8ef65",
   "metadata": {},
   "outputs": [],
   "source": [
    "normal_dist = latt.normal_sampler()\n",
    "train_loader = latt.get_train_loader(epoch_size = 2**18,batch_size = 2 ** 4)"
   ]
  },
  {
   "cell_type": "code",
   "execution_count": 6,
   "id": "5401fb59",
   "metadata": {
    "tags": []
   },
   "outputs": [],
   "source": [
    "class Pipeline(pl.LightningModule):\n",
    "    def __init__(\n",
    "        self,\n",
    "        model,\n",
    "        latent,\n",
    "        criterion,\n",
    "        optimizer_class=torch.optim.Adam,\n",
    "        optimizer_kwargs={\"lr\": 0.001,\"weight_decay\": 0}\n",
    "    ) -> None:\n",
    "        \n",
    "        super().__init__()\n",
    "        self.model = model\n",
    "\n",
    "        self.loss = criterion.to(device)\n",
    "        self.latent = latent\n",
    "        self.optimizer_class = optimizer_class\n",
    "        self.optimizer_kwargs = optimizer_kwargs\n",
    "        \n",
    "    \"\"\"\n",
    "    def configure_optimizers(self):\n",
    "        optimizer = self.optimizer_class(\n",
    "            self.model.parameters(), **self.optimizer_kwargs\n",
    "        )\n",
    "        return optimizer\n",
    "    \"\"\"\n",
    "    \n",
    "    def configure_optimizers(self):\n",
    "        optimizer = self.optimizer_class(self.model.parameters(), **self.optimizer_kwargs)\n",
    "        \n",
    "        scheduler = torch.optim.lr_scheduler.ReduceLROnPlateau(\n",
    "            optimizer=optimizer,\n",
    "            min_lr=1e-5,\n",
    "            factor=0.99,\n",
    "            mode = \"min\",\n",
    "            patience = 2\n",
    "        )\n",
    "\n",
    "        lr_scheduler = {\n",
    "            \"scheduler\": scheduler,\n",
    "            \"interval\": \"epoch\",\n",
    "            \"monitor\": \"train_loss\",\n",
    "        }\n",
    "        return [optimizer], [lr_scheduler]\n",
    "\n",
    "    def training_step(self, batch, batch_idx):\n",
    "        z = batch.to(device)\n",
    "        latent_log_prob = torch.sum(self.model.lattice.log_prob(z),-1)\n",
    "        x, log_abs_det = self.model.g(z)\n",
    "        loss = self.loss(x,log_abs_det)\n",
    "        ess = self.loss.ESS(latent_log_prob,log_abs_det)\n",
    "\n",
    "        \n",
    "        sch = self.lr_schedulers()\n",
    "        sch.step(loss)\n",
    "        self.log('train_loss', loss,prog_bar=True)\n",
    "        self.log('ess',ess)\n",
    "        self.log('mean_x',torch.mean(x))\n",
    "        self.log('lr',sch.get_last_lr()[0])\n",
    "        return loss\n",
    "\n",
    "\n",
    "    def on_train_epoch_end(self):\n",
    "        #print(\"---------------------------end epoch---------------------------------\")\n",
    "        pass\n",
    "    \n",
    "    def on_validation_end(self) -> None:\n",
    "        if not self.automatic_optimization:\n",
    "            # Save a checkpoint of the model\n",
    "            ckpt_path = os.path.join(self.trainer.log_dir, 'checkpoints', 'ckpt.pt')\n",
    "            self.trainer.save_checkpoint(ckpt_path, weights_only=True)\n",
    "        return super().on_validation_end()\n",
    "    \n",
    "    "
   ]
  },
  {
   "cell_type": "code",
   "execution_count": 7,
   "id": "fa06713c",
   "metadata": {},
   "outputs": [],
   "source": [
    "set_random_seed(42)\n",
    "nf = NormalizingFlow.config_and_init(n_blocks = 2,num_hidden = 6,hidden_dim = latt.total_nodes//2,lattice=latt,ort=True)"
   ]
  },
  {
   "cell_type": "code",
   "execution_count": 8,
   "id": "03b1a0a0-68d8-4471-93f0-1971b8b5a916",
   "metadata": {},
   "outputs": [],
   "source": [
    "nf = NormalizingFlow.load_model(\"./weights/field.pth\").to(device)"
   ]
  },
  {
   "cell_type": "code",
   "execution_count": 9,
   "id": "546fbe93",
   "metadata": {},
   "outputs": [
    {
     "name": "stdout",
     "output_type": "stream",
     "text": [
      "(tensor(0.0014, device='cuda:0'), tensor(0.0006, device='cuda:0', grad_fn=<LinalgVectorNormBackward0>))\n"
     ]
    }
   ],
   "source": [
    "z=next(iter(train_loader))\n",
    "print(nf.g_f_test(z))"
   ]
  },
  {
   "cell_type": "code",
   "execution_count": 10,
   "id": "512f9a56-e420-4e02-b861-4a4dfb0d7cbe",
   "metadata": {},
   "outputs": [
    {
     "name": "stderr",
     "output_type": "stream",
     "text": [
      "GPU available: True (cuda), used: True\n",
      "TPU available: False, using: 0 TPU cores\n",
      "HPU available: False, using: 0 HPUs\n"
     ]
    }
   ],
   "source": [
    "\n",
    "set_random_seed(42)\n",
    "\n",
    "\n",
    "pipeline = Pipeline(model = nf, \n",
    "                  latent = normal_dist ,\n",
    "                  criterion = sf.get_KL(), \n",
    "                  optimizer_class=torch.optim.Adam,\n",
    "                  optimizer_kwargs={\"lr\": 0.001,\"weight_decay\":1}).to(device)\n",
    "\n",
    "trainer = pl.Trainer(\n",
    "        max_epochs = 100,\n",
    "        logger = TensorBoardLogger(save_dir=f\"./logs/field\"),\n",
    "        num_sanity_val_steps = 0,\n",
    "        log_every_n_steps = 1,\n",
    "        enable_checkpointing = False,\n",
    "        accumulate_grad_batches = 1)\n",
    "\n",
    "#trainer.fit(model=pipeline, train_dataloaders = train_loader)"
   ]
  },
  {
   "cell_type": "code",
   "execution_count": 11,
   "id": "b93bc0f1",
   "metadata": {},
   "outputs": [
    {
     "name": "stderr",
     "output_type": "stream",
     "text": [
      "You are using a CUDA device ('NVIDIA GeForce RTX 4070 Laptop GPU') that has Tensor Cores. To properly utilize them, you should set `torch.set_float32_matmul_precision('medium' | 'high')` which will trade-off precision for performance. For more details, read https://pytorch.org/docs/stable/generated/torch.set_float32_matmul_precision.html#torch.set_float32_matmul_precision\n",
      "LOCAL_RANK: 0 - CUDA_VISIBLE_DEVICES: [0]\n",
      "\n",
      "  | Name  | Type            | Params | Mode \n",
      "--------------------------------------------------\n",
      "0 | model | NormalizingFlow | 302 M  | train\n",
      "1 | loss  | KL_with_S       | 0      | train\n",
      "--------------------------------------------------\n",
      "302 M     Trainable params\n",
      "0         Non-trainable params\n",
      "302 M     Total params\n",
      "1,209.336 Total estimated model params size (MB)\n",
      "235       Modules in train mode\n",
      "0         Modules in eval mode\n",
      "/home/seva/PIMC/PIMC/PIMC-py/.venv/lib/python3.12/site-packages/pytorch_lightning/trainer/connectors/data_connector.py:433: The 'train_dataloader' does not have many workers which may be a bottleneck. Consider increasing the value of the `num_workers` argument` to `num_workers=15` in the `DataLoader` to improve performance.\n"
     ]
    },
    {
     "name": "stdout",
     "output_type": "stream",
     "text": [
      "Epoch 0:   0%|          | 0/16384 [00:00<?, ?it/s] "
     ]
    },
    {
     "name": "stderr",
     "output_type": "stream",
     "text": [
      "/home/seva/PIMC/PIMC/PIMC-py/.venv/lib/python3.12/site-packages/torch/optim/lr_scheduler.py:1340: UserWarning: Converting a tensor with requires_grad=True to a scalar may lead to unexpected behavior.\n",
      "Consider using tensor.detach() first. (Triggered internally at /pytorch/torch/csrc/autograd/generated/python_variable_methods.cpp:835.)\n",
      "  current = float(metrics)\n"
     ]
    },
    {
     "name": "stdout",
     "output_type": "stream",
     "text": [
      "Epoch 0:  16%|█▌        | 2653/16384 [06:35<34:05,  6.71it/s, v_num=27, train_loss=30.90]  "
     ]
    },
    {
     "name": "stderr",
     "output_type": "stream",
     "text": [
      "\n",
      "Detected KeyboardInterrupt, attempting graceful shutdown ...\n"
     ]
    },
    {
     "ename": "SystemExit",
     "evalue": "1",
     "output_type": "error",
     "traceback": [
      "An exception has occurred, use %tb to see the full traceback.\n",
      "\u001b[31mSystemExit\u001b[39m\u001b[31m:\u001b[39m 1\n"
     ]
    },
    {
     "name": "stderr",
     "output_type": "stream",
     "text": [
      "/home/seva/PIMC/PIMC/PIMC-py/.venv/lib/python3.12/site-packages/IPython/core/interactiveshell.py:3707: UserWarning: To exit: use 'exit', 'quit', or Ctrl-D.\n",
      "  warn(\"To exit: use 'exit', 'quit', or Ctrl-D.\", stacklevel=1)\n"
     ]
    }
   ],
   "source": [
    "try: \n",
    "    trainer.fit(model=pipeline, train_dataloaders = train_loader)\n",
    "except Exception:\n",
    "    nf.save(\"./weights/field.pth\")\n",
    "    "
   ]
  },
  {
   "cell_type": "code",
   "execution_count": 19,
   "id": "34e09c8d",
   "metadata": {},
   "outputs": [
    {
     "data": {
      "text/plain": [
       "NormalizingFlow(\n",
       "  (flows): ModuleList(\n",
       "    (0-7): 8 x AffineCouplingLayer(\n",
       "      (theta): ThetaNetwork(\n",
       "        (input): Linear(in_features=128, out_features=512, bias=True)\n",
       "        (hidden): ModuleList(\n",
       "          (0-5): 6 x Sequential(\n",
       "            (0): Linear(in_features=512, out_features=512, bias=True)\n",
       "            (1): Dropout(p=0, inplace=False)\n",
       "            (2): LayerNorm((np.int64(512),), eps=1e-05, elementwise_affine=True)\n",
       "          )\n",
       "        )\n",
       "        (dims): Linear(in_features=512, out_features=256, bias=True)\n",
       "      )\n",
       "    )\n",
       "  )\n",
       ")"
      ]
     },
     "execution_count": 19,
     "metadata": {},
     "output_type": "execute_result"
    }
   ],
   "source": [
    "nf = NormalizingFlow.load_model(\"./weights/field.pth\").to(device)\n",
    "nf.eval()"
   ]
  },
  {
   "cell_type": "code",
   "execution_count": null,
   "id": "9de77e8a",
   "metadata": {},
   "outputs": [
    {
     "name": "stdout",
     "output_type": "stream",
     "text": [
      "tensor(0.0047, device='cuda:0') tensor(0.0106, device='cuda:0')\n"
     ]
    }
   ],
   "source": [
    "\"\"\"\n",
    "z = normal_dist.sample((1000,)).to(device)\n",
    "with torch.no_grad():\n",
    "    phi, _ = nf.g(z)\n",
    "err = torch.std(phi)    \n",
    "phi = torch.mean(phi,0)\n",
    "\n",
    "prop_x = sf.get_free_prop_x() \n",
    "phi_theor = -torch.matmul(prop_x,sf.J)\n",
    "print(torch.mean(phi-phi_theor),err/(1000 ** 0.5))\n",
    "\"\"\"\n"
   ]
  },
  {
   "cell_type": "code",
   "execution_count": null,
   "id": "43af8bc2",
   "metadata": {},
   "outputs": [
    {
     "data": {
      "image/png": "[encoded data removed]",
      "text/plain": [
       "<Figure size 640x480 with 1 Axes>"
      ]
     },
     "metadata": {},
     "output_type": "display_data"
    }
   ],
   "source": [
    "\"\"\"\n",
    "z = normal_dist.sample((100,)).to(device)\n",
    "with torch.no_grad():\n",
    "    phi, _ = nf.g(z)\n",
    "phi = torch.mean(phi,0)\n",
    "\n",
    "av = sf.lattice.get_time_averaging_mat()\n",
    "phi = torch.matmul(av,phi)\n",
    "\n",
    "plt.figure()\n",
    "plt.scatter(np.arange(sf.lattice.n_nodes[1]),-phi.cpu())\n",
    "plt.show()\n",
    "\"\"\""
   ]
  }
 ],
 "metadata": {
  "kernelspec": {
   "display_name": ".venv",
   "language": "python",
   "name": "python3"
  },
  "language_info": {
   "codemirror_mode": {
    "name": "ipython",
    "version": 3
   },
   "file_extension": ".py",
   "mimetype": "text/x-python",
   "name": "python",
   "nbconvert_exporter": "python",
   "pygments_lexer": "ipython3",
   "version": "3.12.3"
  }
 },
 "nbformat": 4,
 "nbformat_minor": 5
}
