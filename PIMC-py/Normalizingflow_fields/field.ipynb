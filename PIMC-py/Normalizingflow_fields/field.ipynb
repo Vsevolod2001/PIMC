{
 "cells": [
  {
   "cell_type": "code",
   "execution_count": 1,
   "id": "55d2823b",
   "metadata": {},
   "outputs": [],
   "source": [
    "import matplotlib.pyplot as plt\n",
    "import numpy as np"
   ]
  },
  {
   "cell_type": "code",
   "execution_count": 2,
   "id": "3978be52-6e34-4e0a-b401-c56031d17d54",
   "metadata": {},
   "outputs": [],
   "source": [
    "import torch\n",
    "import pytorch_lightning as pl\n",
    "from torch.utils.data import DataLoader\n",
    "from pytorch_lightning.loggers import TensorBoardLogger\n",
    "device = torch.device(\"cuda\" if torch.cuda.is_available() else \"cpu\")"
   ]
  },
  {
   "cell_type": "code",
   "execution_count": 3,
   "id": "c93eb4f7",
   "metadata": {
    "tags": []
   },
   "outputs": [],
   "source": [
    "from systems.Fields.scalar_field import Scalar_Field\n",
    "from systems.Fields.phi4 import Phi4\n",
    "from flows.NormalizingFlow import NormalizingFlow    \n",
    "from lattice import Lattice\n",
    "torch.set_default_dtype(torch.float64)\n",
    "\n",
    "def set_random_seed(seed):\n",
    "    torch.manual_seed(seed)\n",
    "    np.random.seed(seed)\n",
    "\n",
    "set_random_seed(42)\n",
    "\n",
    "\n",
    "L = 8\n",
    "latt = Lattice([16,L],[16,4],device=device)\n",
    "sf = Scalar_Field(latt,1)\n",
    "sf.set_J_local(1,[0,L//2])\n",
    "\n",
    "\n",
    "\n"
   ]
  },
  {
   "cell_type": "code",
   "execution_count": 4,
   "id": "23f2495c-14bc-49b4-8614-69d77ce8ef65",
   "metadata": {},
   "outputs": [],
   "source": [
    "normal_dist = latt.normal_sampler()\n",
    "train_loader = latt.get_train_loader(epoch_size = 2**16,batch_size=2 ** 10)"
   ]
  },
  {
   "cell_type": "code",
   "execution_count": 5,
   "id": "5401fb59",
   "metadata": {
    "tags": []
   },
   "outputs": [],
   "source": [
    "class Pipeline(pl.LightningModule):\n",
    "    def __init__(\n",
    "        self,\n",
    "        model,\n",
    "        latent,\n",
    "        criterion,\n",
    "        optimizer_class=torch.optim.Adam,\n",
    "        optimizer_kwargs={\"lr\": 0.001,\"weight_decay\": 0}\n",
    "    ) -> None:\n",
    "        \n",
    "        super().__init__()\n",
    "        self.model = model\n",
    "\n",
    "        self.loss = criterion.to(device)\n",
    "        self.latent = latent\n",
    "        self.optimizer_class = optimizer_class\n",
    "        self.optimizer_kwargs = optimizer_kwargs\n",
    "        \n",
    "    \"\"\"\n",
    "    def configure_optimizers(self):\n",
    "        optimizer = self.optimizer_class(\n",
    "            self.model.parameters(), **self.optimizer_kwargs\n",
    "        )\n",
    "        return optimizer\n",
    "    \"\"\"\n",
    "    \n",
    "    def configure_optimizers(self):\n",
    "        optimizer = self.optimizer_class(self.model.parameters(), **self.optimizer_kwargs)\n",
    "        \n",
    "        scheduler = torch.optim.lr_scheduler.ReduceLROnPlateau(\n",
    "            optimizer=optimizer,\n",
    "            min_lr=1e-5,\n",
    "            factor=0.99,\n",
    "            mode=\"min\",\n",
    "            patience = 2\n",
    "        )\n",
    "\n",
    "        lr_scheduler = {\n",
    "            \"scheduler\": scheduler,\n",
    "            \"interval\": \"epoch\",\n",
    "            \"monitor\": \"train_loss\",\n",
    "        }\n",
    "        return [optimizer], [lr_scheduler]\n",
    "\n",
    "    def training_step(self, batch, batch_idx):\n",
    "        z = batch.to(device)\n",
    "        latent_log_prob = torch.sum(self.latent.log_prob(z.cpu()).to(device),-1)\n",
    "        x, log_abs_det = self.model.g(z)\n",
    "        loss = self.loss(x,log_abs_det)\n",
    "        ess = self.loss.ESS(latent_log_prob,log_abs_det)\n",
    "\n",
    "        \n",
    "        sch = self.lr_schedulers()\n",
    "        sch.step(loss)\n",
    "        self.log('train_loss', loss,prog_bar=True)\n",
    "        self.log('ess',ess)\n",
    "        self.log('mean_x',torch.mean(x))\n",
    "        self.log('lr',sch.get_last_lr()[0])\n",
    "        return loss\n",
    "\n",
    "\n",
    "    def on_train_epoch_end(self):\n",
    "        #print(\"---------------------------end epoch---------------------------------\")\n",
    "        pass\n",
    "    \n",
    "    def on_validation_end(self) -> None:\n",
    "        if not self.automatic_optimization:\n",
    "            # Save a checkpoint of the model\n",
    "            ckpt_path = os.path.join(self.trainer.log_dir, 'checkpoints', 'ckpt.pt')\n",
    "            self.trainer.save_checkpoint(ckpt_path, weights_only=True)\n",
    "        return super().on_validation_end()\n",
    "    \n",
    "    "
   ]
  },
  {
   "cell_type": "code",
   "execution_count": null,
   "id": "fa06713c",
   "metadata": {},
   "outputs": [],
   "source": [
    "set_random_seed(42)\n",
    "nf = NormalizingFlow.config_and_init(n_flows = 4,num_hidden = 6,hidden_dim = 2 * latt.total_nodes,lattice=latt,ort=True)\n",
    "nf.save(\"./weights/field.pth\") "
   ]
  },
  {
   "cell_type": "code",
   "execution_count": null,
   "id": "03b1a0a0-68d8-4471-93f0-1971b8b5a916",
   "metadata": {},
   "outputs": [],
   "source": [
    "nf = NormalizingFlow.load_model(\"./weights/field.pth\").to(device)"
   ]
  },
  {
   "cell_type": "code",
   "execution_count": 17,
   "id": "33c48f58",
   "metadata": {},
   "outputs": [
    {
     "name": "stdout",
     "output_type": "stream",
     "text": [
      "cuda:0\n"
     ]
    }
   ],
   "source": [
    "z = next(iter(train_loader)).to(device)\n",
    "print(z.device)\n",
    "x, _ = nf.g(z)"
   ]
  },
  {
   "cell_type": "code",
   "execution_count": 22,
   "id": "512f9a56-e420-4e02-b861-4a4dfb0d7cbe",
   "metadata": {},
   "outputs": [
    {
     "name": "stderr",
     "output_type": "stream",
     "text": [
      "GPU available: True (cuda), used: True\n",
      "TPU available: False, using: 0 TPU cores\n",
      "HPU available: False, using: 0 HPUs\n",
      "LOCAL_RANK: 0 - CUDA_VISIBLE_DEVICES: [0]\n",
      "\n",
      "  | Name  | Type            | Params | Mode \n",
      "--------------------------------------------------\n",
      "0 | model | NormalizingFlow | 5.4 M  | train\n",
      "1 | loss  | KL_with_S       | 0      | train\n",
      "--------------------------------------------------\n",
      "5.4 M     Trainable params\n",
      "0         Non-trainable params\n",
      "5.4 M     Total params\n",
      "21.473    Total estimated model params size (MB)\n",
      "351       Modules in train mode\n",
      "0         Modules in eval mode\n"
     ]
    },
    {
     "name": "stdout",
     "output_type": "stream",
     "text": [
      "Epoch 1: 100%|██████████| 64/64 [00:12<00:00,  5.14it/s, v_num=26, train_loss=-64.9] "
     ]
    },
    {
     "name": "stderr",
     "output_type": "stream",
     "text": [
      "`Trainer.fit` stopped: `max_epochs=2` reached.\n"
     ]
    },
    {
     "name": "stdout",
     "output_type": "stream",
     "text": [
      "Epoch 1: 100%|██████████| 64/64 [00:12<00:00,  5.14it/s, v_num=26, train_loss=-64.9]\n"
     ]
    }
   ],
   "source": [
    "set_random_seed(42)\n",
    "\n",
    "\n",
    "pipeline = Pipeline(model = nf, \n",
    "                  latent = normal_dist ,\n",
    "                  criterion = sf.get_KL(), \n",
    "                  optimizer_class=torch.optim.Adam,\n",
    "                  optimizer_kwargs={\"lr\": 0.001,\"weight_decay\":0.0}).to(device)\n",
    "\n",
    "trainer = pl.Trainer(\n",
    "        max_epochs = 2,\n",
    "        logger = TensorBoardLogger(save_dir=f\"./logs/field\"),\n",
    "        num_sanity_val_steps = 0,\n",
    "        log_every_n_steps = 1,\n",
    "        enable_checkpointing = False,\n",
    "        accumulate_grad_batches = 1)\n",
    "\n",
    "trainer.fit(model=pipeline, train_dataloaders = train_loader)\n",
    "nf.save(\"./weights/field.pth\")"
   ]
  },
  {
   "cell_type": "code",
   "execution_count": 21,
   "id": "34e09c8d",
   "metadata": {},
   "outputs": [],
   "source": [
    "nf = NormalizingFlow.load_model(\"./weights/field.pth\").to(device)"
   ]
  },
  {
   "cell_type": "code",
   "execution_count": 20,
   "id": "43af8bc2",
   "metadata": {},
   "outputs": [
    {
     "data": {
      "image/png": "[encoded data removed]",
      "text/plain": [
       "<Figure size 640x480 with 1 Axes>"
      ]
     },
     "metadata": {},
     "output_type": "display_data"
    }
   ],
   "source": [
    "z = normal_dist.sample((100,)).to(device)\n",
    "with torch.no_grad():\n",
    "    phi, _ = nf.g(z)\n",
    "phi = torch.mean(phi,0)\n",
    "\n",
    "av = sf.lattice.get_time_averaging_mat()\n",
    "phi = torch.matmul(av,phi)\n",
    "\n",
    "plt.figure()\n",
    "plt.scatter(np.arange(sf.lattice.n_nodes[1]),-phi.cpu())\n",
    "plt.show()"
   ]
  },
  {
   "cell_type": "code",
   "execution_count": null,
   "id": "53069a0c",
   "metadata": {},
   "outputs": [],
   "source": []
  }
 ],
 "metadata": {
  "kernelspec": {
   "display_name": ".venv",
   "language": "python",
   "name": "python3"
  },
  "language_info": {
   "codemirror_mode": {
    "name": "ipython",
    "version": 3
   },
   "file_extension": ".py",
   "mimetype": "text/x-python",
   "name": "python",
   "nbconvert_exporter": "python",
   "pygments_lexer": "ipython3",
   "version": "3.12.3"
  }
 },
 "nbformat": 4,
 "nbformat_minor": 5
}
