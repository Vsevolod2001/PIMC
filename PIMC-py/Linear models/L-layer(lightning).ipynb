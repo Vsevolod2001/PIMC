{
 "cells": [
  {
   "cell_type": "code",
   "execution_count": 1,
   "id": "2c367363",
   "metadata": {
    "execution": {
     "iopub.status.busy": "2024-01-24T16:44:28.821474960Z",
     "iopub.status.idle": "2024-01-24T16:44:28.824855025Z",
     "shell.execute_reply": "2024-01-24T16:44:28.821419169Z"
    },
    "tags": []
   },
   "outputs": [],
   "source": [
    "from typing import Callable, List, Tuple\n",
    "\n",
    "import pytorch_lightning as pl\n",
    "import torch\n",
    "import torch.nn.functional as F\n",
    "from torch import nn\n",
    "from torch.distributions.distribution import Distribution\n",
    "from pytorch_lightning.loggers import TensorBoardLogger\n",
    "device = torch.device(\"cuda\" if torch.cuda.is_available() else \"cpu\")\n"
   ]
  },
  {
   "cell_type": "code",
   "execution_count": 2,
   "id": "5baefebb",
   "metadata": {},
   "outputs": [],
   "source": [
    "import torch\n",
    "from torch import nn\n",
    "import numpy as np\n",
    "\n",
    "class Linear_CL(nn.Linear):\n",
    "    def __init__(self,n):\n",
    "        super().__init__(n,n,bias=False)\n",
    "        self.n=n\n",
    "        \n",
    "    def log_abs_det(self):\n",
    "        return torch.log(torch.abs(torch.det(self.weight)))\n",
    "    \n",
    "    def g(self,z):\n",
    "        return self.forward(z), (self.log_abs_det())*torch.ones((z.shape[0]))\n",
    "        "
   ]
  },
  {
   "cell_type": "code",
   "execution_count": 3,
   "id": "ffdb9efa",
   "metadata": {},
   "outputs": [],
   "source": [
    "import torch\n",
    "from torch import nn\n",
    "import numpy as np\n",
    "\n",
    "class L1(nn.Linear):\n",
    "    def __init__(self,n):\n",
    "        super().__init__(n*(n-1)//2,1,bias=False)\n",
    "        self.n=n\n",
    "        self.mask2d=torch.zeros((n*(n-1) // 2),dtype=int)\n",
    "        for i in range(1,n):\n",
    "            for j in range(i):\n",
    "                self.mask2d[i*(i-1)//2+j]=i*n+j\n",
    "        self.d_ind=[(n+1)*k for k in range(n)]\n",
    "        self.ones=torch.ones((n))\n",
    "    \n",
    "    def anti_flatten(self):\n",
    "        n=self.n\n",
    "        L=torch.zeros((n**2)).to(device)\n",
    "        L[self.mask2d]=self.weight.to(device)\n",
    "        L[self.d_ind]=self.ones\n",
    "        L=torch.reshape(L,(n,n)).to(device)\n",
    "        return L        \n",
    "            \n",
    "    def log_abs_det(self):\n",
    "        return 0\n",
    "    \n",
    "    def forward(self,x):\n",
    "        Lwt=torch.t(self.anti_flatten())\n",
    "        return torch.matmul(x,Lwt)\n",
    "    \n",
    "    def g(self,z):\n",
    "        return self.forward(z), torch.zeros((z.shape[0]))\n",
    "        \n",
    "    def adj(self,mat):\n",
    "        Lw=self.anti_flatten()\n",
    "        Lwt=torch.t(Lw)\n",
    "        D=torch.matmul(Lwt,torch.matmul(mat,Lw))\n",
    "        return D\n",
    "    "
   ]
  },
  {
   "cell_type": "code",
   "execution_count": 4,
   "id": "02681dbf",
   "metadata": {},
   "outputs": [],
   "source": [
    "import torch\n",
    "from torch import nn\n",
    "import numpy as np\n",
    "\n",
    "class D(nn.Linear):\n",
    "    def __init__(self,n):\n",
    "        super().__init__(n,1,bias=False)\n",
    "        self.n=n\n",
    "        self.d_ind=[(n+1)*k for k in range(n)]\n",
    "    \n",
    "    def anti_flatten(self):\n",
    "        n=self.n\n",
    "        D=torch.zeros((n**2)).to(device)\n",
    "        D[self.d_ind]=self.weight.to(device)\n",
    "        D=torch.reshape(D,(n,n)).to(device)\n",
    "        return D        \n",
    "            \n",
    "    def log_abs_det(self):\n",
    "        ABS=torch.abs(self.weight)\n",
    "        l=torch.log(ABS)\n",
    "        lad=torch.sum(l)\n",
    "        return lad\n",
    "    \n",
    "    def forward(self,x):\n",
    "        D=self.anti_flatten()\n",
    "        return torch.matmul(x,D)\n",
    "    \n",
    "    def g(self,z):\n",
    "        lad=self.log_abs_det()\n",
    "        return self.forward(z), lad * torch.ones((z.shape[0]))\n",
    "        \n",
    "    def adj(self,mat):\n",
    "        Lw=self.anti_flatten()\n",
    "        Lwt=torch.t(Lw)\n",
    "        D=torch.matmul(Lwt,torch.matmul(mat,Lw))\n",
    "        return D\n",
    "    "
   ]
  },
  {
   "cell_type": "code",
   "execution_count": 5,
   "id": "de40e85b",
   "metadata": {},
   "outputs": [],
   "source": [
    "m=L1(10)\n",
    "#print(m.anti_flatten())\n",
    "d=D(10)\n",
    "#print(d.anti_flatten())"
   ]
  },
  {
   "cell_type": "code",
   "execution_count": 6,
   "id": "a0c95929",
   "metadata": {},
   "outputs": [
    {
     "name": "stdout",
     "output_type": "stream",
     "text": [
      "tensor([[ 0.0746, -0.0933,  0.0117, -0.1131,  0.1047, -0.0332,  0.0792, -0.2627,\n",
      "          0.0493,  0.0783],\n",
      "        [ 0.0750, -0.0875,  0.0006, -0.0833,  0.0055, -0.1197,  0.0851, -0.2436,\n",
      "          0.0204,  0.1890],\n",
      "        [ 0.0323, -0.1165,  0.0767, -0.2221,  0.0609, -0.1830,  0.0783, -0.0787,\n",
      "          0.0010,  0.0179],\n",
      "        [ 0.0320, -0.1088,  0.0016, -0.2157,  0.0841, -0.1873,  0.0332, -0.1772,\n",
      "          0.0155,  0.0217],\n",
      "        [ 0.1233, -0.1639,  0.1090, -0.0819,  0.1413, -0.1988,  0.0267, -0.1159,\n",
      "          0.0077,  0.1147],\n",
      "        [ 0.1110, -0.1642,  0.0098, -0.1949,  0.0147, -0.0869,  0.0376, -0.2151,\n",
      "          0.1059,  0.2148],\n",
      "        [ 0.1238, -0.0825,  0.0203, -0.0175,  0.1279, -0.0307,  0.0835, -0.2521,\n",
      "          0.0237,  0.2739],\n",
      "        [ 0.0247, -0.1978,  0.1533, -0.1773,  0.0748, -0.1591,  0.0668, -0.1809,\n",
      "          0.0332,  0.0917],\n",
      "        [ 0.0189, -0.0234,  0.0584, -0.1419,  0.0888, -0.0806,  0.0044, -0.1699,\n",
      "          0.0192,  0.0369],\n",
      "        [ 0.1305, -0.0232,  0.0787, -0.0581,  0.0615, -0.0066,  0.0372, -0.2853,\n",
      "          0.0852,  0.0447]], grad_fn=<MmBackward0>) tensor([-16.7755, -16.7755, -16.7755, -16.7755, -16.7755, -16.7755, -16.7755,\n",
      "        -16.7755, -16.7755, -16.7755], grad_fn=<MulBackward0>)\n"
     ]
    }
   ],
   "source": [
    "z=torch.rand((10,10))\n",
    "x, lad= m.g(z)\n",
    "x, lad= d.g(z)\n",
    "print(x, lad)"
   ]
  },
  {
   "cell_type": "code",
   "execution_count": 7,
   "id": "7bb50635",
   "metadata": {
    "execution": {
     "iopub.execute_input": "2024-01-21T16:57:44.641553Z",
     "iopub.status.busy": "2024-01-21T16:57:44.640468Z",
     "iopub.status.idle": "2024-01-21T16:57:44.663958Z",
     "shell.execute_reply": "2024-01-21T16:57:44.662825Z",
     "shell.execute_reply.started": "2024-01-21T16:57:44.641502Z"
    },
    "tags": []
   },
   "outputs": [],
   "source": [
    "import torch\n",
    "from torch import nn\n",
    "import numpy as np\n",
    "\n",
    "class L(nn.Linear):\n",
    "    def __init__(self,n):\n",
    "        super().__init__(n*(n+1)//2,1,bias=False)\n",
    "        self.n=n\n",
    "        self.diag_mask=torch.tensor([ (k+1) * (k+2) // 2 - 1 for k in range(n)])\n",
    "        self.mask2d=torch.zeros((n*(n+1) // 2),dtype=int)\n",
    "        for i in range(n):\n",
    "            for j in range(i+1):\n",
    "                self.mask2d[i*(i+1)//2+j]=i*n+j\n",
    "    \n",
    "    def anti_flatten(self):\n",
    "        n=self.n\n",
    "        L=torch.zeros((n**2)).to(device)\n",
    "        L[self.mask2d]=self.weight.to(device) \n",
    "        L=torch.reshape(L,(n,n)).to(device)\n",
    "        return L        \n",
    "            \n",
    "    def log_abs_det(self):\n",
    "        diag=self.weight[0][self.diag_mask]\n",
    "        la=torch.log(torch.abs(diag))\n",
    "        lad=torch.sum(la)\n",
    "        return lad\n",
    "    \n",
    "    def forward(self,x):\n",
    "        Lwt=torch.t(self.anti_flatten())\n",
    "        return torch.matmul(x,Lwt)\n",
    "        \n",
    "    def adj(self,mat):\n",
    "        Lw=self.anti_flatten()\n",
    "        Lwt=torch.t(Lw)\n",
    "        D=torch.matmul(Lwt,torch.matmul(mat,Lw))\n",
    "        return D\n",
    "    "
   ]
  },
  {
   "cell_type": "code",
   "execution_count": 8,
   "id": "4177d0f7",
   "metadata": {},
   "outputs": [
    {
     "name": "stdout",
     "output_type": "stream",
     "text": [
      "False\n"
     ]
    }
   ],
   "source": [
    "from NFandist import get_O, get_A\n",
    "from NFconstants import N_nod, Beta\n",
    "O=(torch.tensor(get_O(N_nod)).float()).to(device)\n",
    "Ot=torch.t(O)\n",
    "print(Ot.requires_grad)\n",
    "\n",
    "A=(torch.tensor(get_A(N_nod,Beta)).float()).to(device)\n",
    "I=(torch.eye(N_nod)).to(device)"
   ]
  },
  {
   "cell_type": "code",
   "execution_count": 9,
   "id": "a112bc9b",
   "metadata": {},
   "outputs": [],
   "source": [
    "class NormalizingFlow(nn.Module):\n",
    "    \n",
    "    def __init__(self, latent: Distribution, flows: List[nn.Module], conv_flows = [], ort=False):\n",
    "        super().__init__()\n",
    "        self.latent = latent\n",
    "        self.flows = flows\n",
    "        self.ort = ort\n",
    "        self.conv_flows = conv_flows\n",
    "\n",
    "    def latent_sample(self, num_samples: int = 1) -> torch.Tensor:\n",
    "        z=self.latent.sample((num_samples,))\n",
    "        return z        \n",
    "\n",
    "    def sample(self, num_samples: int = 1) -> torch.Tensor:\n",
    "        \"\"\"Sample a new observation x by sampling z from\n",
    "        the latent distribution and pass through g.\"\"\"\n",
    "        z=(self.latent_sample(num_samples))\n",
    "        with torch.no_grad():\n",
    "            x, _ = self.g(z)\n",
    "        return x \n",
    "    \n",
    "\n",
    "    def g(self, z: torch.Tensor) -> torch.Tensor:\n",
    "        \n",
    "        #x, sum_log_abs_det = z, torch.ones(z.size(0)).to(z.device)\n",
    "        x, sum_log_abs_det = z, torch.zeros(z.size(0)).to(z.device)\n",
    "        for flow in reversed(self.flows):\n",
    "            x, log_abs_det = flow.g(x)\n",
    "            sum_log_abs_det += log_abs_det\n",
    "        \n",
    "        if self.ort:\n",
    "            x=torch.matmul(x,Ot.to(x.device))\n",
    "        \n",
    "        #x=x*a    \n",
    "        \n",
    "        for flow in reversed(self.conv_flows):\n",
    "            x, log_abs_det = flow.g(x)\n",
    "            sum_log_abs_det += log_abs_det\n",
    "        return x, sum_log_abs_det\n",
    "    \n",
    "        \n",
    "    def __len__(self) -> int:\n",
    "        return len(self.flows)\n",
    "    "
   ]
  },
  {
   "cell_type": "code",
   "execution_count": 17,
   "id": "857f6d2b",
   "metadata": {},
   "outputs": [],
   "source": [
    "def configure_flows():  # n_flows=8,...,12\n",
    "    flows=[]\n",
    "    \n",
    "    #flows.append(Linear_CL(N_nod))\n",
    "    flows.append(D(N_nod))\n",
    "    flows.append(L1(N_nod))\n",
    "\n",
    "    \n",
    "    flows = nn.ModuleList(flows)\n",
    "    return flows "
   ]
  },
  {
   "cell_type": "code",
   "execution_count": 18,
   "id": "1ab3fa53",
   "metadata": {
    "execution": {
     "iopub.execute_input": "2024-01-21T16:57:45.696455Z",
     "iopub.status.busy": "2024-01-21T16:57:45.695166Z",
     "iopub.status.idle": "2024-01-21T16:57:46.086456Z",
     "shell.execute_reply": "2024-01-21T16:57:46.085371Z",
     "shell.execute_reply.started": "2024-01-21T16:57:45.696400Z"
    },
    "tags": []
   },
   "outputs": [],
   "source": [
    "from NFconstants import N_nod, Beta , N_traj\n",
    "from NFandist import get_A, get_C\n",
    "A=(torch.tensor(get_A(N_nod,Beta)).float()).to(device)\n",
    "I=(torch.eye(N_nod)).to(device)\n",
    "def set_random_seed(seed):\n",
    "    torch.manual_seed(seed)\n",
    "    np.random.seed(seed)\n"
   ]
  },
  {
   "cell_type": "code",
   "execution_count": 19,
   "id": "b66a3749",
   "metadata": {
    "execution": {
     "iopub.execute_input": "2024-01-21T16:57:46.453500Z",
     "iopub.status.busy": "2024-01-21T16:57:46.452562Z",
     "iopub.status.idle": "2024-01-21T16:57:46.467139Z",
     "shell.execute_reply": "2024-01-21T16:57:46.466118Z",
     "shell.execute_reply.started": "2024-01-21T16:57:46.453455Z"
    },
    "tags": []
   },
   "outputs": [],
   "source": [
    "class Cheatloss(nn.Module):\n",
    "    def __init__(self):\n",
    "        super(Cheatloss, self).__init__()\n",
    "\n",
    "    def forward(self, model,lad):\n",
    "        A_D=model.adj(A)\n",
    "        loss=0.5*torch.trace(A_D)-lad\n",
    "        return loss\n",
    "CL=Cheatloss()"
   ]
  },
  {
   "cell_type": "code",
   "execution_count": 20,
   "id": "d85bbd7b",
   "metadata": {
    "execution": {
     "iopub.execute_input": "2024-01-21T16:57:48.022398Z",
     "iopub.status.busy": "2024-01-21T16:57:48.021387Z",
     "iopub.status.idle": "2024-01-21T16:57:48.038714Z",
     "shell.execute_reply": "2024-01-21T16:57:48.037452Z",
     "shell.execute_reply.started": "2024-01-21T16:57:48.022345Z"
    },
    "tags": []
   },
   "outputs": [],
   "source": [
    "class Pipeline(pl.LightningModule):\n",
    "    def __init__(\n",
    "        self,\n",
    "        model,\n",
    "        criterion,\n",
    "        optimizer_class=torch.optim.Adam,\n",
    "        optimizer_kwargs={\"lr\": 0.001,\"weight_decay\": 0.01}\n",
    "    ) -> None:\n",
    "        super().__init__()\n",
    "        self.model = model\n",
    "        self.loss = criterion\n",
    "        self.optimizer_class = optimizer_class\n",
    "        self.optimizer_kwargs = optimizer_kwargs\n",
    "\n",
    "\n",
    "    def configure_optimizers(self):\n",
    "        optimizer = self.optimizer_class(\n",
    "            self.model.parameters(), **self.optimizer_kwargs\n",
    "        )\n",
    "        return optimizer\n",
    "\n",
    "    def training_step(self, batch, batch_idx):\n",
    "        z = batch\n",
    "        x, log_abs_det = model.g(z)\n",
    "        loss = self.loss(x,log_abs_det)\n",
    "        self.log('train_loss', loss, prog_bar=True)\n",
    "        return loss\n",
    "\n",
    "\n",
    "    def on_train_epoch_end(self):\n",
    "        pass"
   ]
  },
  {
   "cell_type": "code",
   "execution_count": 21,
   "id": "07d32ed0",
   "metadata": {},
   "outputs": [],
   "source": [
    "from NFoscillator import Oscillator\n",
    "from NFconstants import N_nod, Beta\n",
    "osc=Oscillator(N_nod,Beta)\n",
    "KL_osc=osc.get_KL()"
   ]
  },
  {
   "cell_type": "code",
   "execution_count": 22,
   "id": "2b5b0325",
   "metadata": {
    "execution": {
     "iopub.execute_input": "2024-01-21T16:57:49.272063Z",
     "iopub.status.busy": "2024-01-21T16:57:49.270976Z",
     "iopub.status.idle": "2024-01-21T17:15:05.447242Z",
     "shell.execute_reply": "2024-01-21T17:15:05.445798Z",
     "shell.execute_reply.started": "2024-01-21T16:57:49.272013Z"
    },
    "tags": []
   },
   "outputs": [
    {
     "name": "stderr",
     "output_type": "stream",
     "text": [
      "GPU available: False, used: False\n",
      "TPU available: False, using: 0 TPU cores\n",
      "IPU available: False, using: 0 IPUs\n",
      "HPU available: False, using: 0 HPUs\n",
      "\n",
      "  | Name  | Type            | Params\n",
      "------------------------------------------\n",
      "0 | model | NormalizingFlow | 8.3 K \n",
      "1 | loss  | KL_with_S       | 0     \n",
      "------------------------------------------\n",
      "8.3 K     Trainable params\n",
      "0         Non-trainable params\n",
      "8.3 K     Total params\n",
      "0.033     Total estimated model params size (MB)\n"
     ]
    },
    {
     "data": {
      "application/vnd.jupyter.widget-view+json": {
       "model_id": "9e41baa9a95f4774bdc4fe4d763cc707",
       "version_major": 2,
       "version_minor": 0
      },
      "text/plain": [
       "Training: |                                                                                      | 0/? [00:00<…"
      ]
     },
     "metadata": {},
     "output_type": "display_data"
    },
    {
     "name": "stderr",
     "output_type": "stream",
     "text": [
      "`Trainer.fit` stopped: `max_epochs=1000` reached.\n"
     ]
    }
   ],
   "source": [
    "from Data import normal_dist\n",
    "from Data import train_loader\n",
    "\n",
    "set_random_seed(42)\n",
    "model=NormalizingFlow(latent=normal_dist,flows=configure_flows(),ort=False)\n",
    "pipeline=Pipeline(model=model,criterion=KL_osc, optimizer_class=torch.optim.Adam,\n",
    "        optimizer_kwargs={\"lr\": 0.0001, \"weight_decay\": 0.01})\n",
    "trainer = pl.Trainer(\n",
    "    max_epochs=1000,\n",
    "    logger=TensorBoardLogger(save_dir=f\"logs/nf\"),\n",
    "    num_sanity_val_steps=0,\n",
    "    accumulate_grad_batches=8\n",
    ")\n",
    "\n",
    "trainer.fit(model=pipeline, train_dataloaders=train_loader)\n",
    "torch.save(model.state_dict(), \"model_weights.pth\")"
   ]
  },
  {
   "cell_type": "code",
   "execution_count": 56,
   "id": "836f35aa",
   "metadata": {
    "execution": {
     "iopub.execute_input": "2024-01-21T17:15:05.450939Z",
     "iopub.status.busy": "2024-01-21T17:15:05.450137Z"
    },
    "tags": []
   },
   "outputs": [
    {
     "ename": "RuntimeError",
     "evalue": "Error(s) in loading state_dict for simple_nf:\n\tMissing key(s) in state_dict: \"layer.weight\". \n\tUnexpected key(s) in state_dict: \"weight\". ",
     "output_type": "error",
     "traceback": [
      "\u001b[1;31m---------------------------------------------------------------------------\u001b[0m",
      "\u001b[1;31mRuntimeError\u001b[0m                              Traceback (most recent call last)",
      "\u001b[1;32m<ipython-input-56-11624d6ca6fe>\u001b[0m in \u001b[0;36m<module>\u001b[1;34m()\u001b[0m\n\u001b[0;32m      2\u001b[0m \u001b[0mmodel\u001b[0m\u001b[1;33m=\u001b[0m\u001b[0msimple_nf\u001b[0m\u001b[1;33m(\u001b[0m\u001b[0mL_layer\u001b[0m\u001b[1;33m)\u001b[0m\u001b[1;33m\u001b[0m\u001b[0m\n\u001b[0;32m      3\u001b[0m \u001b[1;31m#model=L_layer\u001b[0m\u001b[1;33m\u001b[0m\u001b[1;33m\u001b[0m\u001b[0m\n\u001b[1;32m----> 4\u001b[1;33m \u001b[0mmodel\u001b[0m\u001b[1;33m.\u001b[0m\u001b[0mload_state_dict\u001b[0m\u001b[1;33m(\u001b[0m\u001b[0mtorch\u001b[0m\u001b[1;33m.\u001b[0m\u001b[0mload\u001b[0m\u001b[1;33m(\u001b[0m\u001b[1;34m\"L_layer_weights.pth\"\u001b[0m\u001b[1;33m)\u001b[0m\u001b[1;33m)\u001b[0m\u001b[1;33m\u001b[0m\u001b[0m\n\u001b[0m\u001b[0;32m      5\u001b[0m pipeline=Pipeline(model=model,criterion=KL_osc, optimizer_class=torch.optim.Adam,\n\u001b[0;32m      6\u001b[0m         optimizer_kwargs={\"lr\": 0.001,\"weight_decay\": 0})\n",
      "\u001b[1;32mC:\\ProgramData\\Anaconda3\\lib\\site-packages\\torch\\nn\\modules\\module.py\u001b[0m in \u001b[0;36mload_state_dict\u001b[1;34m(self, state_dict, strict)\u001b[0m\n\u001b[0;32m   1481\u001b[0m         \u001b[1;32mif\u001b[0m \u001b[0mlen\u001b[0m\u001b[1;33m(\u001b[0m\u001b[0merror_msgs\u001b[0m\u001b[1;33m)\u001b[0m \u001b[1;33m>\u001b[0m \u001b[1;36m0\u001b[0m\u001b[1;33m:\u001b[0m\u001b[1;33m\u001b[0m\u001b[0m\n\u001b[0;32m   1482\u001b[0m             raise RuntimeError('Error(s) in loading state_dict for {}:\\n\\t{}'.format(\n\u001b[1;32m-> 1483\u001b[1;33m                                self.__class__.__name__, \"\\n\\t\".join(error_msgs)))\n\u001b[0m\u001b[0;32m   1484\u001b[0m         \u001b[1;32mreturn\u001b[0m \u001b[0m_IncompatibleKeys\u001b[0m\u001b[1;33m(\u001b[0m\u001b[0mmissing_keys\u001b[0m\u001b[1;33m,\u001b[0m \u001b[0munexpected_keys\u001b[0m\u001b[1;33m)\u001b[0m\u001b[1;33m\u001b[0m\u001b[0m\n\u001b[0;32m   1485\u001b[0m \u001b[1;33m\u001b[0m\u001b[0m\n",
      "\u001b[1;31mRuntimeError\u001b[0m: Error(s) in loading state_dict for simple_nf:\n\tMissing key(s) in state_dict: \"layer.weight\". \n\tUnexpected key(s) in state_dict: \"weight\". "
     ]
    }
   ],
   "source": [
    "model=Linear_CL(N_nod)\n",
    "#model=L_layer\n",
    "model.load_state_dict(torch.load(\"L_layer_weights.pth\"))\n",
    "pipeline=Pipeline(model=model,criterion=KL_osc, optimizer_class=torch.optim.Adam,\n",
    "        optimizer_kwargs={\"lr\": 0.001,\"weight_decay\": 0})\n",
    "\n",
    "trainer = pl.Trainer(\n",
    "    max_epochs=2000,\n",
    "    logger=TensorBoardLogger(save_dir=f\"logs/nf\"),\n",
    "    num_sanity_val_steps=0,\n",
    ")\n",
    "\n",
    "trainer.fit(model=pipeline, train_dataloaders=train_loader)\n",
    "torch.save(model.state_dict(), \"L_layer_weights.pth\")"
   ]
  },
  {
   "cell_type": "code",
   "execution_count": 20,
   "id": "a4f67ef3",
   "metadata": {},
   "outputs": [],
   "source": [
    "from Data import normal_dist\n",
    "import numpy as np\n",
    "from NFconstants import N_traj\n",
    "model_trained=NormalizingFlow(latent=normal_dist,flows=configure_flows(),ort=False)\n",
    "model_trained.load_state_dict(torch.load('model_weights.pth'))\n",
    "model_trained.eval()\n",
    "#print(NF_trained.ort)\n",
    "trajs=model_trained.sample(N_traj)"
   ]
  },
  {
   "cell_type": "code",
   "execution_count": 21,
   "id": "f837ce60",
   "metadata": {},
   "outputs": [],
   "source": [
    "from NFandist import get_T\n",
    "T=torch.tensor(get_T(N_nod)).float()\n",
    "def G(X,n_p=N_nod):\n",
    "    G=np.zeros((n_p))\n",
    "    Y=X.clone()\n",
    "    Xt=torch.t(X)\n",
    "    for s in range(n_p):\n",
    "        G[s]=torch.trace(torch.matmul(Y,Xt))\n",
    "        Y=torch.matmul(Y,T)\n",
    "    return G/(N_traj*N_nod)\n",
    "g_nf=G(trajs)"
   ]
  },
  {
   "cell_type": "code",
   "execution_count": 22,
   "id": "817d4670",
   "metadata": {},
   "outputs": [],
   "source": [
    "from NFandist import calc_G\n",
    "from NFconstants import N_nod, N_traj, NG_points,Beta\n",
    "g_osc=calc_G(N_nod,Beta,N_nod)"
   ]
  },
  {
   "cell_type": "code",
   "execution_count": 25,
   "id": "775f8d89",
   "metadata": {},
   "outputs": [
    {
     "name": "stdout",
     "output_type": "stream",
     "text": [
      "10\n"
     ]
    },
    {
     "data": {
      "image/png": "[encoded data removed]",
      "text/plain": [
       "<Figure size 640x480 with 1 Axes>"
      ]
     },
     "metadata": {},
     "output_type": "display_data"
    }
   ],
   "source": [
    "#import sys\n",
    "#sys.path.append('../')\n",
    "import numpy as np\n",
    "import matplotlib.pyplot as plt\n",
    "from NFconstants import N_nod, N_traj, NG_points,Beta\n",
    "#from Value import G\n",
    "#import ensemble\n",
    "#from NFoscillator import basic_oscillator\n",
    "#from time import time\n",
    "#from NFandist import calc_G\n",
    "\n",
    "\"\"\"\n",
    "ens_nf=ensemble.ensemble.load(\"nf_ensemble.txt\",basic_oscillator)\n",
    "g_nf=np.vstack(ensemble.ensemble.Vaverage_and_sigma(ens_nf,G))\n",
    "g_nf=g_nf.transpose()[0]\n",
    "\"\"\"\n",
    "\n",
    "g=g_osc\n",
    "print(len(g))\n",
    "fig=plt.figure()\n",
    "MCMC_list=np.arange(len(g))/len(g)\n",
    "NF_list=np.arange(len(g_nf))/len(g_nf)\n",
    "plt.scatter(MCMC_list,g)\n",
    "plt.scatter(NF_list,g_nf)\n",
    "plt.legend([\"MCMC\",\"normalizing flow\"])\n",
    "plt.grid(True)\n",
    "plt.show()"
   ]
  },
  {
   "cell_type": "code",
   "execution_count": 55,
   "id": "ad5b7542",
   "metadata": {
    "execution": {
     "iopub.execute_input": "2024-01-21T14:46:43.974083Z",
     "iopub.status.busy": "2024-01-21T14:46:43.972858Z",
     "iopub.status.idle": "2024-01-21T14:46:44.081082Z",
     "shell.execute_reply": "2024-01-21T14:46:44.080032Z",
     "shell.execute_reply.started": "2024-01-21T14:46:43.974037Z"
    },
    "tags": []
   },
   "outputs": [
    {
     "name": "stdout",
     "output_type": "stream",
     "text": [
      "tensor([[ 9.7450e-01,  6.8725e-03,  1.6029e-03,  ...,  2.9996e-02,\n",
      "          1.2987e-02, -1.0077e-02],\n",
      "        [ 6.8728e-03,  1.0180e+00, -1.9002e-02,  ...,  4.0149e-04,\n",
      "         -1.8119e-02,  1.3663e-03],\n",
      "        [ 1.6030e-03, -1.9002e-02,  9.8187e-01,  ...,  1.0302e-02,\n",
      "         -7.3258e-03,  9.5749e-03],\n",
      "        ...,\n",
      "        [ 2.9996e-02,  4.0149e-04,  1.0302e-02,  ...,  9.7388e-01,\n",
      "         -4.3421e-03, -1.0112e-02],\n",
      "        [ 1.2987e-02, -1.8119e-02, -7.3258e-03,  ..., -4.3421e-03,\n",
      "          1.0155e+00, -2.4950e-02],\n",
      "        [-1.0077e-02,  1.3663e-03,  9.5749e-03,  ..., -1.0112e-02,\n",
      "         -2.4950e-02,  1.0105e+00]], grad_fn=<MmBackward0>)\n"
     ]
    }
   ],
   "source": [
    "L_layer=L(N_nod)\n",
    "L_layer.load_state_dict(torch.load(\"L_layer_weights.pth\"))\n",
    "print(L_layer.adj(A))"
   ]
  },
  {
   "cell_type": "code",
   "execution_count": 54,
   "id": "ca4c84d1",
   "metadata": {},
   "outputs": [
    {
     "name": "stdout",
     "output_type": "stream",
     "text": [
      "tensor([[ 1.0000e+00,  5.8752e-08, -1.3914e-08,  ...,  2.2872e-08,\n",
      "          2.5498e-07,  0.0000e+00],\n",
      "        [ 4.0992e-08,  1.0000e+00, -2.7618e-08,  ...,  2.2800e-08,\n",
      "         -2.4269e-08,  2.8902e-08],\n",
      "        [-5.8108e-10, -9.3866e-08,  1.0000e+00,  ...,  4.4837e-09,\n",
      "         -4.7684e-07, -5.5179e-08],\n",
      "        ...,\n",
      "        [-1.2623e-09,  5.3057e-09, -3.6523e-10,  ...,  1.0000e+00,\n",
      "         -3.5937e-09,  1.9324e-08],\n",
      "        [-7.7986e-10, -1.9018e-10,  1.1782e-10,  ...,  5.4074e-10,\n",
      "          1.0000e+00, -2.6425e-09],\n",
      "        [ 7.4506e-09, -1.3039e-08, -2.9977e-09,  ..., -1.6764e-08,\n",
      "         -5.8208e-09,  1.0000e+00]])\n",
      "tensor([[ 2.0000e-01, -7.7642e-09, -1.9571e-09,  ..., -1.1199e-07,\n",
      "         -3.6891e-07,  0.0000e+00],\n",
      "        [-6.7893e-10,  2.7885e-01, -2.3201e-08,  ...,  2.8581e-08,\n",
      "          3.0639e-09,  3.8130e-08],\n",
      "        [-4.9183e-10, -5.3233e-09,  2.7885e-01,  ..., -8.5684e-10,\n",
      "         -9.5367e-07, -5.2030e-07],\n",
      "        ...,\n",
      "        [ 3.9386e-09, -8.6246e-11, -2.1778e-09,  ...,  2.0121e+01,\n",
      "         -7.6323e-08, -8.9375e-08],\n",
      "        [ 9.0515e-10,  3.1814e-11, -8.4611e-11,  ..., -3.0659e-08,\n",
      "          2.0121e+01, -1.7668e-07],\n",
      "        [ 7.4506e-09, -3.8650e-08, -2.2585e-08,  ...,  1.1921e-07,\n",
      "          7.4506e-09,  2.0200e+01]])\n",
      "tensor(2.4544e-06)\n"
     ]
    }
   ],
   "source": [
    "C=(torch.tensor(get_C(N_nod,beta)).float()).to(device)\n",
    "Ct=torch.t(C)\n",
    "A_e=torch.matmul(Ct,torch.matmul(A,C))\n",
    "print(A_e)\n",
    "A_D=torch.matmul(Ot,torch.matmul(A,O))\n",
    "print(A_D)\n",
    "print(torch.linalg.matrix_norm(A_e-I))"
   ]
  },
  {
   "cell_type": "code",
   "execution_count": null,
   "id": "0e94e763",
   "metadata": {
    "collapsed": true
   },
   "outputs": [],
   "source": []
  }
 ],
 "metadata": {
  "kernelspec": {
   "display_name": "Python 3 (ipykernel)",
   "language": "python",
   "name": "python3"
  },
  "language_info": {
   "codemirror_mode": {
    "name": "ipython",
    "version": 3
   },
   "file_extension": ".py",
   "mimetype": "text/x-python",
   "name": "python",
   "nbconvert_exporter": "python",
   "pygments_lexer": "ipython3",
   "version": "3.11.5"
  }
 },
 "nbformat": 4,
 "nbformat_minor": 5
}
