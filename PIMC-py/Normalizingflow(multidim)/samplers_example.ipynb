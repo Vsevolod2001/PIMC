{
 "cells": [
  {
   "cell_type": "code",
   "execution_count": 1,
   "id": "713dfc42-28cf-4ef1-90da-e5ce47786e5d",
   "metadata": {},
   "outputs": [],
   "source": [
    "import matplotlib.pyplot as plt\n",
    "import numpy as np\n",
    "import torch"
   ]
  },
  {
   "cell_type": "code",
   "execution_count": 2,
   "id": "73d56285-25e0-4aaa-b453-3ba2936ff7f9",
   "metadata": {},
   "outputs": [],
   "source": [
    "from NFconstants import N_nod, Beta\n",
    "from transforms import t_get_O\n",
    "from flows.NormalizingFlow import NormalizingFlow    \n",
    "from flows.RGflows import RGflows \n",
    "from transforms import config_RG_masks\n",
    "from setup import osc\n",
    "from obs import G\n",
    "normal_dist = torch.distributions.Normal(loc=torch.zeros(N_nod,2), scale=torch.ones(N_nod,2))"
   ]
  },
  {
   "cell_type": "code",
   "execution_count": 13,
   "id": "272a2110-156c-4f6d-82dd-24dc2f507269",
   "metadata": {},
   "outputs": [
    {
     "name": "stdout",
     "output_type": "stream",
     "text": [
      "tensor(1.0106) 0 0\n",
      "tensor(0.4755) tensor(0.5900) 0\n",
      "tensor(0.5226) tensor(0.4800) 0\n",
      "tensor(0.5122) tensor(0.6300) 0\n",
      "tensor(0.5027) tensor(0.5400) 0\n",
      "tensor(0.5070) tensor(0.5600) 0\n",
      "tensor(0.4804) tensor(0.5400) 0\n",
      "tensor(0.4957) tensor(0.5100) 0\n",
      "tensor(0.4858) tensor(0.5300) 0\n",
      "tensor(0.4899) tensor(0.5700) 0\n",
      "tensor(0.5030) tensor(0.6100) 0\n",
      "tensor(0.4952) tensor(0.6300) 0\n",
      "tensor(0.5203) tensor(0.6300) 0\n",
      "tensor(0.5109) tensor(0.5900) 0\n",
      "tensor(0.5131) tensor(0.5800) 0\n",
      "tensor(0.5063) tensor(0.5500) 0\n",
      "tensor(0.4956) tensor(0.5600) 0\n",
      "tensor(0.4862) tensor(0.6100) 0\n",
      "tensor(0.5024) tensor(0.5500) 0\n",
      "tensor(0.4861) tensor(0.5900) 0\n",
      "tensor(0.4917) tensor(0.5000) 0\n",
      "tensor(0.4821) tensor(0.5900) 0\n",
      "tensor(0.4925) tensor(0.5400) 0\n",
      "tensor(0.4947) tensor(0.4700) 0\n",
      "tensor(0.5093) tensor(0.5300) 0\n",
      "tensor(0.4864) tensor(0.6100) 0\n",
      "tensor(0.4833) tensor(0.5200) 0\n",
      "tensor(0.4926) tensor(0.5300) 0\n",
      "tensor(0.5136) tensor(0.6300) 0\n",
      "tensor(0.4835) tensor(0.5600) 0\n",
      "tensor(0.4740) tensor(0.4700) 0\n",
      "tensor(0.5027) tensor(0.5400) 0\n",
      "tensor(0.5074) tensor(0.5700) 0\n",
      "tensor(0.4983) tensor(0.5800) 0\n",
      "tensor(0.4948) tensor(0.5800) 0\n",
      "tensor(0.4957) tensor(0.5100) 0\n",
      "tensor(0.5025) tensor(0.5200) 0\n",
      "tensor(0.4854) tensor(0.6000) 0\n",
      "tensor(0.5000) tensor(0.5200) 0\n",
      "tensor(0.4901) tensor(0.5100) 0\n",
      "tensor(0.5107) tensor(0.5200) 0\n",
      "tensor(0.5028) tensor(0.6200) 0\n",
      "tensor(0.5063) tensor(0.5500) 0\n",
      "tensor(0.5079) tensor(0.5700) 0\n",
      "tensor(0.5004) tensor(0.5000) 0\n",
      "tensor(0.5124) tensor(0.6000) 0\n",
      "tensor(0.5039) tensor(0.6100) 0\n",
      "tensor(0.5047) tensor(0.5500) 0\n",
      "tensor(0.4796) tensor(0.5600) 0\n",
      "tensor(0.4883) tensor(0.5600) 0\n",
      "tensor(0.5129) tensor(0.4500) 0\n",
      "tensor(0.4969) tensor(0.5800) 0\n",
      "tensor(0.4851) tensor(0.5500) 0\n",
      "tensor(0.5032) tensor(0.5700) 0\n",
      "tensor(0.5012) tensor(0.4900) 0\n",
      "tensor(0.4942) tensor(0.6000) 0\n",
      "tensor(0.5062) tensor(0.5300) 0\n",
      "tensor(0.4883) tensor(0.6300) 0\n",
      "tensor(0.5005) tensor(0.5500) 0\n",
      "tensor(0.4760) tensor(0.5200) 0\n",
      "tensor(0.4902) tensor(0.5200) 0\n",
      "tensor(0.5012) tensor(0.6000) 0\n",
      "tensor(0.4865) tensor(0.5300) 0\n",
      "tensor(0.5045) tensor(0.5100) 0\n",
      "tensor(0.4997) tensor(0.5200) 0\n",
      "tensor(0.4881) tensor(0.5300) 0\n",
      "tensor(0.5022) tensor(0.5100) 0\n",
      "tensor(0.4933) tensor(0.7100) 0\n",
      "tensor(0.5121) tensor(0.5200) 0\n",
      "tensor(0.5099) tensor(0.6000) 0\n",
      "tensor(0.4939) tensor(0.5300) 0\n",
      "tensor(0.4898) tensor(0.5400) 0\n",
      "tensor(0.4875) tensor(0.6000) 0\n",
      "tensor(0.4895) tensor(0.5600) 0\n",
      "tensor(0.5053) tensor(0.5700) 0\n",
      "tensor(0.4859) tensor(0.5200) 0\n",
      "tensor(0.5282) tensor(0.4900) 0\n",
      "tensor(0.5181) tensor(0.6000) 0\n",
      "tensor(0.5025) tensor(0.5500) 0\n",
      "tensor(0.4871) tensor(0.5500) 0\n",
      "tensor(0.4914) tensor(0.6100) 0\n",
      "tensor(0.5200) tensor(0.6900) 0\n",
      "tensor(0.4783) tensor(0.5600) 0\n",
      "tensor(0.4874) tensor(0.5700) 0\n",
      "tensor(0.5133) tensor(0.5800) 0\n",
      "tensor(0.5149) tensor(0.6100) 0\n",
      "tensor(0.4981) tensor(0.5900) 0\n",
      "tensor(0.4955) tensor(0.5100) 0\n",
      "tensor(0.5010) tensor(0.5200) 0\n",
      "tensor(0.5138) tensor(0.6000) 0\n",
      "tensor(0.5084) tensor(0.5500) 0\n",
      "tensor(0.4925) tensor(0.5600) 0\n",
      "tensor(0.5019) tensor(0.6100) 0\n",
      "tensor(0.5093) tensor(0.6700) 0\n",
      "tensor(0.4840) tensor(0.6600) 0\n",
      "tensor(0.4931) tensor(0.5900) 0\n",
      "tensor(0.5042) tensor(0.6300) 0\n",
      "tensor(0.5075) tensor(0.5600) 0\n",
      "tensor(0.5171) tensor(0.5600) 0\n",
      "tensor(0.4956) tensor(0.5500) 0\n"
     ]
    },
    {
     "ename": "ValueError",
     "evalue": "Expected 1D or 2D array, got 3D array instead",
     "output_type": "error",
     "traceback": [
      "\u001b[1;31m---------------------------------------------------------------------------\u001b[0m",
      "\u001b[1;31mValueError\u001b[0m                                Traceback (most recent call last)",
      "Cell \u001b[1;32mIn[13], line 5\u001b[0m\n\u001b[0;32m      3\u001b[0m z \u001b[38;5;241m=\u001b[39m torch\u001b[38;5;241m.\u001b[39mnormal(mean\u001b[38;5;241m=\u001b[39mtorch\u001b[38;5;241m.\u001b[39mzeros(N_samp,N_nod,\u001b[38;5;241m2\u001b[39m), std\u001b[38;5;241m=\u001b[39mtorch\u001b[38;5;241m.\u001b[39mones(N_samp,N_nod,\u001b[38;5;241m2\u001b[39m))\n\u001b[0;32m      4\u001b[0m M \u001b[38;5;241m=\u001b[39m Metropolis(osc,N_samp,d\u001b[38;5;241m=\u001b[39m\u001b[38;5;241m4\u001b[39m\u001b[38;5;241m/\u001b[39mN_nod,N_sweep\u001b[38;5;241m=\u001b[39m\u001b[38;5;241m1000000\u001b[39m,log_per\u001b[38;5;241m=\u001b[39m\u001b[38;5;241m10000\u001b[39m,filename\u001b[38;5;241m=\u001b[39m\u001b[38;5;124m\"\u001b[39m\u001b[38;5;124m./trajs_and_corr/0.txt\u001b[39m\u001b[38;5;124m\"\u001b[39m)\n\u001b[1;32m----> 5\u001b[0m M\u001b[38;5;241m.\u001b[39mrun(z)\n",
      "File \u001b[1;32m~\\PathIntegralMonte-Carlo\\Normalizingflow(multidim)\\samplers\\Metropolis.py:109\u001b[0m, in \u001b[0;36mMetropolis.run\u001b[1;34m(self, x)\u001b[0m\n\u001b[0;32m    107\u001b[0m             \u001b[38;5;28mself\u001b[39m\u001b[38;5;241m.\u001b[39mlog(x)   \n\u001b[0;32m    108\u001b[0m         \u001b[38;5;28mself\u001b[39m\u001b[38;5;241m.\u001b[39msweep(x)\n\u001b[1;32m--> 109\u001b[0m     np\u001b[38;5;241m.\u001b[39msavetxt(f,x\u001b[38;5;241m.\u001b[39mnumpy())    \n\u001b[0;32m    111\u001b[0m \u001b[38;5;28;01melse\u001b[39;00m:    \n\u001b[0;32m    112\u001b[0m     \u001b[38;5;28;01mfor\u001b[39;00m i \u001b[38;5;129;01min\u001b[39;00m \u001b[38;5;28mrange\u001b[39m(\u001b[38;5;28mself\u001b[39m\u001b[38;5;241m.\u001b[39mN_sweep):\n",
      "File \u001b[1;32m~\\anaconda3\\Lib\\site-packages\\numpy\\lib\\npyio.py:1570\u001b[0m, in \u001b[0;36msavetxt\u001b[1;34m(fname, X, fmt, delimiter, newline, header, footer, comments, encoding)\u001b[0m\n\u001b[0;32m   1568\u001b[0m \u001b[38;5;66;03m# Handle 1-dimensional arrays\u001b[39;00m\n\u001b[0;32m   1569\u001b[0m \u001b[38;5;28;01mif\u001b[39;00m X\u001b[38;5;241m.\u001b[39mndim \u001b[38;5;241m==\u001b[39m \u001b[38;5;241m0\u001b[39m \u001b[38;5;129;01mor\u001b[39;00m X\u001b[38;5;241m.\u001b[39mndim \u001b[38;5;241m>\u001b[39m \u001b[38;5;241m2\u001b[39m:\n\u001b[1;32m-> 1570\u001b[0m     \u001b[38;5;28;01mraise\u001b[39;00m \u001b[38;5;167;01mValueError\u001b[39;00m(\n\u001b[0;32m   1571\u001b[0m         \u001b[38;5;124m\"\u001b[39m\u001b[38;5;124mExpected 1D or 2D array, got \u001b[39m\u001b[38;5;132;01m%d\u001b[39;00m\u001b[38;5;124mD array instead\u001b[39m\u001b[38;5;124m\"\u001b[39m \u001b[38;5;241m%\u001b[39m X\u001b[38;5;241m.\u001b[39mndim)\n\u001b[0;32m   1572\u001b[0m \u001b[38;5;28;01melif\u001b[39;00m X\u001b[38;5;241m.\u001b[39mndim \u001b[38;5;241m==\u001b[39m \u001b[38;5;241m1\u001b[39m:\n\u001b[0;32m   1573\u001b[0m     \u001b[38;5;66;03m# Common case -- 1d array of numbers\u001b[39;00m\n\u001b[0;32m   1574\u001b[0m     \u001b[38;5;28;01mif\u001b[39;00m X\u001b[38;5;241m.\u001b[39mdtype\u001b[38;5;241m.\u001b[39mnames \u001b[38;5;129;01mis\u001b[39;00m \u001b[38;5;28;01mNone\u001b[39;00m:\n",
      "\u001b[1;31mValueError\u001b[0m: Expected 1D or 2D array, got 3D array instead"
     ]
    }
   ],
   "source": [
    "from samplers.Metropolis import Metropolis\n",
    "N_samp = 100\n",
    "z = torch.normal(mean=torch.zeros(N_samp,N_nod,2), std=torch.ones(N_samp,N_nod,2))\n",
    "M = Metropolis(osc,N_samp,d=4/N_nod,N_sweep=1000000,log_per=10000,filename=\"./trajs_and_corr/0.txt\")\n",
    "M.run(z)"
   ]
  },
  {
   "cell_type": "code",
   "execution_count": 15,
   "id": "bb4a3a08-2803-47d8-beb4-02fa1b3ad8bf",
   "metadata": {},
   "outputs": [
    {
     "name": "stdout",
     "output_type": "stream",
     "text": [
      "torch.Size([100, 64, 2])\n"
     ]
    },
    {
     "name": "stderr",
     "output_type": "stream",
     "text": [
      "100%|████████████████████████████████████████████████████████████████████████████████| 64/64 [00:00<00:00, 3564.45it/s]\n"
     ]
    }
   ],
   "source": [
    "#z = torch.torch.tensor(np.genfromtxt(\"./trajs_and_corr/0.txt\")).double()\n",
    "print(z.shape)\n",
    "g=G(z[:,:,0])"
   ]
  },
  {
   "cell_type": "code",
   "execution_count": 14,
   "id": "47a182ca-c424-45bd-8187-c178ccc0cfcd",
   "metadata": {},
   "outputs": [],
   "source": [
    "g_ur = np.genfromtxt(\"./trajs_and_corr/g_ur N=256 Beta=16\")"
   ]
  },
  {
   "cell_type": "code",
   "execution_count": 16,
   "id": "aad0b6f9-b8c9-459e-b9d1-99c9de24a6e3",
   "metadata": {},
   "outputs": [],
   "source": [
    "from systems.Nonrel.osc_andist import calc_G\n",
    "g_osc=calc_G(N_nod,Beta,N_nod)"
   ]
  },
  {
   "cell_type": "code",
   "execution_count": 17,
   "id": "a0d4f1e9-e85e-4426-b59d-ee04214b1411",
   "metadata": {},
   "outputs": [
    {
     "data": {
      "image/png": "[encoded data removed]",
      "text/plain": [
       "<Figure size 640x480 with 1 Axes>"
      ]
     },
     "metadata": {},
     "output_type": "display_data"
    }
   ],
   "source": [
    "plt.figure()\n",
    "plt.scatter(np.linspace(0,1,len(g)),g,s=10)\n",
    "#plt.scatter(np.linspace(0,1,len(g_ur)),g_ur,s=10)\n",
    "plt.grid(True)\n",
    "#plt.savefig(\"./pictures/anh_green1\")\n",
    "plt.show()"
   ]
  },
  {
   "cell_type": "code",
   "execution_count": 57,
   "id": "b850eec3-2cdf-46c4-bc93-e36fe01b819a",
   "metadata": {},
   "outputs": [
    {
     "name": "stdout",
     "output_type": "stream",
     "text": [
      "0.24953408189880144\n"
     ]
    }
   ],
   "source": [
    "print(g[0])"
   ]
  },
  {
   "cell_type": "code",
   "execution_count": null,
   "id": "028a7a06-03cd-4a59-ab62-1cca1a552912",
   "metadata": {},
   "outputs": [],
   "source": [
    "import torch\n",
    "from samplers.Langevin import Langevin\n",
    "N_samp=1000\n",
    "z=torch.normal(mean=torch.zeros(N_samp,N_nod), std=torch.ones(N_samp,N_nod))\n",
    "L=Langevin(ur,N_samp,eps=0.0001,N_sweep=1000000,log_per=1000)\n",
    "L.run(z)"
   ]
  },
  {
   "cell_type": "code",
   "execution_count": 5,
   "id": "e40ffe57-966c-4910-ae01-c7f430ca1be1",
   "metadata": {},
   "outputs": [
    {
     "name": "stdout",
     "output_type": "stream",
     "text": [
      "torch.Size([10, 32, 2])\n",
      "torch.Size([10, 32, 2])\n"
     ]
    }
   ],
   "source": [
    "from flows.theta import ThetaNetwork\n",
    "dim = 2\n",
    "th = ThetaNetwork(\n",
    "        N_nod//2 * dim,\n",
    "        N_nod//2 * dim,\n",
    "        6,\n",
    "        N_nod,\n",
    "        2,\n",
    "        0,\n",
    "    )\n",
    "z = torch.ones((10,N_nod//2,dim))\n",
    "t,s = th(z)\n",
    "print(t.shape)\n",
    "print(s.shape)"
   ]
  },
  {
   "cell_type": "code",
   "execution_count": 6,
   "id": "8ba8ac4d-5183-41ad-9c94-fa6ac12ed1dc",
   "metadata": {},
   "outputs": [
    {
     "name": "stdout",
     "output_type": "stream",
     "text": [
      "torch.Size([10, 64, 2])\n",
      "torch.Size([10])\n"
     ]
    }
   ],
   "source": [
    "from flows.Layers import AffineCouplingLayer\n",
    "from transforms import get_split_masks\n",
    "from transforms import get_pair_split_masks\n",
    "z = torch.ones((10,N_nod,dim))\n",
    "aff = AffineCouplingLayer(th, split = get_pair_split_masks(N_nod), swap = 0)\n",
    "x,lad = aff.g(z)\n",
    "print(x.shape)\n",
    "print(lad.shape)"
   ]
  },
  {
   "cell_type": "code",
   "execution_count": 9,
   "id": "cb121a0d-e23d-4307-b003-23c9c6380577",
   "metadata": {},
   "outputs": [
    {
     "name": "stdout",
     "output_type": "stream",
     "text": [
      "torch.Size([10, 64, 2])\n",
      "torch.Size([10])\n"
     ]
    }
   ],
   "source": [
    "flows =  NormalizingFlow.configure_flows(n_flows = 10,\n",
    "                                                     num_hidden = 8,\n",
    "                                                     hidden_dim = N_nod, \n",
    "                                                     dim = N_nod, \n",
    "                                                     param_dim = 0, \n",
    "                                                     p_drop = 0,sys_dim = dim)\n",
    "nf = NormalizingFlow(flows = flows)\n",
    "x,lad = nf.g(z)\n",
    "print(x.shape)\n",
    "print(lad.shape)"
   ]
  },
  {
   "cell_type": "code",
   "execution_count": 11,
   "id": "cb52cb91-bd64-4958-8a7e-eaa8df8ee73a",
   "metadata": {},
   "outputs": [],
   "source": [
    "m=3\n",
    "RGmasks=config_RG_masks(m,N_nod)"
   ]
  },
  {
   "cell_type": "code",
   "execution_count": 13,
   "id": "827fd07d-b311-455a-8ea0-b07958ed5dc9",
   "metadata": {},
   "outputs": [],
   "source": [
    "hidden_dim_dict1={8:8,16:16,32:32,64:64,128:128,256:256,512:512}\n",
    "n_flows_dict1={8:4,16:6,32:8,64:10,128:12,256:14,512:16}\n",
    "num_hidden_dict1={8:6,16:6,32:6,64:8,128:8,256:8,512:10}"
   ]
  },
  {
   "cell_type": "code",
   "execution_count": 15,
   "id": "cad3d145-6789-48a3-91c1-9e1dfd91136e",
   "metadata": {},
   "outputs": [],
   "source": [
    "rg = RGflows.configure_RG_model(RGmasks,n_flows_dict1,num_hidden_dict1,hidden_dim_dict1,grids_no_grad=0,p_drop=0.0,sys_dim=2)\n",
    "rg.save(\"./weights/model_weights_osc.pth\")"
   ]
  },
  {
   "cell_type": "code",
   "execution_count": 17,
   "id": "e38d4628-d46d-419f-bedc-cd7b7b02ab8b",
   "metadata": {},
   "outputs": [
    {
     "data": {
      "text/plain": [
       "(tensor([[[ 8.0687,  7.3307],\n",
       "          [ 2.9903, -0.2573],\n",
       "          [-3.0988, -1.1003],\n",
       "          ...,\n",
       "          [-2.6756, -2.3893],\n",
       "          [ 0.1174, -1.4540],\n",
       "          [-1.3869, -3.9688]],\n",
       " \n",
       "         [[ 8.0687,  7.3307],\n",
       "          [ 2.9903, -0.2573],\n",
       "          [-3.0988, -1.1003],\n",
       "          ...,\n",
       "          [-2.6756, -2.3893],\n",
       "          [ 0.1174, -1.4540],\n",
       "          [-1.3869, -3.9688]],\n",
       " \n",
       "         [[ 8.0687,  7.3307],\n",
       "          [ 2.9903, -0.2573],\n",
       "          [-3.0988, -1.1003],\n",
       "          ...,\n",
       "          [-2.6756, -2.3893],\n",
       "          [ 0.1174, -1.4540],\n",
       "          [-1.3869, -3.9688]],\n",
       " \n",
       "         ...,\n",
       " \n",
       "         [[ 8.0687,  7.3307],\n",
       "          [ 2.9903, -0.2573],\n",
       "          [-3.0988, -1.1003],\n",
       "          ...,\n",
       "          [-2.6756, -2.3893],\n",
       "          [ 0.1174, -1.4540],\n",
       "          [-1.3869, -3.9688]],\n",
       " \n",
       "         [[ 8.0687,  7.3307],\n",
       "          [ 2.9903, -0.2573],\n",
       "          [-3.0988, -1.1003],\n",
       "          ...,\n",
       "          [-2.6756, -2.3893],\n",
       "          [ 0.1174, -1.4540],\n",
       "          [-1.3869, -3.9688]],\n",
       " \n",
       "         [[ 8.0687,  7.3307],\n",
       "          [ 2.9903, -0.2573],\n",
       "          [-3.0988, -1.1003],\n",
       "          ...,\n",
       "          [-2.6756, -2.3893],\n",
       "          [ 0.1174, -1.4540],\n",
       "          [-1.3869, -3.9688]]], grad_fn=<ViewBackward0>),\n",
       " tensor([4.7804, 4.7804, 4.7804, 4.7804, 4.7804, 4.7804, 4.7804, 4.7804, 4.7804,\n",
       "         4.7804], grad_fn=<AddBackward0>))"
      ]
     },
     "execution_count": 17,
     "metadata": {},
     "output_type": "execute_result"
    }
   ],
   "source": [
    "rg = RGflows.load_model(\"./weights/model_weights_osc.pth\")\n",
    "z = torch.ones((10,N_nod,dim))\n",
    "rg.g(z)"
   ]
  },
  {
   "cell_type": "code",
   "execution_count": null,
   "id": "d78af35d-674e-4d13-8995-318c1c1229e1",
   "metadata": {},
   "outputs": [],
   "source": []
  }
 ],
 "metadata": {
  "kernelspec": {
   "display_name": "Python 3 (ipykernel)",
   "language": "python",
   "name": "python3"
  },
  "language_info": {
   "codemirror_mode": {
    "name": "ipython",
    "version": 3
   },
   "file_extension": ".py",
   "mimetype": "text/x-python",
   "name": "python",
   "nbconvert_exporter": "python",
   "pygments_lexer": "ipython3",
   "version": "3.12.4"
  }
 },
 "nbformat": 4,
 "nbformat_minor": 5
}
