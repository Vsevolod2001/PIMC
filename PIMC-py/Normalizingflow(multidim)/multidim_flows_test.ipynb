{
 "cells": [
  {
   "cell_type": "code",
   "execution_count": 1,
   "id": "412bb647-3e35-4e15-a00c-6cde78425206",
   "metadata": {},
   "outputs": [],
   "source": [
    "import matplotlib.pyplot as plt\n",
    "import numpy as np\n",
    "import torch"
   ]
  },
  {
   "cell_type": "code",
   "execution_count": 2,
   "id": "69f60d00-1165-41af-9568-ce3f3bdda1c5",
   "metadata": {},
   "outputs": [],
   "source": [
    "from NFconstants import N_nod, Beta, DIM\n",
    "from transforms import t_get_O\n",
    "from flows.NormalizingFlow import NormalizingFlow    \n",
    "from flows.RGflows import RGflows \n",
    "from transforms import config_RG_masks\n",
    "from setup import osc\n",
    "from obs import G\n",
    "normal_dist = torch.distributions.Normal(loc=torch.zeros(N_nod,2), scale=torch.ones(N_nod,2))"
   ]
  },
  {
   "cell_type": "code",
   "execution_count": 3,
   "id": "01e24e13-a7f9-43fb-848a-5c635be4780b",
   "metadata": {},
   "outputs": [
    {
     "name": "stdout",
     "output_type": "stream",
     "text": [
      "x shape torch.Size([10, 64])\n",
      "torch.Size([10, 32, 1])\n",
      "torch.Size([10, 32, 1])\n"
     ]
    }
   ],
   "source": [
    "from flows.theta import ThetaNetwork\n",
    "th = ThetaNetwork(\n",
    "        N_nod//2 * DIM,\n",
    "        N_nod//2 * DIM,\n",
    "        6,\n",
    "        N_nod,\n",
    "        2,\n",
    "        0,\n",
    "    )\n",
    "z = torch.ones((10,N_nod//2,DIM))\n",
    "t,s = th(z)\n",
    "print(t.shape)\n",
    "print(s.shape)"
   ]
  },
  {
   "cell_type": "code",
   "execution_count": null,
   "id": "58d68428-d47d-4742-86ca-836111a03b9f",
   "metadata": {},
   "outputs": [],
   "source": [
    "from flows.Layers import AffineCouplingLayer\n",
    "from transforms import get_split_masks\n",
    "from transforms import get_pair_split_masks\n",
    "z = torch.ones((10,N_nod,DIM))\n",
    "aff = AffineCouplingLayer(th, split = get_pair_split_masks(N_nod), swap = 0)\n",
    "x,lad = aff.g(z)\n",
    "print(x.shape)\n",
    "print(lad.shape)"
   ]
  },
  {
   "cell_type": "code",
   "execution_count": null,
   "id": "0b29574c-2b2f-4ba6-981e-5ce049dd35d4",
   "metadata": {},
   "outputs": [],
   "source": [
    "flows =  NormalizingFlow.configure_flows(n_flows = 10,\n",
    "                                                     num_hidden = 8,\n",
    "                                                     hidden_dim = N_nod, \n",
    "                                                     dim = N_nod, \n",
    "                                                     param_dim = 0, \n",
    "                                                     p_drop = 0,sys_dim = DIM)\n",
    "nf = NormalizingFlow(flows = flows)\n",
    "x,lad = nf.g(z)\n",
    "print(x.shape)\n",
    "print(lad.shape)"
   ]
  },
  {
   "cell_type": "code",
   "execution_count": 6,
   "id": "817feead-d89e-489f-8c3e-20cea52e28db",
   "metadata": {},
   "outputs": [],
   "source": [
    "m=3\n",
    "RGmasks=config_RG_masks(m,N_nod)"
   ]
  },
  {
   "cell_type": "code",
   "execution_count": 7,
   "id": "154ffd2c-2d3c-4982-8d07-1334093f855b",
   "metadata": {},
   "outputs": [],
   "source": [
    "hidden_dim_dict1={8:8,16:16,32:32,64:64,128:128,256:256,512:512}\n",
    "n_flows_dict1={8:4,16:6,32:8,64:10,128:12,256:14,512:16}\n",
    "num_hidden_dict1={8:6,16:6,32:6,64:8,128:8,256:8,512:10}"
   ]
  },
  {
   "cell_type": "code",
   "execution_count": 8,
   "id": "c5e706e3-3458-4f72-bebd-2d175fa94e10",
   "metadata": {},
   "outputs": [],
   "source": [
    "rg = RGflows.configure_RG_model(RGmasks,n_flows_dict1,num_hidden_dict1,hidden_dim_dict1,grids_no_grad=0,p_drop=0.0,sys_dim=2)\n",
    "rg.save(\"./weights/model_weights_osc.pth\")"
   ]
  },
  {
   "cell_type": "code",
   "execution_count": 21,
   "id": "f92e335f-68ba-4091-9d19-415a42eae0fc",
   "metadata": {},
   "outputs": [
    {
     "name": "stdout",
     "output_type": "stream",
     "text": [
      "torch.Size([10, 64, 2])\n",
      "torch.Size([10])\n"
     ]
    }
   ],
   "source": [
    "rg = RGflows.load_model(\"./weights/model_weights_osc.pth\")\n",
    "z = torch.ones((10,N_nod,dim))\n",
    "x,lad = rg.g(z)\n",
    "print(x.shape)\n",
    "print(lad.shape)"
   ]
  },
  {
   "cell_type": "code",
   "execution_count": null,
   "id": "2a6a0656-46dc-49c9-8227-2304fb6b2594",
   "metadata": {},
   "outputs": [],
   "source": []
  }
 ],
 "metadata": {
  "kernelspec": {
   "display_name": "Python 3 (ipykernel)",
   "language": "python",
   "name": "python3"
  },
  "language_info": {
   "codemirror_mode": {
    "name": "ipython",
    "version": 3
   },
   "file_extension": ".py",
   "mimetype": "text/x-python",
   "name": "python",
   "nbconvert_exporter": "python",
   "pygments_lexer": "ipython3",
   "version": "3.12.4"
  }
 },
 "nbformat": 4,
 "nbformat_minor": 5
}
