{
 "cells": [
  {
   "cell_type": "code",
   "execution_count": 1,
   "id": "55d2823b",
   "metadata": {},
   "outputs": [],
   "source": [
    "import matplotlib.pyplot as plt\n",
    "import numpy as np"
   ]
  },
  {
   "cell_type": "code",
   "execution_count": 2,
   "id": "3978be52-6e34-4e0a-b401-c56031d17d54",
   "metadata": {},
   "outputs": [],
   "source": [
    "import torch\n",
    "import pytorch_lightning as pl\n",
    "from torch.utils.data import Dataset\n",
    "from torch.utils.data import DataLoader\n",
    "from pytorch_lightning.loggers import TensorBoardLogger\n",
    "device = torch.device(\"cuda\" if torch.cuda.is_available() else \"cpu\")"
   ]
  },
  {
   "cell_type": "code",
   "execution_count": 3,
   "id": "c93eb4f7",
   "metadata": {
    "tags": []
   },
   "outputs": [],
   "source": [
    "from NFconstants import N_nod, Beta, a, K_nod, DIM\n",
    "from transforms import t_get_O\n",
    "from transforms import get_split_masks\n",
    "from transforms import get_pair_split_masks\n",
    "from transforms import config_RG_masks\n",
    "from Data import MY_Dataset\n",
    "from flows.NormalizingFlow import NormalizingFlow    \n",
    "from flows.RGflows import RGflows    \n",
    "from obs import G, calc_Loss, calc_psi2, gen_fun_W\n",
    "\n",
    "\n",
    "def set_random_seed(seed):\n",
    "    torch.manual_seed(seed)\n",
    "    np.random.seed(seed)\n",
    "\n",
    "set_random_seed(42)\n",
    "\n",
    "\n",
    "\n"
   ]
  },
  {
   "cell_type": "code",
   "execution_count": 4,
   "id": "49a86716-8589-4f4a-a254-00344ac2e8e2",
   "metadata": {},
   "outputs": [],
   "source": [
    "from setup import osc #, anh, morse, tw, columb, rel_osc, rel_morse, rel_tw, rel_columb, ur "
   ]
  },
  {
   "cell_type": "code",
   "execution_count": 5,
   "id": "23f2495c-14bc-49b4-8614-69d77ce8ef65",
   "metadata": {},
   "outputs": [],
   "source": [
    "normal_dist=torch.distributions.Normal(loc=torch.zeros(N_nod,DIM), scale=torch.ones(N_nod,DIM))\n",
    "DS=MY_Dataset(normal_dist,N_nod,epoch_size=2**14)\n",
    "train_loader = DataLoader(DS, batch_size=2**12, shuffle=True)"
   ]
  },
  {
   "cell_type": "code",
   "execution_count": 6,
   "id": "5401fb59",
   "metadata": {
    "tags": []
   },
   "outputs": [],
   "source": [
    "class Pipeline(pl.LightningModule):\n",
    "    def __init__(\n",
    "        self,\n",
    "        model,\n",
    "        criterion,\n",
    "        optimizer_class=torch.optim.Adam,\n",
    "        optimizer_kwargs={\"lr\": 0.001,\"weight_decay\": 0}\n",
    "    ) -> None:\n",
    "        super().__init__()\n",
    "        self.model = model\n",
    "        self.loss = criterion\n",
    "        self.optimizer_class = optimizer_class\n",
    "        self.optimizer_kwargs = optimizer_kwargs\n",
    "\n",
    "    \"\"\"\n",
    "    def configure_optimizers(self):\n",
    "        optimizer = self.optimizer_class(\n",
    "            self.model.parameters(), **self.optimizer_kwargs\n",
    "        )\n",
    "        return optimizer\n",
    "    \"\"\"\n",
    "    \n",
    "    def configure_optimizers(self):\n",
    "        optimizer = self.optimizer_class(self.model.parameters(), **self.optimizer_kwargs)\n",
    "        \n",
    "        scheduler = torch.optim.lr_scheduler.ReduceLROnPlateau(\n",
    "            optimizer=optimizer,\n",
    "            min_lr=1e-4,\n",
    "            factor=0.95,\n",
    "            mode=\"min\",\n",
    "            verbose=True,\n",
    "        )\n",
    "\n",
    "        lr_scheduler = {\n",
    "            \"scheduler\": scheduler,\n",
    "            \"interval\": \"epoch\",\n",
    "            \"monitor\": \"train_loss\",\n",
    "        }\n",
    "        return [optimizer], [lr_scheduler]\n",
    "\n",
    "    def training_step(self, batch, batch_idx):\n",
    "        z = batch\n",
    "        x, log_abs_det = self.model.g(z)\n",
    "        loss = self.loss(x,log_abs_det)\n",
    "        sch = self.lr_schedulers()\n",
    "        sch.step(loss)\n",
    "        self.log('train_loss', loss,prog_bar=True)\n",
    "        self.log('lr',sch.get_last_lr()[0],prog_bar=True)\n",
    "        #print(loss)\n",
    "        return loss\n",
    "\n",
    "\n",
    "    def on_train_epoch_end(self):\n",
    "        #print(\"---------------------------end epoch---------------------------------\")\n",
    "        pass\n",
    "    \n",
    "    def on_validation_end(self) -> None:\n",
    "        if not self.automatic_optimization:\n",
    "            # Save a checkpoint of the model\n",
    "            ckpt_path = os.path.join(self.trainer.log_dir, 'checkpoints', 'ckpt.pt')\n",
    "            self.trainer.save_checkpoint(ckpt_path, weights_only=True)\n",
    "        return super().on_validation_end()\n",
    "    \n",
    "    "
   ]
  },
  {
   "cell_type": "code",
   "execution_count": 7,
   "id": "eae42727-7687-48fe-841a-c2e24320095f",
   "metadata": {
    "tags": []
   },
   "outputs": [],
   "source": [
    "hidden_dim_dict1={4:8,8:16,16:32,32:64}\n",
    "n_flows_dict1={4:6,8:6,16:8,32:8}\n",
    "num_hidden_dict1={4:4,8:6,16:8,32:8}"
   ]
  },
  {
   "cell_type": "code",
   "execution_count": 8,
   "id": "7948914a-0506-4796-8bcf-617be8e83237",
   "metadata": {},
   "outputs": [],
   "source": [
    "m=2\n",
    "RGmasks=config_RG_masks(m,N_nod)"
   ]
  },
  {
   "cell_type": "code",
   "execution_count": 29,
   "id": "fa06713c",
   "metadata": {},
   "outputs": [],
   "source": [
    "set_random_seed(42)\n",
    "rg = RGflows.configure_RG_model(RGmasks,n_flows_dict1,num_hidden_dict1,hidden_dim_dict1,grids_no_grad=0,p_drop=0.0,sys_dim=DIM)\n",
    "rg.save(\"./weights/model_weights_osc.pth\")\n",
    "#print(rg)"
   ]
  },
  {
   "cell_type": "code",
   "execution_count": 31,
   "id": "a536cdfd",
   "metadata": {},
   "outputs": [
    {
     "name": "stderr",
     "output_type": "stream",
     "text": [
      "GPU available: False, used: False\n",
      "TPU available: False, using: 0 TPU cores\n",
      "HPU available: False, using: 0 HPUs\n",
      "\n",
      "  | Name  | Type      | Params | Mode \n",
      "--------------------------------------------\n",
      "0 | model | RGflows   | 579 K  | train\n",
      "1 | loss  | KL_with_S | 0      | train\n",
      "--------------------------------------------\n",
      "579 K     Trainable params\n",
      "0         Non-trainable params\n",
      "579 K     Total params\n",
      "2.319     Total estimated model params size (MB)\n"
     ]
    },
    {
     "data": {
      "application/vnd.jupyter.widget-view+json": {
       "model_id": "55d61ccacfd74df39093a4c3807097b2",
       "version_major": 2,
       "version_minor": 0
      },
      "text/plain": [
       "Training: |                                                                                      | 0/? [00:00<…"
      ]
     },
     "metadata": {},
     "output_type": "display_data"
    }
   ],
   "source": [
    "set_random_seed(42)\n",
    "rg = RGflows.load_model(\"./weights/model_weights_osc.pth\")\n",
    "pipeline=Pipeline(model=rg,criterion = osc.get_KL(), optimizer_class=torch.optim.Adam,optimizer_kwargs={\"lr\": 0.01,\"weight_decay\":0.0})\n",
    "\n",
    "trainer = pl.Trainer(\n",
    "    max_epochs = 2000,\n",
    "    logger = TensorBoardLogger(save_dir=f\"./logs/nf\"),\n",
    "    num_sanity_val_steps = 0,\n",
    "    log_every_n_steps = 1,\n",
    "    enable_checkpointing = False,\n",
    "    accumulate_grad_batches = 1\n",
    ")\n",
    "\n",
    "trainer.fit(model=pipeline, train_dataloaders=train_loader)\n",
    "rg.save(\"./weights/model_weights_osc.pth\")"
   ]
  },
  {
   "cell_type": "code",
   "execution_count": 33,
   "id": "8169e1d2-102b-4d79-92e8-03905afd556d",
   "metadata": {
    "tags": []
   },
   "outputs": [
    {
     "name": "stdout",
     "output_type": "stream",
     "text": [
      "torch.Size([1000, 64, 4])\n"
     ]
    }
   ],
   "source": [
    "import numpy as np\n",
    "from NFconstants import N_traj\n",
    "\n",
    "RG_trained = RGflows.load_model(\"./weights/model_weights_osc.pth\")\n",
    "RG_trained.eval()\n",
    "N_traj=1000\n",
    "z = normal_dist.sample((N_traj,))\n",
    "print(z.shape)\n",
    "trajs,_ = RG_trained.g(z)\n"
   ]
  },
  {
   "cell_type": "code",
   "execution_count": 28,
   "id": "e9e2101d-65e8-480e-8d8d-bf767e9d4ac4",
   "metadata": {},
   "outputs": [
    {
     "name": "stderr",
     "output_type": "stream",
     "text": [
      "\n",
      "  0%|                                                                                           | 0/16 [00:00<?, ?it/s]\u001b[A\n",
      "  6%|█████▏                                                                             | 1/16 [00:01<00:29,  1.96s/it]\u001b[A\n",
      " 12%|██████████▍                                                                        | 2/16 [00:03<00:26,  1.88s/it]\u001b[A\n",
      " 19%|███████████████▌                                                                   | 3/16 [00:05<00:24,  1.87s/it]\u001b[A\n",
      " 25%|████████████████████▊                                                              | 4/16 [00:06<00:19,  1.66s/it]\u001b[A\n",
      " 31%|█████████████████████████▉                                                         | 5/16 [00:08<00:17,  1.56s/it]\u001b[A\n",
      " 38%|███████████████████████████████▏                                                   | 6/16 [00:09<00:15,  1.58s/it]\u001b[A\n",
      " 44%|████████████████████████████████████▎                                              | 7/16 [00:11<00:13,  1.54s/it]\u001b[A\n",
      " 50%|█████████████████████████████████████████▌                                         | 8/16 [00:12<00:11,  1.46s/it]\u001b[A\n",
      " 56%|██████████████████████████████████████████████▋                                    | 9/16 [00:14<00:09,  1.41s/it]\u001b[A\n",
      " 62%|███████████████████████████████████████████████████▎                              | 10/16 [00:15<00:08,  1.39s/it]\u001b[A\n",
      " 69%|████████████████████████████████████████████████████████▍                         | 11/16 [00:16<00:07,  1.45s/it]\u001b[A\n",
      " 75%|█████████████████████████████████████████████████████████████▌                    | 12/16 [00:18<00:05,  1.44s/it]\u001b[A\n",
      " 81%|██████████████████████████████████████████████████████████████████▋               | 13/16 [00:19<00:04,  1.44s/it]\u001b[A\n",
      " 88%|███████████████████████████████████████████████████████████████████████▊          | 14/16 [00:21<00:02,  1.47s/it]\u001b[A\n",
      " 94%|████████████████████████████████████████████████████████████████████████████▉     | 15/16 [00:22<00:01,  1.52s/it]\u001b[A\n",
      "100%|██████████████████████████████████████████████████████████████████████████████████| 16/16 [00:24<00:00,  1.52s/it]\u001b[A"
     ]
    },
    {
     "name": "stdout",
     "output_type": "stream",
     "text": [
      "(tensor(12.7219), tensor(1.2418))\n"
     ]
    },
    {
     "name": "stderr",
     "output_type": "stream",
     "text": [
      "\n"
     ]
    }
   ],
   "source": [
    "print(calc_Loss(anh,RG_trained,train_loader,n_batch=16))"
   ]
  },
  {
   "cell_type": "code",
   "execution_count": 35,
   "id": "fe644a5e-8e4a-4536-bec1-78a391b60f97",
   "metadata": {
    "tags": []
   },
   "outputs": [
    {
     "name": "stderr",
     "output_type": "stream",
     "text": [
      "\n",
      "  0%|                                                                                           | 0/64 [00:00<?, ?it/s]\u001b[A\n",
      " 27%|█████████████████████▌                                                           | 17/64 [00:00<00:00, 163.90it/s]\u001b[A\n",
      "100%|█████████████████████████████████████████████████████████████████████████████████| 64/64 [00:00<00:00, 203.07it/s]\u001b[A\n"
     ]
    }
   ],
   "source": [
    "g_nf=G(trajs[:,:,0])"
   ]
  },
  {
   "cell_type": "code",
   "execution_count": 37,
   "id": "78c9ffdf-7d11-49a0-8304-3228e4cd69b5",
   "metadata": {
    "tags": []
   },
   "outputs": [],
   "source": [
    "from systems.Nonrel.osc_andist import calc_G\n",
    "g_osc=calc_G(N_nod,Beta,N_nod)\n"
   ]
  },
  {
   "cell_type": "code",
   "execution_count": 23,
   "id": "a0771981",
   "metadata": {},
   "outputs": [],
   "source": [
    "g_ur = np.genfromtxt(\"./trajs_and_corr/g_ur N=256 Beta=16\")"
   ]
  },
  {
   "cell_type": "code",
   "execution_count": 39,
   "id": "34a5ead7-10a1-445f-abbd-4f8c2478ccd1",
   "metadata": {
    "tags": []
   },
   "outputs": [
    {
     "name": "stdout",
     "output_type": "stream",
     "text": [
      "0.4964687194824219\n"
     ]
    },
    {
     "data": {
      "image/png": "[encoded data removed]",
      "text/plain": [
       "<Figure size 640x480 with 1 Axes>"
      ]
     },
     "metadata": {},
     "output_type": "display_data"
    }
   ],
   "source": [
    "#import sys\n",
    "#sys.path.append('../')\n",
    "import numpy as np\n",
    "import matplotlib.pyplot as plt\n",
    "from NFconstants import N_nod, N_traj, NG_points,Beta\n",
    "\n",
    "\n",
    "\n",
    "\n",
    "g=g_osc\n",
    "print(g_nf[0])\n",
    "MCMC_list=np.arange(len(g))/len(g)\n",
    "NF_list=np.arange(len(g_nf))/len(g_nf)\n",
    "\n",
    "fig=plt.figure()\n",
    "plt.scatter(MCMC_list,g,s=10)\n",
    "plt.scatter(NF_list,g_nf,s=10)\n",
    "plt.legend([\"Метрополис\",\"Нормализующий поток\"])\n",
    "plt.title(r\"$N=$\"+str(N_nod)+\"       \"r\"$\\beta=$\"+str(Beta)+\"     Ультраелятивистский осциллятор\")\n",
    "plt.ylabel(r\"$G_s$\",fontsize=17)\n",
    "plt.xlabel(r\"$s/N$\",fontsize=17)\n",
    "#plt.yscale(\"log\")\n",
    "plt.grid(True)\n",
    "plt.show()\n"
   ]
  },
  {
   "cell_type": "code",
   "execution_count": null,
   "id": "57cc23ad-5c95-43a5-85ae-f9c629283d51",
   "metadata": {},
   "outputs": [],
   "source": []
  }
 ],
 "metadata": {
  "kernelspec": {
   "display_name": "Python 3 (ipykernel)",
   "language": "python",
   "name": "python3"
  },
  "language_info": {
   "codemirror_mode": {
    "name": "ipython",
    "version": 3
   },
   "file_extension": ".py",
   "mimetype": "text/x-python",
   "name": "python",
   "nbconvert_exporter": "python",
   "pygments_lexer": "ipython3",
   "version": "3.12.4"
  }
 },
 "nbformat": 4,
 "nbformat_minor": 5
}
