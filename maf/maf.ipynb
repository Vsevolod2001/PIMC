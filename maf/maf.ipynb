{
 "cells": [
  {
   "cell_type": "code",
   "execution_count": null,
   "id": "9791ab64-49da-4dc7-a1d7-40c1124b4856",
   "metadata": {
    "execution": {
     "iopub.status.busy": "2025-10-09T16:37:02.053085114Z",
     "iopub.status.idle": "2025-10-09T16:37:02.062280708Z",
     "shell.execute_reply": "2025-10-09T16:37:02.053051922Z"
    },
    "tags": []
   },
   "outputs": [
    {
     "ename": "Unknown instance spec",
     "evalue": "Please select VM configuration",
     "output_type": "error",
     "traceback": []
    }
   ],
   "source": [
    "import matplotlib.pyplot as plt\n",
    "import torch\n",
    "\n",
    "import zuko\n",
    "\n",
    "_ = torch.random.manual_seed(0)"
   ]
  },
  {
   "cell_type": "code",
   "execution_count": 2,
   "id": "4ff75ccd-a77e-47c9-9c3b-9e4c5881776e",
   "metadata": {
    "execution": {
     "iopub.execute_input": "2025-05-18T15:18:25.113568Z",
     "iopub.status.busy": "2025-05-18T15:18:25.112913Z",
     "iopub.status.idle": "2025-05-18T15:18:25.128256Z",
     "shell.execute_reply": "2025-05-18T15:18:25.126781Z",
     "shell.execute_reply.started": "2025-05-18T15:18:25.113534Z"
    }
   },
   "outputs": [],
   "source": [
    "def log_energy(x):\n",
    "    return torch.sum(\n",
    "        -(torch.roll(x, shifts=1, dims=-1) - x)**2/2 \n",
    "        -x**4, axis=-1)"
   ]
  },
  {
   "cell_type": "code",
   "execution_count": 3,
   "id": "193fbd8a-3940-477f-80f8-8cf19aa46122",
   "metadata": {
    "execution": {
     "iopub.execute_input": "2025-05-18T15:18:25.133056Z",
     "iopub.status.busy": "2025-05-18T15:18:25.129390Z",
     "iopub.status.idle": "2025-05-18T15:18:25.818936Z",
     "shell.execute_reply": "2025-05-18T15:18:25.818106Z",
     "shell.execute_reply.started": "2025-05-18T15:18:25.133009Z"
    }
   },
   "outputs": [],
   "source": [
    "flow = zuko.flows.MAF(16, transforms=8)"
   ]
  },
  {
   "cell_type": "code",
   "execution_count": 4,
   "id": "a9514b11-1f58-4f3d-8091-1513737f1f2e",
   "metadata": {
    "execution": {
     "iopub.execute_input": "2025-05-18T15:18:25.821587Z",
     "iopub.status.busy": "2025-05-18T15:18:25.820667Z",
     "iopub.status.idle": "2025-05-18T15:26:53.216962Z",
     "shell.execute_reply": "2025-05-18T15:26:53.215964Z",
     "shell.execute_reply.started": "2025-05-18T15:18:25.821550Z"
    }
   },
   "outputs": [
    {
     "name": "stdout",
     "output_type": "stream",
     "text": [
      "(0) -2.1604771614074707 ± 10.668582916259766\n",
      "(1) -4.89676570892334 ± 0.07047239691019058\n",
      "(2) -5.0729265213012695 ± 0.04605434834957123\n",
      "(3) -5.153014183044434 ± 0.03635478392243385\n",
      "(4) -5.1963605880737305 ± 0.03036452829837799\n",
      "(5) -5.236123085021973 ± 0.028928175568580627\n",
      "(6) -5.268167018890381 ± 0.022403037175536156\n",
      "(7) -5.297531604766846 ± 0.023476101458072662\n",
      "(8) -5.3193278312683105 ± 0.020800888538360596\n",
      "(9) -5.336478233337402 ± 0.01658797077834606\n"
     ]
    }
   ],
   "source": [
    "optimizer = torch.optim.Adam(flow.parameters(), lr=1e-3)\n",
    "\n",
    "for epoch in range(10):\n",
    "    losses = []\n",
    "\n",
    "    for _ in range(256):\n",
    "        x, log_prob = flow().rsample_and_log_prob((1024,))  # faster than rsample + log_prob\n",
    "\n",
    "        loss = log_prob.mean() - log_energy(x).mean()\n",
    "        loss.backward()\n",
    "\n",
    "        optimizer.step()\n",
    "        optimizer.zero_grad()\n",
    "\n",
    "        losses.append(loss.detach())\n",
    "\n",
    "    losses = torch.stack(losses)\n",
    "\n",
    "    print(f\"({epoch})\", losses.mean().item(), \"±\", losses.std().item())"
   ]
  },
  {
   "cell_type": "code",
   "execution_count": 35,
   "id": "42289874-f499-4bd3-bb84-3da714db9d02",
   "metadata": {
    "execution": {
     "iopub.execute_input": "2025-05-18T15:36:21.861994Z",
     "iopub.status.busy": "2025-05-18T15:36:21.860713Z",
     "iopub.status.idle": "2025-05-18T15:36:23.757115Z",
     "shell.execute_reply": "2025-05-18T15:36:23.756315Z",
     "shell.execute_reply.started": "2025-05-18T15:36:21.861949Z"
    },
    "tags": []
   },
   "outputs": [],
   "source": [
    "samples = flow().rsample((2**15,))"
   ]
  },
  {
   "cell_type": "code",
   "execution_count": 36,
   "id": "5a6af366-c721-49f6-a8f4-faa365837d27",
   "metadata": {
    "execution": {
     "iopub.execute_input": "2025-05-18T15:36:25.329376Z",
     "iopub.status.busy": "2025-05-18T15:36:25.328197Z",
     "iopub.status.idle": "2025-05-18T15:36:25.355552Z",
     "shell.execute_reply": "2025-05-18T15:36:25.354689Z",
     "shell.execute_reply.started": "2025-05-18T15:36:25.329335Z"
    },
    "tags": []
   },
   "outputs": [
    {
     "data": {
      "text/plain": [
       "tensor(0.1593, grad_fn=<MeanBackward0>)"
      ]
     },
     "execution_count": 36,
     "metadata": {},
     "output_type": "execute_result"
    }
   ],
   "source": [
    "(samples**4).mean()"
   ]
  },
  {
   "cell_type": "code",
   "execution_count": 37,
   "id": "b2bbc010-fe48-4417-8015-d3984d5d1877",
   "metadata": {
    "execution": {
     "iopub.execute_input": "2025-05-18T15:36:25.881488Z",
     "iopub.status.busy": "2025-05-18T15:36:25.880437Z",
     "iopub.status.idle": "2025-05-18T15:36:25.908245Z",
     "shell.execute_reply": "2025-05-18T15:36:25.907351Z",
     "shell.execute_reply.started": "2025-05-18T15:36:25.881441Z"
    },
    "tags": []
   },
   "outputs": [],
   "source": [
    "def g(s, x):\n",
    "    return (torch.roll(x, s, -1)*x).mean()"
   ]
  },
  {
   "cell_type": "code",
   "execution_count": 38,
   "id": "b3a8bd98-9439-415f-857d-f72936c3d29e",
   "metadata": {
    "execution": {
     "iopub.execute_input": "2025-05-18T15:36:26.354758Z",
     "iopub.status.busy": "2025-05-18T15:36:26.353749Z",
     "iopub.status.idle": "2025-05-18T15:36:26.377665Z",
     "shell.execute_reply": "2025-05-18T15:36:26.376824Z",
     "shell.execute_reply.started": "2025-05-18T15:36:26.354716Z"
    },
    "tags": []
   },
   "outputs": [
    {
     "data": {
      "text/plain": [
       "tensor(0.3102, grad_fn=<DivBackward0>)"
      ]
     },
     "execution_count": 38,
     "metadata": {},
     "output_type": "execute_result"
    }
   ],
   "source": [
    "(1 - 2*(g(0, samples) - g(1, samples))) / 2"
   ]
  },
  {
   "cell_type": "code",
   "execution_count": 39,
   "id": "c6b01a0c-33fd-4aaf-83d2-561f0b2af319",
   "metadata": {
    "execution": {
     "iopub.execute_input": "2025-05-18T15:36:27.468289Z",
     "iopub.status.busy": "2025-05-18T15:36:27.467049Z",
     "iopub.status.idle": "2025-05-18T15:36:27.487144Z",
     "shell.execute_reply": "2025-05-18T15:36:27.486307Z",
     "shell.execute_reply.started": "2025-05-18T15:36:27.468243Z"
    },
    "tags": []
   },
   "outputs": [],
   "source": [
    "x = samples[...,0].detach().cpu().numpy()\n",
    "x = (x - x.mean())/x.std()"
   ]
  },
  {
   "cell_type": "code",
   "execution_count": 40,
   "id": "6f9d4a18-8033-44f1-8d94-4506540862e7",
   "metadata": {
    "execution": {
     "iopub.execute_input": "2025-05-18T15:36:28.074933Z",
     "iopub.status.busy": "2025-05-18T15:36:28.073990Z",
     "iopub.status.idle": "2025-05-18T15:36:28.087804Z",
     "shell.execute_reply": "2025-05-18T15:36:28.087012Z",
     "shell.execute_reply.started": "2025-05-18T15:36:28.074889Z"
    },
    "tags": []
   },
   "outputs": [],
   "source": [
    "from scipy.stats import norm\n",
    "import numpy as np"
   ]
  },
  {
   "cell_type": "code",
   "execution_count": 41,
   "id": "3eef548d-938a-488a-8d3f-66afe4c681f8",
   "metadata": {
    "execution": {
     "iopub.execute_input": "2025-05-18T15:36:28.513734Z",
     "iopub.status.busy": "2025-05-18T15:36:28.512770Z",
     "iopub.status.idle": "2025-05-18T15:36:28.782053Z",
     "shell.execute_reply": "2025-05-18T15:36:28.781219Z",
     "shell.execute_reply.started": "2025-05-18T15:36:28.513690Z"
    },
    "tags": []
   },
   "outputs": [
    {
     "data": {
      "image/png": "[encoded data removed]",
      "text/plain": [
       "<Figure size 640x480 with 1 Axes>"
      ]
     },
     "metadata": {},
     "output_type": "display_data"
    }
   ],
   "source": [
    "plt.hist(x, density=True, bins=100)\n",
    "x_ = np.linspace(-3,3,301)\n",
    "plt.plot(x_, norm.pdf(x_))\n",
    "plt.show()"
   ]
  },
  {
   "cell_type": "code",
   "execution_count": 42,
   "id": "38fe3585-21a4-4421-bd31-f1e319bb5fb7",
   "metadata": {
    "execution": {
     "iopub.execute_input": "2025-05-18T15:54:12.100882Z",
     "iopub.status.busy": "2025-05-18T15:54:12.099929Z",
     "iopub.status.idle": "2025-05-18T15:54:12.157022Z",
     "shell.execute_reply": "2025-05-18T15:54:12.156219Z",
     "shell.execute_reply.started": "2025-05-18T15:54:12.100840Z"
    }
   },
   "outputs": [
    {
     "data": {
      "text/plain": [
       "tensor([[ 0.5590,  0.0099, -0.7056,  ..., -0.3536, -0.2996,  0.6072],\n",
       "        [-0.9403, -0.1602, -0.1661,  ...,  0.0689, -0.5210, -0.8412],\n",
       "        [ 0.1897,  0.0469, -0.1302,  ...,  0.1476,  0.7149, -0.6347],\n",
       "        ...,\n",
       "        [-0.4424, -0.1169, -0.3552,  ..., -0.0335,  0.3323, -0.3825],\n",
       "        [ 1.2703,  0.3263,  0.3537,  ...,  0.6710,  0.3774,  1.0933],\n",
       "        [ 0.4912, -0.0375, -0.0834,  ...,  0.7986,  0.2564, -0.4693]],\n",
       "       grad_fn=<DivBackward0>)"
      ]
     },
     "execution_count": 42,
     "metadata": {},
     "output_type": "execute_result"
    }
   ],
   "source": [
    "samples"
   ]
  },
  {
   "cell_type": "code",
   "execution_count": 43,
   "id": "8b79b1fb-f2e2-45e7-918f-0ad4fe3c8116",
   "metadata": {
    "execution": {
     "iopub.execute_input": "2025-05-18T15:55:31.660564Z",
     "iopub.status.busy": "2025-05-18T15:55:31.659725Z",
     "iopub.status.idle": "2025-05-18T15:55:31.806833Z",
     "shell.execute_reply": "2025-05-18T15:55:31.805987Z",
     "shell.execute_reply.started": "2025-05-18T15:55:31.660521Z"
    }
   },
   "outputs": [],
   "source": [
    "x, log_prob = flow().rsample_and_log_prob((2**10,))"
   ]
  },
  {
   "cell_type": "code",
   "execution_count": 47,
   "id": "ff0c750c-873d-483d-a9f7-256f05387b4e",
   "metadata": {
    "execution": {
     "iopub.execute_input": "2025-05-18T15:56:59.109418Z",
     "iopub.status.busy": "2025-05-18T15:56:59.108305Z",
     "iopub.status.idle": "2025-05-18T15:56:59.127022Z",
     "shell.execute_reply": "2025-05-18T15:56:59.126252Z",
     "shell.execute_reply.started": "2025-05-18T15:56:59.109378Z"
    }
   },
   "outputs": [
    {
     "data": {
      "text/plain": [
       "tensor([ -9.0953,  -9.6316, -10.1025,  ..., -10.4118, -11.2253, -10.2976],\n",
       "       grad_fn=<SubBackward0>)"
      ]
     },
     "execution_count": 47,
     "metadata": {},
     "output_type": "execute_result"
    }
   ],
   "source": [
    "log_prob"
   ]
  },
  {
   "cell_type": "code",
   "execution_count": 51,
   "id": "a0f5d3bf-a9a5-4018-a638-009ed272b79c",
   "metadata": {
    "execution": {
     "iopub.execute_input": "2025-05-18T16:01:02.229027Z",
     "iopub.status.busy": "2025-05-18T16:01:02.227970Z",
     "iopub.status.idle": "2025-05-18T16:01:02.349112Z",
     "shell.execute_reply": "2025-05-18T16:01:02.347979Z",
     "shell.execute_reply.started": "2025-05-18T16:01:02.228983Z"
    },
    "tags": []
   },
   "outputs": [],
   "source": [
    "t = torch.exp(log_energy(x)-log_prob)"
   ]
  },
  {
   "cell_type": "code",
   "execution_count": 54,
   "id": "de78a455-529f-4cd0-a70d-1fea71977fa3",
   "metadata": {
    "execution": {
     "iopub.execute_input": "2025-05-18T16:01:46.607660Z",
     "iopub.status.busy": "2025-05-18T16:01:46.606690Z",
     "iopub.status.idle": "2025-05-18T16:01:46.649307Z",
     "shell.execute_reply": "2025-05-18T16:01:46.648385Z",
     "shell.execute_reply.started": "2025-05-18T16:01:46.607615Z"
    },
    "tags": []
   },
   "outputs": [
    {
     "data": {
      "text/plain": [
       "tensor(0.7861, grad_fn=<DivBackward0>)"
      ]
     },
     "execution_count": 54,
     "metadata": {},
     "output_type": "execute_result"
    }
   ],
   "source": [
    "t.mean()**2/(t**2).mean()"
   ]
  },
  {
   "cell_type": "code",
   "execution_count": null,
   "id": "b1fff068-eb95-45e5-b07b-0ebdaa6d72c8",
   "metadata": {},
   "outputs": [],
   "source": []
  }
 ],
 "metadata": {
  "kernelspec": {
   "display_name": "DataSphere Kernel",
   "language": "python",
   "name": "python3"
  },
  "language_info": {
   "codemirror_mode": {
    "name": "ipython",
    "version": 3
   },
   "file_extension": ".py",
   "mimetype": "text/x-python",
   "name": "python",
   "nbconvert_exporter": "python",
   "pygments_lexer": "ipython3",
   "version": "3.10.12"
  }
 },
 "nbformat": 4,
 "nbformat_minor": 5
}
